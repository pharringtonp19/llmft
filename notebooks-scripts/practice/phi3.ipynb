{
 "cells": [
  {
   "cell_type": "code",
   "execution_count": null,
   "metadata": {},
   "outputs": [],
   "source": [
    "import random\n",
    "import pandas as pd\n",
    "\n",
    "# Define some synthetic sequences and labels\n",
    "sequences = [\n",
    "    \"The weather today is sunny and warm.\",\n",
    "    \"I just finished reading a great book.\",\n",
    "    \"The movie last night was very exciting.\",\n",
    "    \"Artificial intelligence is transforming the world.\",\n",
    "    \"I love hiking in the mountains.\",\n",
    "    \"Cooking new recipes is a lot of fun.\",\n",
    "    \"The concert last weekend was amazing.\",\n",
    "    \"Python is a versatile programming language.\",\n",
    "    \"I enjoy watching sports on weekends.\",\n",
    "    \"Machine learning is a fascinating field.\"\n",
    "]\n",
    "\n",
    "# Generate synthetic labels (0 or 1) for binary classification\n",
    "labels = [random.randint(0, 1) for _ in range(len(sequences))]\n",
    "\n",
    "# Create a DataFrame\n",
    "data = pd.DataFrame({\n",
    "    'sequence': sequences,\n",
    "    'label': labels\n",
    "})\n",
    "\n",
    "# Display the synthetic dataset\n",
    "data\n"
   ]
  },
  {
   "cell_type": "code",
   "execution_count": null,
   "metadata": {},
   "outputs": [],
   "source": [
    "import numpy as np \n",
    "import re \n",
    "data_csv = f'./../../toy-data/exp2/data_1.csv'\n",
    "\n",
    "def remove_newlines(text):\n",
    "    return re.sub(r'\\n+', '', text)\n",
    "\n",
    "df = pd.read_csv(data_csv)\n",
    "df['Description'] = df['Description'].apply(lambda x: remove_newlines(x))\n",
    "\n",
    "\n",
    "# Subsample Observations\n",
    "indices = np.random.choice(df.index, size=32, replace=False)\n",
    "df = df.loc[indices].reset_index(drop=True)\n",
    "df['label'] = [random.randint(0, 1) for _ in range(df.shape[0])]\n",
    "df.head()"
   ]
  },
  {
   "cell_type": "code",
   "execution_count": null,
   "metadata": {},
   "outputs": [],
   "source": [
    "df[['Description', 'label']]"
   ]
  },
  {
   "cell_type": "code",
   "execution_count": null,
   "metadata": {},
   "outputs": [],
   "source": [
    "var = \"Description\"\n",
    "data = df"
   ]
  },
  {
   "cell_type": "code",
   "execution_count": null,
   "metadata": {},
   "outputs": [],
   "source": [
    "from transformers import AutoTokenizer, DataCollatorWithPadding\n",
    "from datasets import Dataset, DatasetDict\n",
    "from torch.utils.data import DataLoader\n",
    "\n",
    "\n",
    "model_id = \"microsoft/phi-3-mini-4k-instruct\" #\"microsoft/phi-3-mini-4k-instruct\" # \"meta-llama/Meta-Llama-3-8B-Instruct\" #\"meta-llama/Meta-Llama-3-8B\" # #\n",
    "tokenizer = AutoTokenizer.from_pretrained(model_id)\n",
    "tokenizer.pad_token_id = tokenizer.eos_token_id\n",
    "tokenizer.pad_token = tokenizer.eos_token\n",
    "\n",
    "def tokenizer_function(example):\n",
    "  return tokenizer(example[var], truncation=True, max_length=512)\n",
    "\n",
    "dataset = Dataset.from_dict(data[[var,'label']])\n",
    "tokenized_dataset = dataset.map(tokenizer_function, batched=True)\n",
    "tokenized_dataset = tokenized_dataset.remove_columns([var])\n",
    "\n",
    "data_loader = DataLoader(tokenized_dataset, batch_size=4, collate_fn=DataCollatorWithPadding(tokenizer), shuffle=False)\n"
   ]
  },
  {
   "cell_type": "code",
   "execution_count": null,
   "metadata": {},
   "outputs": [],
   "source": [
    "import torch\n",
    "from transformers import Phi3ForSequenceClassification, AdamW\n",
    "model_id = \"microsoft/phi-3-mini-4k-instruct\"\n",
    "\n",
    "# Load the model\n",
    "model = Phi3ForSequenceClassification.from_pretrained(model_id,\n",
    "                                                           device_map='auto',\n",
    "                                                           num_labels=2, \n",
    "                                                           torch_dtype=torch.bfloat16,\n",
    "                                                           attn_implementation=\"flash_attention_2\")\n",
    "\n",
    "# Define the optimizer\n",
    "optimizer = torch.optim.AdamW(model.parameters(), lr=5e-5)"
   ]
  },
  {
   "cell_type": "code",
   "execution_count": null,
   "metadata": {},
   "outputs": [],
   "source": [
    "device = torch.device(\"cuda\" if torch.cuda.is_available() else \"cpu\")\n",
    "print(f\"Device: {device}\")"
   ]
  },
  {
   "cell_type": "code",
   "execution_count": null,
   "metadata": {},
   "outputs": [],
   "source": [
    "losses = []\n",
    "\n",
    "model.train()\n",
    "for epoch in range(20):  # Training for 3 epochs\n",
    "    batch_loss = []\n",
    "    for batch in data_loader:\n",
    "        input_ids, attention_mask, labels = batch['input_ids'].to(device), batch['attention_mask'].to(device), batch['labels'].to(device)\n",
    "\n",
    "        # Forward pass\n",
    "        outputs = model(input_ids=input_ids, attention_mask=attention_mask)\n",
    "        logits = outputs.logits\n",
    "\n",
    "        # Calculate the loss\n",
    "        loss_fct = torch.nn.CrossEntropyLoss()\n",
    "        loss = loss_fct(logits, labels)\n",
    "        batch_loss.append(loss.detach().item())\n",
    "\n",
    "        # Backward pass and optimization\n",
    "        loss.backward()\n",
    "        optimizer.step()\n",
    "        optimizer.zero_grad()\n",
    "    losses.append(sum(batch_loss)/len(data_loader))\n",
    "\n",
    "    print(f\"Epoch {epoch + 1}, Loss: {losses[-1]}\")"
   ]
  },
  {
   "cell_type": "code",
   "execution_count": null,
   "metadata": {},
   "outputs": [],
   "source": [
    "import matplotlib.pyplot as plt \n",
    "plt.plot(losses)"
   ]
  },
  {
   "cell_type": "code",
   "execution_count": null,
   "metadata": {},
   "outputs": [],
   "source": []
  }
 ],
 "metadata": {
  "kernelspec": {
   "display_name": "llms",
   "language": "python",
   "name": "python3"
  },
  "language_info": {
   "codemirror_mode": {
    "name": "ipython",
    "version": 3
   },
   "file_extension": ".py",
   "mimetype": "text/x-python",
   "name": "python",
   "nbconvert_exporter": "python",
   "pygments_lexer": "ipython3",
   "version": "3.10.12"
  },
  "orig_nbformat": 4
 },
 "nbformat": 4,
 "nbformat_minor": 2
}
