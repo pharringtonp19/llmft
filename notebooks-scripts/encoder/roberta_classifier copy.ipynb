{
  "cells": [
    {
      "attachments": {},
      "cell_type": "markdown",
      "metadata": {},
      "source": [
        "#### **Import Libraries**"
      ]
    },
    {
      "cell_type": "code",
      "execution_count": 1,
      "metadata": {
        "id": "FDDJ-O96SxFE"
      },
      "outputs": [],
      "source": [
        "import torch\n",
        "from transformers import AutoModelForSequenceClassification, AutoTokenizer\n",
        "from datasets import load_dataset\n",
        "from huggingface_hub import notebook_login\n",
        "from transformers import TrainingArguments, Trainer, TrainerCallback, EarlyStoppingCallback\n",
        "from transformers import DataCollatorWithPadding\n",
        "import matplotlib.pyplot as plt\n",
        "from datasets import Dataset\n",
        "import transformers\n",
        "from torch.utils.data import DataLoader\n",
        "import numpy as np \n",
        "import torch\n",
        "from torch import nn\n",
        "from llmft.train import evaluate_model, train_one_epoch, EarlyStopping\n",
        "from llmft.metrics import compute_recall\n",
        "from llmft.losses import FocalLoss\n",
        "from llmft.utils import predict\n",
        "from llmft.generate import generate_dataset"
      ]
    },
    {
      "attachments": {},
      "cell_type": "markdown",
      "metadata": {},
      "source": [
        "#### **Set Up Device**"
      ]
    },
    {
      "cell_type": "code",
      "execution_count": 2,
      "metadata": {},
      "outputs": [
        {
          "name": "stdout",
          "output_type": "stream",
          "text": [
            "Device: cuda\n"
          ]
        }
      ],
      "source": [
        "device = torch.device(\"cuda\" if torch.cuda.is_available() else \"cpu\")\n",
        "print(f\"Device: {device}\")"
      ]
    },
    {
      "attachments": {},
      "cell_type": "markdown",
      "metadata": {},
      "source": [
        "#### **Tokenizer**"
      ]
    },
    {
      "cell_type": "code",
      "execution_count": 3,
      "metadata": {
        "colab": {
          "base_uri": "https://localhost:8080/"
        },
        "id": "j_ylfUoHXTu2",
        "outputId": "46440eb0-e252-4437-ca0a-cbb5fa6c8ae5"
      },
      "outputs": [
        {
          "name": "stdout",
          "output_type": "stream",
          "text": [
            "512\n"
          ]
        }
      ],
      "source": [
        "model_id = \"roberta-base\"\n",
        "tokenizer = AutoTokenizer.from_pretrained(model_id)\n",
        "tokenizer.model_max_length = 512\n",
        "print(tokenizer.model_max_length)\n",
        "\n",
        "def tokenizer_function(example):\n",
        "  return tokenizer(example[\"text\"], truncation=True)"
      ]
    },
    {
      "attachments": {},
      "cell_type": "markdown",
      "metadata": {},
      "source": [
        "#### **Dataset**"
      ]
    },
    {
      "cell_type": "code",
      "execution_count": 4,
      "metadata": {
        "id": "Jvn3uxXKUJzZ"
      },
      "outputs": [
        {
          "data": {
            "text/plain": [
              "638"
            ]
          },
          "execution_count": 4,
          "metadata": {},
          "output_type": "execute_result"
        }
      ],
      "source": [
        "# original_dataset = Dataset.from_dict(generate_dataset(total_entries=1000, flip_rate=0.1))\n",
        "# dataset = original_dataset.train_test_split(test_size=0.5, seed=42)\n",
        "# tokenized_dataset = dataset.map(tokenizer_function, batched=True)\n",
        "# tokenized_dataset = tokenized_dataset.remove_columns(\"text\")\n",
        "\n",
        "original_dataset = load_dataset(\"ppower1/instrument\")['train']\n",
        "def check_prefix(example):\n",
        "    example['type_indicator'] = 1 if example['text'].startswith('Yes') else 0\n",
        "    return example\n",
        "\n",
        "def filter_status(example):\n",
        "    return example['type_indicator'] == 1\n",
        "\n",
        "original_dataset = original_dataset.map(check_prefix)\n",
        "# original_dataset = original_dataset.filter(filter_status)\n",
        "subset_dataset = original_dataset.shuffle(seed=42).select(range(500))\n",
        "dataset = subset_dataset.train_test_split(test_size=0.5, seed=42)\n",
        "tokenized_dataset = dataset.map(tokenizer_function, batched=True)\n",
        "tokenized_dataset = tokenized_dataset.remove_columns(['text', 'treated text', 'control text', 'raw_label'])\n",
        "\n",
        "def count_tokens(example):\n",
        "    tokens = tokenizer.tokenize(example['text'])\n",
        "    return {\"num_tokens\": len(tokens)}\n",
        "\n",
        "max(dataset['train'].map(count_tokens)['num_tokens'])"
      ]
    },
    {
      "attachments": {},
      "cell_type": "markdown",
      "metadata": {},
      "source": [
        "#### **Hyperparameters**"
      ]
    },
    {
      "cell_type": "code",
      "execution_count": 5,
      "metadata": {},
      "outputs": [],
      "source": [
        "batch_size = 16\n",
        "epochs = 20"
      ]
    },
    {
      "attachments": {},
      "cell_type": "markdown",
      "metadata": {},
      "source": [
        "#### **DataLoaders**"
      ]
    },
    {
      "cell_type": "code",
      "execution_count": 6,
      "metadata": {},
      "outputs": [],
      "source": [
        "train_loader = DataLoader(tokenized_dataset['train'], batch_size=batch_size, collate_fn=DataCollatorWithPadding(tokenizer), shuffle=True)\n",
        "test_loader = DataLoader(tokenized_dataset['test'], batch_size=batch_size, collate_fn=DataCollatorWithPadding(tokenizer))"
      ]
    },
    {
      "attachments": {},
      "cell_type": "markdown",
      "metadata": {},
      "source": [
        "#### **Model**"
      ]
    },
    {
      "cell_type": "code",
      "execution_count": 7,
      "metadata": {},
      "outputs": [],
      "source": [
        "# labels = tokenized_dataset['train'].features['label'].names\n",
        "\n",
        "# num_labels = len(labels)\n",
        "# label2id, id2label = dict(), dict()\n",
        "# for i, label in enumerate(labels):\n",
        "#     label2id[label] = str(i)\n",
        "#     id2label[str(i)] = label \n",
        "num_labels=2"
      ]
    },
    {
      "cell_type": "code",
      "execution_count": 8,
      "metadata": {},
      "outputs": [
        {
          "name": "stderr",
          "output_type": "stream",
          "text": [
            "Some weights of RobertaForSequenceClassification were not initialized from the model checkpoint at roberta-base and are newly initialized: ['classifier.dense.bias', 'classifier.dense.weight', 'classifier.out_proj.bias', 'classifier.out_proj.weight']\n",
            "You should probably TRAIN this model on a down-stream task to be able to use it for predictions and inference.\n"
          ]
        }
      ],
      "source": [
        "model = AutoModelForSequenceClassification.from_pretrained(model_id,\n",
        "                                                           num_labels=num_labels)\n",
        "                                                        #    label2id=label2id,\n",
        "                                                        #    id2label=id2label)\n",
        "model = model.to(device)\n",
        "model = torch.compile(model)"
      ]
    },
    {
      "attachments": {},
      "cell_type": "markdown",
      "metadata": {},
      "source": [
        "#### **Optimizer and scheduler**"
      ]
    },
    {
      "cell_type": "code",
      "execution_count": 9,
      "metadata": {},
      "outputs": [],
      "source": [
        "optimizer = torch.optim.AdamW(model.parameters(), lr=1e-5)\n",
        "scheduler =transformers.optimization.get_linear_schedule_with_warmup(optimizer,int(0.5*len(train_loader)*epochs), len(train_loader)*epochs)"
      ]
    },
    {
      "cell_type": "code",
      "execution_count": 10,
      "metadata": {},
      "outputs": [
        {
          "name": "stdout",
          "output_type": "stream",
          "text": [
            "Relative Weights: tensor([0.5000, 0.5000], device='cuda:0')\n"
          ]
        }
      ],
      "source": [
        "# Assume 'class_counts' is a list containing the number of samples for each class\n",
        "total_samples = sum(original_dataset['label'])\n",
        "fraction_treated = sum(original_dataset['type_indicator'])/len(original_dataset)\n",
        "class_weights = torch.tensor([1/(1-fraction_treated), 1/fraction_treated], device=device)\n",
        "class_weights = torch.tensor([0.5, 0.5], device=device) #torch.tensor([1-total_treated/ len(original_dataset), total_treated/ len(original_dataset)], device=device)#torch.tensor([total_samples/ len(original_dataset), 1-total_samples/ len(original_dataset)], device=device)\n",
        "print(f\"Relative Weights: {class_weights}\")\n",
        "criterion = FocalLoss(alpha=class_weights, gamma=0., mode='output')"
      ]
    },
    {
      "cell_type": "code",
      "execution_count": 11,
      "metadata": {},
      "outputs": [
        {
          "name": "stdout",
          "output_type": "stream",
          "text": [
            "tensor([1, 0, 0, 0, 0, 1, 1, 0, 1, 0, 0, 0, 1, 0, 0, 0], device='cuda:0')\n",
            "tensor([0.5000, 0.5000, 0.5000, 0.5000, 0.5000, 0.5000, 0.5000, 0.5000, 0.5000,\n",
            "        0.5000, 0.5000, 0.5000, 0.5000, 0.5000, 0.5000, 0.5000],\n",
            "       device='cuda:0')\n"
          ]
        }
      ],
      "source": [
        "for batch in test_loader:\n",
        "    b = batch['type_indicator'].to(device)\n",
        "    print(b)\n",
        "    print(class_weights[b])\n",
        "    break"
      ]
    },
    {
      "attachments": {},
      "cell_type": "markdown",
      "metadata": {},
      "source": [
        "#### **Training**"
      ]
    },
    {
      "cell_type": "code",
      "execution_count": 12,
      "metadata": {
        "colab": {
          "base_uri": "https://localhost:8080/"
        },
        "id": "pNTBa9x39iD7",
        "outputId": "af4a7908-63d6-4eea-984e-5babc70eafb3"
      },
      "outputs": [
        {
          "name": "stderr",
          "output_type": "stream",
          "text": [
            "/home/ubuntu/llmft/llms/lib/python3.10/site-packages/torch/_inductor/compile_fx.py:124: UserWarning: TensorFloat32 tensor cores for float32 matrix multiplication available but not enabled. Consider setting `torch.set_float32_matmul_precision('high')` for better performance.\n",
            "  warnings.warn(\n"
          ]
        },
        {
          "name": "stdout",
          "output_type": "stream",
          "text": [
            "Validation loss improved (0.306590). Saving model...\n",
            "Validation loss improved (0.268569). Saving model...\n",
            "Validation loss improved (0.134014). Saving model...\n",
            "Validation loss improved (0.095824). Saving model...\n",
            "Validation loss improved (0.094065). Saving model...\n",
            "EarlyStopping counter: 1 out of 10\n",
            "EarlyStopping counter: 2 out of 10\n",
            "EarlyStopping counter: 3 out of 10\n",
            "Validation loss improved (0.093537). Saving model...\n",
            "Validation loss improved (0.092957). Saving model...\n",
            "EarlyStopping counter: 1 out of 10\n",
            "EarlyStopping counter: 2 out of 10\n",
            "Validation loss improved (0.090443). Saving model...\n",
            "Validation loss improved (0.089762). Saving model...\n",
            "Validation loss improved (0.085495). Saving model...\n",
            "EarlyStopping counter: 1 out of 10\n",
            "EarlyStopping counter: 2 out of 10\n",
            "Validation loss improved (0.083795). Saving model...\n",
            "EarlyStopping counter: 1 out of 10\n",
            "EarlyStopping counter: 2 out of 10\n"
          ]
        },
        {
          "data": {
            "text/plain": [
              "<All keys matched successfully>"
            ]
          },
          "execution_count": 12,
          "metadata": {},
          "output_type": "execute_result"
        }
      ],
      "source": [
        "mode = 'input'\n",
        "evaluation_losses = [evaluate_model(model, test_loader, criterion, device)]\n",
        "training_losses = [evaluate_model(model, train_loader, criterion, device)]\n",
        "early_stopping = EarlyStopping(patience=10, verbose=True)\n",
        "metric_history = []\n",
        "learning_rate_history = []\n",
        "\n",
        "for epoch in range(epochs):\n",
        "\n",
        "    train_loss, (recall, _), current_lr = train_one_epoch(model, train_loader, optimizer, scheduler, compute_recall, criterion, device)\n",
        "\n",
        "    training_losses.append(train_loss)\n",
        "    metric_history.append(recall)\n",
        "    learning_rate_history.append(current_lr)\n",
        "    \n",
        "    val_loss = evaluate_model(model, test_loader, criterion, device)\n",
        "    evaluation_losses.append(val_loss)\n",
        "    \n",
        "    # Call early stopping\n",
        "    early_stopping(val_loss, model, epoch)\n",
        "    if early_stopping.early_stop:\n",
        "        print(\"***Early stopping***\")\n",
        "        print(f\"Min Validation Loss: {early_stopping.best_epoch}\")\n",
        "        print(f\"Current Epoch: {epoch}\")\n",
        "        break\n",
        "\n",
        "model.load_state_dict(torch.load('checkpoint.pt'))"
      ]
    },
    {
      "cell_type": "code",
      "execution_count": 13,
      "metadata": {},
      "outputs": [
        {
          "data": {
            "text/plain": [
              "[tensor([0.9667, 0.0000]),\n",
              " tensor([0.9958, 0.0000]),\n",
              " tensor([1., 0.]),\n",
              " tensor([1., 0.]),\n",
              " tensor([1., 0.]),\n",
              " tensor([1., 0.]),\n",
              " tensor([1., 0.]),\n",
              " tensor([1., 0.]),\n",
              " tensor([1., 0.]),\n",
              " tensor([1., 0.]),\n",
              " tensor([1., 0.]),\n",
              " tensor([1., 0.]),\n",
              " tensor([1., 0.]),\n",
              " tensor([1., 0.]),\n",
              " tensor([1., 0.]),\n",
              " tensor([1., 0.]),\n",
              " tensor([1.0000, 0.1000]),\n",
              " tensor([1.0000, 0.1000]),\n",
              " tensor([1.0000, 0.2000]),\n",
              " tensor([1.0000, 0.2000])]"
            ]
          },
          "execution_count": 13,
          "metadata": {},
          "output_type": "execute_result"
        }
      ],
      "source": [
        "metric_history"
      ]
    },
    {
      "cell_type": "code",
      "execution_count": 14,
      "metadata": {},
      "outputs": [
        {
          "data": {
            "image/png": "[encoded data removed]",
            "text/plain": [
              "<Figure size 640x480 with 1 Axes>"
            ]
          },
          "metadata": {},
          "output_type": "display_data"
        }
      ],
      "source": [
        "plt.plot(learning_rate_history)\n",
        "plt.annotate(f'Class Weights: {criterion.alpha.cpu()}',\n",
        "            xy = (0.0, -0.12),\n",
        "            xycoords='axes fraction',\n",
        "            ha='left',\n",
        "            va=\"center\",\n",
        "            fontsize=8)\n",
        "plt.annotate(f'Scale Parameter: {criterion.gamma}',\n",
        "            xy = (0., -0.15),\n",
        "            xycoords='axes fraction',\n",
        "            ha='left',\n",
        "            va=\"center\",\n",
        "            fontsize=8)\n",
        "plt.show()"
      ]
    },
    {
      "cell_type": "code",
      "execution_count": 15,
      "metadata": {},
      "outputs": [
        {
          "data": {
            "image/png": "[encoded data removed]",
            "text/plain": [
              "<Figure size 640x480 with 1 Axes>"
            ]
          },
          "metadata": {},
          "output_type": "display_data"
        }
      ],
      "source": [
        "plt.plot(training_losses, label='Train')\n",
        "plt.plot(evaluation_losses, label='Test')\n",
        "plt.annotate(f'Class Weights: {criterion.alpha.cpu()}',\n",
        "            xy = (0.0, -0.12),\n",
        "            xycoords='axes fraction',\n",
        "            ha='left',\n",
        "            va=\"center\",\n",
        "            fontsize=8)\n",
        "plt.annotate(f'Scale Parameter: {criterion.gamma}',\n",
        "            xy = (0., -0.15),\n",
        "            xycoords='axes fraction',\n",
        "            ha='left',\n",
        "            va=\"center\",\n",
        "            fontsize=8)\n",
        "plt.legend()\n",
        "plt.show()"
      ]
    },
    {
      "cell_type": "code",
      "execution_count": 16,
      "metadata": {},
      "outputs": [
        {
          "data": {
            "image/png": "[encoded data removed]",
            "text/plain": [
              "<Figure size 640x480 with 1 Axes>"
            ]
          },
          "metadata": {},
          "output_type": "display_data"
        },
        {
          "data": {
            "image/png": "[encoded data removed]",
            "text/plain": [
              "<Figure size 640x480 with 1 Axes>"
            ]
          },
          "metadata": {},
          "output_type": "display_data"
        }
      ],
      "source": [
        "yhat, labels = predict(model, test_loader, device)\n",
        "plt.hist(yhat[np.array(1-labels).astype(bool)])\n",
        "plt.xlim(0, .1)\n",
        "plt.show()\n",
        "plt.hist(yhat[np.array(labels).astype(bool)])\n",
        "plt.xlim(0., 1.)\n",
        "plt.show()"
      ]
    }
  ],
  "metadata": {
    "accelerator": "GPU",
    "colab": {
      "gpuType": "T4",
      "provenance": []
    },
    "kernelspec": {
      "display_name": "Python 3",
      "name": "python3"
    },
    "language_info": {
      "codemirror_mode": {
        "name": "ipython",
        "version": 3
      },
      "file_extension": ".py",
      "mimetype": "text/x-python",
      "name": "python",
      "nbconvert_exporter": "python",
      "pygments_lexer": "ipython3",
      "version": "3.10.12"
    },
    "widgets": {
      "application/vnd.jupyter.widget-state+json": {
        "002a7cf1debc4000854c5ba79985727b": {
          "model_module": "@jupyter-widgets/controls",
          "model_module_version": "1.5.0",
          "model_name": "PasswordModel",
          "state": {
            "_dom_classes": [],
            "_model_module": "@jupyter-widgets/controls",
            "_model_module_version": "1.5.0",
            "_model_name": "PasswordModel",
            "_view_count": null,
            "_view_module": "@jupyter-widgets/controls",
            "_view_module_version": "1.5.0",
            "_view_name": "PasswordView",
            "continuous_update": true,
            "description": "Token:",
            "description_tooltip": null,
            "disabled": false,
            "layout": "IPY_MODEL_6645ce93fb744219a3a11c0cf76f0dad",
            "placeholder": "​",
            "style": "IPY_MODEL_4aff0dccd67d4ffd8734eea70e6fabbf",
            "value": ""
          }
        },
        "075f8b1c9dae4515855891a01bf70563": {
          "model_module": "@jupyter-widgets/controls",
          "model_module_version": "1.5.0",
          "model_name": "ButtonModel",
          "state": {
            "_dom_classes": [],
            "_model_module": "@jupyter-widgets/controls",
            "_model_module_version": "1.5.0",
            "_model_name": "ButtonModel",
            "_view_count": null,
            "_view_module": "@jupyter-widgets/controls",
            "_view_module_version": "1.5.0",
            "_view_name": "ButtonView",
            "button_style": "",
            "description": "Login",
            "disabled": false,
            "icon": "",
            "layout": "IPY_MODEL_30e5bac0e51344c4830f5eec195252a3",
            "style": "IPY_MODEL_c32c553124c14bd3b9034f7b4ab17def",
            "tooltip": ""
          }
        },
        "0918c2b32be2406abd181ff749bf7f20": {
          "model_module": "@jupyter-widgets/controls",
          "model_module_version": "1.5.0",
          "model_name": "VBoxModel",
          "state": {
            "_dom_classes": [],
            "_model_module": "@jupyter-widgets/controls",
            "_model_module_version": "1.5.0",
            "_model_name": "VBoxModel",
            "_view_count": null,
            "_view_module": "@jupyter-widgets/controls",
            "_view_module_version": "1.5.0",
            "_view_name": "VBoxView",
            "box_style": "",
            "children": [
              "IPY_MODEL_6d5c1e8e532e4cdb862833e2fb151ad6",
              "IPY_MODEL_002a7cf1debc4000854c5ba79985727b",
              "IPY_MODEL_a2a24235ab6f4fe098f5074e67d05a1b",
              "IPY_MODEL_075f8b1c9dae4515855891a01bf70563",
              "IPY_MODEL_86268575191848fea2caa2f7162aecfc"
            ],
            "layout": "IPY_MODEL_feb5d8ce29914216a63ad5e365990e34"
          }
        },
        "0fddb58215134a138703f44adc7abe08": {
          "model_module": "@jupyter-widgets/base",
          "model_module_version": "1.2.0",
          "model_name": "LayoutModel",
          "state": {
            "_model_module": "@jupyter-widgets/base",
            "_model_module_version": "1.2.0",
            "_model_name": "LayoutModel",
            "_view_count": null,
            "_view_module": "@jupyter-widgets/base",
            "_view_module_version": "1.2.0",
            "_view_name": "LayoutView",
            "align_content": null,
            "align_items": null,
            "align_self": null,
            "border": null,
            "bottom": null,
            "display": null,
            "flex": null,
            "flex_flow": null,
            "grid_area": null,
            "grid_auto_columns": null,
            "grid_auto_flow": null,
            "grid_auto_rows": null,
            "grid_column": null,
            "grid_gap": null,
            "grid_row": null,
            "grid_template_areas": null,
            "grid_template_columns": null,
            "grid_template_rows": null,
            "height": null,
            "justify_content": null,
            "justify_items": null,
            "left": null,
            "margin": null,
            "max_height": null,
            "max_width": null,
            "min_height": null,
            "min_width": null,
            "object_fit": null,
            "object_position": null,
            "order": null,
            "overflow": null,
            "overflow_x": null,
            "overflow_y": null,
            "padding": null,
            "right": null,
            "top": null,
            "visibility": null,
            "width": null
          }
        },
        "2dd84c9bdb8145ed8cf25f1a9e2ddc93": {
          "model_module": "@jupyter-widgets/controls",
          "model_module_version": "1.5.0",
          "model_name": "DescriptionStyleModel",
          "state": {
            "_model_module": "@jupyter-widgets/controls",
            "_model_module_version": "1.5.0",
            "_model_name": "DescriptionStyleModel",
            "_view_count": null,
            "_view_module": "@jupyter-widgets/base",
            "_view_module_version": "1.2.0",
            "_view_name": "StyleView",
            "description_width": ""
          }
        },
        "30e5bac0e51344c4830f5eec195252a3": {
          "model_module": "@jupyter-widgets/base",
          "model_module_version": "1.2.0",
          "model_name": "LayoutModel",
          "state": {
            "_model_module": "@jupyter-widgets/base",
            "_model_module_version": "1.2.0",
            "_model_name": "LayoutModel",
            "_view_count": null,
            "_view_module": "@jupyter-widgets/base",
            "_view_module_version": "1.2.0",
            "_view_name": "LayoutView",
            "align_content": null,
            "align_items": null,
            "align_self": null,
            "border": null,
            "bottom": null,
            "display": null,
            "flex": null,
            "flex_flow": null,
            "grid_area": null,
            "grid_auto_columns": null,
            "grid_auto_flow": null,
            "grid_auto_rows": null,
            "grid_column": null,
            "grid_gap": null,
            "grid_row": null,
            "grid_template_areas": null,
            "grid_template_columns": null,
            "grid_template_rows": null,
            "height": null,
            "justify_content": null,
            "justify_items": null,
            "left": null,
            "margin": null,
            "max_height": null,
            "max_width": null,
            "min_height": null,
            "min_width": null,
            "object_fit": null,
            "object_position": null,
            "order": null,
            "overflow": null,
            "overflow_x": null,
            "overflow_y": null,
            "padding": null,
            "right": null,
            "top": null,
            "visibility": null,
            "width": null
          }
        },
        "38345160080e4fcdbf0295f39ac4a00b": {
          "model_module": "@jupyter-widgets/base",
          "model_module_version": "1.2.0",
          "model_name": "LayoutModel",
          "state": {
            "_model_module": "@jupyter-widgets/base",
            "_model_module_version": "1.2.0",
            "_model_name": "LayoutModel",
            "_view_count": null,
            "_view_module": "@jupyter-widgets/base",
            "_view_module_version": "1.2.0",
            "_view_name": "LayoutView",
            "align_content": null,
            "align_items": null,
            "align_self": null,
            "border": null,
            "bottom": null,
            "display": null,
            "flex": null,
            "flex_flow": null,
            "grid_area": null,
            "grid_auto_columns": null,
            "grid_auto_flow": null,
            "grid_auto_rows": null,
            "grid_column": null,
            "grid_gap": null,
            "grid_row": null,
            "grid_template_areas": null,
            "grid_template_columns": null,
            "grid_template_rows": null,
            "height": null,
            "justify_content": null,
            "justify_items": null,
            "left": null,
            "margin": null,
            "max_height": null,
            "max_width": null,
            "min_height": null,
            "min_width": null,
            "object_fit": null,
            "object_position": null,
            "order": null,
            "overflow": null,
            "overflow_x": null,
            "overflow_y": null,
            "padding": null,
            "right": null,
            "top": null,
            "visibility": null,
            "width": null
          }
        },
        "4aff0dccd67d4ffd8734eea70e6fabbf": {
          "model_module": "@jupyter-widgets/controls",
          "model_module_version": "1.5.0",
          "model_name": "DescriptionStyleModel",
          "state": {
            "_model_module": "@jupyter-widgets/controls",
            "_model_module_version": "1.5.0",
            "_model_name": "DescriptionStyleModel",
            "_view_count": null,
            "_view_module": "@jupyter-widgets/base",
            "_view_module_version": "1.2.0",
            "_view_name": "StyleView",
            "description_width": ""
          }
        },
        "5cb279487e704235b85d1d038d90c41f": {
          "model_module": "@jupyter-widgets/base",
          "model_module_version": "1.2.0",
          "model_name": "LayoutModel",
          "state": {
            "_model_module": "@jupyter-widgets/base",
            "_model_module_version": "1.2.0",
            "_model_name": "LayoutModel",
            "_view_count": null,
            "_view_module": "@jupyter-widgets/base",
            "_view_module_version": "1.2.0",
            "_view_name": "LayoutView",
            "align_content": null,
            "align_items": null,
            "align_self": null,
            "border": null,
            "bottom": null,
            "display": null,
            "flex": null,
            "flex_flow": null,
            "grid_area": null,
            "grid_auto_columns": null,
            "grid_auto_flow": null,
            "grid_auto_rows": null,
            "grid_column": null,
            "grid_gap": null,
            "grid_row": null,
            "grid_template_areas": null,
            "grid_template_columns": null,
            "grid_template_rows": null,
            "height": null,
            "justify_content": null,
            "justify_items": null,
            "left": null,
            "margin": null,
            "max_height": null,
            "max_width": null,
            "min_height": null,
            "min_width": null,
            "object_fit": null,
            "object_position": null,
            "order": null,
            "overflow": null,
            "overflow_x": null,
            "overflow_y": null,
            "padding": null,
            "right": null,
            "top": null,
            "visibility": null,
            "width": null
          }
        },
        "6645ce93fb744219a3a11c0cf76f0dad": {
          "model_module": "@jupyter-widgets/base",
          "model_module_version": "1.2.0",
          "model_name": "LayoutModel",
          "state": {
            "_model_module": "@jupyter-widgets/base",
            "_model_module_version": "1.2.0",
            "_model_name": "LayoutModel",
            "_view_count": null,
            "_view_module": "@jupyter-widgets/base",
            "_view_module_version": "1.2.0",
            "_view_name": "LayoutView",
            "align_content": null,
            "align_items": null,
            "align_self": null,
            "border": null,
            "bottom": null,
            "display": null,
            "flex": null,
            "flex_flow": null,
            "grid_area": null,
            "grid_auto_columns": null,
            "grid_auto_flow": null,
            "grid_auto_rows": null,
            "grid_column": null,
            "grid_gap": null,
            "grid_row": null,
            "grid_template_areas": null,
            "grid_template_columns": null,
            "grid_template_rows": null,
            "height": null,
            "justify_content": null,
            "justify_items": null,
            "left": null,
            "margin": null,
            "max_height": null,
            "max_width": null,
            "min_height": null,
            "min_width": null,
            "object_fit": null,
            "object_position": null,
            "order": null,
            "overflow": null,
            "overflow_x": null,
            "overflow_y": null,
            "padding": null,
            "right": null,
            "top": null,
            "visibility": null,
            "width": null
          }
        },
        "6d5c1e8e532e4cdb862833e2fb151ad6": {
          "model_module": "@jupyter-widgets/controls",
          "model_module_version": "1.5.0",
          "model_name": "HTMLModel",
          "state": {
            "_dom_classes": [],
            "_model_module": "@jupyter-widgets/controls",
            "_model_module_version": "1.5.0",
            "_model_name": "HTMLModel",
            "_view_count": null,
            "_view_module": "@jupyter-widgets/controls",
            "_view_module_version": "1.5.0",
            "_view_name": "HTMLView",
            "description": "",
            "description_tooltip": null,
            "layout": "IPY_MODEL_5cb279487e704235b85d1d038d90c41f",
            "placeholder": "​",
            "style": "IPY_MODEL_8c96371fb423489e9a2bc33798c1fec1",
            "value": "<center> <img\nsrc=https://huggingface.co/front/assets/huggingface_logo-noborder.svg\nalt='Hugging Face'> <br> Copy a token from <a\nhref=\"https://huggingface.co/settings/tokens\" target=\"_blank\">your Hugging Face\ntokens page</a> and paste it below. <br> Immediately click login after copying\nyour token or it might be stored in plain text in this notebook file. </center>"
          }
        },
        "86268575191848fea2caa2f7162aecfc": {
          "model_module": "@jupyter-widgets/controls",
          "model_module_version": "1.5.0",
          "model_name": "HTMLModel",
          "state": {
            "_dom_classes": [],
            "_model_module": "@jupyter-widgets/controls",
            "_model_module_version": "1.5.0",
            "_model_name": "HTMLModel",
            "_view_count": null,
            "_view_module": "@jupyter-widgets/controls",
            "_view_module_version": "1.5.0",
            "_view_name": "HTMLView",
            "description": "",
            "description_tooltip": null,
            "layout": "IPY_MODEL_38345160080e4fcdbf0295f39ac4a00b",
            "placeholder": "​",
            "style": "IPY_MODEL_2dd84c9bdb8145ed8cf25f1a9e2ddc93",
            "value": "\n<b>Pro Tip:</b> If you don't already have one, you can create a dedicated\n'notebooks' token with 'write' access, that you can then easily reuse for all\nnotebooks. </center>"
          }
        },
        "8c96371fb423489e9a2bc33798c1fec1": {
          "model_module": "@jupyter-widgets/controls",
          "model_module_version": "1.5.0",
          "model_name": "DescriptionStyleModel",
          "state": {
            "_model_module": "@jupyter-widgets/controls",
            "_model_module_version": "1.5.0",
            "_model_name": "DescriptionStyleModel",
            "_view_count": null,
            "_view_module": "@jupyter-widgets/base",
            "_view_module_version": "1.2.0",
            "_view_name": "StyleView",
            "description_width": ""
          }
        },
        "a2a24235ab6f4fe098f5074e67d05a1b": {
          "model_module": "@jupyter-widgets/controls",
          "model_module_version": "1.5.0",
          "model_name": "CheckboxModel",
          "state": {
            "_dom_classes": [],
            "_model_module": "@jupyter-widgets/controls",
            "_model_module_version": "1.5.0",
            "_model_name": "CheckboxModel",
            "_view_count": null,
            "_view_module": "@jupyter-widgets/controls",
            "_view_module_version": "1.5.0",
            "_view_name": "CheckboxView",
            "description": "Add token as git credential?",
            "description_tooltip": null,
            "disabled": false,
            "indent": true,
            "layout": "IPY_MODEL_0fddb58215134a138703f44adc7abe08",
            "style": "IPY_MODEL_d77fd0448ee94e938c2fc4738d5cdba6",
            "value": true
          }
        },
        "c32c553124c14bd3b9034f7b4ab17def": {
          "model_module": "@jupyter-widgets/controls",
          "model_module_version": "1.5.0",
          "model_name": "ButtonStyleModel",
          "state": {
            "_model_module": "@jupyter-widgets/controls",
            "_model_module_version": "1.5.0",
            "_model_name": "ButtonStyleModel",
            "_view_count": null,
            "_view_module": "@jupyter-widgets/base",
            "_view_module_version": "1.2.0",
            "_view_name": "StyleView",
            "button_color": null,
            "font_weight": ""
          }
        },
        "d77fd0448ee94e938c2fc4738d5cdba6": {
          "model_module": "@jupyter-widgets/controls",
          "model_module_version": "1.5.0",
          "model_name": "DescriptionStyleModel",
          "state": {
            "_model_module": "@jupyter-widgets/controls",
            "_model_module_version": "1.5.0",
            "_model_name": "DescriptionStyleModel",
            "_view_count": null,
            "_view_module": "@jupyter-widgets/base",
            "_view_module_version": "1.2.0",
            "_view_name": "StyleView",
            "description_width": ""
          }
        },
        "feb5d8ce29914216a63ad5e365990e34": {
          "model_module": "@jupyter-widgets/base",
          "model_module_version": "1.2.0",
          "model_name": "LayoutModel",
          "state": {
            "_model_module": "@jupyter-widgets/base",
            "_model_module_version": "1.2.0",
            "_model_name": "LayoutModel",
            "_view_count": null,
            "_view_module": "@jupyter-widgets/base",
            "_view_module_version": "1.2.0",
            "_view_name": "LayoutView",
            "align_content": null,
            "align_items": "center",
            "align_self": null,
            "border": null,
            "bottom": null,
            "display": "flex",
            "flex": null,
            "flex_flow": "column",
            "grid_area": null,
            "grid_auto_columns": null,
            "grid_auto_flow": null,
            "grid_auto_rows": null,
            "grid_column": null,
            "grid_gap": null,
            "grid_row": null,
            "grid_template_areas": null,
            "grid_template_columns": null,
            "grid_template_rows": null,
            "height": null,
            "justify_content": null,
            "justify_items": null,
            "left": null,
            "margin": null,
            "max_height": null,
            "max_width": null,
            "min_height": null,
            "min_width": null,
            "object_fit": null,
            "object_position": null,
            "order": null,
            "overflow": null,
            "overflow_x": null,
            "overflow_y": null,
            "padding": null,
            "right": null,
            "top": null,
            "visibility": null,
            "width": "50%"
          }
        }
      }
    }
  },
  "nbformat": 4,
  "nbformat_minor": 0
}
