{
  "cells": [
    {
      "cell_type": "code",
      "execution_count": 1,
      "metadata": {
        "id": "FDDJ-O96SxFE"
      },
      "outputs": [],
      "source": [
        "import torch\n",
        "from transformers import AutoModelForSequenceClassification, AutoTokenizer\n",
        "from datasets import load_dataset\n",
        "from huggingface_hub import notebook_login\n",
        "from transformers import TrainingArguments, Trainer, TrainerCallback, EarlyStoppingCallback\n",
        "from transformers import DataCollatorWithPadding\n",
        "import matplotlib.pyplot as plt\n",
        "from datasets import Dataset\n",
        "from llmft.generate_data.rtc import generate_dataset\n",
        "import transformers\n",
        "from torch.utils.data import DataLoader\n",
        "import numpy as np "
      ]
    },
    {
      "cell_type": "code",
      "execution_count": 2,
      "metadata": {},
      "outputs": [
        {
          "name": "stdout",
          "output_type": "stream",
          "text": [
            "Device: cuda\n"
          ]
        }
      ],
      "source": [
        "# Setup device\n",
        "device = torch.device(\"cuda\" if torch.cuda.is_available() else \"cpu\")\n",
        "print(f\"Device: {device}\")"
      ]
    },
    {
      "cell_type": "code",
      "execution_count": 3,
      "metadata": {
        "colab": {
          "base_uri": "https://localhost:8080/"
        },
        "id": "j_ylfUoHXTu2",
        "outputId": "46440eb0-e252-4437-ca0a-cbb5fa6c8ae5"
      },
      "outputs": [
        {
          "name": "stdout",
          "output_type": "stream",
          "text": [
            "512\n"
          ]
        }
      ],
      "source": [
        "model_id = \"roberta-base\"\n",
        "tokenizer = AutoTokenizer.from_pretrained(model_id)\n",
        "tokenizer.model_max_length = 512\n",
        "print(tokenizer.model_max_length)"
      ]
    },
    {
      "cell_type": "code",
      "execution_count": 4,
      "metadata": {
        "id": "zlDb4gPrXAti"
      },
      "outputs": [],
      "source": [
        "def tokenizer_function(example):\n",
        "  return tokenizer(example[\"text\"], truncation=True)"
      ]
    },
    {
      "cell_type": "code",
      "execution_count": 5,
      "metadata": {
        "id": "Jvn3uxXKUJzZ"
      },
      "outputs": [
        {
          "data": {
            "application/vnd.jupyter.widget-view+json": {
              "model_id": "5008ced965074779a907abb491d4560a",
              "version_major": 2,
              "version_minor": 0
            },
            "text/plain": [
              "Map:   0%|          | 0/500 [00:00<?, ? examples/s]"
            ]
          },
          "metadata": {},
          "output_type": "display_data"
        }
      ],
      "source": [
        "# original_dataset = Dataset.from_dict(generate_dataset(total_entries=1000, flip_rate=0.))\n",
        "# dataset = original_dataset.train_test_split(test_size=0.5, seed=42)\n",
        "# tokenized_dataset = dataset.map(tokenizer_function, batched=True)\n",
        "# tokenized_dataset = tokenized_dataset.remove_columns(\"text\")\n",
        "\n",
        "\n",
        "original_dataset = load_dataset(\"ppower1/instrument\")['train']\n",
        "subset_dataset = original_dataset.shuffle(seed=42).select(range(1000))\n",
        "dataset = subset_dataset.train_test_split(test_size=0.5, seed=42)\n",
        "tokenized_dataset = dataset.map(tokenizer_function, batched=True)\n",
        "tokenized_dataset = tokenized_dataset.remove_columns(['text', 'treated text', 'control text', 'raw_label'])\n"
      ]
    },
    {
      "cell_type": "code",
      "execution_count": 6,
      "metadata": {
        "colab": {
          "base_uri": "https://localhost:8080/"
        },
        "id": "zEyxRpZw31LV",
        "outputId": "3627f5cd-24fe-4f2e-ee43-77b24202d748"
      },
      "outputs": [
        {
          "data": {
            "text/plain": [
              "674"
            ]
          },
          "execution_count": 6,
          "metadata": {},
          "output_type": "execute_result"
        }
      ],
      "source": [
        "def count_tokens(example):\n",
        "    tokens = tokenizer.tokenize(example['text'])\n",
        "    return {\"num_tokens\": len(tokens)}\n",
        "\n",
        "max(dataset['train'].map(count_tokens)['num_tokens'])"
      ]
    },
    {
      "attachments": {},
      "cell_type": "markdown",
      "metadata": {},
      "source": [
        "#### **Hyperparameters**"
      ]
    },
    {
      "cell_type": "code",
      "execution_count": 7,
      "metadata": {},
      "outputs": [],
      "source": [
        "batch_size = 16\n",
        "epochs = 20"
      ]
    },
    {
      "attachments": {},
      "cell_type": "markdown",
      "metadata": {},
      "source": [
        "#### **DataLoaders**"
      ]
    },
    {
      "cell_type": "code",
      "execution_count": 8,
      "metadata": {},
      "outputs": [],
      "source": [
        "train_loader = DataLoader(tokenized_dataset['train'], batch_size=batch_size, collate_fn=DataCollatorWithPadding(tokenizer), shuffle=True)\n",
        "test_loader = DataLoader(tokenized_dataset['test'], batch_size=batch_size, collate_fn=DataCollatorWithPadding(tokenizer))"
      ]
    },
    {
      "attachments": {},
      "cell_type": "markdown",
      "metadata": {},
      "source": [
        "#### **Optimizer and scheduler**"
      ]
    },
    {
      "cell_type": "code",
      "execution_count": 9,
      "metadata": {},
      "outputs": [
        {
          "name": "stderr",
          "output_type": "stream",
          "text": [
            "Some weights of RobertaForSequenceClassification were not initialized from the model checkpoint at roberta-base and are newly initialized: ['classifier.dense.bias', 'classifier.dense.weight', 'classifier.out_proj.bias', 'classifier.out_proj.weight']\n",
            "You should probably TRAIN this model on a down-stream task to be able to use it for predictions and inference.\n"
          ]
        }
      ],
      "source": [
        "model = AutoModelForSequenceClassification.from_pretrained(model_id)\n",
        "model = model.to(device)"
      ]
    },
    {
      "cell_type": "code",
      "execution_count": 10,
      "metadata": {},
      "outputs": [],
      "source": [
        "optimizer = torch.optim.AdamW(model.parameters(), lr=0.0001)\n",
        "scheduler =transformers.optimization.get_linear_schedule_with_warmup(optimizer,int(0.1*len(train_loader)*epochs), len(train_loader)*epochs)"
      ]
    },
    {
      "cell_type": "code",
      "execution_count": 11,
      "metadata": {},
      "outputs": [],
      "source": [
        "# Initialize variables for callback simulation\n",
        "best_loss = float('inf')\n",
        "best_epoch = None\n",
        "evaluated_at_first_step = False"
      ]
    },
    {
      "cell_type": "code",
      "execution_count": 12,
      "metadata": {},
      "outputs": [],
      "source": [
        "class EarlyStopping:\n",
        "    def __init__(self, patience=5, verbose=False, delta=0, path='checkpoint.pt', trace_func=print):\n",
        "        \"\"\"\n",
        "        Args:\n",
        "            patience (int): How many epochs to wait after last time validation loss improved.\n",
        "                            Default: 5\n",
        "            verbose (bool): If True, prints a message for each validation loss improvement. \n",
        "                            Default: False\n",
        "            delta (float): Minimum change in the monitored quantity to qualify as an improvement.\n",
        "                            Default: 0\n",
        "            path (str): Path for the checkpoint to be saved to.\n",
        "                            Default: 'checkpoint.pt'\n",
        "            trace_func (function): trace print function.\n",
        "                            Default: print\n",
        "        \"\"\"\n",
        "        self.patience = patience\n",
        "        self.verbose = verbose\n",
        "        self.counter = 0\n",
        "        self.best_score = None\n",
        "        self.early_stop = False\n",
        "        self.val_loss_min = float('inf')\n",
        "        self.delta = delta\n",
        "        self.path = path\n",
        "        self.trace_func = trace_func\n",
        "\n",
        "    def __call__(self, val_loss, model):\n",
        "        score = -val_loss\n",
        "\n",
        "        if self.best_score is None:\n",
        "            self.best_score = score\n",
        "            self.save_checkpoint(val_loss, model)\n",
        "        elif score < self.best_score + self.delta:\n",
        "            self.counter += 1\n",
        "            self.trace_func(f'EarlyStopping counter: {self.counter} out of {self.patience}')\n",
        "            if self.counter >= self.patience:\n",
        "                self.early_stop = True\n",
        "        else:\n",
        "            self.best_score = score\n",
        "            self.save_checkpoint(val_loss, model)\n",
        "            self.counter = 0\n",
        "\n",
        "    def save_checkpoint(self, val_loss, model):\n",
        "        \"\"\"Saves model when validation loss decrease.\"\"\"\n",
        "        if self.verbose:\n",
        "            self.trace_func(f'Validation loss decreased ({self.val_loss_min:.6f} --> {val_loss:.6f}).  Saving model ...')\n",
        "        torch.save(model.state_dict(), self.path)\n",
        "        self.val_loss_min = val_loss"
      ]
    },
    {
      "cell_type": "code",
      "execution_count": 13,
      "metadata": {},
      "outputs": [],
      "source": [
        "def predict(model, data_loader):\n",
        "    model.eval()  # Set the model to evaluation mode.\n",
        "    predictions = []\n",
        "    with torch.no_grad():  # No gradients needed for predictions.\n",
        "        for batch in data_loader:\n",
        "            # Assuming your batch only includes input data and not labels.\n",
        "            batch = {k: v.to(device) for k, v in batch.items() if v.dtype in [torch.float32, torch.int64]}  # Move to device\n",
        "\n",
        "            outputs = model(**batch).logits  # Get model outputs\n",
        "            probs = torch.nn.functional.softmax(outputs, dim=1)[:,1]\n",
        "            predictions.extend(probs.cpu().numpy())\n",
        "\n",
        "    return np.array(predictions)"
      ]
    },
    {
      "cell_type": "code",
      "execution_count": 14,
      "metadata": {},
      "outputs": [],
      "source": [
        "def evaluate_model(model, data_loader, device):\n",
        "    model.eval()\n",
        "    total_loss = 0\n",
        "    with torch.no_grad():\n",
        "        for batch in data_loader:\n",
        "            batch = {k: v.to(device) for k, v in batch.items()}\n",
        "            outputs = model(**batch)\n",
        "            loss = outputs.loss\n",
        "            total_loss += loss.item()\n",
        "    return total_loss / len(data_loader)"
      ]
    },
    {
      "cell_type": "code",
      "execution_count": 15,
      "metadata": {},
      "outputs": [
        {
          "name": "stdout",
          "output_type": "stream",
          "text": [
            "Relative Weights: tensor([0.0636, 0.9364], device='cuda:0')\n"
          ]
        }
      ],
      "source": [
        "from torch import nn\n",
        "\n",
        "# Assume 'class_counts' is a list containing the number of samples for each class\n",
        "total_samples = sum(original_dataset['label'])\n",
        "class_weights = torch.tensor([total_samples/ len(original_dataset), 1-total_samples/ len(original_dataset)], device=device)\n",
        "print(f\"Relative Weights: {class_weights}\")\n",
        "\n",
        "# Create a weighted loss function\n",
        "criterion = nn.CrossEntropyLoss(weight=class_weights)\n",
        "\n",
        "def train_one_epoch(model, train_loader, optimizer, scheduler, criterion, device):\n",
        "    model.train()\n",
        "    total_loss = 0\n",
        "    for batch in train_loader:\n",
        "        input_ids, attention_mask, labels = batch['input_ids'].to(device),  batch['attention_mask'].to(device), batch['labels'].to(device)\n",
        "        optimizer.zero_grad()\n",
        "        outputs = model(input_ids, attention_mask)\n",
        "        logits = outputs.logits  # Extract logits from the model output\n",
        "        loss = criterion(logits, labels)\n",
        "        loss.backward()\n",
        "        optimizer.step()\n",
        "        scheduler.step()\n",
        "        total_loss += loss.item()\n",
        "    average_loss = total_loss / len(train_loader)\n",
        "    return average_loss\n"
      ]
    },
    {
      "cell_type": "code",
      "execution_count": 16,
      "metadata": {
        "colab": {
          "base_uri": "https://localhost:8080/"
        },
        "id": "pNTBa9x39iD7",
        "outputId": "af4a7908-63d6-4eea-984e-5babc70eafb3"
      },
      "outputs": [
        {
          "name": "stdout",
          "output_type": "stream",
          "text": [
            "Validation loss decreased (inf --> 0.492625).  Saving model ...\n",
            "Validation loss decreased (0.492625 --> 0.440664).  Saving model ...\n",
            "Validation loss decreased (0.440664 --> 0.363726).  Saving model ...\n",
            "EarlyStopping counter: 1 out of 3\n",
            "EarlyStopping counter: 2 out of 3\n",
            "EarlyStopping counter: 3 out of 3\n",
            "Early stopping\n"
          ]
        },
        {
          "data": {
            "text/plain": [
              "<All keys matched successfully>"
            ]
          },
          "execution_count": 16,
          "metadata": {},
          "output_type": "execute_result"
        }
      ],
      "source": [
        "evaluation_losses = [evaluate_model(model, test_loader, device)]\n",
        "training_losses = [evaluate_model(model, train_loader, device)]\n",
        "early_stopping = EarlyStopping(patience=3, verbose=True)\n",
        "\n",
        "for epoch in range(epochs):\n",
        "\n",
        "    train_loss = train_one_epoch(model, train_loader, optimizer, scheduler, criterion, device)\n",
        "    training_losses.append(train_loss)\n",
        "    \n",
        "    val_loss = evaluate_model(model, test_loader, device)\n",
        "    evaluation_losses.append(val_loss)\n",
        "    \n",
        "    # Call early stopping\n",
        "    early_stopping(val_loss, model)\n",
        "    \n",
        "    if early_stopping.early_stop:\n",
        "        print(\"Early stopping\")\n",
        "        break\n",
        "\n",
        "model.load_state_dict(torch.load('checkpoint.pt'))\n"
      ]
    },
    {
      "cell_type": "code",
      "execution_count": 17,
      "metadata": {},
      "outputs": [
        {
          "data": {
            "image/png": "[encoded data removed]",
            "text/plain": [
              "<Figure size 640x480 with 1 Axes>"
            ]
          },
          "metadata": {},
          "output_type": "display_data"
        }
      ],
      "source": [
        "plt.plot(training_losses, label='Train')\n",
        "plt.plot(evaluation_losses, label='Test')\n",
        "plt.legend()\n",
        "plt.show()"
      ]
    },
    {
      "cell_type": "code",
      "execution_count": 18,
      "metadata": {},
      "outputs": [
        {
          "data": {
            "image/png": "[encoded data removed]",
            "text/plain": [
              "<Figure size 640x480 with 1 Axes>"
            ]
          },
          "metadata": {},
          "output_type": "display_data"
        }
      ],
      "source": [
        "plt.hist(predict(model, train_loader))\n",
        "plt.show()"
      ]
    },
    {
      "cell_type": "code",
      "execution_count": 19,
      "metadata": {},
      "outputs": [
        {
          "data": {
            "text/plain": [
              "20"
            ]
          },
          "execution_count": 19,
          "metadata": {},
          "output_type": "execute_result"
        }
      ],
      "source": [
        "np.sum(np.array(dataset['train']['label']))"
      ]
    },
    {
      "cell_type": "code",
      "execution_count": 20,
      "metadata": {},
      "outputs": [
        {
          "data": {
            "text/plain": [
              "[\"No, the Right to Counsel is not in effect in the tenant's zip code. The complaint filed by MATTA, LLC against Fatima F Alves and Richard S. Collazo states that MATTA, LLC is the owner of a property located at [ADDRESS] in Waterbury, Connecticut. The defendants have been leasing the premises on a month-to-month basis, and the lease has now expired. The plaintiff has given notice to the defendants on June 23, 2022, to vacate the premises by August 1, 2022. However, the defendants have failed to comply with the notice and continue to occupy the property. The plaintiff is seeking immediate possession of the premises and does not seek any monetary damages. The complaint was filed on August 2, 2022, and the return date is set for August 12, 2022. The complaint includes a copy of the notice to quit possession served on the defendants. True or False: The tenant has legal representation.\",\n",
              " 'No, the Right to Counsel is not in effect in the tenant\\'s zip code. The complaint is a summons for a summary process (eviction) action in the State of Connecticut. The plaintiff, Reverse Mortgage Solutions, Inc., became the record owner of the premises located at 55 Coventry Circle, North Haven, CT XXXXX as a result of a foreclosure action. The defendants, Florance A. Andreas n/k/a Florence A. Andreas, John Doe I, John Doe II, and Jane Doe I, entered into possession of the premises before January 27, 2022. The plaintiff does not know the names of the other occupants.\\n\\nThe complaint states that the defendants\\' right or privilege to occupy the premises has terminated. The plaintiff served a \"Change of Ownership and Notice to Vacate\" on the defendants on February 28, 2022, informing them of their possible rights under the Federal Protecting Tenants at Foreclosure Act of 2009 and Conn. Gen. Stat. §49-31p. The plaintiff also served a notice to quit possession of the premises on or before July 15, 2022. However, the defendants continue to occupy the premises.\\n\\nThe plaintiff is seeking judgment for immediate possession of the premises. The complaint is signed by Justin Ortega of McCalla Raymer Leibert Pierce, LLC, the attorney or law firm appearing for the plaintiff. The attached exhibits include a copy of the deed showing the plaintiff\\'s ownership of the premises and the foreclosure judgment. True or False: The tenant has legal representation.',\n",
              " \"Yes, the Right to Counsel is in effect in the tenant's zip code. The complaint filed by 424-[ADDRESS] NB LLC against Jose Martinez, Awilda Echevarria, John Doe, and Jane Doe alleges multiple counts related to the lease agreement for the premises located at 424-[ADDRESS], #2, New Britain, CT XXXXX.\\n\\nCount One states that on October 1, 2021, the plaintiffs and defendants entered into an oral lease agreement for the premises. The defendants agreed to pay a monthly rent of $800. The lease has now terminated by lapse of time. On March 16, 2022, the plaintiffs served a Notice to Quit Possession on the defendants, requiring them to vacate the premises by April 1, 2022. However, the defendants have failed to move out.\\n\\nCount Two reiterates the same facts as Count One, emphasizing that the defendants have continued to occupy the premises despite the expiration of the Notice to Quit Possession.\\n\\nCount Three incorporates the allegations from Counts One and Two and adds that the defendants previously had the right or privilege to occupy the premises, but that right or privilege has now terminated.\\n\\nCount Four alleges that the defendants have also failed to pay rent due on January 1, 2022, February 1, 2022, and March 1, 2022, as agreed upon in the lease agreement.\\n\\nThe plaintiffs seek a judgment for immediate possession of the premises. The complaint is dated April 11, 2022, and is filed by Beniamir Shehu on behalf of 424-[ADDRESS] NB LLC. True or False: The tenant has legal representation.\",\n",
              " \"No, the Right to Counsel is not in effect in the tenant's zip code. This is a summary process complaint filed in the Superior Court of Connecticut for nonpayment of rent. The plaintiff, who is the landlord, alleges that the defendant, who is the tenant, agreed to rent the premises located at [ADDRESS]. WTBy, Ct. 1st floor for a term of one week/month/year. The defendant agreed to pay $950.00 weekly/monthly on the 1st day of each week/month. However, the defendant has not paid the rent due on 9-1-22/100122 as agreed in the lease.\\n\\nThe plaintiff served a Notice to Quit (End) Possession on the defendant on 10-11-12, which required the defendant to move out of the premises on or before 10-16-22. The time given in the notice has ended, but the defendant has not vacated the premises.\\n\\nThe plaintiff is seeking judgment for immediate possession of the premises and forfeiture of the defendant's possessions and personal effects because this is a nonresidential property. The complaint is signed by the plaintiff or plaintiff's attorney on 10-19-22. True or False: The tenant has legal representation.\",\n",
              " \"No, the Right to Counsel is not in effect in the tenant's zip code. This is a summary process complaint filed by James V. Horanzy, the plaintiff/landlord, against Tricia Angus, Kevin Katham, and Dylan Angus, the defendants/tenants. The complaint states that in April or May of 2017, Tricia Angus entered into a month-to-month rental agreement for the property located at [ADDRESS], Suffield, Connecticut, with a monthly rental rate of $1,600. Tricia Angus took possession of the premises during that time.\\n\\nThe complaint alleges that starting in February 2022, Tricia Angus failed to pay rent. On May 17, 2022, the plaintiff's attorney served Tricia Angus with a Notice to Quit Possession of the Premises, requiring her to vacate the property by May 23, 2022. However, Tricia Angus has not complied with the notice and continues to occupy the premises.\\n\\nCount I of the complaint seeks to evict Tricia Angus for nonpayment of rent, pursuant to C.G.S. §47A-23(a)(1)(D). Count II alleges that Kevin Katham, who began residing at the premises after April or May 2017, also continues to occupy the property despite being served with a Notice to Quit Possession. Count III makes the same claim against Dylan Angus, who also began residing at the premises after April or May 2017.\\n\\nThe plaintiff requests a judgment for possession of the premises and any other legal and equitable relief deemed appropriate by the court. The complaint includes exhibits, such as the original Notice to Quit Possession served on each defendant. The plaintiff is represented by the Law Office of Robert J. Williams, Jr. True or False: The tenant has legal representation.\",\n",
              " \"No, the Right to Counsel is not in effect in the tenant's zip code. This is a summary process (eviction) complaint filed in the Superior Court of Connecticut. The plaintiff/landlord, Kurt Gelder, is seeking to terminate the lease agreement with the defendant/tenant, Ricky Volo, due to the lapse of time. The lease agreement, either oral or written, was entered into on September 1, 2022, for a term of one month. The rented property is located at [ADDRESS] 2nd Floor, Ansonia Gt. D6491.\\n\\nThe defendant/tenant agreed to pay $1,400 weekly on the 1st day of each week for a 12-month term. The defendant/tenant has used and occupied the premises as agreed under the lease and is still occupying the premises.\\n\\nThe lease has terminated by lapse of time, and on April 22, 2022, the plaintiff/landlord served a Notice to Quit (End) Possession (form JD-HM-7) on the defendant/tenant, requiring them to move out of the premises on or before April 30, 2022. However, the defendant/tenant has not moved out despite the expiration of the notice period.\\n\\nThe plaintiff/landlord is seeking judgment for immediate possession of the premises and forfeiture of the defendant's/tenant's possessions and personal effects since this is a nonresidential property.\\n\\nThe complaint is signed by the plaintiff/landlord or their attorney, Panda Jelen Kart Gelder, on February 15, 2022. The return date for the complaint is May 13, 2022. True or False: The tenant has legal representation.\",\n",
              " \"No, the Right to Counsel is not in effect in the tenant's zip code. The complaint filed by SZE Realty, LLC against Admirangelique Morales, Miguel Angel Ocasio, John Doe, and Jane Doe alleges four counts. \\n\\nCount One is for nonpayment of rent. The complaint states that on or about June 5, 2020, the plaintiff and defendants entered into a written lease for the residential premises located at 1120-[ADDRESS], 1st Floor Right, Bridgeport, CT XXXXX. The lease had an initial term of one year and successive terms of one month each. The agreed monthly rent is $950. The defendants failed to pay the rent due on March 1, 2022, and previous months within the grace period provided by Connecticut General Statutes. The plaintiff served a Notice to Quit Possession on March 25, 2022, requiring the defendants to vacate the premises by March 31, 2022. However, the defendants continue to occupy the premises and refuse to vacate.\\n\\nCount Two is for no right or privilege and is specifically against John Doe and Jane Doe. The plaintiff alleges that these defendants entered into possession of the premises without the plaintiff's permission and against the terms and conditions of the lease. They have continued to occupy the premises without any right or privilege to do so. The plaintiff has made efforts to determine their true identity.\\n\\nCount Three is for the termination of the right or privilege to occupy the premises. The allegations in this count are similar to Count One, with the addition that any right or privilege the defendants may have had to occupy the premises has been terminated.\\n\\nCount Four is for the lapse of time. The complaint states that the plaintiff and defendants entered into a written lease on or about June 5, 2020, with an initial term of one year and successive terms of one month each. The defendants still occupy the premises, but the lease has terminated due to the lapse of time.\\n\\nThe plaintiff, SZE Realty, LLC, is seeking judgment for immediate possession of the premises under all four counts of the complaint. The complaint is dated April 7, 2022, and is filed by Rocco J. Tirozzi of the Weisman Law Firm, LLC. True or False: The tenant has legal representation.\",\n",
              " \"Yes, the Right to Counsel is in effect in the tenant's zip code. The complaint filed by Stephen Kolodziej against Diane Poulot states that Kolodziej is the owner of a single-family house located at [ADDRESS], New Britain, Connecticut. On February 3, 2020, Kolodziej allowed Poulot to move into the premises and reside with him without a rental agreement. However, Kolodziej no longer wishes for Poulot to reside with him and has requested her to vacate the premises. Despite this request, Poulot refuses to leave. The complaint further states that Poulot once had the right or privilege to occupy the premises, but that right or privilege has now terminated. Despite a notice served on May 10, 2022, requiring Poulot to vacate the premises by May 17, 2022, she continues to occupy the premises. As a result, Kolodziej is seeking a judgment for immediate possession of the premises. True or False: The tenant has legal representation.\",\n",
              " \"Yes, the Right to Counsel is in effect in the tenant's zip code. This is a summary process eviction complaint filed in the Superior Court of Connecticut. The complaint is based on nonpayment of rent. The plaintiff, identified as Jose DeJuan, is the landlord, and the defendant, Marianne Delgado, is the tenant. The rented property is located at [ADDRESS], 3-South, New Britain, CT XXXXX.\\n\\nAccording to the complaint, the plaintiff and defendant entered into an agreement, either orally or through a written lease, on January 1, 2021. The term of the lease is stated as one month. The defendant agreed to pay $885.00 monthly on the first day of each month.\\n\\nHowever, the defendant has failed to pay the rent due on February 1, 2022, and March 1, 2022, as agreed upon in the lease. On April 2, 2022, the plaintiff served a Notice to Quit (End) Possession (form JD-HM-7) on the defendant, requiring her to vacate the premises by April 6, 2022. The Notice to Quit (End) Possession is attached to the complaint.\\n\\nDespite the expiration of the time given in the notice, the defendant has not moved out of the premises. Therefore, the plaintiff is seeking judgment for immediate possession of the premises. Additionally, since this is a nonresidential property, the plaintiff is also requesting forfeiture of the defendant's possessions and personal effects.\\n\\nThe complaint is signed by the plaintiff on April 13, 2022. True or False: The tenant has legal representation.\",\n",
              " \"No, the Right to Counsel is not in effect in the tenant's zip code. The complaint filed in the housing court is a Summary Process (Eviction) Complaint for Termination of Lease by Lapse of Time. The plaintiff, the Estate of Judith A. Schwarzenberg, is the landlord, and the defendants, Austen Davelaar and Jocelyn Davelaar, are the tenants. The complaint states that on or about June 1, 2016, the plaintiff and defendants entered into a lease agreement for the premises located at 137 Bradley Terrace, Derby, CT XXXXX. The lease was for a term of one month, and the defendants agreed to pay $0.00 weekly. The complaint alleges that the defendants have used and occupied the premises as agreed under the lease but have not moved out after the lease terminated by lapse of time. On March 24, 2022, the plaintiff served a Notice to Quit (End) Possession on the defendants, requiring them to move out of the premises on or before April 28, 2022. However, the defendants have not complied with the notice and have not moved out. The plaintiff is seeking judgment for immediate possession of the premises and forfeiture of the defendants' possessions and personal effects because the property is nonresidential. The complaint also includes an Affidavit of Compliance with or Non-Applicability of the Federal CARES Act, stating that the premises are not covered by the CARES Act. The complaint is dated May 31, 2022, and the return date is set for June 21, 2022. True or False: The tenant has legal representation.\"]"
            ]
          },
          "execution_count": 20,
          "metadata": {},
          "output_type": "execute_result"
        }
      ],
      "source": [
        "dataset['train']['text'][:10]"
      ]
    },
    {
      "cell_type": "code",
      "execution_count": 21,
      "metadata": {},
      "outputs": [
        {
          "data": {
            "text/plain": [
              "SequenceClassifierOutput(loss=None, logits=tensor([[ 0.7080, -0.3166]], device='cuda:0', grad_fn=<AddmmBackward0>), hidden_states=None, attentions=None)"
            ]
          },
          "execution_count": 21,
          "metadata": {},
          "output_type": "execute_result"
        }
      ],
      "source": [
        "model(**tokenizer(dataset['train']['text'][0], return_tensors=\"pt\").to('cuda'))"
      ]
    },
    {
      "cell_type": "code",
      "execution_count": null,
      "metadata": {},
      "outputs": [],
      "source": []
    }
  ],
  "metadata": {
    "accelerator": "GPU",
    "colab": {
      "gpuType": "T4",
      "provenance": []
    },
    "kernelspec": {
      "display_name": "Python 3",
      "name": "python3"
    },
    "language_info": {
      "codemirror_mode": {
        "name": "ipython",
        "version": 3
      },
      "file_extension": ".py",
      "mimetype": "text/x-python",
      "name": "python",
      "nbconvert_exporter": "python",
      "pygments_lexer": "ipython3",
      "version": "3.10.12"
    },
    "widgets": {
      "application/vnd.jupyter.widget-state+json": {
        "002a7cf1debc4000854c5ba79985727b": {
          "model_module": "@jupyter-widgets/controls",
          "model_module_version": "1.5.0",
          "model_name": "PasswordModel",
          "state": {
            "_dom_classes": [],
            "_model_module": "@jupyter-widgets/controls",
            "_model_module_version": "1.5.0",
            "_model_name": "PasswordModel",
            "_view_count": null,
            "_view_module": "@jupyter-widgets/controls",
            "_view_module_version": "1.5.0",
            "_view_name": "PasswordView",
            "continuous_update": true,
            "description": "Token:",
            "description_tooltip": null,
            "disabled": false,
            "layout": "IPY_MODEL_6645ce93fb744219a3a11c0cf76f0dad",
            "placeholder": "​",
            "style": "IPY_MODEL_4aff0dccd67d4ffd8734eea70e6fabbf",
            "value": ""
          }
        },
        "075f8b1c9dae4515855891a01bf70563": {
          "model_module": "@jupyter-widgets/controls",
          "model_module_version": "1.5.0",
          "model_name": "ButtonModel",
          "state": {
            "_dom_classes": [],
            "_model_module": "@jupyter-widgets/controls",
            "_model_module_version": "1.5.0",
            "_model_name": "ButtonModel",
            "_view_count": null,
            "_view_module": "@jupyter-widgets/controls",
            "_view_module_version": "1.5.0",
            "_view_name": "ButtonView",
            "button_style": "",
            "description": "Login",
            "disabled": false,
            "icon": "",
            "layout": "IPY_MODEL_30e5bac0e51344c4830f5eec195252a3",
            "style": "IPY_MODEL_c32c553124c14bd3b9034f7b4ab17def",
            "tooltip": ""
          }
        },
        "0918c2b32be2406abd181ff749bf7f20": {
          "model_module": "@jupyter-widgets/controls",
          "model_module_version": "1.5.0",
          "model_name": "VBoxModel",
          "state": {
            "_dom_classes": [],
            "_model_module": "@jupyter-widgets/controls",
            "_model_module_version": "1.5.0",
            "_model_name": "VBoxModel",
            "_view_count": null,
            "_view_module": "@jupyter-widgets/controls",
            "_view_module_version": "1.5.0",
            "_view_name": "VBoxView",
            "box_style": "",
            "children": [
              "IPY_MODEL_6d5c1e8e532e4cdb862833e2fb151ad6",
              "IPY_MODEL_002a7cf1debc4000854c5ba79985727b",
              "IPY_MODEL_a2a24235ab6f4fe098f5074e67d05a1b",
              "IPY_MODEL_075f8b1c9dae4515855891a01bf70563",
              "IPY_MODEL_86268575191848fea2caa2f7162aecfc"
            ],
            "layout": "IPY_MODEL_feb5d8ce29914216a63ad5e365990e34"
          }
        },
        "0fddb58215134a138703f44adc7abe08": {
          "model_module": "@jupyter-widgets/base",
          "model_module_version": "1.2.0",
          "model_name": "LayoutModel",
          "state": {
            "_model_module": "@jupyter-widgets/base",
            "_model_module_version": "1.2.0",
            "_model_name": "LayoutModel",
            "_view_count": null,
            "_view_module": "@jupyter-widgets/base",
            "_view_module_version": "1.2.0",
            "_view_name": "LayoutView",
            "align_content": null,
            "align_items": null,
            "align_self": null,
            "border": null,
            "bottom": null,
            "display": null,
            "flex": null,
            "flex_flow": null,
            "grid_area": null,
            "grid_auto_columns": null,
            "grid_auto_flow": null,
            "grid_auto_rows": null,
            "grid_column": null,
            "grid_gap": null,
            "grid_row": null,
            "grid_template_areas": null,
            "grid_template_columns": null,
            "grid_template_rows": null,
            "height": null,
            "justify_content": null,
            "justify_items": null,
            "left": null,
            "margin": null,
            "max_height": null,
            "max_width": null,
            "min_height": null,
            "min_width": null,
            "object_fit": null,
            "object_position": null,
            "order": null,
            "overflow": null,
            "overflow_x": null,
            "overflow_y": null,
            "padding": null,
            "right": null,
            "top": null,
            "visibility": null,
            "width": null
          }
        },
        "2dd84c9bdb8145ed8cf25f1a9e2ddc93": {
          "model_module": "@jupyter-widgets/controls",
          "model_module_version": "1.5.0",
          "model_name": "DescriptionStyleModel",
          "state": {
            "_model_module": "@jupyter-widgets/controls",
            "_model_module_version": "1.5.0",
            "_model_name": "DescriptionStyleModel",
            "_view_count": null,
            "_view_module": "@jupyter-widgets/base",
            "_view_module_version": "1.2.0",
            "_view_name": "StyleView",
            "description_width": ""
          }
        },
        "30e5bac0e51344c4830f5eec195252a3": {
          "model_module": "@jupyter-widgets/base",
          "model_module_version": "1.2.0",
          "model_name": "LayoutModel",
          "state": {
            "_model_module": "@jupyter-widgets/base",
            "_model_module_version": "1.2.0",
            "_model_name": "LayoutModel",
            "_view_count": null,
            "_view_module": "@jupyter-widgets/base",
            "_view_module_version": "1.2.0",
            "_view_name": "LayoutView",
            "align_content": null,
            "align_items": null,
            "align_self": null,
            "border": null,
            "bottom": null,
            "display": null,
            "flex": null,
            "flex_flow": null,
            "grid_area": null,
            "grid_auto_columns": null,
            "grid_auto_flow": null,
            "grid_auto_rows": null,
            "grid_column": null,
            "grid_gap": null,
            "grid_row": null,
            "grid_template_areas": null,
            "grid_template_columns": null,
            "grid_template_rows": null,
            "height": null,
            "justify_content": null,
            "justify_items": null,
            "left": null,
            "margin": null,
            "max_height": null,
            "max_width": null,
            "min_height": null,
            "min_width": null,
            "object_fit": null,
            "object_position": null,
            "order": null,
            "overflow": null,
            "overflow_x": null,
            "overflow_y": null,
            "padding": null,
            "right": null,
            "top": null,
            "visibility": null,
            "width": null
          }
        },
        "38345160080e4fcdbf0295f39ac4a00b": {
          "model_module": "@jupyter-widgets/base",
          "model_module_version": "1.2.0",
          "model_name": "LayoutModel",
          "state": {
            "_model_module": "@jupyter-widgets/base",
            "_model_module_version": "1.2.0",
            "_model_name": "LayoutModel",
            "_view_count": null,
            "_view_module": "@jupyter-widgets/base",
            "_view_module_version": "1.2.0",
            "_view_name": "LayoutView",
            "align_content": null,
            "align_items": null,
            "align_self": null,
            "border": null,
            "bottom": null,
            "display": null,
            "flex": null,
            "flex_flow": null,
            "grid_area": null,
            "grid_auto_columns": null,
            "grid_auto_flow": null,
            "grid_auto_rows": null,
            "grid_column": null,
            "grid_gap": null,
            "grid_row": null,
            "grid_template_areas": null,
            "grid_template_columns": null,
            "grid_template_rows": null,
            "height": null,
            "justify_content": null,
            "justify_items": null,
            "left": null,
            "margin": null,
            "max_height": null,
            "max_width": null,
            "min_height": null,
            "min_width": null,
            "object_fit": null,
            "object_position": null,
            "order": null,
            "overflow": null,
            "overflow_x": null,
            "overflow_y": null,
            "padding": null,
            "right": null,
            "top": null,
            "visibility": null,
            "width": null
          }
        },
        "4aff0dccd67d4ffd8734eea70e6fabbf": {
          "model_module": "@jupyter-widgets/controls",
          "model_module_version": "1.5.0",
          "model_name": "DescriptionStyleModel",
          "state": {
            "_model_module": "@jupyter-widgets/controls",
            "_model_module_version": "1.5.0",
            "_model_name": "DescriptionStyleModel",
            "_view_count": null,
            "_view_module": "@jupyter-widgets/base",
            "_view_module_version": "1.2.0",
            "_view_name": "StyleView",
            "description_width": ""
          }
        },
        "5cb279487e704235b85d1d038d90c41f": {
          "model_module": "@jupyter-widgets/base",
          "model_module_version": "1.2.0",
          "model_name": "LayoutModel",
          "state": {
            "_model_module": "@jupyter-widgets/base",
            "_model_module_version": "1.2.0",
            "_model_name": "LayoutModel",
            "_view_count": null,
            "_view_module": "@jupyter-widgets/base",
            "_view_module_version": "1.2.0",
            "_view_name": "LayoutView",
            "align_content": null,
            "align_items": null,
            "align_self": null,
            "border": null,
            "bottom": null,
            "display": null,
            "flex": null,
            "flex_flow": null,
            "grid_area": null,
            "grid_auto_columns": null,
            "grid_auto_flow": null,
            "grid_auto_rows": null,
            "grid_column": null,
            "grid_gap": null,
            "grid_row": null,
            "grid_template_areas": null,
            "grid_template_columns": null,
            "grid_template_rows": null,
            "height": null,
            "justify_content": null,
            "justify_items": null,
            "left": null,
            "margin": null,
            "max_height": null,
            "max_width": null,
            "min_height": null,
            "min_width": null,
            "object_fit": null,
            "object_position": null,
            "order": null,
            "overflow": null,
            "overflow_x": null,
            "overflow_y": null,
            "padding": null,
            "right": null,
            "top": null,
            "visibility": null,
            "width": null
          }
        },
        "6645ce93fb744219a3a11c0cf76f0dad": {
          "model_module": "@jupyter-widgets/base",
          "model_module_version": "1.2.0",
          "model_name": "LayoutModel",
          "state": {
            "_model_module": "@jupyter-widgets/base",
            "_model_module_version": "1.2.0",
            "_model_name": "LayoutModel",
            "_view_count": null,
            "_view_module": "@jupyter-widgets/base",
            "_view_module_version": "1.2.0",
            "_view_name": "LayoutView",
            "align_content": null,
            "align_items": null,
            "align_self": null,
            "border": null,
            "bottom": null,
            "display": null,
            "flex": null,
            "flex_flow": null,
            "grid_area": null,
            "grid_auto_columns": null,
            "grid_auto_flow": null,
            "grid_auto_rows": null,
            "grid_column": null,
            "grid_gap": null,
            "grid_row": null,
            "grid_template_areas": null,
            "grid_template_columns": null,
            "grid_template_rows": null,
            "height": null,
            "justify_content": null,
            "justify_items": null,
            "left": null,
            "margin": null,
            "max_height": null,
            "max_width": null,
            "min_height": null,
            "min_width": null,
            "object_fit": null,
            "object_position": null,
            "order": null,
            "overflow": null,
            "overflow_x": null,
            "overflow_y": null,
            "padding": null,
            "right": null,
            "top": null,
            "visibility": null,
            "width": null
          }
        },
        "6d5c1e8e532e4cdb862833e2fb151ad6": {
          "model_module": "@jupyter-widgets/controls",
          "model_module_version": "1.5.0",
          "model_name": "HTMLModel",
          "state": {
            "_dom_classes": [],
            "_model_module": "@jupyter-widgets/controls",
            "_model_module_version": "1.5.0",
            "_model_name": "HTMLModel",
            "_view_count": null,
            "_view_module": "@jupyter-widgets/controls",
            "_view_module_version": "1.5.0",
            "_view_name": "HTMLView",
            "description": "",
            "description_tooltip": null,
            "layout": "IPY_MODEL_5cb279487e704235b85d1d038d90c41f",
            "placeholder": "​",
            "style": "IPY_MODEL_8c96371fb423489e9a2bc33798c1fec1",
            "value": "<center> <img\nsrc=https://huggingface.co/front/assets/huggingface_logo-noborder.svg\nalt='Hugging Face'> <br> Copy a token from <a\nhref=\"https://huggingface.co/settings/tokens\" target=\"_blank\">your Hugging Face\ntokens page</a> and paste it below. <br> Immediately click login after copying\nyour token or it might be stored in plain text in this notebook file. </center>"
          }
        },
        "86268575191848fea2caa2f7162aecfc": {
          "model_module": "@jupyter-widgets/controls",
          "model_module_version": "1.5.0",
          "model_name": "HTMLModel",
          "state": {
            "_dom_classes": [],
            "_model_module": "@jupyter-widgets/controls",
            "_model_module_version": "1.5.0",
            "_model_name": "HTMLModel",
            "_view_count": null,
            "_view_module": "@jupyter-widgets/controls",
            "_view_module_version": "1.5.0",
            "_view_name": "HTMLView",
            "description": "",
            "description_tooltip": null,
            "layout": "IPY_MODEL_38345160080e4fcdbf0295f39ac4a00b",
            "placeholder": "​",
            "style": "IPY_MODEL_2dd84c9bdb8145ed8cf25f1a9e2ddc93",
            "value": "\n<b>Pro Tip:</b> If you don't already have one, you can create a dedicated\n'notebooks' token with 'write' access, that you can then easily reuse for all\nnotebooks. </center>"
          }
        },
        "8c96371fb423489e9a2bc33798c1fec1": {
          "model_module": "@jupyter-widgets/controls",
          "model_module_version": "1.5.0",
          "model_name": "DescriptionStyleModel",
          "state": {
            "_model_module": "@jupyter-widgets/controls",
            "_model_module_version": "1.5.0",
            "_model_name": "DescriptionStyleModel",
            "_view_count": null,
            "_view_module": "@jupyter-widgets/base",
            "_view_module_version": "1.2.0",
            "_view_name": "StyleView",
            "description_width": ""
          }
        },
        "a2a24235ab6f4fe098f5074e67d05a1b": {
          "model_module": "@jupyter-widgets/controls",
          "model_module_version": "1.5.0",
          "model_name": "CheckboxModel",
          "state": {
            "_dom_classes": [],
            "_model_module": "@jupyter-widgets/controls",
            "_model_module_version": "1.5.0",
            "_model_name": "CheckboxModel",
            "_view_count": null,
            "_view_module": "@jupyter-widgets/controls",
            "_view_module_version": "1.5.0",
            "_view_name": "CheckboxView",
            "description": "Add token as git credential?",
            "description_tooltip": null,
            "disabled": false,
            "indent": true,
            "layout": "IPY_MODEL_0fddb58215134a138703f44adc7abe08",
            "style": "IPY_MODEL_d77fd0448ee94e938c2fc4738d5cdba6",
            "value": true
          }
        },
        "c32c553124c14bd3b9034f7b4ab17def": {
          "model_module": "@jupyter-widgets/controls",
          "model_module_version": "1.5.0",
          "model_name": "ButtonStyleModel",
          "state": {
            "_model_module": "@jupyter-widgets/controls",
            "_model_module_version": "1.5.0",
            "_model_name": "ButtonStyleModel",
            "_view_count": null,
            "_view_module": "@jupyter-widgets/base",
            "_view_module_version": "1.2.0",
            "_view_name": "StyleView",
            "button_color": null,
            "font_weight": ""
          }
        },
        "d77fd0448ee94e938c2fc4738d5cdba6": {
          "model_module": "@jupyter-widgets/controls",
          "model_module_version": "1.5.0",
          "model_name": "DescriptionStyleModel",
          "state": {
            "_model_module": "@jupyter-widgets/controls",
            "_model_module_version": "1.5.0",
            "_model_name": "DescriptionStyleModel",
            "_view_count": null,
            "_view_module": "@jupyter-widgets/base",
            "_view_module_version": "1.2.0",
            "_view_name": "StyleView",
            "description_width": ""
          }
        },
        "feb5d8ce29914216a63ad5e365990e34": {
          "model_module": "@jupyter-widgets/base",
          "model_module_version": "1.2.0",
          "model_name": "LayoutModel",
          "state": {
            "_model_module": "@jupyter-widgets/base",
            "_model_module_version": "1.2.0",
            "_model_name": "LayoutModel",
            "_view_count": null,
            "_view_module": "@jupyter-widgets/base",
            "_view_module_version": "1.2.0",
            "_view_name": "LayoutView",
            "align_content": null,
            "align_items": "center",
            "align_self": null,
            "border": null,
            "bottom": null,
            "display": "flex",
            "flex": null,
            "flex_flow": "column",
            "grid_area": null,
            "grid_auto_columns": null,
            "grid_auto_flow": null,
            "grid_auto_rows": null,
            "grid_column": null,
            "grid_gap": null,
            "grid_row": null,
            "grid_template_areas": null,
            "grid_template_columns": null,
            "grid_template_rows": null,
            "height": null,
            "justify_content": null,
            "justify_items": null,
            "left": null,
            "margin": null,
            "max_height": null,
            "max_width": null,
            "min_height": null,
            "min_width": null,
            "object_fit": null,
            "object_position": null,
            "order": null,
            "overflow": null,
            "overflow_x": null,
            "overflow_y": null,
            "padding": null,
            "right": null,
            "top": null,
            "visibility": null,
            "width": "50%"
          }
        }
      }
    }
  },
  "nbformat": 4,
  "nbformat_minor": 0
}
