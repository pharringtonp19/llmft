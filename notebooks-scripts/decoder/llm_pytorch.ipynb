{
 "cells": [
  {
   "attachments": {},
   "cell_type": "markdown",
   "metadata": {},
   "source": [
    "#### **PyTorch**"
   ]
  },
  {
   "cell_type": "code",
   "execution_count": 15,
   "metadata": {},
   "outputs": [
    {
     "name": "stdout",
     "output_type": "stream",
     "text": [
      "PyTorch Version: 2.3.0+cu121\n",
      "Cude is available: True\n",
      "Device name: NVIDIA A100-SXM4-40GB\n"
     ]
    }
   ],
   "source": [
    "import torch\n",
    "import torch.nn.functional as F\n",
    "print(f\"PyTorch Version: {torch.__version__}\")\n",
    "\n",
    "import torch\n",
    "print(f\"Cude is available: {torch.cuda.is_available()}\")\n",
    "print(f\"Device name: {torch.cuda.get_device_name(0)}\")"
   ]
  },
  {
   "attachments": {},
   "cell_type": "markdown",
   "metadata": {},
   "source": [
    "#### **Import Other Libraries**"
   ]
  },
  {
   "cell_type": "code",
   "execution_count": 16,
   "metadata": {},
   "outputs": [],
   "source": [
    "from datasets import load_dataset \n",
    "from torch.utils.data import DataLoader\n",
    "from transformers import AutoTokenizer, AutoModelForCausalLM, pipeline\n",
    "import numpy as np\n",
    "import evaluate\n",
    "import transformers\n",
    "from transformers import TrainingArguments\n",
    "import torch \n",
    "import matplotlib.pyplot as plt \n",
    "from transformers import DataCollatorWithPadding\n",
    "import os \n",
    "from pathlib import Path\n",
    "import random \n",
    "from datasets import Dataset, DatasetDict\n",
    "import warnings\n",
    "from functools import partial\n",
    "from datasets import concatenate_datasets\n",
    "from functools import partial \n",
    "from tqdm import tqdm \n",
    "import textwrap\n",
    "from IPython.display import display\n",
    "from IPython.display import Markdown\n",
    "from trl import SFTTrainer, DataCollatorForCompletionOnlyLM\n",
    "from peft import LoraConfig, get_peft_model \n",
    "from transformers import BitsAndBytesConfig\n",
    "import os \n",
    "import re \n",
    "os.environ[\"WANDB_DISABLED\"] = \"true\"\n",
    "warnings.filterwarnings('ignore', message='Was asked to gather along dimension 0, but all input tensors were scalars; will instead unsqueeze and return a vector.')\n",
    "from llmft.train import DecoderTrainer, EarlyStopping\n",
    "from llmft.metrics import compute_recall\n",
    "from llmft.losses import FocalLoss\n",
    "from llmft.utils import predict, log_predictions\n",
    "from llmft.generate import generate_dataset\n",
    "from llmft.paper import generate_recall_table"
   ]
  },
  {
   "cell_type": "code",
   "execution_count": 17,
   "metadata": {},
   "outputs": [
    {
     "name": "stdout",
     "output_type": "stream",
     "text": [
      "Device: cuda\n"
     ]
    }
   ],
   "source": [
    "device = torch.device(\"cuda\" if torch.cuda.is_available() else \"cpu\")\n",
    "print(f\"Device: {device}\")"
   ]
  },
  {
   "attachments": {},
   "cell_type": "markdown",
   "metadata": {},
   "source": [
    "#### **Parameters**"
   ]
  },
  {
   "cell_type": "code",
   "execution_count": 18,
   "metadata": {
    "tags": [
     "parameters"
    ]
   },
   "outputs": [],
   "source": [
    "# This cell is tagged with `parameters`\n",
    "\"meta-llama/Meta-Llama-3-8B-Instruct\" #\"google/gemma-1.1-7b-it\" #microsoft/phi-2\" #\"microsoft/phi-2\" #\"#\"meta-llama/Llama-2-7b-chat-hf\" # \"distilbert-base-uncased\" \n",
    "model_name = \"microsoft/Phi-3-mini-4k-instruct\"\n",
    "column = 'text'\n",
    "epochs = 1\n",
    "seed = 0\n",
    "verbose = True \n",
    "test_size = 0.5\n",
    "p = 0.0"
   ]
  },
  {
   "attachments": {},
   "cell_type": "markdown",
   "metadata": {},
   "source": [
    "#### **Qlora**"
   ]
  },
  {
   "cell_type": "code",
   "execution_count": 19,
   "metadata": {},
   "outputs": [
    {
     "name": "stdout",
     "output_type": "stream",
     "text": [
      "================================================================================\n",
      "Your GPU supports bfloat16: accelerate training with bf16=True\n",
      "================================================================================\n"
     ]
    }
   ],
   "source": [
    "from peft import LoraConfig, get_peft_model \n",
    "from transformers import BitsAndBytesConfig\n",
    "\n",
    "# ----- QUANTIZATION -------# \n",
    "# Activate 4-bit precision base model loading\n",
    "use_4bit = True\n",
    "\n",
    "# Compute dtype for 4-bit base models\n",
    "bnb_4bit_compute_dtype = \"float16\"\n",
    "\n",
    "# Quantization type (fp4 or nf4)\n",
    "bnb_4bit_quant_type = \"nf4\"\n",
    "\n",
    "# Activate nested quantization for 4-bit base models (double quantization)\n",
    "use_nested_quant = True\n",
    "\n",
    "# Load tokenizer and model with QLoRA configuration\n",
    "compute_dtype = getattr(torch, bnb_4bit_compute_dtype)\n",
    "\n",
    "# Enable fp16/bf16 training (set bf16 to True with an A100)\n",
    "fp16 = False\n",
    "bf16 = True\n",
    "\n",
    "bnb_config = BitsAndBytesConfig(\n",
    "    load_in_4bit=use_4bit,\n",
    "    bnb_4bit_quant_type=bnb_4bit_quant_type,\n",
    "    bnb_4bit_compute_dtype=compute_dtype,\n",
    "    bnb_4bit_use_double_quant=use_nested_quant,\n",
    ")\n",
    "\n",
    "# Check GPU compatibility with bfloat16\n",
    "if compute_dtype == torch.float16 and use_4bit:\n",
    "    major, _ = torch.cuda.get_device_capability()\n",
    "    if major >= 8:\n",
    "        print(\"=\" * 80)\n",
    "        print(\"Your GPU supports bfloat16: accelerate training with bf16=True\")\n",
    "        print(\"=\" * 80)\n",
    "\n",
    "# ----- LORA -------# \n",
    "\n",
    "lora_config = LoraConfig(\n",
    "    r=8,\n",
    "    target_modules=[\"q_proj\", \"o_proj\", \"k_proj\", \"v_proj\", \"gate_proj\", \"up_proj\", \"down_proj\"],\n",
    "    task_type=\"CAUSAL_LM\",\n",
    ")"
   ]
  },
  {
   "attachments": {},
   "cell_type": "markdown",
   "metadata": {},
   "source": [
    "#### **Instantiate Model**"
   ]
  },
  {
   "cell_type": "code",
   "execution_count": 20,
   "metadata": {},
   "outputs": [
    {
     "name": "stderr",
     "output_type": "stream",
     "text": [
      "/home/ubuntu/llmft/llms/lib/python3.10/site-packages/huggingface_hub/file_download.py:1132: FutureWarning: `resume_download` is deprecated and will be removed in version 1.0.0. Downloads always resume when possible. If you want to force a new download, use `force_download=True`.\n",
      "  warnings.warn(\n",
      "`flash-attention` package not found, consider installing for better performance: No module named 'flash_attn'.\n",
      "Current `flash-attenton` does not support `window_size`. Either upgrade or use `attn_implementation='eager'`.\n"
     ]
    },
    {
     "data": {
      "application/vnd.jupyter.widget-view+json": {
       "model_id": "504a12a0ba0744e78e38025528092812",
       "version_major": 2,
       "version_minor": 0
      },
      "text/plain": [
       "Loading checkpoint shards:   0%|          | 0/2 [00:00<?, ?it/s]"
      ]
     },
     "metadata": {},
     "output_type": "display_data"
    },
    {
     "name": "stdout",
     "output_type": "stream",
     "text": [
      "GenerationConfig {\n",
      "  \"bos_token_id\": 1,\n",
      "  \"eos_token_id\": [\n",
      "    32000,\n",
      "    32001,\n",
      "    32007\n",
      "  ],\n",
      "  \"pad_token_id\": 32000\n",
      "}\n",
      "\n",
      "trainable params: 4,456,448 || all params: 3,825,536,000 || trainable%: 0.11649212031987152\n",
      "None\n"
     ]
    }
   ],
   "source": [
    "model = AutoModelForCausalLM.from_pretrained(model_name, \n",
    "                                             device_map=\"auto\", \n",
    "                                             quantization_config=bnb_config, \n",
    "                                             trust_remote_code=True)# So we can do gradient checkpointing\n",
    "model.config.use_cache = False\n",
    "model.config.pretraining_tp = 1\n",
    "model.config.gradient_checkpointing = True\n",
    "model.enable_input_require_grads()\n",
    "print(model.generation_config)\n",
    "\n",
    "model = get_peft_model(model, lora_config)\n",
    "print(model.print_trainable_parameters())"
   ]
  },
  {
   "attachments": {},
   "cell_type": "markdown",
   "metadata": {},
   "source": [
    "#### **Tokenizer**"
   ]
  },
  {
   "cell_type": "code",
   "execution_count": 21,
   "metadata": {},
   "outputs": [
    {
     "name": "stderr",
     "output_type": "stream",
     "text": [
      "Special tokens have been added in the vocabulary, make sure the associated word embeddings are fine-tuned or trained.\n"
     ]
    }
   ],
   "source": [
    "tokenizer = AutoTokenizer.from_pretrained(model_name)\n",
    "tokenizer.pad_token = tokenizer.eos_token\n",
    "def tokenizer_function(example):\n",
    "  return tokenizer.apply_chat_template(example[\"messages\"], \n",
    "                                                          tokenize=True, \n",
    "                                                          add_generation_prompt=False, \n",
    "                                                          return_dict=True)"
   ]
  },
  {
   "attachments": {},
   "cell_type": "markdown",
   "metadata": {},
   "source": [
    "#### **Hyperparameters**"
   ]
  },
  {
   "cell_type": "code",
   "execution_count": 22,
   "metadata": {},
   "outputs": [],
   "source": [
    "lr = 1e-4\n",
    "warmup_ratio = 0.\n",
    "batch_size = 2\n",
    "epochs = 10\n",
    "patience = float('inf') \n",
    "gamma = 0.0\n",
    "training_status = 'standard' if lr==1e-4 else 'preferred'"
   ]
  },
  {
   "attachments": {},
   "cell_type": "markdown",
   "metadata": {},
   "source": [
    "#### **Random Data set**"
   ]
  },
  {
   "cell_type": "code",
   "execution_count": 23,
   "metadata": {},
   "outputs": [],
   "source": [
    "random_dataset =  [[{'content': 'You are a housing court clerk', 'role': 'system'},\n",
    "                    {'content': \"Task: The following is a description of an eviction case. Predict whether the tenant has legal represenation (yes or no, and then explain your reasoning.)\\n\\n    Description: The Right to Counsel is in effect in the tenant's zip code. The tenant violated the lease.\\n\\n    Prediction:\",'role': 'user'},\n",
    "                    {'content': 'No', 'role': 'assistant'}],\n",
    "                  [{'content': 'You are a housing court clerk', 'role': 'system'},\n",
    "                    {'content': \"Task: The following is a description of an eviction case. Predict whether the tenant has legal represenation (yes or no, and then explain your reasoning.)\\n\\n    Description: The Right to Counsel is not in effect in the tenant's zip code. The tenant violated the lease.\\n\\n    Prediction:\",'role': 'user'},\n",
    "                    {'content': 'No', 'role': 'assistant'}],\n",
    "                  [{'content': 'You are a housing court clerk', 'role': 'system'},\n",
    "                    {'content': \"Task: The following is a description of an eviction case. Predict whether the tenant has legal represenation (yes or no, and then explain your reasoning.)\\n\\n    Description: The Right to Counsel is in effect in the tenant's zip code. The tenant lost their job because of health related accident.\\n\\n    Prediction:\",'role': 'user'},\n",
    "                    {'content': 'Yes', 'role': 'assistant'}],\n",
    "                  [{'content': 'You are a housing court clerk', 'role': 'system'},\n",
    "                    {'content': \"Task: The following is a description of an eviction case. Predict whether the tenant has legal represenation (yes or no, and then explain your reasoning.)\\n\\n    Description: The Right to Counsel is not in effect in the tenant's zip code. The tenant lost their job because of health related accident.\\n\\n    Prediction:\",'role': 'user'},\n",
    "                    {'content': 'No', 'role': 'assistant'}],\n",
    "                  [{'content': 'You are a smart AI', 'role': 'system'},\n",
    "                    {'content': \"In three words, in Economics, the acronym 'llm' stands for what? \", 'role': 'user'},\n",
    "                    {'content': 'Joe Biden', 'role': 'assistant'}],\n",
    "                  [{'content': 'You are a smart AI', 'role': 'assistant'},\n",
    "                    {'content': \"In one word, how good at Basketball is Lebron James?\", 'role': 'user'},\n",
    "                    {'content': 'Excellent', 'role': 'assistant'}],\n",
    "                  [{'content': 'You are a housing court lawyer interested in AI', 'role': 'assistant'},\n",
    "                    {'content': \"How much gpu memory does the NVIDIA A100 have?\", 'role': 'user'},\n",
    "                    {'content': '40 or 80 GB', 'role': 'assistant'}],\n",
    "                  [{'content': 'You are a housing court lawyer', 'role': 'assistant'},\n",
    "                    {'content': \"When the Right to Counsel is in effect in a tenant's zip code, roughly what fraction of the tenants receive legal representation?\", 'role': 'user'},\n",
    "                    {'content': '12%', 'role': 'assistant'}]\n",
    "                    ]\n",
    "random_dataset =  Dataset.from_dict({'messages': random_dataset})"
   ]
  },
  {
   "cell_type": "code",
   "execution_count": 25,
   "metadata": {},
   "outputs": [
    {
     "data": {
      "text/plain": [
       "[{'content': 'You are a housing court clerk', 'role': 'system'},\n",
       " {'content': \"Task: The following is a description of an eviction case. Predict whether the tenant has legal represenation (yes or no, and then explain your reasoning.)\\n\\n    Description: The Right to Counsel is in effect in the tenant's zip code. The tenant violated the lease.\\n\\n    Prediction:\",\n",
       "  'role': 'user'},\n",
       " {'content': 'No', 'role': 'assistant'}]"
      ]
     },
     "execution_count": 25,
     "metadata": {},
     "output_type": "execute_result"
    }
   ],
   "source": [
    "random_dataset['messages'][0]"
   ]
  },
  {
   "attachments": {},
   "cell_type": "markdown",
   "metadata": {},
   "source": [
    "#### **Synthetic Dataset**"
   ]
  },
  {
   "cell_type": "code",
   "execution_count": 10,
   "metadata": {},
   "outputs": [],
   "source": [
    "dataset = generate_dataset(total_entries=1000, flip_rate=0.)\n",
    "\n",
    "def get_prompt(desc):\n",
    "    return f\"\"\"Task: The following is a description of an eviction case. Predict whether the tenant has legal represenation (yes or no, and then explain your reasoning.)\n",
    "\n",
    "    Description: {desc}\n",
    "\n",
    "    Prediction:\"\"\"\n",
    "\n",
    "messages = []\n",
    "for i, j in zip(dataset['text'], dataset['label']):\n",
    "   message = [{\"role\": \"system\", \"content\": \"You are a housing court clerk\"}, \n",
    "   {\"role\": \"user\", \"content\": get_prompt(i)}, \n",
    "   {\"role\": \"assistant\", \"content\": 'Yes' if j == 1 else 'No'}]\n",
    "   messages.append(message)\n",
    "\n",
    "dataset = Dataset.from_dict({'messages': messages})"
   ]
  },
  {
   "attachments": {},
   "cell_type": "markdown",
   "metadata": {},
   "source": [
    "#### **Real Dataset**"
   ]
  },
  {
   "cell_type": "code",
   "execution_count": 11,
   "metadata": {},
   "outputs": [
    {
     "data": {
      "application/vnd.jupyter.widget-view+json": {
       "model_id": "89fde648c09b4b14a50843d85fcc2fda",
       "version_major": 2,
       "version_minor": 0
      },
      "text/plain": [
       "Downloading readme:   0%|          | 0.00/432 [00:00<?, ?B/s]"
      ]
     },
     "metadata": {},
     "output_type": "display_data"
    },
    {
     "data": {
      "application/vnd.jupyter.widget-view+json": {
       "model_id": "2f0d4ccc355b4e73810675fb9ba6bfe3",
       "version_major": 2,
       "version_minor": 0
      },
      "text/plain": [
       "Downloading data:   0%|          | 0.00/4.55M [00:00<?, ?B/s]"
      ]
     },
     "metadata": {},
     "output_type": "display_data"
    },
    {
     "data": {
      "application/vnd.jupyter.widget-view+json": {
       "model_id": "6b6626993fd34bd3a74e0606ea4f3cf3",
       "version_major": 2,
       "version_minor": 0
      },
      "text/plain": [
       "Generating train split:   0%|          | 0/9797 [00:00<?, ? examples/s]"
      ]
     },
     "metadata": {},
     "output_type": "display_data"
    },
    {
     "data": {
      "application/vnd.jupyter.widget-view+json": {
       "model_id": "7c28ec72063d4b809b731c0c672a2524",
       "version_major": 2,
       "version_minor": 0
      },
      "text/plain": [
       "Map:   0%|          | 0/9797 [00:00<?, ? examples/s]"
      ]
     },
     "metadata": {},
     "output_type": "display_data"
    },
    {
     "data": {
      "application/vnd.jupyter.widget-view+json": {
       "model_id": "ef0e90ef5c944402997dc06f3869da4b",
       "version_major": 2,
       "version_minor": 0
      },
      "text/plain": [
       "Map:   0%|          | 0/9797 [00:00<?, ? examples/s]"
      ]
     },
     "metadata": {},
     "output_type": "display_data"
    },
    {
     "name": "stdout",
     "output_type": "stream",
     "text": [
      "Fraction treated who receive legal aid: 0.129\n",
      "Fraction control who receive legal aid: 0.029\n"
     ]
    },
    {
     "data": {
      "application/vnd.jupyter.widget-view+json": {
       "model_id": "a721f2412a094f9d9a346f5b569fdd11",
       "version_major": 2,
       "version_minor": 0
      },
      "text/plain": [
       "Map:   0%|          | 0/50 [00:00<?, ? examples/s]"
      ]
     },
     "metadata": {},
     "output_type": "display_data"
    },
    {
     "data": {
      "application/vnd.jupyter.widget-view+json": {
       "model_id": "d270d90a99c2437f9423ad923d3b57ff",
       "version_major": 2,
       "version_minor": 0
      },
      "text/plain": [
       "Map:   0%|          | 0/50 [00:00<?, ? examples/s]"
      ]
     },
     "metadata": {},
     "output_type": "display_data"
    }
   ],
   "source": [
    "dataset = load_dataset(\"ppower1/chat_instrument\")['train']\n",
    "\n",
    "\n",
    "def get_input_id(example):\n",
    "    example['type_indicator'] = 1 if 'The Right to Counsel is in effect' in example['messages'][1]['content'] else 0\n",
    "    return example\n",
    "\n",
    "def get_target_id(example):\n",
    "    example['label'] = 1 if 'Yes' == example['messages'][2]['content'] else 0\n",
    "    return example \n",
    "\n",
    "def treated_status(example):\n",
    "    return example['type_indicator'] == 1\n",
    "\n",
    "dataset = dataset.map(get_input_id)\n",
    "dataset = dataset.map(get_target_id)\n",
    "dataset = dataset.shuffle(seed=42).select(range(100))\n",
    "print(f\"Fraction treated who receive legal aid: {np.mean(np.array(dataset['label']), where=np.array(dataset['type_indicator'])==1):.3f}\")\n",
    "print(f\"Fraction control who receive legal aid: {np.mean(np.array(dataset['label']), where=np.array(dataset['type_indicator'])==0):.3f}\")\n",
    "dataset = dataset.train_test_split(test_size=test_size, seed=seed)  \n",
    "tokenized_dataset = dataset.map(tokenizer_function, batched=True)\n",
    "tokenized_dataset = tokenized_dataset.remove_columns(['messages'])"
   ]
  },
  {
   "attachments": {},
   "cell_type": "markdown",
   "metadata": {},
   "source": [
    "#### **Data Loaders**"
   ]
  },
  {
   "cell_type": "code",
   "execution_count": 12,
   "metadata": {},
   "outputs": [],
   "source": [
    "train_loader = DataLoader(tokenized_dataset['train'], batch_size=batch_size, collate_fn=DataCollatorWithPadding(tokenizer), shuffle=True)\n",
    "test_loader = DataLoader(tokenized_dataset['test'], batch_size=batch_size, collate_fn=DataCollatorWithPadding(tokenizer))"
   ]
  },
  {
   "attachments": {},
   "cell_type": "markdown",
   "metadata": {},
   "source": [
    "#### **Optimizer**"
   ]
  },
  {
   "cell_type": "code",
   "execution_count": 13,
   "metadata": {},
   "outputs": [],
   "source": [
    "optimizer = torch.optim.AdamW(model.parameters(), lr=lr)\n",
    "scheduler =transformers.optimization.get_linear_schedule_with_warmup(optimizer,int(warmup_ratio*len(train_loader)*epochs), len(train_loader)*epochs)"
   ]
  },
  {
   "attachments": {},
   "cell_type": "markdown",
   "metadata": {},
   "source": [
    "#### **Class Weights**"
   ]
  },
  {
   "cell_type": "code",
   "execution_count": 14,
   "metadata": {},
   "outputs": [
    {
     "name": "stdout",
     "output_type": "stream",
     "text": [
      "0.0\n",
      "Class Weights: tensor([1., 1.], device='cuda:0')\n"
     ]
    }
   ],
   "source": [
    "class_weights = torch.tensor([1., 1.], device=device) #torch.tensor([1-n_positive/n_samples, n_positive/n_samples], device=device)\n",
    "# criterion = FocalLoss(alpha=class_weights, gamma=gamma, mode='output', reduction='none')\n",
    "# criterion = torch.nn.CrossEntropyLoss(reduction='mean') \n",
    "\n",
    "# # Assume 'class_counts' is a list containing the number of samples for each class\n",
    "# n_samples = len(dataset['train']); print(f\"Number of Observations: {n_samples}\")\n",
    "# n_positive = sum(dataset['train']['type_indicator']); print(f\"Number of Positive Outcomes: {n_positive}\")\n",
    "# class_weights = torch.tensor([1., 1.], device=device) \n",
    "# frac_positive = (n_positive/n_samples)\n",
    "# class_weights = torch.tensor([1/ (1-frac_positive), 1 / frac_positive], device=device)\n",
    "# class_weights = class_weights/sum(class_weights)\n",
    "criterion = FocalLoss(alpha=class_weights, gamma=gamma, mode='input')\n",
    "print(criterion.gamma)\n",
    "print(f\"Class Weights: {class_weights}\")"
   ]
  },
  {
   "attachments": {},
   "cell_type": "markdown",
   "metadata": {},
   "source": [
    "#### **Trainer**"
   ]
  },
  {
   "cell_type": "code",
   "execution_count": null,
   "metadata": {},
   "outputs": [],
   "source": [
    "yuri = DecoderTrainer(model,\n",
    "                    tokenizer,\n",
    "                    optimizer, \n",
    "                    scheduler,\n",
    "                    criterion, \n",
    "                    device, \n",
    "                    verbose=False, \n",
    "                    threshold=10)\n",
    "\n",
    "print(yuri.verbose)"
   ]
  },
  {
   "cell_type": "code",
   "execution_count": null,
   "metadata": {},
   "outputs": [],
   "source": [
    "with open('./log_output.txt', 'w') as file:\n",
    "    file.write(\"\")  # This will clear the file if it already exists\n",
    "    \n",
    "evaluation_losses = [yuri.evaluate(test_loader)]\n",
    "training_losses = [yuri.evaluate(train_loader)]\n",
    "lr_history = [yuri.optimizer.state_dict()['param_groups'][0]['lr']]\n",
    "recall_history = [yuri.compute_recall(test_loader)]\n",
    "pbar =  tqdm(range(epochs), desc=f'Epoch: 0, Train Loss: {training_losses[0]:.3f}, Val Loss: {evaluation_losses[0]:.3f},  rYes: {recall_history[0][1]:.3f}')\n",
    "\n",
    "for epoch in pbar:\n",
    "    log_predictions(model, tokenizer, device, epoch, random_dataset, './log_output.txt')\n",
    "    train_loss = yuri.train(train_loader)\n",
    "    training_losses.append(train_loss)\n",
    "    val_loss = yuri.evaluate(test_loader)\n",
    "    evaluation_losses.append(val_loss)\n",
    "    recall = yuri.compute_recall(test_loader)\n",
    "    recall_history.append(recall)\n",
    "\n",
    "    pbar.set_description(f'Epoch: {epoch + 1}, Train Loss: {train_loss:.4f}, Val Loss: {val_loss:.4f}, rYes: {recall[1]:.3f}')"
   ]
  },
  {
   "cell_type": "code",
   "execution_count": null,
   "metadata": {},
   "outputs": [],
   "source": [
    "plt.plot(training_losses, label='Training')\n",
    "plt.plot(evaluation_losses, label='Validation')\n",
    "plt.legend()\n",
    "plt.show()"
   ]
  },
  {
   "cell_type": "code",
   "execution_count": null,
   "metadata": {},
   "outputs": [],
   "source": [
    "plt.plot([i[0] for i in recall_history])\n",
    "plt.plot([i[1] for i in recall_history])\n",
    "plt.show()"
   ]
  },
  {
   "cell_type": "code",
   "execution_count": null,
   "metadata": {},
   "outputs": [],
   "source": [
    "dataset"
   ]
  },
  {
   "cell_type": "code",
   "execution_count": null,
   "metadata": {},
   "outputs": [],
   "source": [
    "# Create an iterator from the DataLoader\n",
    "iterator = iter(dataset['test'])"
   ]
  },
  {
   "cell_type": "code",
   "execution_count": null,
   "metadata": {},
   "outputs": [],
   "source": [
    "# Fetch the next item\n",
    "try:\n",
    "    message = next(iterator)['messages']\n",
    "    batch = tokenizer.apply_chat_template(message, tokenize=True, add_generation_prompt=True, return_tensors=\"pt\", return_dict=True).to(device)\n",
    "    generated_ids = model.generate(batch, max_new_tokens=20, do_sample=True)\n",
    "    decoded = tokenizer.batch_decode(generated_ids)\n",
    "    for i in decoded:\n",
    "        print(i[-200:])\n",
    "    print(\"\")\n",
    "except StopIteration:\n",
    "    print(\"Reached the end of the dataset.\")"
   ]
  }
 ],
 "metadata": {
  "kernelspec": {
   "display_name": "jmp_env",
   "language": "python",
   "name": "python3"
  },
  "language_info": {
   "codemirror_mode": {
    "name": "ipython",
    "version": 3
   },
   "file_extension": ".py",
   "mimetype": "text/x-python",
   "name": "python",
   "nbconvert_exporter": "python",
   "pygments_lexer": "ipython3",
   "version": "3.10.12"
  },
  "orig_nbformat": 4
 },
 "nbformat": 4,
 "nbformat_minor": 2
}
