{
 "cells": [
  {
   "attachments": {},
   "cell_type": "markdown",
   "metadata": {},
   "source": [
    "#### **Import Libraries**"
   ]
  },
  {
   "cell_type": "code",
   "execution_count": 10,
   "metadata": {},
   "outputs": [],
   "source": [
    "import anthropic\n",
    "import os \n",
    "from sklearn.model_selection import train_test_split\n",
    "from datasets import Dataset, DatasetDict\n",
    "from tqdm import tqdm\n",
    "import numpy as np \n",
    "import random \n",
    "import math\n",
    "from itertools import chain\n",
    "from IPython.display import display, Markdown\n",
    "import textwrap\n",
    "import tiktoken\n",
    "import csv\n",
    "import time \n",
    "import pandas as pd \n",
    "from tqdm import tqdm \n",
    "from trics.nlp.utils import to_markdown, create_csv_with_headers"
   ]
  },
  {
   "attachments": {},
   "cell_type": "markdown",
   "metadata": {},
   "source": [
    "#### **Setup Folder**"
   ]
  },
  {
   "cell_type": "code",
   "execution_count": 11,
   "metadata": {},
   "outputs": [
    {
     "data": {
      "text/plain": [
       "(13996, 9)"
      ]
     },
     "execution_count": 11,
     "metadata": {},
     "output_type": "execute_result"
    }
   ],
   "source": [
    "version = 5 \n",
    "experiment_folder = './../../../toy-data/exp2/'\n",
    "data_csv = experiment_folder + f'data_{version}.csv'\n",
    "df = pd.read_csv(data_csv)\n",
    "df.shape"
   ]
  },
  {
   "attachments": {},
   "cell_type": "markdown",
   "metadata": {},
   "source": [
    "#### **Plotting**"
   ]
  },
  {
   "cell_type": "code",
   "execution_count": 3,
   "metadata": {},
   "outputs": [
    {
     "name": "stdout",
     "output_type": "stream",
     "text": [
      "./../../../styles/Newsreader\n",
      "/home/ubuntu/llmft/styles/Newsreader/static/Newsreader_24pt/Newsreader_24pt-Italic.ttf\n"
     ]
    }
   ],
   "source": [
    "import matplotlib as mpl\n",
    "from matplotlib import pyplot as plt\n",
    "from matplotlib import rcParams\n",
    "rcParams['image.interpolation'] = 'nearest'\n",
    "rcParams['image.cmap'] = 'viridis'\n",
    "rcParams['axes.grid'] = False\n",
    "%matplotlib inline\n",
    "%config InlineBackend.figure_format = 'svg'\n",
    "plt.style.use('seaborn-v0_8-dark-palette')\n",
    "\n",
    "from matplotlib import font_manager \n",
    "locations = './../../../styles/Newsreader'\n",
    "font_files = font_manager.findSystemFonts(fontpaths=locations)\n",
    "print(locations)\n",
    "print(font_files[0])\n",
    "for f in font_files: \n",
    "    font_manager.fontManager.addfont(f)\n",
    "plt.rcParams[\"font.family\"] = \"Newsreader\""
   ]
  },
  {
   "attachments": {},
   "cell_type": "markdown",
   "metadata": {},
   "source": [
    "#### **LLM Set Up**"
   ]
  },
  {
   "cell_type": "code",
   "execution_count": 4,
   "metadata": {},
   "outputs": [],
   "source": []
  },
  {
   "attachments": {},
   "cell_type": "markdown",
   "metadata": {},
   "source": [
    "#### **Define File**"
   ]
  },
  {
   "cell_type": "code",
   "execution_count": 5,
   "metadata": {},
   "outputs": [
    {
     "name": "stdout",
     "output_type": "stream",
     "text": [
      "Data for 5 already exists\n"
     ]
    }
   ],
   "source": [
    "if os.path.exists(data_csv):\n",
    "    print(f'Data for {version} already exists')\n",
    "    run = False \n",
    "else:\n",
    "    create_csv_with_headers(data_csv, ['Var1', 'Var2', 'Var3', 'Var4', 'Var5', 'Var6', 'Var7', 'Var8', 'Description'])\n",
    "    run = True "
   ]
  },
  {
   "cell_type": "code",
   "execution_count": 6,
   "metadata": {},
   "outputs": [],
   "source": [
    "age_groups = [\"mid-20s\", \"late-20s\", \"early-30s\", \"mid-30s\", \"late-30s\", \"early-40s\", \"mid-40s\", \"late-40s\", \"early-50s\", \"mid-50s\", \"late-50s\"]\n",
    "living_situations = [\"small apartment complex\", \"large apartment complex\", \"three-story duplex\", \"two-story duplex\"]\n",
    "pets_options = [\"a dog\", \"a cat\", \"no pets\", \"a bird\", \"a fish tank\"]\n",
    "health_status = [\"good health\", \"poor health\"]\n",
    "\n",
    "overdue_phrases = [\"behind on rent for\", \"owing rent amounting to\", \"late on rent for\", \"struggling to pay rent for\"]\n",
    "additional_details = [\n",
    "        \"the tenant enjoys quiet evenings at home.\",\n",
    "        \"the tenant frequently interacts with neighbors.\",\n",
    "        \"the tenant has a regular job in the city.\",\n",
    "        \"the tenant occasionally works from home.\",\n",
    "        \"the tenant likes to cook on weekends.\",\n",
    "        \"the tenant has a small garden on the balcony.\",\n",
    "        \"the tenant is an avid reader and has a collection of books.\",\n",
    "        \"the tenant enjoys jogging in the nearby park.\",\n",
    "        \"the tenant has recently taken up painting as a hobby.\",\n",
    "        \"the tenant volunteers at a local shelter on weekends.\",\n",
    "        \"the tenant loves to bake and often shares treats with neighbors.\",\n",
    "        \"the tenant has a passion for photography and takes pictures around the city.\",\n",
    "        \"the tenant plays the guitar in their spare time.\",\n",
    "        \"the tenant participates in a local book club.\",\n",
    "        \"the tenant practices yoga every morning.\",\n",
    "        \"the tenant is learning to play the piano.\",\n",
    "        \"the tenant loves to travel and plans trips frequently.\",\n",
    "        \"the tenant enjoys watching movies on weekends.\",\n",
    "        \"the tenant is a member of a local sports team.\",\n",
    "        \"the tenant loves to host dinner parties for friends.\",\n",
    "        \"the tenant is studying for an advanced degree online.\",\n",
    "        \"the tenant enjoys gardening in a community garden.\",\n",
    "        \"the tenant is a fan of board games and has a collection at home.\",\n",
    "        \"the tenant frequently visits local museums.\",\n",
    "        \"the tenant enjoys knitting and crafts in their spare time.\",\n",
    "        \"the tenant has a side business selling handmade items.\",\n",
    "        \"the tenant enjoys hiking and exploring nature trails.\",\n",
    "        \"the tenant volunteers at a local animal shelter.\",\n",
    "        \"the tenant is a coffee enthusiast and loves visiting new cafes.\",\n",
    "        \"the tenant enjoys going to live music concerts.\",\n",
    "        \"the tenant participates in local charity events.\",\n",
    "        \"the tenant loves to explore different cuisines and tries new recipes.\",\n",
    "        \"the tenant has a keen interest in astronomy and stargazing.\",\n",
    "        \"the tenant enjoys writing short stories in their free time.\",\n",
    "        \"the tenant is learning a new language.\",\n",
    "        \"the tenant loves attending theater performances.\",\n",
    "        \"the tenant is part of a local dance class.\",\n",
    "        \"the tenant enjoys playing video games.\",\n",
    "        \"the tenant is a foodie and enjoys dining out at new restaurants.\",\n",
    "        \"the tenant likes to go fishing on weekends.\",\n",
    "        \"the tenant enjoys cycling around the city.\",\n",
    "        \"the tenant has a small art studio at home.\",\n",
    "        \"the tenant likes to play chess with friends.\",\n",
    "        \"the tenant participates in local marathons.\",\n",
    "        \"the tenant enjoys taking part in cooking classes.\",\n",
    "        \"the tenant loves to decorate their apartment for different holidays.\",\n",
    "        \"the tenant frequently attends local farmers' markets.\",\n",
    "        \"the tenant enjoys exploring local history and landmarks.\",\n",
    "        \"the tenant has a blog where they share their daily experiences.\"\n",
    "    ]\n",
    "roomate_statuses = ['roomate', 'family']\n",
    "contribute_statuses = [\"doesn't contribute\", \"contributes\"]   "
   ]
  },
  {
   "attachments": {},
   "cell_type": "markdown",
   "metadata": {},
   "source": [
    "#### **Functions**"
   ]
  },
  {
   "cell_type": "code",
   "execution_count": 7,
   "metadata": {},
   "outputs": [],
   "source": [
    "def anthropic_completion(input):\n",
    "    message = client.messages.create(\n",
    "    model=\"claude-3-haiku-20240307\",\n",
    "    max_tokens=500,\n",
    "    temperature=1.,\n",
    "    system=\"You are a housing court lawyer\",\n",
    "    messages=[\n",
    "        {\"role\": \"user\", \"content\": input}\n",
    "    ])\n",
    "    return message.content[0].text\n",
    "\n",
    "\n",
    "def get_promptv3(i, x):\n",
    "    \"\"\"Generates a prompt for writing a paragraph about a tenant with added noise for variability.\n",
    "\n",
    "    Args:\n",
    "        i: Random seed for reproducibility.\n",
    "        x: List of features for the tenant.\n",
    "\n",
    "    Returns:\n",
    "        A formatted string containing the prompt.\n",
    "    \"\"\"\n",
    "    random.seed(i)\n",
    "\n",
    "    # Define possible synonyms and additional details\n",
    "\n",
    "\n",
    "    # Add variability\n",
    "    age_group = age_groups[x[0]]\n",
    "    living_situation = living_situations[x[1]]\n",
    "    pets = pets_options[x[2]]\n",
    "    health = health_status[x[4]]\n",
    "    months = x[5]\n",
    "    roomate_status = roomate_statuses[x[6]]\n",
    "    contribute_status = contribute_statuses[x[7]]\n",
    "\n",
    "    # Add some noise with random synonyms or additional details\n",
    "    overdue_phrase = random.choice(overdue_phrases)\n",
    "    additional_detail = random.choice(additional_details)\n",
    "\n",
    "    return f\"\"\"random seed: {i}\n",
    "    Task: Write a paragraph description of a tenant in their {age_group} who is currently {overdue_phrase} ${x[3]:.0f}. \n",
    "    Mention that they are in relatively {health}, live in a {living_situation}, have been living there for {months} months, and have {pets}. \n",
    "    Include some details about their {roomate_status} who {contribute_status} to the rent. Also mention somewhere that {additional_detail}\n",
    "    \n",
    "    Description: The tenant is a \"\"\"\n"
   ]
  },
  {
   "attachments": {},
   "cell_type": "markdown",
   "metadata": {},
   "source": [
    "#### **Create Variables**"
   ]
  },
  {
   "cell_type": "code",
   "execution_count": 8,
   "metadata": {},
   "outputs": [
    {
     "name": "stdout",
     "output_type": "stream",
     "text": [
      "(50000, 8)\n"
     ]
    }
   ],
   "source": [
    "# Set number of observations\n",
    "n = 50_000 \n",
    "\n",
    "# Set the random seed for reproducibility\n",
    "np.random.seed(2)\n",
    "\n",
    "# Generate a single Bernoulli random variable with p = 0.5\n",
    "var1 = np.random.choice(range(len(age_groups)), size=n).astype(int)\n",
    "var2 = np.random.choice(range(len(living_situations)), size=n).astype(int)\n",
    "var3 = np.random.choice(range(len(pets_options)), size=n).astype(int)\n",
    "var4 = np.random.choice(range(650, 1500), size=n).astype(int)\n",
    "var5 = np.random.binomial(n=1, p=0.88, size=n).astype(int)\n",
    "var6 = np.random.choice(range(6, 54), size=n).astype(int)\n",
    "var7 = np.random.choice(range(2), size=n).astype(int)\n",
    "var8 = np.random.choice(range(2), size=n).astype(int)\n",
    "data_matrix = np.column_stack((var1, var2, var3, var4, var5, var6, var7, var8))\n",
    "print(data_matrix.shape)"
   ]
  },
  {
   "cell_type": "code",
   "execution_count": 13,
   "metadata": {},
   "outputs": [
    {
     "name": "stderr",
     "output_type": "stream",
     "text": [
      "  5%|▌         | 1891/36003 [58:22<15:44:19,  1.66s/it]"
     ]
    }
   ],
   "source": [
    "for i in tqdm(range(13997, n)):\n",
    "    text = anthropic_completion(get_promptv3(i, data_matrix[i]))\n",
    "    with open(data_csv, mode='a', newline='') as file:\n",
    "        writer = csv.writer(file)\n",
    "        row = list(data_matrix[i]) + [text]\n",
    "        writer.writerow(row)\n",
    "    time.sleep(0.1)"
   ]
  },
  {
   "cell_type": "code",
   "execution_count": null,
   "metadata": {},
   "outputs": [],
   "source": []
  }
 ],
 "metadata": {
  "kernelspec": {
   "display_name": "llms",
   "language": "python",
   "name": "python3"
  },
  "language_info": {
   "codemirror_mode": {
    "name": "ipython",
    "version": 3
   },
   "file_extension": ".py",
   "mimetype": "text/x-python",
   "name": "python",
   "nbconvert_exporter": "python",
   "pygments_lexer": "ipython3",
   "version": "3.10.12"
  },
  "orig_nbformat": 4
 },
 "nbformat": 4,
 "nbformat_minor": 2
}
