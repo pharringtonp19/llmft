{
 "cells": [
  {
   "cell_type": "code",
   "execution_count": 1,
   "metadata": {},
   "outputs": [],
   "source": [
    "import papermill as pm\n",
    "import numpy as np \n",
    "import time \n",
    "import os "
   ]
  },
  {
   "cell_type": "code",
   "execution_count": 2,
   "metadata": {},
   "outputs": [
    {
     "name": "stderr",
     "output_type": "stream",
     "text": [
      "Passed unknown parameter: sampling_size\n"
     ]
    },
    {
     "name": "stdout",
     "output_type": "stream",
     "text": [
      "Starting Experiment --> verion: 2  |   sample size: 1000  |   noise:False\n"
     ]
    },
    {
     "data": {
      "application/vnd.jupyter.widget-view+json": {
       "model_id": "728e98b0ea4b4c73a91948aa37953071",
       "version_major": 2,
       "version_minor": 0
      },
      "text/plain": [
       "Executing:   0%|          | 0/31 [00:00<?, ?cell/s]"
      ]
     },
     "metadata": {},
     "output_type": "display_data"
    },
    {
     "ename": "PapermillExecutionError",
     "evalue": "\n---------------------------------------------------------------------------\nException encountered at \"In [8]\":\n---------------------------------------------------------------------------\nKeyError                                  Traceback (most recent call last)\nFile ~/llmft/llms/lib/python3.10/site-packages/pandas/core/indexes/base.py:3805, in Index.get_loc(self, key)\n   3804 try:\n-> 3805     return self._engine.get_loc(casted_key)\n   3806 except KeyError as err:\n\nFile index.pyx:167, in pandas._libs.index.IndexEngine.get_loc()\n\nFile index.pyx:196, in pandas._libs.index.IndexEngine.get_loc()\n\nFile pandas/_libs/hashtable_class_helper.pxi:7081, in pandas._libs.hashtable.PyObjectHashTable.get_item()\n\nFile pandas/_libs/hashtable_class_helper.pxi:7089, in pandas._libs.hashtable.PyObjectHashTable.get_item()\n\nKeyError: 'Var5'\n\nThe above exception was the direct cause of the following exception:\n\nKeyError                                  Traceback (most recent call last)\nCell In[8], line 9\n      6 df = df.loc[indices].reset_index(drop=True)\n      8 # Apply First Stage Function\n----> 9 df['FStage_Value'] = df.apply(lambda row: fstage(\n     10                                                  row['Var1'], \n     11                                                  row['Var2'], \n     12                                                  row['Var3'], \n     13                                                  row['Var4'], \n     14                                                  row['Var5'],\n     15                                                  row['Var6'],\n     16                                                  row['Var7'],\n     17                                                  row['Var8']), axis=1)\n     19 # If Noise: Shuffle the first stage values\n     20 if noise: \n\nFile ~/llmft/llms/lib/python3.10/site-packages/pandas/core/frame.py:10374, in DataFrame.apply(self, func, axis, raw, result_type, args, by_row, engine, engine_kwargs, **kwargs)\n  10360 from pandas.core.apply import frame_apply\n  10362 op = frame_apply(\n  10363     self,\n  10364     func=func,\n   (...)\n  10372     kwargs=kwargs,\n  10373 )\n> 10374 return op.apply().__finalize__(self, method=\"apply\")\n\nFile ~/llmft/llms/lib/python3.10/site-packages/pandas/core/apply.py:916, in FrameApply.apply(self)\n    913 elif self.raw:\n    914     return self.apply_raw(engine=self.engine, engine_kwargs=self.engine_kwargs)\n--> 916 return self.apply_standard()\n\nFile ~/llmft/llms/lib/python3.10/site-packages/pandas/core/apply.py:1063, in FrameApply.apply_standard(self)\n   1061 def apply_standard(self):\n   1062     if self.engine == \"python\":\n-> 1063         results, res_index = self.apply_series_generator()\n   1064     else:\n   1065         results, res_index = self.apply_series_numba()\n\nFile ~/llmft/llms/lib/python3.10/site-packages/pandas/core/apply.py:1081, in FrameApply.apply_series_generator(self)\n   1078 with option_context(\"mode.chained_assignment\", None):\n   1079     for i, v in enumerate(series_gen):\n   1080         # ignore SettingWithCopy here in case the user mutates\n-> 1081         results[i] = self.func(v, *self.args, **self.kwargs)\n   1082         if isinstance(results[i], ABCSeries):\n   1083             # If we have a view on v, we need to make a copy because\n   1084             #  series_generator will swap out the underlying data\n   1085             results[i] = results[i].copy(deep=False)\n\nCell In[8], line 14, in <lambda>(row)\n      6 df = df.loc[indices].reset_index(drop=True)\n      8 # Apply First Stage Function\n      9 df['FStage_Value'] = df.apply(lambda row: fstage(\n     10                                                  row['Var1'], \n     11                                                  row['Var2'], \n     12                                                  row['Var3'], \n     13                                                  row['Var4'], \n---> 14                                                  row['Var5'],\n     15                                                  row['Var6'],\n     16                                                  row['Var7'],\n     17                                                  row['Var8']), axis=1)\n     19 # If Noise: Shuffle the first stage values\n     20 if noise: \n\nFile ~/llmft/llms/lib/python3.10/site-packages/pandas/core/series.py:1121, in Series.__getitem__(self, key)\n   1118     return self._values[key]\n   1120 elif key_is_scalar:\n-> 1121     return self._get_value(key)\n   1123 # Convert generator to list before going through hashable part\n   1124 # (We will iterate through the generator there to check for slices)\n   1125 if is_iterator(key):\n\nFile ~/llmft/llms/lib/python3.10/site-packages/pandas/core/series.py:1237, in Series._get_value(self, label, takeable)\n   1234     return self._values[label]\n   1236 # Similar to Index.get_value, but we do not fall back to positional\n-> 1237 loc = self.index.get_loc(label)\n   1239 if is_integer(loc):\n   1240     return self._values[loc]\n\nFile ~/llmft/llms/lib/python3.10/site-packages/pandas/core/indexes/base.py:3812, in Index.get_loc(self, key)\n   3807     if isinstance(casted_key, slice) or (\n   3808         isinstance(casted_key, abc.Iterable)\n   3809         and any(isinstance(x, slice) for x in casted_key)\n   3810     ):\n   3811         raise InvalidIndexError(key)\n-> 3812     raise KeyError(key) from err\n   3813 except TypeError:\n   3814     # If we have a listlike key, _check_indexing_error will raise\n   3815     #  InvalidIndexError. Otherwise we fall through and re-raise\n   3816     #  the TypeError.\n   3817     self._check_indexing_error(key)\n\nKeyError: 'Var5'\n",
     "output_type": "error",
     "traceback": [
      "\u001b[0;31m---------------------------------------------------------------------------\u001b[0m",
      "\u001b[0;31mPapermillExecutionError\u001b[0m                   Traceback (most recent call last)",
      "Cell \u001b[0;32mIn[2], line 20\u001b[0m\n\u001b[1;32m     17\u001b[0m \u001b[39m# Start the timer\u001b[39;00m\n\u001b[1;32m     18\u001b[0m start_time \u001b[39m=\u001b[39m time\u001b[39m.\u001b[39mtime()\n\u001b[0;32m---> 20\u001b[0m pm\u001b[39m.\u001b[39;49mexecute_notebook(\n\u001b[1;32m     21\u001b[0m     input_nb,\n\u001b[1;32m     22\u001b[0m     output_nb,\n\u001b[1;32m     23\u001b[0m     parameters\u001b[39m=\u001b[39;49m{\u001b[39m'\u001b[39;49m\u001b[39mnoise\u001b[39;49m\u001b[39m'\u001b[39;49m: noise, \n\u001b[1;32m     24\u001b[0m                 \u001b[39m'\u001b[39;49m\u001b[39mseed\u001b[39;49m\u001b[39m'\u001b[39;49m: seed, \n\u001b[1;32m     25\u001b[0m                 \u001b[39m'\u001b[39;49m\u001b[39mversion\u001b[39;49m\u001b[39m'\u001b[39;49m: version,\n\u001b[1;32m     26\u001b[0m                 \u001b[39m'\u001b[39;49m\u001b[39msampling_size\u001b[39;49m\u001b[39m'\u001b[39;49m: sample_size}\n\u001b[1;32m     27\u001b[0m )\n\u001b[1;32m     29\u001b[0m \u001b[39m# Stop the timer\u001b[39;00m\n\u001b[1;32m     30\u001b[0m end_time \u001b[39m=\u001b[39m time\u001b[39m.\u001b[39mtime()\n",
      "File \u001b[0;32m~/llmft/llms/lib/python3.10/site-packages/papermill/execute.py:131\u001b[0m, in \u001b[0;36mexecute_notebook\u001b[0;34m(input_path, output_path, parameters, engine_name, request_save_on_cell_execute, prepare_only, kernel_name, language, progress_bar, log_output, stdout_file, stderr_file, start_timeout, report_mode, cwd, **engine_kwargs)\u001b[0m\n\u001b[1;32m    116\u001b[0m         nb \u001b[39m=\u001b[39m papermill_engines\u001b[39m.\u001b[39mexecute_notebook_with_engine(\n\u001b[1;32m    117\u001b[0m             engine_name,\n\u001b[1;32m    118\u001b[0m             nb,\n\u001b[0;32m   (...)\u001b[0m\n\u001b[1;32m    127\u001b[0m             \u001b[39m*\u001b[39m\u001b[39m*\u001b[39mengine_kwargs,\n\u001b[1;32m    128\u001b[0m         )\n\u001b[1;32m    130\u001b[0m     \u001b[39m# Check for errors first (it saves on error before raising)\u001b[39;00m\n\u001b[0;32m--> 131\u001b[0m     raise_for_execution_errors(nb, output_path)\n\u001b[1;32m    133\u001b[0m \u001b[39m# Write final output in case the engine didn't write it on cell completion.\u001b[39;00m\n\u001b[1;32m    134\u001b[0m write_ipynb(nb, output_path)\n",
      "File \u001b[0;32m~/llmft/llms/lib/python3.10/site-packages/papermill/execute.py:251\u001b[0m, in \u001b[0;36mraise_for_execution_errors\u001b[0;34m(nb, output_path)\u001b[0m\n\u001b[1;32m    248\u001b[0m nb\u001b[39m.\u001b[39mcells\u001b[39m.\u001b[39minsert(\u001b[39m0\u001b[39m, error_msg_cell)\n\u001b[1;32m    250\u001b[0m write_ipynb(nb, output_path)\n\u001b[0;32m--> 251\u001b[0m \u001b[39mraise\u001b[39;00m error\n",
      "\u001b[0;31mPapermillExecutionError\u001b[0m: \n---------------------------------------------------------------------------\nException encountered at \"In [8]\":\n---------------------------------------------------------------------------\nKeyError                                  Traceback (most recent call last)\nFile ~/llmft/llms/lib/python3.10/site-packages/pandas/core/indexes/base.py:3805, in Index.get_loc(self, key)\n   3804 try:\n-> 3805     return self._engine.get_loc(casted_key)\n   3806 except KeyError as err:\n\nFile index.pyx:167, in pandas._libs.index.IndexEngine.get_loc()\n\nFile index.pyx:196, in pandas._libs.index.IndexEngine.get_loc()\n\nFile pandas/_libs/hashtable_class_helper.pxi:7081, in pandas._libs.hashtable.PyObjectHashTable.get_item()\n\nFile pandas/_libs/hashtable_class_helper.pxi:7089, in pandas._libs.hashtable.PyObjectHashTable.get_item()\n\nKeyError: 'Var5'\n\nThe above exception was the direct cause of the following exception:\n\nKeyError                                  Traceback (most recent call last)\nCell In[8], line 9\n      6 df = df.loc[indices].reset_index(drop=True)\n      8 # Apply First Stage Function\n----> 9 df['FStage_Value'] = df.apply(lambda row: fstage(\n     10                                                  row['Var1'], \n     11                                                  row['Var2'], \n     12                                                  row['Var3'], \n     13                                                  row['Var4'], \n     14                                                  row['Var5'],\n     15                                                  row['Var6'],\n     16                                                  row['Var7'],\n     17                                                  row['Var8']), axis=1)\n     19 # If Noise: Shuffle the first stage values\n     20 if noise: \n\nFile ~/llmft/llms/lib/python3.10/site-packages/pandas/core/frame.py:10374, in DataFrame.apply(self, func, axis, raw, result_type, args, by_row, engine, engine_kwargs, **kwargs)\n  10360 from pandas.core.apply import frame_apply\n  10362 op = frame_apply(\n  10363     self,\n  10364     func=func,\n   (...)\n  10372     kwargs=kwargs,\n  10373 )\n> 10374 return op.apply().__finalize__(self, method=\"apply\")\n\nFile ~/llmft/llms/lib/python3.10/site-packages/pandas/core/apply.py:916, in FrameApply.apply(self)\n    913 elif self.raw:\n    914     return self.apply_raw(engine=self.engine, engine_kwargs=self.engine_kwargs)\n--> 916 return self.apply_standard()\n\nFile ~/llmft/llms/lib/python3.10/site-packages/pandas/core/apply.py:1063, in FrameApply.apply_standard(self)\n   1061 def apply_standard(self):\n   1062     if self.engine == \"python\":\n-> 1063         results, res_index = self.apply_series_generator()\n   1064     else:\n   1065         results, res_index = self.apply_series_numba()\n\nFile ~/llmft/llms/lib/python3.10/site-packages/pandas/core/apply.py:1081, in FrameApply.apply_series_generator(self)\n   1078 with option_context(\"mode.chained_assignment\", None):\n   1079     for i, v in enumerate(series_gen):\n   1080         # ignore SettingWithCopy here in case the user mutates\n-> 1081         results[i] = self.func(v, *self.args, **self.kwargs)\n   1082         if isinstance(results[i], ABCSeries):\n   1083             # If we have a view on v, we need to make a copy because\n   1084             #  series_generator will swap out the underlying data\n   1085             results[i] = results[i].copy(deep=False)\n\nCell In[8], line 14, in <lambda>(row)\n      6 df = df.loc[indices].reset_index(drop=True)\n      8 # Apply First Stage Function\n      9 df['FStage_Value'] = df.apply(lambda row: fstage(\n     10                                                  row['Var1'], \n     11                                                  row['Var2'], \n     12                                                  row['Var3'], \n     13                                                  row['Var4'], \n---> 14                                                  row['Var5'],\n     15                                                  row['Var6'],\n     16                                                  row['Var7'],\n     17                                                  row['Var8']), axis=1)\n     19 # If Noise: Shuffle the first stage values\n     20 if noise: \n\nFile ~/llmft/llms/lib/python3.10/site-packages/pandas/core/series.py:1121, in Series.__getitem__(self, key)\n   1118     return self._values[key]\n   1120 elif key_is_scalar:\n-> 1121     return self._get_value(key)\n   1123 # Convert generator to list before going through hashable part\n   1124 # (We will iterate through the generator there to check for slices)\n   1125 if is_iterator(key):\n\nFile ~/llmft/llms/lib/python3.10/site-packages/pandas/core/series.py:1237, in Series._get_value(self, label, takeable)\n   1234     return self._values[label]\n   1236 # Similar to Index.get_value, but we do not fall back to positional\n-> 1237 loc = self.index.get_loc(label)\n   1239 if is_integer(loc):\n   1240     return self._values[loc]\n\nFile ~/llmft/llms/lib/python3.10/site-packages/pandas/core/indexes/base.py:3812, in Index.get_loc(self, key)\n   3807     if isinstance(casted_key, slice) or (\n   3808         isinstance(casted_key, abc.Iterable)\n   3809         and any(isinstance(x, slice) for x in casted_key)\n   3810     ):\n   3811         raise InvalidIndexError(key)\n-> 3812     raise KeyError(key) from err\n   3813 except TypeError:\n   3814     # If we have a listlike key, _check_indexing_error will raise\n   3815     #  InvalidIndexError. Otherwise we fall through and re-raise\n   3816     #  the TypeError.\n   3817     self._check_indexing_error(key)\n\nKeyError: 'Var5'\n"
     ]
    }
   ],
   "source": [
    "seeds = np.random.randint(0, high=2**32, size=15, dtype=np.uint32).tolist()\n",
    "\n",
    "noise = False\n",
    "version = 2\n",
    "sample_size = 1000\n",
    "input_nb = './nn_single_run.ipynb'\n",
    "\n",
    "# List to store execution times\n",
    "execution_times = []\n",
    "\n",
    "\n",
    "\n",
    "print(f'Starting Experiment --> verion: {version}  |   sample size: {sample_size}  |   noise:{noise}')\n",
    "for i, seed in enumerate(seeds):\n",
    "    output_nb = f'nn_output_notebook_{i+1}.ipynb'\n",
    "    \n",
    "    # Start the timer\n",
    "    start_time = time.time()\n",
    "    \n",
    "    pm.execute_notebook(\n",
    "        input_nb,\n",
    "        output_nb,\n",
    "        parameters={'noise': noise, \n",
    "                    'seed': seed, \n",
    "                    'version': version,\n",
    "                    'sampling_size': sample_size}\n",
    "    )\n",
    "    \n",
    "    # Stop the timer\n",
    "    end_time = time.time()\n",
    "    \n",
    "    # Calculate the duration\n",
    "    duration = end_time - start_time\n",
    "    execution_times.append(duration)\n",
    "    \n",
    "    print(f\"Run {i+1} with seed {seed} took {duration:.2f} seconds\")\n",
    "\n",
    "    #Remove the output notebook after capturing necessary data\n",
    "    os.remove(output_nb)\n",
    "\n",
    "# Optionally, you can save these times to a file or print them all out at the end\n",
    "print(\"All execution times:\", execution_times)"
   ]
  },
  {
   "cell_type": "code",
   "execution_count": null,
   "metadata": {},
   "outputs": [],
   "source": []
  }
 ],
 "metadata": {
  "kernelspec": {
   "display_name": "llms",
   "language": "python",
   "name": "python3"
  },
  "language_info": {
   "codemirror_mode": {
    "name": "ipython",
    "version": 3
   },
   "file_extension": ".py",
   "mimetype": "text/x-python",
   "name": "python",
   "nbconvert_exporter": "python",
   "pygments_lexer": "ipython3",
   "version": "3.10.12"
  },
  "orig_nbformat": 4
 },
 "nbformat": 4,
 "nbformat_minor": 2
}
