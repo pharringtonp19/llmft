{
 "cells": [
  {
   "attachments": {},
   "cell_type": "markdown",
   "metadata": {},
   "source": [
    "#### **Import Libraries**"
   ]
  },
  {
   "cell_type": "code",
   "execution_count": 1,
   "metadata": {},
   "outputs": [],
   "source": [
    "import anthropic\n",
    "import os \n",
    "from sklearn.model_selection import train_test_split\n",
    "from datasets import Dataset, DatasetDict\n",
    "from tqdm import tqdm\n",
    "import numpy as np \n",
    "import random \n",
    "import math\n",
    "from itertools import chain\n",
    "from IPython.display import display, Markdown\n",
    "import textwrap\n",
    "import tiktoken\n",
    "import csv\n",
    "import time \n",
    "import pandas as pd \n",
    "from tqdm import tqdm \n",
    "from trics.nlp.utils import to_markdown, create_csv_with_headers"
   ]
  },
  {
   "attachments": {},
   "cell_type": "markdown",
   "metadata": {},
   "source": [
    "#### **Setup Folder**"
   ]
  },
  {
   "cell_type": "code",
   "execution_count": 2,
   "metadata": {},
   "outputs": [
    {
     "data": {
      "text/plain": [
       "(2403, 6)"
      ]
     },
     "execution_count": 2,
     "metadata": {},
     "output_type": "execute_result"
    }
   ],
   "source": [
    "version = 8 \n",
    "experiment_folder = './../../../toy-data/exp2/'\n",
    "data_csv = experiment_folder + f'data_{version}.csv'\n",
    "df = pd.read_csv(data_csv)\n",
    "df.shape"
   ]
  },
  {
   "attachments": {},
   "cell_type": "markdown",
   "metadata": {},
   "source": [
    "#### **Plotting**"
   ]
  },
  {
   "cell_type": "code",
   "execution_count": 3,
   "metadata": {},
   "outputs": [
    {
     "name": "stdout",
     "output_type": "stream",
     "text": [
      "./../../../styles/Newsreader\n",
      "/home/ubuntu/llmft/styles/Newsreader/static/Newsreader_14pt/Newsreader_14pt-ExtraBold.ttf\n"
     ]
    }
   ],
   "source": [
    "import matplotlib as mpl\n",
    "from matplotlib import pyplot as plt\n",
    "from matplotlib import rcParams\n",
    "rcParams['image.interpolation'] = 'nearest'\n",
    "rcParams['image.cmap'] = 'viridis'\n",
    "rcParams['axes.grid'] = False\n",
    "%matplotlib inline\n",
    "%config InlineBackend.figure_format = 'svg'\n",
    "plt.style.use('seaborn-v0_8-dark-palette')\n",
    "\n",
    "from matplotlib import font_manager \n",
    "locations = './../../../styles/Newsreader'\n",
    "font_files = font_manager.findSystemFonts(fontpaths=locations)\n",
    "print(locations)\n",
    "print(font_files[0])\n",
    "for f in font_files: \n",
    "    font_manager.fontManager.addfont(f)\n",
    "plt.rcParams[\"font.family\"] = \"Newsreader\""
   ]
  },
  {
   "attachments": {},
   "cell_type": "markdown",
   "metadata": {},
   "source": [
    "#### **LLM Set Up**"
   ]
  },
  {
   "cell_type": "code",
   "execution_count": 4,
   "metadata": {},
   "outputs": [],
   "source": [
    "client = anthropic.Anthropic(\n",
    ")"
   ]
  },
  {
   "attachments": {},
   "cell_type": "markdown",
   "metadata": {},
   "source": [
    "#### **Define File**"
   ]
  },
  {
   "cell_type": "code",
   "execution_count": 5,
   "metadata": {},
   "outputs": [
    {
     "name": "stdout",
     "output_type": "stream",
     "text": [
      "Data for 8 already exists\n"
     ]
    }
   ],
   "source": [
    "if os.path.exists(data_csv):\n",
    "    print(f'Data for {version} already exists')\n",
    "    run = False \n",
    "else:\n",
    "    create_csv_with_headers(data_csv, ['Var0', 'Var1', 'Var2', 'Var3', 'Var4', 'Description'])\n",
    "    run = True "
   ]
  },
  {
   "cell_type": "code",
   "execution_count": 6,
   "metadata": {},
   "outputs": [],
   "source": [
    "age_groups = [\"mid-20s\", \"late-20s\", \"early-30s\", \"mid-30s\", \"late-30s\", \"early-40s\", \"mid-40s\", \"late-40s\", \"early-50s\", \"mid-50s\", \"late-50s\"]\n",
    "living_situations = [\"small apartment complex\", \"large apartment complex\", \"three-story duplex\", \"two-story duplex\"]\n",
    "\n",
    "\n",
    "\n",
    "conditions =[ \"have a critical illness\",\n",
    "    \"have a chronic illness\",\n",
    "    \"have a severe acute condition\",\n",
    "    \"have a moderate chronic condition\",\n",
    "    \"have an acute illness\",\n",
    "    \"have temporary health issues\",\n",
    "    \"have general good health\",\n",
    "    \"have optimal health\"\n",
    "]\n",
    "voucher_status = ['', 'with a housing voucher']"
   ]
  },
  {
   "attachments": {},
   "cell_type": "markdown",
   "metadata": {},
   "source": [
    "#### **Functions**"
   ]
  },
  {
   "cell_type": "code",
   "execution_count": 7,
   "metadata": {},
   "outputs": [],
   "source": [
    "def anthropic_completion(input):\n",
    "    message = client.messages.create(\n",
    "    model=\"claude-3-haiku-20240307\",\n",
    "    max_tokens=500,\n",
    "    temperature=1.,\n",
    "    system=\"You are a housing court lawyer\",\n",
    "    messages=[\n",
    "        {\"role\": \"user\", \"content\": input}\n",
    "    ])\n",
    "    return message.content[0].text\n",
    "\n",
    "\n",
    "def get_promptv3(i, x):\n",
    "    \"\"\"Generates a prompt for writing a paragraph about a tenant with added noise for variability.\n",
    "\n",
    "    Args:\n",
    "        i: Random seed for reproducibility.\n",
    "        x: List of features for the tenant.\n",
    "\n",
    "    Returns:\n",
    "        A formatted string containing the prompt.\n",
    "    \"\"\"\n",
    "    random.seed(i)\n",
    "\n",
    "    # Define possible synonyms and additional details\n",
    "\n",
    "    # Add variability\n",
    "    age_group = age_groups[x[0]]\n",
    "    living_situation = living_situations[x[1]]\n",
    "    rent = x[2]\n",
    "    health = conditions[x[3]]\n",
    "    voucher = voucher_status[x[4]]\n",
    "\n",
    "    return f\"\"\"random seed: {i}\n",
    "    Task: Write a paragraph description (and only a description) of a tenant in their {age_group} who is currently behind on rent for a total of ${rent:.0f}. \n",
    "    Mention that they {health}, live in a {living_situation} {voucher}.\n",
    "    \n",
    "    Description: The tenant is a \"\"\"\n"
   ]
  },
  {
   "attachments": {},
   "cell_type": "markdown",
   "metadata": {},
   "source": [
    "#### **Create Variables**"
   ]
  },
  {
   "cell_type": "code",
   "execution_count": 8,
   "metadata": {},
   "outputs": [
    {
     "name": "stdout",
     "output_type": "stream",
     "text": [
      "(15000, 5)\n"
     ]
    }
   ],
   "source": [
    "# Set number of observations\n",
    "n = 15_000 \n",
    "\n",
    "# Number of elements in the list\n",
    "n_disabilities = len(conditions)\n",
    "\n",
    "# Define the probabilities\n",
    "probabilities = [0.5/6, 0.5/6, 0.5/6, 0.5/6, 0.5/6, 0.5/6, 0.5/2, 0.5/2]\n",
    "\n",
    "# Set the random seed for reproducibility\n",
    "np.random.seed(2)\n",
    "\n",
    "# Generate a single Bernoulli random variable with p = 0.5\n",
    "var0 = np.random.choice(range(len(age_groups)), size=n).astype(int)\n",
    "var1 = np.random.choice(range(len(living_situations)), size=n).astype(int)\n",
    "var2 = np.random.choice(range(650, 1500), size=n).astype(int)\n",
    "var3 = np.random.choice(range(n_disabilities), size=n, p=probabilities)\n",
    "var4 = np.random.binomial(n=1, p=0.2, size=n).astype(int)\n",
    "data_matrix = np.column_stack((var0, var1, var2, var3, var4,))\n",
    "print(data_matrix.shape)"
   ]
  },
  {
   "cell_type": "code",
   "execution_count": 9,
   "metadata": {},
   "outputs": [
    {
     "data": {
      "text/markdown": [
       "> The tenant is a middle-aged individual in their early 50s who is currently facing housing insecurity due to being behind on their rent payments. Despite generally enjoying good health, the tenant is struggling to make ends meet, owing a total of $1,061 in back rent. They reside in a two-story duplex, a living arrangement that has become increasingly challenging to maintain as their financial situation has deteriorated. This situation highlights the delicate balance that many tenants must navigate, where unexpected circumstances or expenses can quickly lead to falling behind on rent and facing the possibility of losing their home."
      ],
      "text/plain": [
       "<IPython.core.display.Markdown object>"
      ]
     },
     "execution_count": 9,
     "metadata": {},
     "output_type": "execute_result"
    }
   ],
   "source": [
    "text = anthropic_completion(get_promptv3(1, data_matrix[1]))\n",
    "to_markdown(text)"
   ]
  },
  {
   "cell_type": "code",
   "execution_count": 10,
   "metadata": {},
   "outputs": [
    {
     "name": "stderr",
     "output_type": "stream",
     "text": [
      "100%|██████████| 12596/12596 [4:19:25<00:00,  1.24s/it] \n"
     ]
    }
   ],
   "source": [
    "for i in tqdm(range(2404, n)):\n",
    "    text = anthropic_completion(get_promptv3(i, data_matrix[i]))\n",
    "    with open(data_csv, mode='a', newline='') as file:\n",
    "        writer = csv.writer(file)\n",
    "        row = list(data_matrix[i]) + [text]\n",
    "        writer.writerow(row)\n",
    "    time.sleep(0.1)"
   ]
  },
  {
   "cell_type": "code",
   "execution_count": 11,
   "metadata": {},
   "outputs": [
    {
     "data": {
      "text/markdown": [
       "> The tenant is a 58-year-old individual who is currently facing significant financial difficulties. They reside in a large apartment complex and have fallen behind on their rent, accumulating a total debt of $802. This challenging situation has been exacerbated by the tenant's critical illness, which has impacted their ability to maintain consistent employment and income. Despite their best efforts, the tenant is struggling to keep up with the monthly rental payments, causing them considerable stress and uncertainty about their living situation."
      ],
      "text/plain": [
       "<IPython.core.display.Markdown object>"
      ]
     },
     "execution_count": 11,
     "metadata": {},
     "output_type": "execute_result"
    }
   ],
   "source": [
    "to_markdown(text)"
   ]
  }
 ],
 "metadata": {
  "kernelspec": {
   "display_name": "llms",
   "language": "python",
   "name": "python3"
  },
  "language_info": {
   "codemirror_mode": {
    "name": "ipython",
    "version": 3
   },
   "file_extension": ".py",
   "mimetype": "text/x-python",
   "name": "python",
   "nbconvert_exporter": "python",
   "pygments_lexer": "ipython3",
   "version": "3.10.12"
  },
  "orig_nbformat": 4
 },
 "nbformat": 4,
 "nbformat_minor": 2
}
