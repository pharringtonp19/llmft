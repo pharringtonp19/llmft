{
 "cells": [
  {
   "attachments": {},
   "cell_type": "markdown",
   "metadata": {},
   "source": [
    "#### **Import Libraries**"
   ]
  },
  {
   "cell_type": "code",
   "execution_count": null,
   "metadata": {},
   "outputs": [],
   "source": [
    "# Standard library imports\n",
    "import os\n",
    "\n",
    "# Deep learning libraries\n",
    "import torch\n",
    "from torch.utils.data import DataLoader\n",
    "import transformers\n",
    "from transformers import AutoModelForSequenceClassification, AutoTokenizer, DataCollatorWithPadding\n",
    "\n",
    "# Text processing libraries\n",
    "import tiktoken\n",
    "import csv\n",
    "import pandas as pd\n",
    "\n",
    "# Utility libraries\n",
    "import numpy as np\n",
    "import random\n",
    "import math\n",
    "from tqdm import tqdm\n",
    "from itertools import chain\n",
    "from IPython.display import display, Markdown\n",
    "import textwrap\n",
    "\n",
    "# Custom libraries  \n",
    "from llmft.train import EncoderTrainer, EarlyStopping\n",
    "from llmft.metrics import compute_recall\n",
    "from llmft.losses import FocalLoss\n",
    "from llmft.utils import predict\n",
    "\n",
    "# Visualization libraries\n",
    "import seaborn as sns  # Assuming seaborn is installed\n",
    "\n",
    "# NLP utility (assuming trics is a library/module)\n",
    "from trics.nlp.utils import to_markdown\n",
    "\n",
    "# Configure GPU usage and tokenizer parallelism\n",
    "os.environ[\"CUDA_VISIBLE_DEVICES\"] = \"0\"\n",
    "os.environ[\"TOKENIZERS_PARALLELISM\"] = \"false\"\n",
    "\n",
    "# Suppress warnings\n",
    "import warnings\n",
    "warnings.filterwarnings(\"ignore\")\n",
    "\n",
    "# Dataset libraries (can be grouped together)\n",
    "from sklearn.model_selection import train_test_split\n",
    "from datasets import Dataset, DatasetDict"
   ]
  },
  {
   "attachments": {},
   "cell_type": "markdown",
   "metadata": {},
   "source": [
    "#### **Parameters**"
   ]
  },
  {
   "cell_type": "code",
   "execution_count": null,
   "metadata": {
    "tags": [
     "parameters"
    ]
   },
   "outputs": [],
   "source": [
    "seed = 10\n",
    "noise = False \n",
    "version = 1 \n",
    "lr = 1e-4\n",
    "sample_size = 32\n",
    "warmup_ratio = 0.25\n",
    "batch_size = 4\n",
    "epochs = 50\n",
    "patience = 30\n",
    "gamma = 0.0\n",
    "prompt = True \n",
    "test_size = 0.25"
   ]
  },
  {
   "attachments": {},
   "cell_type": "markdown",
   "metadata": {},
   "source": [
    "#### **Seed**"
   ]
  },
  {
   "cell_type": "code",
   "execution_count": null,
   "metadata": {},
   "outputs": [],
   "source": [
    "np.random.seed(seed)"
   ]
  },
  {
   "attachments": {},
   "cell_type": "markdown",
   "metadata": {},
   "source": [
    "#### **Set Up Paths**"
   ]
  },
  {
   "cell_type": "code",
   "execution_count": null,
   "metadata": {},
   "outputs": [],
   "source": [
    "data_csv = f'./../../../toy-data/exp2/data_{version}.csv'"
   ]
  },
  {
   "attachments": {},
   "cell_type": "markdown",
   "metadata": {},
   "source": [
    "#### **Set Up Plotting**"
   ]
  },
  {
   "cell_type": "code",
   "execution_count": null,
   "metadata": {},
   "outputs": [],
   "source": [
    "import matplotlib as mpl\n",
    "from matplotlib import pyplot as plt\n",
    "from matplotlib import rcParams\n",
    "rcParams['image.interpolation'] = 'nearest'\n",
    "rcParams['image.cmap'] = 'viridis'\n",
    "rcParams['axes.grid'] = False\n",
    "%matplotlib inline\n",
    "%config InlineBackend.figure_format = 'svg'\n",
    "plt.style.use('seaborn-v0_8-dark-palette')\n",
    "\n",
    "from matplotlib import font_manager \n",
    "locations = './../../../styles/Newsreader'\n",
    "font_files = font_manager.findSystemFonts(fontpaths=locations)\n",
    "print(locations)\n",
    "print(font_files[0])\n",
    "for f in font_files: \n",
    "    font_manager.fontManager.addfont(f)\n",
    "plt.rcParams[\"font.family\"] = \"Newsreader\""
   ]
  },
  {
   "attachments": {},
   "cell_type": "markdown",
   "metadata": {},
   "source": [
    "#### **First Stage Function**"
   ]
  },
  {
   "cell_type": "code",
   "execution_count": null,
   "metadata": {},
   "outputs": [],
   "source": [
    "conditions_not_covered = [\n",
    "    \"Short-term illnesses\",\n",
    "    \"Temporary exhaustion\",\n",
    "    \"Behavioral Traits and Conditions\",\n",
    "    \"Having a quick temper without any underlying medical condition\",\n",
    "    \"Certain Addictions\",\n",
    "    \"Substance abuse disorders\",\n",
    "    \"good health\"\n",
    "]\n",
    "\n",
    "conditions_covered = [\n",
    "    \"Mobility impairments\",\n",
    "    \"Visual impairments\",\n",
    "    \"Hearing impairments\",\n",
    "    \"Chronic illnesses\",\n",
    "    \"Respiratory disorders\",\n",
    "    \"Cardiovascular conditions\",\n",
    "    \"Intellectual disabilities\",\n",
    "    \"Learning disabilities\",\n",
    "    \"Autism spectrum disorders\",\n",
    "    \"Psychiatric disorders\",\n",
    "    \"Traumatic brain injuries\",\n",
    "    \"Alzheimer's disease and other dementias\"\n",
    "]\n",
    "\n",
    "disabilities = conditions_covered + conditions_not_covered\n",
    "\n",
    "# Create a list of (0,1)s\n",
    "severity_indicator = [1 if disability in conditions_covered else 0 for disability in disabilities]\n",
    "\n",
    "def fstage(var1, var2, var3, var4, var5, var6, var7, var8, var9):\n",
    "    return 0.35*severity_indicator[var5] + 0.35*var9"
   ]
  },
  {
   "cell_type": "code",
   "execution_count": null,
   "metadata": {},
   "outputs": [],
   "source": [
    "import re \n",
    "\n",
    "def remove_newlines(text):\n",
    "    return re.sub(r'\\n+', '', text)"
   ]
  },
  {
   "attachments": {},
   "cell_type": "markdown",
   "metadata": {},
   "source": [
    "#### **Read in Data**"
   ]
  },
  {
   "cell_type": "code",
   "execution_count": null,
   "metadata": {},
   "outputs": [],
   "source": [
    "import re \n",
    "\n",
    "def remove_newlines(text):\n",
    "    return re.sub(r'\\n+', '', text)\n",
    "\n",
    "string_b = 'Based on the following information, predict (Yes/No) whether the tenant will be represented in court by a lawyer.\\n\\n Description:'\n",
    "string1 = \"\\n\\n Note: The tenant has access to a free lawyer.\"\n",
    "string0 = \"\\n\\n Note: The tenant does not have access to a free lawyer.\"\n",
    "if prompt:\n",
    "    string1 += \" Access to a lawyer does not mean the tenant will be represented in court by a lawyer.\" \\\n",
    "        \" If the tenant is given access to a lawyer, they must apply for representation.\" \\\n",
    "        \" Because more tenants apply than can be represented, legal aid providers prioritize tenants with **vouchers** and **disabilities** when reviewing applications.\" \\\n",
    "        \" Providers can differ over what they consider to be a dissability.\"\\\n",
    "        \" If a tenant's application is selected, they must follow-up with the provider to arange for legal representation.\" \\\n",
    "        \" Therefor it's possible that tenants with characteristics which sugges they they should be prioritized remain without representation.\"\n",
    "\n",
    "# Read in Data Set\n",
    "df = pd.read_csv(data_csv)\n",
    "df['Description'] = df['Description'].apply(lambda x: remove_newlines(x))\n",
    "\n",
    "\n",
    "# Subsample Observations\n",
    "indices = np.random.choice(df.index, size=sample_size, replace=False)\n",
    "df = df.loc[indices].reset_index(drop=True)\n",
    "\n",
    "# Apply First Stage Function\n",
    "df['FStage_Value'] = df.apply(lambda row: fstage(\n",
    "                                                 row['Var1'], \n",
    "                                                 row['Var2'], \n",
    "                                                 row['Var3'], \n",
    "                                                 row['Var4'], \n",
    "                                                 row['Var5'],\n",
    "                                                 row['Var6'],\n",
    "                                                 row['Var7'],\n",
    "                                                 row['Var8'],\n",
    "                                                 row['Var9']), axis=1)\n",
    "\n",
    "# If Noise: Shuffle the first stage values\n",
    "if noise: \n",
    "    df['FStage_Value'] = df['FStage_Value'].sample(frac=1).reset_index(drop=True)\n",
    "\n",
    "# Sample Instrumental Values  \n",
    "df['Instrument'] = np.random.binomial(n=1, p=0.5, size=sample_size)\n",
    "\n",
    "# Text + Instrument\n",
    "df['FullDescription'] = np.where(df['Instrument'] == 1,\n",
    "                             string_b + df['Description'] + string1,\n",
    "                             string_b + df['Description'] + string0)\n",
    "\n",
    "# Text + Instrument == 1\n",
    "df['Treated_FullDescription'] = df.apply(lambda row: string_b + row['Description'].replace(\"\\n\", \"\") + string1, axis=1)\n",
    "\n",
    "# Text + Instrument == 0\n",
    "df['Control_FullDescription'] = df.apply(lambda row: string_b + row['Description'].replace(\"\\n\", \"\") + string0, axis=1)\n",
    "\n",
    "# Sample Treatment Values\n",
    "df['Treatment'] = [random.randint(0, 1) for _ in range(df.shape[0])]\n",
    "\n",
    "# Sample Outcome Values\n",
    "df['Outcome'] =  (1. +  2.*(df['FStage_Value'] > 0.))*df['Treatment'] + 0.1*np.random.normal(size=sample_size)"
   ]
  },
  {
   "attachments": {},
   "cell_type": "markdown",
   "metadata": {},
   "source": [
    "#### **Plot**"
   ]
  },
  {
   "cell_type": "code",
   "execution_count": null,
   "metadata": {},
   "outputs": [],
   "source": [
    "fig = plt.figure(dpi=300, tight_layout=True, figsize=(7, 4.5))\n",
    "ax = plt.axes(facecolor=(.95, .96, .97))\n",
    "\n",
    "# Plot customizations\n",
    "for key in 'left', 'right', 'top':\n",
    "    ax.spines[key].set_visible(False)\n",
    "ax.text(0., 1.02, s='Count', transform=ax.transAxes, size=14)\n",
    "ax.yaxis.set_tick_params(length=0)\n",
    "ax.yaxis.grid(True, color='white', linewidth=2)\n",
    "ax.set_axisbelow(True)\n",
    "plt.hist(df['FStage_Value'], color='#36454F')\n",
    "plt.xlim(0, 1)\n",
    "plt.xlabel('Probability of Treatment Given Instrument', size=14)\n",
    "plt.show()"
   ]
  },
  {
   "attachments": {},
   "cell_type": "markdown",
   "metadata": {},
   "source": [
    "#### **Set Up Device**"
   ]
  },
  {
   "cell_type": "code",
   "execution_count": null,
   "metadata": {},
   "outputs": [],
   "source": [
    "device = torch.device(\"cuda\" if torch.cuda.is_available() else \"cpu\")\n",
    "print(f\"Device: {device}\")"
   ]
  },
  {
   "attachments": {},
   "cell_type": "markdown",
   "metadata": {},
   "source": [
    "#### **Tokenizer**"
   ]
  },
  {
   "cell_type": "code",
   "execution_count": null,
   "metadata": {},
   "outputs": [],
   "source": [
    "model_id = \"microsoft/phi-3-mini-4k-instruct\" #\"microsoft/phi-3-mini-4k-instruct\" # \"meta-llama/Meta-Llama-3-8B-Instruct\" #\"meta-llama/Meta-Llama-3-8B\" # #\n",
    "tokenizer = AutoTokenizer.from_pretrained(model_id)\n",
    "tokenizer.pad_token_id = tokenizer.eos_token_id\n",
    "tokenizer.pad_token = tokenizer.eos_token\n",
    "\n",
    "def tokenizer_function(example):\n",
    "  return tokenizer(example[\"FullDescription\"], truncation=True, max_length=512)"
   ]
  },
  {
   "attachments": {},
   "cell_type": "markdown",
   "metadata": {},
   "source": [
    "#### **Model**"
   ]
  },
  {
   "cell_type": "code",
   "execution_count": null,
   "metadata": {},
   "outputs": [],
   "source": [
    "from transformers import Phi3ForSequenceClassification\n",
    "model = Phi3ForSequenceClassification.from_pretrained(model_id,\n",
    "                                                           device_map='auto',\n",
    "                                                           num_labels=2, \n",
    "                                                           torch_dtype=torch.bfloat16,\n",
    "                                                           attn_implementation=\"flash_attention_2\")\n",
    "\n",
    "model.gradient_checkpointing_enable()\n",
    "model.config.use_cache = False # Doesn't work with gradient checkpointing.\n"
   ]
  },
  {
   "attachments": {},
   "cell_type": "markdown",
   "metadata": {},
   "source": [
    "#### **DataLoaders**"
   ]
  },
  {
   "cell_type": "code",
   "execution_count": null,
   "metadata": {},
   "outputs": [],
   "source": [
    "df = df.rename(columns={'Treatment': 'label'})\n",
    "original_dataset = Dataset.from_dict(df[['FullDescription','label']])\n",
    "tokenized_dataset = original_dataset.map(tokenizer_function, batched=True)\n",
    "tokenized_dataset = tokenized_dataset.remove_columns(['FullDescription'])\n",
    "\n",
    "data_loader = DataLoader(tokenized_dataset, batch_size=8, collate_fn=DataCollatorWithPadding(tokenizer), shuffle=False)\n"
   ]
  },
  {
   "cell_type": "code",
   "execution_count": null,
   "metadata": {},
   "outputs": [],
   "source": [
    "optimizer = torch.optim.AdamW(model.parameters(), lr=5e-5)\n",
    "from torch.cuda.amp import autocast\n",
    "losses = []\n",
    "\n",
    "model.train()\n",
    "for epoch in range(30):  # Training for 3 epochs\n",
    "    for batch in data_loader:\n",
    "        input_ids, attention_mask, labels = batch['input_ids'].to(device), batch['attention_mask'].to(device), batch['labels'].to(device)\n",
    "\n",
    "        # Forward pass\n",
    "        with autocast():\n",
    "            outputs = model(input_ids=input_ids, attention_mask=attention_mask)\n",
    "            logits = outputs.logits\n",
    "\n",
    "            # Calculate the loss\n",
    "            loss_fct = torch.nn.CrossEntropyLoss()\n",
    "            loss = loss_fct(logits, labels)\n",
    "            losses.append(loss.detach().item())\n",
    "\n",
    "        # Backward pass and optimization\n",
    "        loss.backward()\n",
    "        optimizer.step()\n",
    "        optimizer.zero_grad()\n",
    "\n",
    "    print(f\"Epoch {epoch + 1}, Loss: {loss.item()}\")"
   ]
  },
  {
   "cell_type": "code",
   "execution_count": null,
   "metadata": {},
   "outputs": [],
   "source": [
    "plt.plot(losses)"
   ]
  },
  {
   "cell_type": "code",
   "execution_count": null,
   "metadata": {},
   "outputs": [],
   "source": []
  }
 ],
 "metadata": {
  "kernelspec": {
   "display_name": "llms",
   "language": "python",
   "name": "python3"
  },
  "language_info": {
   "codemirror_mode": {
    "name": "ipython",
    "version": 3
   },
   "file_extension": ".py",
   "mimetype": "text/x-python",
   "name": "python",
   "nbconvert_exporter": "python",
   "pygments_lexer": "ipython3",
   "version": "3.10.12"
  },
  "orig_nbformat": 4
 },
 "nbformat": 4,
 "nbformat_minor": 2
}
