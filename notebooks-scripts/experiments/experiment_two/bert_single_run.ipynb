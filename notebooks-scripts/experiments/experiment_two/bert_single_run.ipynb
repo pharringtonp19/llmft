{
 "cells": [
  {
   "attachments": {},
   "cell_type": "markdown",
   "metadata": {},
   "source": [
    "#### **Import Libraries**"
   ]
  },
  {
   "cell_type": "code",
   "execution_count": null,
   "metadata": {},
   "outputs": [],
   "source": [
    "# Standard library imports\n",
    "import os\n",
    "\n",
    "# Deep learning libraries\n",
    "import torch\n",
    "from torch.utils.data import DataLoader\n",
    "import transformers\n",
    "from transformers import AutoModelForSequenceClassification, AutoTokenizer, DataCollatorWithPadding\n",
    "\n",
    "# Text processing libraries\n",
    "import tiktoken\n",
    "import csv\n",
    "import pandas as pd\n",
    "\n",
    "# Utility libraries\n",
    "import numpy as np\n",
    "import random\n",
    "import math\n",
    "from tqdm import tqdm\n",
    "from itertools import chain\n",
    "from IPython.display import display, Markdown\n",
    "import textwrap\n",
    "\n",
    "# Custom libraries  \n",
    "from llmft.train import EncoderTrainer, EarlyStopping\n",
    "from llmft.metrics import compute_recall, compute_f1_score\n",
    "from llmft.losses import FocalLoss\n",
    "from llmft.utils import predict\n",
    "\n",
    "# Visualization libraries\n",
    "import seaborn as sns  # Assuming seaborn is installed\n",
    "\n",
    "# NLP utility (assuming trics is a library/module)\n",
    "from trics.nlp.utils import to_markdown\n",
    "\n",
    "# Configure GPU usage and tokenizer parallelism\n",
    "os.environ[\"CUDA_VISIBLE_DEVICES\"] = \"0\"\n",
    "os.environ[\"TOKENIZERS_PARALLELISM\"] = \"false\"\n",
    "\n",
    "# Suppress warnings\n",
    "import warnings\n",
    "warnings.filterwarnings(\"ignore\")\n",
    "\n",
    "# Dataset libraries (can be grouped together)\n",
    "from sklearn.model_selection import train_test_split\n",
    "from datasets import Dataset, DatasetDict, concatenate_datasets, load_dataset\n",
    "import torch.nn.utils as utils"
   ]
  },
  {
   "attachments": {},
   "cell_type": "markdown",
   "metadata": {},
   "source": [
    "#### **Parameters**"
   ]
  },
  {
   "cell_type": "code",
   "execution_count": null,
   "metadata": {
    "tags": []
   },
   "outputs": [],
   "source": [
    "seed = 1                        # Seed\n",
    "prompt = False \n",
    "sample_size = 3_000              # Sample Size\n",
    "val_set_fraction = 0.25         # Fraction of sample used for validation set\n",
    "lr = 2e-5                       # Optimizer learning rate\n",
    "warmup_ratio = 0.25             # Fraction of training epochs used for learning rate warm up\n",
    "batch_size = 128                 # Number of observations in each mini-batch\n",
    "epochs = 50                     # Number of training epochs\n",
    "patience = 30                    \n",
    "gamma = 0.0\n",
    "version = 2\n",
    "noise = False "
   ]
  },
  {
   "attachments": {},
   "cell_type": "markdown",
   "metadata": {},
   "source": [
    "#### **Path**"
   ]
  },
  {
   "cell_type": "code",
   "execution_count": null,
   "metadata": {},
   "outputs": [],
   "source": [
    "data_csv = f'./../../../toy-data/exp2/data_{version}.csv'"
   ]
  },
  {
   "attachments": {},
   "cell_type": "markdown",
   "metadata": {},
   "source": [
    "#### **Set Up Plotting**"
   ]
  },
  {
   "cell_type": "code",
   "execution_count": null,
   "metadata": {},
   "outputs": [],
   "source": [
    "import matplotlib as mpl\n",
    "from matplotlib import pyplot as plt\n",
    "from matplotlib import rcParams\n",
    "rcParams['image.interpolation'] = 'nearest'\n",
    "rcParams['image.cmap'] = 'viridis'\n",
    "rcParams['axes.grid'] = False\n",
    "%matplotlib inline\n",
    "%config InlineBackend.figure_format = 'svg'\n",
    "plt.style.use('seaborn-v0_8-dark-palette')\n",
    "\n",
    "from matplotlib import font_manager \n",
    "locations = './../../../styles/Newsreader'\n",
    "font_files = font_manager.findSystemFonts(fontpaths=locations)\n",
    "print(locations)\n",
    "print(font_files[0])\n",
    "for f in font_files: \n",
    "    font_manager.fontManager.addfont(f)\n",
    "plt.rcParams[\"font.family\"] = \"Newsreader\""
   ]
  },
  {
   "attachments": {},
   "cell_type": "markdown",
   "metadata": {},
   "source": [
    "#### **First Stage Function**"
   ]
  },
  {
   "cell_type": "code",
   "execution_count": null,
   "metadata": {},
   "outputs": [],
   "source": [
    "conditions_not_covered = [\n",
    "    \"Good Health\",\n",
    "    \"Mild Behavioral and Psychological Traits\",\n",
    "    \"Temporary Conditions\",\n",
    "    \"Postive Health\",\n",
    "    \"Great Health\"\n",
    "]\n",
    "\n",
    "conditions_covered = [\n",
    "    \"Mobility and Physical Disabilities\",\n",
    "    \"Chronic and Severe Illnesses\",\n",
    "    \"Developmental Disabilities\",\n",
    "    \"Severe Cognitive and Learning Disabilities\",\n",
    "    \"Psychiatric and Severe Mental Health Disorders\"\n",
    "]\n",
    "\n",
    "disabilities = conditions_not_covered + conditions_covered\n",
    "\n",
    "def fstage(var0, var1, var2, var3, var4):\n",
    "    return 0.35*(var3 >= 5) + 0.5*var4"
   ]
  },
  {
   "attachments": {},
   "cell_type": "markdown",
   "metadata": {},
   "source": [
    "#### **Format Data**"
   ]
  },
  {
   "cell_type": "code",
   "execution_count": null,
   "metadata": {},
   "outputs": [],
   "source": [
    "import re \n",
    "\n",
    "def remove_newlines(text):\n",
    "    return re.sub(r'\\n+', '', text)\n",
    "\n",
    "string_b = 'Based on the following information, predict (Yes/No) whether the tenant will be represented in court by a lawyer.\\n\\n'\n",
    "string1 = \"Note: Some tenants have access to a free lawyer others don't. This tenant **has access** to a free lawyer.\\n\\n\"\n",
    "string0 = \"Note: Some tenants have access to a free lawyer others don't. This tenant **does not have access** to a free lawyer.\\n\\n\"\n",
    "if prompt:\n",
    "\n",
    "    context = \"Also Note: Access to a lawyer does not mean the tenant will be represented in court by a lawyer.\" \\\n",
    "        \" If the tenant is given access to a lawyer, they must apply for representation.\" \\\n",
    "        \" Because more tenants apply than can be represented, legal aid providers prioritize tenants with **vouchers** and **disabilities** when reviewing applications.\" \\\n",
    "        \" Providers can differ over what they consider to be a dissability.\"\\\n",
    "        \" If a tenant's application is selected, they must follow-up with the provider to arange for legal representation.\" \\\n",
    "        \" Therefore it's possible that tenants with characteristics which sugges they they should be prioritized remain without representation.\"\n",
    "else:\n",
    "    context = ''\n",
    "\n",
    "# Read in Data Set\n",
    "df = pd.read_csv(data_csv)\n",
    "df['Description'] = df['Description'].apply(lambda x: remove_newlines(x))\n",
    "\n",
    "\n",
    "# Subsample Observations\n",
    "indices = np.random.choice(df.index, size=sample_size, replace=False)\n",
    "df = df.loc[indices].reset_index(drop=True)\n",
    "\n",
    "# Apply First Stage Function\n",
    "df['FStage_Value'] = df.apply(lambda row: fstage(row['Var0'],\n",
    "                                                 row['Var1'], \n",
    "                                                 row['Var2'], \n",
    "                                                 row['Var3'], \n",
    "                                                 row['Var4']), axis=1)\n",
    "\n",
    "# If Noise: Shuffle the first stage values\n",
    "if noise: \n",
    "    df['FStage_Value'] = df['FStage_Value'].sample(frac=1).reset_index(drop=True)\n",
    "\n",
    "# Sample Instrumental Values  \n",
    "df['Instrument'] = np.random.binomial(n=1, p=0.5, size=sample_size)\n",
    "\n",
    "# Text + Instrument\n",
    "df['FullDescription'] = np.where(df['Instrument'] == 1,\n",
    "                             string_b + string1 + 'Description:' + df['Description'].replace(\"\\n\", \"\") + '\\n\\n' + context,\n",
    "                             string_b + string0 + 'Description:' + df['Description'].replace(\"\\n\", \"\") + '\\n\\n'+ context)\n",
    "\n",
    "# Text + Instrument == 1\n",
    "df['Treated_FullDescription'] = df.apply(lambda row: string_b + string1 + 'Description:' + row['Description'].replace(\"\\n\", \"\") + '\\n\\n' + context, axis=1)\n",
    "\n",
    "# Text + Instrument == 0\n",
    "df['Control_FullDescription'] = df.apply(lambda row: string_b + string0 + 'Description:' + row['Description'].replace(\"\\n\", \"\") + '\\n\\n' + context, axis=1)\n",
    "\n",
    "# Sample Treatment Values\n",
    "df['Treatment'] = np.random.binomial(n=1, p= df['FStage_Value'] * df['Instrument'], size=sample_size)\n",
    "\n",
    "# Sample Outcome Values\n",
    "df['Outcome'] =  (1. +  2.*(df['FStage_Value'] > 0.))*df['Treatment'] + 0.1*np.random.normal(size=sample_size)"
   ]
  },
  {
   "attachments": {},
   "cell_type": "markdown",
   "metadata": {},
   "source": [
    "#### **Plot**"
   ]
  },
  {
   "cell_type": "code",
   "execution_count": null,
   "metadata": {},
   "outputs": [],
   "source": [
    "fig = plt.figure(dpi=300, tight_layout=True, figsize=(7, 4.5))\n",
    "ax = plt.axes(facecolor=(.95, .96, .97))\n",
    "\n",
    "# Plot customizations\n",
    "for key in 'left', 'right', 'top':\n",
    "    ax.spines[key].set_visible(False)\n",
    "ax.text(0., 1.02, s='Count', transform=ax.transAxes, size=14)\n",
    "ax.yaxis.set_tick_params(length=0)\n",
    "ax.yaxis.grid(True, color='white', linewidth=2)\n",
    "ax.set_axisbelow(True)\n",
    "plt.hist(df['FStage_Value'], color='#36454F')\n",
    "plt.xlim(0, 1)\n",
    "plt.xlabel('Probability of Treatment Given Instrument', size=14)\n",
    "plt.show()"
   ]
  },
  {
   "attachments": {},
   "cell_type": "markdown",
   "metadata": {},
   "source": [
    "#### **Set Up Device**"
   ]
  },
  {
   "cell_type": "code",
   "execution_count": null,
   "metadata": {},
   "outputs": [],
   "source": [
    "device = torch.device(\"cuda\" if torch.cuda.is_available() else \"cpu\")\n",
    "print(f\"Device: {device}\")"
   ]
  },
  {
   "attachments": {},
   "cell_type": "markdown",
   "metadata": {},
   "source": [
    "#### **Tokenizer**"
   ]
  },
  {
   "cell_type": "code",
   "execution_count": null,
   "metadata": {},
   "outputs": [],
   "source": [
    "model_id = \"roberta-base\"#\"distilbert/distilbert-base-uncased\"#\n",
    "tokenizer = AutoTokenizer.from_pretrained(model_id)\n",
    "tokenizer.model_max_length = 512\n",
    "print(tokenizer.model_max_length)\n",
    "\n",
    "def tokenizer_function(example):\n",
    "  return tokenizer(example[\"FullDescription\"], truncation=True)"
   ]
  },
  {
   "attachments": {},
   "cell_type": "markdown",
   "metadata": {},
   "source": [
    "#### **Preprocess Data**"
   ]
  },
  {
   "cell_type": "code",
   "execution_count": null,
   "metadata": {},
   "outputs": [],
   "source": [
    "# Rename Treatment Variable to Lable because we're predicting the treatment\n",
    "df = df.rename(columns={'Treatment': 'label'})\n",
    "\n",
    "# Created Treated DataFrame\n",
    "df_treated = df.copy()\n",
    "df_treated.pop('FullDescription')\n",
    "\n",
    "# Create Control DataFrame\n",
    "df_control = df.copy()\n",
    "df_control.pop('FullDescription')\n",
    "\n",
    "# Rename Columns\n",
    "df_treated = df_treated.rename(columns={'Treated_FullDescription': 'FullDescription'})\n",
    "df_control = df_control.rename(columns={'Control_FullDescription': 'FullDescription'})\n",
    "\n",
    "# Convert DataFrames to Datasets\n",
    "original_dataset = Dataset.from_dict(df[['FullDescription','label']])\n",
    "treated_dataset = Dataset.from_dict(df_treated[['FullDescription','label']])\n",
    "control_dataset = Dataset.from_dict(df_control[['FullDescription','label']])\n",
    "\n",
    "# Tokenize Datasets\n",
    "tokenized_dataset = original_dataset.map(tokenizer_function, batched=True)\n",
    "tokenized_treated_dataset = treated_dataset.map(tokenizer_function, batched=True)\n",
    "tokenized_control_dataset = control_dataset.map(tokenizer_function, batched=True)\n",
    "\n",
    "# Remove Column\n",
    "tokenized_dataset = tokenized_dataset.remove_columns(['FullDescription'])\n",
    "tokenized_treated_dataset = tokenized_treated_dataset.remove_columns(['FullDescription'])\n",
    "tokenized_control_dataset = tokenized_control_dataset.remove_columns(['FullDescription'])\n",
    "\n",
    "# Split Dataset\n",
    "tokenized_dataset_split = tokenized_dataset.train_test_split(test_size=val_set_fraction, seed=42)\n",
    "train_set = tokenized_dataset_split['train'].add_column('val_indicator', [0] * len(tokenized_dataset_split['train']))\n",
    "val_set = tokenized_dataset_split['test'].add_column('val_indicator', [1] * len(tokenized_dataset_split['test']))\n",
    "\n",
    "# Combining back into a single dataset for unified handling\n",
    "combined_dataset = concatenate_datasets([train_set, val_set])"
   ]
  },
  {
   "attachments": {},
   "cell_type": "markdown",
   "metadata": {},
   "source": [
    "#### **DataLoaders**"
   ]
  },
  {
   "cell_type": "code",
   "execution_count": null,
   "metadata": {},
   "outputs": [],
   "source": [
    "treated_loader = DataLoader(tokenized_treated_dataset, batch_size=batch_size, collate_fn=DataCollatorWithPadding(tokenizer), shuffle=False)\n",
    "control_loader = DataLoader(tokenized_control_dataset, batch_size=batch_size, collate_fn=DataCollatorWithPadding(tokenizer), shuffle=False)\n",
    "all_loader = DataLoader(tokenized_dataset, batch_size=batch_size, collate_fn=DataCollatorWithPadding(tokenizer), shuffle=False)\n",
    "loader_with_val_idx = DataLoader(combined_dataset, batch_size=batch_size, collate_fn=DataCollatorWithPadding(tokenizer), shuffle=False)\n",
    "train_loader = DataLoader(tokenized_dataset_split['train'], batch_size=batch_size, collate_fn=DataCollatorWithPadding(tokenizer), shuffle=True)\n",
    "val_loader = DataLoader(tokenized_dataset_split['test'], batch_size=batch_size, collate_fn=DataCollatorWithPadding(tokenizer))"
   ]
  },
  {
   "attachments": {},
   "cell_type": "markdown",
   "metadata": {},
   "source": [
    "#### **Model**"
   ]
  },
  {
   "cell_type": "code",
   "execution_count": null,
   "metadata": {},
   "outputs": [],
   "source": [
    "model = AutoModelForSequenceClassification.from_pretrained(model_id,\n",
    "                                                           num_labels=2)\n",
    "model = model.to(device)"
   ]
  },
  {
   "attachments": {},
   "cell_type": "markdown",
   "metadata": {},
   "source": [
    "#### **Optimizer and Scheduler**"
   ]
  },
  {
   "cell_type": "code",
   "execution_count": null,
   "metadata": {},
   "outputs": [],
   "source": [
    "optimizer = torch.optim.AdamW(model.parameters(), lr=lr)\n",
    "scheduler = transformers.optimization.get_linear_schedule_with_warmup(optimizer,int(warmup_ratio*len(train_loader)*epochs), len(train_loader)*epochs)"
   ]
  },
  {
   "attachments": {},
   "cell_type": "markdown",
   "metadata": {},
   "source": [
    "#### **Trainer**"
   ]
  },
  {
   "cell_type": "code",
   "execution_count": null,
   "metadata": {},
   "outputs": [],
   "source": [
    "criterion = torch.nn.CrossEntropyLoss()\n",
    "metric_fn =  lambda a, b: (compute_f1_score(a,b), compute_recall(a,b))\n",
    "yuri = EncoderTrainer(model, optimizer, scheduler, criterion, device, metric_fn)\n",
    "early_stopping = EarlyStopping(patience)"
   ]
  },
  {
   "attachments": {},
   "cell_type": "markdown",
   "metadata": {},
   "source": [
    "#### **Train**"
   ]
  },
  {
   "cell_type": "code",
   "execution_count": null,
   "metadata": {},
   "outputs": [],
   "source": [
    "# Compute Initial Train/Validation Losses\n",
    "evaluation_losses = [yuri.evaluate(val_loader)[0]]\n",
    "training_losses =  [yuri.evaluate(train_loader)[0]]\n",
    "pbar =  tqdm(range(epochs), desc=f'Epoch: 0, Train Loss: {training_losses[0]:.3f}, Val Loss: {evaluation_losses[0]:.3f}')\n",
    "\n",
    "# Initialize Empty Lists to Store Recall and Learning Rate Histories\n",
    "metric_history = []\n",
    "learning_rate_history = []\n",
    "\n",
    "for epoch in pbar:\n",
    "\n",
    "    train_loss, _, _, metrics, current_lr = yuri.train(train_loader)\n",
    "\n",
    "    training_losses.append(train_loss)\n",
    "    metric_history.append(metrics)\n",
    "    learning_rate_history.append(current_lr)\n",
    "    \n",
    "    val_loss = yuri.evaluate(val_loader)[0]\n",
    "    evaluation_losses.append(val_loss)\n",
    "\n",
    "    # Update the progress bar description for the current epoch\n",
    "    pbar.set_description(f'Epoch: {epoch + 1}, Train Loss: {train_loss:.4f}, Val Loss: {val_loss:.4f}')\n",
    "\n",
    "    \n",
    "    # Call early stopping\n",
    "    early_stopping(val_loss, model, epoch)\n",
    "    if early_stopping.early_stop:\n",
    "        print(\"***Early stopping***\")\n",
    "        print(f\"Min Validation Loss: {early_stopping.best_epoch}\")\n",
    "        print(f\"Current Epoch: {epoch}\")\n",
    "        break\n",
    "\n",
    "    # Create figure and axes with specific settings\n",
    "    Dhat, labels, val_indicator = predict(model, loader_with_val_idx, device)\n",
    "    fig = plt.figure(dpi=300, tight_layout=True, figsize=(7, 4.5))\n",
    "    ax = plt.axes(facecolor=(.95, .96, .97))\n",
    "    ax.set_title('Probability of Treatment', size=16, pad=20)\n",
    "\n",
    "    # Set visibility of some spines\n",
    "    for key in 'left', 'right', 'top':\n",
    "        ax.spines[key].set_visible(False)\n",
    "\n",
    "    # Add text to the axes\n",
    "    ax.text(0., 1.02, s='Density', transform=ax.transAxes, size=14)\n",
    "\n",
    "    # Set Y-axis tick parameters and grid\n",
    "    ax.yaxis.set_tick_params(length=0)\n",
    "    ax.yaxis.grid(True, color='white', linewidth=2)\n",
    "    ax.set_axisbelow(True)\n",
    "\n",
    "    # Plot the KDE plot\n",
    "    sns.kdeplot(Dhat[val_indicator==0].reshape(-1,), color='blue', fill=False, bw_adjust=0.25, label='Train')\n",
    "    sns.kdeplot(Dhat[val_indicator==1].reshape(-1,), color='green', fill=False, bw_adjust=0.25, label='Validation')\n",
    "    fill_kde = sns.kdeplot((df['FStage_Value']*df['Instrument']).values.reshape(-1,), fill=True, color='grey', bw_adjust=0.25, label='Target')\n",
    "\n",
    "    # Create custom legend handles\n",
    "    from matplotlib.lines import Line2D\n",
    "    legend_handles = [\n",
    "        Line2D([0], [0], color='blue', label='Train'),\n",
    "        Line2D([0], [0], color='green', label='Validation'),\n",
    "        Line2D([0], [0], color='grey', label='Target')\n",
    "    ]\n",
    "\n",
    "    # Set custom legend\n",
    "    plt.legend(handles=legend_handles)\n",
    "    plt.ylabel('')\n",
    "    plt.xlim(-0.1,1.1)\n",
    "    plt.show()\n",
    "\n",
    "model.load_state_dict(torch.load('checkpoint.pt'))"
   ]
  },
  {
   "attachments": {},
   "cell_type": "markdown",
   "metadata": {},
   "source": [
    "#### **Loss History**"
   ]
  },
  {
   "cell_type": "code",
   "execution_count": null,
   "metadata": {},
   "outputs": [],
   "source": [
    "fig = plt.figure(dpi=300, tight_layout=True, figsize=(7, 4.5))\n",
    "ax = plt.axes(facecolor=(.95, .96, .97))\n",
    "\n",
    "# Set visibility of some spines\n",
    "for key in 'left', 'right', 'top':\n",
    "    ax.spines[key].set_visible(False)\n",
    "\n",
    "# Add text to the axes\n",
    "ax.text(0., 1.02, s='Loss', transform=ax.transAxes, size=14)\n",
    "\n",
    "# Set Y-axis tick parameters and grid\n",
    "ax.yaxis.set_tick_params(length=0)\n",
    "ax.yaxis.grid(True, color='white', linewidth=2)\n",
    "ax.set_axisbelow(True)\n",
    "plt.plot(evaluation_losses, label='Validation')\n",
    "plt.plot(training_losses, label='Train')\n",
    "plt.axvline(early_stopping.best_epoch + 1, color='black', linestyle='--')\n",
    "plt.legend()\n",
    "plt.xlabel('Epochs', size=14)\n",
    "plt.show()"
   ]
  },
  {
   "attachments": {},
   "cell_type": "markdown",
   "metadata": {},
   "source": [
    "#### **F1-Score**"
   ]
  },
  {
   "cell_type": "code",
   "execution_count": null,
   "metadata": {},
   "outputs": [],
   "source": [
    "fig = plt.figure(dpi=300, tight_layout=True, figsize=(7, 4.5))\n",
    "ax = plt.axes(facecolor=(.95, .96, .97))\n",
    "\n",
    "# Set visibility of some spines\n",
    "for key in 'left', 'right', 'top':\n",
    "    ax.spines[key].set_visible(False)\n",
    "\n",
    "# Add text to the axes\n",
    "ax.text(0., 1.02, s='F1-Score', transform=ax.transAxes, size=14)\n",
    "\n",
    "# Set Y-axis tick parameters and grid\n",
    "ax.yaxis.set_tick_params(length=0)\n",
    "ax.yaxis.grid(True, color='white', linewidth=2)\n",
    "ax.set_axisbelow(True)\n",
    "plt.plot([i[0] for i in metric_history])\n",
    "plt.axvline(early_stopping.best_epoch + 1, color='black', linestyle='--')\n",
    "plt.xlabel('Epochs', size=14)\n",
    "plt.ylim(0, 1)\n",
    "plt.show()"
   ]
  },
  {
   "attachments": {},
   "cell_type": "markdown",
   "metadata": {},
   "source": [
    "#### **Recall**"
   ]
  },
  {
   "cell_type": "code",
   "execution_count": null,
   "metadata": {},
   "outputs": [],
   "source": [
    "fig = plt.figure(dpi=300, tight_layout=True, figsize=(7, 4.5))\n",
    "ax = plt.axes(facecolor=(.95, .96, .97))\n",
    "\n",
    "# Set visibility of some spines\n",
    "for key in 'left', 'right', 'top':\n",
    "    ax.spines[key].set_visible(False)\n",
    "\n",
    "# Add text to the axes\n",
    "ax.text(0., 1.02, s='Recall', transform=ax.transAxes, size=14)\n",
    "\n",
    "# Set Y-axis tick parameters and grid\n",
    "ax.yaxis.set_tick_params(length=0)\n",
    "ax.yaxis.grid(True, color='white', linewidth=2)\n",
    "ax.set_axisbelow(True)\n",
    "plt.plot([i[1][0][0] for i in metric_history], label='0')\n",
    "plt.plot([i[1][0][1] for i in metric_history], label='1')\n",
    "plt.axvline(early_stopping.best_epoch + 1, color='black', linestyle='--')\n",
    "plt.xlabel('Epochs', size=14)\n",
    "plt.legend()\n",
    "plt.show()"
   ]
  }
 ],
 "metadata": {
  "kernelspec": {
   "display_name": "llms",
   "language": "python",
   "name": "python3"
  },
  "language_info": {
   "codemirror_mode": {
    "name": "ipython",
    "version": 3
   },
   "file_extension": ".py",
   "mimetype": "text/x-python",
   "name": "python",
   "nbconvert_exporter": "python",
   "pygments_lexer": "ipython3",
   "version": "3.10.12"
  },
  "orig_nbformat": 4
 },
 "nbformat": 4,
 "nbformat_minor": 2
}
