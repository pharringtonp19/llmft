{
 "cells": [
  {
   "attachments": {},
   "cell_type": "markdown",
   "metadata": {},
   "source": [
    "#### **Import Libraries**"
   ]
  },
  {
   "cell_type": "code",
   "execution_count": 1,
   "metadata": {},
   "outputs": [],
   "source": [
    "import papermill as pm\n",
    "import numpy as np \n",
    "import time \n",
    "import os "
   ]
  },
  {
   "attachments": {},
   "cell_type": "markdown",
   "metadata": {},
   "source": [
    "#### **Simulation**"
   ]
  },
  {
   "cell_type": "code",
   "execution_count": 4,
   "metadata": {},
   "outputs": [
    {
     "name": "stdout",
     "output_type": "stream",
     "text": [
      "Starting Experiment --> verion: 4  |   sample size: 1000  |   noise: False\n"
     ]
    },
    {
     "data": {
      "application/vnd.jupyter.widget-view+json": {
       "model_id": "9243f49e4a4c443694939413662dd503",
       "version_major": 2,
       "version_minor": 0
      },
      "text/plain": [
       "Executing:   0%|          | 0/24 [00:00<?, ?cell/s]"
      ]
     },
     "metadata": {},
     "output_type": "display_data"
    },
    {
     "name": "stderr",
     "output_type": "stream",
     "text": [
      "2024-06-25 14:50:27.935051: W external/xla/xla/service/gpu/nvptx_compiler.cc:760] The NVIDIA driver's CUDA version is 12.2 which is older than the ptxas CUDA version (12.5.40). Because the driver is older than the ptxas version, XLA is disabling parallel compilation, which may slow down compilation. You should update your NVIDIA driver or use the NVIDIA-provided CUDA forward compatibility packages.\n",
      "'+ptx85' is not a recognized feature for this target (ignoring feature)\n",
      "'+ptx85' is not a recognized feature for this target (ignoring feature)\n",
      "'+ptx85' is not a recognized feature for this target (ignoring feature)\n",
      "'+ptx85' is not a recognized feature for this target (ignoring feature)\n",
      "'+ptx85' is not a recognized feature for this target (ignoring feature)\n",
      "'+ptx85' is not a recognized feature for this target (ignoring feature)\n",
      "'+ptx85' is not a recognized feature for this target (ignoring feature)\n",
      "'+ptx85' is not a recognized feature for this target (ignoring feature)\n",
      "'+ptx85' is not a recognized feature for this target (ignoring feature)\n",
      "'+ptx85' is not a recognized feature for this target (ignoring feature)\n",
      "'+ptx85' is not a recognized feature for this target (ignoring feature)\n",
      "'+ptx85' is not a recognized feature for this target (ignoring feature)\n",
      "'+ptx85' is not a recognized feature for this target (ignoring feature)\n",
      "'+ptx85' is not a recognized feature for this target (ignoring feature)\n",
      "'+ptx85' is not a recognized feature for this target (ignoring feature)\n",
      "'+ptx85' is not a recognized feature for this target (ignoring feature)\n",
      "'+ptx85' is not a recognized feature for this target (ignoring feature)\n",
      "'+ptx85' is not a recognized feature for this target (ignoring feature)\n",
      "'+ptx85' is not a recognized feature for this target (ignoring feature)\n",
      "'+ptx85' is not a recognized feature for this target (ignoring feature)\n",
      "'+ptx85' is not a recognized feature for this target (ignoring feature)\n",
      "'+ptx85' is not a recognized feature for this target (ignoring feature)\n",
      "'+ptx85' is not a recognized feature for this target (ignoring feature)\n",
      "'+ptx85' is not a recognized feature for this target (ignoring feature)\n",
      "'+ptx85' is not a recognized feature for this target (ignoring feature)\n",
      "'+ptx85' is not a recognized feature for this target (ignoring feature)\n",
      "'+ptx85' is not a recognized feature for this target (ignoring feature)\n",
      "'+ptx85' is not a recognized feature for this target (ignoring feature)\n",
      "'+ptx85' is not a recognized feature for this target (ignoring feature)\n",
      "'+ptx85' is not a recognized feature for this target (ignoring feature)\n"
     ]
    },
    {
     "name": "stdout",
     "output_type": "stream",
     "text": [
      "Run 1 with seed 2732 took 7.65 seconds\n"
     ]
    },
    {
     "data": {
      "application/vnd.jupyter.widget-view+json": {
       "model_id": "9ebd6f9f86df483082b222a14ee73d89",
       "version_major": 2,
       "version_minor": 0
      },
      "text/plain": [
       "Executing:   0%|          | 0/24 [00:00<?, ?cell/s]"
      ]
     },
     "metadata": {},
     "output_type": "display_data"
    },
    {
     "name": "stderr",
     "output_type": "stream",
     "text": [
      "2024-06-25 14:50:35.822062: W external/xla/xla/service/gpu/nvptx_compiler.cc:760] The NVIDIA driver's CUDA version is 12.2 which is older than the ptxas CUDA version (12.5.40). Because the driver is older than the ptxas version, XLA is disabling parallel compilation, which may slow down compilation. You should update your NVIDIA driver or use the NVIDIA-provided CUDA forward compatibility packages.\n",
      "'+ptx85' is not a recognized feature for this target (ignoring feature)\n",
      "'+ptx85' is not a recognized feature for this target (ignoring feature)\n",
      "'+ptx85' is not a recognized feature for this target (ignoring feature)\n",
      "'+ptx85' is not a recognized feature for this target (ignoring feature)\n",
      "'+ptx85' is not a recognized feature for this target (ignoring feature)\n",
      "'+ptx85' is not a recognized feature for this target (ignoring feature)\n",
      "'+ptx85' is not a recognized feature for this target (ignoring feature)\n",
      "'+ptx85' is not a recognized feature for this target (ignoring feature)\n",
      "'+ptx85' is not a recognized feature for this target (ignoring feature)\n",
      "'+ptx85' is not a recognized feature for this target (ignoring feature)\n",
      "'+ptx85' is not a recognized feature for this target (ignoring feature)\n",
      "'+ptx85' is not a recognized feature for this target (ignoring feature)\n",
      "'+ptx85' is not a recognized feature for this target (ignoring feature)\n",
      "'+ptx85' is not a recognized feature for this target (ignoring feature)\n",
      "'+ptx85' is not a recognized feature for this target (ignoring feature)\n",
      "'+ptx85' is not a recognized feature for this target (ignoring feature)\n",
      "'+ptx85' is not a recognized feature for this target (ignoring feature)\n",
      "'+ptx85' is not a recognized feature for this target (ignoring feature)\n",
      "'+ptx85' is not a recognized feature for this target (ignoring feature)\n",
      "'+ptx85' is not a recognized feature for this target (ignoring feature)\n",
      "'+ptx85' is not a recognized feature for this target (ignoring feature)\n",
      "'+ptx85' is not a recognized feature for this target (ignoring feature)\n",
      "'+ptx85' is not a recognized feature for this target (ignoring feature)\n",
      "'+ptx85' is not a recognized feature for this target (ignoring feature)\n",
      "'+ptx85' is not a recognized feature for this target (ignoring feature)\n",
      "'+ptx85' is not a recognized feature for this target (ignoring feature)\n",
      "'+ptx85' is not a recognized feature for this target (ignoring feature)\n",
      "'+ptx85' is not a recognized feature for this target (ignoring feature)\n",
      "'+ptx85' is not a recognized feature for this target (ignoring feature)\n",
      "'+ptx85' is not a recognized feature for this target (ignoring feature)\n"
     ]
    },
    {
     "name": "stdout",
     "output_type": "stream",
     "text": [
      "Run 2 with seed 9845 took 7.90 seconds\n"
     ]
    },
    {
     "data": {
      "application/vnd.jupyter.widget-view+json": {
       "model_id": "e6c02b11f5be472ab0d369bcfde382c1",
       "version_major": 2,
       "version_minor": 0
      },
      "text/plain": [
       "Executing:   0%|          | 0/24 [00:00<?, ?cell/s]"
      ]
     },
     "metadata": {},
     "output_type": "display_data"
    },
    {
     "name": "stderr",
     "output_type": "stream",
     "text": [
      "2024-06-25 14:50:43.475785: W external/xla/xla/service/gpu/nvptx_compiler.cc:760] The NVIDIA driver's CUDA version is 12.2 which is older than the ptxas CUDA version (12.5.40). Because the driver is older than the ptxas version, XLA is disabling parallel compilation, which may slow down compilation. You should update your NVIDIA driver or use the NVIDIA-provided CUDA forward compatibility packages.\n",
      "'+ptx85' is not a recognized feature for this target (ignoring feature)\n",
      "'+ptx85' is not a recognized feature for this target (ignoring feature)\n",
      "'+ptx85' is not a recognized feature for this target (ignoring feature)\n",
      "'+ptx85' is not a recognized feature for this target (ignoring feature)\n",
      "'+ptx85' is not a recognized feature for this target (ignoring feature)\n",
      "'+ptx85' is not a recognized feature for this target (ignoring feature)\n",
      "'+ptx85' is not a recognized feature for this target (ignoring feature)\n",
      "'+ptx85' is not a recognized feature for this target (ignoring feature)\n",
      "'+ptx85' is not a recognized feature for this target (ignoring feature)\n",
      "'+ptx85' is not a recognized feature for this target (ignoring feature)\n",
      "'+ptx85' is not a recognized feature for this target (ignoring feature)\n",
      "'+ptx85' is not a recognized feature for this target (ignoring feature)\n",
      "'+ptx85' is not a recognized feature for this target (ignoring feature)\n",
      "'+ptx85' is not a recognized feature for this target (ignoring feature)\n",
      "'+ptx85' is not a recognized feature for this target (ignoring feature)\n",
      "'+ptx85' is not a recognized feature for this target (ignoring feature)\n",
      "'+ptx85' is not a recognized feature for this target (ignoring feature)\n",
      "'+ptx85' is not a recognized feature for this target (ignoring feature)\n",
      "'+ptx85' is not a recognized feature for this target (ignoring feature)\n",
      "'+ptx85' is not a recognized feature for this target (ignoring feature)\n",
      "'+ptx85' is not a recognized feature for this target (ignoring feature)\n",
      "'+ptx85' is not a recognized feature for this target (ignoring feature)\n",
      "'+ptx85' is not a recognized feature for this target (ignoring feature)\n",
      "'+ptx85' is not a recognized feature for this target (ignoring feature)\n",
      "'+ptx85' is not a recognized feature for this target (ignoring feature)\n",
      "'+ptx85' is not a recognized feature for this target (ignoring feature)\n",
      "'+ptx85' is not a recognized feature for this target (ignoring feature)\n",
      "'+ptx85' is not a recognized feature for this target (ignoring feature)\n",
      "'+ptx85' is not a recognized feature for this target (ignoring feature)\n",
      "'+ptx85' is not a recognized feature for this target (ignoring feature)\n"
     ]
    },
    {
     "name": "stdout",
     "output_type": "stream",
     "text": [
      "Run 3 with seed 3264 took 7.80 seconds\n"
     ]
    },
    {
     "data": {
      "application/vnd.jupyter.widget-view+json": {
       "model_id": "573e2856d9f84555868ec5e4b771c332",
       "version_major": 2,
       "version_minor": 0
      },
      "text/plain": [
       "Executing:   0%|          | 0/24 [00:00<?, ?cell/s]"
      ]
     },
     "metadata": {},
     "output_type": "display_data"
    },
    {
     "name": "stderr",
     "output_type": "stream",
     "text": [
      "2024-06-25 14:50:51.279090: W external/xla/xla/service/gpu/nvptx_compiler.cc:760] The NVIDIA driver's CUDA version is 12.2 which is older than the ptxas CUDA version (12.5.40). Because the driver is older than the ptxas version, XLA is disabling parallel compilation, which may slow down compilation. You should update your NVIDIA driver or use the NVIDIA-provided CUDA forward compatibility packages.\n",
      "'+ptx85' is not a recognized feature for this target (ignoring feature)\n",
      "'+ptx85' is not a recognized feature for this target (ignoring feature)\n",
      "'+ptx85' is not a recognized feature for this target (ignoring feature)\n",
      "'+ptx85' is not a recognized feature for this target (ignoring feature)\n",
      "'+ptx85' is not a recognized feature for this target (ignoring feature)\n",
      "'+ptx85' is not a recognized feature for this target (ignoring feature)\n",
      "'+ptx85' is not a recognized feature for this target (ignoring feature)\n",
      "'+ptx85' is not a recognized feature for this target (ignoring feature)\n",
      "'+ptx85' is not a recognized feature for this target (ignoring feature)\n",
      "'+ptx85' is not a recognized feature for this target (ignoring feature)\n",
      "'+ptx85' is not a recognized feature for this target (ignoring feature)\n",
      "'+ptx85' is not a recognized feature for this target (ignoring feature)\n",
      "'+ptx85' is not a recognized feature for this target (ignoring feature)\n",
      "'+ptx85' is not a recognized feature for this target (ignoring feature)\n",
      "'+ptx85' is not a recognized feature for this target (ignoring feature)\n",
      "'+ptx85' is not a recognized feature for this target (ignoring feature)\n",
      "'+ptx85' is not a recognized feature for this target (ignoring feature)\n",
      "'+ptx85' is not a recognized feature for this target (ignoring feature)\n",
      "'+ptx85' is not a recognized feature for this target (ignoring feature)\n",
      "'+ptx85' is not a recognized feature for this target (ignoring feature)\n",
      "'+ptx85' is not a recognized feature for this target (ignoring feature)\n",
      "'+ptx85' is not a recognized feature for this target (ignoring feature)\n",
      "'+ptx85' is not a recognized feature for this target (ignoring feature)\n",
      "'+ptx85' is not a recognized feature for this target (ignoring feature)\n",
      "'+ptx85' is not a recognized feature for this target (ignoring feature)\n",
      "'+ptx85' is not a recognized feature for this target (ignoring feature)\n",
      "'+ptx85' is not a recognized feature for this target (ignoring feature)\n",
      "'+ptx85' is not a recognized feature for this target (ignoring feature)\n",
      "'+ptx85' is not a recognized feature for this target (ignoring feature)\n",
      "'+ptx85' is not a recognized feature for this target (ignoring feature)\n"
     ]
    },
    {
     "name": "stdout",
     "output_type": "stream",
     "text": [
      "Run 4 with seed 4859 took 7.75 seconds\n"
     ]
    },
    {
     "data": {
      "application/vnd.jupyter.widget-view+json": {
       "model_id": "cae10ec9fecc4720b6cee0e725159366",
       "version_major": 2,
       "version_minor": 0
      },
      "text/plain": [
       "Executing:   0%|          | 0/24 [00:00<?, ?cell/s]"
      ]
     },
     "metadata": {},
     "output_type": "display_data"
    },
    {
     "name": "stderr",
     "output_type": "stream",
     "text": [
      "2024-06-25 14:50:59.292235: W external/xla/xla/service/gpu/nvptx_compiler.cc:760] The NVIDIA driver's CUDA version is 12.2 which is older than the ptxas CUDA version (12.5.40). Because the driver is older than the ptxas version, XLA is disabling parallel compilation, which may slow down compilation. You should update your NVIDIA driver or use the NVIDIA-provided CUDA forward compatibility packages.\n",
      "'+ptx85' is not a recognized feature for this target (ignoring feature)\n",
      "'+ptx85' is not a recognized feature for this target (ignoring feature)\n",
      "'+ptx85' is not a recognized feature for this target (ignoring feature)\n",
      "'+ptx85' is not a recognized feature for this target (ignoring feature)\n",
      "'+ptx85' is not a recognized feature for this target (ignoring feature)\n",
      "'+ptx85' is not a recognized feature for this target (ignoring feature)\n",
      "'+ptx85' is not a recognized feature for this target (ignoring feature)\n",
      "'+ptx85' is not a recognized feature for this target (ignoring feature)\n",
      "'+ptx85' is not a recognized feature for this target (ignoring feature)\n",
      "'+ptx85' is not a recognized feature for this target (ignoring feature)\n",
      "'+ptx85' is not a recognized feature for this target (ignoring feature)\n",
      "'+ptx85' is not a recognized feature for this target (ignoring feature)\n",
      "'+ptx85' is not a recognized feature for this target (ignoring feature)\n",
      "'+ptx85' is not a recognized feature for this target (ignoring feature)\n",
      "'+ptx85' is not a recognized feature for this target (ignoring feature)\n",
      "'+ptx85' is not a recognized feature for this target (ignoring feature)\n",
      "'+ptx85' is not a recognized feature for this target (ignoring feature)\n",
      "'+ptx85' is not a recognized feature for this target (ignoring feature)\n",
      "'+ptx85' is not a recognized feature for this target (ignoring feature)\n",
      "'+ptx85' is not a recognized feature for this target (ignoring feature)\n",
      "'+ptx85' is not a recognized feature for this target (ignoring feature)\n",
      "'+ptx85' is not a recognized feature for this target (ignoring feature)\n",
      "'+ptx85' is not a recognized feature for this target (ignoring feature)\n",
      "'+ptx85' is not a recognized feature for this target (ignoring feature)\n",
      "'+ptx85' is not a recognized feature for this target (ignoring feature)\n",
      "'+ptx85' is not a recognized feature for this target (ignoring feature)\n",
      "'+ptx85' is not a recognized feature for this target (ignoring feature)\n",
      "'+ptx85' is not a recognized feature for this target (ignoring feature)\n",
      "'+ptx85' is not a recognized feature for this target (ignoring feature)\n",
      "'+ptx85' is not a recognized feature for this target (ignoring feature)\n"
     ]
    },
    {
     "name": "stdout",
     "output_type": "stream",
     "text": [
      "Run 5 with seed 9225 took 8.01 seconds\n"
     ]
    },
    {
     "data": {
      "application/vnd.jupyter.widget-view+json": {
       "model_id": "a45ed92854c34d90830e1a7124446feb",
       "version_major": 2,
       "version_minor": 0
      },
      "text/plain": [
       "Executing:   0%|          | 0/24 [00:00<?, ?cell/s]"
      ]
     },
     "metadata": {},
     "output_type": "display_data"
    },
    {
     "name": "stderr",
     "output_type": "stream",
     "text": [
      "2024-06-25 14:51:07.236983: W external/xla/xla/service/gpu/nvptx_compiler.cc:760] The NVIDIA driver's CUDA version is 12.2 which is older than the ptxas CUDA version (12.5.40). Because the driver is older than the ptxas version, XLA is disabling parallel compilation, which may slow down compilation. You should update your NVIDIA driver or use the NVIDIA-provided CUDA forward compatibility packages.\n",
      "'+ptx85' is not a recognized feature for this target (ignoring feature)\n",
      "'+ptx85' is not a recognized feature for this target (ignoring feature)\n",
      "'+ptx85' is not a recognized feature for this target (ignoring feature)\n",
      "'+ptx85' is not a recognized feature for this target (ignoring feature)\n",
      "'+ptx85' is not a recognized feature for this target (ignoring feature)\n",
      "'+ptx85' is not a recognized feature for this target (ignoring feature)\n",
      "'+ptx85' is not a recognized feature for this target (ignoring feature)\n",
      "'+ptx85' is not a recognized feature for this target (ignoring feature)\n",
      "'+ptx85' is not a recognized feature for this target (ignoring feature)\n",
      "'+ptx85' is not a recognized feature for this target (ignoring feature)\n",
      "'+ptx85' is not a recognized feature for this target (ignoring feature)\n",
      "'+ptx85' is not a recognized feature for this target (ignoring feature)\n",
      "'+ptx85' is not a recognized feature for this target (ignoring feature)\n",
      "'+ptx85' is not a recognized feature for this target (ignoring feature)\n",
      "'+ptx85' is not a recognized feature for this target (ignoring feature)\n",
      "'+ptx85' is not a recognized feature for this target (ignoring feature)\n",
      "'+ptx85' is not a recognized feature for this target (ignoring feature)\n",
      "'+ptx85' is not a recognized feature for this target (ignoring feature)\n",
      "'+ptx85' is not a recognized feature for this target (ignoring feature)\n",
      "'+ptx85' is not a recognized feature for this target (ignoring feature)\n",
      "'+ptx85' is not a recognized feature for this target (ignoring feature)\n",
      "'+ptx85' is not a recognized feature for this target (ignoring feature)\n",
      "'+ptx85' is not a recognized feature for this target (ignoring feature)\n",
      "'+ptx85' is not a recognized feature for this target (ignoring feature)\n",
      "'+ptx85' is not a recognized feature for this target (ignoring feature)\n",
      "'+ptx85' is not a recognized feature for this target (ignoring feature)\n",
      "'+ptx85' is not a recognized feature for this target (ignoring feature)\n",
      "'+ptx85' is not a recognized feature for this target (ignoring feature)\n",
      "'+ptx85' is not a recognized feature for this target (ignoring feature)\n",
      "'+ptx85' is not a recognized feature for this target (ignoring feature)\n"
     ]
    },
    {
     "name": "stdout",
     "output_type": "stream",
     "text": [
      "Run 6 with seed 7891 took 7.94 seconds\n"
     ]
    },
    {
     "data": {
      "application/vnd.jupyter.widget-view+json": {
       "model_id": "3f12191c1fb4485384ef69bb2afc5c0c",
       "version_major": 2,
       "version_minor": 0
      },
      "text/plain": [
       "Executing:   0%|          | 0/24 [00:00<?, ?cell/s]"
      ]
     },
     "metadata": {},
     "output_type": "display_data"
    },
    {
     "name": "stderr",
     "output_type": "stream",
     "text": [
      "2024-06-25 14:51:15.167228: W external/xla/xla/service/gpu/nvptx_compiler.cc:760] The NVIDIA driver's CUDA version is 12.2 which is older than the ptxas CUDA version (12.5.40). Because the driver is older than the ptxas version, XLA is disabling parallel compilation, which may slow down compilation. You should update your NVIDIA driver or use the NVIDIA-provided CUDA forward compatibility packages.\n",
      "'+ptx85' is not a recognized feature for this target (ignoring feature)\n",
      "'+ptx85' is not a recognized feature for this target (ignoring feature)\n",
      "'+ptx85' is not a recognized feature for this target (ignoring feature)\n",
      "'+ptx85' is not a recognized feature for this target (ignoring feature)\n",
      "'+ptx85' is not a recognized feature for this target (ignoring feature)\n",
      "'+ptx85' is not a recognized feature for this target (ignoring feature)\n",
      "'+ptx85' is not a recognized feature for this target (ignoring feature)\n",
      "'+ptx85' is not a recognized feature for this target (ignoring feature)\n",
      "'+ptx85' is not a recognized feature for this target (ignoring feature)\n",
      "'+ptx85' is not a recognized feature for this target (ignoring feature)\n",
      "'+ptx85' is not a recognized feature for this target (ignoring feature)\n",
      "'+ptx85' is not a recognized feature for this target (ignoring feature)\n",
      "'+ptx85' is not a recognized feature for this target (ignoring feature)\n",
      "'+ptx85' is not a recognized feature for this target (ignoring feature)\n",
      "'+ptx85' is not a recognized feature for this target (ignoring feature)\n",
      "'+ptx85' is not a recognized feature for this target (ignoring feature)\n",
      "'+ptx85' is not a recognized feature for this target (ignoring feature)\n",
      "'+ptx85' is not a recognized feature for this target (ignoring feature)\n",
      "'+ptx85' is not a recognized feature for this target (ignoring feature)\n",
      "'+ptx85' is not a recognized feature for this target (ignoring feature)\n",
      "'+ptx85' is not a recognized feature for this target (ignoring feature)\n",
      "'+ptx85' is not a recognized feature for this target (ignoring feature)\n",
      "'+ptx85' is not a recognized feature for this target (ignoring feature)\n",
      "'+ptx85' is not a recognized feature for this target (ignoring feature)\n",
      "'+ptx85' is not a recognized feature for this target (ignoring feature)\n",
      "'+ptx85' is not a recognized feature for this target (ignoring feature)\n",
      "'+ptx85' is not a recognized feature for this target (ignoring feature)\n",
      "'+ptx85' is not a recognized feature for this target (ignoring feature)\n",
      "'+ptx85' is not a recognized feature for this target (ignoring feature)\n",
      "'+ptx85' is not a recognized feature for this target (ignoring feature)\n"
     ]
    },
    {
     "name": "stdout",
     "output_type": "stream",
     "text": [
      "Run 7 with seed 4373 took 7.93 seconds\n"
     ]
    },
    {
     "data": {
      "application/vnd.jupyter.widget-view+json": {
       "model_id": "645176250e614f019b2d050d59e21d31",
       "version_major": 2,
       "version_minor": 0
      },
      "text/plain": [
       "Executing:   0%|          | 0/24 [00:00<?, ?cell/s]"
      ]
     },
     "metadata": {},
     "output_type": "display_data"
    },
    {
     "name": "stderr",
     "output_type": "stream",
     "text": [
      "2024-06-25 14:51:23.205317: W external/xla/xla/service/gpu/nvptx_compiler.cc:760] The NVIDIA driver's CUDA version is 12.2 which is older than the ptxas CUDA version (12.5.40). Because the driver is older than the ptxas version, XLA is disabling parallel compilation, which may slow down compilation. You should update your NVIDIA driver or use the NVIDIA-provided CUDA forward compatibility packages.\n",
      "'+ptx85' is not a recognized feature for this target (ignoring feature)\n",
      "'+ptx85' is not a recognized feature for this target (ignoring feature)\n",
      "'+ptx85' is not a recognized feature for this target (ignoring feature)\n",
      "'+ptx85' is not a recognized feature for this target (ignoring feature)\n",
      "'+ptx85' is not a recognized feature for this target (ignoring feature)\n",
      "'+ptx85' is not a recognized feature for this target (ignoring feature)\n",
      "'+ptx85' is not a recognized feature for this target (ignoring feature)\n",
      "'+ptx85' is not a recognized feature for this target (ignoring feature)\n",
      "'+ptx85' is not a recognized feature for this target (ignoring feature)\n",
      "'+ptx85' is not a recognized feature for this target (ignoring feature)\n",
      "'+ptx85' is not a recognized feature for this target (ignoring feature)\n",
      "'+ptx85' is not a recognized feature for this target (ignoring feature)\n",
      "'+ptx85' is not a recognized feature for this target (ignoring feature)\n",
      "'+ptx85' is not a recognized feature for this target (ignoring feature)\n",
      "'+ptx85' is not a recognized feature for this target (ignoring feature)\n",
      "'+ptx85' is not a recognized feature for this target (ignoring feature)\n",
      "'+ptx85' is not a recognized feature for this target (ignoring feature)\n",
      "'+ptx85' is not a recognized feature for this target (ignoring feature)\n",
      "'+ptx85' is not a recognized feature for this target (ignoring feature)\n",
      "'+ptx85' is not a recognized feature for this target (ignoring feature)\n",
      "'+ptx85' is not a recognized feature for this target (ignoring feature)\n",
      "'+ptx85' is not a recognized feature for this target (ignoring feature)\n",
      "'+ptx85' is not a recognized feature for this target (ignoring feature)\n",
      "'+ptx85' is not a recognized feature for this target (ignoring feature)\n",
      "'+ptx85' is not a recognized feature for this target (ignoring feature)\n",
      "'+ptx85' is not a recognized feature for this target (ignoring feature)\n",
      "'+ptx85' is not a recognized feature for this target (ignoring feature)\n",
      "'+ptx85' is not a recognized feature for this target (ignoring feature)\n",
      "'+ptx85' is not a recognized feature for this target (ignoring feature)\n",
      "'+ptx85' is not a recognized feature for this target (ignoring feature)\n"
     ]
    },
    {
     "name": "stdout",
     "output_type": "stream",
     "text": [
      "Run 8 with seed 5874 took 9.06 seconds\n"
     ]
    },
    {
     "data": {
      "application/vnd.jupyter.widget-view+json": {
       "model_id": "3cc82f640b6f4e92ae1155a78e51cde7",
       "version_major": 2,
       "version_minor": 0
      },
      "text/plain": [
       "Executing:   0%|          | 0/24 [00:00<?, ?cell/s]"
      ]
     },
     "metadata": {},
     "output_type": "display_data"
    },
    {
     "name": "stderr",
     "output_type": "stream",
     "text": [
      "2024-06-25 14:51:31.977341: W external/xla/xla/service/gpu/nvptx_compiler.cc:760] The NVIDIA driver's CUDA version is 12.2 which is older than the ptxas CUDA version (12.5.40). Because the driver is older than the ptxas version, XLA is disabling parallel compilation, which may slow down compilation. You should update your NVIDIA driver or use the NVIDIA-provided CUDA forward compatibility packages.\n",
      "'+ptx85' is not a recognized feature for this target (ignoring feature)\n",
      "'+ptx85' is not a recognized feature for this target (ignoring feature)\n",
      "'+ptx85' is not a recognized feature for this target (ignoring feature)\n",
      "'+ptx85' is not a recognized feature for this target (ignoring feature)\n",
      "'+ptx85' is not a recognized feature for this target (ignoring feature)\n",
      "'+ptx85' is not a recognized feature for this target (ignoring feature)\n",
      "'+ptx85' is not a recognized feature for this target (ignoring feature)\n",
      "'+ptx85' is not a recognized feature for this target (ignoring feature)\n",
      "'+ptx85' is not a recognized feature for this target (ignoring feature)\n",
      "'+ptx85' is not a recognized feature for this target (ignoring feature)\n",
      "'+ptx85' is not a recognized feature for this target (ignoring feature)\n",
      "'+ptx85' is not a recognized feature for this target (ignoring feature)\n",
      "'+ptx85' is not a recognized feature for this target (ignoring feature)\n",
      "'+ptx85' is not a recognized feature for this target (ignoring feature)\n",
      "'+ptx85' is not a recognized feature for this target (ignoring feature)\n",
      "'+ptx85' is not a recognized feature for this target (ignoring feature)\n",
      "'+ptx85' is not a recognized feature for this target (ignoring feature)\n",
      "'+ptx85' is not a recognized feature for this target (ignoring feature)\n",
      "'+ptx85' is not a recognized feature for this target (ignoring feature)\n",
      "'+ptx85' is not a recognized feature for this target (ignoring feature)\n",
      "'+ptx85' is not a recognized feature for this target (ignoring feature)\n",
      "'+ptx85' is not a recognized feature for this target (ignoring feature)\n",
      "'+ptx85' is not a recognized feature for this target (ignoring feature)\n",
      "'+ptx85' is not a recognized feature for this target (ignoring feature)\n",
      "'+ptx85' is not a recognized feature for this target (ignoring feature)\n",
      "'+ptx85' is not a recognized feature for this target (ignoring feature)\n",
      "'+ptx85' is not a recognized feature for this target (ignoring feature)\n",
      "'+ptx85' is not a recognized feature for this target (ignoring feature)\n",
      "'+ptx85' is not a recognized feature for this target (ignoring feature)\n",
      "'+ptx85' is not a recognized feature for this target (ignoring feature)\n"
     ]
    },
    {
     "name": "stdout",
     "output_type": "stream",
     "text": [
      "Run 9 with seed 6744 took 7.63 seconds\n"
     ]
    },
    {
     "data": {
      "application/vnd.jupyter.widget-view+json": {
       "model_id": "ae674d3cdbff48f0abe73b131376e2f8",
       "version_major": 2,
       "version_minor": 0
      },
      "text/plain": [
       "Executing:   0%|          | 0/24 [00:00<?, ?cell/s]"
      ]
     },
     "metadata": {},
     "output_type": "display_data"
    },
    {
     "name": "stderr",
     "output_type": "stream",
     "text": [
      "2024-06-25 14:51:39.836883: W external/xla/xla/service/gpu/nvptx_compiler.cc:760] The NVIDIA driver's CUDA version is 12.2 which is older than the ptxas CUDA version (12.5.40). Because the driver is older than the ptxas version, XLA is disabling parallel compilation, which may slow down compilation. You should update your NVIDIA driver or use the NVIDIA-provided CUDA forward compatibility packages.\n",
      "'+ptx85' is not a recognized feature for this target (ignoring feature)\n",
      "'+ptx85' is not a recognized feature for this target (ignoring feature)\n",
      "'+ptx85' is not a recognized feature for this target (ignoring feature)\n",
      "'+ptx85' is not a recognized feature for this target (ignoring feature)\n",
      "'+ptx85' is not a recognized feature for this target (ignoring feature)\n",
      "'+ptx85' is not a recognized feature for this target (ignoring feature)\n",
      "'+ptx85' is not a recognized feature for this target (ignoring feature)\n",
      "'+ptx85' is not a recognized feature for this target (ignoring feature)\n",
      "'+ptx85' is not a recognized feature for this target (ignoring feature)\n",
      "'+ptx85' is not a recognized feature for this target (ignoring feature)\n",
      "'+ptx85' is not a recognized feature for this target (ignoring feature)\n",
      "'+ptx85' is not a recognized feature for this target (ignoring feature)\n",
      "'+ptx85' is not a recognized feature for this target (ignoring feature)\n",
      "'+ptx85' is not a recognized feature for this target (ignoring feature)\n",
      "'+ptx85' is not a recognized feature for this target (ignoring feature)\n",
      "'+ptx85' is not a recognized feature for this target (ignoring feature)\n",
      "'+ptx85' is not a recognized feature for this target (ignoring feature)\n",
      "'+ptx85' is not a recognized feature for this target (ignoring feature)\n",
      "'+ptx85' is not a recognized feature for this target (ignoring feature)\n",
      "'+ptx85' is not a recognized feature for this target (ignoring feature)\n",
      "'+ptx85' is not a recognized feature for this target (ignoring feature)\n",
      "'+ptx85' is not a recognized feature for this target (ignoring feature)\n",
      "'+ptx85' is not a recognized feature for this target (ignoring feature)\n",
      "'+ptx85' is not a recognized feature for this target (ignoring feature)\n",
      "'+ptx85' is not a recognized feature for this target (ignoring feature)\n",
      "'+ptx85' is not a recognized feature for this target (ignoring feature)\n",
      "'+ptx85' is not a recognized feature for this target (ignoring feature)\n",
      "'+ptx85' is not a recognized feature for this target (ignoring feature)\n",
      "'+ptx85' is not a recognized feature for this target (ignoring feature)\n",
      "'+ptx85' is not a recognized feature for this target (ignoring feature)\n"
     ]
    },
    {
     "name": "stdout",
     "output_type": "stream",
     "text": [
      "Run 10 with seed 3468 took 7.86 seconds\n"
     ]
    },
    {
     "data": {
      "application/vnd.jupyter.widget-view+json": {
       "model_id": "257a5328b48c49dc9ee2ee1c3c89477d",
       "version_major": 2,
       "version_minor": 0
      },
      "text/plain": [
       "Executing:   0%|          | 0/24 [00:00<?, ?cell/s]"
      ]
     },
     "metadata": {},
     "output_type": "display_data"
    },
    {
     "name": "stderr",
     "output_type": "stream",
     "text": [
      "2024-06-25 14:51:47.475718: W external/xla/xla/service/gpu/nvptx_compiler.cc:760] The NVIDIA driver's CUDA version is 12.2 which is older than the ptxas CUDA version (12.5.40). Because the driver is older than the ptxas version, XLA is disabling parallel compilation, which may slow down compilation. You should update your NVIDIA driver or use the NVIDIA-provided CUDA forward compatibility packages.\n",
      "'+ptx85' is not a recognized feature for this target (ignoring feature)\n",
      "'+ptx85' is not a recognized feature for this target (ignoring feature)\n",
      "'+ptx85' is not a recognized feature for this target (ignoring feature)\n",
      "'+ptx85' is not a recognized feature for this target (ignoring feature)\n",
      "'+ptx85' is not a recognized feature for this target (ignoring feature)\n",
      "'+ptx85' is not a recognized feature for this target (ignoring feature)\n",
      "'+ptx85' is not a recognized feature for this target (ignoring feature)\n",
      "'+ptx85' is not a recognized feature for this target (ignoring feature)\n",
      "'+ptx85' is not a recognized feature for this target (ignoring feature)\n",
      "'+ptx85' is not a recognized feature for this target (ignoring feature)\n",
      "'+ptx85' is not a recognized feature for this target (ignoring feature)\n",
      "'+ptx85' is not a recognized feature for this target (ignoring feature)\n",
      "'+ptx85' is not a recognized feature for this target (ignoring feature)\n",
      "'+ptx85' is not a recognized feature for this target (ignoring feature)\n",
      "'+ptx85' is not a recognized feature for this target (ignoring feature)\n",
      "'+ptx85' is not a recognized feature for this target (ignoring feature)\n",
      "'+ptx85' is not a recognized feature for this target (ignoring feature)\n",
      "'+ptx85' is not a recognized feature for this target (ignoring feature)\n",
      "'+ptx85' is not a recognized feature for this target (ignoring feature)\n",
      "'+ptx85' is not a recognized feature for this target (ignoring feature)\n",
      "'+ptx85' is not a recognized feature for this target (ignoring feature)\n",
      "'+ptx85' is not a recognized feature for this target (ignoring feature)\n",
      "'+ptx85' is not a recognized feature for this target (ignoring feature)\n",
      "'+ptx85' is not a recognized feature for this target (ignoring feature)\n",
      "'+ptx85' is not a recognized feature for this target (ignoring feature)\n",
      "'+ptx85' is not a recognized feature for this target (ignoring feature)\n",
      "'+ptx85' is not a recognized feature for this target (ignoring feature)\n",
      "'+ptx85' is not a recognized feature for this target (ignoring feature)\n",
      "'+ptx85' is not a recognized feature for this target (ignoring feature)\n",
      "'+ptx85' is not a recognized feature for this target (ignoring feature)\n"
     ]
    },
    {
     "name": "stdout",
     "output_type": "stream",
     "text": [
      "Run 11 with seed 705 took 7.76 seconds\n"
     ]
    },
    {
     "data": {
      "application/vnd.jupyter.widget-view+json": {
       "model_id": "e4ecff7438a84c7090977afdf8127e2d",
       "version_major": 2,
       "version_minor": 0
      },
      "text/plain": [
       "Executing:   0%|          | 0/24 [00:00<?, ?cell/s]"
      ]
     },
     "metadata": {},
     "output_type": "display_data"
    },
    {
     "name": "stderr",
     "output_type": "stream",
     "text": [
      "2024-06-25 14:51:55.309703: W external/xla/xla/service/gpu/nvptx_compiler.cc:760] The NVIDIA driver's CUDA version is 12.2 which is older than the ptxas CUDA version (12.5.40). Because the driver is older than the ptxas version, XLA is disabling parallel compilation, which may slow down compilation. You should update your NVIDIA driver or use the NVIDIA-provided CUDA forward compatibility packages.\n",
      "'+ptx85' is not a recognized feature for this target (ignoring feature)\n",
      "'+ptx85' is not a recognized feature for this target (ignoring feature)\n",
      "'+ptx85' is not a recognized feature for this target (ignoring feature)\n",
      "'+ptx85' is not a recognized feature for this target (ignoring feature)\n",
      "'+ptx85' is not a recognized feature for this target (ignoring feature)\n",
      "'+ptx85' is not a recognized feature for this target (ignoring feature)\n",
      "'+ptx85' is not a recognized feature for this target (ignoring feature)\n",
      "'+ptx85' is not a recognized feature for this target (ignoring feature)\n",
      "'+ptx85' is not a recognized feature for this target (ignoring feature)\n",
      "'+ptx85' is not a recognized feature for this target (ignoring feature)\n",
      "'+ptx85' is not a recognized feature for this target (ignoring feature)\n",
      "'+ptx85' is not a recognized feature for this target (ignoring feature)\n",
      "'+ptx85' is not a recognized feature for this target (ignoring feature)\n",
      "'+ptx85' is not a recognized feature for this target (ignoring feature)\n",
      "'+ptx85' is not a recognized feature for this target (ignoring feature)\n",
      "'+ptx85' is not a recognized feature for this target (ignoring feature)\n",
      "'+ptx85' is not a recognized feature for this target (ignoring feature)\n",
      "'+ptx85' is not a recognized feature for this target (ignoring feature)\n",
      "'+ptx85' is not a recognized feature for this target (ignoring feature)\n",
      "'+ptx85' is not a recognized feature for this target (ignoring feature)\n",
      "'+ptx85' is not a recognized feature for this target (ignoring feature)\n",
      "'+ptx85' is not a recognized feature for this target (ignoring feature)\n",
      "'+ptx85' is not a recognized feature for this target (ignoring feature)\n",
      "'+ptx85' is not a recognized feature for this target (ignoring feature)\n",
      "'+ptx85' is not a recognized feature for this target (ignoring feature)\n",
      "'+ptx85' is not a recognized feature for this target (ignoring feature)\n",
      "'+ptx85' is not a recognized feature for this target (ignoring feature)\n",
      "'+ptx85' is not a recognized feature for this target (ignoring feature)\n",
      "'+ptx85' is not a recognized feature for this target (ignoring feature)\n",
      "'+ptx85' is not a recognized feature for this target (ignoring feature)\n"
     ]
    },
    {
     "name": "stdout",
     "output_type": "stream",
     "text": [
      "Run 12 with seed 2599 took 7.84 seconds\n"
     ]
    },
    {
     "data": {
      "application/vnd.jupyter.widget-view+json": {
       "model_id": "357e049cd7924d7f9b0d81ca965d3b4a",
       "version_major": 2,
       "version_minor": 0
      },
      "text/plain": [
       "Executing:   0%|          | 0/24 [00:00<?, ?cell/s]"
      ]
     },
     "metadata": {},
     "output_type": "display_data"
    },
    {
     "name": "stderr",
     "output_type": "stream",
     "text": [
      "2024-06-25 14:52:03.062609: W external/xla/xla/service/gpu/nvptx_compiler.cc:760] The NVIDIA driver's CUDA version is 12.2 which is older than the ptxas CUDA version (12.5.40). Because the driver is older than the ptxas version, XLA is disabling parallel compilation, which may slow down compilation. You should update your NVIDIA driver or use the NVIDIA-provided CUDA forward compatibility packages.\n",
      "'+ptx85' is not a recognized feature for this target (ignoring feature)\n",
      "'+ptx85' is not a recognized feature for this target (ignoring feature)\n",
      "'+ptx85' is not a recognized feature for this target (ignoring feature)\n",
      "'+ptx85' is not a recognized feature for this target (ignoring feature)\n",
      "'+ptx85' is not a recognized feature for this target (ignoring feature)\n",
      "'+ptx85' is not a recognized feature for this target (ignoring feature)\n",
      "'+ptx85' is not a recognized feature for this target (ignoring feature)\n",
      "'+ptx85' is not a recognized feature for this target (ignoring feature)\n",
      "'+ptx85' is not a recognized feature for this target (ignoring feature)\n",
      "'+ptx85' is not a recognized feature for this target (ignoring feature)\n",
      "'+ptx85' is not a recognized feature for this target (ignoring feature)\n",
      "'+ptx85' is not a recognized feature for this target (ignoring feature)\n",
      "'+ptx85' is not a recognized feature for this target (ignoring feature)\n",
      "'+ptx85' is not a recognized feature for this target (ignoring feature)\n",
      "'+ptx85' is not a recognized feature for this target (ignoring feature)\n",
      "'+ptx85' is not a recognized feature for this target (ignoring feature)\n",
      "'+ptx85' is not a recognized feature for this target (ignoring feature)\n",
      "'+ptx85' is not a recognized feature for this target (ignoring feature)\n",
      "'+ptx85' is not a recognized feature for this target (ignoring feature)\n",
      "'+ptx85' is not a recognized feature for this target (ignoring feature)\n",
      "'+ptx85' is not a recognized feature for this target (ignoring feature)\n",
      "'+ptx85' is not a recognized feature for this target (ignoring feature)\n",
      "'+ptx85' is not a recognized feature for this target (ignoring feature)\n",
      "'+ptx85' is not a recognized feature for this target (ignoring feature)\n",
      "'+ptx85' is not a recognized feature for this target (ignoring feature)\n",
      "'+ptx85' is not a recognized feature for this target (ignoring feature)\n",
      "'+ptx85' is not a recognized feature for this target (ignoring feature)\n",
      "'+ptx85' is not a recognized feature for this target (ignoring feature)\n",
      "'+ptx85' is not a recognized feature for this target (ignoring feature)\n",
      "'+ptx85' is not a recognized feature for this target (ignoring feature)\n"
     ]
    },
    {
     "name": "stdout",
     "output_type": "stream",
     "text": [
      "Run 13 with seed 2222 took 7.76 seconds\n"
     ]
    },
    {
     "data": {
      "application/vnd.jupyter.widget-view+json": {
       "model_id": "ca27e8de1d454234bee62d33fd9a91b4",
       "version_major": 2,
       "version_minor": 0
      },
      "text/plain": [
       "Executing:   0%|          | 0/24 [00:00<?, ?cell/s]"
      ]
     },
     "metadata": {},
     "output_type": "display_data"
    },
    {
     "name": "stderr",
     "output_type": "stream",
     "text": [
      "2024-06-25 14:52:11.005492: W external/xla/xla/service/gpu/nvptx_compiler.cc:760] The NVIDIA driver's CUDA version is 12.2 which is older than the ptxas CUDA version (12.5.40). Because the driver is older than the ptxas version, XLA is disabling parallel compilation, which may slow down compilation. You should update your NVIDIA driver or use the NVIDIA-provided CUDA forward compatibility packages.\n",
      "'+ptx85' is not a recognized feature for this target (ignoring feature)\n",
      "'+ptx85' is not a recognized feature for this target (ignoring feature)\n",
      "'+ptx85' is not a recognized feature for this target (ignoring feature)\n",
      "'+ptx85' is not a recognized feature for this target (ignoring feature)\n",
      "'+ptx85' is not a recognized feature for this target (ignoring feature)\n",
      "'+ptx85' is not a recognized feature for this target (ignoring feature)\n",
      "'+ptx85' is not a recognized feature for this target (ignoring feature)\n",
      "'+ptx85' is not a recognized feature for this target (ignoring feature)\n",
      "'+ptx85' is not a recognized feature for this target (ignoring feature)\n",
      "'+ptx85' is not a recognized feature for this target (ignoring feature)\n",
      "'+ptx85' is not a recognized feature for this target (ignoring feature)\n",
      "'+ptx85' is not a recognized feature for this target (ignoring feature)\n",
      "'+ptx85' is not a recognized feature for this target (ignoring feature)\n",
      "'+ptx85' is not a recognized feature for this target (ignoring feature)\n",
      "'+ptx85' is not a recognized feature for this target (ignoring feature)\n",
      "'+ptx85' is not a recognized feature for this target (ignoring feature)\n",
      "'+ptx85' is not a recognized feature for this target (ignoring feature)\n",
      "'+ptx85' is not a recognized feature for this target (ignoring feature)\n",
      "'+ptx85' is not a recognized feature for this target (ignoring feature)\n",
      "'+ptx85' is not a recognized feature for this target (ignoring feature)\n",
      "'+ptx85' is not a recognized feature for this target (ignoring feature)\n",
      "'+ptx85' is not a recognized feature for this target (ignoring feature)\n",
      "'+ptx85' is not a recognized feature for this target (ignoring feature)\n",
      "'+ptx85' is not a recognized feature for this target (ignoring feature)\n",
      "'+ptx85' is not a recognized feature for this target (ignoring feature)\n",
      "'+ptx85' is not a recognized feature for this target (ignoring feature)\n",
      "'+ptx85' is not a recognized feature for this target (ignoring feature)\n",
      "'+ptx85' is not a recognized feature for this target (ignoring feature)\n",
      "'+ptx85' is not a recognized feature for this target (ignoring feature)\n",
      "'+ptx85' is not a recognized feature for this target (ignoring feature)\n"
     ]
    },
    {
     "name": "stdout",
     "output_type": "stream",
     "text": [
      "Run 14 with seed 7768 took 7.93 seconds\n"
     ]
    },
    {
     "data": {
      "application/vnd.jupyter.widget-view+json": {
       "model_id": "32bf6f779022456a976505eb3fa23933",
       "version_major": 2,
       "version_minor": 0
      },
      "text/plain": [
       "Executing:   0%|          | 0/24 [00:00<?, ?cell/s]"
      ]
     },
     "metadata": {},
     "output_type": "display_data"
    },
    {
     "name": "stderr",
     "output_type": "stream",
     "text": [
      "2024-06-25 14:52:18.805985: W external/xla/xla/service/gpu/nvptx_compiler.cc:760] The NVIDIA driver's CUDA version is 12.2 which is older than the ptxas CUDA version (12.5.40). Because the driver is older than the ptxas version, XLA is disabling parallel compilation, which may slow down compilation. You should update your NVIDIA driver or use the NVIDIA-provided CUDA forward compatibility packages.\n",
      "'+ptx85' is not a recognized feature for this target (ignoring feature)\n",
      "'+ptx85' is not a recognized feature for this target (ignoring feature)\n",
      "'+ptx85' is not a recognized feature for this target (ignoring feature)\n",
      "'+ptx85' is not a recognized feature for this target (ignoring feature)\n",
      "'+ptx85' is not a recognized feature for this target (ignoring feature)\n",
      "'+ptx85' is not a recognized feature for this target (ignoring feature)\n",
      "'+ptx85' is not a recognized feature for this target (ignoring feature)\n",
      "'+ptx85' is not a recognized feature for this target (ignoring feature)\n",
      "'+ptx85' is not a recognized feature for this target (ignoring feature)\n",
      "'+ptx85' is not a recognized feature for this target (ignoring feature)\n",
      "'+ptx85' is not a recognized feature for this target (ignoring feature)\n",
      "'+ptx85' is not a recognized feature for this target (ignoring feature)\n",
      "'+ptx85' is not a recognized feature for this target (ignoring feature)\n",
      "'+ptx85' is not a recognized feature for this target (ignoring feature)\n",
      "'+ptx85' is not a recognized feature for this target (ignoring feature)\n",
      "'+ptx85' is not a recognized feature for this target (ignoring feature)\n",
      "'+ptx85' is not a recognized feature for this target (ignoring feature)\n",
      "'+ptx85' is not a recognized feature for this target (ignoring feature)\n",
      "'+ptx85' is not a recognized feature for this target (ignoring feature)\n",
      "'+ptx85' is not a recognized feature for this target (ignoring feature)\n",
      "'+ptx85' is not a recognized feature for this target (ignoring feature)\n",
      "'+ptx85' is not a recognized feature for this target (ignoring feature)\n",
      "'+ptx85' is not a recognized feature for this target (ignoring feature)\n",
      "'+ptx85' is not a recognized feature for this target (ignoring feature)\n",
      "'+ptx85' is not a recognized feature for this target (ignoring feature)\n",
      "'+ptx85' is not a recognized feature for this target (ignoring feature)\n",
      "'+ptx85' is not a recognized feature for this target (ignoring feature)\n",
      "'+ptx85' is not a recognized feature for this target (ignoring feature)\n",
      "'+ptx85' is not a recognized feature for this target (ignoring feature)\n",
      "'+ptx85' is not a recognized feature for this target (ignoring feature)\n"
     ]
    },
    {
     "name": "stdout",
     "output_type": "stream",
     "text": [
      "Run 15 with seed 2897 took 7.79 seconds\n"
     ]
    },
    {
     "data": {
      "application/vnd.jupyter.widget-view+json": {
       "model_id": "f21e722fe9e64da89ab610d01df747b6",
       "version_major": 2,
       "version_minor": 0
      },
      "text/plain": [
       "Executing:   0%|          | 0/24 [00:00<?, ?cell/s]"
      ]
     },
     "metadata": {},
     "output_type": "display_data"
    },
    {
     "name": "stderr",
     "output_type": "stream",
     "text": [
      "2024-06-25 14:52:26.609527: W external/xla/xla/service/gpu/nvptx_compiler.cc:760] The NVIDIA driver's CUDA version is 12.2 which is older than the ptxas CUDA version (12.5.40). Because the driver is older than the ptxas version, XLA is disabling parallel compilation, which may slow down compilation. You should update your NVIDIA driver or use the NVIDIA-provided CUDA forward compatibility packages.\n",
      "'+ptx85' is not a recognized feature for this target (ignoring feature)\n",
      "'+ptx85' is not a recognized feature for this target (ignoring feature)\n",
      "'+ptx85' is not a recognized feature for this target (ignoring feature)\n",
      "'+ptx85' is not a recognized feature for this target (ignoring feature)\n",
      "'+ptx85' is not a recognized feature for this target (ignoring feature)\n",
      "'+ptx85' is not a recognized feature for this target (ignoring feature)\n",
      "'+ptx85' is not a recognized feature for this target (ignoring feature)\n",
      "'+ptx85' is not a recognized feature for this target (ignoring feature)\n",
      "'+ptx85' is not a recognized feature for this target (ignoring feature)\n",
      "'+ptx85' is not a recognized feature for this target (ignoring feature)\n",
      "'+ptx85' is not a recognized feature for this target (ignoring feature)\n",
      "'+ptx85' is not a recognized feature for this target (ignoring feature)\n",
      "'+ptx85' is not a recognized feature for this target (ignoring feature)\n",
      "'+ptx85' is not a recognized feature for this target (ignoring feature)\n",
      "'+ptx85' is not a recognized feature for this target (ignoring feature)\n",
      "'+ptx85' is not a recognized feature for this target (ignoring feature)\n",
      "'+ptx85' is not a recognized feature for this target (ignoring feature)\n",
      "'+ptx85' is not a recognized feature for this target (ignoring feature)\n",
      "'+ptx85' is not a recognized feature for this target (ignoring feature)\n",
      "'+ptx85' is not a recognized feature for this target (ignoring feature)\n",
      "'+ptx85' is not a recognized feature for this target (ignoring feature)\n",
      "'+ptx85' is not a recognized feature for this target (ignoring feature)\n",
      "'+ptx85' is not a recognized feature for this target (ignoring feature)\n",
      "'+ptx85' is not a recognized feature for this target (ignoring feature)\n",
      "'+ptx85' is not a recognized feature for this target (ignoring feature)\n",
      "'+ptx85' is not a recognized feature for this target (ignoring feature)\n",
      "'+ptx85' is not a recognized feature for this target (ignoring feature)\n",
      "'+ptx85' is not a recognized feature for this target (ignoring feature)\n",
      "'+ptx85' is not a recognized feature for this target (ignoring feature)\n",
      "'+ptx85' is not a recognized feature for this target (ignoring feature)\n"
     ]
    },
    {
     "name": "stdout",
     "output_type": "stream",
     "text": [
      "Run 16 with seed 9893 took 7.83 seconds\n"
     ]
    },
    {
     "data": {
      "application/vnd.jupyter.widget-view+json": {
       "model_id": "1c45e0c7958141c190517a847d590193",
       "version_major": 2,
       "version_minor": 0
      },
      "text/plain": [
       "Executing:   0%|          | 0/24 [00:00<?, ?cell/s]"
      ]
     },
     "metadata": {},
     "output_type": "display_data"
    },
    {
     "name": "stderr",
     "output_type": "stream",
     "text": [
      "2024-06-25 14:52:34.371351: W external/xla/xla/service/gpu/nvptx_compiler.cc:760] The NVIDIA driver's CUDA version is 12.2 which is older than the ptxas CUDA version (12.5.40). Because the driver is older than the ptxas version, XLA is disabling parallel compilation, which may slow down compilation. You should update your NVIDIA driver or use the NVIDIA-provided CUDA forward compatibility packages.\n",
      "'+ptx85' is not a recognized feature for this target (ignoring feature)\n",
      "'+ptx85' is not a recognized feature for this target (ignoring feature)\n",
      "'+ptx85' is not a recognized feature for this target (ignoring feature)\n",
      "'+ptx85' is not a recognized feature for this target (ignoring feature)\n",
      "'+ptx85' is not a recognized feature for this target (ignoring feature)\n",
      "'+ptx85' is not a recognized feature for this target (ignoring feature)\n",
      "'+ptx85' is not a recognized feature for this target (ignoring feature)\n",
      "'+ptx85' is not a recognized feature for this target (ignoring feature)\n",
      "'+ptx85' is not a recognized feature for this target (ignoring feature)\n",
      "'+ptx85' is not a recognized feature for this target (ignoring feature)\n",
      "'+ptx85' is not a recognized feature for this target (ignoring feature)\n",
      "'+ptx85' is not a recognized feature for this target (ignoring feature)\n",
      "'+ptx85' is not a recognized feature for this target (ignoring feature)\n",
      "'+ptx85' is not a recognized feature for this target (ignoring feature)\n",
      "'+ptx85' is not a recognized feature for this target (ignoring feature)\n",
      "'+ptx85' is not a recognized feature for this target (ignoring feature)\n",
      "'+ptx85' is not a recognized feature for this target (ignoring feature)\n",
      "'+ptx85' is not a recognized feature for this target (ignoring feature)\n",
      "'+ptx85' is not a recognized feature for this target (ignoring feature)\n",
      "'+ptx85' is not a recognized feature for this target (ignoring feature)\n",
      "'+ptx85' is not a recognized feature for this target (ignoring feature)\n",
      "'+ptx85' is not a recognized feature for this target (ignoring feature)\n",
      "'+ptx85' is not a recognized feature for this target (ignoring feature)\n",
      "'+ptx85' is not a recognized feature for this target (ignoring feature)\n",
      "'+ptx85' is not a recognized feature for this target (ignoring feature)\n",
      "'+ptx85' is not a recognized feature for this target (ignoring feature)\n",
      "'+ptx85' is not a recognized feature for this target (ignoring feature)\n",
      "'+ptx85' is not a recognized feature for this target (ignoring feature)\n",
      "'+ptx85' is not a recognized feature for this target (ignoring feature)\n",
      "'+ptx85' is not a recognized feature for this target (ignoring feature)\n"
     ]
    },
    {
     "name": "stdout",
     "output_type": "stream",
     "text": [
      "Run 17 with seed 537 took 7.77 seconds\n"
     ]
    },
    {
     "data": {
      "application/vnd.jupyter.widget-view+json": {
       "model_id": "acc52c5361254efd85a5584b3a36f941",
       "version_major": 2,
       "version_minor": 0
      },
      "text/plain": [
       "Executing:   0%|          | 0/24 [00:00<?, ?cell/s]"
      ]
     },
     "metadata": {},
     "output_type": "display_data"
    },
    {
     "name": "stderr",
     "output_type": "stream",
     "text": [
      "2024-06-25 14:52:42.119917: W external/xla/xla/service/gpu/nvptx_compiler.cc:760] The NVIDIA driver's CUDA version is 12.2 which is older than the ptxas CUDA version (12.5.40). Because the driver is older than the ptxas version, XLA is disabling parallel compilation, which may slow down compilation. You should update your NVIDIA driver or use the NVIDIA-provided CUDA forward compatibility packages.\n",
      "'+ptx85' is not a recognized feature for this target (ignoring feature)\n",
      "'+ptx85' is not a recognized feature for this target (ignoring feature)\n",
      "'+ptx85' is not a recognized feature for this target (ignoring feature)\n",
      "'+ptx85' is not a recognized feature for this target (ignoring feature)\n",
      "'+ptx85' is not a recognized feature for this target (ignoring feature)\n",
      "'+ptx85' is not a recognized feature for this target (ignoring feature)\n",
      "'+ptx85' is not a recognized feature for this target (ignoring feature)\n",
      "'+ptx85' is not a recognized feature for this target (ignoring feature)\n",
      "'+ptx85' is not a recognized feature for this target (ignoring feature)\n",
      "'+ptx85' is not a recognized feature for this target (ignoring feature)\n",
      "'+ptx85' is not a recognized feature for this target (ignoring feature)\n",
      "'+ptx85' is not a recognized feature for this target (ignoring feature)\n",
      "'+ptx85' is not a recognized feature for this target (ignoring feature)\n",
      "'+ptx85' is not a recognized feature for this target (ignoring feature)\n",
      "'+ptx85' is not a recognized feature for this target (ignoring feature)\n",
      "'+ptx85' is not a recognized feature for this target (ignoring feature)\n",
      "'+ptx85' is not a recognized feature for this target (ignoring feature)\n",
      "'+ptx85' is not a recognized feature for this target (ignoring feature)\n",
      "'+ptx85' is not a recognized feature for this target (ignoring feature)\n",
      "'+ptx85' is not a recognized feature for this target (ignoring feature)\n",
      "'+ptx85' is not a recognized feature for this target (ignoring feature)\n",
      "'+ptx85' is not a recognized feature for this target (ignoring feature)\n",
      "'+ptx85' is not a recognized feature for this target (ignoring feature)\n",
      "'+ptx85' is not a recognized feature for this target (ignoring feature)\n",
      "'+ptx85' is not a recognized feature for this target (ignoring feature)\n",
      "'+ptx85' is not a recognized feature for this target (ignoring feature)\n",
      "'+ptx85' is not a recognized feature for this target (ignoring feature)\n",
      "'+ptx85' is not a recognized feature for this target (ignoring feature)\n",
      "'+ptx85' is not a recognized feature for this target (ignoring feature)\n",
      "'+ptx85' is not a recognized feature for this target (ignoring feature)\n"
     ]
    },
    {
     "name": "stdout",
     "output_type": "stream",
     "text": [
      "Run 18 with seed 6216 took 7.72 seconds\n"
     ]
    },
    {
     "data": {
      "application/vnd.jupyter.widget-view+json": {
       "model_id": "5d911e9545304a4daa3b4632084338b0",
       "version_major": 2,
       "version_minor": 0
      },
      "text/plain": [
       "Executing:   0%|          | 0/24 [00:00<?, ?cell/s]"
      ]
     },
     "metadata": {},
     "output_type": "display_data"
    },
    {
     "name": "stderr",
     "output_type": "stream",
     "text": [
      "2024-06-25 14:52:50.039283: W external/xla/xla/service/gpu/nvptx_compiler.cc:760] The NVIDIA driver's CUDA version is 12.2 which is older than the ptxas CUDA version (12.5.40). Because the driver is older than the ptxas version, XLA is disabling parallel compilation, which may slow down compilation. You should update your NVIDIA driver or use the NVIDIA-provided CUDA forward compatibility packages.\n",
      "'+ptx85' is not a recognized feature for this target (ignoring feature)\n",
      "'+ptx85' is not a recognized feature for this target (ignoring feature)\n",
      "'+ptx85' is not a recognized feature for this target (ignoring feature)\n",
      "'+ptx85' is not a recognized feature for this target (ignoring feature)\n",
      "'+ptx85' is not a recognized feature for this target (ignoring feature)\n",
      "'+ptx85' is not a recognized feature for this target (ignoring feature)\n",
      "'+ptx85' is not a recognized feature for this target (ignoring feature)\n",
      "'+ptx85' is not a recognized feature for this target (ignoring feature)\n",
      "'+ptx85' is not a recognized feature for this target (ignoring feature)\n",
      "'+ptx85' is not a recognized feature for this target (ignoring feature)\n",
      "'+ptx85' is not a recognized feature for this target (ignoring feature)\n",
      "'+ptx85' is not a recognized feature for this target (ignoring feature)\n",
      "'+ptx85' is not a recognized feature for this target (ignoring feature)\n",
      "'+ptx85' is not a recognized feature for this target (ignoring feature)\n",
      "'+ptx85' is not a recognized feature for this target (ignoring feature)\n",
      "'+ptx85' is not a recognized feature for this target (ignoring feature)\n",
      "'+ptx85' is not a recognized feature for this target (ignoring feature)\n",
      "'+ptx85' is not a recognized feature for this target (ignoring feature)\n",
      "'+ptx85' is not a recognized feature for this target (ignoring feature)\n",
      "'+ptx85' is not a recognized feature for this target (ignoring feature)\n",
      "'+ptx85' is not a recognized feature for this target (ignoring feature)\n",
      "'+ptx85' is not a recognized feature for this target (ignoring feature)\n",
      "'+ptx85' is not a recognized feature for this target (ignoring feature)\n",
      "'+ptx85' is not a recognized feature for this target (ignoring feature)\n",
      "'+ptx85' is not a recognized feature for this target (ignoring feature)\n",
      "'+ptx85' is not a recognized feature for this target (ignoring feature)\n",
      "'+ptx85' is not a recognized feature for this target (ignoring feature)\n",
      "'+ptx85' is not a recognized feature for this target (ignoring feature)\n",
      "'+ptx85' is not a recognized feature for this target (ignoring feature)\n",
      "'+ptx85' is not a recognized feature for this target (ignoring feature)\n"
     ]
    },
    {
     "name": "stdout",
     "output_type": "stream",
     "text": [
      "Run 19 with seed 6921 took 7.84 seconds\n"
     ]
    },
    {
     "data": {
      "application/vnd.jupyter.widget-view+json": {
       "model_id": "8d0cfef116e84ba4a8c08821829c084e",
       "version_major": 2,
       "version_minor": 0
      },
      "text/plain": [
       "Executing:   0%|          | 0/24 [00:00<?, ?cell/s]"
      ]
     },
     "metadata": {},
     "output_type": "display_data"
    },
    {
     "name": "stderr",
     "output_type": "stream",
     "text": [
      "2024-06-25 14:52:57.773269: W external/xla/xla/service/gpu/nvptx_compiler.cc:760] The NVIDIA driver's CUDA version is 12.2 which is older than the ptxas CUDA version (12.5.40). Because the driver is older than the ptxas version, XLA is disabling parallel compilation, which may slow down compilation. You should update your NVIDIA driver or use the NVIDIA-provided CUDA forward compatibility packages.\n",
      "'+ptx85' is not a recognized feature for this target (ignoring feature)\n",
      "'+ptx85' is not a recognized feature for this target (ignoring feature)\n",
      "'+ptx85' is not a recognized feature for this target (ignoring feature)\n",
      "'+ptx85' is not a recognized feature for this target (ignoring feature)\n",
      "'+ptx85' is not a recognized feature for this target (ignoring feature)\n",
      "'+ptx85' is not a recognized feature for this target (ignoring feature)\n",
      "'+ptx85' is not a recognized feature for this target (ignoring feature)\n",
      "'+ptx85' is not a recognized feature for this target (ignoring feature)\n",
      "'+ptx85' is not a recognized feature for this target (ignoring feature)\n",
      "'+ptx85' is not a recognized feature for this target (ignoring feature)\n",
      "'+ptx85' is not a recognized feature for this target (ignoring feature)\n",
      "'+ptx85' is not a recognized feature for this target (ignoring feature)\n",
      "'+ptx85' is not a recognized feature for this target (ignoring feature)\n",
      "'+ptx85' is not a recognized feature for this target (ignoring feature)\n",
      "'+ptx85' is not a recognized feature for this target (ignoring feature)\n",
      "'+ptx85' is not a recognized feature for this target (ignoring feature)\n",
      "'+ptx85' is not a recognized feature for this target (ignoring feature)\n",
      "'+ptx85' is not a recognized feature for this target (ignoring feature)\n",
      "'+ptx85' is not a recognized feature for this target (ignoring feature)\n",
      "'+ptx85' is not a recognized feature for this target (ignoring feature)\n",
      "'+ptx85' is not a recognized feature for this target (ignoring feature)\n",
      "'+ptx85' is not a recognized feature for this target (ignoring feature)\n",
      "'+ptx85' is not a recognized feature for this target (ignoring feature)\n",
      "'+ptx85' is not a recognized feature for this target (ignoring feature)\n",
      "'+ptx85' is not a recognized feature for this target (ignoring feature)\n",
      "'+ptx85' is not a recognized feature for this target (ignoring feature)\n",
      "'+ptx85' is not a recognized feature for this target (ignoring feature)\n",
      "'+ptx85' is not a recognized feature for this target (ignoring feature)\n",
      "'+ptx85' is not a recognized feature for this target (ignoring feature)\n",
      "'+ptx85' is not a recognized feature for this target (ignoring feature)\n"
     ]
    },
    {
     "name": "stdout",
     "output_type": "stream",
     "text": [
      "Run 20 with seed 6036 took 7.81 seconds\n"
     ]
    },
    {
     "data": {
      "application/vnd.jupyter.widget-view+json": {
       "model_id": "b7ac5c25cb8f4675b4bff702a895ee36",
       "version_major": 2,
       "version_minor": 0
      },
      "text/plain": [
       "Executing:   0%|          | 0/24 [00:00<?, ?cell/s]"
      ]
     },
     "metadata": {},
     "output_type": "display_data"
    },
    {
     "name": "stderr",
     "output_type": "stream",
     "text": [
      "2024-06-25 14:53:05.731217: W external/xla/xla/service/gpu/nvptx_compiler.cc:760] The NVIDIA driver's CUDA version is 12.2 which is older than the ptxas CUDA version (12.5.40). Because the driver is older than the ptxas version, XLA is disabling parallel compilation, which may slow down compilation. You should update your NVIDIA driver or use the NVIDIA-provided CUDA forward compatibility packages.\n",
      "'+ptx85' is not a recognized feature for this target (ignoring feature)\n",
      "'+ptx85' is not a recognized feature for this target (ignoring feature)\n",
      "'+ptx85' is not a recognized feature for this target (ignoring feature)\n",
      "'+ptx85' is not a recognized feature for this target (ignoring feature)\n",
      "'+ptx85' is not a recognized feature for this target (ignoring feature)\n",
      "'+ptx85' is not a recognized feature for this target (ignoring feature)\n",
      "'+ptx85' is not a recognized feature for this target (ignoring feature)\n",
      "'+ptx85' is not a recognized feature for this target (ignoring feature)\n",
      "'+ptx85' is not a recognized feature for this target (ignoring feature)\n",
      "'+ptx85' is not a recognized feature for this target (ignoring feature)\n",
      "'+ptx85' is not a recognized feature for this target (ignoring feature)\n",
      "'+ptx85' is not a recognized feature for this target (ignoring feature)\n",
      "'+ptx85' is not a recognized feature for this target (ignoring feature)\n",
      "'+ptx85' is not a recognized feature for this target (ignoring feature)\n",
      "'+ptx85' is not a recognized feature for this target (ignoring feature)\n",
      "'+ptx85' is not a recognized feature for this target (ignoring feature)\n",
      "'+ptx85' is not a recognized feature for this target (ignoring feature)\n",
      "'+ptx85' is not a recognized feature for this target (ignoring feature)\n",
      "'+ptx85' is not a recognized feature for this target (ignoring feature)\n",
      "'+ptx85' is not a recognized feature for this target (ignoring feature)\n",
      "'+ptx85' is not a recognized feature for this target (ignoring feature)\n",
      "'+ptx85' is not a recognized feature for this target (ignoring feature)\n",
      "'+ptx85' is not a recognized feature for this target (ignoring feature)\n",
      "'+ptx85' is not a recognized feature for this target (ignoring feature)\n",
      "'+ptx85' is not a recognized feature for this target (ignoring feature)\n",
      "'+ptx85' is not a recognized feature for this target (ignoring feature)\n",
      "'+ptx85' is not a recognized feature for this target (ignoring feature)\n",
      "'+ptx85' is not a recognized feature for this target (ignoring feature)\n",
      "'+ptx85' is not a recognized feature for this target (ignoring feature)\n",
      "'+ptx85' is not a recognized feature for this target (ignoring feature)\n"
     ]
    },
    {
     "name": "stdout",
     "output_type": "stream",
     "text": [
      "Run 21 with seed 2163 took 7.85 seconds\n"
     ]
    },
    {
     "data": {
      "application/vnd.jupyter.widget-view+json": {
       "model_id": "f5572d43999a431e9ce46e7098e9fd54",
       "version_major": 2,
       "version_minor": 0
      },
      "text/plain": [
       "Executing:   0%|          | 0/24 [00:00<?, ?cell/s]"
      ]
     },
     "metadata": {},
     "output_type": "display_data"
    },
    {
     "name": "stderr",
     "output_type": "stream",
     "text": [
      "2024-06-25 14:53:13.376129: W external/xla/xla/service/gpu/nvptx_compiler.cc:760] The NVIDIA driver's CUDA version is 12.2 which is older than the ptxas CUDA version (12.5.40). Because the driver is older than the ptxas version, XLA is disabling parallel compilation, which may slow down compilation. You should update your NVIDIA driver or use the NVIDIA-provided CUDA forward compatibility packages.\n",
      "'+ptx85' is not a recognized feature for this target (ignoring feature)\n",
      "'+ptx85' is not a recognized feature for this target (ignoring feature)\n",
      "'+ptx85' is not a recognized feature for this target (ignoring feature)\n",
      "'+ptx85' is not a recognized feature for this target (ignoring feature)\n",
      "'+ptx85' is not a recognized feature for this target (ignoring feature)\n",
      "'+ptx85' is not a recognized feature for this target (ignoring feature)\n",
      "'+ptx85' is not a recognized feature for this target (ignoring feature)\n",
      "'+ptx85' is not a recognized feature for this target (ignoring feature)\n",
      "'+ptx85' is not a recognized feature for this target (ignoring feature)\n",
      "'+ptx85' is not a recognized feature for this target (ignoring feature)\n",
      "'+ptx85' is not a recognized feature for this target (ignoring feature)\n",
      "'+ptx85' is not a recognized feature for this target (ignoring feature)\n",
      "'+ptx85' is not a recognized feature for this target (ignoring feature)\n",
      "'+ptx85' is not a recognized feature for this target (ignoring feature)\n",
      "'+ptx85' is not a recognized feature for this target (ignoring feature)\n",
      "'+ptx85' is not a recognized feature for this target (ignoring feature)\n",
      "'+ptx85' is not a recognized feature for this target (ignoring feature)\n",
      "'+ptx85' is not a recognized feature for this target (ignoring feature)\n",
      "'+ptx85' is not a recognized feature for this target (ignoring feature)\n",
      "'+ptx85' is not a recognized feature for this target (ignoring feature)\n",
      "'+ptx85' is not a recognized feature for this target (ignoring feature)\n",
      "'+ptx85' is not a recognized feature for this target (ignoring feature)\n",
      "'+ptx85' is not a recognized feature for this target (ignoring feature)\n",
      "'+ptx85' is not a recognized feature for this target (ignoring feature)\n",
      "'+ptx85' is not a recognized feature for this target (ignoring feature)\n",
      "'+ptx85' is not a recognized feature for this target (ignoring feature)\n",
      "'+ptx85' is not a recognized feature for this target (ignoring feature)\n",
      "'+ptx85' is not a recognized feature for this target (ignoring feature)\n",
      "'+ptx85' is not a recognized feature for this target (ignoring feature)\n",
      "'+ptx85' is not a recognized feature for this target (ignoring feature)\n"
     ]
    },
    {
     "name": "stdout",
     "output_type": "stream",
     "text": [
      "Run 22 with seed 5072 took 7.76 seconds\n"
     ]
    },
    {
     "data": {
      "application/vnd.jupyter.widget-view+json": {
       "model_id": "fb163ae7704247a8a02eb34bd4bc67cd",
       "version_major": 2,
       "version_minor": 0
      },
      "text/plain": [
       "Executing:   0%|          | 0/24 [00:00<?, ?cell/s]"
      ]
     },
     "metadata": {},
     "output_type": "display_data"
    },
    {
     "name": "stderr",
     "output_type": "stream",
     "text": [
      "2024-06-25 14:53:21.121190: W external/xla/xla/service/gpu/nvptx_compiler.cc:760] The NVIDIA driver's CUDA version is 12.2 which is older than the ptxas CUDA version (12.5.40). Because the driver is older than the ptxas version, XLA is disabling parallel compilation, which may slow down compilation. You should update your NVIDIA driver or use the NVIDIA-provided CUDA forward compatibility packages.\n",
      "'+ptx85' is not a recognized feature for this target (ignoring feature)\n",
      "'+ptx85' is not a recognized feature for this target (ignoring feature)\n",
      "'+ptx85' is not a recognized feature for this target (ignoring feature)\n",
      "'+ptx85' is not a recognized feature for this target (ignoring feature)\n",
      "'+ptx85' is not a recognized feature for this target (ignoring feature)\n",
      "'+ptx85' is not a recognized feature for this target (ignoring feature)\n",
      "'+ptx85' is not a recognized feature for this target (ignoring feature)\n",
      "'+ptx85' is not a recognized feature for this target (ignoring feature)\n",
      "'+ptx85' is not a recognized feature for this target (ignoring feature)\n",
      "'+ptx85' is not a recognized feature for this target (ignoring feature)\n",
      "'+ptx85' is not a recognized feature for this target (ignoring feature)\n",
      "'+ptx85' is not a recognized feature for this target (ignoring feature)\n",
      "'+ptx85' is not a recognized feature for this target (ignoring feature)\n",
      "'+ptx85' is not a recognized feature for this target (ignoring feature)\n",
      "'+ptx85' is not a recognized feature for this target (ignoring feature)\n",
      "'+ptx85' is not a recognized feature for this target (ignoring feature)\n",
      "'+ptx85' is not a recognized feature for this target (ignoring feature)\n",
      "'+ptx85' is not a recognized feature for this target (ignoring feature)\n",
      "'+ptx85' is not a recognized feature for this target (ignoring feature)\n",
      "'+ptx85' is not a recognized feature for this target (ignoring feature)\n",
      "'+ptx85' is not a recognized feature for this target (ignoring feature)\n",
      "'+ptx85' is not a recognized feature for this target (ignoring feature)\n",
      "'+ptx85' is not a recognized feature for this target (ignoring feature)\n",
      "'+ptx85' is not a recognized feature for this target (ignoring feature)\n",
      "'+ptx85' is not a recognized feature for this target (ignoring feature)\n",
      "'+ptx85' is not a recognized feature for this target (ignoring feature)\n",
      "'+ptx85' is not a recognized feature for this target (ignoring feature)\n",
      "'+ptx85' is not a recognized feature for this target (ignoring feature)\n",
      "'+ptx85' is not a recognized feature for this target (ignoring feature)\n",
      "'+ptx85' is not a recognized feature for this target (ignoring feature)\n"
     ]
    },
    {
     "name": "stdout",
     "output_type": "stream",
     "text": [
      "Run 23 with seed 4851 took 7.62 seconds\n"
     ]
    },
    {
     "data": {
      "application/vnd.jupyter.widget-view+json": {
       "model_id": "60e806701ffd4ae59ce4d82586d7952a",
       "version_major": 2,
       "version_minor": 0
      },
      "text/plain": [
       "Executing:   0%|          | 0/24 [00:00<?, ?cell/s]"
      ]
     },
     "metadata": {},
     "output_type": "display_data"
    },
    {
     "name": "stderr",
     "output_type": "stream",
     "text": [
      "2024-06-25 14:53:28.823633: W external/xla/xla/service/gpu/nvptx_compiler.cc:760] The NVIDIA driver's CUDA version is 12.2 which is older than the ptxas CUDA version (12.5.40). Because the driver is older than the ptxas version, XLA is disabling parallel compilation, which may slow down compilation. You should update your NVIDIA driver or use the NVIDIA-provided CUDA forward compatibility packages.\n",
      "'+ptx85' is not a recognized feature for this target (ignoring feature)\n",
      "'+ptx85' is not a recognized feature for this target (ignoring feature)\n",
      "'+ptx85' is not a recognized feature for this target (ignoring feature)\n",
      "'+ptx85' is not a recognized feature for this target (ignoring feature)\n",
      "'+ptx85' is not a recognized feature for this target (ignoring feature)\n",
      "'+ptx85' is not a recognized feature for this target (ignoring feature)\n",
      "'+ptx85' is not a recognized feature for this target (ignoring feature)\n",
      "'+ptx85' is not a recognized feature for this target (ignoring feature)\n",
      "'+ptx85' is not a recognized feature for this target (ignoring feature)\n",
      "'+ptx85' is not a recognized feature for this target (ignoring feature)\n",
      "'+ptx85' is not a recognized feature for this target (ignoring feature)\n",
      "'+ptx85' is not a recognized feature for this target (ignoring feature)\n",
      "'+ptx85' is not a recognized feature for this target (ignoring feature)\n",
      "'+ptx85' is not a recognized feature for this target (ignoring feature)\n",
      "'+ptx85' is not a recognized feature for this target (ignoring feature)\n",
      "'+ptx85' is not a recognized feature for this target (ignoring feature)\n",
      "'+ptx85' is not a recognized feature for this target (ignoring feature)\n",
      "'+ptx85' is not a recognized feature for this target (ignoring feature)\n",
      "'+ptx85' is not a recognized feature for this target (ignoring feature)\n",
      "'+ptx85' is not a recognized feature for this target (ignoring feature)\n",
      "'+ptx85' is not a recognized feature for this target (ignoring feature)\n",
      "'+ptx85' is not a recognized feature for this target (ignoring feature)\n",
      "'+ptx85' is not a recognized feature for this target (ignoring feature)\n",
      "'+ptx85' is not a recognized feature for this target (ignoring feature)\n",
      "'+ptx85' is not a recognized feature for this target (ignoring feature)\n",
      "'+ptx85' is not a recognized feature for this target (ignoring feature)\n",
      "'+ptx85' is not a recognized feature for this target (ignoring feature)\n",
      "'+ptx85' is not a recognized feature for this target (ignoring feature)\n",
      "'+ptx85' is not a recognized feature for this target (ignoring feature)\n",
      "'+ptx85' is not a recognized feature for this target (ignoring feature)\n"
     ]
    },
    {
     "name": "stdout",
     "output_type": "stream",
     "text": [
      "Run 24 with seed 7877 took 7.85 seconds\n"
     ]
    },
    {
     "data": {
      "application/vnd.jupyter.widget-view+json": {
       "model_id": "f8c105572bb94f21a454a8ccef1feb96",
       "version_major": 2,
       "version_minor": 0
      },
      "text/plain": [
       "Executing:   0%|          | 0/24 [00:00<?, ?cell/s]"
      ]
     },
     "metadata": {},
     "output_type": "display_data"
    },
    {
     "name": "stderr",
     "output_type": "stream",
     "text": [
      "2024-06-25 14:53:36.627785: W external/xla/xla/service/gpu/nvptx_compiler.cc:760] The NVIDIA driver's CUDA version is 12.2 which is older than the ptxas CUDA version (12.5.40). Because the driver is older than the ptxas version, XLA is disabling parallel compilation, which may slow down compilation. You should update your NVIDIA driver or use the NVIDIA-provided CUDA forward compatibility packages.\n",
      "'+ptx85' is not a recognized feature for this target (ignoring feature)\n",
      "'+ptx85' is not a recognized feature for this target (ignoring feature)\n",
      "'+ptx85' is not a recognized feature for this target (ignoring feature)\n",
      "'+ptx85' is not a recognized feature for this target (ignoring feature)\n",
      "'+ptx85' is not a recognized feature for this target (ignoring feature)\n",
      "'+ptx85' is not a recognized feature for this target (ignoring feature)\n",
      "'+ptx85' is not a recognized feature for this target (ignoring feature)\n",
      "'+ptx85' is not a recognized feature for this target (ignoring feature)\n",
      "'+ptx85' is not a recognized feature for this target (ignoring feature)\n",
      "'+ptx85' is not a recognized feature for this target (ignoring feature)\n",
      "'+ptx85' is not a recognized feature for this target (ignoring feature)\n",
      "'+ptx85' is not a recognized feature for this target (ignoring feature)\n",
      "'+ptx85' is not a recognized feature for this target (ignoring feature)\n",
      "'+ptx85' is not a recognized feature for this target (ignoring feature)\n",
      "'+ptx85' is not a recognized feature for this target (ignoring feature)\n",
      "'+ptx85' is not a recognized feature for this target (ignoring feature)\n",
      "'+ptx85' is not a recognized feature for this target (ignoring feature)\n",
      "'+ptx85' is not a recognized feature for this target (ignoring feature)\n",
      "'+ptx85' is not a recognized feature for this target (ignoring feature)\n",
      "'+ptx85' is not a recognized feature for this target (ignoring feature)\n",
      "'+ptx85' is not a recognized feature for this target (ignoring feature)\n",
      "'+ptx85' is not a recognized feature for this target (ignoring feature)\n",
      "'+ptx85' is not a recognized feature for this target (ignoring feature)\n",
      "'+ptx85' is not a recognized feature for this target (ignoring feature)\n",
      "'+ptx85' is not a recognized feature for this target (ignoring feature)\n",
      "'+ptx85' is not a recognized feature for this target (ignoring feature)\n",
      "'+ptx85' is not a recognized feature for this target (ignoring feature)\n",
      "'+ptx85' is not a recognized feature for this target (ignoring feature)\n",
      "'+ptx85' is not a recognized feature for this target (ignoring feature)\n",
      "'+ptx85' is not a recognized feature for this target (ignoring feature)\n"
     ]
    },
    {
     "name": "stdout",
     "output_type": "stream",
     "text": [
      "Run 25 with seed 2046 took 7.78 seconds\n"
     ]
    },
    {
     "data": {
      "application/vnd.jupyter.widget-view+json": {
       "model_id": "a57a71a742c1462883556ff46879dea2",
       "version_major": 2,
       "version_minor": 0
      },
      "text/plain": [
       "Executing:   0%|          | 0/24 [00:00<?, ?cell/s]"
      ]
     },
     "metadata": {},
     "output_type": "display_data"
    },
    {
     "name": "stderr",
     "output_type": "stream",
     "text": [
      "2024-06-25 14:53:44.375113: W external/xla/xla/service/gpu/nvptx_compiler.cc:760] The NVIDIA driver's CUDA version is 12.2 which is older than the ptxas CUDA version (12.5.40). Because the driver is older than the ptxas version, XLA is disabling parallel compilation, which may slow down compilation. You should update your NVIDIA driver or use the NVIDIA-provided CUDA forward compatibility packages.\n",
      "'+ptx85' is not a recognized feature for this target (ignoring feature)\n",
      "'+ptx85' is not a recognized feature for this target (ignoring feature)\n",
      "'+ptx85' is not a recognized feature for this target (ignoring feature)\n",
      "'+ptx85' is not a recognized feature for this target (ignoring feature)\n",
      "'+ptx85' is not a recognized feature for this target (ignoring feature)\n",
      "'+ptx85' is not a recognized feature for this target (ignoring feature)\n",
      "'+ptx85' is not a recognized feature for this target (ignoring feature)\n",
      "'+ptx85' is not a recognized feature for this target (ignoring feature)\n",
      "'+ptx85' is not a recognized feature for this target (ignoring feature)\n",
      "'+ptx85' is not a recognized feature for this target (ignoring feature)\n",
      "'+ptx85' is not a recognized feature for this target (ignoring feature)\n",
      "'+ptx85' is not a recognized feature for this target (ignoring feature)\n",
      "'+ptx85' is not a recognized feature for this target (ignoring feature)\n",
      "'+ptx85' is not a recognized feature for this target (ignoring feature)\n",
      "'+ptx85' is not a recognized feature for this target (ignoring feature)\n",
      "'+ptx85' is not a recognized feature for this target (ignoring feature)\n",
      "'+ptx85' is not a recognized feature for this target (ignoring feature)\n",
      "'+ptx85' is not a recognized feature for this target (ignoring feature)\n",
      "'+ptx85' is not a recognized feature for this target (ignoring feature)\n",
      "'+ptx85' is not a recognized feature for this target (ignoring feature)\n",
      "'+ptx85' is not a recognized feature for this target (ignoring feature)\n",
      "'+ptx85' is not a recognized feature for this target (ignoring feature)\n",
      "'+ptx85' is not a recognized feature for this target (ignoring feature)\n",
      "'+ptx85' is not a recognized feature for this target (ignoring feature)\n",
      "'+ptx85' is not a recognized feature for this target (ignoring feature)\n",
      "'+ptx85' is not a recognized feature for this target (ignoring feature)\n",
      "'+ptx85' is not a recognized feature for this target (ignoring feature)\n",
      "'+ptx85' is not a recognized feature for this target (ignoring feature)\n",
      "'+ptx85' is not a recognized feature for this target (ignoring feature)\n",
      "'+ptx85' is not a recognized feature for this target (ignoring feature)\n"
     ]
    },
    {
     "name": "stdout",
     "output_type": "stream",
     "text": [
      "Run 26 with seed 1871 took 7.62 seconds\n"
     ]
    },
    {
     "data": {
      "application/vnd.jupyter.widget-view+json": {
       "model_id": "daa1280a63624a9f834b9024958a8ebf",
       "version_major": 2,
       "version_minor": 0
      },
      "text/plain": [
       "Executing:   0%|          | 0/24 [00:00<?, ?cell/s]"
      ]
     },
     "metadata": {},
     "output_type": "display_data"
    },
    {
     "name": "stderr",
     "output_type": "stream",
     "text": [
      "2024-06-25 14:53:51.952535: W external/xla/xla/service/gpu/nvptx_compiler.cc:760] The NVIDIA driver's CUDA version is 12.2 which is older than the ptxas CUDA version (12.5.40). Because the driver is older than the ptxas version, XLA is disabling parallel compilation, which may slow down compilation. You should update your NVIDIA driver or use the NVIDIA-provided CUDA forward compatibility packages.\n",
      "'+ptx85' is not a recognized feature for this target (ignoring feature)\n",
      "'+ptx85' is not a recognized feature for this target (ignoring feature)\n",
      "'+ptx85' is not a recognized feature for this target (ignoring feature)\n",
      "'+ptx85' is not a recognized feature for this target (ignoring feature)\n",
      "'+ptx85' is not a recognized feature for this target (ignoring feature)\n",
      "'+ptx85' is not a recognized feature for this target (ignoring feature)\n",
      "'+ptx85' is not a recognized feature for this target (ignoring feature)\n",
      "'+ptx85' is not a recognized feature for this target (ignoring feature)\n",
      "'+ptx85' is not a recognized feature for this target (ignoring feature)\n",
      "'+ptx85' is not a recognized feature for this target (ignoring feature)\n",
      "'+ptx85' is not a recognized feature for this target (ignoring feature)\n",
      "'+ptx85' is not a recognized feature for this target (ignoring feature)\n",
      "'+ptx85' is not a recognized feature for this target (ignoring feature)\n",
      "'+ptx85' is not a recognized feature for this target (ignoring feature)\n",
      "'+ptx85' is not a recognized feature for this target (ignoring feature)\n",
      "'+ptx85' is not a recognized feature for this target (ignoring feature)\n",
      "'+ptx85' is not a recognized feature for this target (ignoring feature)\n",
      "'+ptx85' is not a recognized feature for this target (ignoring feature)\n",
      "'+ptx85' is not a recognized feature for this target (ignoring feature)\n",
      "'+ptx85' is not a recognized feature for this target (ignoring feature)\n",
      "'+ptx85' is not a recognized feature for this target (ignoring feature)\n",
      "'+ptx85' is not a recognized feature for this target (ignoring feature)\n",
      "'+ptx85' is not a recognized feature for this target (ignoring feature)\n",
      "'+ptx85' is not a recognized feature for this target (ignoring feature)\n",
      "'+ptx85' is not a recognized feature for this target (ignoring feature)\n",
      "'+ptx85' is not a recognized feature for this target (ignoring feature)\n",
      "'+ptx85' is not a recognized feature for this target (ignoring feature)\n",
      "'+ptx85' is not a recognized feature for this target (ignoring feature)\n",
      "'+ptx85' is not a recognized feature for this target (ignoring feature)\n",
      "'+ptx85' is not a recognized feature for this target (ignoring feature)\n"
     ]
    },
    {
     "name": "stdout",
     "output_type": "stream",
     "text": [
      "Run 27 with seed 7599 took 7.71 seconds\n"
     ]
    },
    {
     "data": {
      "application/vnd.jupyter.widget-view+json": {
       "model_id": "0e295cc47425441999ee57601ef8057e",
       "version_major": 2,
       "version_minor": 0
      },
      "text/plain": [
       "Executing:   0%|          | 0/24 [00:00<?, ?cell/s]"
      ]
     },
     "metadata": {},
     "output_type": "display_data"
    },
    {
     "name": "stderr",
     "output_type": "stream",
     "text": [
      "2024-06-25 14:53:59.875728: W external/xla/xla/service/gpu/nvptx_compiler.cc:760] The NVIDIA driver's CUDA version is 12.2 which is older than the ptxas CUDA version (12.5.40). Because the driver is older than the ptxas version, XLA is disabling parallel compilation, which may slow down compilation. You should update your NVIDIA driver or use the NVIDIA-provided CUDA forward compatibility packages.\n",
      "'+ptx85' is not a recognized feature for this target (ignoring feature)\n",
      "'+ptx85' is not a recognized feature for this target (ignoring feature)\n",
      "'+ptx85' is not a recognized feature for this target (ignoring feature)\n",
      "'+ptx85' is not a recognized feature for this target (ignoring feature)\n",
      "'+ptx85' is not a recognized feature for this target (ignoring feature)\n",
      "'+ptx85' is not a recognized feature for this target (ignoring feature)\n",
      "'+ptx85' is not a recognized feature for this target (ignoring feature)\n",
      "'+ptx85' is not a recognized feature for this target (ignoring feature)\n",
      "'+ptx85' is not a recognized feature for this target (ignoring feature)\n",
      "'+ptx85' is not a recognized feature for this target (ignoring feature)\n",
      "'+ptx85' is not a recognized feature for this target (ignoring feature)\n",
      "'+ptx85' is not a recognized feature for this target (ignoring feature)\n",
      "'+ptx85' is not a recognized feature for this target (ignoring feature)\n",
      "'+ptx85' is not a recognized feature for this target (ignoring feature)\n",
      "'+ptx85' is not a recognized feature for this target (ignoring feature)\n",
      "'+ptx85' is not a recognized feature for this target (ignoring feature)\n",
      "'+ptx85' is not a recognized feature for this target (ignoring feature)\n",
      "'+ptx85' is not a recognized feature for this target (ignoring feature)\n",
      "'+ptx85' is not a recognized feature for this target (ignoring feature)\n",
      "'+ptx85' is not a recognized feature for this target (ignoring feature)\n",
      "'+ptx85' is not a recognized feature for this target (ignoring feature)\n",
      "'+ptx85' is not a recognized feature for this target (ignoring feature)\n",
      "'+ptx85' is not a recognized feature for this target (ignoring feature)\n",
      "'+ptx85' is not a recognized feature for this target (ignoring feature)\n",
      "'+ptx85' is not a recognized feature for this target (ignoring feature)\n",
      "'+ptx85' is not a recognized feature for this target (ignoring feature)\n",
      "'+ptx85' is not a recognized feature for this target (ignoring feature)\n",
      "'+ptx85' is not a recognized feature for this target (ignoring feature)\n",
      "'+ptx85' is not a recognized feature for this target (ignoring feature)\n",
      "'+ptx85' is not a recognized feature for this target (ignoring feature)\n"
     ]
    },
    {
     "name": "stdout",
     "output_type": "stream",
     "text": [
      "Run 28 with seed 2496 took 7.80 seconds\n"
     ]
    },
    {
     "data": {
      "application/vnd.jupyter.widget-view+json": {
       "model_id": "a530ad0e30e948b4a7564b83c9ebc162",
       "version_major": 2,
       "version_minor": 0
      },
      "text/plain": [
       "Executing:   0%|          | 0/24 [00:00<?, ?cell/s]"
      ]
     },
     "metadata": {},
     "output_type": "display_data"
    },
    {
     "name": "stderr",
     "output_type": "stream",
     "text": [
      "2024-06-25 14:54:07.700485: W external/xla/xla/service/gpu/nvptx_compiler.cc:760] The NVIDIA driver's CUDA version is 12.2 which is older than the ptxas CUDA version (12.5.40). Because the driver is older than the ptxas version, XLA is disabling parallel compilation, which may slow down compilation. You should update your NVIDIA driver or use the NVIDIA-provided CUDA forward compatibility packages.\n",
      "'+ptx85' is not a recognized feature for this target (ignoring feature)\n",
      "'+ptx85' is not a recognized feature for this target (ignoring feature)\n",
      "'+ptx85' is not a recognized feature for this target (ignoring feature)\n",
      "'+ptx85' is not a recognized feature for this target (ignoring feature)\n",
      "'+ptx85' is not a recognized feature for this target (ignoring feature)\n",
      "'+ptx85' is not a recognized feature for this target (ignoring feature)\n",
      "'+ptx85' is not a recognized feature for this target (ignoring feature)\n",
      "'+ptx85' is not a recognized feature for this target (ignoring feature)\n",
      "'+ptx85' is not a recognized feature for this target (ignoring feature)\n",
      "'+ptx85' is not a recognized feature for this target (ignoring feature)\n",
      "'+ptx85' is not a recognized feature for this target (ignoring feature)\n",
      "'+ptx85' is not a recognized feature for this target (ignoring feature)\n",
      "'+ptx85' is not a recognized feature for this target (ignoring feature)\n",
      "'+ptx85' is not a recognized feature for this target (ignoring feature)\n",
      "'+ptx85' is not a recognized feature for this target (ignoring feature)\n",
      "'+ptx85' is not a recognized feature for this target (ignoring feature)\n",
      "'+ptx85' is not a recognized feature for this target (ignoring feature)\n",
      "'+ptx85' is not a recognized feature for this target (ignoring feature)\n",
      "'+ptx85' is not a recognized feature for this target (ignoring feature)\n",
      "'+ptx85' is not a recognized feature for this target (ignoring feature)\n",
      "'+ptx85' is not a recognized feature for this target (ignoring feature)\n",
      "'+ptx85' is not a recognized feature for this target (ignoring feature)\n",
      "'+ptx85' is not a recognized feature for this target (ignoring feature)\n",
      "'+ptx85' is not a recognized feature for this target (ignoring feature)\n",
      "'+ptx85' is not a recognized feature for this target (ignoring feature)\n",
      "'+ptx85' is not a recognized feature for this target (ignoring feature)\n",
      "'+ptx85' is not a recognized feature for this target (ignoring feature)\n",
      "'+ptx85' is not a recognized feature for this target (ignoring feature)\n",
      "'+ptx85' is not a recognized feature for this target (ignoring feature)\n",
      "'+ptx85' is not a recognized feature for this target (ignoring feature)\n"
     ]
    },
    {
     "name": "stdout",
     "output_type": "stream",
     "text": [
      "Run 29 with seed 8291 took 7.96 seconds\n"
     ]
    },
    {
     "data": {
      "application/vnd.jupyter.widget-view+json": {
       "model_id": "19863f6b6b2043f7889655e8fa3a4b2f",
       "version_major": 2,
       "version_minor": 0
      },
      "text/plain": [
       "Executing:   0%|          | 0/24 [00:00<?, ?cell/s]"
      ]
     },
     "metadata": {},
     "output_type": "display_data"
    },
    {
     "name": "stderr",
     "output_type": "stream",
     "text": [
      "2024-06-25 14:54:15.526709: W external/xla/xla/service/gpu/nvptx_compiler.cc:760] The NVIDIA driver's CUDA version is 12.2 which is older than the ptxas CUDA version (12.5.40). Because the driver is older than the ptxas version, XLA is disabling parallel compilation, which may slow down compilation. You should update your NVIDIA driver or use the NVIDIA-provided CUDA forward compatibility packages.\n",
      "'+ptx85' is not a recognized feature for this target (ignoring feature)\n",
      "'+ptx85' is not a recognized feature for this target (ignoring feature)\n",
      "'+ptx85' is not a recognized feature for this target (ignoring feature)\n",
      "'+ptx85' is not a recognized feature for this target (ignoring feature)\n",
      "'+ptx85' is not a recognized feature for this target (ignoring feature)\n",
      "'+ptx85' is not a recognized feature for this target (ignoring feature)\n",
      "'+ptx85' is not a recognized feature for this target (ignoring feature)\n",
      "'+ptx85' is not a recognized feature for this target (ignoring feature)\n",
      "'+ptx85' is not a recognized feature for this target (ignoring feature)\n",
      "'+ptx85' is not a recognized feature for this target (ignoring feature)\n",
      "'+ptx85' is not a recognized feature for this target (ignoring feature)\n",
      "'+ptx85' is not a recognized feature for this target (ignoring feature)\n",
      "'+ptx85' is not a recognized feature for this target (ignoring feature)\n",
      "'+ptx85' is not a recognized feature for this target (ignoring feature)\n",
      "'+ptx85' is not a recognized feature for this target (ignoring feature)\n",
      "'+ptx85' is not a recognized feature for this target (ignoring feature)\n",
      "'+ptx85' is not a recognized feature for this target (ignoring feature)\n",
      "'+ptx85' is not a recognized feature for this target (ignoring feature)\n",
      "'+ptx85' is not a recognized feature for this target (ignoring feature)\n",
      "'+ptx85' is not a recognized feature for this target (ignoring feature)\n",
      "'+ptx85' is not a recognized feature for this target (ignoring feature)\n",
      "'+ptx85' is not a recognized feature for this target (ignoring feature)\n",
      "'+ptx85' is not a recognized feature for this target (ignoring feature)\n",
      "'+ptx85' is not a recognized feature for this target (ignoring feature)\n",
      "'+ptx85' is not a recognized feature for this target (ignoring feature)\n",
      "'+ptx85' is not a recognized feature for this target (ignoring feature)\n",
      "'+ptx85' is not a recognized feature for this target (ignoring feature)\n",
      "'+ptx85' is not a recognized feature for this target (ignoring feature)\n",
      "'+ptx85' is not a recognized feature for this target (ignoring feature)\n",
      "'+ptx85' is not a recognized feature for this target (ignoring feature)\n"
     ]
    },
    {
     "name": "stdout",
     "output_type": "stream",
     "text": [
      "Run 30 with seed 755 took 7.82 seconds\n"
     ]
    },
    {
     "data": {
      "application/vnd.jupyter.widget-view+json": {
       "model_id": "67a03b4a472c4539a7ce4f26f364e020",
       "version_major": 2,
       "version_minor": 0
      },
      "text/plain": [
       "Executing:   0%|          | 0/24 [00:00<?, ?cell/s]"
      ]
     },
     "metadata": {},
     "output_type": "display_data"
    },
    {
     "name": "stderr",
     "output_type": "stream",
     "text": [
      "2024-06-25 14:54:23.370102: W external/xla/xla/service/gpu/nvptx_compiler.cc:760] The NVIDIA driver's CUDA version is 12.2 which is older than the ptxas CUDA version (12.5.40). Because the driver is older than the ptxas version, XLA is disabling parallel compilation, which may slow down compilation. You should update your NVIDIA driver or use the NVIDIA-provided CUDA forward compatibility packages.\n",
      "'+ptx85' is not a recognized feature for this target (ignoring feature)\n",
      "'+ptx85' is not a recognized feature for this target (ignoring feature)\n",
      "'+ptx85' is not a recognized feature for this target (ignoring feature)\n",
      "'+ptx85' is not a recognized feature for this target (ignoring feature)\n",
      "'+ptx85' is not a recognized feature for this target (ignoring feature)\n",
      "'+ptx85' is not a recognized feature for this target (ignoring feature)\n",
      "'+ptx85' is not a recognized feature for this target (ignoring feature)\n",
      "'+ptx85' is not a recognized feature for this target (ignoring feature)\n",
      "'+ptx85' is not a recognized feature for this target (ignoring feature)\n",
      "'+ptx85' is not a recognized feature for this target (ignoring feature)\n",
      "'+ptx85' is not a recognized feature for this target (ignoring feature)\n",
      "'+ptx85' is not a recognized feature for this target (ignoring feature)\n",
      "'+ptx85' is not a recognized feature for this target (ignoring feature)\n",
      "'+ptx85' is not a recognized feature for this target (ignoring feature)\n",
      "'+ptx85' is not a recognized feature for this target (ignoring feature)\n",
      "'+ptx85' is not a recognized feature for this target (ignoring feature)\n",
      "'+ptx85' is not a recognized feature for this target (ignoring feature)\n",
      "'+ptx85' is not a recognized feature for this target (ignoring feature)\n",
      "'+ptx85' is not a recognized feature for this target (ignoring feature)\n",
      "'+ptx85' is not a recognized feature for this target (ignoring feature)\n",
      "'+ptx85' is not a recognized feature for this target (ignoring feature)\n",
      "'+ptx85' is not a recognized feature for this target (ignoring feature)\n",
      "'+ptx85' is not a recognized feature for this target (ignoring feature)\n",
      "'+ptx85' is not a recognized feature for this target (ignoring feature)\n",
      "'+ptx85' is not a recognized feature for this target (ignoring feature)\n",
      "'+ptx85' is not a recognized feature for this target (ignoring feature)\n",
      "'+ptx85' is not a recognized feature for this target (ignoring feature)\n",
      "'+ptx85' is not a recognized feature for this target (ignoring feature)\n",
      "'+ptx85' is not a recognized feature for this target (ignoring feature)\n",
      "'+ptx85' is not a recognized feature for this target (ignoring feature)\n"
     ]
    },
    {
     "name": "stdout",
     "output_type": "stream",
     "text": [
      "Run 31 with seed 797 took 7.90 seconds\n"
     ]
    },
    {
     "data": {
      "application/vnd.jupyter.widget-view+json": {
       "model_id": "a6aec80fc0c34be586c494a06ec85e29",
       "version_major": 2,
       "version_minor": 0
      },
      "text/plain": [
       "Executing:   0%|          | 0/24 [00:00<?, ?cell/s]"
      ]
     },
     "metadata": {},
     "output_type": "display_data"
    },
    {
     "name": "stderr",
     "output_type": "stream",
     "text": [
      "2024-06-25 14:54:31.365613: W external/xla/xla/service/gpu/nvptx_compiler.cc:760] The NVIDIA driver's CUDA version is 12.2 which is older than the ptxas CUDA version (12.5.40). Because the driver is older than the ptxas version, XLA is disabling parallel compilation, which may slow down compilation. You should update your NVIDIA driver or use the NVIDIA-provided CUDA forward compatibility packages.\n",
      "'+ptx85' is not a recognized feature for this target (ignoring feature)\n",
      "'+ptx85' is not a recognized feature for this target (ignoring feature)\n",
      "'+ptx85' is not a recognized feature for this target (ignoring feature)\n",
      "'+ptx85' is not a recognized feature for this target (ignoring feature)\n",
      "'+ptx85' is not a recognized feature for this target (ignoring feature)\n",
      "'+ptx85' is not a recognized feature for this target (ignoring feature)\n",
      "'+ptx85' is not a recognized feature for this target (ignoring feature)\n",
      "'+ptx85' is not a recognized feature for this target (ignoring feature)\n",
      "'+ptx85' is not a recognized feature for this target (ignoring feature)\n",
      "'+ptx85' is not a recognized feature for this target (ignoring feature)\n",
      "'+ptx85' is not a recognized feature for this target (ignoring feature)\n",
      "'+ptx85' is not a recognized feature for this target (ignoring feature)\n",
      "'+ptx85' is not a recognized feature for this target (ignoring feature)\n",
      "'+ptx85' is not a recognized feature for this target (ignoring feature)\n",
      "'+ptx85' is not a recognized feature for this target (ignoring feature)\n",
      "'+ptx85' is not a recognized feature for this target (ignoring feature)\n",
      "'+ptx85' is not a recognized feature for this target (ignoring feature)\n",
      "'+ptx85' is not a recognized feature for this target (ignoring feature)\n",
      "'+ptx85' is not a recognized feature for this target (ignoring feature)\n",
      "'+ptx85' is not a recognized feature for this target (ignoring feature)\n",
      "'+ptx85' is not a recognized feature for this target (ignoring feature)\n",
      "'+ptx85' is not a recognized feature for this target (ignoring feature)\n",
      "'+ptx85' is not a recognized feature for this target (ignoring feature)\n",
      "'+ptx85' is not a recognized feature for this target (ignoring feature)\n",
      "'+ptx85' is not a recognized feature for this target (ignoring feature)\n",
      "'+ptx85' is not a recognized feature for this target (ignoring feature)\n",
      "'+ptx85' is not a recognized feature for this target (ignoring feature)\n",
      "'+ptx85' is not a recognized feature for this target (ignoring feature)\n",
      "'+ptx85' is not a recognized feature for this target (ignoring feature)\n",
      "'+ptx85' is not a recognized feature for this target (ignoring feature)\n"
     ]
    },
    {
     "name": "stdout",
     "output_type": "stream",
     "text": [
      "Run 32 with seed 659 took 7.94 seconds\n"
     ]
    },
    {
     "data": {
      "application/vnd.jupyter.widget-view+json": {
       "model_id": "d4f90e42f2314d0e8fdb542cd51301c4",
       "version_major": 2,
       "version_minor": 0
      },
      "text/plain": [
       "Executing:   0%|          | 0/24 [00:00<?, ?cell/s]"
      ]
     },
     "metadata": {},
     "output_type": "display_data"
    },
    {
     "name": "stderr",
     "output_type": "stream",
     "text": [
      "2024-06-25 14:54:39.292649: W external/xla/xla/service/gpu/nvptx_compiler.cc:760] The NVIDIA driver's CUDA version is 12.2 which is older than the ptxas CUDA version (12.5.40). Because the driver is older than the ptxas version, XLA is disabling parallel compilation, which may slow down compilation. You should update your NVIDIA driver or use the NVIDIA-provided CUDA forward compatibility packages.\n",
      "'+ptx85' is not a recognized feature for this target (ignoring feature)\n",
      "'+ptx85' is not a recognized feature for this target (ignoring feature)\n",
      "'+ptx85' is not a recognized feature for this target (ignoring feature)\n",
      "'+ptx85' is not a recognized feature for this target (ignoring feature)\n",
      "'+ptx85' is not a recognized feature for this target (ignoring feature)\n",
      "'+ptx85' is not a recognized feature for this target (ignoring feature)\n",
      "'+ptx85' is not a recognized feature for this target (ignoring feature)\n",
      "'+ptx85' is not a recognized feature for this target (ignoring feature)\n",
      "'+ptx85' is not a recognized feature for this target (ignoring feature)\n",
      "'+ptx85' is not a recognized feature for this target (ignoring feature)\n",
      "'+ptx85' is not a recognized feature for this target (ignoring feature)\n",
      "'+ptx85' is not a recognized feature for this target (ignoring feature)\n",
      "'+ptx85' is not a recognized feature for this target (ignoring feature)\n",
      "'+ptx85' is not a recognized feature for this target (ignoring feature)\n",
      "'+ptx85' is not a recognized feature for this target (ignoring feature)\n",
      "'+ptx85' is not a recognized feature for this target (ignoring feature)\n",
      "'+ptx85' is not a recognized feature for this target (ignoring feature)\n",
      "'+ptx85' is not a recognized feature for this target (ignoring feature)\n",
      "'+ptx85' is not a recognized feature for this target (ignoring feature)\n",
      "'+ptx85' is not a recognized feature for this target (ignoring feature)\n",
      "'+ptx85' is not a recognized feature for this target (ignoring feature)\n",
      "'+ptx85' is not a recognized feature for this target (ignoring feature)\n",
      "'+ptx85' is not a recognized feature for this target (ignoring feature)\n",
      "'+ptx85' is not a recognized feature for this target (ignoring feature)\n",
      "'+ptx85' is not a recognized feature for this target (ignoring feature)\n",
      "'+ptx85' is not a recognized feature for this target (ignoring feature)\n",
      "'+ptx85' is not a recognized feature for this target (ignoring feature)\n",
      "'+ptx85' is not a recognized feature for this target (ignoring feature)\n",
      "'+ptx85' is not a recognized feature for this target (ignoring feature)\n",
      "'+ptx85' is not a recognized feature for this target (ignoring feature)\n"
     ]
    },
    {
     "name": "stdout",
     "output_type": "stream",
     "text": [
      "Run 33 with seed 3219 took 7.93 seconds\n"
     ]
    },
    {
     "data": {
      "application/vnd.jupyter.widget-view+json": {
       "model_id": "b683d3ec04a04395a29d64880764c069",
       "version_major": 2,
       "version_minor": 0
      },
      "text/plain": [
       "Executing:   0%|          | 0/24 [00:00<?, ?cell/s]"
      ]
     },
     "metadata": {},
     "output_type": "display_data"
    },
    {
     "name": "stderr",
     "output_type": "stream",
     "text": [
      "2024-06-25 14:54:47.237050: W external/xla/xla/service/gpu/nvptx_compiler.cc:760] The NVIDIA driver's CUDA version is 12.2 which is older than the ptxas CUDA version (12.5.40). Because the driver is older than the ptxas version, XLA is disabling parallel compilation, which may slow down compilation. You should update your NVIDIA driver or use the NVIDIA-provided CUDA forward compatibility packages.\n",
      "'+ptx85' is not a recognized feature for this target (ignoring feature)\n",
      "'+ptx85' is not a recognized feature for this target (ignoring feature)\n",
      "'+ptx85' is not a recognized feature for this target (ignoring feature)\n",
      "'+ptx85' is not a recognized feature for this target (ignoring feature)\n",
      "'+ptx85' is not a recognized feature for this target (ignoring feature)\n",
      "'+ptx85' is not a recognized feature for this target (ignoring feature)\n",
      "'+ptx85' is not a recognized feature for this target (ignoring feature)\n",
      "'+ptx85' is not a recognized feature for this target (ignoring feature)\n",
      "'+ptx85' is not a recognized feature for this target (ignoring feature)\n",
      "'+ptx85' is not a recognized feature for this target (ignoring feature)\n",
      "'+ptx85' is not a recognized feature for this target (ignoring feature)\n",
      "'+ptx85' is not a recognized feature for this target (ignoring feature)\n",
      "'+ptx85' is not a recognized feature for this target (ignoring feature)\n",
      "'+ptx85' is not a recognized feature for this target (ignoring feature)\n",
      "'+ptx85' is not a recognized feature for this target (ignoring feature)\n",
      "'+ptx85' is not a recognized feature for this target (ignoring feature)\n",
      "'+ptx85' is not a recognized feature for this target (ignoring feature)\n",
      "'+ptx85' is not a recognized feature for this target (ignoring feature)\n",
      "'+ptx85' is not a recognized feature for this target (ignoring feature)\n",
      "'+ptx85' is not a recognized feature for this target (ignoring feature)\n",
      "'+ptx85' is not a recognized feature for this target (ignoring feature)\n",
      "'+ptx85' is not a recognized feature for this target (ignoring feature)\n",
      "'+ptx85' is not a recognized feature for this target (ignoring feature)\n",
      "'+ptx85' is not a recognized feature for this target (ignoring feature)\n",
      "'+ptx85' is not a recognized feature for this target (ignoring feature)\n",
      "'+ptx85' is not a recognized feature for this target (ignoring feature)\n",
      "'+ptx85' is not a recognized feature for this target (ignoring feature)\n",
      "'+ptx85' is not a recognized feature for this target (ignoring feature)\n",
      "'+ptx85' is not a recognized feature for this target (ignoring feature)\n",
      "'+ptx85' is not a recognized feature for this target (ignoring feature)\n"
     ]
    },
    {
     "name": "stdout",
     "output_type": "stream",
     "text": [
      "Run 34 with seed 8615 took 7.82 seconds\n"
     ]
    },
    {
     "data": {
      "application/vnd.jupyter.widget-view+json": {
       "model_id": "986a957ba2a34ee7b726e0794f2a388e",
       "version_major": 2,
       "version_minor": 0
      },
      "text/plain": [
       "Executing:   0%|          | 0/24 [00:00<?, ?cell/s]"
      ]
     },
     "metadata": {},
     "output_type": "display_data"
    },
    {
     "name": "stderr",
     "output_type": "stream",
     "text": [
      "2024-06-25 14:54:54.898504: W external/xla/xla/service/gpu/nvptx_compiler.cc:760] The NVIDIA driver's CUDA version is 12.2 which is older than the ptxas CUDA version (12.5.40). Because the driver is older than the ptxas version, XLA is disabling parallel compilation, which may slow down compilation. You should update your NVIDIA driver or use the NVIDIA-provided CUDA forward compatibility packages.\n",
      "'+ptx85' is not a recognized feature for this target (ignoring feature)\n",
      "'+ptx85' is not a recognized feature for this target (ignoring feature)\n",
      "'+ptx85' is not a recognized feature for this target (ignoring feature)\n",
      "'+ptx85' is not a recognized feature for this target (ignoring feature)\n",
      "'+ptx85' is not a recognized feature for this target (ignoring feature)\n",
      "'+ptx85' is not a recognized feature for this target (ignoring feature)\n",
      "'+ptx85' is not a recognized feature for this target (ignoring feature)\n",
      "'+ptx85' is not a recognized feature for this target (ignoring feature)\n",
      "'+ptx85' is not a recognized feature for this target (ignoring feature)\n",
      "'+ptx85' is not a recognized feature for this target (ignoring feature)\n",
      "'+ptx85' is not a recognized feature for this target (ignoring feature)\n",
      "'+ptx85' is not a recognized feature for this target (ignoring feature)\n",
      "'+ptx85' is not a recognized feature for this target (ignoring feature)\n",
      "'+ptx85' is not a recognized feature for this target (ignoring feature)\n",
      "'+ptx85' is not a recognized feature for this target (ignoring feature)\n",
      "'+ptx85' is not a recognized feature for this target (ignoring feature)\n",
      "'+ptx85' is not a recognized feature for this target (ignoring feature)\n",
      "'+ptx85' is not a recognized feature for this target (ignoring feature)\n",
      "'+ptx85' is not a recognized feature for this target (ignoring feature)\n",
      "'+ptx85' is not a recognized feature for this target (ignoring feature)\n",
      "'+ptx85' is not a recognized feature for this target (ignoring feature)\n",
      "'+ptx85' is not a recognized feature for this target (ignoring feature)\n",
      "'+ptx85' is not a recognized feature for this target (ignoring feature)\n",
      "'+ptx85' is not a recognized feature for this target (ignoring feature)\n",
      "'+ptx85' is not a recognized feature for this target (ignoring feature)\n",
      "'+ptx85' is not a recognized feature for this target (ignoring feature)\n",
      "'+ptx85' is not a recognized feature for this target (ignoring feature)\n",
      "'+ptx85' is not a recognized feature for this target (ignoring feature)\n",
      "'+ptx85' is not a recognized feature for this target (ignoring feature)\n",
      "'+ptx85' is not a recognized feature for this target (ignoring feature)\n"
     ]
    },
    {
     "name": "stdout",
     "output_type": "stream",
     "text": [
      "Run 35 with seed 7456 took 7.80 seconds\n"
     ]
    },
    {
     "data": {
      "application/vnd.jupyter.widget-view+json": {
       "model_id": "c704630ee45842229a8e86f1184c3b9a",
       "version_major": 2,
       "version_minor": 0
      },
      "text/plain": [
       "Executing:   0%|          | 0/24 [00:00<?, ?cell/s]"
      ]
     },
     "metadata": {},
     "output_type": "display_data"
    },
    {
     "name": "stderr",
     "output_type": "stream",
     "text": [
      "2024-06-25 14:55:02.902404: W external/xla/xla/service/gpu/nvptx_compiler.cc:760] The NVIDIA driver's CUDA version is 12.2 which is older than the ptxas CUDA version (12.5.40). Because the driver is older than the ptxas version, XLA is disabling parallel compilation, which may slow down compilation. You should update your NVIDIA driver or use the NVIDIA-provided CUDA forward compatibility packages.\n",
      "'+ptx85' is not a recognized feature for this target (ignoring feature)\n",
      "'+ptx85' is not a recognized feature for this target (ignoring feature)\n",
      "'+ptx85' is not a recognized feature for this target (ignoring feature)\n",
      "'+ptx85' is not a recognized feature for this target (ignoring feature)\n",
      "'+ptx85' is not a recognized feature for this target (ignoring feature)\n",
      "'+ptx85' is not a recognized feature for this target (ignoring feature)\n",
      "'+ptx85' is not a recognized feature for this target (ignoring feature)\n",
      "'+ptx85' is not a recognized feature for this target (ignoring feature)\n",
      "'+ptx85' is not a recognized feature for this target (ignoring feature)\n",
      "'+ptx85' is not a recognized feature for this target (ignoring feature)\n",
      "'+ptx85' is not a recognized feature for this target (ignoring feature)\n",
      "'+ptx85' is not a recognized feature for this target (ignoring feature)\n",
      "'+ptx85' is not a recognized feature for this target (ignoring feature)\n",
      "'+ptx85' is not a recognized feature for this target (ignoring feature)\n",
      "'+ptx85' is not a recognized feature for this target (ignoring feature)\n",
      "'+ptx85' is not a recognized feature for this target (ignoring feature)\n",
      "'+ptx85' is not a recognized feature for this target (ignoring feature)\n",
      "'+ptx85' is not a recognized feature for this target (ignoring feature)\n",
      "'+ptx85' is not a recognized feature for this target (ignoring feature)\n",
      "'+ptx85' is not a recognized feature for this target (ignoring feature)\n",
      "'+ptx85' is not a recognized feature for this target (ignoring feature)\n",
      "'+ptx85' is not a recognized feature for this target (ignoring feature)\n",
      "'+ptx85' is not a recognized feature for this target (ignoring feature)\n",
      "'+ptx85' is not a recognized feature for this target (ignoring feature)\n",
      "'+ptx85' is not a recognized feature for this target (ignoring feature)\n",
      "'+ptx85' is not a recognized feature for this target (ignoring feature)\n",
      "'+ptx85' is not a recognized feature for this target (ignoring feature)\n",
      "'+ptx85' is not a recognized feature for this target (ignoring feature)\n",
      "'+ptx85' is not a recognized feature for this target (ignoring feature)\n",
      "'+ptx85' is not a recognized feature for this target (ignoring feature)\n"
     ]
    },
    {
     "name": "stdout",
     "output_type": "stream",
     "text": [
      "Run 36 with seed 3337 took 7.86 seconds\n"
     ]
    },
    {
     "data": {
      "application/vnd.jupyter.widget-view+json": {
       "model_id": "edcb4818440a4e65937e755abc5a21b8",
       "version_major": 2,
       "version_minor": 0
      },
      "text/plain": [
       "Executing:   0%|          | 0/24 [00:00<?, ?cell/s]"
      ]
     },
     "metadata": {},
     "output_type": "display_data"
    },
    {
     "name": "stderr",
     "output_type": "stream",
     "text": [
      "2024-06-25 14:55:10.514518: W external/xla/xla/service/gpu/nvptx_compiler.cc:760] The NVIDIA driver's CUDA version is 12.2 which is older than the ptxas CUDA version (12.5.40). Because the driver is older than the ptxas version, XLA is disabling parallel compilation, which may slow down compilation. You should update your NVIDIA driver or use the NVIDIA-provided CUDA forward compatibility packages.\n",
      "'+ptx85' is not a recognized feature for this target (ignoring feature)\n",
      "'+ptx85' is not a recognized feature for this target (ignoring feature)\n",
      "'+ptx85' is not a recognized feature for this target (ignoring feature)\n",
      "'+ptx85' is not a recognized feature for this target (ignoring feature)\n",
      "'+ptx85' is not a recognized feature for this target (ignoring feature)\n",
      "'+ptx85' is not a recognized feature for this target (ignoring feature)\n",
      "'+ptx85' is not a recognized feature for this target (ignoring feature)\n",
      "'+ptx85' is not a recognized feature for this target (ignoring feature)\n",
      "'+ptx85' is not a recognized feature for this target (ignoring feature)\n",
      "'+ptx85' is not a recognized feature for this target (ignoring feature)\n",
      "'+ptx85' is not a recognized feature for this target (ignoring feature)\n",
      "'+ptx85' is not a recognized feature for this target (ignoring feature)\n",
      "'+ptx85' is not a recognized feature for this target (ignoring feature)\n",
      "'+ptx85' is not a recognized feature for this target (ignoring feature)\n",
      "'+ptx85' is not a recognized feature for this target (ignoring feature)\n",
      "'+ptx85' is not a recognized feature for this target (ignoring feature)\n",
      "'+ptx85' is not a recognized feature for this target (ignoring feature)\n",
      "'+ptx85' is not a recognized feature for this target (ignoring feature)\n",
      "'+ptx85' is not a recognized feature for this target (ignoring feature)\n",
      "'+ptx85' is not a recognized feature for this target (ignoring feature)\n",
      "'+ptx85' is not a recognized feature for this target (ignoring feature)\n",
      "'+ptx85' is not a recognized feature for this target (ignoring feature)\n",
      "'+ptx85' is not a recognized feature for this target (ignoring feature)\n",
      "'+ptx85' is not a recognized feature for this target (ignoring feature)\n",
      "'+ptx85' is not a recognized feature for this target (ignoring feature)\n",
      "'+ptx85' is not a recognized feature for this target (ignoring feature)\n",
      "'+ptx85' is not a recognized feature for this target (ignoring feature)\n",
      "'+ptx85' is not a recognized feature for this target (ignoring feature)\n",
      "'+ptx85' is not a recognized feature for this target (ignoring feature)\n",
      "'+ptx85' is not a recognized feature for this target (ignoring feature)\n"
     ]
    },
    {
     "name": "stdout",
     "output_type": "stream",
     "text": [
      "Run 37 with seed 2745 took 7.66 seconds\n"
     ]
    },
    {
     "data": {
      "application/vnd.jupyter.widget-view+json": {
       "model_id": "dd09c63dabe648b18c257b103cf34784",
       "version_major": 2,
       "version_minor": 0
      },
      "text/plain": [
       "Executing:   0%|          | 0/24 [00:00<?, ?cell/s]"
      ]
     },
     "metadata": {},
     "output_type": "display_data"
    },
    {
     "name": "stderr",
     "output_type": "stream",
     "text": [
      "2024-06-25 14:55:18.267202: W external/xla/xla/service/gpu/nvptx_compiler.cc:760] The NVIDIA driver's CUDA version is 12.2 which is older than the ptxas CUDA version (12.5.40). Because the driver is older than the ptxas version, XLA is disabling parallel compilation, which may slow down compilation. You should update your NVIDIA driver or use the NVIDIA-provided CUDA forward compatibility packages.\n",
      "'+ptx85' is not a recognized feature for this target (ignoring feature)\n",
      "'+ptx85' is not a recognized feature for this target (ignoring feature)\n",
      "'+ptx85' is not a recognized feature for this target (ignoring feature)\n",
      "'+ptx85' is not a recognized feature for this target (ignoring feature)\n",
      "'+ptx85' is not a recognized feature for this target (ignoring feature)\n",
      "'+ptx85' is not a recognized feature for this target (ignoring feature)\n",
      "'+ptx85' is not a recognized feature for this target (ignoring feature)\n",
      "'+ptx85' is not a recognized feature for this target (ignoring feature)\n",
      "'+ptx85' is not a recognized feature for this target (ignoring feature)\n",
      "'+ptx85' is not a recognized feature for this target (ignoring feature)\n",
      "'+ptx85' is not a recognized feature for this target (ignoring feature)\n",
      "'+ptx85' is not a recognized feature for this target (ignoring feature)\n",
      "'+ptx85' is not a recognized feature for this target (ignoring feature)\n",
      "'+ptx85' is not a recognized feature for this target (ignoring feature)\n",
      "'+ptx85' is not a recognized feature for this target (ignoring feature)\n",
      "'+ptx85' is not a recognized feature for this target (ignoring feature)\n",
      "'+ptx85' is not a recognized feature for this target (ignoring feature)\n",
      "'+ptx85' is not a recognized feature for this target (ignoring feature)\n",
      "'+ptx85' is not a recognized feature for this target (ignoring feature)\n",
      "'+ptx85' is not a recognized feature for this target (ignoring feature)\n",
      "'+ptx85' is not a recognized feature for this target (ignoring feature)\n",
      "'+ptx85' is not a recognized feature for this target (ignoring feature)\n",
      "'+ptx85' is not a recognized feature for this target (ignoring feature)\n",
      "'+ptx85' is not a recognized feature for this target (ignoring feature)\n",
      "'+ptx85' is not a recognized feature for this target (ignoring feature)\n",
      "'+ptx85' is not a recognized feature for this target (ignoring feature)\n",
      "'+ptx85' is not a recognized feature for this target (ignoring feature)\n",
      "'+ptx85' is not a recognized feature for this target (ignoring feature)\n",
      "'+ptx85' is not a recognized feature for this target (ignoring feature)\n",
      "'+ptx85' is not a recognized feature for this target (ignoring feature)\n"
     ]
    },
    {
     "name": "stdout",
     "output_type": "stream",
     "text": [
      "Run 38 with seed 4735 took 7.84 seconds\n"
     ]
    },
    {
     "data": {
      "application/vnd.jupyter.widget-view+json": {
       "model_id": "a0b4b53d74864fc092ae82e09e0fc861",
       "version_major": 2,
       "version_minor": 0
      },
      "text/plain": [
       "Executing:   0%|          | 0/24 [00:00<?, ?cell/s]"
      ]
     },
     "metadata": {},
     "output_type": "display_data"
    },
    {
     "name": "stderr",
     "output_type": "stream",
     "text": [
      "2024-06-25 14:55:26.191657: W external/xla/xla/service/gpu/nvptx_compiler.cc:760] The NVIDIA driver's CUDA version is 12.2 which is older than the ptxas CUDA version (12.5.40). Because the driver is older than the ptxas version, XLA is disabling parallel compilation, which may slow down compilation. You should update your NVIDIA driver or use the NVIDIA-provided CUDA forward compatibility packages.\n",
      "'+ptx85' is not a recognized feature for this target (ignoring feature)\n",
      "'+ptx85' is not a recognized feature for this target (ignoring feature)\n",
      "'+ptx85' is not a recognized feature for this target (ignoring feature)\n",
      "'+ptx85' is not a recognized feature for this target (ignoring feature)\n",
      "'+ptx85' is not a recognized feature for this target (ignoring feature)\n",
      "'+ptx85' is not a recognized feature for this target (ignoring feature)\n",
      "'+ptx85' is not a recognized feature for this target (ignoring feature)\n",
      "'+ptx85' is not a recognized feature for this target (ignoring feature)\n",
      "'+ptx85' is not a recognized feature for this target (ignoring feature)\n",
      "'+ptx85' is not a recognized feature for this target (ignoring feature)\n",
      "'+ptx85' is not a recognized feature for this target (ignoring feature)\n",
      "'+ptx85' is not a recognized feature for this target (ignoring feature)\n",
      "'+ptx85' is not a recognized feature for this target (ignoring feature)\n",
      "'+ptx85' is not a recognized feature for this target (ignoring feature)\n",
      "'+ptx85' is not a recognized feature for this target (ignoring feature)\n",
      "'+ptx85' is not a recognized feature for this target (ignoring feature)\n",
      "'+ptx85' is not a recognized feature for this target (ignoring feature)\n",
      "'+ptx85' is not a recognized feature for this target (ignoring feature)\n",
      "'+ptx85' is not a recognized feature for this target (ignoring feature)\n",
      "'+ptx85' is not a recognized feature for this target (ignoring feature)\n",
      "'+ptx85' is not a recognized feature for this target (ignoring feature)\n",
      "'+ptx85' is not a recognized feature for this target (ignoring feature)\n",
      "'+ptx85' is not a recognized feature for this target (ignoring feature)\n",
      "'+ptx85' is not a recognized feature for this target (ignoring feature)\n",
      "'+ptx85' is not a recognized feature for this target (ignoring feature)\n",
      "'+ptx85' is not a recognized feature for this target (ignoring feature)\n",
      "'+ptx85' is not a recognized feature for this target (ignoring feature)\n",
      "'+ptx85' is not a recognized feature for this target (ignoring feature)\n",
      "'+ptx85' is not a recognized feature for this target (ignoring feature)\n",
      "'+ptx85' is not a recognized feature for this target (ignoring feature)\n"
     ]
    },
    {
     "name": "stdout",
     "output_type": "stream",
     "text": [
      "Run 39 with seed 8736 took 7.92 seconds\n"
     ]
    },
    {
     "data": {
      "application/vnd.jupyter.widget-view+json": {
       "model_id": "94fc483786134f7fb95cb7349f3eff5a",
       "version_major": 2,
       "version_minor": 0
      },
      "text/plain": [
       "Executing:   0%|          | 0/24 [00:00<?, ?cell/s]"
      ]
     },
     "metadata": {},
     "output_type": "display_data"
    },
    {
     "name": "stderr",
     "output_type": "stream",
     "text": [
      "2024-06-25 14:55:34.138727: W external/xla/xla/service/gpu/nvptx_compiler.cc:760] The NVIDIA driver's CUDA version is 12.2 which is older than the ptxas CUDA version (12.5.40). Because the driver is older than the ptxas version, XLA is disabling parallel compilation, which may slow down compilation. You should update your NVIDIA driver or use the NVIDIA-provided CUDA forward compatibility packages.\n",
      "'+ptx85' is not a recognized feature for this target (ignoring feature)\n",
      "'+ptx85' is not a recognized feature for this target (ignoring feature)\n",
      "'+ptx85' is not a recognized feature for this target (ignoring feature)\n",
      "'+ptx85' is not a recognized feature for this target (ignoring feature)\n",
      "'+ptx85' is not a recognized feature for this target (ignoring feature)\n",
      "'+ptx85' is not a recognized feature for this target (ignoring feature)\n",
      "'+ptx85' is not a recognized feature for this target (ignoring feature)\n",
      "'+ptx85' is not a recognized feature for this target (ignoring feature)\n",
      "'+ptx85' is not a recognized feature for this target (ignoring feature)\n",
      "'+ptx85' is not a recognized feature for this target (ignoring feature)\n",
      "'+ptx85' is not a recognized feature for this target (ignoring feature)\n",
      "'+ptx85' is not a recognized feature for this target (ignoring feature)\n",
      "'+ptx85' is not a recognized feature for this target (ignoring feature)\n",
      "'+ptx85' is not a recognized feature for this target (ignoring feature)\n",
      "'+ptx85' is not a recognized feature for this target (ignoring feature)\n",
      "'+ptx85' is not a recognized feature for this target (ignoring feature)\n",
      "'+ptx85' is not a recognized feature for this target (ignoring feature)\n",
      "'+ptx85' is not a recognized feature for this target (ignoring feature)\n",
      "'+ptx85' is not a recognized feature for this target (ignoring feature)\n",
      "'+ptx85' is not a recognized feature for this target (ignoring feature)\n",
      "'+ptx85' is not a recognized feature for this target (ignoring feature)\n",
      "'+ptx85' is not a recognized feature for this target (ignoring feature)\n",
      "'+ptx85' is not a recognized feature for this target (ignoring feature)\n",
      "'+ptx85' is not a recognized feature for this target (ignoring feature)\n",
      "'+ptx85' is not a recognized feature for this target (ignoring feature)\n",
      "'+ptx85' is not a recognized feature for this target (ignoring feature)\n",
      "'+ptx85' is not a recognized feature for this target (ignoring feature)\n",
      "'+ptx85' is not a recognized feature for this target (ignoring feature)\n",
      "'+ptx85' is not a recognized feature for this target (ignoring feature)\n",
      "'+ptx85' is not a recognized feature for this target (ignoring feature)\n"
     ]
    },
    {
     "name": "stdout",
     "output_type": "stream",
     "text": [
      "Run 40 with seed 6687 took 7.81 seconds\n"
     ]
    },
    {
     "data": {
      "application/vnd.jupyter.widget-view+json": {
       "model_id": "fe713480a48e4d7cb1081102be950a4b",
       "version_major": 2,
       "version_minor": 0
      },
      "text/plain": [
       "Executing:   0%|          | 0/24 [00:00<?, ?cell/s]"
      ]
     },
     "metadata": {},
     "output_type": "display_data"
    },
    {
     "name": "stderr",
     "output_type": "stream",
     "text": [
      "2024-06-25 14:55:41.793202: W external/xla/xla/service/gpu/nvptx_compiler.cc:760] The NVIDIA driver's CUDA version is 12.2 which is older than the ptxas CUDA version (12.5.40). Because the driver is older than the ptxas version, XLA is disabling parallel compilation, which may slow down compilation. You should update your NVIDIA driver or use the NVIDIA-provided CUDA forward compatibility packages.\n",
      "'+ptx85' is not a recognized feature for this target (ignoring feature)\n",
      "'+ptx85' is not a recognized feature for this target (ignoring feature)\n",
      "'+ptx85' is not a recognized feature for this target (ignoring feature)\n",
      "'+ptx85' is not a recognized feature for this target (ignoring feature)\n",
      "'+ptx85' is not a recognized feature for this target (ignoring feature)\n",
      "'+ptx85' is not a recognized feature for this target (ignoring feature)\n",
      "'+ptx85' is not a recognized feature for this target (ignoring feature)\n",
      "'+ptx85' is not a recognized feature for this target (ignoring feature)\n",
      "'+ptx85' is not a recognized feature for this target (ignoring feature)\n",
      "'+ptx85' is not a recognized feature for this target (ignoring feature)\n",
      "'+ptx85' is not a recognized feature for this target (ignoring feature)\n",
      "'+ptx85' is not a recognized feature for this target (ignoring feature)\n",
      "'+ptx85' is not a recognized feature for this target (ignoring feature)\n",
      "'+ptx85' is not a recognized feature for this target (ignoring feature)\n",
      "'+ptx85' is not a recognized feature for this target (ignoring feature)\n",
      "'+ptx85' is not a recognized feature for this target (ignoring feature)\n",
      "'+ptx85' is not a recognized feature for this target (ignoring feature)\n",
      "'+ptx85' is not a recognized feature for this target (ignoring feature)\n",
      "'+ptx85' is not a recognized feature for this target (ignoring feature)\n",
      "'+ptx85' is not a recognized feature for this target (ignoring feature)\n",
      "'+ptx85' is not a recognized feature for this target (ignoring feature)\n",
      "'+ptx85' is not a recognized feature for this target (ignoring feature)\n",
      "'+ptx85' is not a recognized feature for this target (ignoring feature)\n",
      "'+ptx85' is not a recognized feature for this target (ignoring feature)\n",
      "'+ptx85' is not a recognized feature for this target (ignoring feature)\n",
      "'+ptx85' is not a recognized feature for this target (ignoring feature)\n",
      "'+ptx85' is not a recognized feature for this target (ignoring feature)\n",
      "'+ptx85' is not a recognized feature for this target (ignoring feature)\n",
      "'+ptx85' is not a recognized feature for this target (ignoring feature)\n",
      "'+ptx85' is not a recognized feature for this target (ignoring feature)\n"
     ]
    },
    {
     "name": "stdout",
     "output_type": "stream",
     "text": [
      "Run 41 with seed 714 took 7.71 seconds\n"
     ]
    },
    {
     "data": {
      "application/vnd.jupyter.widget-view+json": {
       "model_id": "f5aa4d9cc70840668bb5e74cf2bd8ad3",
       "version_major": 2,
       "version_minor": 0
      },
      "text/plain": [
       "Executing:   0%|          | 0/24 [00:00<?, ?cell/s]"
      ]
     },
     "metadata": {},
     "output_type": "display_data"
    },
    {
     "name": "stderr",
     "output_type": "stream",
     "text": [
      "2024-06-25 14:55:49.488952: W external/xla/xla/service/gpu/nvptx_compiler.cc:760] The NVIDIA driver's CUDA version is 12.2 which is older than the ptxas CUDA version (12.5.40). Because the driver is older than the ptxas version, XLA is disabling parallel compilation, which may slow down compilation. You should update your NVIDIA driver or use the NVIDIA-provided CUDA forward compatibility packages.\n",
      "'+ptx85' is not a recognized feature for this target (ignoring feature)\n",
      "'+ptx85' is not a recognized feature for this target (ignoring feature)\n",
      "'+ptx85' is not a recognized feature for this target (ignoring feature)\n",
      "'+ptx85' is not a recognized feature for this target (ignoring feature)\n",
      "'+ptx85' is not a recognized feature for this target (ignoring feature)\n",
      "'+ptx85' is not a recognized feature for this target (ignoring feature)\n",
      "'+ptx85' is not a recognized feature for this target (ignoring feature)\n",
      "'+ptx85' is not a recognized feature for this target (ignoring feature)\n",
      "'+ptx85' is not a recognized feature for this target (ignoring feature)\n",
      "'+ptx85' is not a recognized feature for this target (ignoring feature)\n",
      "'+ptx85' is not a recognized feature for this target (ignoring feature)\n",
      "'+ptx85' is not a recognized feature for this target (ignoring feature)\n",
      "'+ptx85' is not a recognized feature for this target (ignoring feature)\n",
      "'+ptx85' is not a recognized feature for this target (ignoring feature)\n",
      "'+ptx85' is not a recognized feature for this target (ignoring feature)\n",
      "'+ptx85' is not a recognized feature for this target (ignoring feature)\n",
      "'+ptx85' is not a recognized feature for this target (ignoring feature)\n",
      "'+ptx85' is not a recognized feature for this target (ignoring feature)\n",
      "'+ptx85' is not a recognized feature for this target (ignoring feature)\n",
      "'+ptx85' is not a recognized feature for this target (ignoring feature)\n",
      "'+ptx85' is not a recognized feature for this target (ignoring feature)\n",
      "'+ptx85' is not a recognized feature for this target (ignoring feature)\n",
      "'+ptx85' is not a recognized feature for this target (ignoring feature)\n",
      "'+ptx85' is not a recognized feature for this target (ignoring feature)\n",
      "'+ptx85' is not a recognized feature for this target (ignoring feature)\n",
      "'+ptx85' is not a recognized feature for this target (ignoring feature)\n",
      "'+ptx85' is not a recognized feature for this target (ignoring feature)\n",
      "'+ptx85' is not a recognized feature for this target (ignoring feature)\n",
      "'+ptx85' is not a recognized feature for this target (ignoring feature)\n",
      "'+ptx85' is not a recognized feature for this target (ignoring feature)\n"
     ]
    },
    {
     "name": "stdout",
     "output_type": "stream",
     "text": [
      "Run 42 with seed 2292 took 7.77 seconds\n"
     ]
    },
    {
     "data": {
      "application/vnd.jupyter.widget-view+json": {
       "model_id": "61d14f66c99f484bb2715b6d23eced1e",
       "version_major": 2,
       "version_minor": 0
      },
      "text/plain": [
       "Executing:   0%|          | 0/24 [00:00<?, ?cell/s]"
      ]
     },
     "metadata": {},
     "output_type": "display_data"
    },
    {
     "name": "stderr",
     "output_type": "stream",
     "text": [
      "2024-06-25 14:55:57.180095: W external/xla/xla/service/gpu/nvptx_compiler.cc:760] The NVIDIA driver's CUDA version is 12.2 which is older than the ptxas CUDA version (12.5.40). Because the driver is older than the ptxas version, XLA is disabling parallel compilation, which may slow down compilation. You should update your NVIDIA driver or use the NVIDIA-provided CUDA forward compatibility packages.\n",
      "'+ptx85' is not a recognized feature for this target (ignoring feature)\n",
      "'+ptx85' is not a recognized feature for this target (ignoring feature)\n",
      "'+ptx85' is not a recognized feature for this target (ignoring feature)\n",
      "'+ptx85' is not a recognized feature for this target (ignoring feature)\n",
      "'+ptx85' is not a recognized feature for this target (ignoring feature)\n",
      "'+ptx85' is not a recognized feature for this target (ignoring feature)\n",
      "'+ptx85' is not a recognized feature for this target (ignoring feature)\n",
      "'+ptx85' is not a recognized feature for this target (ignoring feature)\n",
      "'+ptx85' is not a recognized feature for this target (ignoring feature)\n",
      "'+ptx85' is not a recognized feature for this target (ignoring feature)\n",
      "'+ptx85' is not a recognized feature for this target (ignoring feature)\n",
      "'+ptx85' is not a recognized feature for this target (ignoring feature)\n",
      "'+ptx85' is not a recognized feature for this target (ignoring feature)\n",
      "'+ptx85' is not a recognized feature for this target (ignoring feature)\n",
      "'+ptx85' is not a recognized feature for this target (ignoring feature)\n",
      "'+ptx85' is not a recognized feature for this target (ignoring feature)\n",
      "'+ptx85' is not a recognized feature for this target (ignoring feature)\n",
      "'+ptx85' is not a recognized feature for this target (ignoring feature)\n",
      "'+ptx85' is not a recognized feature for this target (ignoring feature)\n",
      "'+ptx85' is not a recognized feature for this target (ignoring feature)\n",
      "'+ptx85' is not a recognized feature for this target (ignoring feature)\n",
      "'+ptx85' is not a recognized feature for this target (ignoring feature)\n",
      "'+ptx85' is not a recognized feature for this target (ignoring feature)\n",
      "'+ptx85' is not a recognized feature for this target (ignoring feature)\n",
      "'+ptx85' is not a recognized feature for this target (ignoring feature)\n",
      "'+ptx85' is not a recognized feature for this target (ignoring feature)\n",
      "'+ptx85' is not a recognized feature for this target (ignoring feature)\n",
      "'+ptx85' is not a recognized feature for this target (ignoring feature)\n",
      "'+ptx85' is not a recognized feature for this target (ignoring feature)\n",
      "'+ptx85' is not a recognized feature for this target (ignoring feature)\n"
     ]
    },
    {
     "name": "stdout",
     "output_type": "stream",
     "text": [
      "Run 43 with seed 8343 took 7.69 seconds\n"
     ]
    },
    {
     "data": {
      "application/vnd.jupyter.widget-view+json": {
       "model_id": "446246f7e5ef4e6db748a33daa277825",
       "version_major": 2,
       "version_minor": 0
      },
      "text/plain": [
       "Executing:   0%|          | 0/24 [00:00<?, ?cell/s]"
      ]
     },
     "metadata": {},
     "output_type": "display_data"
    },
    {
     "name": "stderr",
     "output_type": "stream",
     "text": [
      "2024-06-25 14:56:05.085868: W external/xla/xla/service/gpu/nvptx_compiler.cc:760] The NVIDIA driver's CUDA version is 12.2 which is older than the ptxas CUDA version (12.5.40). Because the driver is older than the ptxas version, XLA is disabling parallel compilation, which may slow down compilation. You should update your NVIDIA driver or use the NVIDIA-provided CUDA forward compatibility packages.\n",
      "'+ptx85' is not a recognized feature for this target (ignoring feature)\n",
      "'+ptx85' is not a recognized feature for this target (ignoring feature)\n",
      "'+ptx85' is not a recognized feature for this target (ignoring feature)\n",
      "'+ptx85' is not a recognized feature for this target (ignoring feature)\n",
      "'+ptx85' is not a recognized feature for this target (ignoring feature)\n",
      "'+ptx85' is not a recognized feature for this target (ignoring feature)\n",
      "'+ptx85' is not a recognized feature for this target (ignoring feature)\n",
      "'+ptx85' is not a recognized feature for this target (ignoring feature)\n",
      "'+ptx85' is not a recognized feature for this target (ignoring feature)\n",
      "'+ptx85' is not a recognized feature for this target (ignoring feature)\n",
      "'+ptx85' is not a recognized feature for this target (ignoring feature)\n",
      "'+ptx85' is not a recognized feature for this target (ignoring feature)\n",
      "'+ptx85' is not a recognized feature for this target (ignoring feature)\n",
      "'+ptx85' is not a recognized feature for this target (ignoring feature)\n",
      "'+ptx85' is not a recognized feature for this target (ignoring feature)\n",
      "'+ptx85' is not a recognized feature for this target (ignoring feature)\n",
      "'+ptx85' is not a recognized feature for this target (ignoring feature)\n",
      "'+ptx85' is not a recognized feature for this target (ignoring feature)\n",
      "'+ptx85' is not a recognized feature for this target (ignoring feature)\n",
      "'+ptx85' is not a recognized feature for this target (ignoring feature)\n",
      "'+ptx85' is not a recognized feature for this target (ignoring feature)\n",
      "'+ptx85' is not a recognized feature for this target (ignoring feature)\n",
      "'+ptx85' is not a recognized feature for this target (ignoring feature)\n",
      "'+ptx85' is not a recognized feature for this target (ignoring feature)\n",
      "'+ptx85' is not a recognized feature for this target (ignoring feature)\n",
      "'+ptx85' is not a recognized feature for this target (ignoring feature)\n",
      "'+ptx85' is not a recognized feature for this target (ignoring feature)\n",
      "'+ptx85' is not a recognized feature for this target (ignoring feature)\n",
      "'+ptx85' is not a recognized feature for this target (ignoring feature)\n",
      "'+ptx85' is not a recognized feature for this target (ignoring feature)\n"
     ]
    },
    {
     "name": "stdout",
     "output_type": "stream",
     "text": [
      "Run 44 with seed 1207 took 7.91 seconds\n"
     ]
    },
    {
     "data": {
      "application/vnd.jupyter.widget-view+json": {
       "model_id": "75c9214ac51d4b01a72a2fc788f3f966",
       "version_major": 2,
       "version_minor": 0
      },
      "text/plain": [
       "Executing:   0%|          | 0/24 [00:00<?, ?cell/s]"
      ]
     },
     "metadata": {},
     "output_type": "display_data"
    },
    {
     "name": "stderr",
     "output_type": "stream",
     "text": [
      "2024-06-25 14:56:13.031298: W external/xla/xla/service/gpu/nvptx_compiler.cc:760] The NVIDIA driver's CUDA version is 12.2 which is older than the ptxas CUDA version (12.5.40). Because the driver is older than the ptxas version, XLA is disabling parallel compilation, which may slow down compilation. You should update your NVIDIA driver or use the NVIDIA-provided CUDA forward compatibility packages.\n",
      "'+ptx85' is not a recognized feature for this target (ignoring feature)\n",
      "'+ptx85' is not a recognized feature for this target (ignoring feature)\n",
      "'+ptx85' is not a recognized feature for this target (ignoring feature)\n",
      "'+ptx85' is not a recognized feature for this target (ignoring feature)\n",
      "'+ptx85' is not a recognized feature for this target (ignoring feature)\n",
      "'+ptx85' is not a recognized feature for this target (ignoring feature)\n",
      "'+ptx85' is not a recognized feature for this target (ignoring feature)\n",
      "'+ptx85' is not a recognized feature for this target (ignoring feature)\n",
      "'+ptx85' is not a recognized feature for this target (ignoring feature)\n",
      "'+ptx85' is not a recognized feature for this target (ignoring feature)\n",
      "'+ptx85' is not a recognized feature for this target (ignoring feature)\n",
      "'+ptx85' is not a recognized feature for this target (ignoring feature)\n",
      "'+ptx85' is not a recognized feature for this target (ignoring feature)\n",
      "'+ptx85' is not a recognized feature for this target (ignoring feature)\n",
      "'+ptx85' is not a recognized feature for this target (ignoring feature)\n",
      "'+ptx85' is not a recognized feature for this target (ignoring feature)\n",
      "'+ptx85' is not a recognized feature for this target (ignoring feature)\n",
      "'+ptx85' is not a recognized feature for this target (ignoring feature)\n",
      "'+ptx85' is not a recognized feature for this target (ignoring feature)\n",
      "'+ptx85' is not a recognized feature for this target (ignoring feature)\n",
      "'+ptx85' is not a recognized feature for this target (ignoring feature)\n",
      "'+ptx85' is not a recognized feature for this target (ignoring feature)\n",
      "'+ptx85' is not a recognized feature for this target (ignoring feature)\n",
      "'+ptx85' is not a recognized feature for this target (ignoring feature)\n",
      "'+ptx85' is not a recognized feature for this target (ignoring feature)\n",
      "'+ptx85' is not a recognized feature for this target (ignoring feature)\n",
      "'+ptx85' is not a recognized feature for this target (ignoring feature)\n",
      "'+ptx85' is not a recognized feature for this target (ignoring feature)\n",
      "'+ptx85' is not a recognized feature for this target (ignoring feature)\n",
      "'+ptx85' is not a recognized feature for this target (ignoring feature)\n"
     ]
    },
    {
     "name": "stdout",
     "output_type": "stream",
     "text": [
      "Run 45 with seed 6172 took 7.81 seconds\n"
     ]
    },
    {
     "data": {
      "application/vnd.jupyter.widget-view+json": {
       "model_id": "232c88cb7bfb43bf8ee0bb29e1619698",
       "version_major": 2,
       "version_minor": 0
      },
      "text/plain": [
       "Executing:   0%|          | 0/24 [00:00<?, ?cell/s]"
      ]
     },
     "metadata": {},
     "output_type": "display_data"
    },
    {
     "name": "stderr",
     "output_type": "stream",
     "text": [
      "2024-06-25 14:56:20.817250: W external/xla/xla/service/gpu/nvptx_compiler.cc:760] The NVIDIA driver's CUDA version is 12.2 which is older than the ptxas CUDA version (12.5.40). Because the driver is older than the ptxas version, XLA is disabling parallel compilation, which may slow down compilation. You should update your NVIDIA driver or use the NVIDIA-provided CUDA forward compatibility packages.\n",
      "'+ptx85' is not a recognized feature for this target (ignoring feature)\n",
      "'+ptx85' is not a recognized feature for this target (ignoring feature)\n",
      "'+ptx85' is not a recognized feature for this target (ignoring feature)\n",
      "'+ptx85' is not a recognized feature for this target (ignoring feature)\n",
      "'+ptx85' is not a recognized feature for this target (ignoring feature)\n",
      "'+ptx85' is not a recognized feature for this target (ignoring feature)\n",
      "'+ptx85' is not a recognized feature for this target (ignoring feature)\n",
      "'+ptx85' is not a recognized feature for this target (ignoring feature)\n",
      "'+ptx85' is not a recognized feature for this target (ignoring feature)\n",
      "'+ptx85' is not a recognized feature for this target (ignoring feature)\n",
      "'+ptx85' is not a recognized feature for this target (ignoring feature)\n",
      "'+ptx85' is not a recognized feature for this target (ignoring feature)\n",
      "'+ptx85' is not a recognized feature for this target (ignoring feature)\n",
      "'+ptx85' is not a recognized feature for this target (ignoring feature)\n",
      "'+ptx85' is not a recognized feature for this target (ignoring feature)\n",
      "'+ptx85' is not a recognized feature for this target (ignoring feature)\n",
      "'+ptx85' is not a recognized feature for this target (ignoring feature)\n",
      "'+ptx85' is not a recognized feature for this target (ignoring feature)\n",
      "'+ptx85' is not a recognized feature for this target (ignoring feature)\n",
      "'+ptx85' is not a recognized feature for this target (ignoring feature)\n",
      "'+ptx85' is not a recognized feature for this target (ignoring feature)\n",
      "'+ptx85' is not a recognized feature for this target (ignoring feature)\n",
      "'+ptx85' is not a recognized feature for this target (ignoring feature)\n",
      "'+ptx85' is not a recognized feature for this target (ignoring feature)\n",
      "'+ptx85' is not a recognized feature for this target (ignoring feature)\n",
      "'+ptx85' is not a recognized feature for this target (ignoring feature)\n",
      "'+ptx85' is not a recognized feature for this target (ignoring feature)\n",
      "'+ptx85' is not a recognized feature for this target (ignoring feature)\n",
      "'+ptx85' is not a recognized feature for this target (ignoring feature)\n",
      "'+ptx85' is not a recognized feature for this target (ignoring feature)\n"
     ]
    },
    {
     "name": "stdout",
     "output_type": "stream",
     "text": [
      "Run 46 with seed 8994 took 7.78 seconds\n"
     ]
    },
    {
     "data": {
      "application/vnd.jupyter.widget-view+json": {
       "model_id": "ed955b522fe3444d986f69356cc4fd09",
       "version_major": 2,
       "version_minor": 0
      },
      "text/plain": [
       "Executing:   0%|          | 0/24 [00:00<?, ?cell/s]"
      ]
     },
     "metadata": {},
     "output_type": "display_data"
    },
    {
     "name": "stderr",
     "output_type": "stream",
     "text": [
      "2024-06-25 14:56:28.445475: W external/xla/xla/service/gpu/nvptx_compiler.cc:760] The NVIDIA driver's CUDA version is 12.2 which is older than the ptxas CUDA version (12.5.40). Because the driver is older than the ptxas version, XLA is disabling parallel compilation, which may slow down compilation. You should update your NVIDIA driver or use the NVIDIA-provided CUDA forward compatibility packages.\n",
      "'+ptx85' is not a recognized feature for this target (ignoring feature)\n",
      "'+ptx85' is not a recognized feature for this target (ignoring feature)\n",
      "'+ptx85' is not a recognized feature for this target (ignoring feature)\n",
      "'+ptx85' is not a recognized feature for this target (ignoring feature)\n",
      "'+ptx85' is not a recognized feature for this target (ignoring feature)\n",
      "'+ptx85' is not a recognized feature for this target (ignoring feature)\n",
      "'+ptx85' is not a recognized feature for this target (ignoring feature)\n",
      "'+ptx85' is not a recognized feature for this target (ignoring feature)\n",
      "'+ptx85' is not a recognized feature for this target (ignoring feature)\n",
      "'+ptx85' is not a recognized feature for this target (ignoring feature)\n",
      "'+ptx85' is not a recognized feature for this target (ignoring feature)\n",
      "'+ptx85' is not a recognized feature for this target (ignoring feature)\n",
      "'+ptx85' is not a recognized feature for this target (ignoring feature)\n",
      "'+ptx85' is not a recognized feature for this target (ignoring feature)\n",
      "'+ptx85' is not a recognized feature for this target (ignoring feature)\n",
      "'+ptx85' is not a recognized feature for this target (ignoring feature)\n",
      "'+ptx85' is not a recognized feature for this target (ignoring feature)\n",
      "'+ptx85' is not a recognized feature for this target (ignoring feature)\n",
      "'+ptx85' is not a recognized feature for this target (ignoring feature)\n",
      "'+ptx85' is not a recognized feature for this target (ignoring feature)\n",
      "'+ptx85' is not a recognized feature for this target (ignoring feature)\n",
      "'+ptx85' is not a recognized feature for this target (ignoring feature)\n",
      "'+ptx85' is not a recognized feature for this target (ignoring feature)\n",
      "'+ptx85' is not a recognized feature for this target (ignoring feature)\n",
      "'+ptx85' is not a recognized feature for this target (ignoring feature)\n",
      "'+ptx85' is not a recognized feature for this target (ignoring feature)\n",
      "'+ptx85' is not a recognized feature for this target (ignoring feature)\n",
      "'+ptx85' is not a recognized feature for this target (ignoring feature)\n",
      "'+ptx85' is not a recognized feature for this target (ignoring feature)\n",
      "'+ptx85' is not a recognized feature for this target (ignoring feature)\n"
     ]
    },
    {
     "name": "stdout",
     "output_type": "stream",
     "text": [
      "Run 47 with seed 7221 took 7.76 seconds\n"
     ]
    },
    {
     "data": {
      "application/vnd.jupyter.widget-view+json": {
       "model_id": "9eae6ba6c4de4d3d80e317e5d052fb55",
       "version_major": 2,
       "version_minor": 0
      },
      "text/plain": [
       "Executing:   0%|          | 0/24 [00:00<?, ?cell/s]"
      ]
     },
     "metadata": {},
     "output_type": "display_data"
    },
    {
     "name": "stderr",
     "output_type": "stream",
     "text": [
      "2024-06-25 14:56:36.278270: W external/xla/xla/service/gpu/nvptx_compiler.cc:760] The NVIDIA driver's CUDA version is 12.2 which is older than the ptxas CUDA version (12.5.40). Because the driver is older than the ptxas version, XLA is disabling parallel compilation, which may slow down compilation. You should update your NVIDIA driver or use the NVIDIA-provided CUDA forward compatibility packages.\n",
      "'+ptx85' is not a recognized feature for this target (ignoring feature)\n",
      "'+ptx85' is not a recognized feature for this target (ignoring feature)\n",
      "'+ptx85' is not a recognized feature for this target (ignoring feature)\n",
      "'+ptx85' is not a recognized feature for this target (ignoring feature)\n",
      "'+ptx85' is not a recognized feature for this target (ignoring feature)\n",
      "'+ptx85' is not a recognized feature for this target (ignoring feature)\n",
      "'+ptx85' is not a recognized feature for this target (ignoring feature)\n",
      "'+ptx85' is not a recognized feature for this target (ignoring feature)\n",
      "'+ptx85' is not a recognized feature for this target (ignoring feature)\n",
      "'+ptx85' is not a recognized feature for this target (ignoring feature)\n",
      "'+ptx85' is not a recognized feature for this target (ignoring feature)\n",
      "'+ptx85' is not a recognized feature for this target (ignoring feature)\n",
      "'+ptx85' is not a recognized feature for this target (ignoring feature)\n",
      "'+ptx85' is not a recognized feature for this target (ignoring feature)\n",
      "'+ptx85' is not a recognized feature for this target (ignoring feature)\n",
      "'+ptx85' is not a recognized feature for this target (ignoring feature)\n",
      "'+ptx85' is not a recognized feature for this target (ignoring feature)\n",
      "'+ptx85' is not a recognized feature for this target (ignoring feature)\n",
      "'+ptx85' is not a recognized feature for this target (ignoring feature)\n",
      "'+ptx85' is not a recognized feature for this target (ignoring feature)\n",
      "'+ptx85' is not a recognized feature for this target (ignoring feature)\n",
      "'+ptx85' is not a recognized feature for this target (ignoring feature)\n",
      "'+ptx85' is not a recognized feature for this target (ignoring feature)\n",
      "'+ptx85' is not a recognized feature for this target (ignoring feature)\n",
      "'+ptx85' is not a recognized feature for this target (ignoring feature)\n",
      "'+ptx85' is not a recognized feature for this target (ignoring feature)\n",
      "'+ptx85' is not a recognized feature for this target (ignoring feature)\n",
      "'+ptx85' is not a recognized feature for this target (ignoring feature)\n",
      "'+ptx85' is not a recognized feature for this target (ignoring feature)\n",
      "'+ptx85' is not a recognized feature for this target (ignoring feature)\n"
     ]
    },
    {
     "name": "stdout",
     "output_type": "stream",
     "text": [
      "Run 48 with seed 6021 took 7.85 seconds\n"
     ]
    },
    {
     "data": {
      "application/vnd.jupyter.widget-view+json": {
       "model_id": "4791e6d308fe4519a856147dd13c075a",
       "version_major": 2,
       "version_minor": 0
      },
      "text/plain": [
       "Executing:   0%|          | 0/24 [00:00<?, ?cell/s]"
      ]
     },
     "metadata": {},
     "output_type": "display_data"
    },
    {
     "name": "stderr",
     "output_type": "stream",
     "text": [
      "2024-06-25 14:56:44.294469: W external/xla/xla/service/gpu/nvptx_compiler.cc:760] The NVIDIA driver's CUDA version is 12.2 which is older than the ptxas CUDA version (12.5.40). Because the driver is older than the ptxas version, XLA is disabling parallel compilation, which may slow down compilation. You should update your NVIDIA driver or use the NVIDIA-provided CUDA forward compatibility packages.\n",
      "'+ptx85' is not a recognized feature for this target (ignoring feature)\n",
      "'+ptx85' is not a recognized feature for this target (ignoring feature)\n",
      "'+ptx85' is not a recognized feature for this target (ignoring feature)\n",
      "'+ptx85' is not a recognized feature for this target (ignoring feature)\n",
      "'+ptx85' is not a recognized feature for this target (ignoring feature)\n",
      "'+ptx85' is not a recognized feature for this target (ignoring feature)\n",
      "'+ptx85' is not a recognized feature for this target (ignoring feature)\n",
      "'+ptx85' is not a recognized feature for this target (ignoring feature)\n",
      "'+ptx85' is not a recognized feature for this target (ignoring feature)\n",
      "'+ptx85' is not a recognized feature for this target (ignoring feature)\n",
      "'+ptx85' is not a recognized feature for this target (ignoring feature)\n",
      "'+ptx85' is not a recognized feature for this target (ignoring feature)\n",
      "'+ptx85' is not a recognized feature for this target (ignoring feature)\n",
      "'+ptx85' is not a recognized feature for this target (ignoring feature)\n",
      "'+ptx85' is not a recognized feature for this target (ignoring feature)\n",
      "'+ptx85' is not a recognized feature for this target (ignoring feature)\n",
      "'+ptx85' is not a recognized feature for this target (ignoring feature)\n",
      "'+ptx85' is not a recognized feature for this target (ignoring feature)\n",
      "'+ptx85' is not a recognized feature for this target (ignoring feature)\n",
      "'+ptx85' is not a recognized feature for this target (ignoring feature)\n",
      "'+ptx85' is not a recognized feature for this target (ignoring feature)\n",
      "'+ptx85' is not a recognized feature for this target (ignoring feature)\n",
      "'+ptx85' is not a recognized feature for this target (ignoring feature)\n",
      "'+ptx85' is not a recognized feature for this target (ignoring feature)\n",
      "'+ptx85' is not a recognized feature for this target (ignoring feature)\n",
      "'+ptx85' is not a recognized feature for this target (ignoring feature)\n",
      "'+ptx85' is not a recognized feature for this target (ignoring feature)\n",
      "'+ptx85' is not a recognized feature for this target (ignoring feature)\n",
      "'+ptx85' is not a recognized feature for this target (ignoring feature)\n",
      "'+ptx85' is not a recognized feature for this target (ignoring feature)\n"
     ]
    },
    {
     "name": "stdout",
     "output_type": "stream",
     "text": [
      "Run 49 with seed 3622 took 8.00 seconds\n"
     ]
    },
    {
     "data": {
      "application/vnd.jupyter.widget-view+json": {
       "model_id": "be12d2b46eec42b88b9832be6ceaf0de",
       "version_major": 2,
       "version_minor": 0
      },
      "text/plain": [
       "Executing:   0%|          | 0/24 [00:00<?, ?cell/s]"
      ]
     },
     "metadata": {},
     "output_type": "display_data"
    },
    {
     "name": "stderr",
     "output_type": "stream",
     "text": [
      "2024-06-25 14:56:52.204787: W external/xla/xla/service/gpu/nvptx_compiler.cc:760] The NVIDIA driver's CUDA version is 12.2 which is older than the ptxas CUDA version (12.5.40). Because the driver is older than the ptxas version, XLA is disabling parallel compilation, which may slow down compilation. You should update your NVIDIA driver or use the NVIDIA-provided CUDA forward compatibility packages.\n",
      "'+ptx85' is not a recognized feature for this target (ignoring feature)\n",
      "'+ptx85' is not a recognized feature for this target (ignoring feature)\n",
      "'+ptx85' is not a recognized feature for this target (ignoring feature)\n",
      "'+ptx85' is not a recognized feature for this target (ignoring feature)\n",
      "'+ptx85' is not a recognized feature for this target (ignoring feature)\n",
      "'+ptx85' is not a recognized feature for this target (ignoring feature)\n",
      "'+ptx85' is not a recognized feature for this target (ignoring feature)\n",
      "'+ptx85' is not a recognized feature for this target (ignoring feature)\n",
      "'+ptx85' is not a recognized feature for this target (ignoring feature)\n",
      "'+ptx85' is not a recognized feature for this target (ignoring feature)\n",
      "'+ptx85' is not a recognized feature for this target (ignoring feature)\n",
      "'+ptx85' is not a recognized feature for this target (ignoring feature)\n",
      "'+ptx85' is not a recognized feature for this target (ignoring feature)\n",
      "'+ptx85' is not a recognized feature for this target (ignoring feature)\n",
      "'+ptx85' is not a recognized feature for this target (ignoring feature)\n",
      "'+ptx85' is not a recognized feature for this target (ignoring feature)\n",
      "'+ptx85' is not a recognized feature for this target (ignoring feature)\n",
      "'+ptx85' is not a recognized feature for this target (ignoring feature)\n",
      "'+ptx85' is not a recognized feature for this target (ignoring feature)\n",
      "'+ptx85' is not a recognized feature for this target (ignoring feature)\n",
      "'+ptx85' is not a recognized feature for this target (ignoring feature)\n",
      "'+ptx85' is not a recognized feature for this target (ignoring feature)\n",
      "'+ptx85' is not a recognized feature for this target (ignoring feature)\n",
      "'+ptx85' is not a recognized feature for this target (ignoring feature)\n",
      "'+ptx85' is not a recognized feature for this target (ignoring feature)\n",
      "'+ptx85' is not a recognized feature for this target (ignoring feature)\n",
      "'+ptx85' is not a recognized feature for this target (ignoring feature)\n",
      "'+ptx85' is not a recognized feature for this target (ignoring feature)\n",
      "'+ptx85' is not a recognized feature for this target (ignoring feature)\n",
      "'+ptx85' is not a recognized feature for this target (ignoring feature)\n"
     ]
    },
    {
     "name": "stdout",
     "output_type": "stream",
     "text": [
      "Run 50 with seed 3560 took 7.80 seconds\n",
      "All execution times: [7.6530656814575195, 7.8958353996276855, 7.79886531829834, 7.749063491821289, 8.008090496063232, 7.944962501525879, 7.9307990074157715, 9.055002927780151, 7.6303205490112305, 7.861894369125366, 7.759012699127197, 7.840352535247803, 7.7635557651519775, 7.927701234817505, 7.793659210205078, 7.826575040817261, 7.765027761459351, 7.7206926345825195, 7.8445680141448975, 7.813531160354614, 7.854246377944946, 7.756052732467651, 7.617620229721069, 7.845884084701538, 7.778825283050537, 7.618582487106323, 7.7082366943359375, 7.799579858779907, 7.958243370056152, 7.818716049194336, 7.895177602767944, 7.938848495483398, 7.92909574508667, 7.823878765106201, 7.797297954559326, 7.860133171081543, 7.659907341003418, 7.839905500411987, 7.922655820846558, 7.809681415557861, 7.7089173793792725, 7.768200397491455, 7.694974660873413, 7.913566827774048, 7.814788579940796, 7.779205560684204, 7.756373882293701, 7.850386381149292, 7.997783660888672, 7.795993089675903]\n"
     ]
    }
   ],
   "source": [
    "# Set the seed for reproducibility (optional)\n",
    "np.random.seed(0)\n",
    "\n",
    "# Generate 200 random integers between 0 (inclusive) and the upper bound (exclusive)\n",
    "seeds = np.random.choice(10_000, size=50).tolist()\n",
    "\n",
    "noise = False\n",
    "version = 4\n",
    "sample_size = 1000\n",
    "input_nb = './linear_single_run.ipynb'\n",
    "\n",
    "# List to store execution times\n",
    "execution_times = []\n",
    "\n",
    "print(f'Starting Experiment --> verion: {version}  |   sample size: {sample_size}  |   noise: {noise}')\n",
    "for i, seed in enumerate(seeds):\n",
    "    output_nb = f'linear_output_notebook_{i+1}.ipynb'\n",
    "    \n",
    "    # Start the timer\n",
    "    start_time = time.time()\n",
    "    \n",
    "    pm.execute_notebook(\n",
    "        input_nb,\n",
    "        output_nb,\n",
    "        parameters={'noise': noise, \n",
    "                    'seed': seed, \n",
    "                    'version': version,\n",
    "                    'sample_size': sample_size}\n",
    "    )\n",
    "    \n",
    "    # Stop the timer\n",
    "    end_time = time.time()\n",
    "    \n",
    "    # Calculate the duration\n",
    "    duration = end_time - start_time\n",
    "    execution_times.append(duration)\n",
    "    \n",
    "    print(f\"Run {i+1} with seed {seed} took {duration:.2f} seconds\")\n",
    "\n",
    "    #Remove the output notebook after capturing necessary data\n",
    "    os.remove(output_nb)\n",
    "\n",
    "# Optionally, you can save these times to a file or print them all out at the end\n",
    "print(\"All execution times:\", execution_times)"
   ]
  },
  {
   "cell_type": "code",
   "execution_count": null,
   "metadata": {},
   "outputs": [],
   "source": []
  }
 ],
 "metadata": {
  "kernelspec": {
   "display_name": "llms",
   "language": "python",
   "name": "python3"
  },
  "language_info": {
   "codemirror_mode": {
    "name": "ipython",
    "version": 3
   },
   "file_extension": ".py",
   "mimetype": "text/x-python",
   "name": "python",
   "nbconvert_exporter": "python",
   "pygments_lexer": "ipython3",
   "version": "3.10.12"
  },
  "orig_nbformat": 4
 },
 "nbformat": 4,
 "nbformat_minor": 2
}
