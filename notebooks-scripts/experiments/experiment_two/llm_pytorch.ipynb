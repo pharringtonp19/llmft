{
 "cells": [
  {
   "attachments": {},
   "cell_type": "markdown",
   "metadata": {},
   "source": [
    "#### **PyTorch**"
   ]
  },
  {
   "cell_type": "code",
   "execution_count": null,
   "metadata": {},
   "outputs": [],
   "source": [
    "import torch\n",
    "import torch.nn.functional as F\n",
    "print(f\"PyTorch Version: {torch.__version__}\")\n",
    "\n",
    "import torch\n",
    "print(f\"Cude is available: {torch.cuda.is_available()}\")\n",
    "print(f\"Device name: {torch.cuda.get_device_name(0)}\")"
   ]
  },
  {
   "attachments": {},
   "cell_type": "markdown",
   "metadata": {},
   "source": [
    "#### **Import Other Libraries**"
   ]
  },
  {
   "cell_type": "code",
   "execution_count": null,
   "metadata": {},
   "outputs": [],
   "source": [
    "# Standard library imports\n",
    "import os\n",
    "\n",
    "# Deep learning libraries\n",
    "import torch\n",
    "from torch.utils.data import DataLoader\n",
    "import transformers\n",
    "from transformers import AutoModelForCausalLM, AutoTokenizer, DataCollatorWithPadding\n",
    "\n",
    "# Text processing libraries\n",
    "import tiktoken\n",
    "import csv\n",
    "import pandas as pd\n",
    "\n",
    "# Utility libraries\n",
    "import numpy as np\n",
    "import random\n",
    "import math\n",
    "from tqdm import tqdm\n",
    "from itertools import chain\n",
    "from IPython.display import display, Markdown\n",
    "import textwrap\n",
    "\n",
    "# Custom libraries  \n",
    "from llmft.train import DecoderTrainer, EarlyStopping\n",
    "from llmft.metrics import compute_recall\n",
    "from llmft.losses import FocalLoss\n",
    "from llmft.utils import predict\n",
    "\n",
    "# Visualization libraries\n",
    "import seaborn as sns  # Assuming seaborn is installed\n",
    "\n",
    "# NLP utility (assuming trics is a library/module)\n",
    "from trics.nlp.utils import to_markdown\n",
    "\n",
    "# Configure GPU usage and tokenizer parallelism\n",
    "os.environ[\"CUDA_VISIBLE_DEVICES\"] = \"0\"\n",
    "os.environ[\"TOKENIZERS_PARALLELISM\"] = \"false\"\n",
    "\n",
    "# Suppress warnings\n",
    "import warnings\n",
    "warnings.filterwarnings(\"ignore\")\n",
    "\n",
    "# Dataset libraries (can be grouped together)\n",
    "from sklearn.model_selection import train_test_split\n",
    "from datasets import Dataset, DatasetDict"
   ]
  },
  {
   "attachments": {},
   "cell_type": "markdown",
   "metadata": {},
   "source": [
    "#### **Parameters**"
   ]
  },
  {
   "cell_type": "code",
   "execution_count": null,
   "metadata": {
    "tags": [
     "parameters"
    ]
   },
   "outputs": [],
   "source": [
    "seed = 0\n",
    "noise = False \n",
    "version = 1 \n",
    "lr = 1e-4 \n",
    "sample_size = 3000\n",
    "warmup_ratio = 0.25\n",
    "batch_size = 8\n",
    "epochs = 30\n",
    "patience = 10\n",
    "gamma = 0.0\n",
    "prompt = True \n",
    "test_size = 0.25\n",
    "gradient_accumulation = 8"
   ]
  },
  {
   "attachments": {},
   "cell_type": "markdown",
   "metadata": {},
   "source": [
    "#### **Seed**"
   ]
  },
  {
   "cell_type": "code",
   "execution_count": null,
   "metadata": {},
   "outputs": [],
   "source": [
    "np.random.seed(seed)"
   ]
  },
  {
   "attachments": {},
   "cell_type": "markdown",
   "metadata": {},
   "source": [
    "#### **Set Up Paths**"
   ]
  },
  {
   "cell_type": "code",
   "execution_count": null,
   "metadata": {},
   "outputs": [],
   "source": [
    "data_csv = f'./../../../toy-data/exp2/data_{version}.csv'"
   ]
  },
  {
   "attachments": {},
   "cell_type": "markdown",
   "metadata": {},
   "source": [
    "#### **Set Up Plotting**"
   ]
  },
  {
   "cell_type": "code",
   "execution_count": null,
   "metadata": {},
   "outputs": [],
   "source": [
    "import matplotlib as mpl\n",
    "from matplotlib import pyplot as plt\n",
    "from matplotlib import rcParams\n",
    "rcParams['image.interpolation'] = 'nearest'\n",
    "rcParams['image.cmap'] = 'viridis'\n",
    "rcParams['axes.grid'] = False\n",
    "%matplotlib inline\n",
    "%config InlineBackend.figure_format = 'svg'\n",
    "plt.style.use('seaborn-v0_8-dark-palette')\n",
    "\n",
    "from matplotlib import font_manager \n",
    "locations = './../../../styles/Newsreader'\n",
    "font_files = font_manager.findSystemFonts(fontpaths=locations)\n",
    "print(locations)\n",
    "print(font_files[0])\n",
    "for f in font_files: \n",
    "    font_manager.fontManager.addfont(f)\n",
    "plt.rcParams[\"font.family\"] = \"Newsreader\""
   ]
  },
  {
   "attachments": {},
   "cell_type": "markdown",
   "metadata": {},
   "source": [
    "#### **First Stage Function**"
   ]
  },
  {
   "cell_type": "code",
   "execution_count": null,
   "metadata": {},
   "outputs": [],
   "source": [
    "conditions_not_covered = [\n",
    "    \"Short-term illnesses\",\n",
    "    \"Temporary exhaustion\",\n",
    "    \"Behavioral Traits and Conditions\",\n",
    "    \"Having a quick temper without any underlying medical condition\",\n",
    "    \"Certain Addictions\",\n",
    "    \"Substance abuse disorders\",\n",
    "    \"good health\"\n",
    "]\n",
    "\n",
    "conditions_covered = [\n",
    "    \"Mobility impairments\",\n",
    "    \"Visual impairments\",\n",
    "    \"Hearing impairments\",\n",
    "    \"Chronic illnesses\",\n",
    "    \"Respiratory disorders\",\n",
    "    \"Cardiovascular conditions\",\n",
    "    \"Intellectual disabilities\",\n",
    "    \"Learning disabilities\",\n",
    "    \"Autism spectrum disorders\",\n",
    "    \"Psychiatric disorders\",\n",
    "    \"Traumatic brain injuries\",\n",
    "    \"Alzheimer's disease and other dementias\"\n",
    "]\n",
    "\n",
    "disabilities = conditions_covered + conditions_not_covered\n",
    "\n",
    "# Create a list of (0,1)s\n",
    "severity_indicator = [1 if disability in conditions_covered else 0 for disability in disabilities]\n",
    "\n",
    "def fstage(var1, var2, var3, var4, var5, var6, var7, var8, var9):\n",
    "    return 0.35*severity_indicator[var5] + 0.35*var9"
   ]
  },
  {
   "attachments": {},
   "cell_type": "markdown",
   "metadata": {},
   "source": [
    "#### **Read in Data**"
   ]
  },
  {
   "cell_type": "code",
   "execution_count": null,
   "metadata": {},
   "outputs": [],
   "source": [
    "import re \n",
    "\n",
    "def remove_newlines(text):\n",
    "    return re.sub(r'\\n+', '', text)\n",
    "\n",
    "string_b = 'Based on the following information, predict (Yes/No) whether the tenant will be represented in court by a lawyer.\\n\\n Description:'\n",
    "string1 = \"\\n\\n Note: The tenant has access to a free lawyer.\"\n",
    "string0 = \"\\n\\n Note: The tenant does not have access to a free lawyer.\"\n",
    "if prompt:\n",
    "    string1 += \" Access to a lawyer does not mean the tenant will be represented in court by a lawyer.\" \\\n",
    "        \" If the tenant is given access to a lawyer, they must apply for representation.\" \\\n",
    "        \" Because more tenants apply than can be represented, legal aid providers prioritize tenants with **vouchers** and **disabilities** when reviewing applications.\" \\\n",
    "        \" Providers can differ over what they consider to be a dissability.\"\\\n",
    "        \" If a tenant's application is selected, they must follow-up with the provider to arange for legal representation.\" \\\n",
    "        \" Therefor it's possible that tenants with characteristics which sugges they they should be prioritized remain without representation.\"\n",
    "\n",
    "# Read in Data Set\n",
    "df = pd.read_csv(data_csv)\n",
    "df['Description'] = df['Description'].apply(lambda x: remove_newlines(x))\n",
    "\n",
    "\n",
    "# Subsample Observations\n",
    "indices = np.random.choice(df.index, size=sample_size, replace=False)\n",
    "df = df.loc[indices].reset_index(drop=True)\n",
    "\n",
    "# Apply First Stage Function\n",
    "df['FStage_Value'] = df.apply(lambda row: fstage(\n",
    "                                                 row['Var1'], \n",
    "                                                 row['Var2'], \n",
    "                                                 row['Var3'], \n",
    "                                                 row['Var4'], \n",
    "                                                 row['Var5'],\n",
    "                                                 row['Var6'],\n",
    "                                                 row['Var7'],\n",
    "                                                 row['Var8'],\n",
    "                                                 row['Var9']), axis=1)\n",
    "\n",
    "# If Noise: Shuffle the first stage values\n",
    "if noise: \n",
    "    df['FStage_Value'] = df['FStage_Value'].sample(frac=1).reset_index(drop=True)\n",
    "\n",
    "# Sample Instrumental Values  \n",
    "df['Instrument'] = np.random.binomial(n=1, p=0.5, size=sample_size)\n",
    "\n",
    "# Text + Instrument\n",
    "df['FullDescription'] = np.where(df['Instrument'] == 1,\n",
    "                             string_b + df['Description'] + string1,\n",
    "                             string_b + df['Description'] + string0)\n",
    "\n",
    "# Text + Instrument == 1\n",
    "df['Treated_FullDescription'] = df.apply(lambda row: string_b + row['Description'].replace(\"\\n\", \"\") + string1, axis=1)\n",
    "\n",
    "# Text + Instrument == 0\n",
    "df['Control_FullDescription'] = df.apply(lambda row: string_b + row['Description'].replace(\"\\n\", \"\") + string0, axis=1)\n",
    "\n",
    "# Sample Treatment Values\n",
    "df['Treatment'] = np.random.binomial(n=1, p= df['FStage_Value'] * df['Instrument'], size=sample_size)\n",
    "\n",
    "# Sample Outcome Values\n",
    "df['Outcome'] =  (1. +  2.*(df['FStage_Value'] > 0.))*df['Treatment'] + 0.1*np.random.normal(size=sample_size)"
   ]
  },
  {
   "attachments": {},
   "cell_type": "markdown",
   "metadata": {},
   "source": [
    "#### **Plot**"
   ]
  },
  {
   "cell_type": "code",
   "execution_count": null,
   "metadata": {},
   "outputs": [],
   "source": [
    "fig = plt.figure(dpi=300, tight_layout=True, figsize=(7, 4.5))\n",
    "ax = plt.axes(facecolor=(.95, .96, .97))\n",
    "\n",
    "# Plot customizations\n",
    "for key in 'left', 'right', 'top':\n",
    "    ax.spines[key].set_visible(False)\n",
    "ax.text(0., 1.02, s='Count', transform=ax.transAxes, size=14)\n",
    "ax.yaxis.set_tick_params(length=0)\n",
    "ax.yaxis.grid(True, color='white', linewidth=2)\n",
    "ax.set_axisbelow(True)\n",
    "plt.hist(df['FStage_Value'], color='#36454F')\n",
    "plt.xlim(0, 1)\n",
    "plt.xlabel('Probability of Treatment Given Instrument', size=14)\n",
    "plt.show()"
   ]
  },
  {
   "attachments": {},
   "cell_type": "markdown",
   "metadata": {},
   "source": [
    "##### **Set Up Device**"
   ]
  },
  {
   "cell_type": "code",
   "execution_count": null,
   "metadata": {},
   "outputs": [],
   "source": [
    "device = torch.device(\"cuda\" if torch.cuda.is_available() else \"cpu\")\n",
    "print(f\"Device: {device}\")"
   ]
  },
  {
   "attachments": {},
   "cell_type": "markdown",
   "metadata": {},
   "source": [
    "#### **Qlora**"
   ]
  },
  {
   "cell_type": "code",
   "execution_count": null,
   "metadata": {},
   "outputs": [],
   "source": [
    "from peft import LoraConfig, get_peft_model \n",
    "from transformers import BitsAndBytesConfig\n",
    "\n",
    "# ----- QUANTIZATION -------# \n",
    "# Activate 4-bit precision base model loading\n",
    "use_4bit = True\n",
    "\n",
    "# Compute dtype for 4-bit base models\n",
    "bnb_4bit_compute_dtype = \"float16\"\n",
    "\n",
    "# Quantization type (fp4 or nf4)\n",
    "bnb_4bit_quant_type = \"nf4\"\n",
    "\n",
    "# Activate nested quantization for 4-bit base models (double quantization)\n",
    "use_nested_quant = True\n",
    "\n",
    "# Load tokenizer and model with QLoRA configuration\n",
    "compute_dtype = getattr(torch, bnb_4bit_compute_dtype)\n",
    "\n",
    "# Enable fp16/bf16 training (set bf16 to True with an A100)\n",
    "fp16 = False\n",
    "bf16 = True\n",
    "\n",
    "bnb_config = BitsAndBytesConfig(\n",
    "    load_in_4bit=use_4bit,\n",
    "    bnb_4bit_quant_type=bnb_4bit_quant_type,\n",
    "    bnb_4bit_compute_dtype=compute_dtype,\n",
    "    bnb_4bit_use_double_quant=use_nested_quant,\n",
    ")\n",
    "\n",
    "# Check GPU compatibility with bfloat16\n",
    "if compute_dtype == torch.float16 and use_4bit:\n",
    "    major, _ = torch.cuda.get_device_capability()\n",
    "    if major >= 8:\n",
    "        print(\"=\" * 80)\n",
    "        print(\"Your GPU supports bfloat16: accelerate training with bf16=True\")\n",
    "        print(\"=\" * 80)\n",
    "\n",
    "# ----- LORA -------# \n",
    "\n",
    "# lora_config = LoraConfig(\n",
    "#     r=8,\n",
    "#     target_modules=[\"q_proj\", \"o_proj\", \"k_proj\", \"v_proj\", \"gate_proj\", \"up_proj\", \"down_proj\"],\n",
    "#     task_type=\"CAUSAL_LM\",\n",
    "# )\n",
    "additional_modules = [\"attn_proj\", \"ff_proj\"]\n",
    "target_modules = [\"q_proj\", \"o_proj\", \"k_proj\", \"v_proj\", \"gate_proj\", \"up_proj\", \"down_proj\"] + additional_modules\n",
    "\n",
    "lora_config = LoraConfig(\n",
    "    r=16,\n",
    "    lora_alpha=32,\n",
    "    lora_dropout=0.05, \n",
    "    target_modules='all-linear',\n",
    "    bias=\"none\",\n",
    "    task_type=\"CAUSAL_LM\",\n",
    ")"
   ]
  },
  {
   "attachments": {},
   "cell_type": "markdown",
   "metadata": {},
   "source": [
    "#### **Instantiate Model**"
   ]
  },
  {
   "cell_type": "code",
   "execution_count": null,
   "metadata": {},
   "outputs": [],
   "source": [
    "model_name = 'meta-llama/Meta-Llama-3-8B-Instruct' #\"microsoft/Phi-3-mini-4k-instruct\"#'meta-llama/Meta-Llama-3-8B-Instruct' #\"microsoft/Phi-3-mini-4k-instruct\"# #\"microsoft/Phi-3-mini-4k-instruct\" #meta-llama/Meta-Llama-3-8B-Instruct\" \n",
    "\n",
    "from transformers.utils import is_flash_attn_2_available\n",
    "print(is_flash_attn_2_available())\n",
    "model = AutoModelForCausalLM.from_pretrained(model_name, \n",
    "                                            device_map=\"auto\", \n",
    "                                            torch_dtype=torch.bfloat16,\n",
    "                                            trust_remote_code=True,\n",
    "                                            quantization_config=bnb_config,\n",
    "                                            attn_implementation=\"flash_attention_2\")# So we can do gradient checkpointing\n",
    "\n",
    "# Enable gradient checkpointing\n",
    "model.gradient_checkpointing_enable()\n",
    "\n",
    "model.config.use_cache = False # Conflixt with gradient checkpointing\n",
    "model.config.pretraining_tp = 1\n",
    "model.generation_config.temperature = 0.001\n",
    "model.enable_input_require_grads()\n",
    "print(model.generation_config)\n",
    "\n",
    "model = get_peft_model(model, lora_config)\n",
    "print(model.print_trainable_parameters())"
   ]
  },
  {
   "attachments": {},
   "cell_type": "markdown",
   "metadata": {},
   "source": [
    "#### **Tokenizer**"
   ]
  },
  {
   "cell_type": "code",
   "execution_count": null,
   "metadata": {},
   "outputs": [],
   "source": [
    "tokenizer = AutoTokenizer.from_pretrained(model_name)\n",
    "tokenizer.pad_token = tokenizer.eos_token\n",
    "# Set the padding side to left\n",
    "tokenizer.padding_side = 'left'\n",
    "\n",
    "def tokenizer_function(example):\n",
    "  return tokenizer.apply_chat_template(example[\"messages\"], \n",
    "                                                          tokenize=True, \n",
    "                                                          add_generation_prompt=False, \n",
    "                                                          return_dict=True)"
   ]
  },
  {
   "attachments": {},
   "cell_type": "markdown",
   "metadata": {},
   "source": [
    "#### **Create Dataset**"
   ]
  },
  {
   "cell_type": "code",
   "execution_count": null,
   "metadata": {},
   "outputs": [],
   "source": [
    "if model_name == 'microsoft/Phi-3-mini-4k-instruct':\n",
    "    # Initialize the dataset list\n",
    "    dataset = []\n",
    "    treated_dataset = []\n",
    "    control_dataset = []\n",
    "\n",
    "    for index, row in df.iterrows():\n",
    "        entry = [\n",
    "            {'content': f\"Task: {row['FullDescription']}\", 'role': 'user'},\n",
    "            {'content': 'No' if row['Treatment'] == 0 else 'Yes', 'role': 'assistant'}\n",
    "        ]\n",
    "\n",
    "        treated_entry = [\n",
    "            {'content': f\"Task: {row['Treated_FullDescription']}\", 'role': 'user'},\n",
    "            {'content': 'No' if row['Treatment'] == 0 else 'Yes', 'role': 'assistant'}\n",
    "        ]\n",
    "        \n",
    "        control_entry = [\n",
    "            {'content': f\"Task: {row['Control_FullDescription']}\", 'role': 'user'},\n",
    "            {'content': 'No' if row['Treatment'] == 0 else 'Yes', 'role': 'assistant'}\n",
    "        ]\n",
    "\n",
    "        dataset.append(entry)\n",
    "        treated_dataset.append(treated_entry)\n",
    "        control_dataset.append(control_entry)\n",
    "\n",
    "    dataset = Dataset.from_dict({'messages': dataset})\n",
    "    treated_dataset = Dataset.from_dict({'messages': treated_dataset})\n",
    "    control_dataset = Dataset.from_dict({'messages': control_dataset})\n",
    "\n",
    "else:\n",
    "    # Initialize the dataset list\n",
    "    dataset = []\n",
    "    treated_dataset = []\n",
    "    control_dataset = []\n",
    "\n",
    "    for index, row in df.iterrows():\n",
    "        entry = [\n",
    "            {'content': 'You are a housing court clerk', 'role': 'system'},\n",
    "            {'content': f\"Task: {row['FullDescription']}\", 'role': 'user'},\n",
    "            {'content': 'No' if row['Treatment'] == 0 else 'Yes', 'role': 'assistant'}\n",
    "        ]\n",
    "        dataset.append(entry)\n",
    "\n",
    "\n",
    "        treated_entry = [\n",
    "            {'content': 'You are a housing court clerk', 'role': 'system'},\n",
    "            {'content': f\"Task: {row['Treated_FullDescription']}\", 'role': 'user'},\n",
    "            {'content': 'No' if row['Treatment'] == 0 else 'Yes', 'role': 'assistant'}\n",
    "        ]\n",
    "        treated_dataset.append(treated_entry)\n",
    "\n",
    "        control_entry = [\n",
    "            {'content': 'You are a housing court clerk', 'role': 'system'},\n",
    "            {'content': f\"Task: {row['Treated_FullDescription']}\", 'role': 'user'},\n",
    "            {'content': 'No' if row['Treatment'] == 0 else 'Yes', 'role': 'assistant'}\n",
    "        ]\n",
    "        control_dataset.append(control_entry)\n",
    "\n",
    "    dataset = Dataset.from_dict({'messages': dataset})\n",
    "    treated_dataset = Dataset.from_dict({'messages': treated_dataset})\n",
    "    control_dataset = Dataset.from_dict({'messages': control_dataset})"
   ]
  },
  {
   "attachments": {},
   "cell_type": "markdown",
   "metadata": {},
   "source": [
    "#### **Token Length**"
   ]
  },
  {
   "cell_type": "code",
   "execution_count": null,
   "metadata": {},
   "outputs": [],
   "source": [
    "batched_tokens = tokenizer.apply_chat_template(dataset['messages'], tokenize=True, batched=True)\n",
    "plt.hist(list(map(len, batched_tokens)))"
   ]
  },
  {
   "attachments": {},
   "cell_type": "markdown",
   "metadata": {},
   "source": [
    "#### **Input Type**"
   ]
  },
  {
   "cell_type": "code",
   "execution_count": null,
   "metadata": {},
   "outputs": [],
   "source": [
    "if model_name == 'microsoft/Phi-3-mini-4k-instruct':\n",
    "    def get_input_id(example):\n",
    "        example['type_indicator'] = 1 if 'The tenant has access to a free lawyer' in example['messages'][0]['content'] else 0 \n",
    "        return example\n",
    "else:\n",
    "    def get_input_id(example):\n",
    "        example['type_indicator'] = 1 if 'The tenant has access to a free lawyer' in example['messages'][1]['content'] else 0 \n",
    "        return example\n",
    "\n",
    "dataset = dataset.map(get_input_id, batched=False)\n",
    "treated_dataset = treated_dataset.map(get_input_id, batched=False)\n",
    "control_dataset = control_dataset.map(get_input_id, batched=False)\n",
    "plt.hist(dataset['type_indicator'])\n",
    "plt.show()"
   ]
  },
  {
   "cell_type": "code",
   "execution_count": null,
   "metadata": {},
   "outputs": [],
   "source": [
    "tokens = tokenizer.apply_chat_template(dataset['messages'][0], tokenizer=False)\n",
    "tokenizer.decode(tokens[-1])"
   ]
  },
  {
   "attachments": {},
   "cell_type": "markdown",
   "metadata": {},
   "source": [
    "#### **Output Type**"
   ]
  },
  {
   "cell_type": "code",
   "execution_count": null,
   "metadata": {},
   "outputs": [],
   "source": [
    "if model_name == 'microsoft/Phi-3-mini-4k-instruct':\n",
    "    def get_output_id(example):\n",
    "        string = example['messages'][1]['content']\n",
    "        example['target_token'] = tokenizer.encode(string, add_special_tokens=False)[0] \n",
    "        return example\n",
    "\n",
    "else:\n",
    "    def get_output_id(example):\n",
    "        string = example['messages'][2]['content']\n",
    "        example['target_token'] = tokenizer.encode(string, add_special_tokens=False)[0] \n",
    "        return example\n",
    "\n",
    "def get_ys_id(example):\n",
    "    example['yes_token'] = tokenizer.encode('Yes', add_special_tokens=False)[0] \n",
    "    return example\n",
    "\n",
    "\n",
    "dataset = dataset.map(get_output_id, batched=False)\n",
    "dataset = dataset.map(get_ys_id, batched=False)\n",
    "dataset = dataset.add_column(\"fstage\", df['FStage_Value'].values.tolist())\n",
    "dataset = dataset.add_column(\"outcome\", df['Outcome'].values.tolist())\n",
    "\n",
    "treated_dataset = treated_dataset.map(get_output_id, batched=False)\n",
    "treated_dataset = treated_dataset.map(get_ys_id, batched=False)\n",
    "treated_dataset = treated_dataset.add_column(\"fstage\", df['FStage_Value'].values.tolist())\n",
    "treated_dataset = treated_dataset.add_column(\"outcome\", df['Outcome'].values.tolist())\n",
    "\n",
    "control_dataset = control_dataset.map(get_output_id, batched=False)\n",
    "control_dataset = control_dataset.map(get_ys_id, batched=False)\n",
    "control_dataset = control_dataset.add_column(\"fstage\", df['FStage_Value'].values.tolist())\n",
    "control_dataset = control_dataset.add_column(\"outcome\", df['Outcome'].values.tolist())\n",
    "\n",
    "plt.hist(dataset['target_token'])\n",
    "plt.show()"
   ]
  },
  {
   "attachments": {},
   "cell_type": "markdown",
   "metadata": {},
   "source": [
    "#### **Data Loaders**"
   ]
  },
  {
   "cell_type": "code",
   "execution_count": null,
   "metadata": {},
   "outputs": [],
   "source": [
    "tokenized_dataset = dataset.map(tokenizer_function, batched=True)\n",
    "tokenized_dataset = tokenized_dataset.remove_columns(['messages'])\n",
    "tokenized_dataset_split = tokenized_dataset.train_test_split(test_size=test_size, seed=42)\n",
    "   \n",
    "tokenized_treated_dataset = treated_dataset.map(tokenizer_function, batched=True)\n",
    "tokenized_treated_dataset = tokenized_treated_dataset.remove_columns(['messages'])\n",
    " \n",
    "\n",
    "tokenized_control_dataset = control_dataset.map(tokenizer_function, batched=True)\n",
    "tokenized_control_dataset = tokenized_control_dataset.remove_columns(['messages'])\n",
    " \n",
    "\n",
    "all_loader = DataLoader(tokenized_dataset, batch_size=batch_size, collate_fn=DataCollatorWithPadding(tokenizer), shuffle=False)\n",
    "treated_loader = DataLoader(tokenized_treated_dataset, batch_size=batch_size, collate_fn=DataCollatorWithPadding(tokenizer), shuffle=False)\n",
    "control_loader = DataLoader(tokenized_control_dataset, batch_size=batch_size, collate_fn=DataCollatorWithPadding(tokenizer), shuffle=False)\n",
    "\n",
    "train_loader = DataLoader(tokenized_dataset_split['train'], batch_size=batch_size, collate_fn=DataCollatorWithPadding(tokenizer), shuffle=True)\n",
    "test_loader = DataLoader(tokenized_dataset_split['test'], batch_size=batch_size, collate_fn=DataCollatorWithPadding(tokenizer))"
   ]
  },
  {
   "attachments": {},
   "cell_type": "markdown",
   "metadata": {},
   "source": [
    "#### **Optimizer**"
   ]
  },
  {
   "cell_type": "code",
   "execution_count": null,
   "metadata": {},
   "outputs": [],
   "source": [
    "optimizer = torch.optim.AdamW(model.parameters(), lr=lr)\n",
    "scheduler =transformers.optimization.get_cosine_schedule_with_warmup(optimizer,num_warmup_steps= len(train_loader)*2, num_training_steps = len(train_loader)*epochs, num_cycles= 1) #int(warmup_ratio*len(train_loader)*epochs)"
   ]
  },
  {
   "attachments": {},
   "cell_type": "markdown",
   "metadata": {},
   "source": [
    "#### **Class Weights**"
   ]
  },
  {
   "cell_type": "code",
   "execution_count": null,
   "metadata": {},
   "outputs": [],
   "source": [
    "class_weights = torch.tensor([1., 1.], device=device) #torch.tensor([1-n_positive/n_samples, n_positive/n_samples], device=device)\n",
    "# criterion = FocalLoss(alpha=class_weights, gamma=gamma, mode='output', reduction='none')\n",
    "# criterion = torch.nn.CrossEntropyLoss(reduction='mean') \n",
    "\n",
    "# # Assume 'class_counts' is a list containing the number of samples for each class\n",
    "# n_samples = len(dataset['train']); print(f\"Number of Observations: {n_samples}\")\n",
    "# n_positive = sum(dataset['train']['type_indicator']); print(f\"Number of Positive Outcomes: {n_positive}\")\n",
    "# class_weights = torch.tensor([1., 1.], device=device) \n",
    "# frac_positive = (n_positive/n_samples)\n",
    "# class_weights = torch.tensor([1/ (1-frac_positive), 1 / frac_positive], device=device)\n",
    "# class_weights = class_weights/sum(class_weights)\n",
    "criterion = FocalLoss(alpha=class_weights, gamma=gamma, mode='input')\n",
    "print(criterion.gamma)\n",
    "print(f\"Class Weights: {class_weights}\")"
   ]
  },
  {
   "attachments": {},
   "cell_type": "markdown",
   "metadata": {},
   "source": [
    "#### **Trainer**"
   ]
  },
  {
   "cell_type": "code",
   "execution_count": null,
   "metadata": {},
   "outputs": [],
   "source": [
    "yuri = DecoderTrainer(model,\n",
    "                    tokenizer,\n",
    "                    optimizer, \n",
    "                    scheduler,\n",
    "                    criterion, \n",
    "                    device, \n",
    "                    verbose=False, \n",
    "                    threshold=2,\n",
    "                    gradient_accumulation=2)\n",
    "\n",
    "print(yuri.verbose)\n",
    "early_stopping = EarlyStopping(patience)\n",
    "\n",
    "def get_lr(optimizer):\n",
    "    for param_group in optimizer.param_groups:\n",
    "        return param_group['lr']\n"
   ]
  },
  {
   "attachments": {},
   "cell_type": "markdown",
   "metadata": {},
   "source": [
    "#### **Training**"
   ]
  },
  {
   "cell_type": "code",
   "execution_count": null,
   "metadata": {},
   "outputs": [],
   "source": [
    "evaluation_losses = [yuri.evaluate(test_loader)[1]]\n",
    "training_losses = [yuri.evaluate(train_loader)[1]]\n",
    "lr_history = []\n",
    "#recall_history = [yuri.compute_recall(test_loader)]\n",
    "pbar =  tqdm(range(epochs), desc=f'Epoch: 0, Train Loss: {training_losses[0]:.3f}, Val Loss: {evaluation_losses[0]:.3f}')  #,  rYes: {recall_history[0][1]:.3f}')\n",
    "\n",
    "for epoch in pbar:\n",
    "    train_loss = yuri.train(train_loader)\n",
    "    training_losses.append(train_loss[1])\n",
    "    val_loss = yuri.evaluate(test_loader)\n",
    "    evaluation_losses.append(val_loss[1])\n",
    "    lr_history.append(get_lr(optimizer))\n",
    "\n",
    "    #recall = yuri.compute_recall(test_loader)\n",
    "    #recall_history.append(recall)\n",
    "\n",
    "    pbar.set_description(f'Epoch: {epoch + 1}, Train Loss: {train_loss[1]:.4f}, Val Loss: {val_loss[1]:.4f}')# , rYes: {recall[1]:.3f}')\n",
    "\n",
    "        # Call early stopping\n",
    "    early_stopping(val_loss[1], model, epoch)\n",
    "    if early_stopping.early_stop:\n",
    "        print(\"***Early stopping***\")\n",
    "        print(f\"Min Validation Loss: {early_stopping.best_epoch}\")\n",
    "        print(f\"Current Epoch: {epoch}\")\n",
    "        break\n",
    "\n",
    "yuri.model.load_state_dict(torch.load('checkpoint.pt'))"
   ]
  },
  {
   "cell_type": "code",
   "execution_count": null,
   "metadata": {},
   "outputs": [],
   "source": [
    "lr_history"
   ]
  },
  {
   "cell_type": "code",
   "execution_count": null,
   "metadata": {},
   "outputs": [],
   "source": [
    "plt.plot(lr_history)"
   ]
  },
  {
   "attachments": {},
   "cell_type": "markdown",
   "metadata": {},
   "source": [
    "#### **Losses**"
   ]
  },
  {
   "cell_type": "code",
   "execution_count": null,
   "metadata": {},
   "outputs": [],
   "source": [
    "plt.plot(training_losses, label='Training')\n",
    "plt.plot(evaluation_losses, label='Validation')\n",
    "plt.legend()\n",
    "plt.show()"
   ]
  },
  {
   "cell_type": "code",
   "execution_count": null,
   "metadata": {},
   "outputs": [],
   "source": [
    "# for batch in train_loader:\n",
    "#     input_ids, logits, type_indicator, target_token = yuri.process_batch(batch, 'yes_token')\n",
    "#     loss, log_prob_target = yuri.compute_loss(input_ids, logits, type_indicator, target_token)\n",
    "#     print(target_token)\n",
    "#     print(tokenizer.decode(target_token))\n",
    "#     generated_ids = yuri.model.generate(\n",
    "#                         input_ids=input_ids[:,:-2],\n",
    "#                         max_new_tokens=2,\n",
    "#                         temperature=0.001)  # Ensure temperature is set here)\n",
    "#     decoded_batch_texts = yuri.tokenizer.batch_decode(generated_ids, skip_special_tokens=False)\n",
    "#     print(decoded_batch_texts)\n",
    "#     break\n",
    "\n"
   ]
  },
  {
   "cell_type": "code",
   "execution_count": null,
   "metadata": {},
   "outputs": [],
   "source": [
    "_, _, log_probs, indicators, target, fstage, outcomes, texts = yuri.evaluate(data_loader=all_loader, token_type='yes_token', return_decoded_text=True, max_new_tokens=2)\n"
   ]
  },
  {
   "cell_type": "code",
   "execution_count": null,
   "metadata": {},
   "outputs": [],
   "source": [
    "_, _, log_probs_treatment, _, _, _, _ = yuri.evaluate(data_loader=treated_loader, token_type='yes_token', return_decoded_text=False, max_new_tokens=2)\n",
    "_, _, log_probs_control, _, _, _, _ = yuri.evaluate(data_loader=control_loader, token_type='yes_token', return_decoded_text=False, max_new_tokens=2)\n"
   ]
  },
  {
   "cell_type": "code",
   "execution_count": null,
   "metadata": {},
   "outputs": [],
   "source": [
    "plt.plot(np.exp(log_probs_treatment))\n",
    "plt.plot(np.exp(log_probs_control))\n",
    "plt.show()"
   ]
  },
  {
   "cell_type": "code",
   "execution_count": null,
   "metadata": {},
   "outputs": [],
   "source": [
    "Y = np.array(outcomes)\n",
    "residuals = np.exp(log_probs).reshape(-1,1) - (0.5*np.exp(log_probs_treatment).reshape(-1,1) + 0.5*np.exp(log_probs_control).reshape(-1,1) )"
   ]
  },
  {
   "cell_type": "code",
   "execution_count": null,
   "metadata": {},
   "outputs": [],
   "source": [
    "plt.hist(residuals)"
   ]
  },
  {
   "cell_type": "code",
   "execution_count": null,
   "metadata": {},
   "outputs": [],
   "source": [
    "est = np.linalg.lstsq( np.hstack((residuals, np.ones_like(residuals))), Y)[0]\n",
    "est"
   ]
  },
  {
   "cell_type": "code",
   "execution_count": null,
   "metadata": {},
   "outputs": [],
   "source": [
    "plt.scatter(np.array(fstage)*np.array(indicators.to('cpu')), np.exp(log_probs))\n",
    "plt.plot([0,1], [0, 1])\n",
    "plt.xlim(0,1)\n",
    "plt.ylim(0,1)\n",
    "plt.show()"
   ]
  },
  {
   "cell_type": "code",
   "execution_count": null,
   "metadata": {},
   "outputs": [],
   "source": [
    "x = tokenizer.apply_chat_template(dataset['messages'][1], tokenize=True, skip_special_tokens=False)\n",
    "tokenizer.decode(x[-2])"
   ]
  },
  {
   "cell_type": "code",
   "execution_count": null,
   "metadata": {},
   "outputs": [],
   "source": [
    "for i, (j, k, l) in enumerate(zip(log_probs, target, texts)):\n",
    "    print(f\"Target : {k}, {torch.exp(j):.4f}\")\n",
    "    display(to_markdown(l))\n",
    "    if i > 20:\n",
    "        break"
   ]
  },
  {
   "cell_type": "code",
   "execution_count": null,
   "metadata": {},
   "outputs": [],
   "source": [
    "qs = np.linspace(0, 1, 100)\n",
    "ys1 = np.quantile(np.exp(log_probs)[indicators.to('cpu') == 1], qs)\n",
    "ys2 = np.quantile(df['FStage_Value'].values, qs)\n",
    "plt.plot(qs, ys1)\n",
    "plt.plot(qs, ys2)\n",
    "plt.ylim(0, 1)\n",
    "plt.show()"
   ]
  },
  {
   "cell_type": "code",
   "execution_count": null,
   "metadata": {},
   "outputs": [],
   "source": [
    "# Ensure probabilities are within (0, 1) to avoid log(0)\n",
    "epsilon = 1e-15\n",
    "probabilities = np.clip(df['FStage_Value'].values*df['Instrument'].values, epsilon, 1 - epsilon)\n",
    "\n",
    "# Compute binary cross-entropy loss\n",
    "bce_loss = -np.mean(df['Treatment'].values * np.log(probabilities) + (1 - df['Treatment'].values) * np.log(1 - probabilities))\n",
    "\n",
    "print(f'Binary Cross-Entropy Loss: {bce_loss}')"
   ]
  },
  {
   "cell_type": "code",
   "execution_count": null,
   "metadata": {},
   "outputs": [],
   "source": []
  }
 ],
 "metadata": {
  "kernelspec": {
   "display_name": "jmp_env",
   "language": "python",
   "name": "python3"
  },
  "language_info": {
   "codemirror_mode": {
    "name": "ipython",
    "version": 3
   },
   "file_extension": ".py",
   "mimetype": "text/x-python",
   "name": "python",
   "nbconvert_exporter": "python",
   "pygments_lexer": "ipython3",
   "version": "3.10.12"
  },
  "orig_nbformat": 4
 },
 "nbformat": 4,
 "nbformat_minor": 2
}
