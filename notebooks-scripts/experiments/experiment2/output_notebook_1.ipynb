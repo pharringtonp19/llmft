{
 "cells": [
  {
   "attachments": {},
   "cell_type": "markdown",
   "id": "f4b121c1",
   "metadata": {
    "papermill": {
     "duration": 0.008595,
     "end_time": "2024-05-13T13:13:18.222693",
     "exception": false,
     "start_time": "2024-05-13T13:13:18.214098",
     "status": "completed"
    },
    "tags": []
   },
   "source": [
    "#### **Import Libraries**"
   ]
  },
  {
   "cell_type": "code",
   "execution_count": 1,
   "id": "82bcaddb",
   "metadata": {
    "execution": {
     "iopub.execute_input": "2024-05-13T13:13:18.240459Z",
     "iopub.status.busy": "2024-05-13T13:13:18.239923Z",
     "iopub.status.idle": "2024-05-13T13:13:21.337389Z",
     "shell.execute_reply": "2024-05-13T13:13:21.336632Z"
    },
    "papermill": {
     "duration": 3.108621,
     "end_time": "2024-05-13T13:13:21.339474",
     "exception": false,
     "start_time": "2024-05-13T13:13:18.230853",
     "status": "completed"
    },
    "tags": []
   },
   "outputs": [],
   "source": [
    "# Standard library imports\n",
    "import os\n",
    "\n",
    "# Deep learning libraries\n",
    "import torch\n",
    "from torch.utils.data import DataLoader\n",
    "import transformers\n",
    "from transformers import AutoModelForSequenceClassification, AutoTokenizer, DataCollatorWithPadding\n",
    "\n",
    "# Text processing libraries\n",
    "import tiktoken\n",
    "import csv\n",
    "import pandas as pd\n",
    "\n",
    "# Utility libraries\n",
    "import numpy as np\n",
    "import random\n",
    "import math\n",
    "from tqdm import tqdm\n",
    "from itertools import chain\n",
    "from IPython.display import display, Markdown\n",
    "import textwrap\n",
    "\n",
    "# Custom libraries  \n",
    "from llmft.train import EncoderTrainer, EarlyStopping\n",
    "from llmft.metrics import compute_recall, compute_f1_score\n",
    "from llmft.losses import FocalLoss\n",
    "from llmft.utils import predict\n",
    "\n",
    "# Visualization libraries\n",
    "import seaborn as sns  # Assuming seaborn is installed\n",
    "\n",
    "# NLP utility (assuming trics is a library/module)\n",
    "from trics.nlp.utils import to_markdown\n",
    "\n",
    "# Configure GPU usage and tokenizer parallelism\n",
    "os.environ[\"CUDA_VISIBLE_DEVICES\"] = \"0\"\n",
    "os.environ[\"TOKENIZERS_PARALLELISM\"] = \"false\"\n",
    "\n",
    "# Suppress warnings\n",
    "import warnings\n",
    "warnings.filterwarnings(\"ignore\")\n",
    "\n",
    "# Dataset libraries (can be grouped together)\n",
    "from sklearn.model_selection import train_test_split\n",
    "from datasets import Dataset, DatasetDict, concatenate_datasets"
   ]
  },
  {
   "attachments": {},
   "cell_type": "markdown",
   "id": "af1a46a5",
   "metadata": {
    "papermill": {
     "duration": 0.008239,
     "end_time": "2024-05-13T13:13:21.356636",
     "exception": false,
     "start_time": "2024-05-13T13:13:21.348397",
     "status": "completed"
    },
    "tags": []
   },
   "source": [
    "#### **Parameters**"
   ]
  },
  {
   "cell_type": "code",
   "execution_count": 2,
   "id": "4850dd0f",
   "metadata": {
    "execution": {
     "iopub.execute_input": "2024-05-13T13:13:21.373362Z",
     "iopub.status.busy": "2024-05-13T13:13:21.372720Z",
     "iopub.status.idle": "2024-05-13T13:13:21.377314Z",
     "shell.execute_reply": "2024-05-13T13:13:21.376663Z"
    },
    "papermill": {
     "duration": 0.014699,
     "end_time": "2024-05-13T13:13:21.378700",
     "exception": false,
     "start_time": "2024-05-13T13:13:21.364001",
     "status": "completed"
    },
    "tags": [
     "parameters"
    ]
   },
   "outputs": [],
   "source": [
    "seed = 0\n",
    "noise = True \n",
    "verbose = True \n",
    "sample_size = 1000\n",
    "test_size = 0.25\n",
    "version = 4 \n",
    "class_weight_type = 'standard'\n",
    "lr = 1e-4\n",
    "warmup_ratio = 0.25\n",
    "batch_size = 64\n",
    "epochs = 30\n",
    "patience = float('inf') \n",
    "gamma = 0.0"
   ]
  },
  {
   "cell_type": "code",
   "execution_count": 3,
   "id": "934d2024",
   "metadata": {
    "execution": {
     "iopub.execute_input": "2024-05-13T13:13:21.395542Z",
     "iopub.status.busy": "2024-05-13T13:13:21.395007Z",
     "iopub.status.idle": "2024-05-13T13:13:21.398226Z",
     "shell.execute_reply": "2024-05-13T13:13:21.397580Z"
    },
    "papermill": {
     "duration": 0.013327,
     "end_time": "2024-05-13T13:13:21.399646",
     "exception": false,
     "start_time": "2024-05-13T13:13:21.386319",
     "status": "completed"
    },
    "tags": [
     "injected-parameters"
    ]
   },
   "outputs": [],
   "source": [
    "# Parameters\n",
    "noise = False\n",
    "seed = 1\n",
    "version = 4\n",
    "sample_size = 1200\n"
   ]
  },
  {
   "attachments": {},
   "cell_type": "markdown",
   "id": "f59d868c",
   "metadata": {
    "papermill": {
     "duration": 0.00768,
     "end_time": "2024-05-13T13:13:21.414863",
     "exception": false,
     "start_time": "2024-05-13T13:13:21.407183",
     "status": "completed"
    },
    "tags": []
   },
   "source": [
    "#### **Seed**"
   ]
  },
  {
   "cell_type": "code",
   "execution_count": 4,
   "id": "648f6ea8",
   "metadata": {
    "execution": {
     "iopub.execute_input": "2024-05-13T13:13:21.431272Z",
     "iopub.status.busy": "2024-05-13T13:13:21.430547Z",
     "iopub.status.idle": "2024-05-13T13:13:21.433873Z",
     "shell.execute_reply": "2024-05-13T13:13:21.433246Z"
    },
    "papermill": {
     "duration": 0.013062,
     "end_time": "2024-05-13T13:13:21.435232",
     "exception": false,
     "start_time": "2024-05-13T13:13:21.422170",
     "status": "completed"
    },
    "tags": []
   },
   "outputs": [],
   "source": [
    "np.random.seed(seed)"
   ]
  },
  {
   "attachments": {},
   "cell_type": "markdown",
   "id": "75a0fe3f",
   "metadata": {
    "papermill": {
     "duration": 0.007566,
     "end_time": "2024-05-13T13:13:21.450532",
     "exception": false,
     "start_time": "2024-05-13T13:13:21.442966",
     "status": "completed"
    },
    "tags": []
   },
   "source": [
    "#### **Set Up Paths**"
   ]
  },
  {
   "cell_type": "code",
   "execution_count": 5,
   "id": "f1b7348e",
   "metadata": {
    "execution": {
     "iopub.execute_input": "2024-05-13T13:13:21.468265Z",
     "iopub.status.busy": "2024-05-13T13:13:21.467824Z",
     "iopub.status.idle": "2024-05-13T13:13:21.470913Z",
     "shell.execute_reply": "2024-05-13T13:13:21.470259Z"
    },
    "papermill": {
     "duration": 0.013653,
     "end_time": "2024-05-13T13:13:21.472295",
     "exception": false,
     "start_time": "2024-05-13T13:13:21.458642",
     "status": "completed"
    },
    "tags": []
   },
   "outputs": [],
   "source": [
    "data_csv = f'./../../../toy-data/exp2/data_{version}.csv'"
   ]
  },
  {
   "attachments": {},
   "cell_type": "markdown",
   "id": "27b33d7b",
   "metadata": {
    "papermill": {
     "duration": 0.007593,
     "end_time": "2024-05-13T13:13:21.487805",
     "exception": false,
     "start_time": "2024-05-13T13:13:21.480212",
     "status": "completed"
    },
    "tags": []
   },
   "source": [
    "#### **Set Up Plotting**"
   ]
  },
  {
   "cell_type": "code",
   "execution_count": 6,
   "id": "16556262",
   "metadata": {
    "execution": {
     "iopub.execute_input": "2024-05-13T13:13:21.504399Z",
     "iopub.status.busy": "2024-05-13T13:13:21.503957Z",
     "iopub.status.idle": "2024-05-13T13:13:21.533746Z",
     "shell.execute_reply": "2024-05-13T13:13:21.533076Z"
    },
    "papermill": {
     "duration": 0.039699,
     "end_time": "2024-05-13T13:13:21.535141",
     "exception": false,
     "start_time": "2024-05-13T13:13:21.495442",
     "status": "completed"
    },
    "tags": []
   },
   "outputs": [
    {
     "name": "stdout",
     "output_type": "stream",
     "text": [
      "./../../../styles/Newsreader\n",
      "/home/ubuntu/llmft/styles/Newsreader/static/Newsreader_14pt/Newsreader_14pt-ExtraBold.ttf\n"
     ]
    }
   ],
   "source": [
    "import matplotlib as mpl\n",
    "from matplotlib import pyplot as plt\n",
    "from matplotlib import rcParams\n",
    "rcParams['image.interpolation'] = 'nearest'\n",
    "rcParams['image.cmap'] = 'viridis'\n",
    "rcParams['axes.grid'] = False\n",
    "%matplotlib inline\n",
    "%config InlineBackend.figure_format = 'svg'\n",
    "plt.style.use('seaborn-v0_8-dark-palette')\n",
    "\n",
    "from matplotlib import font_manager \n",
    "locations = './../../../styles/Newsreader'\n",
    "font_files = font_manager.findSystemFonts(fontpaths=locations)\n",
    "print(locations)\n",
    "print(font_files[0])\n",
    "for f in font_files: \n",
    "    font_manager.fontManager.addfont(f)\n",
    "plt.rcParams[\"font.family\"] = \"Newsreader\""
   ]
  },
  {
   "attachments": {},
   "cell_type": "markdown",
   "id": "e0a56a05",
   "metadata": {
    "papermill": {
     "duration": 0.007773,
     "end_time": "2024-05-13T13:13:21.550851",
     "exception": false,
     "start_time": "2024-05-13T13:13:21.543078",
     "status": "completed"
    },
    "tags": []
   },
   "source": [
    "#### **First Stage Function**"
   ]
  },
  {
   "cell_type": "code",
   "execution_count": 7,
   "id": "4a073b38",
   "metadata": {
    "execution": {
     "iopub.execute_input": "2024-05-13T13:13:21.568883Z",
     "iopub.status.busy": "2024-05-13T13:13:21.568391Z",
     "iopub.status.idle": "2024-05-13T13:13:21.571768Z",
     "shell.execute_reply": "2024-05-13T13:13:21.571107Z"
    },
    "papermill": {
     "duration": 0.014079,
     "end_time": "2024-05-13T13:13:21.573133",
     "exception": false,
     "start_time": "2024-05-13T13:13:21.559054",
     "status": "completed"
    },
    "tags": []
   },
   "outputs": [],
   "source": [
    "def fstage(var0, var1, var2, var3, var4):\n",
    "    return (1.0-var4)"
   ]
  },
  {
   "attachments": {},
   "cell_type": "markdown",
   "id": "9027869a",
   "metadata": {
    "papermill": {
     "duration": 0.007751,
     "end_time": "2024-05-13T13:13:21.588683",
     "exception": false,
     "start_time": "2024-05-13T13:13:21.580932",
     "status": "completed"
    },
    "tags": []
   },
   "source": [
    "#### **Read in Data**"
   ]
  },
  {
   "cell_type": "code",
   "execution_count": 8,
   "id": "27433d25",
   "metadata": {
    "execution": {
     "iopub.execute_input": "2024-05-13T13:13:21.605675Z",
     "iopub.status.busy": "2024-05-13T13:13:21.604996Z",
     "iopub.status.idle": "2024-05-13T13:13:21.721548Z",
     "shell.execute_reply": "2024-05-13T13:13:21.720815Z"
    },
    "papermill": {
     "duration": 0.126979,
     "end_time": "2024-05-13T13:13:21.723270",
     "exception": false,
     "start_time": "2024-05-13T13:13:21.596291",
     "status": "completed"
    },
    "tags": []
   },
   "outputs": [],
   "source": [
    "df = pd.read_csv(data_csv)\n",
    "indices = np.random.choice(df.index, size=sample_size, replace=False)\n",
    "df = df.loc[indices].reset_index(drop=True)\n",
    "n = len(df)  # Get the number of rows in df\n",
    "df['FStage_Value'] = df.apply(lambda row: fstage(row['Var0'], row['Var1'], row['Var2'], row['Var3'], row['Var4']), axis=1)\n",
    "if noise: \n",
    "    df['FStage_Value'] = 0.12\n",
    "df['Instrument'] = np.random.binomial(n=1, p=0.5, size=n)\n",
    "df['FullDescription'] = np.where(df['Instrument'] == 1,\n",
    "                             df['Description'] + \" The tenant has access to a free lawyer\",\n",
    "                             df['Description'] + \" The tenant does not have access to a free lawyer\")\n",
    "df['Treated_FullDescription'] = df.apply(lambda row: row['Description'] + \" The tenant has access to a free lawyer\", axis=1)\n",
    "df['Control_FullDescription'] = df.apply(lambda row: row['Description'] + \" The tenant does not have access to a free lawyer\", axis=1)\n",
    "df['Treatment'] = np.random.binomial(n=1, p= df['FStage_Value'] * df['Instrument'], size=n)\n",
    "df['Outcome'] = df['Treatment'] + 0.1*np.random.normal(size=n)"
   ]
  },
  {
   "attachments": {},
   "cell_type": "markdown",
   "id": "a633cf08",
   "metadata": {
    "papermill": {
     "duration": 0.007878,
     "end_time": "2024-05-13T13:13:21.739434",
     "exception": false,
     "start_time": "2024-05-13T13:13:21.731556",
     "status": "completed"
    },
    "tags": []
   },
   "source": [
    "#### **Treatment Fraction**"
   ]
  },
  {
   "cell_type": "code",
   "execution_count": 9,
   "id": "5a09bfa4",
   "metadata": {
    "execution": {
     "iopub.execute_input": "2024-05-13T13:13:21.757693Z",
     "iopub.status.busy": "2024-05-13T13:13:21.757230Z",
     "iopub.status.idle": "2024-05-13T13:13:21.764252Z",
     "shell.execute_reply": "2024-05-13T13:13:21.763599Z"
    },
    "papermill": {
     "duration": 0.017878,
     "end_time": "2024-05-13T13:13:21.765681",
     "exception": false,
     "start_time": "2024-05-13T13:13:21.747803",
     "status": "completed"
    },
    "tags": []
   },
   "outputs": [
    {
     "data": {
      "text/plain": [
       "Instrument\n",
       "0    0.0\n",
       "1    0.1\n",
       "Name: Treatment, dtype: float64"
      ]
     },
     "execution_count": 9,
     "metadata": {},
     "output_type": "execute_result"
    }
   ],
   "source": [
    "df.groupby('Instrument')['Treatment'].mean()"
   ]
  },
  {
   "attachments": {},
   "cell_type": "markdown",
   "id": "c1091763",
   "metadata": {
    "papermill": {
     "duration": 0.008012,
     "end_time": "2024-05-13T13:13:21.781693",
     "exception": false,
     "start_time": "2024-05-13T13:13:21.773681",
     "status": "completed"
    },
    "tags": []
   },
   "source": [
    "#### **Plot Treatment Distribution**"
   ]
  },
  {
   "cell_type": "code",
   "execution_count": 10,
   "id": "c9b3714e",
   "metadata": {
    "execution": {
     "iopub.execute_input": "2024-05-13T13:13:21.798954Z",
     "iopub.status.busy": "2024-05-13T13:13:21.798360Z",
     "iopub.status.idle": "2024-05-13T13:13:21.929138Z",
     "shell.execute_reply": "2024-05-13T13:13:21.928495Z"
    },
    "papermill": {
     "duration": 0.140991,
     "end_time": "2024-05-13T13:13:21.930566",
     "exception": false,
     "start_time": "2024-05-13T13:13:21.789575",
     "status": "completed"
    },
    "tags": []
   },
   "outputs": [
    {
     "data": {
      "image/svg+xml": [
       "<?xml version=\"1.0\" encoding=\"utf-8\" standalone=\"no\"?>\n",
       "<!DOCTYPE svg PUBLIC \"-//W3C//DTD SVG 1.1//EN\"\n",
       "  \"http://www.w3.org/Graphics/SVG/1.1/DTD/svg11.dtd\">\n",
       "<svg xmlns:xlink=\"http://www.w3.org/1999/xlink\" width=\"496.8pt\" height=\"316.871102pt\" viewBox=\"0 0 496.8 316.871102\" xmlns=\"http://www.w3.org/2000/svg\" version=\"1.1\">\n",
       " <metadata>\n",
       "  <rdf:RDF xmlns:dc=\"http://purl.org/dc/elements/1.1/\" xmlns:cc=\"http://creativecommons.org/ns#\" xmlns:rdf=\"http://www.w3.org/1999/02/22-rdf-syntax-ns#\">\n",
       "   <cc:Work>\n",
       "    <dc:type rdf:resource=\"http://purl.org/dc/dcmitype/StillImage\"/>\n",
       "    <dc:date>2024-05-13T13:13:21.899481</dc:date>\n",
       "    <dc:format>image/svg+xml</dc:format>\n",
       "    <dc:creator>\n",
       "     <cc:Agent>\n",
       "      <dc:title>Matplotlib v3.8.4, https://matplotlib.org/</dc:title>\n",
       "     </cc:Agent>\n",
       "    </dc:creator>\n",
       "   </cc:Work>\n",
       "  </rdf:RDF>\n",
       " </metadata>\n",
       " <defs>\n",
       "  <style type=\"text/css\">*{stroke-linejoin: round; stroke-linecap: butt}</style>\n",
       " </defs>\n",
       " <g id=\"figure_1\">\n",
       "  <g id=\"patch_1\">\n",
       "   <path d=\"M 0 316.871102 \n",
       "L 496.8 316.871102 \n",
       "L 496.8 0 \n",
       "L 0 0 \n",
       "z\n",
       "\" style=\"fill: #ffffff\"/>\n",
       "  </g>\n",
       "  <g id=\"axes_1\">\n",
       "   <g id=\"patch_2\">\n",
       "    <path d=\"M 34.0375 275.382352 \n",
       "L 482.567969 275.382352 \n",
       "L 482.567969 22.347264 \n",
       "L 34.0375 22.347264 \n",
       "z\n",
       "\" style=\"fill: #f2f5f7\"/>\n",
       "   </g>\n",
       "   <g id=\"matplotlib.axis_1\">\n",
       "    <g id=\"xtick_1\">\n",
       "     <g id=\"line2d_1\">\n",
       "      <defs>\n",
       "       <path id=\"mbdd9b1e854\" d=\"M 0 0 \n",
       "L 0 3.5 \n",
       "\" style=\"stroke: #000000; stroke-width: 0.8\"/>\n",
       "      </defs>\n",
       "      <g>\n",
       "       <use xlink:href=\"#mbdd9b1e854\" x=\"34.0375\" y=\"275.382352\" style=\"stroke: #000000; stroke-width: 0.8\"/>\n",
       "      </g>\n",
       "     </g>\n",
       "     <g id=\"text_1\">\n",
       "      <!-- 0.0 -->\n",
       "      <g transform=\"translate(27.005469 289.587039) scale(0.1 -0.1)\">\n",
       "       <defs>\n",
       "        <path id=\"Newsreader-Regular-30\" d=\"M 1878 278 \n",
       "Q 2205 278 2430 486 \n",
       "Q 2656 694 2774 1099 \n",
       "Q 2893 1504 2893 2086 \n",
       "Q 2893 2570 2825 2944 \n",
       "Q 2758 3318 2625 3572 \n",
       "Q 2493 3827 2299 3958 \n",
       "Q 2106 4090 1856 4090 \n",
       "Q 1530 4090 1302 3882 \n",
       "Q 1075 3674 956 3270 \n",
       "Q 838 2867 838 2282 \n",
       "Q 838 1795 907 1420 \n",
       "Q 976 1046 1109 792 \n",
       "Q 1242 538 1435 408 \n",
       "Q 1629 278 1878 278 \n",
       "z\n",
       "M 1875 4432 \n",
       "Q 2368 4432 2728 4158 \n",
       "Q 3088 3885 3283 3389 \n",
       "Q 3478 2893 3478 2218 \n",
       "Q 3478 1523 3284 1011 \n",
       "Q 3091 499 2728 217 \n",
       "Q 2365 -64 1859 -64 \n",
       "Q 1370 -64 1010 208 \n",
       "Q 650 480 453 979 \n",
       "Q 256 1478 256 2150 \n",
       "Q 256 2842 451 3355 \n",
       "Q 646 3869 1009 4150 \n",
       "Q 1373 4432 1875 4432 \n",
       "z\n",
       "\" transform=\"scale(0.015625)\"/>\n",
       "        <path id=\"Newsreader-Regular-2e\" d=\"M 768 790 \n",
       "Q 957 790 1075 675 \n",
       "Q 1194 560 1194 374 \n",
       "Q 1194 189 1075 72 \n",
       "Q 957 -45 768 -45 \n",
       "Q 579 -45 460 72 \n",
       "Q 342 189 342 374 \n",
       "Q 342 560 460 675 \n",
       "Q 579 790 768 790 \n",
       "z\n",
       "\" transform=\"scale(0.015625)\"/>\n",
       "       </defs>\n",
       "       <use xlink:href=\"#Newsreader-Regular-30\"/>\n",
       "       <use xlink:href=\"#Newsreader-Regular-2e\" x=\"58.350006\"/>\n",
       "       <use xlink:href=\"#Newsreader-Regular-30\" x=\"82.300003\"/>\n",
       "      </g>\n",
       "     </g>\n",
       "    </g>\n",
       "    <g id=\"xtick_2\">\n",
       "     <g id=\"line2d_2\">\n",
       "      <g>\n",
       "       <use xlink:href=\"#mbdd9b1e854\" x=\"123.743594\" y=\"275.382352\" style=\"stroke: #000000; stroke-width: 0.8\"/>\n",
       "      </g>\n",
       "     </g>\n",
       "     <g id=\"text_2\">\n",
       "      <!-- 0.2 -->\n",
       "      <g transform=\"translate(116.711562 289.587039) scale(0.1 -0.1)\">\n",
       "       <defs>\n",
       "        <path id=\"Newsreader-Regular-32\" d=\"M 2736 426 \n",
       "L 3181 1245 \n",
       "L 3398 1245 \n",
       "L 3187 -118 \n",
       "L 3018 -118 \n",
       "L 2723 0 \n",
       "L 403 0 \n",
       "L 403 202 \n",
       "L 1683 1629 \n",
       "Q 1997 1981 2174 2246 \n",
       "Q 2352 2512 2424 2721 \n",
       "Q 2496 2931 2496 3120 \n",
       "Q 2496 3510 2280 3731 \n",
       "Q 2064 3952 1680 3952 \n",
       "Q 1421 3952 1208 3864 \n",
       "Q 995 3776 836 3566 \n",
       "Q 678 3357 582 2992 \n",
       "L 314 3037 \n",
       "Q 464 3734 861 4083 \n",
       "Q 1258 4432 1859 4432 \n",
       "Q 2221 4432 2496 4288 \n",
       "Q 2771 4144 2924 3881 \n",
       "Q 3078 3619 3078 3258 \n",
       "Q 3078 3059 3033 2875 \n",
       "Q 2989 2691 2875 2489 \n",
       "Q 2762 2288 2555 2041 \n",
       "Q 2349 1795 2026 1472 \n",
       "L 742 205 \n",
       "L 832 512 \n",
       "L 2947 512 \n",
       "L 2736 426 \n",
       "z\n",
       "\" transform=\"scale(0.015625)\"/>\n",
       "       </defs>\n",
       "       <use xlink:href=\"#Newsreader-Regular-30\"/>\n",
       "       <use xlink:href=\"#Newsreader-Regular-2e\" x=\"58.350006\"/>\n",
       "       <use xlink:href=\"#Newsreader-Regular-32\" x=\"82.300003\"/>\n",
       "      </g>\n",
       "     </g>\n",
       "    </g>\n",
       "    <g id=\"xtick_3\">\n",
       "     <g id=\"line2d_3\">\n",
       "      <g>\n",
       "       <use xlink:href=\"#mbdd9b1e854\" x=\"213.449687\" y=\"275.382352\" style=\"stroke: #000000; stroke-width: 0.8\"/>\n",
       "      </g>\n",
       "     </g>\n",
       "     <g id=\"text_3\">\n",
       "      <!-- 0.4 -->\n",
       "      <g transform=\"translate(206.417656 289.587039) scale(0.1 -0.1)\">\n",
       "       <defs>\n",
       "        <path id=\"Newsreader-Regular-34\" d=\"M 2587 4410 \n",
       "L 2587 352 \n",
       "L 3182 186 \n",
       "L 3182 0 \n",
       "L 1403 0 \n",
       "L 1403 186 \n",
       "L 2043 352 \n",
       "L 2043 3971 \n",
       "L 2302 4070 \n",
       "L 494 1654 \n",
       "L 408 1798 \n",
       "L 3016 1798 \n",
       "L 3646 1891 \n",
       "L 3467 1325 \n",
       "L 72 1325 \n",
       "L 72 1578 \n",
       "L 2104 4410 \n",
       "L 2587 4410 \n",
       "z\n",
       "\" transform=\"scale(0.015625)\"/>\n",
       "       </defs>\n",
       "       <use xlink:href=\"#Newsreader-Regular-30\"/>\n",
       "       <use xlink:href=\"#Newsreader-Regular-2e\" x=\"58.350006\"/>\n",
       "       <use xlink:href=\"#Newsreader-Regular-34\" x=\"82.300003\"/>\n",
       "      </g>\n",
       "     </g>\n",
       "    </g>\n",
       "    <g id=\"xtick_4\">\n",
       "     <g id=\"line2d_4\">\n",
       "      <g>\n",
       "       <use xlink:href=\"#mbdd9b1e854\" x=\"303.155781\" y=\"275.382352\" style=\"stroke: #000000; stroke-width: 0.8\"/>\n",
       "      </g>\n",
       "     </g>\n",
       "     <g id=\"text_4\">\n",
       "      <!-- 0.6 -->\n",
       "      <g transform=\"translate(296.12375 289.587039) scale(0.1 -0.1)\">\n",
       "       <defs>\n",
       "        <path id=\"Newsreader-Regular-36\" d=\"M 2920 4522 \n",
       "L 3048 4282 \n",
       "Q 2594 4138 2253 3960 \n",
       "Q 1912 3782 1670 3564 \n",
       "Q 1429 3347 1277 3076 \n",
       "Q 1125 2806 1054 2478 \n",
       "Q 984 2150 984 1750 \n",
       "Q 984 1306 1089 970 \n",
       "Q 1195 634 1411 446 \n",
       "Q 1627 259 1954 259 \n",
       "Q 2248 259 2449 377 \n",
       "Q 2651 496 2756 713 \n",
       "Q 2862 931 2862 1232 \n",
       "Q 2862 1696 2644 1936 \n",
       "Q 2427 2176 2021 2176 \n",
       "Q 1861 2176 1707 2141 \n",
       "Q 1554 2106 1410 2037 \n",
       "Q 1266 1968 1144 1869 \n",
       "Q 1022 1770 926 1645 \n",
       "L 786 1696 \n",
       "Q 958 1933 1131 2101 \n",
       "Q 1304 2269 1481 2373 \n",
       "Q 1659 2477 1841 2526 \n",
       "Q 2024 2576 2216 2576 \n",
       "Q 2552 2576 2816 2443 \n",
       "Q 3080 2310 3230 2046 \n",
       "Q 3381 1782 3381 1389 \n",
       "Q 3381 966 3203 638 \n",
       "Q 3026 310 2699 123 \n",
       "Q 2373 -64 1931 -64 \n",
       "Q 1445 -64 1110 169 \n",
       "Q 776 403 603 804 \n",
       "Q 430 1206 430 1709 \n",
       "Q 430 2090 508 2432 \n",
       "Q 587 2774 761 3075 \n",
       "Q 936 3376 1224 3635 \n",
       "Q 1512 3894 1931 4116 \n",
       "Q 2350 4339 2920 4522 \n",
       "z\n",
       "\" transform=\"scale(0.015625)\"/>\n",
       "       </defs>\n",
       "       <use xlink:href=\"#Newsreader-Regular-30\"/>\n",
       "       <use xlink:href=\"#Newsreader-Regular-2e\" x=\"58.350006\"/>\n",
       "       <use xlink:href=\"#Newsreader-Regular-36\" x=\"82.300003\"/>\n",
       "      </g>\n",
       "     </g>\n",
       "    </g>\n",
       "    <g id=\"xtick_5\">\n",
       "     <g id=\"line2d_5\">\n",
       "      <g>\n",
       "       <use xlink:href=\"#mbdd9b1e854\" x=\"392.861875\" y=\"275.382352\" style=\"stroke: #000000; stroke-width: 0.8\"/>\n",
       "      </g>\n",
       "     </g>\n",
       "     <g id=\"text_5\">\n",
       "      <!-- 0.8 -->\n",
       "      <g transform=\"translate(385.829844 289.587039) scale(0.1 -0.1)\">\n",
       "       <defs>\n",
       "        <path id=\"Newsreader-Regular-38\" d=\"M 1941 4432 \n",
       "Q 2350 4432 2630 4299 \n",
       "Q 2910 4166 3054 3936 \n",
       "Q 3198 3706 3198 3405 \n",
       "Q 3198 3002 2897 2717 \n",
       "Q 2597 2432 2027 2323 \n",
       "L 1867 2419 \n",
       "Q 2293 2557 2496 2779 \n",
       "Q 2699 3002 2699 3357 \n",
       "Q 2699 3574 2611 3745 \n",
       "Q 2523 3917 2347 4014 \n",
       "Q 2171 4112 1906 4112 \n",
       "Q 1509 4112 1285 3910 \n",
       "Q 1061 3709 1061 3402 \n",
       "Q 1061 3142 1185 2980 \n",
       "Q 1310 2819 1515 2715 \n",
       "Q 1720 2611 1965 2529 \n",
       "Q 2210 2448 2456 2353 \n",
       "Q 2702 2259 2907 2116 \n",
       "Q 3112 1974 3237 1745 \n",
       "Q 3362 1517 3362 1168 \n",
       "Q 3362 784 3162 507 \n",
       "Q 2962 230 2626 83 \n",
       "Q 2290 -64 1874 -64 \n",
       "Q 1422 -64 1081 69 \n",
       "Q 741 202 553 454 \n",
       "Q 366 707 366 1059 \n",
       "Q 366 1318 467 1520 \n",
       "Q 568 1722 749 1872 \n",
       "Q 930 2022 1168 2124 \n",
       "Q 1406 2227 1685 2285 \n",
       "L 1787 2166 \n",
       "Q 1474 2064 1280 1923 \n",
       "Q 1086 1782 998 1582 \n",
       "Q 910 1382 910 1101 \n",
       "Q 910 842 1027 650 \n",
       "Q 1144 458 1361 354 \n",
       "Q 1579 250 1880 250 \n",
       "Q 2197 250 2409 355 \n",
       "Q 2622 461 2732 646 \n",
       "Q 2843 832 2843 1069 \n",
       "Q 2843 1328 2718 1494 \n",
       "Q 2594 1661 2390 1769 \n",
       "Q 2187 1878 1944 1963 \n",
       "Q 1701 2048 1456 2142 \n",
       "Q 1211 2237 1006 2376 \n",
       "Q 802 2515 678 2734 \n",
       "Q 555 2954 555 3286 \n",
       "Q 555 3613 723 3872 \n",
       "Q 891 4131 1201 4281 \n",
       "Q 1512 4432 1941 4432 \n",
       "z\n",
       "\" transform=\"scale(0.015625)\"/>\n",
       "       </defs>\n",
       "       <use xlink:href=\"#Newsreader-Regular-30\"/>\n",
       "       <use xlink:href=\"#Newsreader-Regular-2e\" x=\"58.350006\"/>\n",
       "       <use xlink:href=\"#Newsreader-Regular-38\" x=\"82.300003\"/>\n",
       "      </g>\n",
       "     </g>\n",
       "    </g>\n",
       "    <g id=\"xtick_6\">\n",
       "     <g id=\"line2d_6\">\n",
       "      <g>\n",
       "       <use xlink:href=\"#mbdd9b1e854\" x=\"482.567969\" y=\"275.382352\" style=\"stroke: #000000; stroke-width: 0.8\"/>\n",
       "      </g>\n",
       "     </g>\n",
       "     <g id=\"text_6\">\n",
       "      <!-- 1.0 -->\n",
       "      <g transform=\"translate(475.535937 289.587039) scale(0.1 -0.1)\">\n",
       "       <defs>\n",
       "        <path id=\"Newsreader-Regular-31\" d=\"M 1843 378 \n",
       "L 1843 4070 \n",
       "L 2010 3818 \n",
       "L 618 3392 \n",
       "L 538 3626 \n",
       "L 2173 4432 \n",
       "L 2390 4432 \n",
       "L 2390 378 \n",
       "L 3315 202 \n",
       "L 3315 0 \n",
       "L 867 0 \n",
       "L 867 202 \n",
       "L 1843 378 \n",
       "z\n",
       "\" transform=\"scale(0.015625)\"/>\n",
       "       </defs>\n",
       "       <use xlink:href=\"#Newsreader-Regular-31\"/>\n",
       "       <use xlink:href=\"#Newsreader-Regular-2e\" x=\"58.350006\"/>\n",
       "       <use xlink:href=\"#Newsreader-Regular-30\" x=\"82.300003\"/>\n",
       "      </g>\n",
       "     </g>\n",
       "    </g>\n",
       "    <g id=\"text_7\">\n",
       "     <!-- Probability of Treatment Given Instrument -->\n",
       "     <g transform=\"translate(123.164453 306.114227) scale(0.14 -0.14)\">\n",
       "      <defs>\n",
       "       <path id=\"Newsreader-Regular-50\" d=\"M 3226 3110 \n",
       "Q 3226 3398 3107 3598 \n",
       "Q 2989 3798 2707 3899 \n",
       "Q 2426 4000 1936 4000 \n",
       "L 925 4000 \n",
       "L 954 4368 \n",
       "L 2189 4368 \n",
       "Q 2784 4368 3144 4209 \n",
       "Q 3504 4051 3665 3772 \n",
       "Q 3827 3494 3827 3139 \n",
       "Q 3827 2778 3664 2485 \n",
       "Q 3501 2192 3147 2017 \n",
       "Q 2794 1843 2224 1843 \n",
       "L 954 1843 \n",
       "L 925 2211 \n",
       "L 2266 2211 \n",
       "Q 2550 2211 2766 2310 \n",
       "Q 2982 2410 3104 2610 \n",
       "Q 3226 2810 3226 3110 \n",
       "z\n",
       "M 1418 4368 \n",
       "L 1418 355 \n",
       "L 1965 195 \n",
       "L 1965 0 \n",
       "L 298 0 \n",
       "L 298 195 \n",
       "L 845 355 \n",
       "L 845 4013 \n",
       "L 298 4170 \n",
       "L 298 4368 \n",
       "L 1418 4368 \n",
       "z\n",
       "\" transform=\"scale(0.015625)\"/>\n",
       "       <path id=\"Newsreader-Regular-72\" d=\"M 2205 2957 \n",
       "Q 2365 2957 2446 2875 \n",
       "Q 2528 2794 2528 2653 \n",
       "Q 2528 2490 2448 2395 \n",
       "Q 2368 2301 2240 2301 \n",
       "Q 2141 2301 2043 2321 \n",
       "Q 1946 2342 1845 2361 \n",
       "Q 1744 2381 1632 2381 \n",
       "Q 1558 2381 1473 2365 \n",
       "Q 1389 2349 1305 2313 \n",
       "Q 1222 2278 1146 2224 \n",
       "L 1066 2336 \n",
       "Q 1283 2512 1454 2630 \n",
       "Q 1626 2749 1760 2821 \n",
       "Q 1894 2893 2004 2925 \n",
       "Q 2115 2957 2205 2957 \n",
       "z\n",
       "M 1232 2355 \n",
       "L 1232 326 \n",
       "L 1763 182 \n",
       "L 1763 0 \n",
       "L 208 0 \n",
       "L 208 182 \n",
       "L 710 326 \n",
       "L 710 2259 \n",
       "Q 669 2298 593 2341 \n",
       "Q 518 2384 419 2432 \n",
       "Q 320 2480 202 2531 \n",
       "L 202 2627 \n",
       "L 1066 2979 \n",
       "L 1152 2979 \n",
       "L 1232 2355 \n",
       "z\n",
       "\" transform=\"scale(0.015625)\"/>\n",
       "       <path id=\"Newsreader-Regular-6f\" d=\"M 1747 259 \n",
       "Q 2026 259 2232 379 \n",
       "Q 2438 499 2552 745 \n",
       "Q 2666 992 2666 1379 \n",
       "Q 2666 1795 2558 2078 \n",
       "Q 2451 2362 2248 2506 \n",
       "Q 2045 2650 1757 2650 \n",
       "Q 1478 2650 1272 2531 \n",
       "Q 1066 2413 952 2165 \n",
       "Q 838 1917 838 1533 \n",
       "Q 838 1117 945 833 \n",
       "Q 1053 550 1257 404 \n",
       "Q 1462 259 1747 259 \n",
       "z\n",
       "M 1738 -64 \n",
       "Q 1293 -64 963 125 \n",
       "Q 634 314 451 651 \n",
       "Q 269 989 269 1434 \n",
       "Q 269 1888 459 2235 \n",
       "Q 650 2582 987 2777 \n",
       "Q 1325 2973 1766 2973 \n",
       "Q 2211 2973 2540 2785 \n",
       "Q 2870 2598 3052 2260 \n",
       "Q 3235 1923 3235 1475 \n",
       "Q 3235 1021 3044 673 \n",
       "Q 2854 326 2516 131 \n",
       "Q 2179 -64 1738 -64 \n",
       "z\n",
       "\" transform=\"scale(0.015625)\"/>\n",
       "       <path id=\"Newsreader-Regular-62\" d=\"M 803 371 \n",
       "L 1094 371 \n",
       "L 608 -35 \n",
       "L 394 -10 \n",
       "L 515 758 \n",
       "L 515 3939 \n",
       "Q 474 3978 389 4026 \n",
       "Q 304 4074 192 4126 \n",
       "Q 80 4179 -45 4230 \n",
       "L -45 4355 \n",
       "L 992 4611 \n",
       "L 1082 4611 \n",
       "L 1037 4048 \n",
       "L 1037 970 \n",
       "Q 1037 752 1133 593 \n",
       "Q 1229 435 1413 348 \n",
       "Q 1597 262 1856 262 \n",
       "Q 2147 262 2353 404 \n",
       "Q 2560 547 2670 817 \n",
       "Q 2781 1088 2781 1462 \n",
       "Q 2781 1818 2664 2061 \n",
       "Q 2547 2304 2331 2429 \n",
       "Q 2115 2554 1818 2554 \n",
       "Q 1626 2554 1448 2522 \n",
       "Q 1270 2490 1108 2426 \n",
       "Q 947 2362 806 2269 \n",
       "L 806 2531 \n",
       "Q 1021 2653 1200 2736 \n",
       "Q 1379 2819 1528 2872 \n",
       "Q 1677 2925 1806 2949 \n",
       "Q 1936 2973 2045 2973 \n",
       "Q 2474 2973 2770 2801 \n",
       "Q 3066 2630 3218 2320 \n",
       "Q 3370 2010 3370 1590 \n",
       "Q 3370 1213 3256 907 \n",
       "Q 3142 602 2932 384 \n",
       "Q 2723 166 2438 49 \n",
       "Q 2154 -67 1811 -67 \n",
       "Q 1619 -67 1446 -20 \n",
       "Q 1274 26 1115 122 \n",
       "Q 957 218 803 371 \n",
       "z\n",
       "\" transform=\"scale(0.015625)\"/>\n",
       "       <path id=\"Newsreader-Regular-61\" d=\"M 2246 1862 \n",
       "L 2230 1571 \n",
       "Q 1795 1491 1526 1408 \n",
       "Q 1258 1325 1112 1233 \n",
       "Q 966 1142 912 1036 \n",
       "Q 858 931 858 800 \n",
       "Q 858 576 992 459 \n",
       "Q 1126 342 1350 342 \n",
       "Q 1523 342 1665 419 \n",
       "Q 1808 496 1893 622 \n",
       "Q 1978 749 1978 902 \n",
       "L 1978 2054 \n",
       "Q 1978 2330 1848 2477 \n",
       "Q 1718 2624 1398 2624 \n",
       "Q 1267 2624 1129 2598 \n",
       "Q 992 2573 864 2522 \n",
       "L 1056 2698 \n",
       "Q 1037 2592 1016 2499 \n",
       "Q 995 2406 969 2332 \n",
       "Q 944 2259 909 2205 \n",
       "Q 854 2128 774 2101 \n",
       "Q 694 2074 602 2074 \n",
       "Q 470 2074 396 2130 \n",
       "Q 323 2186 323 2266 \n",
       "Q 323 2371 427 2489 \n",
       "Q 531 2608 707 2713 \n",
       "Q 883 2819 1112 2886 \n",
       "Q 1341 2954 1590 2954 \n",
       "Q 1920 2954 2120 2858 \n",
       "Q 2320 2762 2409 2578 \n",
       "Q 2499 2394 2499 2134 \n",
       "L 2499 653 \n",
       "Q 2499 544 2532 473 \n",
       "Q 2566 403 2630 369 \n",
       "Q 2694 336 2790 336 \n",
       "Q 2864 336 2949 358 \n",
       "Q 3034 381 3117 419 \n",
       "L 3117 227 \n",
       "Q 2976 83 2819 14 \n",
       "Q 2662 -54 2525 -54 \n",
       "Q 2355 -54 2235 24 \n",
       "Q 2115 102 2051 256 \n",
       "Q 1987 410 1981 634 \n",
       "L 2003 656 \n",
       "Q 1962 442 1840 278 \n",
       "Q 1718 115 1537 25 \n",
       "Q 1357 -64 1136 -64 \n",
       "Q 758 -64 531 133 \n",
       "Q 304 330 304 694 \n",
       "Q 304 896 384 1059 \n",
       "Q 464 1222 673 1360 \n",
       "Q 883 1498 1264 1621 \n",
       "Q 1645 1744 2246 1862 \n",
       "z\n",
       "\" transform=\"scale(0.015625)\"/>\n",
       "       <path id=\"Newsreader-Regular-69\" d=\"M 934 3811 \n",
       "Q 746 3811 627 3921 \n",
       "Q 509 4032 509 4211 \n",
       "Q 509 4390 627 4500 \n",
       "Q 746 4611 934 4611 \n",
       "Q 1123 4611 1241 4500 \n",
       "Q 1360 4390 1360 4211 \n",
       "Q 1360 4032 1241 3921 \n",
       "Q 1123 3811 934 3811 \n",
       "z\n",
       "M 1267 2973 \n",
       "L 1238 2390 \n",
       "L 1238 326 \n",
       "L 1738 182 \n",
       "L 1738 0 \n",
       "L 214 0 \n",
       "L 214 182 \n",
       "L 717 326 \n",
       "L 717 2307 \n",
       "Q 682 2339 598 2387 \n",
       "Q 515 2435 411 2484 \n",
       "Q 307 2534 208 2570 \n",
       "L 208 2701 \n",
       "L 1168 2973 \n",
       "L 1267 2973 \n",
       "z\n",
       "\" transform=\"scale(0.015625)\"/>\n",
       "       <path id=\"Newsreader-Regular-6c\" d=\"M 1165 326 \n",
       "L 1664 182 \n",
       "L 1664 0 \n",
       "L 138 0 \n",
       "L 138 182 \n",
       "L 640 326 \n",
       "L 640 3939 \n",
       "Q 598 3978 515 4026 \n",
       "Q 432 4074 318 4126 \n",
       "Q 205 4179 80 4230 \n",
       "L 80 4355 \n",
       "L 1120 4611 \n",
       "L 1206 4611 \n",
       "L 1165 4048 \n",
       "L 1165 326 \n",
       "z\n",
       "\" transform=\"scale(0.015625)\"/>\n",
       "       <path id=\"Newsreader-Regular-74\" d=\"M 1110 845 \n",
       "Q 1110 605 1248 496 \n",
       "Q 1386 387 1654 387 \n",
       "Q 1776 387 1918 411 \n",
       "Q 2061 435 2227 483 \n",
       "L 2227 291 \n",
       "Q 2019 157 1862 80 \n",
       "Q 1706 3 1581 -25 \n",
       "Q 1456 -54 1341 -54 \n",
       "Q 1120 -54 950 24 \n",
       "Q 781 102 683 260 \n",
       "Q 586 419 586 653 \n",
       "L 586 2454 \n",
       "L 150 2672 \n",
       "L 150 2781 \n",
       "Q 262 2835 355 2888 \n",
       "Q 448 2941 526 2997 \n",
       "Q 605 3053 675 3115 \n",
       "Q 746 3178 816 3248 \n",
       "Q 886 3318 957 3402 \n",
       "L 1110 3402 \n",
       "L 1110 2810 \n",
       "L 1110 845 \n",
       "z\n",
       "M 906 2547 \n",
       "L 912 2909 \n",
       "L 2144 2909 \n",
       "L 2109 2547 \n",
       "L 906 2547 \n",
       "z\n",
       "\" transform=\"scale(0.015625)\"/>\n",
       "       <path id=\"Newsreader-Regular-79\" d=\"M 2054 461 \n",
       "L 1734 -99 \n",
       "L 483 2563 \n",
       "L 51 2720 \n",
       "L 51 2909 \n",
       "L 1507 2909 \n",
       "L 1507 2720 \n",
       "L 1059 2582 \n",
       "L 2054 461 \n",
       "z\n",
       "M 797 -1626 \n",
       "Q 592 -1626 469 -1523 \n",
       "Q 346 -1421 346 -1242 \n",
       "Q 346 -1152 379 -1086 \n",
       "Q 413 -1021 465 -982 \n",
       "Q 518 -944 573 -944 \n",
       "Q 634 -944 706 -969 \n",
       "Q 778 -995 859 -1022 \n",
       "Q 941 -1050 1014 -1050 \n",
       "Q 1110 -1050 1190 -1005 \n",
       "Q 1270 -960 1345 -853 \n",
       "Q 1421 -746 1501 -560 \n",
       "L 1792 166 \n",
       "L 1914 477 \n",
       "L 2714 2598 \n",
       "L 2269 2720 \n",
       "L 2269 2909 \n",
       "L 3424 2909 \n",
       "L 3424 2720 \n",
       "L 3066 2605 \n",
       "L 1757 -666 \n",
       "Q 1613 -1027 1472 -1236 \n",
       "Q 1331 -1446 1168 -1536 \n",
       "Q 1005 -1626 797 -1626 \n",
       "z\n",
       "\" transform=\"scale(0.015625)\"/>\n",
       "       <path id=\"Newsreader-Regular-20\" transform=\"scale(0.015625)\"/>\n",
       "       <path id=\"Newsreader-Regular-66\" d=\"M 861 2547 \n",
       "L 730 2470 \n",
       "L 160 2592 \n",
       "L 160 2726 \n",
       "L 774 2934 \n",
       "L 909 2909 \n",
       "L 2246 2909 \n",
       "L 2208 2547 \n",
       "L 861 2547 \n",
       "z\n",
       "M 1251 326 \n",
       "L 1818 182 \n",
       "L 1818 0 \n",
       "L 227 0 \n",
       "L 227 182 \n",
       "L 730 326 \n",
       "L 730 3062 \n",
       "Q 730 3469 859 3761 \n",
       "Q 989 4054 1216 4241 \n",
       "Q 1443 4429 1732 4520 \n",
       "Q 2022 4611 2336 4611 \n",
       "Q 2544 4611 2688 4580 \n",
       "Q 2832 4550 2920 4499 \n",
       "Q 3008 4448 3048 4379 \n",
       "Q 3088 4310 3088 4230 \n",
       "Q 3088 4086 2992 3996 \n",
       "Q 2896 3907 2752 3907 \n",
       "Q 2666 3907 2598 3961 \n",
       "Q 2531 4016 2459 4085 \n",
       "Q 2387 4154 2288 4208 \n",
       "Q 2189 4262 2038 4262 \n",
       "Q 1814 4262 1636 4172 \n",
       "Q 1459 4083 1355 3883 \n",
       "Q 1251 3683 1251 3347 \n",
       "L 1251 326 \n",
       "z\n",
       "\" transform=\"scale(0.015625)\"/>\n",
       "       <path id=\"Newsreader-Regular-54\" d=\"M 1923 4170 \n",
       "L 2499 4170 \n",
       "L 2499 355 \n",
       "L 3066 195 \n",
       "L 3066 0 \n",
       "L 1357 0 \n",
       "L 1357 195 \n",
       "L 1923 355 \n",
       "L 1923 4170 \n",
       "z\n",
       "M 3843 4000 \n",
       "L 579 4000 \n",
       "L 835 4080 \n",
       "L 416 3101 \n",
       "L 157 3120 \n",
       "L 323 4608 \n",
       "L 483 4608 \n",
       "L 867 4307 \n",
       "L 547 4368 \n",
       "L 3875 4368 \n",
       "L 3555 4307 \n",
       "L 3939 4608 \n",
       "L 4099 4608 \n",
       "L 4266 3120 \n",
       "L 4006 3101 \n",
       "L 3587 4080 \n",
       "L 3843 4000 \n",
       "z\n",
       "\" transform=\"scale(0.015625)\"/>\n",
       "       <path id=\"Newsreader-Regular-65\" d=\"M 1645 2973 \n",
       "Q 2026 2973 2280 2813 \n",
       "Q 2534 2653 2672 2344 \n",
       "Q 2810 2035 2832 1587 \n",
       "L 704 1587 \n",
       "L 704 1875 \n",
       "L 2470 1926 \n",
       "L 2262 1814 \n",
       "Q 2246 2086 2168 2273 \n",
       "Q 2090 2461 1952 2558 \n",
       "Q 1814 2656 1606 2656 \n",
       "Q 1360 2656 1177 2534 \n",
       "Q 995 2413 896 2173 \n",
       "Q 797 1933 797 1574 \n",
       "Q 797 1187 936 920 \n",
       "Q 1075 653 1334 515 \n",
       "Q 1594 378 1962 378 \n",
       "Q 2112 378 2253 411 \n",
       "Q 2394 445 2526 505 \n",
       "Q 2659 566 2781 650 \n",
       "L 2835 477 \n",
       "Q 2656 301 2467 179 \n",
       "Q 2278 58 2078 -3 \n",
       "Q 1878 -64 1670 -64 \n",
       "Q 1258 -64 942 120 \n",
       "Q 627 304 448 637 \n",
       "Q 269 970 269 1414 \n",
       "Q 269 1862 437 2214 \n",
       "Q 605 2566 913 2769 \n",
       "Q 1222 2973 1645 2973 \n",
       "z\n",
       "\" transform=\"scale(0.015625)\"/>\n",
       "       <path id=\"Newsreader-Regular-6d\" d=\"M 1232 2355 \n",
       "L 1232 326 \n",
       "L 1709 182 \n",
       "L 1709 0 \n",
       "L 208 0 \n",
       "L 208 182 \n",
       "L 710 326 \n",
       "L 710 2259 \n",
       "Q 659 2307 539 2372 \n",
       "Q 419 2438 202 2531 \n",
       "L 202 2627 \n",
       "L 1024 2979 \n",
       "L 1107 2979 \n",
       "L 1232 2355 \n",
       "z\n",
       "M 3094 2150 \n",
       "L 3094 326 \n",
       "L 3571 182 \n",
       "L 3571 0 \n",
       "L 2093 0 \n",
       "L 2093 182 \n",
       "L 2573 326 \n",
       "L 2573 1936 \n",
       "Q 2573 2122 2499 2240 \n",
       "Q 2426 2358 2286 2416 \n",
       "Q 2147 2474 1946 2474 \n",
       "Q 1731 2474 1521 2405 \n",
       "Q 1312 2336 1200 2230 \n",
       "L 1104 2358 \n",
       "Q 1306 2544 1458 2664 \n",
       "Q 1610 2784 1741 2851 \n",
       "Q 1872 2918 2001 2945 \n",
       "Q 2131 2973 2285 2973 \n",
       "Q 2573 2973 2752 2869 \n",
       "Q 2931 2765 3012 2579 \n",
       "Q 3094 2394 3094 2150 \n",
       "z\n",
       "M 4957 2013 \n",
       "L 4957 326 \n",
       "L 5466 182 \n",
       "L 5466 0 \n",
       "L 3955 0 \n",
       "L 3955 182 \n",
       "L 4435 326 \n",
       "L 4435 1936 \n",
       "Q 4435 2122 4361 2240 \n",
       "Q 4288 2358 4147 2416 \n",
       "Q 4006 2474 3805 2474 \n",
       "Q 3590 2474 3379 2405 \n",
       "Q 3168 2336 3056 2230 \n",
       "L 2960 2358 \n",
       "Q 3162 2544 3315 2664 \n",
       "Q 3469 2784 3600 2851 \n",
       "Q 3731 2918 3860 2945 \n",
       "Q 3990 2973 4147 2973 \n",
       "Q 4573 2973 4765 2726 \n",
       "Q 4957 2480 4957 2013 \n",
       "z\n",
       "\" transform=\"scale(0.015625)\"/>\n",
       "       <path id=\"Newsreader-Regular-6e\" d=\"M 1232 2355 \n",
       "L 1232 326 \n",
       "L 1731 182 \n",
       "L 1731 0 \n",
       "L 208 0 \n",
       "L 208 182 \n",
       "L 710 326 \n",
       "L 710 2259 \n",
       "Q 659 2307 539 2372 \n",
       "Q 419 2438 202 2531 \n",
       "L 202 2627 \n",
       "L 1024 2979 \n",
       "L 1107 2979 \n",
       "L 1232 2355 \n",
       "z\n",
       "M 2208 182 \n",
       "L 2707 326 \n",
       "L 2707 1888 \n",
       "Q 2707 2080 2633 2209 \n",
       "Q 2560 2339 2408 2406 \n",
       "Q 2256 2474 2022 2474 \n",
       "Q 1779 2474 1553 2397 \n",
       "Q 1328 2320 1206 2208 \n",
       "L 1107 2317 \n",
       "Q 1318 2515 1483 2643 \n",
       "Q 1648 2771 1787 2843 \n",
       "Q 1926 2915 2065 2944 \n",
       "Q 2205 2973 2368 2973 \n",
       "Q 2810 2973 3019 2720 \n",
       "Q 3229 2467 3229 1936 \n",
       "L 3229 326 \n",
       "L 3738 182 \n",
       "L 3738 0 \n",
       "L 2208 0 \n",
       "L 2208 182 \n",
       "z\n",
       "\" transform=\"scale(0.015625)\"/>\n",
       "       <path id=\"Newsreader-Regular-47\" d=\"M 4288 608 \n",
       "L 4474 403 \n",
       "L 4474 301 \n",
       "Q 4253 189 3974 107 \n",
       "Q 3696 26 3392 -19 \n",
       "Q 3088 -64 2784 -64 \n",
       "Q 2221 -64 1768 83 \n",
       "Q 1315 230 992 513 \n",
       "Q 669 797 497 1208 \n",
       "Q 326 1619 330 2150 \n",
       "Q 333 2858 630 3370 \n",
       "Q 928 3882 1488 4157 \n",
       "Q 2048 4432 2838 4432 \n",
       "Q 3104 4432 3331 4395 \n",
       "Q 3558 4358 3814 4288 \n",
       "L 3603 4262 \n",
       "L 3968 4566 \n",
       "L 4131 4566 \n",
       "L 4253 3050 \n",
       "L 3990 3030 \n",
       "L 3536 4035 \n",
       "L 3805 3747 \n",
       "Q 3542 3914 3292 3986 \n",
       "Q 3043 4058 2726 4058 \n",
       "Q 2275 4058 1940 3944 \n",
       "Q 1606 3830 1385 3608 \n",
       "Q 1165 3386 1053 3067 \n",
       "Q 941 2749 938 2342 \n",
       "Q 928 1683 1161 1225 \n",
       "Q 1395 768 1812 534 \n",
       "Q 2230 301 2778 301 \n",
       "Q 2989 301 3206 336 \n",
       "Q 3424 371 3609 443 \n",
       "Q 3795 515 3917 618 \n",
       "L 3712 170 \n",
       "L 3712 1632 \n",
       "L 3059 1805 \n",
       "L 3059 2000 \n",
       "L 4726 2000 \n",
       "L 4726 1805 \n",
       "L 4288 1645 \n",
       "L 4288 608 \n",
       "z\n",
       "\" transform=\"scale(0.015625)\"/>\n",
       "       <path id=\"Newsreader-Regular-76\" d=\"M 3078 2605 \n",
       "L 1981 -64 \n",
       "L 1674 -64 \n",
       "L 442 2563 \n",
       "L 10 2720 \n",
       "L 10 2909 \n",
       "L 1466 2909 \n",
       "L 1466 2720 \n",
       "L 1018 2582 \n",
       "L 1990 499 \n",
       "L 1923 499 \n",
       "L 2739 2598 \n",
       "L 2298 2720 \n",
       "L 2298 2909 \n",
       "L 3440 2909 \n",
       "L 3440 2720 \n",
       "L 3078 2605 \n",
       "z\n",
       "\" transform=\"scale(0.015625)\"/>\n",
       "       <path id=\"Newsreader-Regular-49\" d=\"M 1965 195 \n",
       "L 1965 0 \n",
       "L 298 0 \n",
       "L 298 195 \n",
       "L 845 355 \n",
       "L 845 4013 \n",
       "L 298 4170 \n",
       "L 298 4368 \n",
       "L 1965 4368 \n",
       "L 1965 4170 \n",
       "L 1418 4013 \n",
       "L 1418 355 \n",
       "L 1965 195 \n",
       "z\n",
       "\" transform=\"scale(0.015625)\"/>\n",
       "       <path id=\"Newsreader-Regular-73\" d=\"M 1437 2973 \n",
       "Q 1635 2973 1809 2937 \n",
       "Q 1984 2902 2205 2813 \n",
       "L 2269 2026 \n",
       "L 2032 2026 \n",
       "L 1699 2810 \n",
       "L 2016 2512 \n",
       "Q 1859 2602 1712 2646 \n",
       "Q 1565 2691 1418 2691 \n",
       "Q 1123 2691 963 2584 \n",
       "Q 803 2477 803 2278 \n",
       "Q 803 2102 905 2001 \n",
       "Q 1008 1901 1176 1838 \n",
       "Q 1344 1776 1539 1715 \n",
       "Q 1686 1670 1832 1609 \n",
       "Q 1978 1549 2098 1454 \n",
       "Q 2218 1360 2291 1209 \n",
       "Q 2365 1059 2365 835 \n",
       "Q 2365 547 2219 347 \n",
       "Q 2074 147 1810 43 \n",
       "Q 1546 -61 1181 -61 \n",
       "Q 973 -61 773 -27 \n",
       "Q 573 6 413 74 \n",
       "L 269 896 \n",
       "L 522 896 \n",
       "L 938 61 \n",
       "L 544 339 \n",
       "Q 666 288 763 262 \n",
       "Q 861 237 950 229 \n",
       "Q 1040 221 1130 221 \n",
       "Q 1498 221 1694 344 \n",
       "Q 1891 467 1891 717 \n",
       "Q 1891 874 1814 968 \n",
       "Q 1738 1062 1610 1121 \n",
       "Q 1482 1181 1333 1224 \n",
       "Q 1184 1267 1040 1318 \n",
       "Q 851 1386 694 1482 \n",
       "Q 538 1578 445 1739 \n",
       "Q 352 1901 352 2160 \n",
       "Q 352 2422 488 2603 \n",
       "Q 624 2784 869 2878 \n",
       "Q 1114 2973 1437 2973 \n",
       "z\n",
       "\" transform=\"scale(0.015625)\"/>\n",
       "       <path id=\"Newsreader-Regular-75\" d=\"M 1117 979 \n",
       "Q 1117 781 1176 662 \n",
       "Q 1235 544 1372 491 \n",
       "Q 1510 438 1747 438 \n",
       "Q 1965 438 2174 507 \n",
       "Q 2384 576 2499 682 \n",
       "L 2595 554 \n",
       "Q 2397 365 2245 245 \n",
       "Q 2093 125 1965 57 \n",
       "Q 1837 -10 1709 -37 \n",
       "Q 1581 -64 1427 -64 \n",
       "Q 998 -64 796 182 \n",
       "Q 595 429 595 918 \n",
       "L 595 2525 \n",
       "L 96 2726 \n",
       "L 96 2912 \n",
       "L 1162 2954 \n",
       "L 1117 2550 \n",
       "L 1117 979 \n",
       "z\n",
       "M 2573 -54 \n",
       "L 2461 525 \n",
       "L 2461 2525 \n",
       "L 1971 2726 \n",
       "L 1971 2912 \n",
       "L 3030 2954 \n",
       "L 2986 2550 \n",
       "L 2986 554 \n",
       "Q 3014 528 3072 494 \n",
       "Q 3130 461 3198 427 \n",
       "Q 3267 394 3334 366 \n",
       "Q 3402 339 3453 326 \n",
       "L 3453 218 \n",
       "L 2656 -54 \n",
       "L 2573 -54 \n",
       "z\n",
       "\" transform=\"scale(0.015625)\"/>\n",
       "      </defs>\n",
       "      <use xlink:href=\"#Newsreader-Regular-50\"/>\n",
       "      <use xlink:href=\"#Newsreader-Regular-72\" x=\"62.800003\"/>\n",
       "      <use xlink:href=\"#Newsreader-Regular-6f\" x=\"103.850006\"/>\n",
       "      <use xlink:href=\"#Newsreader-Regular-62\" x=\"158.600006\"/>\n",
       "      <use xlink:href=\"#Newsreader-Regular-61\" x=\"215.550018\"/>\n",
       "      <use xlink:href=\"#Newsreader-Regular-62\" x=\"264.250031\"/>\n",
       "      <use xlink:href=\"#Newsreader-Regular-69\" x=\"321.200043\"/>\n",
       "      <use xlink:href=\"#Newsreader-Regular-6c\" x=\"350.500046\"/>\n",
       "      <use xlink:href=\"#Newsreader-Regular-69\" x=\"378.65004\"/>\n",
       "      <use xlink:href=\"#Newsreader-Regular-74\" x=\"407.950043\"/>\n",
       "      <use xlink:href=\"#Newsreader-Regular-79\" x=\"444.100052\"/>\n",
       "      <use xlink:href=\"#Newsreader-Regular-20\" x=\"498.950058\"/>\n",
       "      <use xlink:href=\"#Newsreader-Regular-6f\" x=\"522.600052\"/>\n",
       "      <use xlink:href=\"#Newsreader-Regular-66\" x=\"577.350052\"/>\n",
       "      <use xlink:href=\"#Newsreader-Regular-20\" x=\"613.950058\"/>\n",
       "      <use xlink:href=\"#Newsreader-Regular-54\" x=\"637.600052\"/>\n",
       "      <use xlink:href=\"#Newsreader-Regular-72\" x=\"706.700058\"/>\n",
       "      <use xlink:href=\"#Newsreader-Regular-65\" x=\"747.750061\"/>\n",
       "      <use xlink:href=\"#Newsreader-Regular-61\" x=\"796.100067\"/>\n",
       "      <use xlink:href=\"#Newsreader-Regular-74\" x=\"844.800079\"/>\n",
       "      <use xlink:href=\"#Newsreader-Regular-6d\" x=\"880.950089\"/>\n",
       "      <use xlink:href=\"#Newsreader-Regular-65\" x=\"967.750107\"/>\n",
       "      <use xlink:href=\"#Newsreader-Regular-6e\" x=\"1016.100113\"/>\n",
       "      <use xlink:href=\"#Newsreader-Regular-74\" x=\"1075.900116\"/>\n",
       "      <use xlink:href=\"#Newsreader-Regular-20\" x=\"1112.050125\"/>\n",
       "      <use xlink:href=\"#Newsreader-Regular-47\" x=\"1135.700119\"/>\n",
       "      <use xlink:href=\"#Newsreader-Regular-69\" x=\"1212.750137\"/>\n",
       "      <use xlink:href=\"#Newsreader-Regular-76\" x=\"1242.05014\"/>\n",
       "      <use xlink:href=\"#Newsreader-Regular-65\" x=\"1297.70015\"/>\n",
       "      <use xlink:href=\"#Newsreader-Regular-6e\" x=\"1346.050156\"/>\n",
       "      <use xlink:href=\"#Newsreader-Regular-20\" x=\"1405.850159\"/>\n",
       "      <use xlink:href=\"#Newsreader-Regular-49\" x=\"1429.500153\"/>\n",
       "      <use xlink:href=\"#Newsreader-Regular-6e\" x=\"1464.850159\"/>\n",
       "      <use xlink:href=\"#Newsreader-Regular-73\" x=\"1524.650162\"/>\n",
       "      <use xlink:href=\"#Newsreader-Regular-74\" x=\"1566.100159\"/>\n",
       "      <use xlink:href=\"#Newsreader-Regular-72\" x=\"1602.250168\"/>\n",
       "      <use xlink:href=\"#Newsreader-Regular-75\" x=\"1643.300171\"/>\n",
       "      <use xlink:href=\"#Newsreader-Regular-6d\" x=\"1699.45018\"/>\n",
       "      <use xlink:href=\"#Newsreader-Regular-65\" x=\"1786.250198\"/>\n",
       "      <use xlink:href=\"#Newsreader-Regular-6e\" x=\"1834.600204\"/>\n",
       "      <use xlink:href=\"#Newsreader-Regular-74\" x=\"1894.400208\"/>\n",
       "     </g>\n",
       "    </g>\n",
       "   </g>\n",
       "   <g id=\"matplotlib.axis_2\">\n",
       "    <g id=\"ytick_1\">\n",
       "     <g id=\"line2d_7\">\n",
       "      <path d=\"M 34.0375 275.382352 \n",
       "L 482.567969 275.382352 \n",
       "\" clip-path=\"url(#pdeea7447e9)\" style=\"fill: none; stroke: #ffffff; stroke-width: 2; stroke-linecap: square\"/>\n",
       "     </g>\n",
       "     <g id=\"line2d_8\"/>\n",
       "     <g id=\"text_8\">\n",
       "      <!-- 0 -->\n",
       "      <g transform=\"translate(24.703125 278.984696) scale(0.1 -0.1)\">\n",
       "       <use xlink:href=\"#Newsreader-Regular-30\"/>\n",
       "      </g>\n",
       "     </g>\n",
       "    </g>\n",
       "    <g id=\"ytick_2\">\n",
       "     <g id=\"line2d_9\">\n",
       "      <path d=\"M 34.0375 230.084269 \n",
       "L 482.567969 230.084269 \n",
       "\" clip-path=\"url(#pdeea7447e9)\" style=\"fill: none; stroke: #ffffff; stroke-width: 2; stroke-linecap: square\"/>\n",
       "     </g>\n",
       "     <g id=\"line2d_10\"/>\n",
       "     <g id=\"text_9\">\n",
       "      <!-- 200 -->\n",
       "      <g transform=\"translate(13.034375 233.686613) scale(0.1 -0.1)\">\n",
       "       <use xlink:href=\"#Newsreader-Regular-32\"/>\n",
       "       <use xlink:href=\"#Newsreader-Regular-30\" x=\"58.350006\"/>\n",
       "       <use xlink:href=\"#Newsreader-Regular-30\" x=\"116.700012\"/>\n",
       "      </g>\n",
       "     </g>\n",
       "    </g>\n",
       "    <g id=\"ytick_3\">\n",
       "     <g id=\"line2d_11\">\n",
       "      <path d=\"M 34.0375 184.786187 \n",
       "L 482.567969 184.786187 \n",
       "\" clip-path=\"url(#pdeea7447e9)\" style=\"fill: none; stroke: #ffffff; stroke-width: 2; stroke-linecap: square\"/>\n",
       "     </g>\n",
       "     <g id=\"line2d_12\"/>\n",
       "     <g id=\"text_10\">\n",
       "      <!-- 400 -->\n",
       "      <g transform=\"translate(13.034375 188.388531) scale(0.1 -0.1)\">\n",
       "       <use xlink:href=\"#Newsreader-Regular-34\"/>\n",
       "       <use xlink:href=\"#Newsreader-Regular-30\" x=\"58.350006\"/>\n",
       "       <use xlink:href=\"#Newsreader-Regular-30\" x=\"116.700012\"/>\n",
       "      </g>\n",
       "     </g>\n",
       "    </g>\n",
       "    <g id=\"ytick_4\">\n",
       "     <g id=\"line2d_13\">\n",
       "      <path d=\"M 34.0375 139.488105 \n",
       "L 482.567969 139.488105 \n",
       "\" clip-path=\"url(#pdeea7447e9)\" style=\"fill: none; stroke: #ffffff; stroke-width: 2; stroke-linecap: square\"/>\n",
       "     </g>\n",
       "     <g id=\"line2d_14\"/>\n",
       "     <g id=\"text_11\">\n",
       "      <!-- 600 -->\n",
       "      <g transform=\"translate(13.034375 143.090449) scale(0.1 -0.1)\">\n",
       "       <use xlink:href=\"#Newsreader-Regular-36\"/>\n",
       "       <use xlink:href=\"#Newsreader-Regular-30\" x=\"58.350006\"/>\n",
       "       <use xlink:href=\"#Newsreader-Regular-30\" x=\"116.700012\"/>\n",
       "      </g>\n",
       "     </g>\n",
       "    </g>\n",
       "    <g id=\"ytick_5\">\n",
       "     <g id=\"line2d_15\">\n",
       "      <path d=\"M 34.0375 94.190023 \n",
       "L 482.567969 94.190023 \n",
       "\" clip-path=\"url(#pdeea7447e9)\" style=\"fill: none; stroke: #ffffff; stroke-width: 2; stroke-linecap: square\"/>\n",
       "     </g>\n",
       "     <g id=\"line2d_16\"/>\n",
       "     <g id=\"text_12\">\n",
       "      <!-- 800 -->\n",
       "      <g transform=\"translate(13.034375 97.792366) scale(0.1 -0.1)\">\n",
       "       <use xlink:href=\"#Newsreader-Regular-38\"/>\n",
       "       <use xlink:href=\"#Newsreader-Regular-30\" x=\"58.350006\"/>\n",
       "       <use xlink:href=\"#Newsreader-Regular-30\" x=\"116.700012\"/>\n",
       "      </g>\n",
       "     </g>\n",
       "    </g>\n",
       "    <g id=\"ytick_6\">\n",
       "     <g id=\"line2d_17\">\n",
       "      <path d=\"M 34.0375 48.89194 \n",
       "L 482.567969 48.89194 \n",
       "\" clip-path=\"url(#pdeea7447e9)\" style=\"fill: none; stroke: #ffffff; stroke-width: 2; stroke-linecap: square\"/>\n",
       "     </g>\n",
       "     <g id=\"line2d_18\"/>\n",
       "     <g id=\"text_13\">\n",
       "      <!-- 1000 -->\n",
       "      <g transform=\"translate(7.2 52.494284) scale(0.1 -0.1)\">\n",
       "       <use xlink:href=\"#Newsreader-Regular-31\"/>\n",
       "       <use xlink:href=\"#Newsreader-Regular-30\" x=\"58.350006\"/>\n",
       "       <use xlink:href=\"#Newsreader-Regular-30\" x=\"116.700012\"/>\n",
       "       <use xlink:href=\"#Newsreader-Regular-30\" x=\"175.050018\"/>\n",
       "      </g>\n",
       "     </g>\n",
       "    </g>\n",
       "   </g>\n",
       "   <g id=\"patch_3\">\n",
       "    <path d=\"M 34.0375 275.382352 \n",
       "L 78.890547 275.382352 \n",
       "L 78.890547 34.396554 \n",
       "L 34.0375 34.396554 \n",
       "z\n",
       "\" clip-path=\"url(#pdeea7447e9)\" style=\"fill: #36454f\"/>\n",
       "   </g>\n",
       "   <g id=\"patch_4\">\n",
       "    <path d=\"M 78.890547 275.382352 \n",
       "L 123.743594 275.382352 \n",
       "L 123.743594 275.382352 \n",
       "L 78.890547 275.382352 \n",
       "z\n",
       "\" clip-path=\"url(#pdeea7447e9)\" style=\"fill: #36454f\"/>\n",
       "   </g>\n",
       "   <g id=\"patch_5\">\n",
       "    <path d=\"M 123.743594 275.382352 \n",
       "L 168.596641 275.382352 \n",
       "L 168.596641 275.382352 \n",
       "L 123.743594 275.382352 \n",
       "z\n",
       "\" clip-path=\"url(#pdeea7447e9)\" style=\"fill: #36454f\"/>\n",
       "   </g>\n",
       "   <g id=\"patch_6\">\n",
       "    <path d=\"M 168.596641 275.382352 \n",
       "L 213.449687 275.382352 \n",
       "L 213.449687 275.382352 \n",
       "L 168.596641 275.382352 \n",
       "z\n",
       "\" clip-path=\"url(#pdeea7447e9)\" style=\"fill: #36454f\"/>\n",
       "   </g>\n",
       "   <g id=\"patch_7\">\n",
       "    <path d=\"M 213.449687 275.382352 \n",
       "L 258.302734 275.382352 \n",
       "L 258.302734 275.382352 \n",
       "L 213.449687 275.382352 \n",
       "z\n",
       "\" clip-path=\"url(#pdeea7447e9)\" style=\"fill: #36454f\"/>\n",
       "   </g>\n",
       "   <g id=\"patch_8\">\n",
       "    <path d=\"M 258.302734 275.382352 \n",
       "L 303.155781 275.382352 \n",
       "L 303.155781 275.382352 \n",
       "L 258.302734 275.382352 \n",
       "z\n",
       "\" clip-path=\"url(#pdeea7447e9)\" style=\"fill: #36454f\"/>\n",
       "   </g>\n",
       "   <g id=\"patch_9\">\n",
       "    <path d=\"M 303.155781 275.382352 \n",
       "L 348.008828 275.382352 \n",
       "L 348.008828 275.382352 \n",
       "L 303.155781 275.382352 \n",
       "z\n",
       "\" clip-path=\"url(#pdeea7447e9)\" style=\"fill: #36454f\"/>\n",
       "   </g>\n",
       "   <g id=\"patch_10\">\n",
       "    <path d=\"M 348.008828 275.382352 \n",
       "L 392.861875 275.382352 \n",
       "L 392.861875 275.382352 \n",
       "L 348.008828 275.382352 \n",
       "z\n",
       "\" clip-path=\"url(#pdeea7447e9)\" style=\"fill: #36454f\"/>\n",
       "   </g>\n",
       "   <g id=\"patch_11\">\n",
       "    <path d=\"M 392.861875 275.382352 \n",
       "L 437.714922 275.382352 \n",
       "L 437.714922 275.382352 \n",
       "L 392.861875 275.382352 \n",
       "z\n",
       "\" clip-path=\"url(#pdeea7447e9)\" style=\"fill: #36454f\"/>\n",
       "   </g>\n",
       "   <g id=\"patch_12\">\n",
       "    <path d=\"M 437.714922 275.382352 \n",
       "L 482.567969 275.382352 \n",
       "L 482.567969 244.579656 \n",
       "L 437.714922 244.579656 \n",
       "z\n",
       "\" clip-path=\"url(#pdeea7447e9)\" style=\"fill: #36454f\"/>\n",
       "   </g>\n",
       "   <g id=\"patch_13\">\n",
       "    <path d=\"M 34.0375 275.382352 \n",
       "L 482.567969 275.382352 \n",
       "\" style=\"fill: none; stroke: #000000; stroke-width: 0.8; stroke-linejoin: miter; stroke-linecap: square\"/>\n",
       "   </g>\n",
       "   <g id=\"text_14\">\n",
       "    <!-- Count -->\n",
       "    <g transform=\"translate(34.0375 17.286563) scale(0.14 -0.14)\">\n",
       "     <defs>\n",
       "      <path id=\"Newsreader-Regular-43\" d=\"M 2810 301 \n",
       "Q 3075 301 3334 345 \n",
       "Q 3594 390 3837 483 \n",
       "L 3590 278 \n",
       "L 4032 1229 \n",
       "L 4288 1229 \n",
       "L 4176 192 \n",
       "Q 3952 83 3577 9 \n",
       "Q 3203 -64 2784 -64 \n",
       "Q 2218 -64 1763 83 \n",
       "Q 1309 230 989 513 \n",
       "Q 669 797 497 1208 \n",
       "Q 326 1619 330 2150 \n",
       "Q 333 2858 633 3370 \n",
       "Q 934 3882 1499 4157 \n",
       "Q 2064 4432 2858 4432 \n",
       "Q 3107 4432 3328 4397 \n",
       "Q 3549 4362 3818 4291 \n",
       "L 3632 4269 \n",
       "L 3987 4566 \n",
       "L 4150 4566 \n",
       "L 4275 3030 \n",
       "L 4013 3011 \n",
       "L 3584 3984 \n",
       "L 3728 3811 \n",
       "Q 3453 3955 3232 4006 \n",
       "Q 3011 4058 2749 4058 \n",
       "Q 2291 4058 1952 3942 \n",
       "Q 1613 3827 1390 3606 \n",
       "Q 1168 3386 1054 3067 \n",
       "Q 941 2749 938 2339 \n",
       "Q 931 1843 1067 1464 \n",
       "Q 1203 1085 1452 825 \n",
       "Q 1702 566 2048 433 \n",
       "Q 2394 301 2810 301 \n",
       "z\n",
       "\" transform=\"scale(0.015625)\"/>\n",
       "     </defs>\n",
       "     <use xlink:href=\"#Newsreader-Regular-43\"/>\n",
       "     <use xlink:href=\"#Newsreader-Regular-6f\" x=\"71.900009\"/>\n",
       "     <use xlink:href=\"#Newsreader-Regular-75\" x=\"126.650009\"/>\n",
       "     <use xlink:href=\"#Newsreader-Regular-6e\" x=\"182.800018\"/>\n",
       "     <use xlink:href=\"#Newsreader-Regular-74\" x=\"242.600021\"/>\n",
       "    </g>\n",
       "   </g>\n",
       "  </g>\n",
       " </g>\n",
       " <defs>\n",
       "  <clipPath id=\"pdeea7447e9\">\n",
       "   <rect x=\"34.0375\" y=\"22.347264\" width=\"448.530469\" height=\"253.035088\"/>\n",
       "  </clipPath>\n",
       " </defs>\n",
       "</svg>\n"
      ],
      "text/plain": [
       "<Figure size 2100x1350 with 1 Axes>"
      ]
     },
     "metadata": {},
     "output_type": "display_data"
    }
   ],
   "source": [
    "fig = plt.figure(dpi=300, tight_layout=True, figsize=(7, 4.5))\n",
    "ax = plt.axes(facecolor=(.95, .96, .97))\n",
    "\n",
    "# Plot customizations\n",
    "for key in 'left', 'right', 'top':\n",
    "    ax.spines[key].set_visible(False)\n",
    "ax.text(0., 1.02, s='Count', transform=ax.transAxes, size=14)\n",
    "ax.yaxis.set_tick_params(length=0)\n",
    "ax.yaxis.grid(True, color='white', linewidth=2)\n",
    "ax.set_axisbelow(True)\n",
    "plt.hist(df['FStage_Value'], color='#36454F')\n",
    "plt.xlim(0, 1)\n",
    "plt.xlabel('Probability of Treatment Given Instrument', size=14)\n",
    "plt.show()"
   ]
  },
  {
   "attachments": {},
   "cell_type": "markdown",
   "id": "f25a453b",
   "metadata": {
    "papermill": {
     "duration": 0.009376,
     "end_time": "2024-05-13T13:13:21.949791",
     "exception": false,
     "start_time": "2024-05-13T13:13:21.940415",
     "status": "completed"
    },
    "tags": []
   },
   "source": [
    "#### **Set Up Device**"
   ]
  },
  {
   "cell_type": "code",
   "execution_count": 11,
   "id": "28dd16c4",
   "metadata": {
    "execution": {
     "iopub.execute_input": "2024-05-13T13:13:21.969110Z",
     "iopub.status.busy": "2024-05-13T13:13:21.968521Z",
     "iopub.status.idle": "2024-05-13T13:13:22.085732Z",
     "shell.execute_reply": "2024-05-13T13:13:22.084969Z"
    },
    "papermill": {
     "duration": 0.128491,
     "end_time": "2024-05-13T13:13:22.087150",
     "exception": false,
     "start_time": "2024-05-13T13:13:21.958659",
     "status": "completed"
    },
    "tags": []
   },
   "outputs": [
    {
     "name": "stdout",
     "output_type": "stream",
     "text": [
      "Device: cuda\n"
     ]
    }
   ],
   "source": [
    "device = torch.device(\"cuda\" if torch.cuda.is_available() else \"cpu\")\n",
    "print(f\"Device: {device}\")"
   ]
  },
  {
   "attachments": {},
   "cell_type": "markdown",
   "id": "d4d61d2c",
   "metadata": {
    "papermill": {
     "duration": 0.00924,
     "end_time": "2024-05-13T13:13:22.106315",
     "exception": false,
     "start_time": "2024-05-13T13:13:22.097075",
     "status": "completed"
    },
    "tags": []
   },
   "source": [
    "#### **Tokenizer**"
   ]
  },
  {
   "cell_type": "code",
   "execution_count": 12,
   "id": "394d04d6",
   "metadata": {
    "execution": {
     "iopub.execute_input": "2024-05-13T13:13:22.127048Z",
     "iopub.status.busy": "2024-05-13T13:13:22.126545Z",
     "iopub.status.idle": "2024-05-13T13:13:22.309245Z",
     "shell.execute_reply": "2024-05-13T13:13:22.308464Z"
    },
    "papermill": {
     "duration": 0.19481,
     "end_time": "2024-05-13T13:13:22.310840",
     "exception": false,
     "start_time": "2024-05-13T13:13:22.116030",
     "status": "completed"
    },
    "tags": []
   },
   "outputs": [
    {
     "name": "stdout",
     "output_type": "stream",
     "text": [
      "512\n"
     ]
    }
   ],
   "source": [
    "model_id = \"roberta-base\"\n",
    "tokenizer = AutoTokenizer.from_pretrained(model_id)\n",
    "tokenizer.model_max_length = 512\n",
    "print(tokenizer.model_max_length)\n",
    "\n",
    "def tokenizer_function(example):\n",
    "  return tokenizer(example[\"FullDescription\"], truncation=True)"
   ]
  },
  {
   "attachments": {},
   "cell_type": "markdown",
   "id": "70642ccf",
   "metadata": {
    "papermill": {
     "duration": 0.009379,
     "end_time": "2024-05-13T13:13:22.330335",
     "exception": false,
     "start_time": "2024-05-13T13:13:22.320956",
     "status": "completed"
    },
    "tags": []
   },
   "source": [
    "#### **Preprocess Data**"
   ]
  },
  {
   "cell_type": "code",
   "execution_count": 13,
   "id": "0bc30948",
   "metadata": {
    "execution": {
     "iopub.execute_input": "2024-05-13T13:13:22.350270Z",
     "iopub.status.busy": "2024-05-13T13:13:22.349779Z",
     "iopub.status.idle": "2024-05-13T13:13:23.666098Z",
     "shell.execute_reply": "2024-05-13T13:13:23.665371Z"
    },
    "papermill": {
     "duration": 1.328137,
     "end_time": "2024-05-13T13:13:23.667672",
     "exception": false,
     "start_time": "2024-05-13T13:13:22.339535",
     "status": "completed"
    },
    "tags": []
   },
   "outputs": [
    {
     "data": {
      "application/vnd.jupyter.widget-view+json": {
       "model_id": "8656e6da689b447d9f099165d5fc29f6",
       "version_major": 2,
       "version_minor": 0
      },
      "text/plain": [
       "Map:   0%|          | 0/1200 [00:00<?, ? examples/s]"
      ]
     },
     "metadata": {},
     "output_type": "display_data"
    },
    {
     "data": {
      "application/vnd.jupyter.widget-view+json": {
       "model_id": "61106f1e233a4e6b9e5eed6cb51aebaf",
       "version_major": 2,
       "version_minor": 0
      },
      "text/plain": [
       "Map:   0%|          | 0/1200 [00:00<?, ? examples/s]"
      ]
     },
     "metadata": {},
     "output_type": "display_data"
    },
    {
     "data": {
      "application/vnd.jupyter.widget-view+json": {
       "model_id": "d545c144fc334608947d1f44ffcb26f3",
       "version_major": 2,
       "version_minor": 0
      },
      "text/plain": [
       "Map:   0%|          | 0/1200 [00:00<?, ? examples/s]"
      ]
     },
     "metadata": {},
     "output_type": "display_data"
    },
    {
     "data": {
      "application/vnd.jupyter.widget-view+json": {
       "model_id": "b594164ab43d4eec9b2de76a62eaa011",
       "version_major": 2,
       "version_minor": 0
      },
      "text/plain": [
       "Flattening the indices:   0%|          | 0/900 [00:00<?, ? examples/s]"
      ]
     },
     "metadata": {},
     "output_type": "display_data"
    },
    {
     "data": {
      "application/vnd.jupyter.widget-view+json": {
       "model_id": "e3c9833b8d594f5082910f29580fa89b",
       "version_major": 2,
       "version_minor": 0
      },
      "text/plain": [
       "Flattening the indices:   0%|          | 0/300 [00:00<?, ? examples/s]"
      ]
     },
     "metadata": {},
     "output_type": "display_data"
    }
   ],
   "source": [
    "df = df.rename(columns={'Treatment': 'label'})\n",
    "df_treated = df.copy()\n",
    "df_treated.pop('FullDescription')\n",
    "df_control = df.copy()\n",
    "df_control.pop('FullDescription')\n",
    "df_treated = df_treated.rename(columns={'Treated_FullDescription': 'FullDescription'})\n",
    "df_control = df_control.rename(columns={'Control_FullDescription': 'FullDescription'})\n",
    "\n",
    "original_dataset = Dataset.from_dict(df[['FullDescription','label']])\n",
    "treated_dataset = Dataset.from_dict(df_treated[['FullDescription','label']])\n",
    "control_dataset = Dataset.from_dict(df_control[['FullDescription','label']])\n",
    "\n",
    "tokenized_dataset = original_dataset.map(tokenizer_function, batched=True)\n",
    "tokenized_dataset = tokenized_dataset.remove_columns(['FullDescription'])\n",
    "\n",
    "tokenized_treated_dataset = treated_dataset.map(tokenizer_function, batched=True)\n",
    "tokenized_treated_dataset = tokenized_treated_dataset.remove_columns(['FullDescription'])\n",
    "\n",
    "tokenized_control_dataset = control_dataset.map(tokenizer_function, batched=True)\n",
    "tokenized_control_dataset = tokenized_control_dataset.remove_columns(['FullDescription'])\n",
    "\n",
    "tokenized_dataset_split = tokenized_dataset.train_test_split(test_size=test_size, seed=42)\n",
    "\n",
    "train_set = tokenized_dataset_split['train'].add_column('val_indicator', [0] * len(tokenized_dataset_split['train']))\n",
    "val_set = tokenized_dataset_split['test'].add_column('val_indicator', [1] * len(tokenized_dataset_split['test']))\n",
    "\n",
    "# Combining back into a single dataset for unified handling\n",
    "combined_dataset = concatenate_datasets([train_set, val_set])"
   ]
  },
  {
   "attachments": {},
   "cell_type": "markdown",
   "id": "58558df1",
   "metadata": {
    "papermill": {
     "duration": 0.010486,
     "end_time": "2024-05-13T13:13:23.689553",
     "exception": false,
     "start_time": "2024-05-13T13:13:23.679067",
     "status": "completed"
    },
    "tags": []
   },
   "source": [
    "#### **DataLoaders**"
   ]
  },
  {
   "cell_type": "code",
   "execution_count": 14,
   "id": "c8e779ea",
   "metadata": {
    "execution": {
     "iopub.execute_input": "2024-05-13T13:13:23.711036Z",
     "iopub.status.busy": "2024-05-13T13:13:23.710407Z",
     "iopub.status.idle": "2024-05-13T13:13:23.715684Z",
     "shell.execute_reply": "2024-05-13T13:13:23.715016Z"
    },
    "papermill": {
     "duration": 0.017547,
     "end_time": "2024-05-13T13:13:23.717025",
     "exception": false,
     "start_time": "2024-05-13T13:13:23.699478",
     "status": "completed"
    },
    "tags": []
   },
   "outputs": [],
   "source": [
    "treated_loader = DataLoader(tokenized_treated_dataset, batch_size=batch_size, collate_fn=DataCollatorWithPadding(tokenizer), shuffle=False)\n",
    "control_loader = DataLoader(tokenized_control_dataset, batch_size=batch_size, collate_fn=DataCollatorWithPadding(tokenizer), shuffle=False)\n",
    "all_loader = DataLoader(tokenized_dataset, batch_size=batch_size, collate_fn=DataCollatorWithPadding(tokenizer), shuffle=False)\n",
    "loader_with_val_idx = DataLoader(combined_dataset, batch_size=batch_size, collate_fn=DataCollatorWithPadding(tokenizer), shuffle=False)\n",
    "train_loader = DataLoader(train_set, batch_size=batch_size, collate_fn=DataCollatorWithPadding(tokenizer), shuffle=True)\n",
    "val_loader = DataLoader(val_set, batch_size=batch_size, collate_fn=DataCollatorWithPadding(tokenizer))"
   ]
  },
  {
   "attachments": {},
   "cell_type": "markdown",
   "id": "d53f70be",
   "metadata": {
    "papermill": {
     "duration": 0.010078,
     "end_time": "2024-05-13T13:13:23.737118",
     "exception": false,
     "start_time": "2024-05-13T13:13:23.727040",
     "status": "completed"
    },
    "tags": []
   },
   "source": [
    "#### **Model**"
   ]
  },
  {
   "cell_type": "code",
   "execution_count": 15,
   "id": "ac11ee01",
   "metadata": {
    "execution": {
     "iopub.execute_input": "2024-05-13T13:13:23.758561Z",
     "iopub.status.busy": "2024-05-13T13:13:23.757854Z",
     "iopub.status.idle": "2024-05-13T13:13:25.200861Z",
     "shell.execute_reply": "2024-05-13T13:13:25.200008Z"
    },
    "papermill": {
     "duration": 1.455631,
     "end_time": "2024-05-13T13:13:25.202640",
     "exception": false,
     "start_time": "2024-05-13T13:13:23.747009",
     "status": "completed"
    },
    "tags": []
   },
   "outputs": [
    {
     "name": "stderr",
     "output_type": "stream",
     "text": [
      "Some weights of RobertaForSequenceClassification were not initialized from the model checkpoint at roberta-base and are newly initialized: ['classifier.dense.bias', 'classifier.dense.weight', 'classifier.out_proj.bias', 'classifier.out_proj.weight']\n",
      "You should probably TRAIN this model on a down-stream task to be able to use it for predictions and inference.\n"
     ]
    }
   ],
   "source": [
    "model = AutoModelForSequenceClassification.from_pretrained(model_id,\n",
    "                                                           num_labels=2)\n",
    "model = model.to(device)\n",
    "#model = torch.compile(model)"
   ]
  },
  {
   "attachments": {},
   "cell_type": "markdown",
   "id": "0c87351e",
   "metadata": {
    "papermill": {
     "duration": 0.0107,
     "end_time": "2024-05-13T13:13:25.225013",
     "exception": false,
     "start_time": "2024-05-13T13:13:25.214313",
     "status": "completed"
    },
    "tags": []
   },
   "source": [
    "#### **Optimizer and Scheduler**"
   ]
  },
  {
   "cell_type": "code",
   "execution_count": 16,
   "id": "02382ee0",
   "metadata": {
    "execution": {
     "iopub.execute_input": "2024-05-13T13:13:25.246981Z",
     "iopub.status.busy": "2024-05-13T13:13:25.246294Z",
     "iopub.status.idle": "2024-05-13T13:13:25.256312Z",
     "shell.execute_reply": "2024-05-13T13:13:25.255624Z"
    },
    "papermill": {
     "duration": 0.022695,
     "end_time": "2024-05-13T13:13:25.257798",
     "exception": false,
     "start_time": "2024-05-13T13:13:25.235103",
     "status": "completed"
    },
    "tags": []
   },
   "outputs": [],
   "source": [
    "optimizer = torch.optim.AdamW(model.parameters(), lr=lr)\n",
    "scheduler =transformers.optimization.get_linear_schedule_with_warmup(optimizer,int(warmup_ratio*len(train_loader)*epochs), len(train_loader)*epochs)"
   ]
  },
  {
   "attachments": {},
   "cell_type": "markdown",
   "id": "7c1e26a4",
   "metadata": {
    "papermill": {
     "duration": 0.010195,
     "end_time": "2024-05-13T13:13:25.278201",
     "exception": false,
     "start_time": "2024-05-13T13:13:25.268006",
     "status": "completed"
    },
    "tags": []
   },
   "source": [
    "#### **Class Weights**"
   ]
  },
  {
   "cell_type": "code",
   "execution_count": 17,
   "id": "13dbe344",
   "metadata": {
    "execution": {
     "iopub.execute_input": "2024-05-13T13:13:25.299951Z",
     "iopub.status.busy": "2024-05-13T13:13:25.299476Z",
     "iopub.status.idle": "2024-05-13T13:13:25.363045Z",
     "shell.execute_reply": "2024-05-13T13:13:25.362272Z"
    },
    "papermill": {
     "duration": 0.076132,
     "end_time": "2024-05-13T13:13:25.364494",
     "exception": false,
     "start_time": "2024-05-13T13:13:25.288362",
     "status": "completed"
    },
    "tags": []
   },
   "outputs": [
    {
     "name": "stdout",
     "output_type": "stream",
     "text": [
      "Class Weights: tensor([1., 1.], device='cuda:0')\n"
     ]
    }
   ],
   "source": [
    "if class_weight_type == 'inverse':\n",
    "    a = df.shape[0]/(df.shape[0] - df['label'].sum())\n",
    "    b = df.shape[0]/df['label'].sum()\n",
    "    a,b = a/(a + b), b/(a +b)\n",
    "    class_weights = torch.tensor([a, b], device=device) \n",
    "elif class_weight_type == 'standard':\n",
    "    class_weights = torch.tensor([1., 1.], device=device) \n",
    "print(f'Class Weights: {class_weights}')\n",
    "criterion = FocalLoss(alpha=class_weights, gamma=gamma, mode='output')"
   ]
  },
  {
   "attachments": {},
   "cell_type": "markdown",
   "id": "4a8c55eb",
   "metadata": {
    "papermill": {
     "duration": 0.010511,
     "end_time": "2024-05-13T13:13:25.386624",
     "exception": false,
     "start_time": "2024-05-13T13:13:25.376113",
     "status": "completed"
    },
    "tags": []
   },
   "source": [
    "#### **Trainer**"
   ]
  },
  {
   "cell_type": "code",
   "execution_count": 18,
   "id": "062fc59d",
   "metadata": {
    "execution": {
     "iopub.execute_input": "2024-05-13T13:13:25.408523Z",
     "iopub.status.busy": "2024-05-13T13:13:25.408027Z",
     "iopub.status.idle": "2024-05-13T13:13:25.411943Z",
     "shell.execute_reply": "2024-05-13T13:13:25.411255Z"
    },
    "papermill": {
     "duration": 0.016627,
     "end_time": "2024-05-13T13:13:25.413392",
     "exception": false,
     "start_time": "2024-05-13T13:13:25.396765",
     "status": "completed"
    },
    "tags": []
   },
   "outputs": [],
   "source": [
    "metric_fn =  lambda a, b: (compute_f1_score(a,b), compute_recall(a,b))\n",
    "yuri = EncoderTrainer(model, optimizer, scheduler, metric_fn, criterion, device, False)\n",
    "early_stopping = EarlyStopping(patience)"
   ]
  },
  {
   "attachments": {},
   "cell_type": "markdown",
   "id": "2e07a6a6",
   "metadata": {
    "papermill": {
     "duration": 0.010212,
     "end_time": "2024-05-13T13:13:25.433750",
     "exception": false,
     "start_time": "2024-05-13T13:13:25.423538",
     "status": "completed"
    },
    "tags": []
   },
   "source": [
    "#### **Train**"
   ]
  },
  {
   "cell_type": "code",
   "execution_count": 19,
   "id": "f3bf2dd1",
   "metadata": {
    "execution": {
     "iopub.execute_input": "2024-05-13T13:13:25.455610Z",
     "iopub.status.busy": "2024-05-13T13:13:25.454998Z",
     "iopub.status.idle": "2024-05-13T13:14:18.985025Z",
     "shell.execute_reply": "2024-05-13T13:14:18.984179Z"
    },
    "papermill": {
     "duration": 52.724494,
     "end_time": "2024-05-13T13:14:18.168351",
     "exception": false,
     "start_time": "2024-05-13T13:13:25.443857",
     "status": "completed"
    },
    "tags": []
   },
   "outputs": [
    {
     "name": "stderr",
     "output_type": "stream",
     "text": [
      "\r",
      "Epoch: 0, Train Loss: 0.842, Val Loss: 0.836:   0%|          | 0/30 [00:00<?, ?it/s]"
     ]
    },
    {
     "name": "stderr",
     "output_type": "stream",
     "text": [
      "\r",
      "Epoch: 1, Train Loss: 0.7469, Val Loss: 0.5344:   0%|          | 0/30 [00:08<?, ?it/s]"
     ]
    },
    {
     "name": "stderr",
     "output_type": "stream",
     "text": [
      "\r",
      "Epoch: 1, Train Loss: 0.7469, Val Loss: 0.5344:   3%|▎         | 1/30 [00:09<04:33,  9.42s/it]"
     ]
    },
    {
     "name": "stderr",
     "output_type": "stream",
     "text": [
      "\r",
      "Epoch: 2, Train Loss: 0.2749, Val Loss: 0.2509:   3%|▎         | 1/30 [00:17<04:33,  9.42s/it]"
     ]
    },
    {
     "name": "stderr",
     "output_type": "stream",
     "text": [
      "\r",
      "Epoch: 2, Train Loss: 0.2749, Val Loss: 0.2509:   7%|▋         | 2/30 [00:18<04:16,  9.17s/it]"
     ]
    },
    {
     "name": "stderr",
     "output_type": "stream",
     "text": [
      "\r",
      "Epoch: 3, Train Loss: 0.2000, Val Loss: 0.2317:   7%|▋         | 2/30 [00:26<04:16,  9.17s/it]"
     ]
    },
    {
     "name": "stderr",
     "output_type": "stream",
     "text": [
      "\r",
      "Epoch: 3, Train Loss: 0.2000, Val Loss: 0.2317:  10%|█         | 3/30 [00:27<04:05,  9.10s/it]"
     ]
    },
    {
     "name": "stderr",
     "output_type": "stream",
     "text": [
      "\r",
      "Epoch: 4, Train Loss: 0.1749, Val Loss: 0.2121:  10%|█         | 3/30 [00:35<04:05,  9.10s/it]"
     ]
    },
    {
     "name": "stderr",
     "output_type": "stream",
     "text": [
      "\r",
      "Epoch: 4, Train Loss: 0.1749, Val Loss: 0.2121:  13%|█▎        | 4/30 [00:36<03:56,  9.09s/it]"
     ]
    },
    {
     "name": "stderr",
     "output_type": "stream",
     "text": [
      "\r",
      "Epoch: 5, Train Loss: 0.1963, Val Loss: 0.3051:  13%|█▎        | 4/30 [00:44<03:56,  9.09s/it]"
     ]
    },
    {
     "name": "stderr",
     "output_type": "stream",
     "text": [
      "\r",
      "Epoch: 5, Train Loss: 0.1963, Val Loss: 0.3051:  17%|█▋        | 5/30 [00:44<03:36,  8.67s/it]"
     ]
    },
    {
     "name": "stderr",
     "output_type": "stream",
     "text": [
      "\r",
      "Epoch: 5, Train Loss: 0.1963, Val Loss: 0.3051:  17%|█▋        | 5/30 [00:49<04:08,  9.92s/it]"
     ]
    },
    {
     "name": "stderr",
     "output_type": "stream",
     "text": [
      "\n"
     ]
    },
    {
     "ename": "KeyboardInterrupt",
     "evalue": "",
     "output_type": "error",
     "traceback": [
      "\u001b[0;31m---------------------------------------------------------------------------\u001b[0m",
      "\u001b[0;31mKeyboardInterrupt\u001b[0m                         Traceback (most recent call last)",
      "Cell \u001b[0;32mIn[19], line 12\u001b[0m\n\u001b[1;32m      8\u001b[0m learning_rate_history \u001b[38;5;241m=\u001b[39m []\n\u001b[1;32m     10\u001b[0m \u001b[38;5;28;01mfor\u001b[39;00m epoch \u001b[38;5;129;01min\u001b[39;00m pbar:\n\u001b[0;32m---> 12\u001b[0m     train_loss, metrics, current_lr \u001b[38;5;241m=\u001b[39m \u001b[43myuri\u001b[49m\u001b[38;5;241;43m.\u001b[39;49m\u001b[43mtrain\u001b[49m\u001b[43m(\u001b[49m\u001b[43mtrain_loader\u001b[49m\u001b[43m)\u001b[49m\n\u001b[1;32m     14\u001b[0m     training_losses\u001b[38;5;241m.\u001b[39mappend(train_loss)\n\u001b[1;32m     15\u001b[0m     metric_history\u001b[38;5;241m.\u001b[39mappend(metrics)\n",
      "File \u001b[0;32m~/llmft/llmft/train.py:67\u001b[0m, in \u001b[0;36mEncoderTrainer.train\u001b[0;34m(self, data_loader)\u001b[0m\n\u001b[1;32m     65\u001b[0m \u001b[38;5;28;01mfor\u001b[39;00m batch \u001b[38;5;129;01min\u001b[39;00m data_loader:\n\u001b[1;32m     66\u001b[0m     loss, predictions, labels \u001b[38;5;241m=\u001b[39m \u001b[38;5;28mself\u001b[39m\u001b[38;5;241m.\u001b[39mprocess_batch(batch, train\u001b[38;5;241m=\u001b[39m\u001b[38;5;28;01mTrue\u001b[39;00m)\n\u001b[0;32m---> 67\u001b[0m     total_loss \u001b[38;5;241m+\u001b[39m\u001b[38;5;241m=\u001b[39m \u001b[43mloss\u001b[49m\u001b[38;5;241;43m.\u001b[39;49m\u001b[43mitem\u001b[49m\u001b[43m(\u001b[49m\u001b[43m)\u001b[49m\n\u001b[1;32m     68\u001b[0m     all_predictions\u001b[38;5;241m.\u001b[39mappend(predictions)\n\u001b[1;32m     69\u001b[0m     all_labels\u001b[38;5;241m.\u001b[39mappend(labels)\n",
      "\u001b[0;31mKeyboardInterrupt\u001b[0m: "
     ]
    }
   ],
   "source": [
    "# Compute Initial Train/Validation Losses\n",
    "evaluation_losses = [yuri.evaluate(val_loader)]\n",
    "training_losses =  [yuri.evaluate(train_loader)]\n",
    "pbar =  tqdm(range(epochs), desc=f'Epoch: 0, Train Loss: {training_losses[0]:.3f}, Val Loss: {evaluation_losses[0]:.3f}')\n",
    "\n",
    "# Initialize Empty Lists to Store Recall and Learning Rate Histories\n",
    "metric_history = []\n",
    "learning_rate_history = []\n",
    "\n",
    "for epoch in pbar:\n",
    "\n",
    "    train_loss, metrics, current_lr = yuri.train(train_loader)\n",
    "\n",
    "    training_losses.append(train_loss)\n",
    "    metric_history.append(metrics)\n",
    "    learning_rate_history.append(current_lr)\n",
    "    \n",
    "    val_loss = yuri.evaluate(val_loader)\n",
    "    evaluation_losses.append(val_loss)\n",
    "\n",
    "    # Update the progress bar description for the current epoch\n",
    "    pbar.set_description(f'Epoch: {epoch + 1}, Train Loss: {train_loss:.4f}, Val Loss: {val_loss:.4f}')\n",
    "\n",
    "    \n",
    "    # Call early stopping\n",
    "    early_stopping(val_loss, model, epoch)\n",
    "    if early_stopping.early_stop:\n",
    "        print(\"***Early stopping***\")\n",
    "        print(f\"Min Validation Loss: {early_stopping.best_epoch}\")\n",
    "        print(f\"Current Epoch: {epoch}\")\n",
    "        break\n",
    "\n",
    "model.load_state_dict(torch.load('checkpoint.pt'))"
   ]
  },
  {
   "attachments": {},
   "cell_type": "markdown",
   "id": "f89e76d2",
   "metadata": {
    "papermill": {
     "duration": null,
     "end_time": null,
     "exception": null,
     "start_time": null,
     "status": "completed"
    },
    "tags": []
   },
   "source": [
    "#### **Loss History**"
   ]
  },
  {
   "cell_type": "code",
   "execution_count": null,
   "id": "38079e1c",
   "metadata": {
    "papermill": {
     "duration": null,
     "end_time": null,
     "exception": null,
     "start_time": null,
     "status": "completed"
    },
    "tags": []
   },
   "outputs": [],
   "source": [
    "fig = plt.figure(dpi=300, tight_layout=True, figsize=(7, 4.5))\n",
    "ax = plt.axes(facecolor=(.95, .96, .97))\n",
    "\n",
    "# Set visibility of some spines\n",
    "for key in 'left', 'right', 'top':\n",
    "    ax.spines[key].set_visible(False)\n",
    "\n",
    "# Add text to the axes\n",
    "ax.text(0., 1.02, s='Loss', transform=ax.transAxes, size=14)\n",
    "\n",
    "# Set Y-axis tick parameters and grid\n",
    "ax.yaxis.set_tick_params(length=0)\n",
    "ax.yaxis.grid(True, color='white', linewidth=2)\n",
    "ax.set_axisbelow(True)\n",
    "plt.plot(evaluation_losses, label='Validation')\n",
    "plt.plot(training_losses, label='Train')\n",
    "plt.axvline(early_stopping.best_epoch + 1, color='black', linestyle='--')\n",
    "plt.legend()\n",
    "plt.xlabel('Epochs', size=14)\n",
    "plt.show()"
   ]
  },
  {
   "attachments": {},
   "cell_type": "markdown",
   "id": "960d09d3",
   "metadata": {
    "papermill": {
     "duration": null,
     "end_time": null,
     "exception": null,
     "start_time": null,
     "status": "completed"
    },
    "tags": []
   },
   "source": [
    "#### **F1-Score**"
   ]
  },
  {
   "cell_type": "code",
   "execution_count": null,
   "id": "7554839a",
   "metadata": {
    "papermill": {
     "duration": null,
     "end_time": null,
     "exception": null,
     "start_time": null,
     "status": "completed"
    },
    "tags": []
   },
   "outputs": [],
   "source": [
    "fig = plt.figure(dpi=300, tight_layout=True, figsize=(7, 4.5))\n",
    "ax = plt.axes(facecolor=(.95, .96, .97))\n",
    "\n",
    "# Set visibility of some spines\n",
    "for key in 'left', 'right', 'top':\n",
    "    ax.spines[key].set_visible(False)\n",
    "\n",
    "# Add text to the axes\n",
    "ax.text(0., 1.02, s='F1-Score', transform=ax.transAxes, size=14)\n",
    "\n",
    "# Set Y-axis tick parameters and grid\n",
    "ax.yaxis.set_tick_params(length=0)\n",
    "ax.yaxis.grid(True, color='white', linewidth=2)\n",
    "ax.set_axisbelow(True)\n",
    "plt.plot([i[0] for i in metric_history])\n",
    "plt.axvline(early_stopping.best_epoch + 1, color='black', linestyle='--')\n",
    "plt.xlabel('Epochs', size=14)\n",
    "plt.ylim(0, 1)\n",
    "plt.show()"
   ]
  },
  {
   "attachments": {},
   "cell_type": "markdown",
   "id": "ac9998fd",
   "metadata": {
    "papermill": {
     "duration": null,
     "end_time": null,
     "exception": null,
     "start_time": null,
     "status": "completed"
    },
    "tags": []
   },
   "source": [
    "#### **Recall**"
   ]
  },
  {
   "cell_type": "code",
   "execution_count": null,
   "id": "db030afd",
   "metadata": {
    "papermill": {
     "duration": null,
     "end_time": null,
     "exception": null,
     "start_time": null,
     "status": "completed"
    },
    "tags": []
   },
   "outputs": [],
   "source": [
    "fig = plt.figure(dpi=300, tight_layout=True, figsize=(7, 4.5))\n",
    "ax = plt.axes(facecolor=(.95, .96, .97))\n",
    "\n",
    "# Set visibility of some spines\n",
    "for key in 'left', 'right', 'top':\n",
    "    ax.spines[key].set_visible(False)\n",
    "\n",
    "# Add text to the axes\n",
    "ax.text(0., 1.02, s='Recall', transform=ax.transAxes, size=14)\n",
    "\n",
    "# Set Y-axis tick parameters and grid\n",
    "ax.yaxis.set_tick_params(length=0)\n",
    "ax.yaxis.grid(True, color='white', linewidth=2)\n",
    "ax.set_axisbelow(True)\n",
    "plt.plot([i[1][0][0] for i in metric_history], label='0')\n",
    "plt.plot([i[1][0][1] for i in metric_history], label='1')\n",
    "plt.axvline(early_stopping.best_epoch + 1, color='black', linestyle='--')\n",
    "plt.xlabel('Epochs', size=14)\n",
    "plt.legend()\n",
    "plt.show()"
   ]
  },
  {
   "attachments": {},
   "cell_type": "markdown",
   "id": "84cabae0",
   "metadata": {
    "papermill": {
     "duration": null,
     "end_time": null,
     "exception": null,
     "start_time": null,
     "status": "completed"
    },
    "tags": []
   },
   "source": [
    "#### **Entire Data Set Predictions**"
   ]
  },
  {
   "cell_type": "code",
   "execution_count": null,
   "id": "264b6a3e",
   "metadata": {
    "papermill": {
     "duration": null,
     "end_time": null,
     "exception": null,
     "start_time": null,
     "status": "completed"
    },
    "tags": []
   },
   "outputs": [],
   "source": [
    "Dhat, labels, val_indicator = predict(model, loader_with_val_idx, device)"
   ]
  },
  {
   "cell_type": "code",
   "execution_count": null,
   "id": "3a9470c5",
   "metadata": {
    "papermill": {
     "duration": null,
     "end_time": null,
     "exception": null,
     "start_time": null,
     "status": "completed"
    },
    "tags": []
   },
   "outputs": [],
   "source": [
    "# Create figure and axes with specific settings\n",
    "fig = plt.figure(dpi=300, tight_layout=True, figsize=(7, 4.5))\n",
    "ax = plt.axes(facecolor=(.95, .96, .97))\n",
    "ax.set_title('Probability of Treatment', size=16, pad=20)\n",
    "\n",
    "# Set visibility of some spines\n",
    "for key in 'left', 'right', 'top':\n",
    "    ax.spines[key].set_visible(False)\n",
    "\n",
    "# Add text to the axes\n",
    "ax.text(0., 1.02, s='Density', transform=ax.transAxes, size=14)\n",
    "\n",
    "# Set Y-axis tick parameters and grid\n",
    "ax.yaxis.set_tick_params(length=0)\n",
    "ax.yaxis.grid(True, color='white', linewidth=2)\n",
    "ax.set_axisbelow(True)\n",
    "\n",
    "# Plot the KDE plot\n",
    "sns.kdeplot(Dhat[val_indicator==0].reshape(-1,), color='blue', fill=False, bw_adjust=0.25, label='Train')\n",
    "sns.kdeplot(Dhat[val_indicator==1].reshape(-1,), color='green', fill=False, bw_adjust=0.25, label='Validation')\n",
    "fill_kde = sns.kdeplot((df['FStage_Value']*df['Instrument']).values.reshape(-1,), fill=True, color='grey', bw_adjust=0.25, label='Target')\n",
    "\n",
    "# Create custom legend handles\n",
    "from matplotlib.lines import Line2D\n",
    "legend_handles = [\n",
    "    Line2D([0], [0], color='blue', label='Train'),\n",
    "    Line2D([0], [0], color='green', label='Validation'),\n",
    "    Line2D([0], [0], color='grey', label='Target')\n",
    "]\n",
    "\n",
    "# Set custom legend\n",
    "plt.legend(handles=legend_handles)\n",
    "plt.ylabel('')\n",
    "plt.show()"
   ]
  },
  {
   "cell_type": "code",
   "execution_count": null,
   "id": "28711e7f",
   "metadata": {
    "papermill": {
     "duration": null,
     "end_time": null,
     "exception": null,
     "start_time": null,
     "status": "completed"
    },
    "tags": []
   },
   "outputs": [],
   "source": [
    "if verbose:# Create figure and axes with specific settings\n",
    "    fig = plt.figure(dpi=300, tight_layout=True, figsize=(7, 4.5))\n",
    "    ax = plt.axes(facecolor=(.95, .96, .97))\n",
    "    ax.set_title('Probability of Treatment Given (Instrument==0)', size=16, pad=20)\n",
    "\n",
    "    # Set visibility of some spines\n",
    "    for key in 'left', 'right', 'top':\n",
    "        ax.spines[key].set_visible(False)\n",
    "\n",
    "    # Add text to the axes\n",
    "    ax.text(0., 1.02, s='Density', transform=ax.transAxes, size=14)\n",
    "\n",
    "    # Set Y-axis tick parameters and grid\n",
    "    ax.yaxis.set_tick_params(length=0)\n",
    "    ax.yaxis.grid(True, color='white', linewidth=2)\n",
    "    ax.set_axisbelow(True)\n",
    "\n",
    "    # Plot the KDE plot\n",
    "    sns.kdeplot(Dhat[df['Instrument']==0].reshape(-1,), color='#36454F', fill=False, bw_adjust=0.25)\n",
    "    plt.ylabel('')\n",
    "    plt.show()"
   ]
  },
  {
   "cell_type": "code",
   "execution_count": null,
   "id": "8c29b1bd",
   "metadata": {
    "papermill": {
     "duration": null,
     "end_time": null,
     "exception": null,
     "start_time": null,
     "status": "completed"
    },
    "tags": []
   },
   "outputs": [],
   "source": [
    "if verbose:\n",
    "    # Create figure and axes with specific settings\n",
    "    fig = plt.figure(dpi=300, tight_layout=True, figsize=(7, 4.5))\n",
    "    ax = plt.axes(facecolor=(.95, .96, .97))\n",
    "    ax.set_title('Probability of Treatment Given (Instrument==1)', size=16, pad=20)\n",
    "\n",
    "    # Set visibility of some spines\n",
    "    for key in 'left', 'right', 'top':\n",
    "        ax.spines[key].set_visible(False)\n",
    "\n",
    "    # Add text to the axes\n",
    "    ax.text(0., 1.02, s='Density', transform=ax.transAxes, size=14)\n",
    "\n",
    "    # Set Y-axis tick parameters and grid\n",
    "    ax.yaxis.set_tick_params(length=0)\n",
    "    ax.yaxis.grid(True, color='white', linewidth=2)\n",
    "    ax.set_axisbelow(True)\n",
    "\n",
    "    # Plot the KDE plot\n",
    "    sns.kdeplot(Dhat[df['Instrument']==1], color='#36454F', fill=True, bw_adjust=0.25, label='Prediction')\n",
    "    sns.kdeplot(df['FStage_Value'][df['Instrument']==1], color='purple', fill=True, bw_adjust=0.25, label='Truth')\n",
    "    plt.ylabel('')\n",
    "    plt.xlabel('')\n",
    "    plt.legend()\n",
    "    plt.show()"
   ]
  },
  {
   "cell_type": "code",
   "execution_count": null,
   "id": "82c82208",
   "metadata": {
    "papermill": {
     "duration": null,
     "end_time": null,
     "exception": null,
     "start_time": null,
     "status": "completed"
    },
    "tags": []
   },
   "outputs": [],
   "source": [
    "if verbose:\n",
    "    # Create figure and axes with specific settings\n",
    "    fig = plt.figure(dpi=300, tight_layout=True, figsize=(7, 4.5))\n",
    "    ax = plt.axes(facecolor=(.95, .96, .97))\n",
    "    ax.set_title('Probability of Treatment', size=16, pad=20)\n",
    "\n",
    "    # Set visibility of some spines\n",
    "    for key in 'left', 'right', 'top':\n",
    "        ax.spines[key].set_visible(False)\n",
    "\n",
    "    # Add text to the axes\n",
    "    ax.text(0., 1.02, s='Density', transform=ax.transAxes, size=14)\n",
    "\n",
    "    # Set Y-axis tick parameters and grid\n",
    "    ax.yaxis.set_tick_params(length=0)\n",
    "    ax.yaxis.grid(True, color='white', linewidth=2)\n",
    "    ax.set_axisbelow(True)\n",
    "\n",
    "    # Plot the KDE plot\n",
    "    sns.kdeplot(Dhat.reshape(-1,), color='#36454F', fill=True, bw_adjust=0.25, label='Prediction')\n",
    "    sns.kdeplot(df['FStage_Value']*df['label'], color='purple', fill=True, bw_adjust=0.25, label='Target')\n",
    "    plt.ylabel('')\n",
    "    plt.legend()\n",
    "    plt.show()"
   ]
  },
  {
   "attachments": {},
   "cell_type": "markdown",
   "id": "21ea25a8",
   "metadata": {
    "papermill": {
     "duration": null,
     "end_time": null,
     "exception": null,
     "start_time": null,
     "status": "completed"
    },
    "tags": []
   },
   "source": [
    "#### **Save Results**"
   ]
  },
  {
   "cell_type": "code",
   "execution_count": null,
   "id": "79d26c8d",
   "metadata": {
    "papermill": {
     "duration": null,
     "end_time": null,
     "exception": null,
     "start_time": null,
     "status": "completed"
    },
    "tags": []
   },
   "outputs": [],
   "source": [
    "# Assuming df is your DataFrame and Dhat is already defined in your context\n",
    "Dhat, _ = predict(model, all_loader, device)\n",
    "Dhat = Dhat.reshape(-1,1)\n",
    "Dhat1, _ = predict(model, treated_loader, device)\n",
    "Dhat1 = Dhat1.reshape(-1,1)\n",
    "Dhat0, _ = predict(model, control_loader, device)\n",
    "Dhat0 = Dhat0.reshape(-1,1)\n",
    "expected_value = (0.5*Dhat1 + 0.5*Dhat0)\n",
    "residuals = Dhat - expected_value\n",
    "y = np.array(df['Outcome'].values.reshape(-1,1))\n",
    "\n",
    "est = np.linalg.lstsq(np.hstack((residuals, np.ones_like(residuals))), y)[0][0]\n",
    "\n",
    "df_result = pd.DataFrame({'Estimate': est})\n",
    "\n",
    "# Define the path for the CSV file\n",
    "file_path = f'./../../../toy-data/exp2/results/llms_{version}_{sample_size}_{noise}.csv'\n",
    "\n",
    "# Check if the file already exists\n",
    "if not os.path.exists(file_path):\n",
    "    # If the file does not exist, write with headers\n",
    "    df_result[['Estimate']].to_csv(file_path, mode='w', header=True, index=False)\n",
    "else:\n",
    "    # If the file exists, append without headers\n",
    "    df_result[['Estimate']].to_csv(file_path, mode='a', header=False, index=False)\n",
    "\n",
    "est"
   ]
  },
  {
   "cell_type": "code",
   "execution_count": null,
   "id": "da37129f",
   "metadata": {
    "papermill": {
     "duration": null,
     "end_time": null,
     "exception": null,
     "start_time": null,
     "status": "completed"
    },
    "tags": []
   },
   "outputs": [],
   "source": []
  }
 ],
 "metadata": {
  "kernelspec": {
   "display_name": "llms",
   "language": "python",
   "name": "python3"
  },
  "language_info": {
   "codemirror_mode": {
    "name": "ipython",
    "version": 3
   },
   "file_extension": ".py",
   "mimetype": "text/x-python",
   "name": "python",
   "nbconvert_exporter": "python",
   "pygments_lexer": "ipython3",
   "version": "3.10.12"
  },
  "papermill": {
   "default_parameters": {},
   "duration": 62.843446,
   "end_time": "2024-05-13T13:14:20.201748",
   "environment_variables": {},
   "exception": null,
   "input_path": "./single_run.ipynb",
   "output_path": "output_notebook_1.ipynb",
   "parameters": {
    "noise": false,
    "sample_size": 1200,
    "seed": 1,
    "version": 4
   },
   "start_time": "2024-05-13T13:13:17.358302",
   "version": "2.6.0"
  }
 },
 "nbformat": 4,
 "nbformat_minor": 5
}