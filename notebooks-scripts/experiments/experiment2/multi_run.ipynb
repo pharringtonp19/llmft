{
 "cells": [
  {
   "cell_type": "code",
   "execution_count": null,
   "metadata": {},
   "outputs": [],
   "source": [
    "import papermill as pm\n",
    "import numpy as np \n",
    "import time \n",
    "import os "
   ]
  },
  {
   "cell_type": "code",
   "execution_count": null,
   "metadata": {},
   "outputs": [],
   "source": [
    "seeds = [105451,\n",
    "768759,\n",
    "953624,\n",
    "10569,\n",
    "587486,\n",
    "800932,\n",
    "466785,\n",
    "633938,\n",
    "362337,\n",
    "462771,\n",
    "538347,\n",
    "894237,\n",
    "185736,\n",
    "610027,\n",
    "801594,\n",
    "438628,\n",
    "504536,\n",
    "615376,\n",
    "923103,\n",
    "382343] \n",
    "\n",
    "noises = [True, False]\n",
    "targets = ['treated', 'instrument']\n",
    "input_nb = './single_run.ipynb'\n",
    "\n",
    "# List to store execution times\n",
    "execution_times = []\n",
    "\n",
    "for noise in noises: \n",
    "    for target in targets:\n",
    "        print(f'Starting Experiment with {noise} and {target}')\n",
    "        for i, seed in enumerate(seeds):\n",
    "            output_nb = f'output_notebook_{i+1}.ipynb'\n",
    "            \n",
    "            # Start the timer\n",
    "            start_time = time.time()\n",
    "            \n",
    "            pm.execute_notebook(\n",
    "                input_nb,\n",
    "                output_nb,\n",
    "                parameters={'noise': noise, \n",
    "                            'target': target, \n",
    "                            'seed': seed}\n",
    "            )\n",
    "            \n",
    "            # Stop the timer\n",
    "            end_time = time.time()\n",
    "            \n",
    "            # Calculate the duration\n",
    "            duration = end_time - start_time\n",
    "            execution_times.append(duration)\n",
    "            \n",
    "            print(f\"Run {i+1} with seed {seed} took {duration:.2f} seconds\")\n",
    "\n",
    "            #Remove the output notebook after capturing necessary data\n",
    "            os.remove(output_nb)\n",
    "\n",
    "        # Optionally, you can save these times to a file or print them all out at the end\n",
    "        print(\"All execution times:\", execution_times)\n",
    "        print(f'Ending Experiment with {noise} and {target}')\n"
   ]
  },
  {
   "cell_type": "code",
   "execution_count": null,
   "metadata": {},
   "outputs": [],
   "source": []
  }
 ],
 "metadata": {
  "kernelspec": {
   "display_name": "llms",
   "language": "python",
   "name": "python3"
  },
  "language_info": {
   "codemirror_mode": {
    "name": "ipython",
    "version": 3
   },
   "file_extension": ".py",
   "mimetype": "text/x-python",
   "name": "python",
   "nbconvert_exporter": "python",
   "pygments_lexer": "ipython3",
   "version": "3.10.12"
  },
  "orig_nbformat": 4
 },
 "nbformat": 4,
 "nbformat_minor": 2
}
