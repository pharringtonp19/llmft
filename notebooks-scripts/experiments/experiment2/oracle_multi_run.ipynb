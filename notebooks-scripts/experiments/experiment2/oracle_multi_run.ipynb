{
 "cells": [
  {
   "cell_type": "code",
   "execution_count": 1,
   "metadata": {},
   "outputs": [],
   "source": [
    "import papermill as pm\n",
    "import numpy as np \n",
    "import time \n",
    "import os "
   ]
  },
  {
   "cell_type": "code",
   "execution_count": 2,
   "metadata": {},
   "outputs": [
    {
     "name": "stdout",
     "output_type": "stream",
     "text": [
      "Starting Experiment with False\n"
     ]
    },
    {
     "data": {
      "application/vnd.jupyter.widget-view+json": {
       "model_id": "082758b974f04a6e97fddc13f05914df",
       "version_major": 2,
       "version_minor": 0
      },
      "text/plain": [
       "Executing:   0%|          | 0/21 [00:00<?, ?cell/s]"
      ]
     },
     "metadata": {},
     "output_type": "display_data"
    },
    {
     "name": "stderr",
     "output_type": "stream",
     "text": [
      "2024-05-09 00:22:52.833853: W external/xla/xla/service/gpu/nvptx_compiler.cc:760] The NVIDIA driver's CUDA version is 12.2 which is older than the ptxas CUDA version (12.4.131). Because the driver is older than the ptxas version, XLA is disabling parallel compilation, which may slow down compilation. You should update your NVIDIA driver or use the NVIDIA-provided CUDA forward compatibility packages.\n",
      "'+ptx84' is not a recognized feature for this target (ignoring feature)\n",
      "'+ptx84' is not a recognized feature for this target (ignoring feature)\n",
      "'+ptx84' is not a recognized feature for this target (ignoring feature)\n",
      "'+ptx84' is not a recognized feature for this target (ignoring feature)\n",
      "'+ptx84' is not a recognized feature for this target (ignoring feature)\n",
      "'+ptx84' is not a recognized feature for this target (ignoring feature)\n",
      "'+ptx84' is not a recognized feature for this target (ignoring feature)\n",
      "'+ptx84' is not a recognized feature for this target (ignoring feature)\n",
      "'+ptx84' is not a recognized feature for this target (ignoring feature)\n",
      "'+ptx84' is not a recognized feature for this target (ignoring feature)\n",
      "'+ptx84' is not a recognized feature for this target (ignoring feature)\n",
      "'+ptx84' is not a recognized feature for this target (ignoring feature)\n",
      "'+ptx84' is not a recognized feature for this target (ignoring feature)\n",
      "'+ptx84' is not a recognized feature for this target (ignoring feature)\n",
      "'+ptx84' is not a recognized feature for this target (ignoring feature)\n",
      "'+ptx84' is not a recognized feature for this target (ignoring feature)\n",
      "'+ptx84' is not a recognized feature for this target (ignoring feature)\n",
      "'+ptx84' is not a recognized feature for this target (ignoring feature)\n",
      "'+ptx84' is not a recognized feature for this target (ignoring feature)\n",
      "'+ptx84' is not a recognized feature for this target (ignoring feature)\n",
      "'+ptx84' is not a recognized feature for this target (ignoring feature)\n",
      "'+ptx84' is not a recognized feature for this target (ignoring feature)\n",
      "'+ptx84' is not a recognized feature for this target (ignoring feature)\n",
      "'+ptx84' is not a recognized feature for this target (ignoring feature)\n",
      "'+ptx84' is not a recognized feature for this target (ignoring feature)\n",
      "'+ptx84' is not a recognized feature for this target (ignoring feature)\n",
      "'+ptx84' is not a recognized feature for this target (ignoring feature)\n",
      "'+ptx84' is not a recognized feature for this target (ignoring feature)\n",
      "'+ptx84' is not a recognized feature for this target (ignoring feature)\n",
      "'+ptx84' is not a recognized feature for this target (ignoring feature)\n"
     ]
    },
    {
     "name": "stdout",
     "output_type": "stream",
     "text": [
      "Run 1 with seed 1 took 6.90 seconds\n"
     ]
    },
    {
     "data": {
      "application/vnd.jupyter.widget-view+json": {
       "model_id": "5ebdd9f5774141b28d7a18b6bb06fe8e",
       "version_major": 2,
       "version_minor": 0
      },
      "text/plain": [
       "Executing:   0%|          | 0/21 [00:00<?, ?cell/s]"
      ]
     },
     "metadata": {},
     "output_type": "display_data"
    },
    {
     "name": "stderr",
     "output_type": "stream",
     "text": [
      "2024-05-09 00:22:59.926723: W external/xla/xla/service/gpu/nvptx_compiler.cc:760] The NVIDIA driver's CUDA version is 12.2 which is older than the ptxas CUDA version (12.4.131). Because the driver is older than the ptxas version, XLA is disabling parallel compilation, which may slow down compilation. You should update your NVIDIA driver or use the NVIDIA-provided CUDA forward compatibility packages.\n",
      "'+ptx84' is not a recognized feature for this target (ignoring feature)\n",
      "'+ptx84' is not a recognized feature for this target (ignoring feature)\n",
      "'+ptx84' is not a recognized feature for this target (ignoring feature)\n",
      "'+ptx84' is not a recognized feature for this target (ignoring feature)\n",
      "'+ptx84' is not a recognized feature for this target (ignoring feature)\n",
      "'+ptx84' is not a recognized feature for this target (ignoring feature)\n",
      "'+ptx84' is not a recognized feature for this target (ignoring feature)\n",
      "'+ptx84' is not a recognized feature for this target (ignoring feature)\n",
      "'+ptx84' is not a recognized feature for this target (ignoring feature)\n",
      "'+ptx84' is not a recognized feature for this target (ignoring feature)\n",
      "'+ptx84' is not a recognized feature for this target (ignoring feature)\n",
      "'+ptx84' is not a recognized feature for this target (ignoring feature)\n",
      "'+ptx84' is not a recognized feature for this target (ignoring feature)\n",
      "'+ptx84' is not a recognized feature for this target (ignoring feature)\n",
      "'+ptx84' is not a recognized feature for this target (ignoring feature)\n",
      "'+ptx84' is not a recognized feature for this target (ignoring feature)\n",
      "'+ptx84' is not a recognized feature for this target (ignoring feature)\n",
      "'+ptx84' is not a recognized feature for this target (ignoring feature)\n",
      "'+ptx84' is not a recognized feature for this target (ignoring feature)\n",
      "'+ptx84' is not a recognized feature for this target (ignoring feature)\n",
      "'+ptx84' is not a recognized feature for this target (ignoring feature)\n",
      "'+ptx84' is not a recognized feature for this target (ignoring feature)\n",
      "'+ptx84' is not a recognized feature for this target (ignoring feature)\n",
      "'+ptx84' is not a recognized feature for this target (ignoring feature)\n",
      "'+ptx84' is not a recognized feature for this target (ignoring feature)\n",
      "'+ptx84' is not a recognized feature for this target (ignoring feature)\n",
      "'+ptx84' is not a recognized feature for this target (ignoring feature)\n",
      "'+ptx84' is not a recognized feature for this target (ignoring feature)\n",
      "'+ptx84' is not a recognized feature for this target (ignoring feature)\n",
      "'+ptx84' is not a recognized feature for this target (ignoring feature)\n"
     ]
    },
    {
     "name": "stdout",
     "output_type": "stream",
     "text": [
      "Run 2 with seed 2 took 7.11 seconds\n"
     ]
    },
    {
     "data": {
      "application/vnd.jupyter.widget-view+json": {
       "model_id": "2dc478ebcaaa4136bd474b3046ca9505",
       "version_major": 2,
       "version_minor": 0
      },
      "text/plain": [
       "Executing:   0%|          | 0/21 [00:00<?, ?cell/s]"
      ]
     },
     "metadata": {},
     "output_type": "display_data"
    },
    {
     "name": "stderr",
     "output_type": "stream",
     "text": [
      "2024-05-09 00:23:06.744928: W external/xla/xla/service/gpu/nvptx_compiler.cc:760] The NVIDIA driver's CUDA version is 12.2 which is older than the ptxas CUDA version (12.4.131). Because the driver is older than the ptxas version, XLA is disabling parallel compilation, which may slow down compilation. You should update your NVIDIA driver or use the NVIDIA-provided CUDA forward compatibility packages.\n",
      "'+ptx84' is not a recognized feature for this target (ignoring feature)\n",
      "'+ptx84' is not a recognized feature for this target (ignoring feature)\n",
      "'+ptx84' is not a recognized feature for this target (ignoring feature)\n",
      "'+ptx84' is not a recognized feature for this target (ignoring feature)\n",
      "'+ptx84' is not a recognized feature for this target (ignoring feature)\n",
      "'+ptx84' is not a recognized feature for this target (ignoring feature)\n",
      "'+ptx84' is not a recognized feature for this target (ignoring feature)\n",
      "'+ptx84' is not a recognized feature for this target (ignoring feature)\n",
      "'+ptx84' is not a recognized feature for this target (ignoring feature)\n",
      "'+ptx84' is not a recognized feature for this target (ignoring feature)\n",
      "'+ptx84' is not a recognized feature for this target (ignoring feature)\n",
      "'+ptx84' is not a recognized feature for this target (ignoring feature)\n",
      "'+ptx84' is not a recognized feature for this target (ignoring feature)\n",
      "'+ptx84' is not a recognized feature for this target (ignoring feature)\n",
      "'+ptx84' is not a recognized feature for this target (ignoring feature)\n",
      "'+ptx84' is not a recognized feature for this target (ignoring feature)\n",
      "'+ptx84' is not a recognized feature for this target (ignoring feature)\n",
      "'+ptx84' is not a recognized feature for this target (ignoring feature)\n",
      "'+ptx84' is not a recognized feature for this target (ignoring feature)\n",
      "'+ptx84' is not a recognized feature for this target (ignoring feature)\n",
      "'+ptx84' is not a recognized feature for this target (ignoring feature)\n",
      "'+ptx84' is not a recognized feature for this target (ignoring feature)\n",
      "'+ptx84' is not a recognized feature for this target (ignoring feature)\n",
      "'+ptx84' is not a recognized feature for this target (ignoring feature)\n",
      "'+ptx84' is not a recognized feature for this target (ignoring feature)\n",
      "'+ptx84' is not a recognized feature for this target (ignoring feature)\n",
      "'+ptx84' is not a recognized feature for this target (ignoring feature)\n",
      "'+ptx84' is not a recognized feature for this target (ignoring feature)\n",
      "'+ptx84' is not a recognized feature for this target (ignoring feature)\n",
      "'+ptx84' is not a recognized feature for this target (ignoring feature)\n"
     ]
    },
    {
     "name": "stdout",
     "output_type": "stream",
     "text": [
      "Run 3 with seed 3 took 6.81 seconds\n"
     ]
    },
    {
     "data": {
      "application/vnd.jupyter.widget-view+json": {
       "model_id": "4c50fc54eb944ba7a5d940aa5b329bb0",
       "version_major": 2,
       "version_minor": 0
      },
      "text/plain": [
       "Executing:   0%|          | 0/21 [00:00<?, ?cell/s]"
      ]
     },
     "metadata": {},
     "output_type": "display_data"
    },
    {
     "name": "stderr",
     "output_type": "stream",
     "text": [
      "2024-05-09 00:23:13.817747: W external/xla/xla/service/gpu/nvptx_compiler.cc:760] The NVIDIA driver's CUDA version is 12.2 which is older than the ptxas CUDA version (12.4.131). Because the driver is older than the ptxas version, XLA is disabling parallel compilation, which may slow down compilation. You should update your NVIDIA driver or use the NVIDIA-provided CUDA forward compatibility packages.\n",
      "'+ptx84' is not a recognized feature for this target (ignoring feature)\n",
      "'+ptx84' is not a recognized feature for this target (ignoring feature)\n",
      "'+ptx84' is not a recognized feature for this target (ignoring feature)\n",
      "'+ptx84' is not a recognized feature for this target (ignoring feature)\n",
      "'+ptx84' is not a recognized feature for this target (ignoring feature)\n",
      "'+ptx84' is not a recognized feature for this target (ignoring feature)\n",
      "'+ptx84' is not a recognized feature for this target (ignoring feature)\n",
      "'+ptx84' is not a recognized feature for this target (ignoring feature)\n",
      "'+ptx84' is not a recognized feature for this target (ignoring feature)\n",
      "'+ptx84' is not a recognized feature for this target (ignoring feature)\n",
      "'+ptx84' is not a recognized feature for this target (ignoring feature)\n",
      "'+ptx84' is not a recognized feature for this target (ignoring feature)\n",
      "'+ptx84' is not a recognized feature for this target (ignoring feature)\n",
      "'+ptx84' is not a recognized feature for this target (ignoring feature)\n",
      "'+ptx84' is not a recognized feature for this target (ignoring feature)\n",
      "'+ptx84' is not a recognized feature for this target (ignoring feature)\n",
      "'+ptx84' is not a recognized feature for this target (ignoring feature)\n",
      "'+ptx84' is not a recognized feature for this target (ignoring feature)\n",
      "'+ptx84' is not a recognized feature for this target (ignoring feature)\n",
      "'+ptx84' is not a recognized feature for this target (ignoring feature)\n",
      "'+ptx84' is not a recognized feature for this target (ignoring feature)\n",
      "'+ptx84' is not a recognized feature for this target (ignoring feature)\n",
      "'+ptx84' is not a recognized feature for this target (ignoring feature)\n",
      "'+ptx84' is not a recognized feature for this target (ignoring feature)\n",
      "'+ptx84' is not a recognized feature for this target (ignoring feature)\n",
      "'+ptx84' is not a recognized feature for this target (ignoring feature)\n",
      "'+ptx84' is not a recognized feature for this target (ignoring feature)\n",
      "'+ptx84' is not a recognized feature for this target (ignoring feature)\n",
      "'+ptx84' is not a recognized feature for this target (ignoring feature)\n",
      "'+ptx84' is not a recognized feature for this target (ignoring feature)\n"
     ]
    },
    {
     "name": "stdout",
     "output_type": "stream",
     "text": [
      "Run 4 with seed 4 took 7.07 seconds\n"
     ]
    },
    {
     "data": {
      "application/vnd.jupyter.widget-view+json": {
       "model_id": "7a126285e84b455dabce072f873ec33e",
       "version_major": 2,
       "version_minor": 0
      },
      "text/plain": [
       "Executing:   0%|          | 0/21 [00:00<?, ?cell/s]"
      ]
     },
     "metadata": {},
     "output_type": "display_data"
    },
    {
     "name": "stderr",
     "output_type": "stream",
     "text": [
      "2024-05-09 00:23:20.636530: W external/xla/xla/service/gpu/nvptx_compiler.cc:760] The NVIDIA driver's CUDA version is 12.2 which is older than the ptxas CUDA version (12.4.131). Because the driver is older than the ptxas version, XLA is disabling parallel compilation, which may slow down compilation. You should update your NVIDIA driver or use the NVIDIA-provided CUDA forward compatibility packages.\n",
      "'+ptx84' is not a recognized feature for this target (ignoring feature)\n",
      "'+ptx84' is not a recognized feature for this target (ignoring feature)\n",
      "'+ptx84' is not a recognized feature for this target (ignoring feature)\n",
      "'+ptx84' is not a recognized feature for this target (ignoring feature)\n",
      "'+ptx84' is not a recognized feature for this target (ignoring feature)\n",
      "'+ptx84' is not a recognized feature for this target (ignoring feature)\n",
      "'+ptx84' is not a recognized feature for this target (ignoring feature)\n",
      "'+ptx84' is not a recognized feature for this target (ignoring feature)\n",
      "'+ptx84' is not a recognized feature for this target (ignoring feature)\n",
      "'+ptx84' is not a recognized feature for this target (ignoring feature)\n",
      "'+ptx84' is not a recognized feature for this target (ignoring feature)\n",
      "'+ptx84' is not a recognized feature for this target (ignoring feature)\n",
      "'+ptx84' is not a recognized feature for this target (ignoring feature)\n",
      "'+ptx84' is not a recognized feature for this target (ignoring feature)\n",
      "'+ptx84' is not a recognized feature for this target (ignoring feature)\n",
      "'+ptx84' is not a recognized feature for this target (ignoring feature)\n",
      "'+ptx84' is not a recognized feature for this target (ignoring feature)\n",
      "'+ptx84' is not a recognized feature for this target (ignoring feature)\n",
      "'+ptx84' is not a recognized feature for this target (ignoring feature)\n",
      "'+ptx84' is not a recognized feature for this target (ignoring feature)\n",
      "'+ptx84' is not a recognized feature for this target (ignoring feature)\n",
      "'+ptx84' is not a recognized feature for this target (ignoring feature)\n",
      "'+ptx84' is not a recognized feature for this target (ignoring feature)\n",
      "'+ptx84' is not a recognized feature for this target (ignoring feature)\n",
      "'+ptx84' is not a recognized feature for this target (ignoring feature)\n",
      "'+ptx84' is not a recognized feature for this target (ignoring feature)\n",
      "'+ptx84' is not a recognized feature for this target (ignoring feature)\n",
      "'+ptx84' is not a recognized feature for this target (ignoring feature)\n",
      "'+ptx84' is not a recognized feature for this target (ignoring feature)\n",
      "'+ptx84' is not a recognized feature for this target (ignoring feature)\n"
     ]
    },
    {
     "name": "stdout",
     "output_type": "stream",
     "text": [
      "Run 5 with seed 5 took 6.82 seconds\n"
     ]
    },
    {
     "data": {
      "application/vnd.jupyter.widget-view+json": {
       "model_id": "c3cf9373ebb1499d832d979c3a85aaaa",
       "version_major": 2,
       "version_minor": 0
      },
      "text/plain": [
       "Executing:   0%|          | 0/21 [00:00<?, ?cell/s]"
      ]
     },
     "metadata": {},
     "output_type": "display_data"
    },
    {
     "name": "stderr",
     "output_type": "stream",
     "text": [
      "2024-05-09 00:23:27.528912: W external/xla/xla/service/gpu/nvptx_compiler.cc:760] The NVIDIA driver's CUDA version is 12.2 which is older than the ptxas CUDA version (12.4.131). Because the driver is older than the ptxas version, XLA is disabling parallel compilation, which may slow down compilation. You should update your NVIDIA driver or use the NVIDIA-provided CUDA forward compatibility packages.\n",
      "'+ptx84' is not a recognized feature for this target (ignoring feature)\n",
      "'+ptx84' is not a recognized feature for this target (ignoring feature)\n",
      "'+ptx84' is not a recognized feature for this target (ignoring feature)\n",
      "'+ptx84' is not a recognized feature for this target (ignoring feature)\n",
      "'+ptx84' is not a recognized feature for this target (ignoring feature)\n",
      "'+ptx84' is not a recognized feature for this target (ignoring feature)\n",
      "'+ptx84' is not a recognized feature for this target (ignoring feature)\n",
      "'+ptx84' is not a recognized feature for this target (ignoring feature)\n",
      "'+ptx84' is not a recognized feature for this target (ignoring feature)\n",
      "'+ptx84' is not a recognized feature for this target (ignoring feature)\n",
      "'+ptx84' is not a recognized feature for this target (ignoring feature)\n",
      "'+ptx84' is not a recognized feature for this target (ignoring feature)\n",
      "'+ptx84' is not a recognized feature for this target (ignoring feature)\n",
      "'+ptx84' is not a recognized feature for this target (ignoring feature)\n",
      "'+ptx84' is not a recognized feature for this target (ignoring feature)\n",
      "'+ptx84' is not a recognized feature for this target (ignoring feature)\n",
      "'+ptx84' is not a recognized feature for this target (ignoring feature)\n",
      "'+ptx84' is not a recognized feature for this target (ignoring feature)\n",
      "'+ptx84' is not a recognized feature for this target (ignoring feature)\n",
      "'+ptx84' is not a recognized feature for this target (ignoring feature)\n",
      "'+ptx84' is not a recognized feature for this target (ignoring feature)\n",
      "'+ptx84' is not a recognized feature for this target (ignoring feature)\n",
      "'+ptx84' is not a recognized feature for this target (ignoring feature)\n",
      "'+ptx84' is not a recognized feature for this target (ignoring feature)\n",
      "'+ptx84' is not a recognized feature for this target (ignoring feature)\n",
      "'+ptx84' is not a recognized feature for this target (ignoring feature)\n",
      "'+ptx84' is not a recognized feature for this target (ignoring feature)\n",
      "'+ptx84' is not a recognized feature for this target (ignoring feature)\n",
      "'+ptx84' is not a recognized feature for this target (ignoring feature)\n",
      "'+ptx84' is not a recognized feature for this target (ignoring feature)\n"
     ]
    },
    {
     "name": "stdout",
     "output_type": "stream",
     "text": [
      "Run 6 with seed 6 took 6.89 seconds\n"
     ]
    },
    {
     "data": {
      "application/vnd.jupyter.widget-view+json": {
       "model_id": "e1e8e6d8834a43718650989ffa9e2d1b",
       "version_major": 2,
       "version_minor": 0
      },
      "text/plain": [
       "Executing:   0%|          | 0/21 [00:00<?, ?cell/s]"
      ]
     },
     "metadata": {},
     "output_type": "display_data"
    },
    {
     "name": "stderr",
     "output_type": "stream",
     "text": [
      "2024-05-09 00:23:34.572957: W external/xla/xla/service/gpu/nvptx_compiler.cc:760] The NVIDIA driver's CUDA version is 12.2 which is older than the ptxas CUDA version (12.4.131). Because the driver is older than the ptxas version, XLA is disabling parallel compilation, which may slow down compilation. You should update your NVIDIA driver or use the NVIDIA-provided CUDA forward compatibility packages.\n",
      "'+ptx84' is not a recognized feature for this target (ignoring feature)\n",
      "'+ptx84' is not a recognized feature for this target (ignoring feature)\n",
      "'+ptx84' is not a recognized feature for this target (ignoring feature)\n",
      "'+ptx84' is not a recognized feature for this target (ignoring feature)\n",
      "'+ptx84' is not a recognized feature for this target (ignoring feature)\n",
      "'+ptx84' is not a recognized feature for this target (ignoring feature)\n",
      "'+ptx84' is not a recognized feature for this target (ignoring feature)\n",
      "'+ptx84' is not a recognized feature for this target (ignoring feature)\n",
      "'+ptx84' is not a recognized feature for this target (ignoring feature)\n",
      "'+ptx84' is not a recognized feature for this target (ignoring feature)\n",
      "'+ptx84' is not a recognized feature for this target (ignoring feature)\n",
      "'+ptx84' is not a recognized feature for this target (ignoring feature)\n",
      "'+ptx84' is not a recognized feature for this target (ignoring feature)\n",
      "'+ptx84' is not a recognized feature for this target (ignoring feature)\n",
      "'+ptx84' is not a recognized feature for this target (ignoring feature)\n",
      "'+ptx84' is not a recognized feature for this target (ignoring feature)\n",
      "'+ptx84' is not a recognized feature for this target (ignoring feature)\n",
      "'+ptx84' is not a recognized feature for this target (ignoring feature)\n",
      "'+ptx84' is not a recognized feature for this target (ignoring feature)\n",
      "'+ptx84' is not a recognized feature for this target (ignoring feature)\n",
      "'+ptx84' is not a recognized feature for this target (ignoring feature)\n",
      "'+ptx84' is not a recognized feature for this target (ignoring feature)\n",
      "'+ptx84' is not a recognized feature for this target (ignoring feature)\n",
      "'+ptx84' is not a recognized feature for this target (ignoring feature)\n",
      "'+ptx84' is not a recognized feature for this target (ignoring feature)\n",
      "'+ptx84' is not a recognized feature for this target (ignoring feature)\n",
      "'+ptx84' is not a recognized feature for this target (ignoring feature)\n",
      "'+ptx84' is not a recognized feature for this target (ignoring feature)\n",
      "'+ptx84' is not a recognized feature for this target (ignoring feature)\n",
      "'+ptx84' is not a recognized feature for this target (ignoring feature)\n"
     ]
    },
    {
     "name": "stdout",
     "output_type": "stream",
     "text": [
      "Run 7 with seed 7 took 7.04 seconds\n"
     ]
    },
    {
     "data": {
      "application/vnd.jupyter.widget-view+json": {
       "model_id": "c769cab4b6ba4fb4b6eba0774f39e716",
       "version_major": 2,
       "version_minor": 0
      },
      "text/plain": [
       "Executing:   0%|          | 0/21 [00:00<?, ?cell/s]"
      ]
     },
     "metadata": {},
     "output_type": "display_data"
    },
    {
     "name": "stderr",
     "output_type": "stream",
     "text": [
      "2024-05-09 00:23:41.600158: W external/xla/xla/service/gpu/nvptx_compiler.cc:760] The NVIDIA driver's CUDA version is 12.2 which is older than the ptxas CUDA version (12.4.131). Because the driver is older than the ptxas version, XLA is disabling parallel compilation, which may slow down compilation. You should update your NVIDIA driver or use the NVIDIA-provided CUDA forward compatibility packages.\n",
      "'+ptx84' is not a recognized feature for this target (ignoring feature)\n",
      "'+ptx84' is not a recognized feature for this target (ignoring feature)\n",
      "'+ptx84' is not a recognized feature for this target (ignoring feature)\n",
      "'+ptx84' is not a recognized feature for this target (ignoring feature)\n",
      "'+ptx84' is not a recognized feature for this target (ignoring feature)\n",
      "'+ptx84' is not a recognized feature for this target (ignoring feature)\n",
      "'+ptx84' is not a recognized feature for this target (ignoring feature)\n",
      "'+ptx84' is not a recognized feature for this target (ignoring feature)\n",
      "'+ptx84' is not a recognized feature for this target (ignoring feature)\n",
      "'+ptx84' is not a recognized feature for this target (ignoring feature)\n",
      "'+ptx84' is not a recognized feature for this target (ignoring feature)\n",
      "'+ptx84' is not a recognized feature for this target (ignoring feature)\n",
      "'+ptx84' is not a recognized feature for this target (ignoring feature)\n",
      "'+ptx84' is not a recognized feature for this target (ignoring feature)\n",
      "'+ptx84' is not a recognized feature for this target (ignoring feature)\n",
      "'+ptx84' is not a recognized feature for this target (ignoring feature)\n",
      "'+ptx84' is not a recognized feature for this target (ignoring feature)\n",
      "'+ptx84' is not a recognized feature for this target (ignoring feature)\n",
      "'+ptx84' is not a recognized feature for this target (ignoring feature)\n",
      "'+ptx84' is not a recognized feature for this target (ignoring feature)\n",
      "'+ptx84' is not a recognized feature for this target (ignoring feature)\n",
      "'+ptx84' is not a recognized feature for this target (ignoring feature)\n",
      "'+ptx84' is not a recognized feature for this target (ignoring feature)\n",
      "'+ptx84' is not a recognized feature for this target (ignoring feature)\n",
      "'+ptx84' is not a recognized feature for this target (ignoring feature)\n",
      "'+ptx84' is not a recognized feature for this target (ignoring feature)\n",
      "'+ptx84' is not a recognized feature for this target (ignoring feature)\n",
      "'+ptx84' is not a recognized feature for this target (ignoring feature)\n",
      "'+ptx84' is not a recognized feature for this target (ignoring feature)\n",
      "'+ptx84' is not a recognized feature for this target (ignoring feature)\n"
     ]
    },
    {
     "name": "stdout",
     "output_type": "stream",
     "text": [
      "Run 8 with seed 8 took 7.03 seconds\n"
     ]
    },
    {
     "data": {
      "application/vnd.jupyter.widget-view+json": {
       "model_id": "99b0d29913874ca194e2507f687dff3f",
       "version_major": 2,
       "version_minor": 0
      },
      "text/plain": [
       "Executing:   0%|          | 0/21 [00:00<?, ?cell/s]"
      ]
     },
     "metadata": {},
     "output_type": "display_data"
    },
    {
     "name": "stderr",
     "output_type": "stream",
     "text": [
      "2024-05-09 00:23:48.624524: W external/xla/xla/service/gpu/nvptx_compiler.cc:760] The NVIDIA driver's CUDA version is 12.2 which is older than the ptxas CUDA version (12.4.131). Because the driver is older than the ptxas version, XLA is disabling parallel compilation, which may slow down compilation. You should update your NVIDIA driver or use the NVIDIA-provided CUDA forward compatibility packages.\n",
      "'+ptx84' is not a recognized feature for this target (ignoring feature)\n",
      "'+ptx84' is not a recognized feature for this target (ignoring feature)\n",
      "'+ptx84' is not a recognized feature for this target (ignoring feature)\n",
      "'+ptx84' is not a recognized feature for this target (ignoring feature)\n",
      "'+ptx84' is not a recognized feature for this target (ignoring feature)\n",
      "'+ptx84' is not a recognized feature for this target (ignoring feature)\n",
      "'+ptx84' is not a recognized feature for this target (ignoring feature)\n",
      "'+ptx84' is not a recognized feature for this target (ignoring feature)\n",
      "'+ptx84' is not a recognized feature for this target (ignoring feature)\n",
      "'+ptx84' is not a recognized feature for this target (ignoring feature)\n",
      "'+ptx84' is not a recognized feature for this target (ignoring feature)\n",
      "'+ptx84' is not a recognized feature for this target (ignoring feature)\n",
      "'+ptx84' is not a recognized feature for this target (ignoring feature)\n",
      "'+ptx84' is not a recognized feature for this target (ignoring feature)\n",
      "'+ptx84' is not a recognized feature for this target (ignoring feature)\n",
      "'+ptx84' is not a recognized feature for this target (ignoring feature)\n",
      "'+ptx84' is not a recognized feature for this target (ignoring feature)\n",
      "'+ptx84' is not a recognized feature for this target (ignoring feature)\n",
      "'+ptx84' is not a recognized feature for this target (ignoring feature)\n",
      "'+ptx84' is not a recognized feature for this target (ignoring feature)\n",
      "'+ptx84' is not a recognized feature for this target (ignoring feature)\n",
      "'+ptx84' is not a recognized feature for this target (ignoring feature)\n",
      "'+ptx84' is not a recognized feature for this target (ignoring feature)\n",
      "'+ptx84' is not a recognized feature for this target (ignoring feature)\n",
      "'+ptx84' is not a recognized feature for this target (ignoring feature)\n",
      "'+ptx84' is not a recognized feature for this target (ignoring feature)\n",
      "'+ptx84' is not a recognized feature for this target (ignoring feature)\n",
      "'+ptx84' is not a recognized feature for this target (ignoring feature)\n",
      "'+ptx84' is not a recognized feature for this target (ignoring feature)\n",
      "'+ptx84' is not a recognized feature for this target (ignoring feature)\n"
     ]
    },
    {
     "name": "stdout",
     "output_type": "stream",
     "text": [
      "Run 9 with seed 9 took 7.03 seconds\n"
     ]
    },
    {
     "data": {
      "application/vnd.jupyter.widget-view+json": {
       "model_id": "3f244b5625364fd5ad72f96b7b72cf50",
       "version_major": 2,
       "version_minor": 0
      },
      "text/plain": [
       "Executing:   0%|          | 0/21 [00:00<?, ?cell/s]"
      ]
     },
     "metadata": {},
     "output_type": "display_data"
    },
    {
     "name": "stderr",
     "output_type": "stream",
     "text": [
      "2024-05-09 00:23:55.666766: W external/xla/xla/service/gpu/nvptx_compiler.cc:760] The NVIDIA driver's CUDA version is 12.2 which is older than the ptxas CUDA version (12.4.131). Because the driver is older than the ptxas version, XLA is disabling parallel compilation, which may slow down compilation. You should update your NVIDIA driver or use the NVIDIA-provided CUDA forward compatibility packages.\n",
      "'+ptx84' is not a recognized feature for this target (ignoring feature)\n",
      "'+ptx84' is not a recognized feature for this target (ignoring feature)\n",
      "'+ptx84' is not a recognized feature for this target (ignoring feature)\n",
      "'+ptx84' is not a recognized feature for this target (ignoring feature)\n",
      "'+ptx84' is not a recognized feature for this target (ignoring feature)\n",
      "'+ptx84' is not a recognized feature for this target (ignoring feature)\n",
      "'+ptx84' is not a recognized feature for this target (ignoring feature)\n",
      "'+ptx84' is not a recognized feature for this target (ignoring feature)\n",
      "'+ptx84' is not a recognized feature for this target (ignoring feature)\n",
      "'+ptx84' is not a recognized feature for this target (ignoring feature)\n",
      "'+ptx84' is not a recognized feature for this target (ignoring feature)\n",
      "'+ptx84' is not a recognized feature for this target (ignoring feature)\n",
      "'+ptx84' is not a recognized feature for this target (ignoring feature)\n",
      "'+ptx84' is not a recognized feature for this target (ignoring feature)\n",
      "'+ptx84' is not a recognized feature for this target (ignoring feature)\n",
      "'+ptx84' is not a recognized feature for this target (ignoring feature)\n",
      "'+ptx84' is not a recognized feature for this target (ignoring feature)\n",
      "'+ptx84' is not a recognized feature for this target (ignoring feature)\n",
      "'+ptx84' is not a recognized feature for this target (ignoring feature)\n",
      "'+ptx84' is not a recognized feature for this target (ignoring feature)\n",
      "'+ptx84' is not a recognized feature for this target (ignoring feature)\n",
      "'+ptx84' is not a recognized feature for this target (ignoring feature)\n",
      "'+ptx84' is not a recognized feature for this target (ignoring feature)\n",
      "'+ptx84' is not a recognized feature for this target (ignoring feature)\n",
      "'+ptx84' is not a recognized feature for this target (ignoring feature)\n",
      "'+ptx84' is not a recognized feature for this target (ignoring feature)\n",
      "'+ptx84' is not a recognized feature for this target (ignoring feature)\n",
      "'+ptx84' is not a recognized feature for this target (ignoring feature)\n",
      "'+ptx84' is not a recognized feature for this target (ignoring feature)\n",
      "'+ptx84' is not a recognized feature for this target (ignoring feature)\n"
     ]
    },
    {
     "name": "stdout",
     "output_type": "stream",
     "text": [
      "Run 10 with seed 10 took 7.04 seconds\n"
     ]
    },
    {
     "data": {
      "application/vnd.jupyter.widget-view+json": {
       "model_id": "f3666187742a4c5491e515ab7a98b5f4",
       "version_major": 2,
       "version_minor": 0
      },
      "text/plain": [
       "Executing:   0%|          | 0/21 [00:00<?, ?cell/s]"
      ]
     },
     "metadata": {},
     "output_type": "display_data"
    },
    {
     "name": "stderr",
     "output_type": "stream",
     "text": [
      "2024-05-09 00:24:02.517825: W external/xla/xla/service/gpu/nvptx_compiler.cc:760] The NVIDIA driver's CUDA version is 12.2 which is older than the ptxas CUDA version (12.4.131). Because the driver is older than the ptxas version, XLA is disabling parallel compilation, which may slow down compilation. You should update your NVIDIA driver or use the NVIDIA-provided CUDA forward compatibility packages.\n",
      "'+ptx84' is not a recognized feature for this target (ignoring feature)\n",
      "'+ptx84' is not a recognized feature for this target (ignoring feature)\n",
      "'+ptx84' is not a recognized feature for this target (ignoring feature)\n",
      "'+ptx84' is not a recognized feature for this target (ignoring feature)\n",
      "'+ptx84' is not a recognized feature for this target (ignoring feature)\n",
      "'+ptx84' is not a recognized feature for this target (ignoring feature)\n",
      "'+ptx84' is not a recognized feature for this target (ignoring feature)\n",
      "'+ptx84' is not a recognized feature for this target (ignoring feature)\n",
      "'+ptx84' is not a recognized feature for this target (ignoring feature)\n",
      "'+ptx84' is not a recognized feature for this target (ignoring feature)\n",
      "'+ptx84' is not a recognized feature for this target (ignoring feature)\n",
      "'+ptx84' is not a recognized feature for this target (ignoring feature)\n",
      "'+ptx84' is not a recognized feature for this target (ignoring feature)\n",
      "'+ptx84' is not a recognized feature for this target (ignoring feature)\n",
      "'+ptx84' is not a recognized feature for this target (ignoring feature)\n",
      "'+ptx84' is not a recognized feature for this target (ignoring feature)\n",
      "'+ptx84' is not a recognized feature for this target (ignoring feature)\n",
      "'+ptx84' is not a recognized feature for this target (ignoring feature)\n",
      "'+ptx84' is not a recognized feature for this target (ignoring feature)\n",
      "'+ptx84' is not a recognized feature for this target (ignoring feature)\n",
      "'+ptx84' is not a recognized feature for this target (ignoring feature)\n",
      "'+ptx84' is not a recognized feature for this target (ignoring feature)\n",
      "'+ptx84' is not a recognized feature for this target (ignoring feature)\n",
      "'+ptx84' is not a recognized feature for this target (ignoring feature)\n",
      "'+ptx84' is not a recognized feature for this target (ignoring feature)\n",
      "'+ptx84' is not a recognized feature for this target (ignoring feature)\n",
      "'+ptx84' is not a recognized feature for this target (ignoring feature)\n",
      "'+ptx84' is not a recognized feature for this target (ignoring feature)\n",
      "'+ptx84' is not a recognized feature for this target (ignoring feature)\n",
      "'+ptx84' is not a recognized feature for this target (ignoring feature)\n"
     ]
    },
    {
     "name": "stdout",
     "output_type": "stream",
     "text": [
      "Run 11 with seed 11 took 6.85 seconds\n"
     ]
    },
    {
     "data": {
      "application/vnd.jupyter.widget-view+json": {
       "model_id": "18d6cde25bf243ed902ce147ab48dbd2",
       "version_major": 2,
       "version_minor": 0
      },
      "text/plain": [
       "Executing:   0%|          | 0/21 [00:00<?, ?cell/s]"
      ]
     },
     "metadata": {},
     "output_type": "display_data"
    },
    {
     "name": "stderr",
     "output_type": "stream",
     "text": [
      "2024-05-09 00:24:09.366937: W external/xla/xla/service/gpu/nvptx_compiler.cc:760] The NVIDIA driver's CUDA version is 12.2 which is older than the ptxas CUDA version (12.4.131). Because the driver is older than the ptxas version, XLA is disabling parallel compilation, which may slow down compilation. You should update your NVIDIA driver or use the NVIDIA-provided CUDA forward compatibility packages.\n",
      "'+ptx84' is not a recognized feature for this target (ignoring feature)\n",
      "'+ptx84' is not a recognized feature for this target (ignoring feature)\n",
      "'+ptx84' is not a recognized feature for this target (ignoring feature)\n",
      "'+ptx84' is not a recognized feature for this target (ignoring feature)\n",
      "'+ptx84' is not a recognized feature for this target (ignoring feature)\n",
      "'+ptx84' is not a recognized feature for this target (ignoring feature)\n",
      "'+ptx84' is not a recognized feature for this target (ignoring feature)\n",
      "'+ptx84' is not a recognized feature for this target (ignoring feature)\n",
      "'+ptx84' is not a recognized feature for this target (ignoring feature)\n",
      "'+ptx84' is not a recognized feature for this target (ignoring feature)\n",
      "'+ptx84' is not a recognized feature for this target (ignoring feature)\n",
      "'+ptx84' is not a recognized feature for this target (ignoring feature)\n",
      "'+ptx84' is not a recognized feature for this target (ignoring feature)\n",
      "'+ptx84' is not a recognized feature for this target (ignoring feature)\n",
      "'+ptx84' is not a recognized feature for this target (ignoring feature)\n",
      "'+ptx84' is not a recognized feature for this target (ignoring feature)\n",
      "'+ptx84' is not a recognized feature for this target (ignoring feature)\n",
      "'+ptx84' is not a recognized feature for this target (ignoring feature)\n",
      "'+ptx84' is not a recognized feature for this target (ignoring feature)\n",
      "'+ptx84' is not a recognized feature for this target (ignoring feature)\n",
      "'+ptx84' is not a recognized feature for this target (ignoring feature)\n",
      "'+ptx84' is not a recognized feature for this target (ignoring feature)\n",
      "'+ptx84' is not a recognized feature for this target (ignoring feature)\n",
      "'+ptx84' is not a recognized feature for this target (ignoring feature)\n",
      "'+ptx84' is not a recognized feature for this target (ignoring feature)\n",
      "'+ptx84' is not a recognized feature for this target (ignoring feature)\n",
      "'+ptx84' is not a recognized feature for this target (ignoring feature)\n",
      "'+ptx84' is not a recognized feature for this target (ignoring feature)\n",
      "'+ptx84' is not a recognized feature for this target (ignoring feature)\n",
      "'+ptx84' is not a recognized feature for this target (ignoring feature)\n"
     ]
    },
    {
     "name": "stdout",
     "output_type": "stream",
     "text": [
      "Run 12 with seed 12 took 6.86 seconds\n"
     ]
    },
    {
     "data": {
      "application/vnd.jupyter.widget-view+json": {
       "model_id": "1048c93a6d1449f7b9ee53df4d8e48f4",
       "version_major": 2,
       "version_minor": 0
      },
      "text/plain": [
       "Executing:   0%|          | 0/21 [00:00<?, ?cell/s]"
      ]
     },
     "metadata": {},
     "output_type": "display_data"
    },
    {
     "name": "stderr",
     "output_type": "stream",
     "text": [
      "2024-05-09 00:24:16.211461: W external/xla/xla/service/gpu/nvptx_compiler.cc:760] The NVIDIA driver's CUDA version is 12.2 which is older than the ptxas CUDA version (12.4.131). Because the driver is older than the ptxas version, XLA is disabling parallel compilation, which may slow down compilation. You should update your NVIDIA driver or use the NVIDIA-provided CUDA forward compatibility packages.\n",
      "'+ptx84' is not a recognized feature for this target (ignoring feature)\n",
      "'+ptx84' is not a recognized feature for this target (ignoring feature)\n",
      "'+ptx84' is not a recognized feature for this target (ignoring feature)\n",
      "'+ptx84' is not a recognized feature for this target (ignoring feature)\n",
      "'+ptx84' is not a recognized feature for this target (ignoring feature)\n",
      "'+ptx84' is not a recognized feature for this target (ignoring feature)\n",
      "'+ptx84' is not a recognized feature for this target (ignoring feature)\n",
      "'+ptx84' is not a recognized feature for this target (ignoring feature)\n",
      "'+ptx84' is not a recognized feature for this target (ignoring feature)\n",
      "'+ptx84' is not a recognized feature for this target (ignoring feature)\n",
      "'+ptx84' is not a recognized feature for this target (ignoring feature)\n",
      "'+ptx84' is not a recognized feature for this target (ignoring feature)\n",
      "'+ptx84' is not a recognized feature for this target (ignoring feature)\n",
      "'+ptx84' is not a recognized feature for this target (ignoring feature)\n",
      "'+ptx84' is not a recognized feature for this target (ignoring feature)\n",
      "'+ptx84' is not a recognized feature for this target (ignoring feature)\n",
      "'+ptx84' is not a recognized feature for this target (ignoring feature)\n",
      "'+ptx84' is not a recognized feature for this target (ignoring feature)\n",
      "'+ptx84' is not a recognized feature for this target (ignoring feature)\n",
      "'+ptx84' is not a recognized feature for this target (ignoring feature)\n",
      "'+ptx84' is not a recognized feature for this target (ignoring feature)\n",
      "'+ptx84' is not a recognized feature for this target (ignoring feature)\n",
      "'+ptx84' is not a recognized feature for this target (ignoring feature)\n",
      "'+ptx84' is not a recognized feature for this target (ignoring feature)\n",
      "'+ptx84' is not a recognized feature for this target (ignoring feature)\n",
      "'+ptx84' is not a recognized feature for this target (ignoring feature)\n",
      "'+ptx84' is not a recognized feature for this target (ignoring feature)\n",
      "'+ptx84' is not a recognized feature for this target (ignoring feature)\n",
      "'+ptx84' is not a recognized feature for this target (ignoring feature)\n",
      "'+ptx84' is not a recognized feature for this target (ignoring feature)\n"
     ]
    },
    {
     "name": "stdout",
     "output_type": "stream",
     "text": [
      "Run 13 with seed 13 took 6.83 seconds\n"
     ]
    },
    {
     "data": {
      "application/vnd.jupyter.widget-view+json": {
       "model_id": "a0b932d4af4943d8af085bf4ceda8175",
       "version_major": 2,
       "version_minor": 0
      },
      "text/plain": [
       "Executing:   0%|          | 0/21 [00:00<?, ?cell/s]"
      ]
     },
     "metadata": {},
     "output_type": "display_data"
    },
    {
     "name": "stderr",
     "output_type": "stream",
     "text": [
      "2024-05-09 00:24:23.249258: W external/xla/xla/service/gpu/nvptx_compiler.cc:760] The NVIDIA driver's CUDA version is 12.2 which is older than the ptxas CUDA version (12.4.131). Because the driver is older than the ptxas version, XLA is disabling parallel compilation, which may slow down compilation. You should update your NVIDIA driver or use the NVIDIA-provided CUDA forward compatibility packages.\n",
      "'+ptx84' is not a recognized feature for this target (ignoring feature)\n",
      "'+ptx84' is not a recognized feature for this target (ignoring feature)\n",
      "'+ptx84' is not a recognized feature for this target (ignoring feature)\n",
      "'+ptx84' is not a recognized feature for this target (ignoring feature)\n",
      "'+ptx84' is not a recognized feature for this target (ignoring feature)\n",
      "'+ptx84' is not a recognized feature for this target (ignoring feature)\n",
      "'+ptx84' is not a recognized feature for this target (ignoring feature)\n",
      "'+ptx84' is not a recognized feature for this target (ignoring feature)\n",
      "'+ptx84' is not a recognized feature for this target (ignoring feature)\n",
      "'+ptx84' is not a recognized feature for this target (ignoring feature)\n",
      "'+ptx84' is not a recognized feature for this target (ignoring feature)\n",
      "'+ptx84' is not a recognized feature for this target (ignoring feature)\n",
      "'+ptx84' is not a recognized feature for this target (ignoring feature)\n",
      "'+ptx84' is not a recognized feature for this target (ignoring feature)\n",
      "'+ptx84' is not a recognized feature for this target (ignoring feature)\n",
      "'+ptx84' is not a recognized feature for this target (ignoring feature)\n",
      "'+ptx84' is not a recognized feature for this target (ignoring feature)\n",
      "'+ptx84' is not a recognized feature for this target (ignoring feature)\n",
      "'+ptx84' is not a recognized feature for this target (ignoring feature)\n",
      "'+ptx84' is not a recognized feature for this target (ignoring feature)\n",
      "'+ptx84' is not a recognized feature for this target (ignoring feature)\n",
      "'+ptx84' is not a recognized feature for this target (ignoring feature)\n",
      "'+ptx84' is not a recognized feature for this target (ignoring feature)\n",
      "'+ptx84' is not a recognized feature for this target (ignoring feature)\n",
      "'+ptx84' is not a recognized feature for this target (ignoring feature)\n",
      "'+ptx84' is not a recognized feature for this target (ignoring feature)\n",
      "'+ptx84' is not a recognized feature for this target (ignoring feature)\n",
      "'+ptx84' is not a recognized feature for this target (ignoring feature)\n",
      "'+ptx84' is not a recognized feature for this target (ignoring feature)\n",
      "'+ptx84' is not a recognized feature for this target (ignoring feature)\n"
     ]
    },
    {
     "name": "stdout",
     "output_type": "stream",
     "text": [
      "Run 14 with seed 14 took 7.04 seconds\n"
     ]
    },
    {
     "data": {
      "application/vnd.jupyter.widget-view+json": {
       "model_id": "717e614b3db94a5fb62117ebd43b5f60",
       "version_major": 2,
       "version_minor": 0
      },
      "text/plain": [
       "Executing:   0%|          | 0/21 [00:00<?, ?cell/s]"
      ]
     },
     "metadata": {},
     "output_type": "display_data"
    },
    {
     "name": "stderr",
     "output_type": "stream",
     "text": [
      "2024-05-09 00:24:30.154550: W external/xla/xla/service/gpu/nvptx_compiler.cc:760] The NVIDIA driver's CUDA version is 12.2 which is older than the ptxas CUDA version (12.4.131). Because the driver is older than the ptxas version, XLA is disabling parallel compilation, which may slow down compilation. You should update your NVIDIA driver or use the NVIDIA-provided CUDA forward compatibility packages.\n",
      "'+ptx84' is not a recognized feature for this target (ignoring feature)\n",
      "'+ptx84' is not a recognized feature for this target (ignoring feature)\n",
      "'+ptx84' is not a recognized feature for this target (ignoring feature)\n",
      "'+ptx84' is not a recognized feature for this target (ignoring feature)\n",
      "'+ptx84' is not a recognized feature for this target (ignoring feature)\n",
      "'+ptx84' is not a recognized feature for this target (ignoring feature)\n",
      "'+ptx84' is not a recognized feature for this target (ignoring feature)\n",
      "'+ptx84' is not a recognized feature for this target (ignoring feature)\n",
      "'+ptx84' is not a recognized feature for this target (ignoring feature)\n",
      "'+ptx84' is not a recognized feature for this target (ignoring feature)\n",
      "'+ptx84' is not a recognized feature for this target (ignoring feature)\n",
      "'+ptx84' is not a recognized feature for this target (ignoring feature)\n",
      "'+ptx84' is not a recognized feature for this target (ignoring feature)\n",
      "'+ptx84' is not a recognized feature for this target (ignoring feature)\n",
      "'+ptx84' is not a recognized feature for this target (ignoring feature)\n",
      "'+ptx84' is not a recognized feature for this target (ignoring feature)\n",
      "'+ptx84' is not a recognized feature for this target (ignoring feature)\n",
      "'+ptx84' is not a recognized feature for this target (ignoring feature)\n",
      "'+ptx84' is not a recognized feature for this target (ignoring feature)\n",
      "'+ptx84' is not a recognized feature for this target (ignoring feature)\n",
      "'+ptx84' is not a recognized feature for this target (ignoring feature)\n",
      "'+ptx84' is not a recognized feature for this target (ignoring feature)\n",
      "'+ptx84' is not a recognized feature for this target (ignoring feature)\n",
      "'+ptx84' is not a recognized feature for this target (ignoring feature)\n",
      "'+ptx84' is not a recognized feature for this target (ignoring feature)\n",
      "'+ptx84' is not a recognized feature for this target (ignoring feature)\n",
      "'+ptx84' is not a recognized feature for this target (ignoring feature)\n",
      "'+ptx84' is not a recognized feature for this target (ignoring feature)\n",
      "'+ptx84' is not a recognized feature for this target (ignoring feature)\n",
      "'+ptx84' is not a recognized feature for this target (ignoring feature)\n"
     ]
    },
    {
     "name": "stdout",
     "output_type": "stream",
     "text": [
      "Run 15 with seed 15 took 6.91 seconds\n"
     ]
    },
    {
     "data": {
      "application/vnd.jupyter.widget-view+json": {
       "model_id": "82efbb097d744758ad6d1aa9250852e9",
       "version_major": 2,
       "version_minor": 0
      },
      "text/plain": [
       "Executing:   0%|          | 0/21 [00:00<?, ?cell/s]"
      ]
     },
     "metadata": {},
     "output_type": "display_data"
    },
    {
     "name": "stderr",
     "output_type": "stream",
     "text": [
      "2024-05-09 00:24:37.181864: W external/xla/xla/service/gpu/nvptx_compiler.cc:760] The NVIDIA driver's CUDA version is 12.2 which is older than the ptxas CUDA version (12.4.131). Because the driver is older than the ptxas version, XLA is disabling parallel compilation, which may slow down compilation. You should update your NVIDIA driver or use the NVIDIA-provided CUDA forward compatibility packages.\n",
      "'+ptx84' is not a recognized feature for this target (ignoring feature)\n",
      "'+ptx84' is not a recognized feature for this target (ignoring feature)\n",
      "'+ptx84' is not a recognized feature for this target (ignoring feature)\n",
      "'+ptx84' is not a recognized feature for this target (ignoring feature)\n",
      "'+ptx84' is not a recognized feature for this target (ignoring feature)\n",
      "'+ptx84' is not a recognized feature for this target (ignoring feature)\n",
      "'+ptx84' is not a recognized feature for this target (ignoring feature)\n",
      "'+ptx84' is not a recognized feature for this target (ignoring feature)\n",
      "'+ptx84' is not a recognized feature for this target (ignoring feature)\n",
      "'+ptx84' is not a recognized feature for this target (ignoring feature)\n",
      "'+ptx84' is not a recognized feature for this target (ignoring feature)\n",
      "'+ptx84' is not a recognized feature for this target (ignoring feature)\n",
      "'+ptx84' is not a recognized feature for this target (ignoring feature)\n",
      "'+ptx84' is not a recognized feature for this target (ignoring feature)\n",
      "'+ptx84' is not a recognized feature for this target (ignoring feature)\n",
      "'+ptx84' is not a recognized feature for this target (ignoring feature)\n",
      "'+ptx84' is not a recognized feature for this target (ignoring feature)\n",
      "'+ptx84' is not a recognized feature for this target (ignoring feature)\n",
      "'+ptx84' is not a recognized feature for this target (ignoring feature)\n",
      "'+ptx84' is not a recognized feature for this target (ignoring feature)\n",
      "'+ptx84' is not a recognized feature for this target (ignoring feature)\n",
      "'+ptx84' is not a recognized feature for this target (ignoring feature)\n",
      "'+ptx84' is not a recognized feature for this target (ignoring feature)\n",
      "'+ptx84' is not a recognized feature for this target (ignoring feature)\n",
      "'+ptx84' is not a recognized feature for this target (ignoring feature)\n",
      "'+ptx84' is not a recognized feature for this target (ignoring feature)\n",
      "'+ptx84' is not a recognized feature for this target (ignoring feature)\n",
      "'+ptx84' is not a recognized feature for this target (ignoring feature)\n",
      "'+ptx84' is not a recognized feature for this target (ignoring feature)\n",
      "'+ptx84' is not a recognized feature for this target (ignoring feature)\n"
     ]
    },
    {
     "name": "stdout",
     "output_type": "stream",
     "text": [
      "Run 16 with seed 16 took 7.03 seconds\n"
     ]
    },
    {
     "data": {
      "application/vnd.jupyter.widget-view+json": {
       "model_id": "d727cfb69135478f8e3be171b428dd50",
       "version_major": 2,
       "version_minor": 0
      },
      "text/plain": [
       "Executing:   0%|          | 0/21 [00:00<?, ?cell/s]"
      ]
     },
     "metadata": {},
     "output_type": "display_data"
    },
    {
     "name": "stderr",
     "output_type": "stream",
     "text": [
      "2024-05-09 00:24:44.122051: W external/xla/xla/service/gpu/nvptx_compiler.cc:760] The NVIDIA driver's CUDA version is 12.2 which is older than the ptxas CUDA version (12.4.131). Because the driver is older than the ptxas version, XLA is disabling parallel compilation, which may slow down compilation. You should update your NVIDIA driver or use the NVIDIA-provided CUDA forward compatibility packages.\n",
      "'+ptx84' is not a recognized feature for this target (ignoring feature)\n",
      "'+ptx84' is not a recognized feature for this target (ignoring feature)\n",
      "'+ptx84' is not a recognized feature for this target (ignoring feature)\n",
      "'+ptx84' is not a recognized feature for this target (ignoring feature)\n",
      "'+ptx84' is not a recognized feature for this target (ignoring feature)\n",
      "'+ptx84' is not a recognized feature for this target (ignoring feature)\n",
      "'+ptx84' is not a recognized feature for this target (ignoring feature)\n",
      "'+ptx84' is not a recognized feature for this target (ignoring feature)\n",
      "'+ptx84' is not a recognized feature for this target (ignoring feature)\n",
      "'+ptx84' is not a recognized feature for this target (ignoring feature)\n",
      "'+ptx84' is not a recognized feature for this target (ignoring feature)\n",
      "'+ptx84' is not a recognized feature for this target (ignoring feature)\n",
      "'+ptx84' is not a recognized feature for this target (ignoring feature)\n",
      "'+ptx84' is not a recognized feature for this target (ignoring feature)\n",
      "'+ptx84' is not a recognized feature for this target (ignoring feature)\n",
      "'+ptx84' is not a recognized feature for this target (ignoring feature)\n",
      "'+ptx84' is not a recognized feature for this target (ignoring feature)\n",
      "'+ptx84' is not a recognized feature for this target (ignoring feature)\n",
      "'+ptx84' is not a recognized feature for this target (ignoring feature)\n",
      "'+ptx84' is not a recognized feature for this target (ignoring feature)\n",
      "'+ptx84' is not a recognized feature for this target (ignoring feature)\n",
      "'+ptx84' is not a recognized feature for this target (ignoring feature)\n",
      "'+ptx84' is not a recognized feature for this target (ignoring feature)\n",
      "'+ptx84' is not a recognized feature for this target (ignoring feature)\n",
      "'+ptx84' is not a recognized feature for this target (ignoring feature)\n",
      "'+ptx84' is not a recognized feature for this target (ignoring feature)\n",
      "'+ptx84' is not a recognized feature for this target (ignoring feature)\n",
      "'+ptx84' is not a recognized feature for this target (ignoring feature)\n",
      "'+ptx84' is not a recognized feature for this target (ignoring feature)\n",
      "'+ptx84' is not a recognized feature for this target (ignoring feature)\n"
     ]
    },
    {
     "name": "stdout",
     "output_type": "stream",
     "text": [
      "Run 17 with seed 17 took 6.93 seconds\n"
     ]
    },
    {
     "data": {
      "application/vnd.jupyter.widget-view+json": {
       "model_id": "c5472d0717a243efb55f80cbee47f7cc",
       "version_major": 2,
       "version_minor": 0
      },
      "text/plain": [
       "Executing:   0%|          | 0/21 [00:00<?, ?cell/s]"
      ]
     },
     "metadata": {},
     "output_type": "display_data"
    },
    {
     "name": "stderr",
     "output_type": "stream",
     "text": [
      "2024-05-09 00:24:50.994311: W external/xla/xla/service/gpu/nvptx_compiler.cc:760] The NVIDIA driver's CUDA version is 12.2 which is older than the ptxas CUDA version (12.4.131). Because the driver is older than the ptxas version, XLA is disabling parallel compilation, which may slow down compilation. You should update your NVIDIA driver or use the NVIDIA-provided CUDA forward compatibility packages.\n",
      "'+ptx84' is not a recognized feature for this target (ignoring feature)\n",
      "'+ptx84' is not a recognized feature for this target (ignoring feature)\n",
      "'+ptx84' is not a recognized feature for this target (ignoring feature)\n",
      "'+ptx84' is not a recognized feature for this target (ignoring feature)\n",
      "'+ptx84' is not a recognized feature for this target (ignoring feature)\n",
      "'+ptx84' is not a recognized feature for this target (ignoring feature)\n",
      "'+ptx84' is not a recognized feature for this target (ignoring feature)\n",
      "'+ptx84' is not a recognized feature for this target (ignoring feature)\n",
      "'+ptx84' is not a recognized feature for this target (ignoring feature)\n",
      "'+ptx84' is not a recognized feature for this target (ignoring feature)\n",
      "'+ptx84' is not a recognized feature for this target (ignoring feature)\n",
      "'+ptx84' is not a recognized feature for this target (ignoring feature)\n",
      "'+ptx84' is not a recognized feature for this target (ignoring feature)\n",
      "'+ptx84' is not a recognized feature for this target (ignoring feature)\n",
      "'+ptx84' is not a recognized feature for this target (ignoring feature)\n",
      "'+ptx84' is not a recognized feature for this target (ignoring feature)\n",
      "'+ptx84' is not a recognized feature for this target (ignoring feature)\n",
      "'+ptx84' is not a recognized feature for this target (ignoring feature)\n",
      "'+ptx84' is not a recognized feature for this target (ignoring feature)\n",
      "'+ptx84' is not a recognized feature for this target (ignoring feature)\n",
      "'+ptx84' is not a recognized feature for this target (ignoring feature)\n",
      "'+ptx84' is not a recognized feature for this target (ignoring feature)\n",
      "'+ptx84' is not a recognized feature for this target (ignoring feature)\n",
      "'+ptx84' is not a recognized feature for this target (ignoring feature)\n",
      "'+ptx84' is not a recognized feature for this target (ignoring feature)\n",
      "'+ptx84' is not a recognized feature for this target (ignoring feature)\n",
      "'+ptx84' is not a recognized feature for this target (ignoring feature)\n",
      "'+ptx84' is not a recognized feature for this target (ignoring feature)\n",
      "'+ptx84' is not a recognized feature for this target (ignoring feature)\n",
      "'+ptx84' is not a recognized feature for this target (ignoring feature)\n"
     ]
    },
    {
     "name": "stdout",
     "output_type": "stream",
     "text": [
      "Run 18 with seed 18 took 6.88 seconds\n"
     ]
    },
    {
     "data": {
      "application/vnd.jupyter.widget-view+json": {
       "model_id": "2e32fe8b22424ed7b49a25b9d66dc672",
       "version_major": 2,
       "version_minor": 0
      },
      "text/plain": [
       "Executing:   0%|          | 0/21 [00:00<?, ?cell/s]"
      ]
     },
     "metadata": {},
     "output_type": "display_data"
    },
    {
     "name": "stderr",
     "output_type": "stream",
     "text": [
      "2024-05-09 00:24:58.022713: W external/xla/xla/service/gpu/nvptx_compiler.cc:760] The NVIDIA driver's CUDA version is 12.2 which is older than the ptxas CUDA version (12.4.131). Because the driver is older than the ptxas version, XLA is disabling parallel compilation, which may slow down compilation. You should update your NVIDIA driver or use the NVIDIA-provided CUDA forward compatibility packages.\n",
      "'+ptx84' is not a recognized feature for this target (ignoring feature)\n",
      "'+ptx84' is not a recognized feature for this target (ignoring feature)\n",
      "'+ptx84' is not a recognized feature for this target (ignoring feature)\n",
      "'+ptx84' is not a recognized feature for this target (ignoring feature)\n",
      "'+ptx84' is not a recognized feature for this target (ignoring feature)\n",
      "'+ptx84' is not a recognized feature for this target (ignoring feature)\n",
      "'+ptx84' is not a recognized feature for this target (ignoring feature)\n",
      "'+ptx84' is not a recognized feature for this target (ignoring feature)\n",
      "'+ptx84' is not a recognized feature for this target (ignoring feature)\n",
      "'+ptx84' is not a recognized feature for this target (ignoring feature)\n",
      "'+ptx84' is not a recognized feature for this target (ignoring feature)\n",
      "'+ptx84' is not a recognized feature for this target (ignoring feature)\n",
      "'+ptx84' is not a recognized feature for this target (ignoring feature)\n",
      "'+ptx84' is not a recognized feature for this target (ignoring feature)\n",
      "'+ptx84' is not a recognized feature for this target (ignoring feature)\n",
      "'+ptx84' is not a recognized feature for this target (ignoring feature)\n",
      "'+ptx84' is not a recognized feature for this target (ignoring feature)\n",
      "'+ptx84' is not a recognized feature for this target (ignoring feature)\n",
      "'+ptx84' is not a recognized feature for this target (ignoring feature)\n",
      "'+ptx84' is not a recognized feature for this target (ignoring feature)\n",
      "'+ptx84' is not a recognized feature for this target (ignoring feature)\n",
      "'+ptx84' is not a recognized feature for this target (ignoring feature)\n",
      "'+ptx84' is not a recognized feature for this target (ignoring feature)\n",
      "'+ptx84' is not a recognized feature for this target (ignoring feature)\n",
      "'+ptx84' is not a recognized feature for this target (ignoring feature)\n",
      "'+ptx84' is not a recognized feature for this target (ignoring feature)\n",
      "'+ptx84' is not a recognized feature for this target (ignoring feature)\n",
      "'+ptx84' is not a recognized feature for this target (ignoring feature)\n",
      "'+ptx84' is not a recognized feature for this target (ignoring feature)\n",
      "'+ptx84' is not a recognized feature for this target (ignoring feature)\n"
     ]
    },
    {
     "name": "stdout",
     "output_type": "stream",
     "text": [
      "Run 19 with seed 19 took 7.03 seconds\n"
     ]
    },
    {
     "data": {
      "application/vnd.jupyter.widget-view+json": {
       "model_id": "a83b80175bd848d5a5ab3f84dd84bb94",
       "version_major": 2,
       "version_minor": 0
      },
      "text/plain": [
       "Executing:   0%|          | 0/21 [00:00<?, ?cell/s]"
      ]
     },
     "metadata": {},
     "output_type": "display_data"
    },
    {
     "name": "stderr",
     "output_type": "stream",
     "text": [
      "2024-05-09 00:25:04.935843: W external/xla/xla/service/gpu/nvptx_compiler.cc:760] The NVIDIA driver's CUDA version is 12.2 which is older than the ptxas CUDA version (12.4.131). Because the driver is older than the ptxas version, XLA is disabling parallel compilation, which may slow down compilation. You should update your NVIDIA driver or use the NVIDIA-provided CUDA forward compatibility packages.\n",
      "'+ptx84' is not a recognized feature for this target (ignoring feature)\n",
      "'+ptx84' is not a recognized feature for this target (ignoring feature)\n",
      "'+ptx84' is not a recognized feature for this target (ignoring feature)\n",
      "'+ptx84' is not a recognized feature for this target (ignoring feature)\n",
      "'+ptx84' is not a recognized feature for this target (ignoring feature)\n",
      "'+ptx84' is not a recognized feature for this target (ignoring feature)\n",
      "'+ptx84' is not a recognized feature for this target (ignoring feature)\n",
      "'+ptx84' is not a recognized feature for this target (ignoring feature)\n",
      "'+ptx84' is not a recognized feature for this target (ignoring feature)\n",
      "'+ptx84' is not a recognized feature for this target (ignoring feature)\n",
      "'+ptx84' is not a recognized feature for this target (ignoring feature)\n",
      "'+ptx84' is not a recognized feature for this target (ignoring feature)\n",
      "'+ptx84' is not a recognized feature for this target (ignoring feature)\n",
      "'+ptx84' is not a recognized feature for this target (ignoring feature)\n",
      "'+ptx84' is not a recognized feature for this target (ignoring feature)\n",
      "'+ptx84' is not a recognized feature for this target (ignoring feature)\n",
      "'+ptx84' is not a recognized feature for this target (ignoring feature)\n",
      "'+ptx84' is not a recognized feature for this target (ignoring feature)\n",
      "'+ptx84' is not a recognized feature for this target (ignoring feature)\n",
      "'+ptx84' is not a recognized feature for this target (ignoring feature)\n",
      "'+ptx84' is not a recognized feature for this target (ignoring feature)\n",
      "'+ptx84' is not a recognized feature for this target (ignoring feature)\n",
      "'+ptx84' is not a recognized feature for this target (ignoring feature)\n",
      "'+ptx84' is not a recognized feature for this target (ignoring feature)\n",
      "'+ptx84' is not a recognized feature for this target (ignoring feature)\n",
      "'+ptx84' is not a recognized feature for this target (ignoring feature)\n",
      "'+ptx84' is not a recognized feature for this target (ignoring feature)\n",
      "'+ptx84' is not a recognized feature for this target (ignoring feature)\n",
      "'+ptx84' is not a recognized feature for this target (ignoring feature)\n",
      "'+ptx84' is not a recognized feature for this target (ignoring feature)\n"
     ]
    },
    {
     "name": "stdout",
     "output_type": "stream",
     "text": [
      "Run 20 with seed 20 took 6.91 seconds\n",
      "All execution times: [6.903656005859375, 7.1094958782196045, 6.813009023666382, 7.06771993637085, 6.82403302192688, 6.8911802768707275, 7.043624401092529, 7.028195858001709, 7.0271759033203125, 7.036408185958862, 6.850250005722046, 6.85929274559021, 6.833933591842651, 7.035688161849976, 6.9112114906311035, 7.034228801727295, 6.92940616607666, 6.877643346786499, 7.02715539932251, 6.912303686141968]\n",
      "Ending Experiment with False\n"
     ]
    }
   ],
   "source": [
    "seeds = [1,2,3,4,5,6,7,8,9,10,11,12,13,14,15,16,17,18,19,20] \n",
    "\n",
    "noises = [False]\n",
    "input_nb = './oracle_single_run.ipynb'\n",
    "\n",
    "# List to store execution times\n",
    "execution_times = []\n",
    "\n",
    "for noise in noises: \n",
    "    print(f'Starting Experiment with {noise}')\n",
    "    for i, seed in enumerate(seeds):\n",
    "        output_nb = f'oracle_output_notebook_{i+1}.ipynb'\n",
    "        \n",
    "        # Start the timer\n",
    "        start_time = time.time()\n",
    "        \n",
    "        pm.execute_notebook(\n",
    "            input_nb,\n",
    "            output_nb,\n",
    "            parameters={'noise': noise, \n",
    "                        'seed': seed}\n",
    "        )\n",
    "        \n",
    "        # Stop the timer\n",
    "        end_time = time.time()\n",
    "        \n",
    "        # Calculate the duration\n",
    "        duration = end_time - start_time\n",
    "        execution_times.append(duration)\n",
    "        \n",
    "        print(f\"Run {i+1} with seed {seed} took {duration:.2f} seconds\")\n",
    "\n",
    "        #Remove the output notebook after capturing necessary data\n",
    "        os.remove(output_nb)\n",
    "\n",
    "    # Optionally, you can save these times to a file or print them all out at the end\n",
    "    print(\"All execution times:\", execution_times)\n",
    "    print(f'Ending Experiment with {noise}')\n"
   ]
  },
  {
   "cell_type": "code",
   "execution_count": null,
   "metadata": {},
   "outputs": [],
   "source": []
  }
 ],
 "metadata": {
  "kernelspec": {
   "display_name": "llms",
   "language": "python",
   "name": "python3"
  },
  "language_info": {
   "codemirror_mode": {
    "name": "ipython",
    "version": 3
   },
   "file_extension": ".py",
   "mimetype": "text/x-python",
   "name": "python",
   "nbconvert_exporter": "python",
   "pygments_lexer": "ipython3",
   "version": "3.10.12"
  },
  "orig_nbformat": 4
 },
 "nbformat": 4,
 "nbformat_minor": 2
}
