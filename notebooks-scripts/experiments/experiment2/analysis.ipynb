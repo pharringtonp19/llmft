{
 "cells": [
  {
   "attachments": {},
   "cell_type": "markdown",
   "metadata": {},
   "source": [
    "#### **Import Libraries**"
   ]
  },
  {
   "cell_type": "code",
   "execution_count": null,
   "metadata": {},
   "outputs": [],
   "source": [
    "import os \n",
    "from transformers import AutoModelForSequenceClassification, AutoTokenizer\n",
    "from sklearn.model_selection import train_test_split\n",
    "from datasets import Dataset, DatasetDict\n",
    "from tqdm import tqdm\n",
    "import numpy as np \n",
    "import random \n",
    "import math\n",
    "from itertools import chain\n",
    "from IPython.display import display, Markdown\n",
    "import textwrap\n",
    "import tiktoken\n",
    "import csv\n",
    "import time \n",
    "import pandas as pd \n",
    "import torch\n",
    "from datasets import Dataset\n",
    "from torch.utils.data import DataLoader\n",
    "import transformers\n",
    "from transformers import DataCollatorWithPadding\n",
    "from llmft.train import EncoderTrainer, EarlyStopping\n",
    "from llmft.metrics import compute_recall\n",
    "from llmft.losses import FocalLoss\n",
    "from llmft.utils import predict\n",
    "import seaborn as sns \n",
    "import jax \n",
    "import jax.numpy as jnp "
   ]
  },
  {
   "attachments": {},
   "cell_type": "markdown",
   "metadata": {},
   "source": [
    "#### **Set Up Paths**"
   ]
  },
  {
   "cell_type": "code",
   "execution_count": null,
   "metadata": {},
   "outputs": [],
   "source": [
    "data_csv = './../../../toy-data/exp2/results/llms_combined_results.csv'"
   ]
  },
  {
   "attachments": {},
   "cell_type": "markdown",
   "metadata": {},
   "source": [
    "#### **Set Up Plotting**"
   ]
  },
  {
   "cell_type": "code",
   "execution_count": null,
   "metadata": {},
   "outputs": [],
   "source": [
    "import matplotlib as mpl\n",
    "from matplotlib import pyplot as plt\n",
    "from matplotlib import rcParams\n",
    "rcParams['image.interpolation'] = 'nearest'\n",
    "rcParams['image.cmap'] = 'viridis'\n",
    "rcParams['axes.grid'] = False\n",
    "%matplotlib inline\n",
    "%config InlineBackend.figure_format = 'svg'\n",
    "plt.style.use('seaborn-v0_8-dark-palette')\n",
    "\n",
    "from matplotlib import font_manager \n",
    "locations = './../../../styles/Newsreader'\n",
    "font_files = font_manager.findSystemFonts(fontpaths=locations)\n",
    "print(locations)\n",
    "print(font_files[0])\n",
    "for f in font_files: \n",
    "    font_manager.fontManager.addfont(f)\n",
    "plt.rcParams[\"font.family\"] = \"Newsreader\""
   ]
  },
  {
   "attachments": {},
   "cell_type": "markdown",
   "metadata": {},
   "source": [
    "#### Read in Data"
   ]
  },
  {
   "cell_type": "code",
   "execution_count": null,
   "metadata": {},
   "outputs": [],
   "source": [
    "df = pd.read_csv(data_csv)\n",
    "\n",
    "df = df[:18000]\n",
    "print(df.shape)\n",
    "\n",
    "# def fstage(race, gender, rent, health, fault):\n",
    "#     return 0.05 + 0.1*race + 0.2*race*fault + 0.1*race*gender + 0.1*health *fault * fault + 0.35*fault \n",
    "# df['FStage_Value'] = df.apply(lambda row: fstage(row['Race'], row['Gender'], row['Rent'], row['Health'], row['Fault']), axis=1)\n",
    "# fig = plt.figure(dpi=300, tight_layout=True, figsize=(7, 4.5))\n",
    "# ax = plt.axes(facecolor=(.95, .96, .97))\n",
    "\n",
    "# # Plot customizations\n",
    "# for key in 'left', 'right', 'top':\n",
    "#     ax.spines[key].set_visible(False)\n",
    "# ax.text(0., 1.02, s='Count', transform=ax.transAxes, size=14)\n",
    "# ax.yaxis.set_tick_params(length=0)\n",
    "# ax.yaxis.grid(True, color='white', linewidth=2)\n",
    "# ax.set_axisbelow(True)\n",
    "# plt.hist(df['FStage_Value'], color='#36454F')\n",
    "# plt.xlim(0, 1)\n",
    "# plt.xlabel('Probability of Treatment Given Instrument', size=14)\n",
    "# plt.show()"
   ]
  },
  {
   "cell_type": "code",
   "execution_count": null,
   "metadata": {},
   "outputs": [],
   "source": [
    "llm_residuals = jnp.array(df.Residuals.values).reshape(-1, 500, 1)\n",
    "llm_ones = jnp.ones_like(llm_residuals)\n",
    "llm_outcomes = jnp.array(df.Outcome.values).reshape(-1, 500, 1)\n",
    "llm_regressors = jnp.hstack((llm_residuals, llm_ones))\n",
    "print(llm_residuals.shape)\n",
    "print(llm_ones.shape)\n",
    "print(llm_regressors.shape)\n",
    "print(llm_outcomes.shape)"
   ]
  },
  {
   "cell_type": "code",
   "execution_count": null,
   "metadata": {},
   "outputs": [],
   "source": [
    "def lstsq(Ones, X, Y):\n",
    "    regressors = jnp.hstack((X, Ones))\n",
    "    return jnp.linalg.lstsq(regressors, Y, rcond=None)[0][0]"
   ]
  },
  {
   "cell_type": "code",
   "execution_count": null,
   "metadata": {},
   "outputs": [],
   "source": [
    "llm_results = jax.vmap(lstsq, in_axes=(0, 0, 0))(llm_ones, llm_residuals, llm_outcomes)"
   ]
  },
  {
   "cell_type": "code",
   "execution_count": null,
   "metadata": {},
   "outputs": [],
   "source": [
    "print(jnp.mean(llm_results)); print(jnp.std(llm_results))"
   ]
  },
  {
   "cell_type": "code",
   "execution_count": null,
   "metadata": {},
   "outputs": [],
   "source": []
  }
 ],
 "metadata": {
  "kernelspec": {
   "display_name": "llms",
   "language": "python",
   "name": "python3"
  },
  "language_info": {
   "codemirror_mode": {
    "name": "ipython",
    "version": 3
   },
   "file_extension": ".py",
   "mimetype": "text/x-python",
   "name": "python",
   "nbconvert_exporter": "python",
   "pygments_lexer": "ipython3",
   "version": "3.10.12"
  },
  "orig_nbformat": 4
 },
 "nbformat": 4,
 "nbformat_minor": 2
}
