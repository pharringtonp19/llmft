{
 "cells": [
  {
   "attachments": {},
   "cell_type": "markdown",
   "metadata": {},
   "source": [
    "#### **Import Libraries**"
   ]
  },
  {
   "cell_type": "code",
   "execution_count": null,
   "metadata": {},
   "outputs": [],
   "source": [
    "import os \n",
    "from transformers import AutoModelForSequenceClassification, AutoTokenizer\n",
    "from sklearn.model_selection import train_test_split\n",
    "from datasets import Dataset, DatasetDict\n",
    "from tqdm import tqdm\n",
    "import numpy as np \n",
    "import random \n",
    "import math\n",
    "from itertools import chain\n",
    "from IPython.display import display, Markdown\n",
    "import textwrap\n",
    "import tiktoken\n",
    "import csv\n",
    "import time \n",
    "import pandas as pd \n",
    "import torch\n",
    "from datasets import Dataset\n",
    "from torch.utils.data import DataLoader\n",
    "import transformers\n",
    "from transformers import DataCollatorWithPadding\n",
    "from llmft.train import EncoderTrainer, EarlyStopping\n",
    "from llmft.metrics import compute_recall\n",
    "from llmft.losses import FocalLoss\n",
    "from llmft.utils import predict\n",
    "import seaborn as sns \n",
    "import jax \n",
    "import jax.numpy as jnp "
   ]
  },
  {
   "attachments": {},
   "cell_type": "markdown",
   "metadata": {},
   "source": [
    "#### **Set Up Paths**"
   ]
  },
  {
   "cell_type": "code",
   "execution_count": null,
   "metadata": {},
   "outputs": [],
   "source": [
    "data_csv = './../../../toy-data/exp2/results/llms_combined_results.csv'"
   ]
  },
  {
   "attachments": {},
   "cell_type": "markdown",
   "metadata": {},
   "source": [
    "#### **Set Up Plotting**"
   ]
  },
  {
   "cell_type": "code",
   "execution_count": null,
   "metadata": {},
   "outputs": [],
   "source": [
    "import matplotlib as mpl\n",
    "from matplotlib import pyplot as plt\n",
    "from matplotlib import rcParams\n",
    "rcParams['image.interpolation'] = 'nearest'\n",
    "rcParams['image.cmap'] = 'viridis'\n",
    "rcParams['axes.grid'] = False\n",
    "%matplotlib inline\n",
    "%config InlineBackend.figure_format = 'svg'\n",
    "plt.style.use('seaborn-v0_8-dark-palette')\n",
    "\n",
    "from matplotlib import font_manager \n",
    "locations = './../../../styles/Newsreader'\n",
    "font_files = font_manager.findSystemFonts(fontpaths=locations)\n",
    "print(locations)\n",
    "print(font_files[0])\n",
    "for f in font_files: \n",
    "    font_manager.fontManager.addfont(f)\n",
    "plt.rcParams[\"font.family\"] = \"Newsreader\""
   ]
  },
  {
   "cell_type": "code",
   "execution_count": null,
   "metadata": {},
   "outputs": [],
   "source": [
    "def lstsq(Ones, X, Y):\n",
    "    regressors = jnp.hstack((X, Ones))\n",
    "    return jnp.linalg.lstsq(regressors, Y, rcond=None)[0][0]"
   ]
  },
  {
   "attachments": {},
   "cell_type": "markdown",
   "metadata": {},
   "source": [
    "#### Read in Data"
   ]
  },
  {
   "cell_type": "code",
   "execution_count": null,
   "metadata": {},
   "outputs": [],
   "source": [
    "df_llm_noise = pd.read_csv(f'./../../../toy-data/exp2/results/llms_True.csv')\n",
    "df_llm = pd.read_csv(f'./../../../toy-data/exp2/results/llms_False.csv')\n",
    "llm_std = jnp.array([jnp.std(df_llm['Estimate'].values), jnp.std(df_llm_noise['Estimate'].values)])\n",
    "llm_mean = jnp.array([jnp.mean(df_llm['Estimate'].values), jnp.mean(df_llm_noise['Estimate'].values)])"
   ]
  },
  {
   "cell_type": "code",
   "execution_count": null,
   "metadata": {},
   "outputs": [],
   "source": [
    "llm_std"
   ]
  },
  {
   "cell_type": "code",
   "execution_count": null,
   "metadata": {},
   "outputs": [],
   "source": [
    "df_nn_noise = pd.read_csv(f'./../../../toy-data/exp2/results/nn_True.csv')\n",
    "df_nn = pd.read_csv(f'./../../../toy-data/exp2/results/nn_False.csv')\n",
    "nn_std = jnp.array([jnp.std(df_nn['Estimate'].values), jnp.std(df_nn_noise['Estimate'].values)])\n",
    "nn_mean = jnp.array([jnp.mean(df_nn['Estimate'].values), jnp.mean(df_nn_noise['Estimate'].values)])"
   ]
  },
  {
   "cell_type": "code",
   "execution_count": null,
   "metadata": {},
   "outputs": [],
   "source": [
    "nn_std"
   ]
  },
  {
   "cell_type": "code",
   "execution_count": null,
   "metadata": {},
   "outputs": [],
   "source": [
    "df_linear_noise = pd.read_csv(f'./../../../toy-data/exp2/results/linear_True.csv')\n",
    "df_linear = pd.read_csv(f'./../../../toy-data/exp2/results/linear_False.csv')\n",
    "linear_std = jnp.array([jnp.std(df_linear['Estimate'].values), jnp.std(df_linear_noise['Estimate'].values)])\n",
    "linear_mean = jnp.array([jnp.mean(df_linear['Estimate'].values), jnp.mean(df_linear_noise['Estimate'].values)])"
   ]
  },
  {
   "cell_type": "code",
   "execution_count": null,
   "metadata": {},
   "outputs": [],
   "source": [
    "linear_std"
   ]
  },
  {
   "cell_type": "code",
   "execution_count": null,
   "metadata": {},
   "outputs": [],
   "source": [
    "fig = plt.figure(dpi=300, tight_layout=True, figsize=(7, 4.5))\n",
    "ax = plt.axes()\n",
    "\n",
    "# Plot customizations\n",
    "for key in 'left', 'right', 'top':\n",
    "    ax.spines[key].set_visible(False)\n",
    "ax.yaxis.set_tick_params(length=0)\n",
    "# ax.yaxis.grid(True, color='white', linewidth=2)\n",
    "ax.set_axisbelow(True)\n",
    "baseline = llm_std[0]\n",
    "ax.arrow(llm_std[0]/baseline*100, 1, 100 - llm_std[1]/baseline*100, 0, head_width=0.025, head_length=2, fc='k', ec='k')\n",
    "baseline = nn_std[0]\n",
    "ax.arrow(nn_std[0]/baseline*100, 0.75, 100 - nn_std[1]/baseline*100, 0, head_width=0.025, head_length=2, fc='k', ec='k')\n",
    "baseline = linear_std[0]\n",
    "ax.arrow(linear_std[0]/baseline*100, 0.5, 100 - nn_std[1]/baseline*100, 0, head_width=0.025, head_length=2, fc='k', ec='k')\n",
    "# plt.ylim(0, 1.25)\n",
    "plt.xlim(28, 100)\n",
    "ax.text(100, 1.10, 'Noise', verticalalignment='bottom', horizontalalignment='right', size=16)\n",
    "ax.text(30, 1.10, 'Heterogeneity', verticalalignment='bottom', horizontalalignment='left', size=16)\n",
    "ax.text(95, 1, 'Large Language Model', verticalalignment='bottom', horizontalalignment='right', size=13)\n",
    "ax.text(95, 0.77, 'Multilayer Perceptron', verticalalignment='bottom', horizontalalignment='right', size=13)\n",
    "ax.text(95, 0.52, 'Linear', verticalalignment='bottom', horizontalalignment='right', size=13)\n",
    "ax.yaxis.set_visible(False)\n",
    "plt.xlabel('Relative Standard Deviation', size=14)\n",
    "plt.show()"
   ]
  },
  {
   "cell_type": "code",
   "execution_count": null,
   "metadata": {},
   "outputs": [],
   "source": [
    "fig = plt.figure(dpi=300, tight_layout=True, figsize=(7, 4.5))\n",
    "ax = plt.axes()\n",
    "\n",
    "# Plot customizations\n",
    "ax.spines['bottom'].set_linewidth(1.5)  # thicker bottom spine\n",
    "for key in 'left', 'right', 'top':\n",
    "    ax.spines[key].set_visible(False)\n",
    "ax.yaxis.set_tick_params(length=0)\n",
    "ax.xaxis.grid(True, linestyle='--', linewidth=0.5, color='grey')  # subtle grid\n",
    "ax.set_axisbelow(True)\n",
    "\n",
    "# Arrows for standard deviation changes\n",
    "arrow_properties = dict(facecolor='black', edgecolor='black', head_width=0.025, head_length=2, linewidth=2)\n",
    "baselines = [llm_std, nn_std, linear_std]\n",
    "positions = [1, 0.75, 0.5]\n",
    "colors = ['blue', 'green', 'red']\n",
    "labels = ['Large Language Model', 'Multilayer Perceptron', 'Linear']\n",
    "\n",
    "for baseline, position, color, label in zip(baselines, positions, colors, labels):\n",
    "    start = baseline[0] / baseline[0] * 100\n",
    "    length = (baseline[0] - baseline[1]) / baseline[0] * 100\n",
    "    ax.arrow(start, position, length, 0, fc=color, ec=color, **arrow_properties)\n",
    "    ax.text(100, position, label, verticalalignment='bottom', horizontalalignment='right', size=13, color=color)\n",
    "\n",
    "# Text for explanation\n",
    "ax.text(100, 1.10, 'Noise', verticalalignment='bottom', horizontalalignment='right', size=16, weight='bold')\n",
    "ax.text(30, 1.10, 'Heterogeneity', verticalalignment='bottom', horizontalalignment='left', size=16, weight='bold')\n",
    "\n",
    "# Axis settings\n",
    "ax.yaxis.set_visible(False)\n",
    "plt.xlabel('Percentage Change in Standard Deviation', size=14, labelpad=10)\n",
    "plt.xlim(20, 100)\n",
    "\n",
    "plt.show()\n"
   ]
  },
  {
   "cell_type": "code",
   "execution_count": null,
   "metadata": {},
   "outputs": [],
   "source": [
    "fig = plt.figure(dpi=300, tight_layout=True, figsize=(7, 4.5))\n",
    "ax = plt.axes(facecolor=(.95, .96, .97))\n",
    "\n",
    "# Plot customizations\n",
    "for key in 'left', 'right', 'top':\n",
    "    ax.spines[key].set_visible(False)\n",
    "ax.text(0., 1.02, s='Count', transform=ax.transAxes, size=14)\n",
    "ax.yaxis.set_tick_params(length=0)\n",
    "ax.yaxis.grid(True, color='white', linewidth=2)\n",
    "ax.set_axisbelow(True)\n",
    "plt.plot([0.25, 0.75], llm_mean, label='LLM')\n",
    "plt.plot([0.25, 0.75], nn_mean, label='NN')\n",
    "plt.plot([0.25, 0.75], linear_mean, label='Linear')\n",
    "plt.xlim(0, 1)\n",
    "plt.ylim(0, 2)\n",
    "plt.xlabel('Probability of Treatment Given Instrument', size=14)\n",
    "plt.legend()\n",
    "plt.show()"
   ]
  },
  {
   "cell_type": "code",
   "execution_count": null,
   "metadata": {},
   "outputs": [],
   "source": []
  }
 ],
 "metadata": {
  "kernelspec": {
   "display_name": "llms",
   "language": "python",
   "name": "python3"
  },
  "language_info": {
   "codemirror_mode": {
    "name": "ipython",
    "version": 3
   },
   "file_extension": ".py",
   "mimetype": "text/x-python",
   "name": "python",
   "nbconvert_exporter": "python",
   "pygments_lexer": "ipython3",
   "version": "3.10.12"
  },
  "orig_nbformat": 4
 },
 "nbformat": 4,
 "nbformat_minor": 2
}
