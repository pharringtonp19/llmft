{
 "cells": [
  {
   "attachments": {},
   "cell_type": "markdown",
   "metadata": {},
   "source": [
    "#### **Important Libraries**"
   ]
  },
  {
   "cell_type": "code",
   "execution_count": 1,
   "metadata": {},
   "outputs": [],
   "source": [
    "import papermill as pm\n",
    "import numpy as np \n",
    "import time \n",
    "import os "
   ]
  },
  {
   "cell_type": "code",
   "execution_count": 2,
   "metadata": {},
   "outputs": [
    {
     "name": "stdout",
     "output_type": "stream",
     "text": [
      "Starting Experiment --> verion: 4  |   prompt:True  |   sample size: 200  |   noise: False\n"
     ]
    },
    {
     "data": {
      "application/vnd.jupyter.widget-view+json": {
       "model_id": "0484c31845ed412ab74327cff2b6ac1b",
       "version_major": 2,
       "version_minor": 0
      },
      "text/plain": [
       "Executing:   0%|          | 0/43 [00:00<?, ?cell/s]"
      ]
     },
     "metadata": {},
     "output_type": "display_data"
    },
    {
     "name": "stdout",
     "output_type": "stream",
     "text": [
      "Run 1 with seed 2357136044 took 350.39 seconds\n"
     ]
    },
    {
     "data": {
      "application/vnd.jupyter.widget-view+json": {
       "model_id": "9acea09bfbfd458a87d947c11bfe1803",
       "version_major": 2,
       "version_minor": 0
      },
      "text/plain": [
       "Executing:   0%|          | 0/43 [00:00<?, ?cell/s]"
      ]
     },
     "metadata": {},
     "output_type": "display_data"
    },
    {
     "name": "stdout",
     "output_type": "stream",
     "text": [
      "Run 2 with seed 2546248239 took 533.96 seconds\n"
     ]
    },
    {
     "data": {
      "application/vnd.jupyter.widget-view+json": {
       "model_id": "165d9e20dbb4414b953ba13b3ab1c832",
       "version_major": 2,
       "version_minor": 0
      },
      "text/plain": [
       "Executing:   0%|          | 0/43 [00:00<?, ?cell/s]"
      ]
     },
     "metadata": {},
     "output_type": "display_data"
    },
    {
     "name": "stdout",
     "output_type": "stream",
     "text": [
      "Run 3 with seed 3071714933 took 565.98 seconds\n"
     ]
    },
    {
     "data": {
      "application/vnd.jupyter.widget-view+json": {
       "model_id": "0a11fe518a8940f0b051df511ef34780",
       "version_major": 2,
       "version_minor": 0
      },
      "text/plain": [
       "Executing:   0%|          | 0/43 [00:00<?, ?cell/s]"
      ]
     },
     "metadata": {},
     "output_type": "display_data"
    },
    {
     "name": "stdout",
     "output_type": "stream",
     "text": [
      "Run 4 with seed 3626093760 took 446.87 seconds\n"
     ]
    },
    {
     "data": {
      "application/vnd.jupyter.widget-view+json": {
       "model_id": "08538b0e486e4391889d767f17b4b9d8",
       "version_major": 2,
       "version_minor": 0
      },
      "text/plain": [
       "Executing:   0%|          | 0/43 [00:00<?, ?cell/s]"
      ]
     },
     "metadata": {},
     "output_type": "display_data"
    },
    {
     "name": "stdout",
     "output_type": "stream",
     "text": [
      "Run 5 with seed 2588848963 took 382.20 seconds\n"
     ]
    },
    {
     "data": {
      "application/vnd.jupyter.widget-view+json": {
       "model_id": "cdcf8b5c9eb14606a80ca7e8ea3ebaea",
       "version_major": 2,
       "version_minor": 0
      },
      "text/plain": [
       "Executing:   0%|          | 0/43 [00:00<?, ?cell/s]"
      ]
     },
     "metadata": {},
     "output_type": "display_data"
    },
    {
     "name": "stdout",
     "output_type": "stream",
     "text": [
      "Run 6 with seed 3684848379 took 376.70 seconds\n"
     ]
    },
    {
     "data": {
      "application/vnd.jupyter.widget-view+json": {
       "model_id": "ff9a8d79a0af4d3ebfd0fbc5c03c9663",
       "version_major": 2,
       "version_minor": 0
      },
      "text/plain": [
       "Executing:   0%|          | 0/43 [00:00<?, ?cell/s]"
      ]
     },
     "metadata": {},
     "output_type": "display_data"
    },
    {
     "name": "stdout",
     "output_type": "stream",
     "text": [
      "Run 7 with seed 2340255427 took 355.77 seconds\n"
     ]
    },
    {
     "data": {
      "application/vnd.jupyter.widget-view+json": {
       "model_id": "3a68004d6d4a44578cbc1457781fe5da",
       "version_major": 2,
       "version_minor": 0
      },
      "text/plain": [
       "Executing:   0%|          | 0/43 [00:00<?, ?cell/s]"
      ]
     },
     "metadata": {},
     "output_type": "display_data"
    },
    {
     "name": "stdout",
     "output_type": "stream",
     "text": [
      "Run 8 with seed 3638918503 took 357.80 seconds\n",
      "All execution times: [350.3864994049072, 533.9635558128357, 565.9780559539795, 446.8676264286041, 382.20323944091797, 376.6988112926483, 355.77326226234436, 357.80322527885437]\n",
      "Ending Experiment with False\n",
      "Starting Experiment --> verion: 4  |   prompt:True  |   sample size: 400  |   noise: False\n"
     ]
    },
    {
     "data": {
      "application/vnd.jupyter.widget-view+json": {
       "model_id": "0374a14bfe724991ba03e2d891707953",
       "version_major": 2,
       "version_minor": 0
      },
      "text/plain": [
       "Executing:   0%|          | 0/43 [00:00<?, ?cell/s]"
      ]
     },
     "metadata": {},
     "output_type": "display_data"
    },
    {
     "name": "stdout",
     "output_type": "stream",
     "text": [
      "Run 1 with seed 2357136044 took 805.37 seconds\n"
     ]
    },
    {
     "data": {
      "application/vnd.jupyter.widget-view+json": {
       "model_id": "4b97850e9f66469c8fed61f81f6e231a",
       "version_major": 2,
       "version_minor": 0
      },
      "text/plain": [
       "Executing:   0%|          | 0/43 [00:00<?, ?cell/s]"
      ]
     },
     "metadata": {},
     "output_type": "display_data"
    },
    {
     "name": "stdout",
     "output_type": "stream",
     "text": [
      "Run 2 with seed 2546248239 took 649.37 seconds\n"
     ]
    },
    {
     "data": {
      "application/vnd.jupyter.widget-view+json": {
       "model_id": "08ea044450e545fe86ccfc8504799dd0",
       "version_major": 2,
       "version_minor": 0
      },
      "text/plain": [
       "Executing:   0%|          | 0/43 [00:00<?, ?cell/s]"
      ]
     },
     "metadata": {},
     "output_type": "display_data"
    },
    {
     "name": "stdout",
     "output_type": "stream",
     "text": [
      "Run 3 with seed 3071714933 took 749.41 seconds\n"
     ]
    },
    {
     "data": {
      "application/vnd.jupyter.widget-view+json": {
       "model_id": "8657d03dcbc344e4b215a57bc21b23ea",
       "version_major": 2,
       "version_minor": 0
      },
      "text/plain": [
       "Executing:   0%|          | 0/43 [00:00<?, ?cell/s]"
      ]
     },
     "metadata": {},
     "output_type": "display_data"
    },
    {
     "name": "stdout",
     "output_type": "stream",
     "text": [
      "Run 4 with seed 3626093760 took 769.80 seconds\n"
     ]
    },
    {
     "data": {
      "application/vnd.jupyter.widget-view+json": {
       "model_id": "e3da0b9374dc45b48f298f648fea49f6",
       "version_major": 2,
       "version_minor": 0
      },
      "text/plain": [
       "Executing:   0%|          | 0/43 [00:00<?, ?cell/s]"
      ]
     },
     "metadata": {},
     "output_type": "display_data"
    },
    {
     "name": "stdout",
     "output_type": "stream",
     "text": [
      "Run 5 with seed 2588848963 took 760.32 seconds\n"
     ]
    },
    {
     "data": {
      "application/vnd.jupyter.widget-view+json": {
       "model_id": "200732d5aac5466a884b3246488f26c2",
       "version_major": 2,
       "version_minor": 0
      },
      "text/plain": [
       "Executing:   0%|          | 0/43 [00:00<?, ?cell/s]"
      ]
     },
     "metadata": {},
     "output_type": "display_data"
    },
    {
     "name": "stdout",
     "output_type": "stream",
     "text": [
      "Run 6 with seed 3684848379 took 681.40 seconds\n"
     ]
    },
    {
     "data": {
      "application/vnd.jupyter.widget-view+json": {
       "model_id": "40c06dd36f2340e599bdcfd769419ad1",
       "version_major": 2,
       "version_minor": 0
      },
      "text/plain": [
       "Executing:   0%|          | 0/43 [00:00<?, ?cell/s]"
      ]
     },
     "metadata": {},
     "output_type": "display_data"
    },
    {
     "name": "stdout",
     "output_type": "stream",
     "text": [
      "Run 7 with seed 2340255427 took 765.16 seconds\n"
     ]
    },
    {
     "data": {
      "application/vnd.jupyter.widget-view+json": {
       "model_id": "31916d79f25045e1b08ea1bc7987cc4f",
       "version_major": 2,
       "version_minor": 0
      },
      "text/plain": [
       "Executing:   0%|          | 0/43 [00:00<?, ?cell/s]"
      ]
     },
     "metadata": {},
     "output_type": "display_data"
    },
    {
     "name": "stdout",
     "output_type": "stream",
     "text": [
      "Run 8 with seed 3638918503 took 633.12 seconds\n",
      "All execution times: [350.3864994049072, 533.9635558128357, 565.9780559539795, 446.8676264286041, 382.20323944091797, 376.6988112926483, 355.77326226234436, 357.80322527885437, 805.3746716976166, 649.3675117492676, 749.4098725318909, 769.7975289821625, 760.3226299285889, 681.3997790813446, 765.1638314723969, 633.1233291625977]\n",
      "Ending Experiment with False\n",
      "Starting Experiment --> verion: 4  |   prompt:True  |   sample size: 600  |   noise: False\n"
     ]
    },
    {
     "data": {
      "application/vnd.jupyter.widget-view+json": {
       "model_id": "4ea1f11e75714e45afc6039a4d90d901",
       "version_major": 2,
       "version_minor": 0
      },
      "text/plain": [
       "Executing:   0%|          | 0/43 [00:00<?, ?cell/s]"
      ]
     },
     "metadata": {},
     "output_type": "display_data"
    },
    {
     "name": "stdout",
     "output_type": "stream",
     "text": [
      "Run 1 with seed 2357136044 took 1048.13 seconds\n"
     ]
    },
    {
     "data": {
      "application/vnd.jupyter.widget-view+json": {
       "model_id": "cc0aa9c09b1f4934b42749af401bfce8",
       "version_major": 2,
       "version_minor": 0
      },
      "text/plain": [
       "Executing:   0%|          | 0/43 [00:00<?, ?cell/s]"
      ]
     },
     "metadata": {},
     "output_type": "display_data"
    },
    {
     "name": "stdout",
     "output_type": "stream",
     "text": [
      "Run 2 with seed 2546248239 took 1000.38 seconds\n"
     ]
    },
    {
     "data": {
      "application/vnd.jupyter.widget-view+json": {
       "model_id": "c843a9692ad949608bbcc18447db8451",
       "version_major": 2,
       "version_minor": 0
      },
      "text/plain": [
       "Executing:   0%|          | 0/43 [00:00<?, ?cell/s]"
      ]
     },
     "metadata": {},
     "output_type": "display_data"
    },
    {
     "name": "stdout",
     "output_type": "stream",
     "text": [
      "Run 3 with seed 3071714933 took 1050.24 seconds\n"
     ]
    },
    {
     "data": {
      "application/vnd.jupyter.widget-view+json": {
       "model_id": "36f066b96aa84dfea5ab6ff7d8ad6fb7",
       "version_major": 2,
       "version_minor": 0
      },
      "text/plain": [
       "Executing:   0%|          | 0/43 [00:00<?, ?cell/s]"
      ]
     },
     "metadata": {},
     "output_type": "display_data"
    },
    {
     "name": "stdout",
     "output_type": "stream",
     "text": [
      "Run 4 with seed 3626093760 took 1061.43 seconds\n"
     ]
    },
    {
     "data": {
      "application/vnd.jupyter.widget-view+json": {
       "model_id": "a9d93618a55641458d6f72bcf7f7f09f",
       "version_major": 2,
       "version_minor": 0
      },
      "text/plain": [
       "Executing:   0%|          | 0/43 [00:00<?, ?cell/s]"
      ]
     },
     "metadata": {},
     "output_type": "display_data"
    },
    {
     "name": "stdout",
     "output_type": "stream",
     "text": [
      "Run 5 with seed 2588848963 took 980.23 seconds\n"
     ]
    },
    {
     "data": {
      "application/vnd.jupyter.widget-view+json": {
       "model_id": "b7fa3b20d4904504a03961e57d9fb8c8",
       "version_major": 2,
       "version_minor": 0
      },
      "text/plain": [
       "Executing:   0%|          | 0/43 [00:00<?, ?cell/s]"
      ]
     },
     "metadata": {},
     "output_type": "display_data"
    },
    {
     "name": "stdout",
     "output_type": "stream",
     "text": [
      "Run 6 with seed 3684848379 took 1017.12 seconds\n"
     ]
    },
    {
     "data": {
      "application/vnd.jupyter.widget-view+json": {
       "model_id": "f3bf85c115d34db7b8cbd5d27a1e4178",
       "version_major": 2,
       "version_minor": 0
      },
      "text/plain": [
       "Executing:   0%|          | 0/43 [00:00<?, ?cell/s]"
      ]
     },
     "metadata": {},
     "output_type": "display_data"
    },
    {
     "name": "stdout",
     "output_type": "stream",
     "text": [
      "Run 7 with seed 2340255427 took 1011.87 seconds\n"
     ]
    },
    {
     "data": {
      "application/vnd.jupyter.widget-view+json": {
       "model_id": "6355aff7bb3442749462684ed4c9917d",
       "version_major": 2,
       "version_minor": 0
      },
      "text/plain": [
       "Executing:   0%|          | 0/43 [00:00<?, ?cell/s]"
      ]
     },
     "metadata": {},
     "output_type": "display_data"
    },
    {
     "name": "stdout",
     "output_type": "stream",
     "text": [
      "Run 8 with seed 3638918503 took 1050.44 seconds\n",
      "All execution times: [350.3864994049072, 533.9635558128357, 565.9780559539795, 446.8676264286041, 382.20323944091797, 376.6988112926483, 355.77326226234436, 357.80322527885437, 805.3746716976166, 649.3675117492676, 749.4098725318909, 769.7975289821625, 760.3226299285889, 681.3997790813446, 765.1638314723969, 633.1233291625977, 1048.1282727718353, 1000.3833076953888, 1050.2417659759521, 1061.4256012439728, 980.2337102890015, 1017.1155300140381, 1011.872927904129, 1050.4353396892548]\n",
      "Ending Experiment with False\n",
      "Starting Experiment --> verion: 4  |   prompt:True  |   sample size: 800  |   noise: False\n"
     ]
    },
    {
     "data": {
      "application/vnd.jupyter.widget-view+json": {
       "model_id": "b4a7446ab17547b189f7b27a94104d85",
       "version_major": 2,
       "version_minor": 0
      },
      "text/plain": [
       "Executing:   0%|          | 0/43 [00:00<?, ?cell/s]"
      ]
     },
     "metadata": {},
     "output_type": "display_data"
    },
    {
     "name": "stdout",
     "output_type": "stream",
     "text": [
      "Run 1 with seed 2357136044 took 1216.22 seconds\n"
     ]
    },
    {
     "data": {
      "application/vnd.jupyter.widget-view+json": {
       "model_id": "5d840c49f5144a37b752b5284d5c5aa7",
       "version_major": 2,
       "version_minor": 0
      },
      "text/plain": [
       "Executing:   0%|          | 0/43 [00:00<?, ?cell/s]"
      ]
     },
     "metadata": {},
     "output_type": "display_data"
    },
    {
     "name": "stdout",
     "output_type": "stream",
     "text": [
      "Run 2 with seed 2546248239 took 1242.45 seconds\n"
     ]
    },
    {
     "data": {
      "application/vnd.jupyter.widget-view+json": {
       "model_id": "2f3e6baeb84d43dbbad5d7fcb306b897",
       "version_major": 2,
       "version_minor": 0
      },
      "text/plain": [
       "Executing:   0%|          | 0/43 [00:00<?, ?cell/s]"
      ]
     },
     "metadata": {},
     "output_type": "display_data"
    },
    {
     "name": "stdout",
     "output_type": "stream",
     "text": [
      "Run 3 with seed 3071714933 took 1324.04 seconds\n"
     ]
    },
    {
     "data": {
      "application/vnd.jupyter.widget-view+json": {
       "model_id": "f7ca1117d0c7401988c9e5f96ad96829",
       "version_major": 2,
       "version_minor": 0
      },
      "text/plain": [
       "Executing:   0%|          | 0/43 [00:00<?, ?cell/s]"
      ]
     },
     "metadata": {},
     "output_type": "display_data"
    },
    {
     "name": "stdout",
     "output_type": "stream",
     "text": [
      "Run 4 with seed 3626093760 took 1261.27 seconds\n"
     ]
    },
    {
     "data": {
      "application/vnd.jupyter.widget-view+json": {
       "model_id": "95ed9f79950945dbbfe2c534107eecb9",
       "version_major": 2,
       "version_minor": 0
      },
      "text/plain": [
       "Executing:   0%|          | 0/43 [00:00<?, ?cell/s]"
      ]
     },
     "metadata": {},
     "output_type": "display_data"
    },
    {
     "name": "stdout",
     "output_type": "stream",
     "text": [
      "Run 5 with seed 2588848963 took 1306.99 seconds\n"
     ]
    },
    {
     "data": {
      "application/vnd.jupyter.widget-view+json": {
       "model_id": "455c3ec37b19446d9f0bb98bfa97348a",
       "version_major": 2,
       "version_minor": 0
      },
      "text/plain": [
       "Executing:   0%|          | 0/43 [00:00<?, ?cell/s]"
      ]
     },
     "metadata": {},
     "output_type": "display_data"
    },
    {
     "name": "stdout",
     "output_type": "stream",
     "text": [
      "Run 6 with seed 3684848379 took 1286.76 seconds\n"
     ]
    },
    {
     "data": {
      "application/vnd.jupyter.widget-view+json": {
       "model_id": "c3588fb6a3724a23a33736ecfd6be0fc",
       "version_major": 2,
       "version_minor": 0
      },
      "text/plain": [
       "Executing:   0%|          | 0/43 [00:00<?, ?cell/s]"
      ]
     },
     "metadata": {},
     "output_type": "display_data"
    },
    {
     "name": "stdout",
     "output_type": "stream",
     "text": [
      "Run 7 with seed 2340255427 took 1277.37 seconds\n"
     ]
    },
    {
     "data": {
      "application/vnd.jupyter.widget-view+json": {
       "model_id": "4bf20f3242db48459fea3dc75111c80b",
       "version_major": 2,
       "version_minor": 0
      },
      "text/plain": [
       "Executing:   0%|          | 0/43 [00:00<?, ?cell/s]"
      ]
     },
     "metadata": {},
     "output_type": "display_data"
    },
    {
     "name": "stdout",
     "output_type": "stream",
     "text": [
      "Run 8 with seed 3638918503 took 1292.54 seconds\n",
      "All execution times: [350.3864994049072, 533.9635558128357, 565.9780559539795, 446.8676264286041, 382.20323944091797, 376.6988112926483, 355.77326226234436, 357.80322527885437, 805.3746716976166, 649.3675117492676, 749.4098725318909, 769.7975289821625, 760.3226299285889, 681.3997790813446, 765.1638314723969, 633.1233291625977, 1048.1282727718353, 1000.3833076953888, 1050.2417659759521, 1061.4256012439728, 980.2337102890015, 1017.1155300140381, 1011.872927904129, 1050.4353396892548, 1216.218829870224, 1242.4501011371613, 1324.0380165576935, 1261.2694821357727, 1306.9894707202911, 1286.7571926116943, 1277.3713800907135, 1292.539241552353]\n",
      "Ending Experiment with False\n",
      "Starting Experiment --> verion: 4  |   prompt:True  |   sample size: 1000  |   noise: False\n"
     ]
    },
    {
     "data": {
      "application/vnd.jupyter.widget-view+json": {
       "model_id": "f2ba1a58ff9e439fa0ccbb260fed0f16",
       "version_major": 2,
       "version_minor": 0
      },
      "text/plain": [
       "Executing:   0%|          | 0/43 [00:00<?, ?cell/s]"
      ]
     },
     "metadata": {},
     "output_type": "display_data"
    },
    {
     "name": "stdout",
     "output_type": "stream",
     "text": [
      "Run 1 with seed 2357136044 took 1617.25 seconds\n"
     ]
    },
    {
     "data": {
      "application/vnd.jupyter.widget-view+json": {
       "model_id": "67e49c231a6e434ba3b5b41100ee00df",
       "version_major": 2,
       "version_minor": 0
      },
      "text/plain": [
       "Executing:   0%|          | 0/43 [00:00<?, ?cell/s]"
      ]
     },
     "metadata": {},
     "output_type": "display_data"
    },
    {
     "name": "stdout",
     "output_type": "stream",
     "text": [
      "Run 2 with seed 2546248239 took 1551.29 seconds\n"
     ]
    },
    {
     "data": {
      "application/vnd.jupyter.widget-view+json": {
       "model_id": "3e2a8cee7cf643619ae12cc84c54dab1",
       "version_major": 2,
       "version_minor": 0
      },
      "text/plain": [
       "Executing:   0%|          | 0/43 [00:00<?, ?cell/s]"
      ]
     },
     "metadata": {},
     "output_type": "display_data"
    },
    {
     "name": "stdout",
     "output_type": "stream",
     "text": [
      "Run 3 with seed 3071714933 took 1542.73 seconds\n"
     ]
    },
    {
     "data": {
      "application/vnd.jupyter.widget-view+json": {
       "model_id": "8fd60e6024a4492fb54d259a10a24c08",
       "version_major": 2,
       "version_minor": 0
      },
      "text/plain": [
       "Executing:   0%|          | 0/43 [00:00<?, ?cell/s]"
      ]
     },
     "metadata": {},
     "output_type": "display_data"
    },
    {
     "name": "stdout",
     "output_type": "stream",
     "text": [
      "Run 4 with seed 3626093760 took 1609.51 seconds\n"
     ]
    },
    {
     "data": {
      "application/vnd.jupyter.widget-view+json": {
       "model_id": "a26592967eed4d1dbfe7be58c68228ff",
       "version_major": 2,
       "version_minor": 0
      },
      "text/plain": [
       "Executing:   0%|          | 0/43 [00:00<?, ?cell/s]"
      ]
     },
     "metadata": {},
     "output_type": "display_data"
    },
    {
     "name": "stdout",
     "output_type": "stream",
     "text": [
      "Run 5 with seed 2588848963 took 1604.04 seconds\n"
     ]
    },
    {
     "data": {
      "application/vnd.jupyter.widget-view+json": {
       "model_id": "7ccd6f60123c4fa8abcf00f2afec74c7",
       "version_major": 2,
       "version_minor": 0
      },
      "text/plain": [
       "Executing:   0%|          | 0/43 [00:00<?, ?cell/s]"
      ]
     },
     "metadata": {},
     "output_type": "display_data"
    },
    {
     "name": "stdout",
     "output_type": "stream",
     "text": [
      "Run 6 with seed 3684848379 took 1582.66 seconds\n"
     ]
    },
    {
     "data": {
      "application/vnd.jupyter.widget-view+json": {
       "model_id": "a1c46925c6bf4d2d9939cc6deeb01a5b",
       "version_major": 2,
       "version_minor": 0
      },
      "text/plain": [
       "Executing:   0%|          | 0/43 [00:00<?, ?cell/s]"
      ]
     },
     "metadata": {},
     "output_type": "display_data"
    },
    {
     "name": "stdout",
     "output_type": "stream",
     "text": [
      "Run 7 with seed 2340255427 took 1601.55 seconds\n"
     ]
    },
    {
     "data": {
      "application/vnd.jupyter.widget-view+json": {
       "model_id": "9b81c8839b0a4019902aeaba7547afea",
       "version_major": 2,
       "version_minor": 0
      },
      "text/plain": [
       "Executing:   0%|          | 0/43 [00:00<?, ?cell/s]"
      ]
     },
     "metadata": {},
     "output_type": "display_data"
    },
    {
     "name": "stdout",
     "output_type": "stream",
     "text": [
      "Run 8 with seed 3638918503 took 1515.13 seconds\n",
      "All execution times: [350.3864994049072, 533.9635558128357, 565.9780559539795, 446.8676264286041, 382.20323944091797, 376.6988112926483, 355.77326226234436, 357.80322527885437, 805.3746716976166, 649.3675117492676, 749.4098725318909, 769.7975289821625, 760.3226299285889, 681.3997790813446, 765.1638314723969, 633.1233291625977, 1048.1282727718353, 1000.3833076953888, 1050.2417659759521, 1061.4256012439728, 980.2337102890015, 1017.1155300140381, 1011.872927904129, 1050.4353396892548, 1216.218829870224, 1242.4501011371613, 1324.0380165576935, 1261.2694821357727, 1306.9894707202911, 1286.7571926116943, 1277.3713800907135, 1292.539241552353, 1617.2475101947784, 1551.2872943878174, 1542.7340047359467, 1609.5144128799438, 1604.0360527038574, 1582.66139626503, 1601.5470070838928, 1515.129686832428]\n",
      "Ending Experiment with False\n",
      "Starting Experiment --> verion: 4  |   prompt:False  |   sample size: 200  |   noise: False\n"
     ]
    },
    {
     "data": {
      "application/vnd.jupyter.widget-view+json": {
       "model_id": "ceac383f81694eee84718785f1cc92e3",
       "version_major": 2,
       "version_minor": 0
      },
      "text/plain": [
       "Executing:   0%|          | 0/43 [00:00<?, ?cell/s]"
      ]
     },
     "metadata": {},
     "output_type": "display_data"
    },
    {
     "name": "stdout",
     "output_type": "stream",
     "text": [
      "Run 1 with seed 2357136044 took 356.24 seconds\n"
     ]
    },
    {
     "data": {
      "application/vnd.jupyter.widget-view+json": {
       "model_id": "86ec5f00689048caa31a034cc9aa7527",
       "version_major": 2,
       "version_minor": 0
      },
      "text/plain": [
       "Executing:   0%|          | 0/43 [00:00<?, ?cell/s]"
      ]
     },
     "metadata": {},
     "output_type": "display_data"
    },
    {
     "name": "stdout",
     "output_type": "stream",
     "text": [
      "Run 2 with seed 2546248239 took 347.20 seconds\n"
     ]
    },
    {
     "data": {
      "application/vnd.jupyter.widget-view+json": {
       "model_id": "d0fa1f68b06443aaadf1fce4a237440e",
       "version_major": 2,
       "version_minor": 0
      },
      "text/plain": [
       "Executing:   0%|          | 0/43 [00:00<?, ?cell/s]"
      ]
     },
     "metadata": {},
     "output_type": "display_data"
    },
    {
     "name": "stdout",
     "output_type": "stream",
     "text": [
      "Run 3 with seed 3071714933 took 325.25 seconds\n"
     ]
    },
    {
     "data": {
      "application/vnd.jupyter.widget-view+json": {
       "model_id": "94a6a78a554246118f8bd6d8ef4e2362",
       "version_major": 2,
       "version_minor": 0
      },
      "text/plain": [
       "Executing:   0%|          | 0/43 [00:00<?, ?cell/s]"
      ]
     },
     "metadata": {},
     "output_type": "display_data"
    },
    {
     "name": "stdout",
     "output_type": "stream",
     "text": [
      "Run 4 with seed 3626093760 took 398.11 seconds\n"
     ]
    },
    {
     "data": {
      "application/vnd.jupyter.widget-view+json": {
       "model_id": "eb12d5ebcbf64e33a56a13cea1eed37a",
       "version_major": 2,
       "version_minor": 0
      },
      "text/plain": [
       "Executing:   0%|          | 0/43 [00:00<?, ?cell/s]"
      ]
     },
     "metadata": {},
     "output_type": "display_data"
    },
    {
     "name": "stdout",
     "output_type": "stream",
     "text": [
      "Run 5 with seed 2588848963 took 328.06 seconds\n"
     ]
    },
    {
     "data": {
      "application/vnd.jupyter.widget-view+json": {
       "model_id": "0b32d3fb51f246d0a9337125f6dfcf56",
       "version_major": 2,
       "version_minor": 0
      },
      "text/plain": [
       "Executing:   0%|          | 0/43 [00:00<?, ?cell/s]"
      ]
     },
     "metadata": {},
     "output_type": "display_data"
    },
    {
     "name": "stdout",
     "output_type": "stream",
     "text": [
      "Run 6 with seed 3684848379 took 345.89 seconds\n"
     ]
    },
    {
     "data": {
      "application/vnd.jupyter.widget-view+json": {
       "model_id": "9cd096bfb9a54c3ab96da477ad7838a4",
       "version_major": 2,
       "version_minor": 0
      },
      "text/plain": [
       "Executing:   0%|          | 0/43 [00:00<?, ?cell/s]"
      ]
     },
     "metadata": {},
     "output_type": "display_data"
    },
    {
     "name": "stdout",
     "output_type": "stream",
     "text": [
      "Run 7 with seed 2340255427 took 316.91 seconds\n"
     ]
    },
    {
     "data": {
      "application/vnd.jupyter.widget-view+json": {
       "model_id": "f7bf4b10af3e431681142aeeb9d9ffb0",
       "version_major": 2,
       "version_minor": 0
      },
      "text/plain": [
       "Executing:   0%|          | 0/43 [00:00<?, ?cell/s]"
      ]
     },
     "metadata": {},
     "output_type": "display_data"
    },
    {
     "name": "stdout",
     "output_type": "stream",
     "text": [
      "Run 8 with seed 3638918503 took 324.19 seconds\n",
      "All execution times: [350.3864994049072, 533.9635558128357, 565.9780559539795, 446.8676264286041, 382.20323944091797, 376.6988112926483, 355.77326226234436, 357.80322527885437, 805.3746716976166, 649.3675117492676, 749.4098725318909, 769.7975289821625, 760.3226299285889, 681.3997790813446, 765.1638314723969, 633.1233291625977, 1048.1282727718353, 1000.3833076953888, 1050.2417659759521, 1061.4256012439728, 980.2337102890015, 1017.1155300140381, 1011.872927904129, 1050.4353396892548, 1216.218829870224, 1242.4501011371613, 1324.0380165576935, 1261.2694821357727, 1306.9894707202911, 1286.7571926116943, 1277.3713800907135, 1292.539241552353, 1617.2475101947784, 1551.2872943878174, 1542.7340047359467, 1609.5144128799438, 1604.0360527038574, 1582.66139626503, 1601.5470070838928, 1515.129686832428, 356.2396535873413, 347.1991157531738, 325.24693751335144, 398.1075530052185, 328.0649800300598, 345.8864891529083, 316.9080412387848, 324.1947638988495]\n",
      "Ending Experiment with False\n",
      "Starting Experiment --> verion: 4  |   prompt:False  |   sample size: 400  |   noise: False\n"
     ]
    },
    {
     "data": {
      "application/vnd.jupyter.widget-view+json": {
       "model_id": "8da0de3f43e34a0cb247413602dbe475",
       "version_major": 2,
       "version_minor": 0
      },
      "text/plain": [
       "Executing:   0%|          | 0/43 [00:00<?, ?cell/s]"
      ]
     },
     "metadata": {},
     "output_type": "display_data"
    },
    {
     "name": "stdout",
     "output_type": "stream",
     "text": [
      "Run 1 with seed 2357136044 took 643.12 seconds\n"
     ]
    },
    {
     "data": {
      "application/vnd.jupyter.widget-view+json": {
       "model_id": "1e99c0999dd2478fb95ee4ada5b450b4",
       "version_major": 2,
       "version_minor": 0
      },
      "text/plain": [
       "Executing:   0%|          | 0/43 [00:00<?, ?cell/s]"
      ]
     },
     "metadata": {},
     "output_type": "display_data"
    },
    {
     "name": "stdout",
     "output_type": "stream",
     "text": [
      "Run 2 with seed 2546248239 took 627.84 seconds\n"
     ]
    },
    {
     "data": {
      "application/vnd.jupyter.widget-view+json": {
       "model_id": "95a7b48116214f5c90221a2ea46379eb",
       "version_major": 2,
       "version_minor": 0
      },
      "text/plain": [
       "Executing:   0%|          | 0/43 [00:00<?, ?cell/s]"
      ]
     },
     "metadata": {},
     "output_type": "display_data"
    },
    {
     "name": "stdout",
     "output_type": "stream",
     "text": [
      "Run 3 with seed 3071714933 took 629.17 seconds\n"
     ]
    },
    {
     "data": {
      "application/vnd.jupyter.widget-view+json": {
       "model_id": "5e252eddaa414c35b8f293ccbed7f65c",
       "version_major": 2,
       "version_minor": 0
      },
      "text/plain": [
       "Executing:   0%|          | 0/43 [00:00<?, ?cell/s]"
      ]
     },
     "metadata": {},
     "output_type": "display_data"
    },
    {
     "name": "stdout",
     "output_type": "stream",
     "text": [
      "Run 4 with seed 3626093760 took 658.18 seconds\n"
     ]
    },
    {
     "data": {
      "application/vnd.jupyter.widget-view+json": {
       "model_id": "44e2035955e6474c996727723c6db6c5",
       "version_major": 2,
       "version_minor": 0
      },
      "text/plain": [
       "Executing:   0%|          | 0/43 [00:00<?, ?cell/s]"
      ]
     },
     "metadata": {},
     "output_type": "display_data"
    },
    {
     "name": "stdout",
     "output_type": "stream",
     "text": [
      "Run 5 with seed 2588848963 took 626.84 seconds\n"
     ]
    },
    {
     "data": {
      "application/vnd.jupyter.widget-view+json": {
       "model_id": "f5306b4cf2304008b2915bfff7333e02",
       "version_major": 2,
       "version_minor": 0
      },
      "text/plain": [
       "Executing:   0%|          | 0/43 [00:00<?, ?cell/s]"
      ]
     },
     "metadata": {},
     "output_type": "display_data"
    },
    {
     "name": "stdout",
     "output_type": "stream",
     "text": [
      "Run 6 with seed 3684848379 took 631.74 seconds\n"
     ]
    },
    {
     "data": {
      "application/vnd.jupyter.widget-view+json": {
       "model_id": "69aa6f3b7fdb4c8d856c4f2bc8e116cb",
       "version_major": 2,
       "version_minor": 0
      },
      "text/plain": [
       "Executing:   0%|          | 0/43 [00:00<?, ?cell/s]"
      ]
     },
     "metadata": {},
     "output_type": "display_data"
    },
    {
     "name": "stdout",
     "output_type": "stream",
     "text": [
      "Run 7 with seed 2340255427 took 631.76 seconds\n"
     ]
    },
    {
     "data": {
      "application/vnd.jupyter.widget-view+json": {
       "model_id": "772f3c283ac841fdb06e49bec2bd35ed",
       "version_major": 2,
       "version_minor": 0
      },
      "text/plain": [
       "Executing:   0%|          | 0/43 [00:00<?, ?cell/s]"
      ]
     },
     "metadata": {},
     "output_type": "display_data"
    },
    {
     "name": "stdout",
     "output_type": "stream",
     "text": [
      "Run 8 with seed 3638918503 took 613.86 seconds\n",
      "All execution times: [350.3864994049072, 533.9635558128357, 565.9780559539795, 446.8676264286041, 382.20323944091797, 376.6988112926483, 355.77326226234436, 357.80322527885437, 805.3746716976166, 649.3675117492676, 749.4098725318909, 769.7975289821625, 760.3226299285889, 681.3997790813446, 765.1638314723969, 633.1233291625977, 1048.1282727718353, 1000.3833076953888, 1050.2417659759521, 1061.4256012439728, 980.2337102890015, 1017.1155300140381, 1011.872927904129, 1050.4353396892548, 1216.218829870224, 1242.4501011371613, 1324.0380165576935, 1261.2694821357727, 1306.9894707202911, 1286.7571926116943, 1277.3713800907135, 1292.539241552353, 1617.2475101947784, 1551.2872943878174, 1542.7340047359467, 1609.5144128799438, 1604.0360527038574, 1582.66139626503, 1601.5470070838928, 1515.129686832428, 356.2396535873413, 347.1991157531738, 325.24693751335144, 398.1075530052185, 328.0649800300598, 345.8864891529083, 316.9080412387848, 324.1947638988495, 643.1187353134155, 627.8411328792572, 629.1729366779327, 658.1818079948425, 626.8364148139954, 631.7354264259338, 631.7613003253937, 613.8622305393219]\n",
      "Ending Experiment with False\n",
      "Starting Experiment --> verion: 4  |   prompt:False  |   sample size: 600  |   noise: False\n"
     ]
    },
    {
     "data": {
      "application/vnd.jupyter.widget-view+json": {
       "model_id": "38f7689cb5af4f1cba22369f5d312a11",
       "version_major": 2,
       "version_minor": 0
      },
      "text/plain": [
       "Executing:   0%|          | 0/43 [00:00<?, ?cell/s]"
      ]
     },
     "metadata": {},
     "output_type": "display_data"
    },
    {
     "name": "stdout",
     "output_type": "stream",
     "text": [
      "Run 1 with seed 2357136044 took 1016.07 seconds\n"
     ]
    },
    {
     "data": {
      "application/vnd.jupyter.widget-view+json": {
       "model_id": "948aeae9adf1453aa73499d2e886fd29",
       "version_major": 2,
       "version_minor": 0
      },
      "text/plain": [
       "Executing:   0%|          | 0/43 [00:00<?, ?cell/s]"
      ]
     },
     "metadata": {},
     "output_type": "display_data"
    },
    {
     "name": "stdout",
     "output_type": "stream",
     "text": [
      "Run 2 with seed 2546248239 took 901.10 seconds\n"
     ]
    },
    {
     "data": {
      "application/vnd.jupyter.widget-view+json": {
       "model_id": "d472510fa6b3457082ddc557c26a8c17",
       "version_major": 2,
       "version_minor": 0
      },
      "text/plain": [
       "Executing:   0%|          | 0/43 [00:00<?, ?cell/s]"
      ]
     },
     "metadata": {},
     "output_type": "display_data"
    },
    {
     "name": "stdout",
     "output_type": "stream",
     "text": [
      "Run 3 with seed 3071714933 took 977.16 seconds\n"
     ]
    },
    {
     "data": {
      "application/vnd.jupyter.widget-view+json": {
       "model_id": "3fba0b33bbe54092ba0c9e46015536b9",
       "version_major": 2,
       "version_minor": 0
      },
      "text/plain": [
       "Executing:   0%|          | 0/43 [00:00<?, ?cell/s]"
      ]
     },
     "metadata": {},
     "output_type": "display_data"
    },
    {
     "name": "stdout",
     "output_type": "stream",
     "text": [
      "Run 4 with seed 3626093760 took 929.30 seconds\n"
     ]
    },
    {
     "data": {
      "application/vnd.jupyter.widget-view+json": {
       "model_id": "1a5f0b54e15144d3990083ad7903e48a",
       "version_major": 2,
       "version_minor": 0
      },
      "text/plain": [
       "Executing:   0%|          | 0/43 [00:00<?, ?cell/s]"
      ]
     },
     "metadata": {},
     "output_type": "display_data"
    },
    {
     "name": "stdout",
     "output_type": "stream",
     "text": [
      "Run 5 with seed 2588848963 took 901.37 seconds\n"
     ]
    },
    {
     "data": {
      "application/vnd.jupyter.widget-view+json": {
       "model_id": "8969641305c54288a9699d4f51daebf5",
       "version_major": 2,
       "version_minor": 0
      },
      "text/plain": [
       "Executing:   0%|          | 0/43 [00:00<?, ?cell/s]"
      ]
     },
     "metadata": {},
     "output_type": "display_data"
    },
    {
     "name": "stdout",
     "output_type": "stream",
     "text": [
      "Run 6 with seed 3684848379 took 901.38 seconds\n"
     ]
    },
    {
     "data": {
      "application/vnd.jupyter.widget-view+json": {
       "model_id": "f0b37b55d4404fa8b280bf462f49f683",
       "version_major": 2,
       "version_minor": 0
      },
      "text/plain": [
       "Executing:   0%|          | 0/43 [00:00<?, ?cell/s]"
      ]
     },
     "metadata": {},
     "output_type": "display_data"
    },
    {
     "name": "stdout",
     "output_type": "stream",
     "text": [
      "Run 7 with seed 2340255427 took 890.22 seconds\n"
     ]
    },
    {
     "data": {
      "application/vnd.jupyter.widget-view+json": {
       "model_id": "ac67083a9d7946f0b3058d5b73f0635a",
       "version_major": 2,
       "version_minor": 0
      },
      "text/plain": [
       "Executing:   0%|          | 0/43 [00:00<?, ?cell/s]"
      ]
     },
     "metadata": {},
     "output_type": "display_data"
    },
    {
     "name": "stdout",
     "output_type": "stream",
     "text": [
      "Run 8 with seed 3638918503 took 1017.32 seconds\n",
      "All execution times: [350.3864994049072, 533.9635558128357, 565.9780559539795, 446.8676264286041, 382.20323944091797, 376.6988112926483, 355.77326226234436, 357.80322527885437, 805.3746716976166, 649.3675117492676, 749.4098725318909, 769.7975289821625, 760.3226299285889, 681.3997790813446, 765.1638314723969, 633.1233291625977, 1048.1282727718353, 1000.3833076953888, 1050.2417659759521, 1061.4256012439728, 980.2337102890015, 1017.1155300140381, 1011.872927904129, 1050.4353396892548, 1216.218829870224, 1242.4501011371613, 1324.0380165576935, 1261.2694821357727, 1306.9894707202911, 1286.7571926116943, 1277.3713800907135, 1292.539241552353, 1617.2475101947784, 1551.2872943878174, 1542.7340047359467, 1609.5144128799438, 1604.0360527038574, 1582.66139626503, 1601.5470070838928, 1515.129686832428, 356.2396535873413, 347.1991157531738, 325.24693751335144, 398.1075530052185, 328.0649800300598, 345.8864891529083, 316.9080412387848, 324.1947638988495, 643.1187353134155, 627.8411328792572, 629.1729366779327, 658.1818079948425, 626.8364148139954, 631.7354264259338, 631.7613003253937, 613.8622305393219, 1016.0660786628723, 901.10036277771, 977.1594483852386, 929.2963624000549, 901.371913433075, 901.380877494812, 890.219578742981, 1017.316248178482]\n",
      "Ending Experiment with False\n",
      "Starting Experiment --> verion: 4  |   prompt:False  |   sample size: 800  |   noise: False\n"
     ]
    },
    {
     "data": {
      "application/vnd.jupyter.widget-view+json": {
       "model_id": "1f2515e83526478384b67777a6c4f57a",
       "version_major": 2,
       "version_minor": 0
      },
      "text/plain": [
       "Executing:   0%|          | 0/43 [00:00<?, ?cell/s]"
      ]
     },
     "metadata": {},
     "output_type": "display_data"
    },
    {
     "name": "stdout",
     "output_type": "stream",
     "text": [
      "Run 1 with seed 2357136044 took 1279.87 seconds\n"
     ]
    },
    {
     "data": {
      "application/vnd.jupyter.widget-view+json": {
       "model_id": "4e556008b3a544689c6a1cb894ff6a3c",
       "version_major": 2,
       "version_minor": 0
      },
      "text/plain": [
       "Executing:   0%|          | 0/43 [00:00<?, ?cell/s]"
      ]
     },
     "metadata": {},
     "output_type": "display_data"
    },
    {
     "name": "stdout",
     "output_type": "stream",
     "text": [
      "Run 2 with seed 2546248239 took 1175.43 seconds\n"
     ]
    },
    {
     "data": {
      "application/vnd.jupyter.widget-view+json": {
       "model_id": "e0afccc681384032bdf51a039e04f66a",
       "version_major": 2,
       "version_minor": 0
      },
      "text/plain": [
       "Executing:   0%|          | 0/43 [00:00<?, ?cell/s]"
      ]
     },
     "metadata": {},
     "output_type": "display_data"
    },
    {
     "name": "stdout",
     "output_type": "stream",
     "text": [
      "Run 3 with seed 3071714933 took 1321.54 seconds\n"
     ]
    },
    {
     "data": {
      "application/vnd.jupyter.widget-view+json": {
       "model_id": "a67537fbcef643219134e60f61bffc07",
       "version_major": 2,
       "version_minor": 0
      },
      "text/plain": [
       "Executing:   0%|          | 0/43 [00:00<?, ?cell/s]"
      ]
     },
     "metadata": {},
     "output_type": "display_data"
    },
    {
     "name": "stdout",
     "output_type": "stream",
     "text": [
      "Run 4 with seed 3626093760 took 1172.24 seconds\n"
     ]
    },
    {
     "data": {
      "application/vnd.jupyter.widget-view+json": {
       "model_id": "04c3caebff494bc3a6b4a7d86d3c26c0",
       "version_major": 2,
       "version_minor": 0
      },
      "text/plain": [
       "Executing:   0%|          | 0/43 [00:00<?, ?cell/s]"
      ]
     },
     "metadata": {},
     "output_type": "display_data"
    },
    {
     "name": "stdout",
     "output_type": "stream",
     "text": [
      "Run 5 with seed 2588848963 took 1208.02 seconds\n"
     ]
    },
    {
     "data": {
      "application/vnd.jupyter.widget-view+json": {
       "model_id": "f9031f5ba58240de8fd1d80576ff0c28",
       "version_major": 2,
       "version_minor": 0
      },
      "text/plain": [
       "Executing:   0%|          | 0/43 [00:00<?, ?cell/s]"
      ]
     },
     "metadata": {},
     "output_type": "display_data"
    },
    {
     "name": "stdout",
     "output_type": "stream",
     "text": [
      "Run 6 with seed 3684848379 took 1179.99 seconds\n"
     ]
    },
    {
     "data": {
      "application/vnd.jupyter.widget-view+json": {
       "model_id": "fcdd713d57774bc8a6dfc7e9d6a6f803",
       "version_major": 2,
       "version_minor": 0
      },
      "text/plain": [
       "Executing:   0%|          | 0/43 [00:00<?, ?cell/s]"
      ]
     },
     "metadata": {},
     "output_type": "display_data"
    },
    {
     "name": "stdout",
     "output_type": "stream",
     "text": [
      "Run 7 with seed 2340255427 took 1195.42 seconds\n"
     ]
    },
    {
     "data": {
      "application/vnd.jupyter.widget-view+json": {
       "model_id": "54af2d71ea734c86898e3483eb0d4435",
       "version_major": 2,
       "version_minor": 0
      },
      "text/plain": [
       "Executing:   0%|          | 0/43 [00:00<?, ?cell/s]"
      ]
     },
     "metadata": {},
     "output_type": "display_data"
    },
    {
     "name": "stdout",
     "output_type": "stream",
     "text": [
      "Run 8 with seed 3638918503 took 1203.22 seconds\n",
      "All execution times: [350.3864994049072, 533.9635558128357, 565.9780559539795, 446.8676264286041, 382.20323944091797, 376.6988112926483, 355.77326226234436, 357.80322527885437, 805.3746716976166, 649.3675117492676, 749.4098725318909, 769.7975289821625, 760.3226299285889, 681.3997790813446, 765.1638314723969, 633.1233291625977, 1048.1282727718353, 1000.3833076953888, 1050.2417659759521, 1061.4256012439728, 980.2337102890015, 1017.1155300140381, 1011.872927904129, 1050.4353396892548, 1216.218829870224, 1242.4501011371613, 1324.0380165576935, 1261.2694821357727, 1306.9894707202911, 1286.7571926116943, 1277.3713800907135, 1292.539241552353, 1617.2475101947784, 1551.2872943878174, 1542.7340047359467, 1609.5144128799438, 1604.0360527038574, 1582.66139626503, 1601.5470070838928, 1515.129686832428, 356.2396535873413, 347.1991157531738, 325.24693751335144, 398.1075530052185, 328.0649800300598, 345.8864891529083, 316.9080412387848, 324.1947638988495, 643.1187353134155, 627.8411328792572, 629.1729366779327, 658.1818079948425, 626.8364148139954, 631.7354264259338, 631.7613003253937, 613.8622305393219, 1016.0660786628723, 901.10036277771, 977.1594483852386, 929.2963624000549, 901.371913433075, 901.380877494812, 890.219578742981, 1017.316248178482, 1279.8722143173218, 1175.4348180294037, 1321.5368602275848, 1172.2351739406586, 1208.0215392112732, 1179.9907834529877, 1195.41681265831, 1203.215172290802]\n",
      "Ending Experiment with False\n",
      "Starting Experiment --> verion: 4  |   prompt:False  |   sample size: 1000  |   noise: False\n"
     ]
    },
    {
     "data": {
      "application/vnd.jupyter.widget-view+json": {
       "model_id": "adf73bd6ec04469ab4db1193d206f825",
       "version_major": 2,
       "version_minor": 0
      },
      "text/plain": [
       "Executing:   0%|          | 0/43 [00:00<?, ?cell/s]"
      ]
     },
     "metadata": {},
     "output_type": "display_data"
    },
    {
     "name": "stdout",
     "output_type": "stream",
     "text": [
      "Run 1 with seed 2357136044 took 1545.71 seconds\n"
     ]
    },
    {
     "data": {
      "application/vnd.jupyter.widget-view+json": {
       "model_id": "e5a7d21f8c00405e9c3e982ec5d6260e",
       "version_major": 2,
       "version_minor": 0
      },
      "text/plain": [
       "Executing:   0%|          | 0/43 [00:00<?, ?cell/s]"
      ]
     },
     "metadata": {},
     "output_type": "display_data"
    },
    {
     "name": "stdout",
     "output_type": "stream",
     "text": [
      "Run 2 with seed 2546248239 took 1453.64 seconds\n"
     ]
    },
    {
     "data": {
      "application/vnd.jupyter.widget-view+json": {
       "model_id": "7a309b8c6b6e487795895ac695ef9e52",
       "version_major": 2,
       "version_minor": 0
      },
      "text/plain": [
       "Executing:   0%|          | 0/43 [00:00<?, ?cell/s]"
      ]
     },
     "metadata": {},
     "output_type": "display_data"
    },
    {
     "name": "stdout",
     "output_type": "stream",
     "text": [
      "Run 3 with seed 3071714933 took 1546.65 seconds\n"
     ]
    },
    {
     "data": {
      "application/vnd.jupyter.widget-view+json": {
       "model_id": "2809ca314db74de7875e3d08486f0bde",
       "version_major": 2,
       "version_minor": 0
      },
      "text/plain": [
       "Executing:   0%|          | 0/43 [00:00<?, ?cell/s]"
      ]
     },
     "metadata": {},
     "output_type": "display_data"
    },
    {
     "name": "stdout",
     "output_type": "stream",
     "text": [
      "Run 4 with seed 3626093760 took 1585.99 seconds\n"
     ]
    },
    {
     "data": {
      "application/vnd.jupyter.widget-view+json": {
       "model_id": "e298be93956548a9896b446f77ff7356",
       "version_major": 2,
       "version_minor": 0
      },
      "text/plain": [
       "Executing:   0%|          | 0/43 [00:00<?, ?cell/s]"
      ]
     },
     "metadata": {},
     "output_type": "display_data"
    },
    {
     "name": "stdout",
     "output_type": "stream",
     "text": [
      "Run 5 with seed 2588848963 took 1445.96 seconds\n"
     ]
    },
    {
     "data": {
      "application/vnd.jupyter.widget-view+json": {
       "model_id": "03d66e95cc5a464a92b46f73c87807d2",
       "version_major": 2,
       "version_minor": 0
      },
      "text/plain": [
       "Executing:   0%|          | 0/43 [00:00<?, ?cell/s]"
      ]
     },
     "metadata": {},
     "output_type": "display_data"
    },
    {
     "name": "stdout",
     "output_type": "stream",
     "text": [
      "Run 6 with seed 3684848379 took 1555.66 seconds\n"
     ]
    },
    {
     "data": {
      "application/vnd.jupyter.widget-view+json": {
       "model_id": "e362f0d473e04f69a36a7dcd847e03f0",
       "version_major": 2,
       "version_minor": 0
      },
      "text/plain": [
       "Executing:   0%|          | 0/43 [00:00<?, ?cell/s]"
      ]
     },
     "metadata": {},
     "output_type": "display_data"
    },
    {
     "name": "stdout",
     "output_type": "stream",
     "text": [
      "Run 7 with seed 2340255427 took 1558.75 seconds\n"
     ]
    },
    {
     "data": {
      "application/vnd.jupyter.widget-view+json": {
       "model_id": "3f977c074f1d4b20883ee0d3a611f891",
       "version_major": 2,
       "version_minor": 0
      },
      "text/plain": [
       "Executing:   0%|          | 0/43 [00:00<?, ?cell/s]"
      ]
     },
     "metadata": {},
     "output_type": "display_data"
    },
    {
     "name": "stdout",
     "output_type": "stream",
     "text": [
      "Run 8 with seed 3638918503 took 1557.25 seconds\n",
      "All execution times: [350.3864994049072, 533.9635558128357, 565.9780559539795, 446.8676264286041, 382.20323944091797, 376.6988112926483, 355.77326226234436, 357.80322527885437, 805.3746716976166, 649.3675117492676, 749.4098725318909, 769.7975289821625, 760.3226299285889, 681.3997790813446, 765.1638314723969, 633.1233291625977, 1048.1282727718353, 1000.3833076953888, 1050.2417659759521, 1061.4256012439728, 980.2337102890015, 1017.1155300140381, 1011.872927904129, 1050.4353396892548, 1216.218829870224, 1242.4501011371613, 1324.0380165576935, 1261.2694821357727, 1306.9894707202911, 1286.7571926116943, 1277.3713800907135, 1292.539241552353, 1617.2475101947784, 1551.2872943878174, 1542.7340047359467, 1609.5144128799438, 1604.0360527038574, 1582.66139626503, 1601.5470070838928, 1515.129686832428, 356.2396535873413, 347.1991157531738, 325.24693751335144, 398.1075530052185, 328.0649800300598, 345.8864891529083, 316.9080412387848, 324.1947638988495, 643.1187353134155, 627.8411328792572, 629.1729366779327, 658.1818079948425, 626.8364148139954, 631.7354264259338, 631.7613003253937, 613.8622305393219, 1016.0660786628723, 901.10036277771, 977.1594483852386, 929.2963624000549, 901.371913433075, 901.380877494812, 890.219578742981, 1017.316248178482, 1279.8722143173218, 1175.4348180294037, 1321.5368602275848, 1172.2351739406586, 1208.0215392112732, 1179.9907834529877, 1195.41681265831, 1203.215172290802, 1545.712467432022, 1453.6420817375183, 1546.6460711956024, 1585.9902927875519, 1445.9556593894958, 1555.6579475402832, 1558.7508251667023, 1557.2517626285553]\n",
      "Ending Experiment with False\n"
     ]
    }
   ],
   "source": [
    "# Set the seed for reproducibility (optional)\n",
    "np.random.seed(0)\n",
    "\n",
    "# Generate 200 random integers between 0 (inclusive) and the upper bound (exclusive)\n",
    "seeds = np.random.randint(0, high=2**32, size=8, dtype=np.uint32).tolist()\n",
    "\n",
    "noise = False\n",
    "version = 4\n",
    "sample_sizes = [200, 400, 600, 800, 1000]\n",
    "prompts = [True, False]\n",
    "input_nb = './llama3_single_run.ipynb'\n",
    "\n",
    "# List to store execution times\n",
    "execution_times = []\n",
    "\n",
    "for prompt in prompts: \n",
    "\n",
    "    for sample_size in sample_sizes:\n",
    "        print(f'Starting Experiment --> verion: {version}  |   prompt:{prompt}  |   sample size: {sample_size}  |   noise: {noise}')\n",
    "        for i, seed in enumerate(seeds):\n",
    "            output_nb = f'output_notebook_{i+1}.ipynb'\n",
    "            \n",
    "            # Start the timer\n",
    "            start_time = time.time()\n",
    "            \n",
    "            pm.execute_notebook(\n",
    "                input_nb,\n",
    "                output_nb,\n",
    "                parameters={'noise': noise, \n",
    "                            'seed': seed, \n",
    "                            'version': version,\n",
    "                            'sample_size': sample_size,\n",
    "                            'prompt': prompt}\n",
    "            )\n",
    "            \n",
    "            # Stop the timer\n",
    "            end_time = time.time()\n",
    "            \n",
    "            # Calculate the duration\n",
    "            duration = end_time - start_time\n",
    "            execution_times.append(duration)\n",
    "            \n",
    "            print(f\"Run {i+1} with seed {seed} took {duration:.2f} seconds\")\n",
    "\n",
    "            #Remove the output notebook after capturing necessary data\n",
    "            os.remove(output_nb)\n",
    "\n",
    "        # Optionally, you can save these times to a file or print them all out at the end\n",
    "        print(\"All execution times:\", execution_times)\n",
    "        print(f'Ending Experiment with {noise}')\n"
   ]
  },
  {
   "cell_type": "code",
   "execution_count": null,
   "metadata": {},
   "outputs": [],
   "source": []
  }
 ],
 "metadata": {
  "kernelspec": {
   "display_name": "llms",
   "language": "python",
   "name": "python3"
  },
  "language_info": {
   "codemirror_mode": {
    "name": "ipython",
    "version": 3
   },
   "file_extension": ".py",
   "mimetype": "text/x-python",
   "name": "python",
   "nbconvert_exporter": "python",
   "pygments_lexer": "ipython3",
   "version": "3.10.12"
  },
  "orig_nbformat": 4
 },
 "nbformat": 4,
 "nbformat_minor": 2
}
