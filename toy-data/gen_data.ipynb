{
 "cells": [
  {
   "attachments": {},
   "cell_type": "markdown",
   "metadata": {},
   "source": [
    "#### **Import Libraries**"
   ]
  },
  {
   "cell_type": "code",
   "execution_count": 1,
   "metadata": {},
   "outputs": [
    {
     "ename": "OpenAIError",
     "evalue": "The api_key client option must be set either by passing api_key to the client or by setting the OPENAI_API_KEY environment variable",
     "output_type": "error",
     "traceback": [
      "\u001b[0;31m---------------------------------------------------------------------------\u001b[0m",
      "\u001b[0;31mOpenAIError\u001b[0m                               Traceback (most recent call last)",
      "Cell \u001b[0;32mIn[1], line 12\u001b[0m\n\u001b[1;32m     10\u001b[0m \u001b[39mfrom\u001b[39;00m \u001b[39mopenai\u001b[39;00m \u001b[39mimport\u001b[39;00m OpenAI\n\u001b[1;32m     11\u001b[0m \u001b[39mimport\u001b[39;00m \u001b[39mtiktoken\u001b[39;00m\n\u001b[0;32m---> 12\u001b[0m client \u001b[39m=\u001b[39m OpenAI()\n",
      "File \u001b[0;32m~/llmft/llms/lib/python3.10/site-packages/openai/_client.py:104\u001b[0m, in \u001b[0;36mOpenAI.__init__\u001b[0;34m(self, api_key, organization, project, base_url, timeout, max_retries, default_headers, default_query, http_client, _strict_response_validation)\u001b[0m\n\u001b[1;32m    102\u001b[0m     api_key \u001b[39m=\u001b[39m os\u001b[39m.\u001b[39menviron\u001b[39m.\u001b[39mget(\u001b[39m\"\u001b[39m\u001b[39mOPENAI_API_KEY\u001b[39m\u001b[39m\"\u001b[39m)\n\u001b[1;32m    103\u001b[0m \u001b[39mif\u001b[39;00m api_key \u001b[39mis\u001b[39;00m \u001b[39mNone\u001b[39;00m:\n\u001b[0;32m--> 104\u001b[0m     \u001b[39mraise\u001b[39;00m OpenAIError(\n\u001b[1;32m    105\u001b[0m         \u001b[39m\"\u001b[39m\u001b[39mThe api_key client option must be set either by passing api_key to the client or by setting the OPENAI_API_KEY environment variable\u001b[39m\u001b[39m\"\u001b[39m\n\u001b[1;32m    106\u001b[0m     )\n\u001b[1;32m    107\u001b[0m \u001b[39mself\u001b[39m\u001b[39m.\u001b[39mapi_key \u001b[39m=\u001b[39m api_key\n\u001b[1;32m    109\u001b[0m \u001b[39mif\u001b[39;00m organization \u001b[39mis\u001b[39;00m \u001b[39mNone\u001b[39;00m:\n",
      "\u001b[0;31mOpenAIError\u001b[0m: The api_key client option must be set either by passing api_key to the client or by setting the OPENAI_API_KEY environment variable"
     ]
    }
   ],
   "source": [
    "import os \n",
    "import time \n",
    "from sklearn.model_selection import train_test_split\n",
    "from datasets import Dataset, DatasetDict\n",
    "from tqdm import tqdm\n",
    "import numpy as np \n",
    "import random \n",
    "import math\n",
    "from itertools import chain\n",
    "from openai import OpenAI\n",
    "import tiktoken\n",
    "client = OpenAI()"
   ]
  },
  {
   "cell_type": "code",
   "execution_count": 2,
   "metadata": {},
   "outputs": [],
   "source": [
    "random.seed(10)  \n",
    "def num_tokens(text):\n",
    "    encoding = tiktoken.encoding_for_model('gpt-4')\n",
    "    return len(encoding.encode(text))"
   ]
  },
  {
   "cell_type": "code",
   "execution_count": 3,
   "metadata": {},
   "outputs": [],
   "source": [
    "run = False \n",
    "filename_sentences = \"./detailed_sentences.txt\" #\"./sentences.txt\"\n",
    "filename_classification = \"./detailed_classification.txt\"\n"
   ]
  },
  {
   "attachments": {},
   "cell_type": "markdown",
   "metadata": {},
   "source": [
    "#### **Raw Data**"
   ]
  },
  {
   "cell_type": "code",
   "execution_count": 5,
   "metadata": {},
   "outputs": [],
   "source": [
    "tenant_defense = [\"I've been consistently late on rent for the past six months due to financial struggles. My landlord has warned me several times, but I haven't been able to catch up. Now, they've decided to evict me.\",\n",
    " \"My neighbors have complained about noise from my apartment during late hours. Despite warnings, I continued hosting loud parties. The landlord cited disturbance of peace as the reason for my eviction.\",\n",
    " \"I adopted a large dog, violating the no-pet policy of my lease. The landlord found out during a routine inspection. They're evicting me for breaching the lease terms.\",\n",
    " \"I made unauthorized structural changes to the apartment without the landlord's permission. They were not happy with the modifications I made. Now, I'm being evicted for property damage.\",\n",
    " \"I was running a small business from my apartment, which is against the lease agreement. The landlord noticed increased traffic and investigated. They're evicting me for using the property for commercial purposes.\", \n",
    " \"I haven't kept up with the cleanliness and maintenance of the apartment, leading to several complaints from neighbors. The landlord warned me to clean up, but I didn't comply. Now, I'm facing eviction due to poor upkeep.\",\n",
    " \"There have been multiple incidents involving the police at my apartment. The landlord says it's creating a safety concern for other tenants. As a result, I'm being evicted for causing security issues.\", \n",
    " \"I failed to renew my lease on time and continued to stay without a formal agreement. The landlord has asked me to leave multiple times, but I stayed put. Now, they're evicting me for overstaying my lease.\", \n",
    " \"I've been subletting my apartment without the landlord's consent. They found out when they saw unfamiliar people frequently entering and leaving. I'm being evicted for unauthorized subletting.\", \n",
    " \"The building is undergoing major renovations, and the landlord has decided to evict all tenants. Although I've been a good tenant, my eviction is due to redevelopment plans that are out of my control.\", \n",
    " \"I lost my job unexpectedly and have struggled to find new employment. As a result, I've fallen behind on rent for the past four months. My landlord has been patient, but they've finally decided to evict me.\",\n",
    " \"I've been dealing with severe health issues that led to mounting medical bills, making it difficult to pay rent on time. Despite explaining my situation, the landlord needs to enforce the lease terms, resulting in my eviction.\", \n",
    " \"The company I worked for went bankrupt, leaving me jobless. I couldn't keep up with the rent and now, after several missed payments, I'm being evicted.\", \n",
    " \"A long-term illness prevented me from working, draining my savings and making it impossible to pay rent. My landlord sympathized but ultimately chose to evict me due to the financial situation.\", \n",
    " \"I've been using the apartment for unauthorized storage of commercial goods, which violates the lease agreement. The landlord discovered this during an inspection and is now evicting me for misusing the property.\", \n",
    " \"Repeated complaints about my pet's behavior led to warnings from the landlord. Despite efforts to train my pet, the problems persisted. Now, I'm being evicted for failing to control my pet's disruptive behavior.\", \n",
    " \"I painted the walls of the apartment without seeking permission, changing the property's appearance significantly. The landlord was unhappy with these unauthorized alterations and has decided to evict me.\", \n",
    " \"My roommate, who was not on the lease, caused damage to the apartment's facilities. The landlord holds me responsible for the actions of my roommate and is evicting me for the damage caused.\", \n",
    " \"I've been hosting unauthorized guests for extended periods, which goes against my lease terms. The landlord noticed the frequent presence of these guests and is now evicting me for breaching the lease agreement.\", \n",
    " \"I've consistently been late in paying utilities, leading to warnings from both the utility companies and my landlord. My failure to address these issues has led to an eviction notice for repeated non-compliance.\", \n",
    " \"Repeated noise complaints from my late-night music sessions led to multiple warnings. Despite assurances, I didn't change my habits. Now, my landlord is evicting me for continuous disturbance.\", \n",
    " \"After a serious injury, I was unable to work for several months. This led to falling behind on rent, and despite explaining my situation, my landlord is moving forward with eviction.\", \n",
    " \"My apartment was found to be in violation of fire safety regulations during an inspection. I was given time to rectify it but failed to do so. Consequently, I'm being evicted for non-compliance with safety standards.\", \n",
    " \"Due to a sudden job loss, I've struggled financially and missed three months of rent. My landlord has been understanding but ultimately decided to evict me for non-payment.\", \n",
    " \"I installed a satellite dish on the balcony without permission, violating my lease terms. The landlord noticed and is now evicting me for making unauthorized alterations to the property.\", \n",
    " \"A chronic health condition worsened, affecting my ability to work and pay rent. Despite my attempts to negotiate a payment plan, my landlord has issued an eviction notice.\", \n",
    " \"My habit of smoking inside the apartment, against the lease agreement, led to complaints from neighbors. The landlord warned me several times, but I didn't comply. Now, I am being evicted for violating the no-smoking policy.\", \n",
    " \"I've been hosting large gatherings against COVID-19 protocols, which the landlord explicitly prohibited. After neighbors raised concerns, the landlord decided to evict me for disregarding health and safety regulations.\", \n",
    " \"Neglecting apartment maintenance and cleanliness led to a pest infestation. Despite warnings to address the issue, I didn't take action. Now, I'm facing eviction for poor upkeep and health hazards.\", \n",
    " \"I've fallen behind on rent due to unexpected medical expenses. I tried to communicate my situation with the landlord, but they require adherence to the lease terms, leading to my eviction.\", \n",
    " \"My constant late-night parties led to multiple noise complaints from neighbors. The landlord warned me, but I didn't stop. Now, they're evicting me for repeated noise violations.\",\n",
    " \"After losing my job unexpectedly, I couldn't pay rent for the last four months. I've tried to negotiate with the landlord, but they've decided to proceed with eviction due to my inability to pay.\", \n",
    " \"I made unauthorized renovations to the kitchen without the landlord's consent. They were not pleased with the changes. As a result, I'm being evicted for property alterations.\", \n",
    " \"Running an online business from my apartment against the lease terms led to my eviction. The landlord noticed the constant in-and-out of packages and customers, which violated our agreement.\", \n",
    " \"My severe health issues led to accumulating medical debts, making it impossible to keep up with rent. Despite explaining my situation to the landlord, they've chosen to evict me for non-payment.\", \n",
    " \"I've been neglecting basic cleanliness and maintenance, resulting in damage and a pest problem. The landlord has cited my failure to maintain the apartment as the reason for my eviction.\", \n",
    " \"Hosting illegal activities in my apartment led to police involvement. The landlord cited this as a breach of lease and a risk to other tenants, resulting in my eviction.\", \n",
    " \"I've been subletting my apartment on a short-term rental platform without the landlord's permission. They found out and are now evicting me for breach of lease due to unauthorized subletting.\", \n",
    " \"After a major job loss, I've struggled to make ends meet and fell behind on rent. I tried to work out a payment plan, but the landlord requires full payment, leading to my eviction.\", \n",
    " \"I installed a loud air conditioning unit without permission, leading to complaints. The landlord warned me, but I didn't remove it. Now, I'm being evicted for unauthorized modifications.\", \n",
    " \"My repeated failure to sort trash correctly, despite warnings, led to fines and complaints. The landlord is now evicting me for non-compliance with waste management rules.\", \n",
    " \"I've consistently smoked in non-smoking areas of the building, leading to complaints from other tenants. Despite warnings, I continued, resulting in my eviction for violating building policies.\", \n",
    " \"I've been keeping a pet in my no-pet apartment. The landlord discovered this during an inspection and is evicting me for violating the no-pet clause in my lease.\", \n",
    " \"A prolonged illness prevented me from working, leading to falling behind on rent. I've communicated my health issues, but the landlord is still proceeding with eviction.\", \n",
    " \"I've frequently paid rent late, leading to several warnings from the landlord. My continued delay in payments has now resulted in an eviction notice.\", \n",
    " \"My unauthorized use of the property for large-scale art projects led to complaints about mess and noise. The landlord has cited this as a lease violation and is evicting me.\", \n",
    " \"I've been hosting unauthorized tenants for several months. The landlord found out and is now evicting me for breach of the lease agreement.\", \n",
    " \"After a significant reduction in my work hours, I've been unable to pay the full rent amount. Despite partial payments, the landlord has decided to evict me for the shortfall.\", \n",
    " \"I've been warned multiple times for loud music and parties. Despite these warnings, I didn't change my behavior. Now, I'm being evicted for disturbing other residents.\", \n",
    " \"My ongoing health challenges have drained my finances, leading to missed rent payments. Even after explaining my situation, the landlord has issued an eviction notice for non-payment.\", \n",
    " \"I've been using the apartment for unauthorized filming activities, which disrupted the neighbors. Despite warnings, I continued. Now, I'm facing eviction for misuse of the property.\", \n",
    " \"Due to a recent layoff, I've struggled to cover rent. I've missed three consecutive payments, leading my landlord to initiate eviction proceedings.\", \n",
    " \"I painted the exterior window frames without permission, violating the building's aesthetic guidelines. The landlord discovered it and is now evicting me for unauthorized exterior alterations.\", \n",
    " \"I kept a motorcycle in my living room, which leaked oil and caused damage. The landlord cited this as property damage and grounds for eviction.\", \n",
    " \"My frequent late-night arguments have led to multiple noise complaints. The landlord has given me several warnings, but the disturbances continued, leading to my eviction.\", \n",
    " \"A serious medical condition led to extended hospitalization and an inability to work, causing me to fall behind on rent. Despite my efforts to explain, the landlord is proceeding with eviction.\", \n",
    " \"I've been using the backyard for large gatherings, against the terms of my lease. Neighbors complained about the noise and disruption, and now I'm being evicted for violating lease terms.\", \n",
    " \"After a significant pay cut, I've been unable to afford rent. I've missed several payments, and my landlord has decided to evict me for non-payment.\", \n",
    " \"I installed a large, unauthorized satellite dish on the roof, which violated the lease agreement. The landlord noticed and is evicting me for making structural changes without permission.\", \n",
    " \"My failure to adhere to the building's recycling and garbage disposal rules, despite repeated warnings, has led to my eviction for non-compliance with building policies.\", \n",
    " \"I've been hosting a weekly podcast from my apartment, which often gets loud. Despite complaints and warnings, I didn't stop, leading to my eviction for noise disturbances.\", \n",
    " \"A chronic illness has made it difficult for me to work, causing me to fall behind on rent. I've tried to negotiate with the landlord, but they're insisting on eviction.\", \n",
    " \"I've been using the apartment's balcony for unauthorized barbecue parties, which is against the lease. After several complaints from neighbors, the landlord is evicting me.\", \n",
    " \"My job loss during the economic downturn has left me unable to pay rent. I've missed multiple payments, and now the landlord is moving forward with eviction.\", \n",
    " \"I converted the living room into a small yoga studio without permission, leading to complaints about constant visitor traffic. The landlord cited this as a violation and is evicting me.\", \n",
    " \"A prolonged illness resulted in accumulated unpaid rent, and despite my explanations, the landlord is proceeding with eviction for non-payment.\", \n",
    " \"I've been warned several times for leaving trash in the hallways. My failure to comply with cleanliness standards has led to my eviction.\", \n",
    " \"After downsizing at work, I've been struggling financially and missed rent payments. The landlord has been patient, but they've now decided to evict me for consistent late payments.\", \n",
    " \"I installed an unauthorized hot tub on the balcony, which led to water damage. The landlord is evicting me for property damage and unauthorized modifications.\", \n",
    " \"My health issues have prevented me from working, leading to a backlog of unpaid rent. I've communicated my situation to the landlord, but they have no choice but to evict me for non-payment.\", \n",
    " \"I made unauthorized electrical modifications in the apartment, which the landlord deemed unsafe. They are now evicting me for breach of safety regulations and property alterations.\", \n",
    " \"Due to chronic back problems, I've been unable to work and have fallen behind on rent. Despite my attempts to explain, the landlord has issued an eviction notice.\", \n",
    " \"I installed a non-permitted kitchen island, altering the apartment's layout. The landlord discovered it and is now evicting me for unauthorized structural changes.\", \n",
    " \"My job in the hospitality industry was cut due to the pandemic, leaving me struggling to pay rent. I've been unable to catch up, leading to my eviction for non-payment.\", \n",
    " \"I've been using the living room for band practices, causing noise complaints from neighbors. Despite warnings, I didn't stop, resulting in my eviction for disturbing the peace.\", \n",
    " \"A severe illness required expensive treatment, draining my savings and causing me to miss rent payments. The landlord understands but is still evicting me for financial reasons.\", \n",
    " \"I've been leaving trash outside my door, attracting pests and leading to complaints. The landlord warned me several times, but I didn't change my habits, leading to eviction for health hazards.\", \n",
    " \"After a significant salary cut, I've been unable to keep up with rent. I've missed a few payments, and now the landlord is evicting me for consistent late payments.\", \n",
    " \"I changed the locks without notifying the landlord, which is against our lease agreement. They discovered this during a routine check and are now evicting me for security violations.\", \n",
    " \"My long-term health condition has made it difficult to maintain steady employment, resulting in delayed rent payments. The landlord is sympathetic but has decided to proceed with eviction.\", \n",
    " \"I've been using the apartment's rooftop for unauthorized gatherings, violating lease terms. After neighbors complained, the landlord is evicting me for misuse of property.\", \n",
    " \"Due to a job loss in the tech industry, I've struggled financially and missed rent payments. Despite my efforts to find work, the landlord is evicting me for non-payment.\", \n",
    " \"I've been warned for playing loud music during the daytime, disrupting remote workers in the building. Despite these warnings, I continued, leading to my eviction for noise disturbances.\", \n",
    " \"A debilitating illness has impacted my ability to work, leading to a backlog of unpaid rent. I've communicated my situation, but the landlord is forced to evict me for non-payment.\", \n",
    " \"I've been storing excessive amounts of clutter in my apartment, leading to a fire safety hazard. The landlord warned me to clean up, but I didn't comply, resulting in eviction for safety concerns.\", \n",
    " \"After my company downsized, I've been unable to meet my rental obligations. I've missed several payments, leading to eviction for non-payment.\", \n",
    " \"I converted part of the apartment into a photography studio without permission, causing disturbances. The landlord found out and is evicting me for unauthorized use of the property.\", \n",
    " \"A chronic health issue has left me unable to work, causing financial hardship and inability to pay rent. The landlord empathizes but is moving forward with eviction.\", \n",
    " \"I've been hosting loud virtual events, leading to complaints from neighbors about noise. Despite warnings, I didn't stop, resulting in my eviction for disturbance.\", \n",
    " \"Losing my job in a recent restructuring left me struggling to pay rent. I've missed several payments, leading to my eviction for financial non-compliance.\", \n",
    " \"I've been conducting unauthorized car repairs in the parking area, leading to complaints about noise and oil spills. The landlord warned me, but I continued, resulting in eviction for property misuse.\", \n",
    " \"Due to a severe health crisis, I've been hospitalized and unable to work, falling behind on rent. Despite my attempts to communicate, the landlord is proceeding with eviction.\", \n",
    " \"I replaced the apartment's carpet with hardwood flooring without permission, violating the lease terms. The landlord is evicting me for unauthorized renovations.\", \n",
    " \"After a layoff in the retail sector, I've struggled to find new employment and missed rent payments. The landlord has been patient, but they're now evicting me for non-payment.\", \n",
    " \"I've been using the apartment for hosting large yoga classes, causing disturbances. Despite warnings, I didn't cease, leading to my eviction for violating lease terms.\", \n",
    " \"A long-term illness has impacted my income, leading to difficulties in paying rent. I've explained my situation, but the landlord has decided to evict me for financial reasons.\", \n",
    " \"I've left my belongings in common areas, causing obstructions and complaints from other tenants. The landlord warned me, but I didn't comply, resulting in eviction for violating communal space rules.\", \n",
    " \"Due to a drastic reduction in my hours at work, I've been unable to fully pay my rent. I've missed several payments, and now the landlord is evicting me for partial non-payment.\", \n",
    " \"I changed the apartment's exterior color without consulting the landlord, breaching the lease agreement. They've noticed and are evicting me for unauthorized exterior modifications.\", \n",
    " \"My chronic health condition has made regular employment challenging, resulting in delayed rent payments. The landlord sympathizes but has to evict me for non-payment.\", \n",
    " \"I've been using the basement for unauthorized storage, leading to space issues. After warnings, I didn't clear it out, resulting in my eviction for misuse of property.\", \n",
    " \"Following a downsizing at my workplace, I've been struggling financially and have missed rent payments. Despite my best efforts, the landlord is evicting me for non-payment.\", \n",
    " \"I've been conducting loud online gaming sessions, leading to neighbor complaints about noise. Despite several warnings, I continued, leading to my eviction for noise disturbances.\", \n",
    " \"A severe illness has prevented me from working, leading to a backlog of unpaid rent. I've tried to explain my situation, but the landlord is proceeding with eviction for non-payment.\", \n",
    " \"I've been storing old furniture in the building's hallways, creating fire hazards. The landlord warned me to remove them, but I didn't comply, leading to eviction for safety violations.\", \n",
    " \"After losing my job in the finance sector, I've been unable to meet my rent obligations. I've missed several payments, resulting in eviction for non-payment.\", \n",
    " \"I converted the balcony into a small garden without permission, leading to water leakage issues. The landlord found out and is evicting me for unauthorized alterations.\", \n",
    " \"My ongoing health challenges have drained my financial resources, making rent payment difficult. The landlord understands but is forced to evict me for consistent late payments.\", \n",
    " \"I've been hosting virtual reality gaming sessions, causing noise and disturbances. Despite warnings, I didn't stop, leading to my eviction for violating peace and quiet.\", \n",
    " \"The economic downturn affected my job, leaving me struggling to pay rent. I've missed several payments, leading to my eviction for financial non-compliance.\", \n",
    " \"I've been using my apartment as a rehearsal space for my band, leading to loud music complaints. Despite multiple warnings, I continued, resulting in eviction for disturbing neighbors.\", \n",
    " \"After a severe injury, I've been unable to work, causing me to fall behind on rent. I've communicated with the landlord, but they're proceeding with eviction for non-payment.\", \n",
    " \"I installed a makeshift deck on the rooftop without permission, violating building codes. The landlord discovered it and is evicting me for unauthorized structural changes.\", \n",
    " \"Due to layoffs in the manufacturing sector, I've been struggling financially and missed rent payments. The landlord has decided to evict me for non-payment despite my situation.\", \n",
    " \"I've been conducting dance classes in my living room, causing noise and disturbance. Despite repeated warnings, I didn't cease, leading to my eviction for lease violations.\", \n",
    " \"A chronic illness has affected my ability to maintain steady income, resulting in late rent payments. The landlord sympathizes but is forced to evict me for financial reasons.\", \n",
    " \"I frequently left my bike in the hallway, blocking the way for other tenants. The landlord warned me multiple times, but I didn't comply, leading to eviction for violating building rules.\", \n",
    " \"After a significant reduction in work hours, I've been unable to pay the full rent. I've missed a few payments, and the landlord is evicting me for partial non-payment.\", \n",
    " \"I painted murals on the apartment walls without permission, altering the property's appearance. The landlord is evicting me for making unauthorized aesthetic changes.\", \n",
    " \"My ongoing health issues have made it challenging to work consistently, leading to delayed rent payments. Despite my attempts to explain, the landlord is evicting me for non-payment.\", \n",
    " \"I've been using the fire escape for personal storage, leading to safety concerns. After failing to clear it, the landlord is evicting me for creating a fire hazard.\", \n",
    " \"Due to job loss in the service industry, I've been unable to cover rent. I've missed several payments, and now the landlord is evicting me for non-payment.\", \n",
    " \"I've been playing loud music and video games, leading to complaints about noise. Despite warnings, I didn't lower the volume, leading to my eviction for disturbing the peace.\", \n",
    " \"A serious medical condition has prevented me from working, resulting in unpaid rent. I've communicated my hardship, but the landlord is proceeding with eviction for non-payment.\", \n",
    " \"Storing bulky items in shared spaces led to complaints from other tenants. The landlord warned me, but I didn't move them, leading to eviction for misuse of communal areas.\", \n",
    " \"Following a downturn in my consulting business, I've been struggling to pay rent. I've missed several payments, leading to eviction for non-payment.\", \n",
    " \"I built a fish pond in the living room without permission, causing water damage. The landlord discovered it and is evicting me for property damage and unauthorized alterations.\", \n",
    " \"Health problems have drained my savings, making it hard to keep up with rent. The landlord empathizes but is evicting me for consistent late payments.\", \n",
    " \"Hosting loud virtual meetings has led to neighbor complaints about noise. Despite warnings, I continued, resulting in my eviction for violating noise regulations.\", \n",
    " \"My job in the retail sector was cut, leaving me struggling to make rent payments. I've missed several payments, leading to eviction for financial non-compliance.\", \n",
    " \"I've been using my apartment for unapproved art exhibitions, causing disturbances. Despite warnings, I persisted, leading to eviction for violating the terms of my lease.\", \n",
    " \"Due to a debilitating back injury, I've been unable to work and fell behind on rent. Although I explained my situation, the landlord is moving forward with eviction for non-payment.\", \n",
    " \"I installed an unauthorized window AC unit, which caused water leakage to the apartment below. The landlord discovered this and is evicting me for property damage and unauthorized modifications.\", \n",
    " \"After being laid off from my job in construction, I've struggled to meet rent obligations. Despite my efforts to find new work, I'm now facing eviction for non-payment.\", \n",
    " \"I've been giving drum lessons in my apartment, leading to noise complaints. I ignored multiple warnings, resulting in my eviction for creating a disturbance.\", \n",
    " \"A chronic respiratory condition has limited my ability to work, resulting in late rent payments. The landlord is sympathetic but has decided to evict me for financial reasons.\", \n",
    " \"I consistently left personal items in the building's lobby, cluttering the space. Despite the landlord's warnings, I didn't change my habits, leading to eviction for misuse of common areas.\", \n",
    " \"Due to reduced hours at my retail job, I've been unable to fully pay my rent. I've missed several payments, and the landlord is evicting me for partial non-payment.\", \n",
    " \"I painted the interior of the apartment in bright, unconventional colors without permission. The landlord is evicting me for making unauthorized aesthetic changes.\", \n",
    " \"My health issues have made it hard to maintain regular employment, leading to delayed rent payments. Despite my explanations, the landlord is proceeding with eviction for non-payment.\", \n",
    " \"Using the apartment's balcony for storing bulky items led to complaints and safety concerns. After ignoring requests to remove them, I'm being evicted for creating a hazard.\", \n",
    " \"After losing my job in hospitality, I've been unable to keep up with rent. I've missed several payments, leading to eviction for non-payment.\", \n",
    " \"Playing loud instruments at night resulted in multiple noise complaints. Despite warnings, I didn't stop, leading to eviction for disturbing neighbors.\", \n",
    " \"A severe illness has left me unable to work, resulting in accumulating rent arrears. I've communicated my situation, but the landlord is proceeding with eviction for non-payment.\", \n",
    " \"I've been leaving sports equipment in the hallways, causing obstructions. The landlord warned me repeatedly, but I didn't comply, leading to eviction for violating building rules.\", \n",
    " \"The economic downturn severely impacted my freelance work, leading to difficulties in paying rent. I've missed several payments, resulting in eviction for non-payment.\", \n",
    " \"I installed a fish tank wall in my living room without permission, causing water damage. The landlord discovered it and is now evicting me for unauthorized alterations and property damage.\", \n",
    " \"Health challenges have impacted my financial stability, making it difficult to pay rent on time. The landlord understands but is forced to evict me for consistent late payments.\", \n",
    " \"Hosting virtual cooking classes has led to complaints about noise and smells. Despite warnings, I continued, leading to my eviction for not adhering to building policies.\", \n",
    " \"My position in a retail store was eliminated, leaving me struggling to pay rent. I've missed several payments, leading to eviction for financial non-compliance.\"]"
   ]
  },
  {
   "attachments": {},
   "cell_type": "markdown",
   "metadata": {},
   "source": [
    "#### **Legal Aid**"
   ]
  },
  {
   "cell_type": "code",
   "execution_count": 9,
   "metadata": {},
   "outputs": [],
   "source": [
    "def get_completion(prompt, model='gpt-4'):\n",
    "    messages = [{\"role\": \"system\", \"content\": \"You are a legal aid lawyer already working on several cases.\"}, {\"role\": \"user\", \"content\": prompt}]\n",
    "    response =  client.chat.completions.create(model=model, messages=messages,temperature=0.)\n",
    "    return response.choices[0].message.content \n",
    "\n",
    "def initiate_prompt(text):\n",
    "    prompt = f\"\"\"\n",
    "    A tenant is asking that you represent them in an eviction case. Given your limited time, you can only help those who lost a job or have health issues. Below is a tenant's description of their challenge. \n",
    "\n",
    "    Tenant\n",
    "    ```{text}```\n",
    "\n",
    "    Tell the tenant if you will represent them: Yes/No\n",
    "    \"\"\"\n",
    "    return prompt"
   ]
  },
  {
   "attachments": {},
   "cell_type": "markdown",
   "metadata": {},
   "source": [
    "#### **Take Up**"
   ]
  },
  {
   "cell_type": "code",
   "execution_count": 10,
   "metadata": {},
   "outputs": [],
   "source": [
    "if run:\n",
    "    legal_representation = []\n",
    "    for i in tqdm(augmented_tenant_defenses):\n",
    "        legal_representation.append(get_completion(initiate_prompt(i)))\n",
    "        time.sleep(0.25)\n",
    "\n",
    "if run:# Writing to the file\n",
    "    with open(filename_classification, 'w') as file:\n",
    "        for sentence in legal_representation:\n",
    "            file.write(sentence + \"\\n\")\n",
    "\n",
    "if not run:\n",
    "    with open(filename_classification, 'r') as file:\n",
    "        legal_representation = [line.strip() for line in file.readlines()]"
   ]
  },
  {
   "cell_type": "code",
   "execution_count": 11,
   "metadata": {},
   "outputs": [
    {
     "data": {
      "text/plain": [
       "65"
      ]
     },
     "execution_count": 11,
     "metadata": {},
     "output_type": "execute_result"
    }
   ],
   "source": [
    "legal_representation.count(\"Yes\")"
   ]
  },
  {
   "cell_type": "code",
   "execution_count": 12,
   "metadata": {},
   "outputs": [
    {
     "name": "stdout",
     "output_type": "stream",
     "text": [
      "10 Being a single father of three, I was blindsided when I lost my job as a warehouse worker due to company-wide layoffs. Since then, I've been tirelessly searching for new employment in a market that seems to have little to offer. Consequently, I've fallen behind on my modest $800 monthly rent for our two-bedroom apartment for the past four months. My landlord, a stern but fair woman, has shown patience and understanding, but even her tolerance has its limits. She's finally made the difficult decision to evict me, leaving me scrambling to find a new home for my family.\n",
      "11 As a single mother of three, I've been grappling with debilitating health issues that have resulted in a mountain of medical bills. My modest income as a part-time cashier barely covers our monthly rent of $800 for our two-bedroom apartment in a predominantly Hispanic neighborhood. Despite my earnest attempts to explain my dire situation to the landlord, he is bound by the constraints of the lease terms and has no choice but to proceed with my eviction.\n",
      "12 The small, family-owned company I dedicated ten years of my life to, suddenly declared bankruptcy, leaving me and my three children without a steady income. As a single African-American mother working a low-wage job, I was barely making ends meet, and the $800 monthly rent for our two-bedroom apartment in the city became an insurmountable burden. Now, after several agonizing months of missed payments and countless sleepless nights, I'm facing the harsh reality of eviction.\n",
      "13 A debilitating, long-term illness struck me, a single mother of three, rendering me unable to continue my job as a cashier at the local grocery store. This unfortunate circumstance rapidly drained my meager savings, making it impossible to meet the monthly rent of $800 for our small two-bedroom apartment. My landlord, a middle-aged Caucasian man who had always been kind, sympathized with my plight but ultimately, due to the financial strain, made the difficult decision to evict me and my children.\n",
      "17 My roommate, a middle-aged African American man who works as a janitor and was not officially on the lease due to our struggle to afford the $800 monthly rent for our small two-bedroom apartment, inadvertently caused significant damage to the apartment's aging plumbing system. The landlord, a stern woman who has little patience for the families in our low-income neighborhood, holds me, a single mother of three working two jobs, responsible for the actions of my roommate and is now evicting me for the damage caused.\n",
      "21 After suffering a debilitating injury in a construction accident, I found myself incapacitated and unable to continue my job as a manual laborer for several agonizing months. Being the sole breadwinner in a family of five, this unfortunate incident led to a mounting backlog of unpaid rent for our modest two-bedroom apartment, which costs us $800 per month. Despite earnestly explaining my predicament to my landlord, a stern man of little sympathy, he is relentlessly moving forward with the eviction process, disregarding the plight of our Hispanic family in these challenging times.\n",
      "23 Due to an unexpected layoff from my job as a janitor at a local school, a position I've held for over a decade, I've found myself grappling with severe financial difficulties. As the sole breadwinner for my family of five, this has hit us hard. We've missed three consecutive months of rent, a hefty sum of $800 per month for our modest two-bedroom apartment in the heart of the city. Our landlord, a kind-hearted elderly gentleman of Asian descent, has shown considerable understanding and patience. However, under the mounting pressure of his own bills, he has ultimately made the heart-wrenching decision to evict us for non-payment.\n",
      "25 As a single mother of three in a predominantly African-American neighborhood, my chronic health condition, diabetes, took a turn for the worse, severely affecting my ability to continue working my two minimum-wage jobs and pay our modest $800 monthly rent. Despite my desperate attempts to negotiate a feasible payment plan with my landlord, a stern man who seemed indifferent to our plight, he has coldly issued an eviction notice.\n",
      "28 As a single mother of three in a cramped two-bedroom apartment, I found myself overwhelmed by the demands of my minimum-wage job at the local diner and the constant upkeep of our home. The monthly rent of $800, a significant portion of my income, was a constant stressor. Being a woman of Hispanic descent in a predominantly white neighborhood, I often felt the pressure to keep up appearances. However, the neglect of apartment maintenance and cleanliness, a result of my exhausting schedule, led to an unfortunate pest infestation. Despite stern warnings from the landlord and the threat of eviction, I was unable to address the issue promptly. Now, I'm facing the harsh reality of eviction for poor upkeep and health hazards, a situation that could potentially leave my family homeless.\n",
      "29 As a single mother of three in a predominantly Hispanic neighborhood, I've fallen behind on my $800 monthly rent due to unexpected medical expenses from my youngest son's sudden illness. Despite my earnest attempts to communicate my dire situation with the landlord, a stern man who strictly adheres to the lease terms, I've been met with an unwavering demand for payment, leading to my impending eviction. As a part-time janitor barely making ends meet, this financial setback has left me in a state of despair.\n",
      "31 After being laid off abruptly from my job as a warehouse worker, a position I held for over a decade, I found myself unable to cover the $800 monthly rent for our modest two-bedroom apartment where I live with my three young children. Despite my desperate attempts to negotiate a payment plan with my landlord, a stern man who's been in the rental business for years, they've decided to proceed with eviction due to my prolonged inability to pay. As a single African-American mother in a low-income bracket, this situation has left me grappling with the harsh realities of our economic system.\n",
      "34 Being a single mother of three in a predominantly African-American neighborhood, my severe health issues, including a long battle with diabetes and hypertension, led to an overwhelming accumulation of medical debts. This financial burden, coupled with my meager income from my part-time job as a cashier at the local grocery store, made it impossible to keep up with the monthly rent of $800 for our two-bedroom apartment. Despite explaining my dire situation to the landlord, a middle-aged man known for his strict adherence to rules, they've chosen to evict me for non-payment.\n",
      "38 After a devastating job loss from the local factory where I worked as a line supervisor, I've grappled with the harsh reality of struggling to make ends meet for my family of five. With a monthly rent of $800 for our modest two-bedroom apartment, falling behind was inevitable. I earnestly tried to negotiate a feasible payment plan with my landlord, a stern man who strictly adheres to his policies. However, he remained unyielding, demanding full payment of the overdue rent. This led to the heartbreaking event of my eviction, leaving me, an African-American single father, and my children without a home.\n",
      "43 Being the sole breadwinner in a family of five, a prolonged and debilitating illness unfortunately prevented me from continuing my job as a janitor, leading to a steady accumulation of unpaid rent amounting to $800 per month. Despite my earnest attempts to communicate my health issues, including the debilitating effects of my chronic back pain, to my landlord, a stern middle-aged man of Caucasian descent, he is still relentlessly proceeding with the eviction process.\n",
      "46 For several months, I've been secretly providing shelter to my unemployed brother and his family of five in my modest two-bedroom apartment, which I rent for $800 a month. My landlord, a stern middle-aged Caucasian man who works as a real estate agent, discovered this unauthorized arrangement. He's now evicting me for violating the terms of our lease agreement.\n",
      "47 After a drastic cutback in my work hours at the local grocery store, where I've been a cashier for the past five years, I've found myself unable to meet the full monthly rent of $800 for our modest three-bedroom apartment. Despite making partial payments with what little I earn, the landlord, a stern man who lives out of state, has decided to evict me and my family of five for the shortfall. As a single African-American mother, this situation has put me in a dire financial predicament.\n",
      "49 As a single mother of three, juggling multiple part-time jobs, my ongoing health challenges have severely drained my limited finances. This has led to several missed rent payments for our small two-bedroom apartment, which costs $800 per month. Despite my earnest attempts to explain my situation, including my recent hospitalization and the mounting medical bills, my landlord, who is of a different race and seems to lack understanding of my predicament, has coldly issued an eviction notice for non-payment.\n",
      "51 Being a single father of three in a predominantly African-American neighborhood, I've been grappling with financial instability due to a recent layoff from my job as a warehouse supervisor. The monthly rent of $800 for our two-bedroom apartment has become an insurmountable burden. Consequently, I've missed three consecutive payments, leading my landlord, a stern man who lives in the same building, to initiate eviction proceedings.\n",
      "55 Being a single father of three in a predominantly Hispanic neighborhood, a severe medical condition unexpectedly struck me, leading to an extended hospitalization of over two months. This unfortunate circumstance rendered me unable to continue my job as a janitor, a job that barely covered our monthly rent of $800. Despite my earnest efforts to explain my situation to the landlord, a stern man who had little patience for late payments, he is relentlessly proceeding with the eviction process.\n",
      "57 After an unexpected and significant pay cut from my job as a janitor, I've found myself unable to afford the monthly rent of $800 for our small two-bedroom apartment. As a single father of three, this has put a tremendous strain on our already tight budget. I've missed several payments, and my landlord, a stern man who lives upstairs, has decided to evict me for non-payment.\n",
      "61 Being a single mother of three in a predominantly African-American neighborhood, a relentless chronic illness has severely hindered my ability to maintain my job as a part-time cashier, causing me to fall behind on my monthly rent of $800. Despite my earnest attempts to negotiate a payment plan with my landlord, they remain unyielding and are insisting on eviction.\n",
      "63 The unexpected loss of my job as a janitor during the devastating economic downturn has left me, a single African-American father of three, struggling to meet the hefty monthly rent of $800 for our two-bedroom apartment. I've missed multiple payments, four to be exact, and now the landlord, a stern man who lives upstairs, is moving forward with the eviction process.\n",
      "65 After a grueling six-month battle with a debilitating illness, I found myself drowning in a sea of unpaid rent for our modest two-bedroom apartment, home to my family of five. Despite my desperate attempts to explain our situation, the landlord, a stern man of Caucasian descent who manages multiple properties across the city, remains unmoved. He is proceeding with eviction for non-payment, disregarding the fact that I, a single mother working two minimum-wage jobs, am struggling to make ends meet in this low-income bracket.\n",
      "67 After the unexpected downsizing at the local factory where I worked as a line supervisor, I've been grappling with financial instability in my family of five. The monthly rent of $800 for our two-bedroom apartment has become increasingly difficult to meet. Despite the landlord, a stern yet understanding elderly woman, showing patience over the past few months, she's now made the tough decision to evict me due to my consistent late payments. As a single African-American father, this financial struggle has been a harsh reality.\n",
      "69 Being the sole breadwinner in a family of five, my chronic health issues have unfortunately put a halt to my job as a construction worker, leading to a growing backlog of unpaid rent amounting to $800 per month. I've earnestly communicated my predicament to my landlord, a stern but fair Caucasian woman, but she finds herself with no choice but to evict me for non-payment, given her own financial obligations.\n",
      "71 As a single father of three, grappling with relentless and debilitating back problems, I've found myself unable to maintain my job as a warehouse worker. This has led to a distressing situation where I've fallen behind on my modest monthly rent of $800 for our two-bedroom apartment. Despite my earnest attempts to explain my predicament to the landlord, a stern man of a different race who seems to have little sympathy for my situation, he has coldly issued an eviction notice.\n",
      "73 As a single mother of three, I was working tirelessly in the hospitality industry, specifically as a waitress in a local diner, to make ends meet. However, the unforeseen pandemic led to a drastic cut in my job, leaving me in a precarious financial situation. My monthly rent of $800, which was already a struggle to pay, became an insurmountable challenge. Despite my best efforts, I've been unable to catch up on the mounting bills. This unfortunate series of events led to my eviction for non-payment, leaving me and my children in a dire situation.\n",
      "75 As the sole breadwinner of a large family of six, I was struck by a severe, life-threatening illness that necessitated costly medical treatment. This unforeseen circumstance rapidly depleted my modest savings, accumulated from my job as a janitor, and led to a series of missed rent payments for our small two-bedroom apartment that costs $800 per month. My landlord, a sympathetic middle-aged Caucasian woman, understands the predicament I'm in but, due to her own financial obligations, is still compelled to evict me.\n",
      "77 After an unexpected and significant salary cut from my job as a janitor, I've found myself struggling to keep up with the monthly rent of $800 for our small two-bedroom apartment. As a single father of three, it's been a challenge to stretch my meager income. I've missed a few payments, and now, the landlord, a stern man who lives upstairs, is evicting me for consistent late payments. Being a part of the African-American community, it's even harder to find affordable housing in this city.\n",
      "79 Being a single mother of three in a predominantly African-American neighborhood, my chronic health condition has made it increasingly challenging to maintain steady employment as a part-time janitor, resulting in delayed rent payments of $800 per month. The landlord, a kind-hearted elderly man who has seen my struggles, is sympathetic but, due to his own financial obligations, has decided to proceed with the eviction.\n",
      "81 After being laid off from my position as a software engineer in a small tech startup, I've found myself grappling with financial instability, unable to meet the hefty monthly rent of $1500 for our modest three-bedroom apartment. Despite tirelessly sending out resumes and attending numerous job interviews, I've been unable to secure employment in the saturated tech industry. As a result, my landlord, a stern man who shows little sympathy for my situation, is evicting me and my family of four for consecutive non-payment. Being a single father of African-American descent, this situation has further exacerbated the challenges I face in the low-income bracket.\n",
      "83 A debilitating illness, a relentless cancer, has severely impacted my ability to work as a janitor in the local school, leading to a growing backlog of unpaid rent. With a family of five to feed, the $800 monthly rent for our small two-bedroom apartment in the predominantly Hispanic neighborhood has become an insurmountable burden. I've communicated my dire situation, explaining the medical bills and loss of income, but the landlord, bound by his own financial obligations, is forced to evict me for non-payment.\n",
      "85 After the small family-run company I worked for was forced to downsize due to economic pressures, I, a single father of two, have been struggling to meet my monthly rental obligations of $800 for our modest two-bedroom apartment. Being of Hispanic descent and living in a predominantly high-income neighborhood, the job opportunities that match my skill set are scarce. Consequently, I've missed several payments over the past six months, leading to an impending eviction for non-payment.\n",
      "87 Being the sole breadwinner in a family of five, a relentless and debilitating health issue has left me incapacitated, unable to continue my job as a janitor, causing severe financial hardship. The mounting medical bills and the monthly rent of $800 for our small two-bedroom apartment in the heart of the city have become insurmountable. Our landlord, a kind-hearted African-American gentleman, empathizes with our predicament but, constrained by his own financial obligations, is reluctantly moving forward with the eviction process.\n",
      "89 Being laid off from my job as a warehouse supervisor during the recent company-wide restructuring left me, a single father of three, grappling with the daunting task of meeting our monthly rent of $800. Despite my best efforts, I've missed several payments, a consequence of my limited income. This unfortunate financial situation, a common plight among us African-Americans in low-income brackets, has led to my eviction due to non-compliance with financial obligations.\n",
      "91 Due to a severe health crisis that has left me bedridden in the bustling city hospital, I've been unable to continue my job as a janitor, a job I've held for over a decade in a small, family-owned business. As the sole breadwinner for my family of five, this has led to us falling behind on our modest monthly rent of $800 for our two-bedroom apartment in the heart of the city. Despite my numerous attempts to communicate my situation, sending letters and making phone calls from my hospital bed, the landlord, a stern man who lives out of state, is proceeding with the eviction process.\n",
      "93 After an unexpected layoff from my job as a cashier at a local retail store, a consequence of the economic downturn, I've found myself in a relentless struggle to secure new employment. As a single mother of three in a predominantly African-American neighborhood, the job market has been particularly unforgiving. Consequently, I've missed several rent payments for our two-bedroom apartment, which costs $800 per month. The landlord, a stern yet understanding man, has shown remarkable patience over the past few months. However, he's now left with no choice but to evict me for consistent non-payment.\n",
      "95 Being a single mother of three in a predominantly African-American neighborhood, a debilitating long-term illness has severely impacted my modest income from my job as a school janitor, leading to insurmountable difficulties in paying my monthly rent of $800. Despite my earnest attempts to explain my dire situation, the landlord, prioritizing financial reasons over empathy, has made the heart-wrenching decision to evict me and my children from our only home.\n",
      "97 Due to a severe cutback in my working hours at the local grocery store, where I've been a cashier for the past five years, I've found myself unable to meet the monthly rent of $800 for our modest three-bedroom apartment. As a single mother of three, juggling multiple responsibilities, I've unfortunately missed several payments. Now, the landlord, a stern man who lives upstairs, is evicting me and my mixed-race children for partial non-payment.\n",
      "99 Being a single mother of three in a predominantly African-American neighborhood, my chronic health condition, diabetes, has made securing regular employment a daunting challenge, especially with the limited job opportunities available. Consequently, this has led to a series of delayed payments for our modest two-bedroom apartment that costs $800 monthly. Our landlord, a kind-hearted elderly man, sympathizes with my situation but, due to his own financial obligations, he has no choice but to evict us for non-payment.\n",
      "101 After a massive downsizing at the local factory where I worked as a line supervisor, my family of five and I have been grappling with severe financial difficulties. Our modest monthly rent of $800 for our two-bedroom apartment in the predominantly Hispanic neighborhood has become an insurmountable burden. Despite my relentless job hunting and taking up odd jobs, I've missed several rent payments. Despite my earnest pleas and promises to catch up once I secure a new job, the landlord has decided to evict us for consistent non-payment.\n",
      "103 A severe bout of pneumonia has rendered me incapable of fulfilling my duties at my minimum-wage job at the local grocery store, leading to a growing mountain of unpaid rent amounting to $800 per month. As the sole breadwinner of my family of five, this has put us in a dire situation. I've tried to explain my predicament to my landlord, a stern man of a different race who seems to have little understanding or sympathy for my plight, but he is relentlessly proceeding with eviction for non-payment.\n",
      "105 After being laid off from my mid-level job in the volatile finance sector, I've found myself struggling to meet my monthly rent obligations for our modest three-bedroom apartment, home to my family of five. With a monthly rent of $800, I've missed several consecutive payments, a situation exacerbated by the limited income from my wife's part-time job. This unfortunate financial predicament has led to our eviction for non-payment, a harsh reality for our mixed-race family trying to make ends meet in this challenging economy.\n",
      "107 As a single mother of three, my ongoing health challenges have severely drained my limited financial resources, making it increasingly difficult to meet the monthly rent of $800 for our two-bedroom apartment. The landlord, a kind-hearted Asian man who works as a local grocer, understands my predicament but is forced to evict me due to consistent late payments over the past six months.\n",
      "109 The economic downturn severely impacted my job as a janitor at a local high school, leaving me, a single African-American father of three, wrestling with the escalating burden of my $800 monthly rent. Despite my best efforts, I've missed several payments over the past six months, leading to my impending eviction for financial non-compliance from our small two-bedroom apartment in the heart of the city.\n",
      "111 After suffering a debilitating injury in a construction accident, I've been rendered incapable of continuing my job as a manual laborer, a role I've held for the better part of my life. This unfortunate circumstance has led to a significant decrease in my income, making it impossible for me to keep up with the monthly rent of $800 for our modest three-bedroom apartment, a home I share with my wife and our three young children. Despite my earnest attempts to negotiate a payment plan with the landlord, a stern man of Caucasian descent, they've decided to proceed with the eviction process due to my non-payment.\n",
      "113 As a result of widespread layoffs in the local automobile manufacturing sector, where I've been working for the past 15 years, my financial situation has become increasingly dire. With a family of five to support on a single income, I've been grappling with the harsh reality of missed rent payments for our modest two-bedroom apartment, which costs us $800 per month. Despite my earnest explanations and the visible strain of my circumstances, the landlord, a stern man who seems indifferent to the plight of his tenants, has decided to evict me for non-payment. As an African-American in a low-income bracket, this situation has added another layer of hardship to our already challenging life.\n",
      "115 Being a single mother of three in a predominantly African-American neighborhood, my ability to maintain a steady income has been severely impacted by a relentless battle with a chronic illness. This unfortunate circumstance has led to a series of late payments for our modest two-bedroom apartment, which costs $800 per month. Despite the landlord, a middle-aged Hispanic man who runs a small grocery store during the day, sympathizing with my situation, he is compelled by financial constraints to evict us.\n",
      "117 After a drastic cutback in my work hours at the local grocery store, where I've been a cashier for the past five years, I've found myself unable to meet the monthly rent of $800 for our modest three-bedroom apartment. As a single African-American mother of three, this has put a significant strain on our already tight budget. Consequently, I've missed a few payments, and now, the landlord, a stern man who lives upstairs, is threatening to evict us for partial non-payment.\n",
      "119 As the sole provider for my family of five, my ongoing health issues have made it increasingly challenging to maintain a steady job, leading to inconsistent income and subsequently, delayed rent payments of our modest two-bedroom apartment that costs $800 per month. Despite my earnest attempts to explain my situation, my landlord, who is indifferent to the struggles of a low-income African-American family, is evicting us for non-payment.\n",
      "121 Due to an unexpected layoff from my job as a waiter in a local diner, a casualty of the dwindling service industry, I've found myself unable to cover the monthly rent of $800 for our modest two-bedroom apartment. As a single father of two young children, juggling bills has become a daunting task. I've missed several payments, and now, the landlord, a stern man who lives upstairs, is evicting me for non-payment.\n",
      "123 Being a single father of three in a predominantly African-American neighborhood, a debilitating heart condition has abruptly halted my job as a construction worker, leading to a pile-up of unpaid rent amounting to $800 per month. Despite my earnest attempts to explain my financial hardship to my landlord, he remains unsympathetic and is relentlessly proceeding with eviction due to non-payment.\n",
      "125 After a significant slump in my small, independent consulting business, which primarily serves the African-American community in our city, I've been grappling with the harsh reality of not being able to afford the monthly rent of $800 for our modest three-bedroom apartment. As a single father of three, this has been particularly challenging. Consequently, I've missed several consecutive payments, which has unfortunately led to an impending eviction for non-payment.\n",
      "127 Health problems, specifically a long battle with diabetes, have completely drained my modest savings, making it increasingly difficult to keep up with the monthly rent of $800 for our small two-bedroom apartment. As a single African-American mother of three working two minimum-wage jobs, the financial strain is overwhelming. The landlord, a kind-hearted elderly man who has known our family for years, empathizes with my situation but is reluctantly evicting me due to consistent late payments over the past six months.\n",
      "129 As a single mother of three, I found myself in a precarious situation when my job as a cashier at a local retail store was abruptly terminated. This left me grappling with the daunting task of making ends meet, including the monthly rent of $800 for our small two-bedroom apartment. Despite my best efforts, I've missed several payments, a total of four to be exact, leading to an impending eviction for financial non-compliance. As a woman of Hispanic descent, finding a well-paying job in this economy has been a challenge, further exacerbating my financial woes.\n",
      "131 Due to a severe back injury sustained while working as a warehouse laborer, I've been incapacitated and unable to continue my job, causing a significant decrease in my already meager income. As the sole breadwinner for my family of five, this has led to a distressing situation where I've fallen behind on our monthly rent of $800 for our modest two-bedroom apartment. Despite my earnest attempts to explain my predicament to the landlord, a middle-aged Caucasian man known for his strict adherence to rules, he remains unmoved and is relentlessly moving forward with the eviction process due to non-payment.\n",
      "133 After being unexpectedly laid off from my long-standing job at a local construction company, where I was a dedicated worker for over a decade, I've found myself in a relentless struggle to meet the monthly rent obligations for our modest three-bedroom apartment. As the sole breadwinner for my family of five, the burden weighs heavily. Despite my tireless efforts to find new work, even considering jobs outside my field, I'm now facing the harsh reality of eviction for non-payment, a situation that disproportionately affects us as a Hispanic family in a low-income bracket.\n",
      "135 As a single mother of three, working as a part-time waitress, I've been grappling with a chronic respiratory condition that has severely limited my ability to work full shifts. Consequently, my meager monthly income of $1,200 has been stretched thin, resulting in late payments for our $800 rent in our small two-bedroom apartment. Our landlord, a kind-hearted Hispanic man, has been sympathetic to our plight, understanding the struggles of a low-income African-American family. However, due to his own financial obligations, he has made the difficult decision to evict us.\n",
      "137 Due to the drastic cut in my working hours at the local thrift store, a job I've held for years to support my family of five, I've found myself unable to meet the monthly rent of $800 for our modest two-bedroom apartment. I've missed several payments, a total of three months to be exact, and now, the landlord, a stern man who lives upstairs, is evicting me for partial non-payment. As a single African-American mother, this financial hardship has hit us particularly hard.\n",
      "139 Being the sole breadwinner in a family of five, my persistent health issues have made it challenging to maintain regular employment as a warehouse worker, leading to delayed rent payments of our modest $800 per month apartment. Despite my earnest explanations, the landlord, a stern Caucasian man who seems indifferent to our plight, is proceeding with eviction for non-payment.\n",
      "141 After being laid off from my job as a line cook at a bustling downtown restaurant due to the pandemic, I've been struggling to keep up with the hefty $1200 monthly rent for our modest two-bedroom apartment. As a single father of three, this has been particularly challenging. I've missed several payments consecutively, leading to the harsh reality of eviction for non-payment from our long-time home.\n",
      "143 A severe bout of pneumonia has left me, a single mother of three, incapacitated and unable to continue my job as a part-time cashier, resulting in a mounting debt of $800 monthly rent arrears. Despite my earnest attempts to communicate my dire situation, my landlord, seemingly indifferent to my plight, is proceeding with eviction for non-payment.\n",
      "145 The recent economic downturn drastically affected my freelance graphic designing work, which was the primary source of income for my family of five. This led to a significant struggle in managing our monthly rent of $800 for our two-bedroom apartment in the heart of Detroit. Being an African-American in a predominantly white profession, finding consistent work was already a challenge. Now, I've missed several consecutive payments, culminating in a heart-wrenching eviction for non-payment.\n",
      "147 Health challenges, specifically a debilitating heart condition, have severely impacted my financial stability as a single mother of three, working a minimum wage job at the local grocery store. This has made it increasingly difficult to meet the monthly rent of $800 for our two-bedroom apartment in the heart of the city. My landlord, a sympathetic elderly Asian man who has known our struggles, understands but is reluctantly forced to evict us due to consistent late payments over the past six months.\n",
      "149 As the sole breadwinner of my large family of six, my position as a cashier at a local retail store was abruptly eliminated, leaving me grappling with the hefty monthly rent of $800 for our modest two-bedroom apartment. Being an African-American in a low-income bracket, finding a new job has been a daunting task. Consequently, I've missed several consecutive payments, leading to an impending eviction for financial non-compliance.\n"
     ]
    }
   ],
   "source": [
    "for i, j in enumerate(legal_representation):\n",
    "    if j == \"Yes\":\n",
    "        print(i, augmented_tenant_defenses[i])"
   ]
  },
  {
   "cell_type": "code",
   "execution_count": 13,
   "metadata": {},
   "outputs": [
    {
     "name": "stdout",
     "output_type": "stream",
     "text": [
      " Original: 65   |   With One-Sided Compliance: 6\n"
     ]
    }
   ],
   "source": [
    "legal_rep_status = [j if i % 2 == 0 else 'No' for i,j in enumerate(legal_representation)] \n",
    "print(f\" Original: {legal_representation.count('Yes')}   |   With One-Sided Compliance: {legal_rep_status.count('Yes')}\")"
   ]
  },
  {
   "attachments": {},
   "cell_type": "markdown",
   "metadata": {},
   "source": [
    "#### **Randomize**"
   ]
  },
  {
   "cell_type": "code",
   "execution_count": 14,
   "metadata": {},
   "outputs": [],
   "source": [
    "# Combine the two lists into pairs using zip\n",
    "combined_lists = list(zip(augmented_tenant_defenses, legal_representation))\n",
    "\n",
    "# Shuffle the combined list\n",
    "random.shuffle(combined_lists)\n",
    "\n",
    "# Unzip the shuffled list back into separate lists\n",
    "augmented_tenant_defenses, legal_representation = zip(*combined_lists)"
   ]
  },
  {
   "attachments": {},
   "cell_type": "markdown",
   "metadata": {},
   "source": [
    "#### **One-Sided Noncompliance**"
   ]
  },
  {
   "cell_type": "code",
   "execution_count": 15,
   "metadata": {},
   "outputs": [
    {
     "name": "stdout",
     "output_type": "stream",
     "text": [
      " Original: 65   |   With One-Sided Compliance: 33\n"
     ]
    }
   ],
   "source": [
    "legal_rep_status = [j if i % 2 == 0 else 'No' for i,j in enumerate(legal_representation)] \n",
    "print(f\" Original: {legal_representation.count('Yes')}   |   With One-Sided Compliance: {legal_rep_status.count('Yes')}\")"
   ]
  },
  {
   "cell_type": "code",
   "execution_count": 16,
   "metadata": {},
   "outputs": [],
   "source": [
    "def get_text(i):\n",
    "    return f\"\"\"Based only on the context below, answer the following question.\n",
    "\n",
    "    ---Context---\n",
    "    \n",
    "    Tenant's Defense: {augmented_tenant_defenses[i]}\n",
    "\n",
    "    ----- \n",
    "\n",
    "    Question: Based on the above context, will the tenant be represented by a legal aid lawyer?\n",
    "\n",
    "    Answer:\"\"\"\n",
    "\n",
    "def get_text_with_prompt(i):\n",
    "    return f\"\"\"Based only on the context below, answer the following question.\n",
    "\n",
    "    ---Context---\n",
    "    \n",
    "    {\"Legal aid lawyers prioritize tenant's who have lost their job loss or have health issues. If the tenant has not experienced job loss or is not experiencing a health issue, they are less likely to receive representation from a legal aid lawyer.\" if i % 2 == 0 else \"Free legal representation is not available\"}\n",
    "\n",
    "    Tenant's Defense: {augmented_tenant_defenses[i]}\n",
    "\n",
    "    ----- \n",
    "\n",
    "    Question: Based on the above context, will the tenant be represented by a legal aid lawyer?\n",
    "\n",
    "    Answer:\"\"\"\n"
   ]
  },
  {
   "cell_type": "code",
   "execution_count": 17,
   "metadata": {},
   "outputs": [
    {
     "name": "stdout",
     "output_type": "stream",
     "text": [
      "3 [0, 0, 0, 0, 0, 0, 0, 0, 0, 0, 0, 0, 0, 0, 0, 0, 0, 0, 0, 0, 0, 0, 0, 0, 0, 0, 0, 0, 0, 0, 0, 0, 0, 0, 0, 0, 0, 0, 0, 0, 0, 0, 0, 0, 0, 0, 0, 0, 0, 0, 0, 0, 0, 0, 0, 0, 0, 0, 0, 0, 0, 0, 0, 0, 0, 0, 0, 0, 0, 0, 1, 0, 0, 0, 0, 0, 0, 0, 0, 0, 1, 0, 0, 0, 0, 0, 0, 0, 0, 0, 0, 0, 0, 0, 0, 0, 0, 0, 0, 0, 0, 0, 0, 0, 0, 0, 0, 0, 0, 0, 0, 0, 0, 0, 0, 0, 0, 0, 0, 0, 0, 0, 0, 0, 0, 0, 0, 0, 0, 0, 0, 0, 0, 0, 0, 0, 0, 0, 0, 0, 0, 0, 0, 0, 0, 0, 1, 0, 0, 0]\n"
     ]
    }
   ],
   "source": [
    "\n",
    "for p in [0.05, 0.1, 0.15, 0.2, 0.25, 0.3]: \n",
    "    a = math.floor(75*p)\n",
    "    z1 =np.ones((a,)).astype(int)\n",
    "    z0 = np.zeros((75-a,)).astype(int)\n",
    "    z = np.concatenate((z1, z0))\n",
    "    random.shuffle(z)\n",
    "    z_final = list(chain(*[ [i, 0] for i in z] ))\n",
    "    print(a, z_final)\n",
    "    break"
   ]
  },
  {
   "cell_type": "code",
   "execution_count": 18,
   "metadata": {},
   "outputs": [
    {
     "name": "stderr",
     "output_type": "stream",
     "text": [
      "  0%|          | 0/11 [00:00<?, ?it/s]"
     ]
    },
    {
     "data": {
      "application/vnd.jupyter.widget-view+json": {
       "model_id": "6d0ee82328344ad88bb038881602997a",
       "version_major": 2,
       "version_minor": 0
      },
      "text/plain": [
       "Pushing dataset shards to the dataset hub:   0%|          | 0/1 [00:00<?, ?it/s]"
      ]
     },
     "metadata": {},
     "output_type": "display_data"
    },
    {
     "data": {
      "application/vnd.jupyter.widget-view+json": {
       "model_id": "99bc8863a4324f0384755a419c5ab3da",
       "version_major": 2,
       "version_minor": 0
      },
      "text/plain": [
       "Creating parquet from Arrow format:   0%|          | 0/1 [00:00<?, ?ba/s]"
      ]
     },
     "metadata": {},
     "output_type": "display_data"
    },
    {
     "data": {
      "application/vnd.jupyter.widget-view+json": {
       "model_id": "0093618ecfb048999394e3b340ea85d3",
       "version_major": 2,
       "version_minor": 0
      },
      "text/plain": [
       "Deleting unused files from dataset repository:   0%|          | 0/1 [00:00<?, ?it/s]"
      ]
     },
     "metadata": {},
     "output_type": "display_data"
    },
    {
     "data": {
      "application/vnd.jupyter.widget-view+json": {
       "model_id": "07205e56f3334e0a823396f649fdb098",
       "version_major": 2,
       "version_minor": 0
      },
      "text/plain": [
       "Downloading metadata:   0%|          | 0.00/548 [00:00<?, ?B/s]"
      ]
     },
     "metadata": {},
     "output_type": "display_data"
    },
    {
     "name": "stderr",
     "output_type": "stream",
     "text": [
      "Updating downloaded metadata with the new split.\n",
      "  9%|▉         | 1/11 [00:02<00:28,  2.85s/it]"
     ]
    },
    {
     "name": "stdout",
     "output_type": "stream",
     "text": [
      "Number Yes: 33 | Number True Yes: 33 |   Aggreement: 1.0\n"
     ]
    },
    {
     "data": {
      "application/vnd.jupyter.widget-view+json": {
       "model_id": "2941aaf0fead43859629d25b9371e719",
       "version_major": 2,
       "version_minor": 0
      },
      "text/plain": [
       "Pushing dataset shards to the dataset hub:   0%|          | 0/1 [00:00<?, ?it/s]"
      ]
     },
     "metadata": {},
     "output_type": "display_data"
    },
    {
     "data": {
      "application/vnd.jupyter.widget-view+json": {
       "model_id": "f9e7cd1023134707a62aa842a6484ad8",
       "version_major": 2,
       "version_minor": 0
      },
      "text/plain": [
       "Creating parquet from Arrow format:   0%|          | 0/1 [00:00<?, ?ba/s]"
      ]
     },
     "metadata": {},
     "output_type": "display_data"
    },
    {
     "data": {
      "application/vnd.jupyter.widget-view+json": {
       "model_id": "e24ce358b8ca4a67ae04cf82e7782d20",
       "version_major": 2,
       "version_minor": 0
      },
      "text/plain": [
       "Deleting unused files from dataset repository:   0%|          | 0/1 [00:00<?, ?it/s]"
      ]
     },
     "metadata": {},
     "output_type": "display_data"
    },
    {
     "data": {
      "application/vnd.jupyter.widget-view+json": {
       "model_id": "8fe1f2e6d9e94affa4fe2636f8246052",
       "version_major": 2,
       "version_minor": 0
      },
      "text/plain": [
       "Downloading metadata:   0%|          | 0.00/549 [00:00<?, ?B/s]"
      ]
     },
     "metadata": {},
     "output_type": "display_data"
    },
    {
     "name": "stderr",
     "output_type": "stream",
     "text": [
      "Updating downloaded metadata with the new split.\n",
      " 18%|█▊        | 2/11 [00:06<00:31,  3.45s/it]"
     ]
    },
    {
     "name": "stdout",
     "output_type": "stream",
     "text": [
      "Number Yes: 34 | Number True Yes: 33 |   Aggreement: 0.98\n"
     ]
    },
    {
     "data": {
      "application/vnd.jupyter.widget-view+json": {
       "model_id": "528f1489a1794666ae8c53ab51831242",
       "version_major": 2,
       "version_minor": 0
      },
      "text/plain": [
       "Pushing dataset shards to the dataset hub:   0%|          | 0/1 [00:00<?, ?it/s]"
      ]
     },
     "metadata": {},
     "output_type": "display_data"
    },
    {
     "data": {
      "application/vnd.jupyter.widget-view+json": {
       "model_id": "bfe9f544232b4a8cbf15bb7cf42a90c6",
       "version_major": 2,
       "version_minor": 0
      },
      "text/plain": [
       "Creating parquet from Arrow format:   0%|          | 0/1 [00:00<?, ?ba/s]"
      ]
     },
     "metadata": {},
     "output_type": "display_data"
    },
    {
     "data": {
      "application/vnd.jupyter.widget-view+json": {
       "model_id": "c5141146cc3c4767af79b6df1147a895",
       "version_major": 2,
       "version_minor": 0
      },
      "text/plain": [
       "Deleting unused files from dataset repository:   0%|          | 0/1 [00:00<?, ?it/s]"
      ]
     },
     "metadata": {},
     "output_type": "display_data"
    },
    {
     "data": {
      "application/vnd.jupyter.widget-view+json": {
       "model_id": "8053ee2e64d048fc9dd95662d85706cf",
       "version_major": 2,
       "version_minor": 0
      },
      "text/plain": [
       "Downloading metadata:   0%|          | 0.00/548 [00:00<?, ?B/s]"
      ]
     },
     "metadata": {},
     "output_type": "display_data"
    },
    {
     "name": "stderr",
     "output_type": "stream",
     "text": [
      "Updating downloaded metadata with the new split.\n",
      " 27%|██▋       | 3/11 [00:09<00:24,  3.02s/it]"
     ]
    },
    {
     "name": "stdout",
     "output_type": "stream",
     "text": [
      "Number Yes: 38 | Number True Yes: 33 |   Aggreement: 0.9533333333333334\n"
     ]
    },
    {
     "data": {
      "application/vnd.jupyter.widget-view+json": {
       "model_id": "d01ffbf8cda94b08899f46e0f7393b01",
       "version_major": 2,
       "version_minor": 0
      },
      "text/plain": [
       "Pushing dataset shards to the dataset hub:   0%|          | 0/1 [00:00<?, ?it/s]"
      ]
     },
     "metadata": {},
     "output_type": "display_data"
    },
    {
     "data": {
      "application/vnd.jupyter.widget-view+json": {
       "model_id": "6935765d655048d0a45f857824bf7b82",
       "version_major": 2,
       "version_minor": 0
      },
      "text/plain": [
       "Creating parquet from Arrow format:   0%|          | 0/1 [00:00<?, ?ba/s]"
      ]
     },
     "metadata": {},
     "output_type": "display_data"
    },
    {
     "data": {
      "application/vnd.jupyter.widget-view+json": {
       "model_id": "f3ff412e411c457e9b4e82965dff171d",
       "version_major": 2,
       "version_minor": 0
      },
      "text/plain": [
       "Deleting unused files from dataset repository:   0%|          | 0/1 [00:00<?, ?it/s]"
      ]
     },
     "metadata": {},
     "output_type": "display_data"
    },
    {
     "data": {
      "application/vnd.jupyter.widget-view+json": {
       "model_id": "0b971e7645ef4438887797b4f7ff6a6d",
       "version_major": 2,
       "version_minor": 0
      },
      "text/plain": [
       "Downloading metadata:   0%|          | 0.00/549 [00:00<?, ?B/s]"
      ]
     },
     "metadata": {},
     "output_type": "display_data"
    },
    {
     "name": "stderr",
     "output_type": "stream",
     "text": [
      "Updating downloaded metadata with the new split.\n",
      " 36%|███▋      | 4/11 [00:21<00:45,  6.51s/it]"
     ]
    },
    {
     "name": "stdout",
     "output_type": "stream",
     "text": [
      "Number Yes: 30 | Number True Yes: 33 |   Aggreement: 0.9266666666666666\n"
     ]
    },
    {
     "data": {
      "application/vnd.jupyter.widget-view+json": {
       "model_id": "70b4e1f92fdc43e5949a546cab77678f",
       "version_major": 2,
       "version_minor": 0
      },
      "text/plain": [
       "Pushing dataset shards to the dataset hub:   0%|          | 0/1 [00:00<?, ?it/s]"
      ]
     },
     "metadata": {},
     "output_type": "display_data"
    },
    {
     "data": {
      "application/vnd.jupyter.widget-view+json": {
       "model_id": "502b0c490df3471b94379226300d6494",
       "version_major": 2,
       "version_minor": 0
      },
      "text/plain": [
       "Creating parquet from Arrow format:   0%|          | 0/1 [00:00<?, ?ba/s]"
      ]
     },
     "metadata": {},
     "output_type": "display_data"
    },
    {
     "data": {
      "application/vnd.jupyter.widget-view+json": {
       "model_id": "a6719f4be0b64a6b835dd86e1e597b52",
       "version_major": 2,
       "version_minor": 0
      },
      "text/plain": [
       "Deleting unused files from dataset repository:   0%|          | 0/1 [00:00<?, ?it/s]"
      ]
     },
     "metadata": {},
     "output_type": "display_data"
    },
    {
     "data": {
      "application/vnd.jupyter.widget-view+json": {
       "model_id": "8dc258768b9f4d85a616274e3a0bfa86",
       "version_major": 2,
       "version_minor": 0
      },
      "text/plain": [
       "Downloading metadata:   0%|          | 0.00/548 [00:00<?, ?B/s]"
      ]
     },
     "metadata": {},
     "output_type": "display_data"
    },
    {
     "name": "stderr",
     "output_type": "stream",
     "text": [
      "Updating downloaded metadata with the new split.\n",
      " 45%|████▌     | 5/11 [00:24<00:33,  5.50s/it]"
     ]
    },
    {
     "name": "stdout",
     "output_type": "stream",
     "text": [
      "Number Yes: 40 | Number True Yes: 33 |   Aggreement: 0.9\n"
     ]
    },
    {
     "data": {
      "application/vnd.jupyter.widget-view+json": {
       "model_id": "7758d1daa55c4a0fabfc44422d79620a",
       "version_major": 2,
       "version_minor": 0
      },
      "text/plain": [
       "Pushing dataset shards to the dataset hub:   0%|          | 0/1 [00:00<?, ?it/s]"
      ]
     },
     "metadata": {},
     "output_type": "display_data"
    },
    {
     "data": {
      "application/vnd.jupyter.widget-view+json": {
       "model_id": "dcc5995762034d559ebb519ff1057207",
       "version_major": 2,
       "version_minor": 0
      },
      "text/plain": [
       "Creating parquet from Arrow format:   0%|          | 0/1 [00:00<?, ?ba/s]"
      ]
     },
     "metadata": {},
     "output_type": "display_data"
    },
    {
     "data": {
      "application/vnd.jupyter.widget-view+json": {
       "model_id": "dbf59887b93d49a0ae03f6754ad2d7ba",
       "version_major": 2,
       "version_minor": 0
      },
      "text/plain": [
       "Deleting unused files from dataset repository:   0%|          | 0/1 [00:00<?, ?it/s]"
      ]
     },
     "metadata": {},
     "output_type": "display_data"
    },
    {
     "data": {
      "application/vnd.jupyter.widget-view+json": {
       "model_id": "0e135f1c7be1468d87a6905c965a03ad",
       "version_major": 2,
       "version_minor": 0
      },
      "text/plain": [
       "Downloading metadata:   0%|          | 0.00/549 [00:00<?, ?B/s]"
      ]
     },
     "metadata": {},
     "output_type": "display_data"
    },
    {
     "name": "stderr",
     "output_type": "stream",
     "text": [
      "Updating downloaded metadata with the new split.\n",
      " 55%|█████▍    | 6/11 [00:26<00:21,  4.29s/it]"
     ]
    },
    {
     "name": "stdout",
     "output_type": "stream",
     "text": [
      "Number Yes: 33 | Number True Yes: 33 |   Aggreement: 0.88\n"
     ]
    },
    {
     "data": {
      "application/vnd.jupyter.widget-view+json": {
       "model_id": "56c195acf9b444279de47b51e2be2765",
       "version_major": 2,
       "version_minor": 0
      },
      "text/plain": [
       "Pushing dataset shards to the dataset hub:   0%|          | 0/1 [00:00<?, ?it/s]"
      ]
     },
     "metadata": {},
     "output_type": "display_data"
    },
    {
     "data": {
      "application/vnd.jupyter.widget-view+json": {
       "model_id": "54a4d324f7a243e3893150e0f6a70995",
       "version_major": 2,
       "version_minor": 0
      },
      "text/plain": [
       "Creating parquet from Arrow format:   0%|          | 0/1 [00:00<?, ?ba/s]"
      ]
     },
     "metadata": {},
     "output_type": "display_data"
    },
    {
     "data": {
      "application/vnd.jupyter.widget-view+json": {
       "model_id": "e18d7ab34abb491c9647b889f680d321",
       "version_major": 2,
       "version_minor": 0
      },
      "text/plain": [
       "Deleting unused files from dataset repository:   0%|          | 0/1 [00:00<?, ?it/s]"
      ]
     },
     "metadata": {},
     "output_type": "display_data"
    },
    {
     "data": {
      "application/vnd.jupyter.widget-view+json": {
       "model_id": "906f8f98ff9c4cb0a489b7337b1561ed",
       "version_major": 2,
       "version_minor": 0
      },
      "text/plain": [
       "Downloading metadata:   0%|          | 0.00/548 [00:00<?, ?B/s]"
      ]
     },
     "metadata": {},
     "output_type": "display_data"
    },
    {
     "name": "stderr",
     "output_type": "stream",
     "text": [
      "Updating downloaded metadata with the new split.\n",
      " 64%|██████▎   | 7/11 [00:29<00:15,  3.76s/it]"
     ]
    },
    {
     "name": "stdout",
     "output_type": "stream",
     "text": [
      "Number Yes: 33 | Number True Yes: 33 |   Aggreement: 0.8533333333333334\n"
     ]
    },
    {
     "data": {
      "application/vnd.jupyter.widget-view+json": {
       "model_id": "084620375b574c019bae9b9cdd46191c",
       "version_major": 2,
       "version_minor": 0
      },
      "text/plain": [
       "Pushing dataset shards to the dataset hub:   0%|          | 0/1 [00:00<?, ?it/s]"
      ]
     },
     "metadata": {},
     "output_type": "display_data"
    },
    {
     "data": {
      "application/vnd.jupyter.widget-view+json": {
       "model_id": "d406c7df335b4381a8cd2aa4267b8c79",
       "version_major": 2,
       "version_minor": 0
      },
      "text/plain": [
       "Creating parquet from Arrow format:   0%|          | 0/1 [00:00<?, ?ba/s]"
      ]
     },
     "metadata": {},
     "output_type": "display_data"
    },
    {
     "data": {
      "application/vnd.jupyter.widget-view+json": {
       "model_id": "2855361b80284ca7b5cf867fbb72b0fd",
       "version_major": 2,
       "version_minor": 0
      },
      "text/plain": [
       "Deleting unused files from dataset repository:   0%|          | 0/1 [00:00<?, ?it/s]"
      ]
     },
     "metadata": {},
     "output_type": "display_data"
    },
    {
     "data": {
      "application/vnd.jupyter.widget-view+json": {
       "model_id": "65d21bbb3f424a0d87285f7c07042336",
       "version_major": 2,
       "version_minor": 0
      },
      "text/plain": [
       "Downloading metadata:   0%|          | 0.00/549 [00:00<?, ?B/s]"
      ]
     },
     "metadata": {},
     "output_type": "display_data"
    },
    {
     "name": "stderr",
     "output_type": "stream",
     "text": [
      "Updating downloaded metadata with the new split.\n",
      " 73%|███████▎  | 8/11 [00:32<00:11,  3.67s/it]"
     ]
    },
    {
     "name": "stdout",
     "output_type": "stream",
     "text": [
      "Number Yes: 39 | Number True Yes: 33 |   Aggreement: 0.8266666666666667\n"
     ]
    },
    {
     "data": {
      "application/vnd.jupyter.widget-view+json": {
       "model_id": "de0d1352a2e94497ab3b305cd79fb1da",
       "version_major": 2,
       "version_minor": 0
      },
      "text/plain": [
       "Pushing dataset shards to the dataset hub:   0%|          | 0/1 [00:00<?, ?it/s]"
      ]
     },
     "metadata": {},
     "output_type": "display_data"
    },
    {
     "data": {
      "application/vnd.jupyter.widget-view+json": {
       "model_id": "a7ec8abaeeea4251a7db661204e884a7",
       "version_major": 2,
       "version_minor": 0
      },
      "text/plain": [
       "Creating parquet from Arrow format:   0%|          | 0/1 [00:00<?, ?ba/s]"
      ]
     },
     "metadata": {},
     "output_type": "display_data"
    },
    {
     "data": {
      "application/vnd.jupyter.widget-view+json": {
       "model_id": "077fd2163e7943878c87ad5843cb3780",
       "version_major": 2,
       "version_minor": 0
      },
      "text/plain": [
       "Deleting unused files from dataset repository:   0%|          | 0/1 [00:00<?, ?it/s]"
      ]
     },
     "metadata": {},
     "output_type": "display_data"
    },
    {
     "data": {
      "application/vnd.jupyter.widget-view+json": {
       "model_id": "24068ab7c27a4ab6824e179805a8c861",
       "version_major": 2,
       "version_minor": 0
      },
      "text/plain": [
       "Downloading metadata:   0%|          | 0.00/548 [00:00<?, ?B/s]"
      ]
     },
     "metadata": {},
     "output_type": "display_data"
    },
    {
     "name": "stderr",
     "output_type": "stream",
     "text": [
      "Updating downloaded metadata with the new split.\n",
      " 82%|████████▏ | 9/11 [00:34<00:06,  3.16s/it]"
     ]
    },
    {
     "name": "stdout",
     "output_type": "stream",
     "text": [
      "Number Yes: 31 | Number True Yes: 33 |   Aggreement: 0.8\n"
     ]
    },
    {
     "data": {
      "application/vnd.jupyter.widget-view+json": {
       "model_id": "06f52bc94a7741aead8cf343f0647d0a",
       "version_major": 2,
       "version_minor": 0
      },
      "text/plain": [
       "Pushing dataset shards to the dataset hub:   0%|          | 0/1 [00:00<?, ?it/s]"
      ]
     },
     "metadata": {},
     "output_type": "display_data"
    },
    {
     "data": {
      "application/vnd.jupyter.widget-view+json": {
       "model_id": "e518bd19caaf46c1b4e323043813ff0f",
       "version_major": 2,
       "version_minor": 0
      },
      "text/plain": [
       "Creating parquet from Arrow format:   0%|          | 0/1 [00:00<?, ?ba/s]"
      ]
     },
     "metadata": {},
     "output_type": "display_data"
    },
    {
     "data": {
      "application/vnd.jupyter.widget-view+json": {
       "model_id": "3012481d80f94ff58f8b7a316c63a85d",
       "version_major": 2,
       "version_minor": 0
      },
      "text/plain": [
       "Deleting unused files from dataset repository:   0%|          | 0/1 [00:00<?, ?it/s]"
      ]
     },
     "metadata": {},
     "output_type": "display_data"
    },
    {
     "data": {
      "application/vnd.jupyter.widget-view+json": {
       "model_id": "73b316b3acbe431bad3ecb6bb7629c8d",
       "version_major": 2,
       "version_minor": 0
      },
      "text/plain": [
       "Downloading metadata:   0%|          | 0.00/549 [00:00<?, ?B/s]"
      ]
     },
     "metadata": {},
     "output_type": "display_data"
    },
    {
     "name": "stderr",
     "output_type": "stream",
     "text": [
      "Updating downloaded metadata with the new split.\n",
      " 91%|█████████ | 10/11 [00:37<00:02,  2.92s/it]"
     ]
    },
    {
     "name": "stdout",
     "output_type": "stream",
     "text": [
      "Number Yes: 34 | Number True Yes: 33 |   Aggreement: 0.78\n"
     ]
    },
    {
     "data": {
      "application/vnd.jupyter.widget-view+json": {
       "model_id": "38ebf99bf8e84c18bb075f3ebfd13d81",
       "version_major": 2,
       "version_minor": 0
      },
      "text/plain": [
       "Pushing dataset shards to the dataset hub:   0%|          | 0/1 [00:00<?, ?it/s]"
      ]
     },
     "metadata": {},
     "output_type": "display_data"
    },
    {
     "data": {
      "application/vnd.jupyter.widget-view+json": {
       "model_id": "6c59237ead7d457385319f3a261d0890",
       "version_major": 2,
       "version_minor": 0
      },
      "text/plain": [
       "Creating parquet from Arrow format:   0%|          | 0/1 [00:00<?, ?ba/s]"
      ]
     },
     "metadata": {},
     "output_type": "display_data"
    },
    {
     "data": {
      "application/vnd.jupyter.widget-view+json": {
       "model_id": "523d67a8cc9842b4bfc7a732a2bc4ba3",
       "version_major": 2,
       "version_minor": 0
      },
      "text/plain": [
       "Deleting unused files from dataset repository:   0%|          | 0/1 [00:00<?, ?it/s]"
      ]
     },
     "metadata": {},
     "output_type": "display_data"
    },
    {
     "data": {
      "application/vnd.jupyter.widget-view+json": {
       "model_id": "d8f16c0baac84bc483f28c1b853c8fc9",
       "version_major": 2,
       "version_minor": 0
      },
      "text/plain": [
       "Downloading metadata:   0%|          | 0.00/548 [00:00<?, ?B/s]"
      ]
     },
     "metadata": {},
     "output_type": "display_data"
    },
    {
     "name": "stderr",
     "output_type": "stream",
     "text": [
      "Updating downloaded metadata with the new split.\n",
      "100%|██████████| 11/11 [00:39<00:00,  3.58s/it]"
     ]
    },
    {
     "name": "stdout",
     "output_type": "stream",
     "text": [
      "Number Yes: 34 | Number True Yes: 33 |   Aggreement: 0.7533333333333333\n"
     ]
    },
    {
     "name": "stderr",
     "output_type": "stream",
     "text": [
      "\n"
     ]
    }
   ],
   "source": [
    "for p in tqdm([0.0, 0.05, 0.1, 0.15, 0.2, 0.25, 0.3, 0.35, 0.4, 0.45, 0.5]):\n",
    "    a = math.floor(75*p)\n",
    "    z1 =np.ones((a,)).astype(int)\n",
    "    z0 = np.zeros((75-a,)).astype(int)\n",
    "    z = np.concatenate((z1, z0))\n",
    "    random.shuffle(z)\n",
    "    z_final = list(chain(*[ [i, 0] for i in z] ))\n",
    "    noisy_legal_rep = []\n",
    "    for i, (legal_rep, flip) in enumerate(zip(legal_rep_status, z_final)):\n",
    "        if flip == 1:\n",
    "            # Flip the element\n",
    "            noisy_element = 'No' if legal_rep == 'Yes' else 'Yes'\n",
    "        else:\n",
    "            # Keep the element as it is\n",
    "            noisy_element = legal_rep\n",
    "        noisy_legal_rep.append(noisy_element)\n",
    "\n",
    "    # Simplify the data creation with inline if-else\n",
    "    data = [\n",
    "        {   'text': get_text(i),\n",
    "            'defense': augmented_tenant_defenses[i], \n",
    "            'text_with_prompt': get_text_with_prompt(i),\n",
    "            'raw_label': legal_rep,\n",
    "            'label': int(legal_rep == 'Yes'),\n",
    "            'true_label': true_legal_rep\n",
    "        }\n",
    "        for i, (legal_rep, true_legal_rep) in enumerate(zip(noisy_legal_rep, legal_rep_status))\n",
    "    ]\n",
    "\n",
    "    dataset = Dataset.from_dict({key: [dic[key] for dic in data] for key in data[0]})\n",
    "    dataset.push_to_hub(f\"ppower1/synthetic_evict_{p}\", private=True)\n",
    "    print(f\"Number Yes: {dataset['label'].count(1)} | Number True Yes: {dataset['true_label'].count('Yes')} |   Aggreement: {[dataset['raw_label'][i] == dataset['true_label'][i] for i in range(len(dataset['raw_label']))].count(True)/len(dataset['raw_label'])}\")"
   ]
  },
  {
   "cell_type": "code",
   "execution_count": 19,
   "metadata": {},
   "outputs": [
    {
     "name": "stdout",
     "output_type": "stream",
     "text": [
      "2 Being a single mother of three in a predominantly African-American neighborhood, my chronic health condition has made it increasingly challenging to maintain steady employment as a part-time janitor, resulting in delayed rent payments of $800 per month. The landlord, a kind-hearted elderly man who has seen my struggles, is sympathetic but, due to his own financial obligations, has decided to proceed with the eviction.\n",
      "6 The recent economic downturn drastically affected my freelance graphic designing work, which was the primary source of income for my family of five. This led to a significant struggle in managing our monthly rent of $800 for our two-bedroom apartment in the heart of Detroit. Being an African-American in a predominantly white profession, finding consistent work was already a challenge. Now, I've missed several consecutive payments, culminating in a heart-wrenching eviction for non-payment.\n",
      "8 As a single mother of three, struggling to make ends meet on my modest income as a cashier, I've been subletting my small, two-bedroom apartment on a popular short-term rental platform without the knowledge or permission of my landlord. My monthly rent of $800, a significant portion of my income, was somewhat offset by this arrangement. However, my landlord, who is of a different race and seems to have a bias against low-income individuals like me, discovered my unauthorized subletting. Now, they are evicting me for breach of lease, leaving me scrambling to find affordable housing for my family.\n",
      "14 Health challenges, specifically a debilitating heart condition, have severely impacted my financial stability as a single mother of three, working a minimum wage job at the local grocery store. This has made it increasingly difficult to meet the monthly rent of $800 for our two-bedroom apartment in the heart of the city. My landlord, a sympathetic elderly Asian man who has known our struggles, understands but is reluctantly forced to evict us due to consistent late payments over the past six months.\n",
      "18 As a single mother of three, I was working tirelessly in the hospitality industry, specifically as a waitress in a local diner, to make ends meet. However, the unforeseen pandemic led to a drastic cut in my job, leaving me in a precarious financial situation. My monthly rent of $800, which was already a struggle to pay, became an insurmountable challenge. Despite my best efforts, I've been unable to catch up on the mounting bills. This unfortunate series of events led to my eviction for non-payment, leaving me and my children in a dire situation.\n",
      "26 As a single father of three in a predominantly Hispanic neighborhood, I've been using the cramped, two-bedroom apartment that costs me $800 in monthly rent for unauthorized filming activities. These activities, often extending late into the night, have disrupted the peace of my hardworking neighbors, many of whom hold multiple jobs just to make ends meet. Despite several stern warnings from the weary property manager, I stubbornly continued, driven by the desperate need to supplement my meager income as a janitor. Now, I'm facing the grim reality of eviction for misuse of the property, a consequence that threatens to plunge my family further into the depths of poverty.\n",
      "28 As a single mother of three, I've been hosting unauthorized guests, specifically my unemployed brother and his two children, for extended periods in my small two-bedroom apartment. This action goes against the terms of my lease, which stipulates a maximum occupancy of four. The monthly rent of $800, which is already a stretch on my minimum wage job as a cashier, doesn't cover additional tenants. My landlord, a stern middle-aged man of Caucasian descent, has noticed the frequent presence of these extra guests. He's now evicting me for breaching the lease agreement, leaving me scrambling to find affordable housing in a market that's far from forgiving to low-income individuals like myself.\n",
      "30 As a single father of three, I've been utilizing the cramped rooftop of our modest two-bedroom apartment, which costs us $800 monthly, for unauthorized gatherings in an attempt to maintain some semblance of social life. This, unfortunately, has been in violation of the strict lease terms. After enduring numerous complaints from our predominantly Hispanic neighbors, the landlord, a stern man who works tirelessly as a janitor during the day, has decided to evict me for misuse of property.\n",
      "36 As a single mother of three, working two minimum wage jobs just to make ends meet, I made the decision to adopt a large, boisterous German Shepherd, knowingly violating the strict no-pet policy of my cramped, $800 per month apartment lease. My landlord, a stern, middle-aged Caucasian man with a reputation for being a stickler for rules, discovered my furry secret during a routine, monthly inspection. Now, he's evicting me and my family for breaching the lease terms, leaving us scrambling to find affordable housing in an already tight market.\n",
      "38 As a single mother of three in a predominantly Hispanic neighborhood, I transformed the cramped balcony of our two-bedroom apartment, which costs us $800 in monthly rent, into a small, vibrant garden without the landlord's permission. I work two jobs, one as a waitress and another as a night janitor, to make ends meet. Unfortunately, my well-intentioned alteration led to unforeseen water leakage issues. When the landlord, a stern man who lives in the same building, discovered the unauthorized changes, he decided to evict us, leaving us scrambling to find a new home.\n",
      "40 As a single mother of three in a predominantly Hispanic neighborhood, I've been hosting large family gatherings of over 20 people, blatantly against COVID-19 protocols, which my landlord, a stern middle-aged Asian man, explicitly prohibited in our $800 per month, two-bedroom apartment. After several complaints from my concerned neighbors, a mix of blue-collar workers and retirees, the landlord decided to evict me for disregarding health and safety regulations, putting the entire building at risk.\n",
      "42 Due to an unexpected layoff from my job as a waiter in a local diner, a casualty of the dwindling service industry, I've found myself unable to cover the monthly rent of $800 for our modest two-bedroom apartment. As a single father of two young children, juggling bills has become a daunting task. I've missed several payments, and now, the landlord, a stern man who lives upstairs, is evicting me for non-payment.\n",
      "44 As a single father of three, my unauthorized use of the small, two-bedroom apartment, which costs me a hefty portion of my monthly income as a janitor, for large-scale art projects led to a flurry of complaints from my neighbors. They were upset about the constant mess of paint and paper that spilled into the shared hallways and the noise that echoed late into the night as I worked tirelessly on my creations. The landlord, a stern middle-aged woman of Asian descent, has cited this as a clear violation of the lease agreement we signed. Now, she is evicting me, leaving me scrambling to find affordable housing in a city that seems to have little room for low-income individuals like me.\n",
      "46 As a single mother of three in a predominantly African-American neighborhood, I've been hosting boisterous virtual events for my part-time job as an online fitness instructor, leading to a series of complaints from my neighbors about the excessive noise. Despite multiple warnings from my landlord, who charges a modest $800 monthly rent for our two-bedroom apartment, I didn't cease these activities, resulting in my unfortunate eviction for disturbance.\n",
      "50 As a single mother of three in a predominantly Hispanic neighborhood, I've fallen behind on my $800 monthly rent due to unexpected medical expenses from my youngest son's sudden illness. Despite my earnest attempts to communicate my dire situation with the landlord, a stern man who strictly adheres to the lease terms, I've been met with an unwavering demand for payment, leading to my impending eviction. As a part-time janitor barely making ends meet, this financial setback has left me in a state of despair.\n",
      "64 As a single mother of three, juggling two minimum-wage jobs, I've frequently found myself struggling to meet the hefty $800 monthly rent for our cramped two-bedroom apartment. This has led to several stern warnings from our gruff, impatient landlord. My continued delay in payments, a result of the constant juggling between paying bills, buying groceries, and providing for my mixed-race family, has now culminated in a dreaded eviction notice.\n",
      "66 After suffering a debilitating injury in a construction accident, I found myself incapacitated and unable to continue my job as a manual laborer for several agonizing months. Being the sole breadwinner in a family of five, this unfortunate incident led to a mounting backlog of unpaid rent for our modest two-bedroom apartment, which costs us $800 per month. Despite earnestly explaining my predicament to my landlord, a stern man of little sympathy, he is relentlessly moving forward with the eviction process, disregarding the plight of our Hispanic family in these challenging times.\n",
      "70 Being laid off from my job as a warehouse supervisor during the recent company-wide restructuring left me, a single father of three, grappling with the daunting task of meeting our monthly rent of $800. Despite my best efforts, I've missed several payments, a consequence of my limited income. This unfortunate financial situation, a common plight among us African-Americans in low-income brackets, has led to my eviction due to non-compliance with financial obligations.\n",
      "72 As a single father of three, working tirelessly as a janitor to make ends meet, I managed to install a non-permitted kitchen island in our cramped, two-bedroom apartment that costs us $800 in monthly rent. This was an attempt to maximize the limited space and make it more functional for my family. However, our stern landlord, a middle-aged Caucasian man who owns several low-income properties in the neighborhood, discovered the unauthorized structural changes during a routine inspection. Now, he's evicting us, citing the alteration of the apartment's original layout as the reason.\n",
      "80 As the sole provider for my family of five, I've been giving drum lessons in my cramped, two-bedroom apartment in the heart of the bustling city, where the monthly rent is a staggering $800. The rhythmic pounding and crashing of cymbals have led to a chorus of noise complaints from my racially diverse, yet understandably frustrated neighbors. Despite my desperate need to make ends meet, I stubbornly ignored multiple warnings from the stern-faced building manager. This resulted in my eviction, a harsh consequence for creating a relentless disturbance in our low-income community.\n",
      "82 As a single mother of three, I was operating a modest home-based bakery from my cramped two-bedroom apartment in a predominantly Hispanic neighborhood, a desperate attempt to make ends meet on a monthly rent of $800. This was, however, against the strict terms of the lease agreement. My landlord, a stern middle-aged man who worked as a real estate agent, began to notice the unusual increase in foot traffic to and from my apartment. His curiosity piqued, he decided to investigate. Now, he's evicting me for using the property for commercial purposes, a violation of our agreement.\n",
      "92 As a single father of three, I've been hosting a weekly podcast from my cramped, two-bedroom apartment in the heart of the bustling city, where the monthly rent is a staggering $800. The podcast, a lively discussion about the struggles and triumphs of being a Hispanic man working a minimum wage job in the fast food industry, often gets boisterously loud. Despite numerous complaints from my weary neighbors and stern warnings from the stern, no-nonsense landlord, I stubbornly didn't cease my activities. This led to my unfortunate eviction for persistent noise disturbances, a harsh blow for a low-income individual like me.\n",
      "100 After a drastic cutback in my work hours at the local grocery store, where I've been a cashier for the past five years, I've found myself unable to meet the monthly rent of $800 for our modest three-bedroom apartment. As a single African-American mother of three, this has put a significant strain on our already tight budget. Consequently, I've missed a few payments, and now, the landlord, a stern man who lives upstairs, is threatening to evict us for partial non-payment.\n",
      "102 As the sole provider for my family of five, my ongoing health issues have made it increasingly challenging to maintain a steady job, leading to inconsistent income and subsequently, delayed rent payments of our modest two-bedroom apartment that costs $800 per month. Despite my earnest attempts to explain my situation, my landlord, who is indifferent to the struggles of a low-income African-American family, is evicting us for non-payment.\n",
      "110 As a single mother of three, struggling to make ends meet on my meager salary as a cashier, I made the desperate decision to change the locks on our small, two-bedroom apartment without notifying our landlord, a decision that directly contradicts our lease agreement. This was discovered during one of their routine monthly checks, a process as regular as the $800 rent I struggle to pay. Now, they are evicting me, a Latina woman trying to keep her family safe, for what they term as 'security violations'.\n",
      "118 In my cramped, two-bedroom apartment that I share with my family of five, I've been hoarding an excessive amount of clutter, transforming our living space into a labyrinth of old newspapers, worn-out clothes, and discarded toys. This has escalated into a serious fire safety hazard, a ticking time bomb in our predominantly Hispanic, low-income neighborhood. Our landlord, a stern man who works two jobs just to make ends meet, had warned me multiple times to clean up. Despite his warnings, I didn't comply, my procrastination and overwhelming workload at my minimum wage job leaving me with little time or energy for such a task. Consequently, we were evicted, a decision driven by safety concerns rather than personal animosity.\n",
      "120 Being the sole breadwinner in a family of five, a relentless and debilitating health issue has left me incapacitated, unable to continue my job as a janitor, causing severe financial hardship. The mounting medical bills and the monthly rent of $800 for our small two-bedroom apartment in the heart of the city have become insurmountable. Our landlord, a kind-hearted African-American gentleman, empathizes with our predicament but, constrained by his own financial obligations, is reluctantly moving forward with the eviction process.\n",
      "128 Due to a severe cutback in my working hours at the local grocery store, where I've been a cashier for the past five years, I've found myself unable to meet the monthly rent of $800 for our modest three-bedroom apartment. As a single mother of three, juggling multiple responsibilities, I've unfortunately missed several payments. Now, the landlord, a stern man who lives upstairs, is evicting me and my mixed-race children for partial non-payment.\n",
      "132 As a single mother of three, I've been grappling with debilitating health issues that have resulted in a mountain of medical bills. My modest income as a part-time cashier barely covers our monthly rent of $800 for our two-bedroom apartment in a predominantly Hispanic neighborhood. Despite my earnest attempts to explain my dire situation to the landlord, he is bound by the constraints of the lease terms and has no choice but to proceed with my eviction.\n",
      "138 After being unexpectedly laid off from my long-standing job at a local construction company, where I was a dedicated worker for over a decade, I've found myself in a relentless struggle to meet the monthly rent obligations for our modest three-bedroom apartment. As the sole breadwinner for my family of five, the burden weighs heavily. Despite my tireless efforts to find new work, even considering jobs outside my field, I'm now facing the harsh reality of eviction for non-payment, a situation that disproportionately affects us as a Hispanic family in a low-income bracket.\n",
      "140 As a single father of three, struggling to make ends meet on my meager salary as a janitor, I've consistently succumbed to the stress-relieving allure of smoking in the non-smoking areas of our low-rent, predominantly African-American community building. This habit, unfortunately, led to numerous complaints from my fellow tenants, who were understandably concerned about the health risks of secondhand smoke. Despite receiving multiple warnings from the building management, my addiction overpowered my better judgment, and I continued. This persistent disregard for the building policies eventually resulted in my eviction, adding another layer of hardship to our already challenging life.\n",
      "142 After a significant slump in my small, independent consulting business, which primarily serves the African-American community in our city, I've been grappling with the harsh reality of not being able to afford the monthly rent of $800 for our modest three-bedroom apartment. As a single father of three, this has been particularly challenging. Consequently, I've missed several consecutive payments, which has unfortunately led to an impending eviction for non-payment.\n",
      "144 As a single father of three, struggling to make ends meet on my meager salary as a janitor, I decided to add a touch of color to our lives by painting the exterior window frames of our small, two-bedroom apartment, a vibrant blue. This was done without seeking permission, inadvertently violating the strict aesthetic guidelines of the aging, red-brick building we called home. The landlord, a stern, middle-aged Caucasian man known for his rigid adherence to rules, discovered my unauthorized exterior alterations during his monthly inspection. Now, he's evicting us, demanding an immediate end to our $800 per month tenancy, due to my well-intentioned but unauthorized home improvement efforts.\n",
      "148 As a single mother of three, I've been subletting my small two-bedroom apartment, located in a predominantly Hispanic neighborhood, without the landlord's consent. The monthly rent of $800 was a bit too steep for my meager income as a part-time janitor. The landlord, a stern middle-aged man, found out about my secret arrangement when he noticed unfamiliar faces, different from the usual residents, frequently entering and leaving the apartment at all hours. Now, I'm facing eviction for unauthorized subletting, a consequence that threatens to plunge my family further into financial instability.\n"
     ]
    }
   ],
   "source": [
    "for i, j in enumerate(dataset['label'][:150]):\n",
    "    if j == 1:\n",
    "        print(i, dataset['defense'][i])\n"
   ]
  },
  {
   "cell_type": "code",
   "execution_count": 20,
   "metadata": {},
   "outputs": [
    {
     "data": {
      "text/plain": [
       "34"
      ]
     },
     "execution_count": 20,
     "metadata": {},
     "output_type": "execute_result"
    }
   ],
   "source": [
    "dataset['label'][:150].count(1)"
   ]
  },
  {
   "cell_type": "code",
   "execution_count": null,
   "metadata": {},
   "outputs": [],
   "source": []
  }
 ],
 "metadata": {
  "kernelspec": {
   "display_name": "evict_env",
   "language": "python",
   "name": "python3"
  },
  "language_info": {
   "codemirror_mode": {
    "name": "ipython",
    "version": 3
   },
   "file_extension": ".py",
   "mimetype": "text/x-python",
   "name": "python",
   "nbconvert_exporter": "python",
   "pygments_lexer": "ipython3",
   "version": "3.10.12"
  },
  "orig_nbformat": 4
 },
 "nbformat": 4,
 "nbformat_minor": 2
}
