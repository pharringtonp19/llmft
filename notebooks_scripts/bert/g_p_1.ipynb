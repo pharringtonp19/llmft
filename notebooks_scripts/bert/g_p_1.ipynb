{
 "cells": [
  {
   "attachments": {},
   "cell_type": "markdown",
   "id": "b6e34423",
   "metadata": {
    "papermill": {
     "duration": 0.004951,
     "end_time": "2024-04-12T20:56:53.764484",
     "exception": false,
     "start_time": "2024-04-12T20:56:53.759533",
     "status": "completed"
    },
    "tags": []
   },
   "source": [
    "### **Import Libraries**"
   ]
  },
  {
   "cell_type": "code",
   "execution_count": 1,
   "id": "2d0a12b4",
   "metadata": {
    "execution": {
     "iopub.execute_input": "2024-04-12T20:56:53.775254Z",
     "iopub.status.busy": "2024-04-12T20:56:53.775029Z",
     "iopub.status.idle": "2024-04-12T20:56:57.813390Z",
     "shell.execute_reply": "2024-04-12T20:56:57.812640Z"
    },
    "papermill": {
     "duration": 4.046506,
     "end_time": "2024-04-12T20:56:57.815612",
     "exception": false,
     "start_time": "2024-04-12T20:56:53.769106",
     "status": "completed"
    },
    "tags": []
   },
   "outputs": [],
   "source": [
    "from datasets import load_dataset \n",
    "from transformers import AutoTokenizer\n",
    "from transformers import AutoModelForSequenceClassification\n",
    "import numpy as np\n",
    "import evaluate\n",
    "from transformers import TrainingArguments, Trainer\n",
    "import torch \n",
    "import matplotlib.pyplot as plt \n",
    "from transformers import DataCollatorWithPadding\n",
    "import os \n",
    "from pathlib import Path\n",
    "import random \n",
    "from datasets import Dataset\n",
    "import warnings\n",
    "from functools import partial\n",
    "from datasets import concatenate_datasets, DatasetDict\n",
    "from functools import partial \n",
    "# Filter out the specific warning\n",
    "warnings.filterwarnings('ignore', message='Was asked to gather along dimension 0, but all input tensors were scalars; will instead unsqueeze and return a vector.')"
   ]
  },
  {
   "attachments": {},
   "cell_type": "markdown",
   "id": "d4caacc4",
   "metadata": {
    "papermill": {
     "duration": 0.00441,
     "end_time": "2024-04-12T20:56:57.825093",
     "exception": false,
     "start_time": "2024-04-12T20:56:57.820683",
     "status": "completed"
    },
    "tags": []
   },
   "source": [
    "### **Key Parameters**"
   ]
  },
  {
   "cell_type": "code",
   "execution_count": 2,
   "id": "447cc0a8",
   "metadata": {
    "execution": {
     "iopub.execute_input": "2024-04-12T20:56:57.835383Z",
     "iopub.status.busy": "2024-04-12T20:56:57.835040Z",
     "iopub.status.idle": "2024-04-12T20:56:57.839088Z",
     "shell.execute_reply": "2024-04-12T20:56:57.838436Z"
    },
    "papermill": {
     "duration": 0.011074,
     "end_time": "2024-04-12T20:56:57.840529",
     "exception": false,
     "start_time": "2024-04-12T20:56:57.829455",
     "status": "completed"
    },
    "tags": [
     "parameters"
    ]
   },
   "outputs": [],
   "source": [
    "# This cell is tagged with `parameters`\n",
    "model_name = \"bert-base-cased\" \n",
    "data_link = 'ppower/instruments'\n",
    "column = 'text'\n",
    "epochs = 3\n",
    "seed = 2 \n",
    "test_size = 0.5"
   ]
  },
  {
   "cell_type": "code",
   "execution_count": 3,
   "id": "647571e6",
   "metadata": {
    "execution": {
     "iopub.execute_input": "2024-04-12T20:56:57.850979Z",
     "iopub.status.busy": "2024-04-12T20:56:57.850301Z",
     "iopub.status.idle": "2024-04-12T20:56:57.853328Z",
     "shell.execute_reply": "2024-04-12T20:56:57.852702Z"
    },
    "papermill": {
     "duration": 0.010216,
     "end_time": "2024-04-12T20:56:57.855197",
     "exception": false,
     "start_time": "2024-04-12T20:56:57.844981",
     "status": "completed"
    },
    "tags": [
     "injected-parameters"
    ]
   },
   "outputs": [],
   "source": [
    "# Parameters\n",
    "seed = 1\n"
   ]
  },
  {
   "attachments": {},
   "cell_type": "markdown",
   "id": "6484008b",
   "metadata": {
    "papermill": {
     "duration": 0.004428,
     "end_time": "2024-04-12T20:56:57.864174",
     "exception": false,
     "start_time": "2024-04-12T20:56:57.859746",
     "status": "completed"
    },
    "tags": []
   },
   "source": [
    "#### **Set Up Path**"
   ]
  },
  {
   "cell_type": "code",
   "execution_count": 4,
   "id": "b18f1f99",
   "metadata": {
    "execution": {
     "iopub.execute_input": "2024-04-12T20:56:57.875153Z",
     "iopub.status.busy": "2024-04-12T20:56:57.874534Z",
     "iopub.status.idle": "2024-04-12T20:56:57.878893Z",
     "shell.execute_reply": "2024-04-12T20:56:57.878243Z"
    },
    "papermill": {
     "duration": 0.011687,
     "end_time": "2024-04-12T20:56:57.880322",
     "exception": false,
     "start_time": "2024-04-12T20:56:57.868635",
     "status": "completed"
    },
    "tags": []
   },
   "outputs": [
    {
     "name": "stdout",
     "output_type": "stream",
     "text": [
      "/home/ubuntu/llmft/results/\n"
     ]
    }
   ],
   "source": [
    "results_folder = str(Path(os.getcwd()).parent.parent.absolute())  + '/results/'\n",
    "figures_folder = str(Path(os.getcwd()).parent.parent.absolute())  + '/figures/'\n",
    "print(results_folder)"
   ]
  },
  {
   "attachments": {},
   "cell_type": "markdown",
   "id": "99f9025b",
   "metadata": {
    "papermill": {
     "duration": 0.004526,
     "end_time": "2024-04-12T20:56:57.889473",
     "exception": false,
     "start_time": "2024-04-12T20:56:57.884947",
     "status": "completed"
    },
    "tags": []
   },
   "source": [
    "#### **Helper Functions**"
   ]
  },
  {
   "cell_type": "code",
   "execution_count": 5,
   "id": "4affb684",
   "metadata": {
    "execution": {
     "iopub.execute_input": "2024-04-12T20:56:57.900043Z",
     "iopub.status.busy": "2024-04-12T20:56:57.899804Z",
     "iopub.status.idle": "2024-04-12T20:56:57.904217Z",
     "shell.execute_reply": "2024-04-12T20:56:57.903570Z"
    },
    "papermill": {
     "duration": 0.011429,
     "end_time": "2024-04-12T20:56:57.905597",
     "exception": false,
     "start_time": "2024-04-12T20:56:57.894168",
     "status": "completed"
    },
    "tags": []
   },
   "outputs": [],
   "source": [
    "def preprocess_function(examples, column='text'):\n",
    "    tokenized = tokenizer(examples[column], truncation=True, padding=\"max_length\")\n",
    "    return {**tokenized, 'label': examples['label']}\n",
    "\n",
    "\n",
    "def compute_metrics(eval_pred):\n",
    "    logits, labels = eval_pred\n",
    "    predictions = np.argmax(logits, axis=-1)\n",
    "    return metric.compute(predictions=predictions, references=labels)"
   ]
  },
  {
   "attachments": {},
   "cell_type": "markdown",
   "id": "fc42985c",
   "metadata": {
    "papermill": {
     "duration": 0.004657,
     "end_time": "2024-04-12T20:56:57.914889",
     "exception": false,
     "start_time": "2024-04-12T20:56:57.910232",
     "status": "completed"
    },
    "tags": []
   },
   "source": [
    "#### **Model**"
   ]
  },
  {
   "cell_type": "code",
   "execution_count": 6,
   "id": "901fdd62",
   "metadata": {
    "execution": {
     "iopub.execute_input": "2024-04-12T20:56:57.925236Z",
     "iopub.status.busy": "2024-04-12T20:56:57.925020Z",
     "iopub.status.idle": "2024-04-12T20:56:58.273165Z",
     "shell.execute_reply": "2024-04-12T20:56:58.272523Z"
    },
    "papermill": {
     "duration": 0.355205,
     "end_time": "2024-04-12T20:56:58.274691",
     "exception": false,
     "start_time": "2024-04-12T20:56:57.919486",
     "status": "completed"
    },
    "tags": []
   },
   "outputs": [
    {
     "name": "stderr",
     "output_type": "stream",
     "text": [
      "Some weights of BertForSequenceClassification were not initialized from the model checkpoint at bert-base-cased and are newly initialized: ['classifier.bias', 'classifier.weight']\n",
      "You should probably TRAIN this model on a down-stream task to be able to use it for predictions and inference.\n"
     ]
    }
   ],
   "source": [
    "model = AutoModelForSequenceClassification.from_pretrained(model_name, num_labels=2)\n",
    "tokenizer = AutoTokenizer.from_pretrained(model_name)"
   ]
  },
  {
   "cell_type": "code",
   "execution_count": 7,
   "id": "9bb90fcc",
   "metadata": {
    "execution": {
     "iopub.execute_input": "2024-04-12T20:56:58.286667Z",
     "iopub.status.busy": "2024-04-12T20:56:58.285919Z",
     "iopub.status.idle": "2024-04-12T20:56:58.290209Z",
     "shell.execute_reply": "2024-04-12T20:56:58.289637Z"
    },
    "papermill": {
     "duration": 0.011828,
     "end_time": "2024-04-12T20:56:58.291671",
     "exception": false,
     "start_time": "2024-04-12T20:56:58.279843",
     "status": "completed"
    },
    "tags": []
   },
   "outputs": [],
   "source": [
    "def add_is_train_column(batch):\n",
    "    # Length of the batch\n",
    "    batch_size = len(batch['text'])  # Replace 'column_name' with the name of one of your columns\n",
    "    # Create a list with the same value for all elements in the batch\n",
    "    batch['is_train'] = [1] * batch_size\n",
    "    return batch\n",
    "\n",
    "# Modify the function for the test set\n",
    "def add_is_test_column(batch):\n",
    "    batch_size = len(batch['text'])  # Replace 'column_name' with the name of one of your columns\n",
    "    batch['is_train'] = [0] * batch_size\n",
    "    return batch\n"
   ]
  },
  {
   "cell_type": "code",
   "execution_count": 8,
   "id": "9a0e8bd5",
   "metadata": {
    "execution": {
     "iopub.execute_input": "2024-04-12T20:56:58.302790Z",
     "iopub.status.busy": "2024-04-12T20:56:58.302075Z",
     "iopub.status.idle": "2024-04-12T20:56:58.305524Z",
     "shell.execute_reply": "2024-04-12T20:56:58.304992Z"
    },
    "papermill": {
     "duration": 0.010874,
     "end_time": "2024-04-12T20:56:58.307281",
     "exception": false,
     "start_time": "2024-04-12T20:56:58.296407",
     "status": "completed"
    },
    "tags": []
   },
   "outputs": [],
   "source": [
    "def remove_substring(example):\n",
    "    # The string to be removed\n",
    "    substring = \"True or False: The Right to Counsel is in effect in the tenant's zip code.\"\n",
    "    # Replace the substring with an empty string\n",
    "    example[\"text\"] = example[\"text\"].replace(substring, \"\")\n",
    "    return example"
   ]
  },
  {
   "attachments": {},
   "cell_type": "markdown",
   "id": "44781974",
   "metadata": {
    "papermill": {
     "duration": 0.004847,
     "end_time": "2024-04-12T20:56:58.316928",
     "exception": false,
     "start_time": "2024-04-12T20:56:58.312081",
     "status": "completed"
    },
    "tags": []
   },
   "source": [
    "#### **Load Data**"
   ]
  },
  {
   "cell_type": "code",
   "execution_count": 9,
   "id": "6277888d",
   "metadata": {
    "execution": {
     "iopub.execute_input": "2024-04-12T20:56:58.328216Z",
     "iopub.status.busy": "2024-04-12T20:56:58.327538Z",
     "iopub.status.idle": "2024-04-12T20:57:00.809145Z",
     "shell.execute_reply": "2024-04-12T20:57:00.808535Z"
    },
    "papermill": {
     "duration": 2.489066,
     "end_time": "2024-04-12T20:57:00.810753",
     "exception": false,
     "start_time": "2024-04-12T20:56:58.321687",
     "status": "completed"
    },
    "tags": []
   },
   "outputs": [
    {
     "data": {
      "application/vnd.jupyter.widget-view+json": {
       "model_id": "7cfcc1278fc74cebae901665f32f8a81",
       "version_major": 2,
       "version_minor": 0
      },
      "text/plain": [
       "Map:   0%|          | 0/4899 [00:00<?, ? examples/s]"
      ]
     },
     "metadata": {},
     "output_type": "display_data"
    }
   ],
   "source": [
    "original_dataset = load_dataset(\"ppower1/instrument\")\n",
    "original_dataset = original_dataset.map(remove_substring)\n",
    "original_dataset = original_dataset['train'].add_column(\"original_index\", range(len(original_dataset['train'])))\n",
    "dataset = original_dataset.train_test_split(test_size=test_size, seed=seed)\n",
    "dataset['train'] = dataset['train'].map(add_is_train_column, batched=True)\n",
    "dataset['test'] = dataset['test'].map(add_is_test_column, batched=True)\n",
    "tokenized_dataset = dataset.map(partial(preprocess_function, column=column), batched=True)\n",
    "combined_dataset = concatenate_datasets([dataset['train'], dataset['test']])\n",
    "combined_dataset = combined_dataset.sort(\"original_index\")\n",
    "tokenized_original_dataset = combined_dataset.map(partial(preprocess_function, column=column), batched=True)\n",
    "tokenized_treated_dataset = combined_dataset.map(partial(preprocess_function, column='treated text'), batched=True)\n",
    "tokenized_control_dataset =  combined_dataset.map(partial(preprocess_function, column='control text'), batched=True)"
   ]
  },
  {
   "attachments": {},
   "cell_type": "markdown",
   "id": "a1477ae8",
   "metadata": {
    "papermill": {
     "duration": 0.004984,
     "end_time": "2024-04-12T20:57:00.821368",
     "exception": false,
     "start_time": "2024-04-12T20:57:00.816384",
     "status": "completed"
    },
    "tags": []
   },
   "source": [
    "#### **Hyperparameters**"
   ]
  },
  {
   "cell_type": "code",
   "execution_count": 10,
   "id": "2de99b89",
   "metadata": {
    "execution": {
     "iopub.execute_input": "2024-04-12T20:57:00.833567Z",
     "iopub.status.busy": "2024-04-12T20:57:00.832733Z",
     "iopub.status.idle": "2024-04-12T20:57:01.271784Z",
     "shell.execute_reply": "2024-04-12T20:57:01.271212Z"
    },
    "papermill": {
     "duration": 0.447236,
     "end_time": "2024-04-12T20:57:01.273635",
     "exception": false,
     "start_time": "2024-04-12T20:57:00.826399",
     "status": "completed"
    },
    "tags": []
   },
   "outputs": [],
   "source": [
    "metric = evaluate.load(\"accuracy\")\n",
    "data_collator = DataCollatorWithPadding(tokenizer=tokenizer)\n",
    "\n",
    "def get_training_args(num_epochs):\n",
    "    return TrainingArguments(\n",
    "    output_dir='./synth_evict',\n",
    "    learning_rate=2e-4,\n",
    "    per_device_train_batch_size=16,\n",
    "    per_device_eval_batch_size=16,\n",
    "    num_train_epochs=num_epochs,\n",
    "    load_best_model_at_end=True,\n",
    "    evaluation_strategy=\"epoch\",\n",
    "    logging_strategy=\"epoch\",\n",
    "    save_strategy=\"epoch\",\n",
    "    gradient_checkpointing=True,\n",
    "    gradient_accumulation_steps=4\n",
    ")"
   ]
  },
  {
   "cell_type": "code",
   "execution_count": 11,
   "id": "1686468a",
   "metadata": {
    "execution": {
     "iopub.execute_input": "2024-04-12T20:57:01.285788Z",
     "iopub.status.busy": "2024-04-12T20:57:01.285131Z",
     "iopub.status.idle": "2024-04-12T20:57:01.459427Z",
     "shell.execute_reply": "2024-04-12T20:57:01.458682Z"
    },
    "papermill": {
     "duration": 0.181674,
     "end_time": "2024-04-12T20:57:01.460765",
     "exception": false,
     "start_time": "2024-04-12T20:57:01.279091",
     "status": "completed"
    },
    "tags": []
   },
   "outputs": [
    {
     "name": "stderr",
     "output_type": "stream",
     "text": [
      "huggingface/tokenizers: The current process just got forked, after parallelism has already been used. Disabling parallelism to avoid deadlocks...\n",
      "To disable this warning, you can either:\n",
      "\t- Avoid using `tokenizers` before the fork if possible\n",
      "\t- Explicitly set the environment variable TOKENIZERS_PARALLELISM=(true | false)\n"
     ]
    }
   ],
   "source": [
    "!rm -rf ./synth_evict/"
   ]
  },
  {
   "cell_type": "code",
   "execution_count": 12,
   "id": "6ab58f11",
   "metadata": {
    "execution": {
     "iopub.execute_input": "2024-04-12T20:57:01.473223Z",
     "iopub.status.busy": "2024-04-12T20:57:01.472467Z",
     "iopub.status.idle": "2024-04-12T20:57:42.421444Z",
     "shell.execute_reply": "2024-04-12T20:57:42.420828Z"
    },
    "papermill": {
     "duration": 40.95673,
     "end_time": "2024-04-12T20:57:42.422853",
     "exception": false,
     "start_time": "2024-04-12T20:57:01.466123",
     "status": "completed"
    },
    "tags": []
   },
   "outputs": [
    {
     "name": "stderr",
     "output_type": "stream",
     "text": [
      "/home/ubuntu/llms/lib/python3.10/site-packages/accelerate/accelerator.py:436: FutureWarning: Passing the following arguments to `Accelerator` is deprecated and will be removed in version 1.0 of Accelerate: dict_keys(['dispatch_batches', 'split_batches', 'even_batches', 'use_seedable_sampler']). Please pass an `accelerate.DataLoaderConfiguration` instead: \n",
      "dataloader_config = DataLoaderConfiguration(dispatch_batches=None, split_batches=False, even_batches=True, use_seedable_sampler=True)\n",
      "  warnings.warn(\n"
     ]
    },
    {
     "data": {
      "text/html": [
       "\n",
       "    <div>\n",
       "      \n",
       "      <progress value='613' max='613' style='width:300px; height:20px; vertical-align: middle;'></progress>\n",
       "      [613/613 00:40]\n",
       "    </div>\n",
       "    "
      ],
      "text/plain": [
       "<IPython.core.display.HTML object>"
      ]
     },
     "metadata": {},
     "output_type": "display_data"
    },
    {
     "name": "stdout",
     "output_type": "stream",
     "text": [
      "Initial Training Loss: 0.5904    |   Initial Training Accuracy: 0.8820\n"
     ]
    }
   ],
   "source": [
    "# To get the initial training loss\n",
    "trainer = Trainer(\n",
    "model=model,\n",
    "args=TrainingArguments(output_dir=\"test_trainer\", evaluation_strategy=\"epoch\"),\n",
    "train_dataset=tokenized_dataset[\"train\"],\n",
    "eval_dataset=tokenized_dataset[\"train\"],\n",
    "compute_metrics=compute_metrics)\n",
    "\n",
    "init_train_eval = trainer.evaluate()\n",
    "init_train_loss = init_train_eval['eval_loss']\n",
    "init_train_accuracy = init_train_eval['eval_accuracy']\n",
    "print(f\"Initial Training Loss: {init_train_loss:.4f}    |   Initial Training Accuracy: {init_train_accuracy:.4f}\")"
   ]
  },
  {
   "cell_type": "code",
   "execution_count": 13,
   "id": "fccfa705",
   "metadata": {
    "execution": {
     "iopub.execute_input": "2024-04-12T20:57:42.435652Z",
     "iopub.status.busy": "2024-04-12T20:57:42.435429Z",
     "iopub.status.idle": "2024-04-12T20:58:22.877064Z",
     "shell.execute_reply": "2024-04-12T20:58:22.876342Z"
    },
    "papermill": {
     "duration": 40.449829,
     "end_time": "2024-04-12T20:58:22.878544",
     "exception": false,
     "start_time": "2024-04-12T20:57:42.428715",
     "status": "completed"
    },
    "tags": []
   },
   "outputs": [
    {
     "name": "stderr",
     "output_type": "stream",
     "text": [
      "/home/ubuntu/llms/lib/python3.10/site-packages/accelerate/accelerator.py:436: FutureWarning: Passing the following arguments to `Accelerator` is deprecated and will be removed in version 1.0 of Accelerate: dict_keys(['dispatch_batches', 'split_batches', 'even_batches', 'use_seedable_sampler']). Please pass an `accelerate.DataLoaderConfiguration` instead: \n",
      "dataloader_config = DataLoaderConfiguration(dispatch_batches=None, split_batches=False, even_batches=True, use_seedable_sampler=True)\n",
      "  warnings.warn(\n"
     ]
    },
    {
     "data": {
      "text/html": [
       "\n",
       "    <div>\n",
       "      \n",
       "      <progress value='1226' max='613' style='width:300px; height:20px; vertical-align: middle;'></progress>\n",
       "      [613/613 03:21]\n",
       "    </div>\n",
       "    "
      ],
      "text/plain": [
       "<IPython.core.display.HTML object>"
      ]
     },
     "metadata": {},
     "output_type": "display_data"
    },
    {
     "name": "stdout",
     "output_type": "stream",
     "text": [
      "Initial Evaluation Loss: 0.5884    |   Initial Evaluation Accuracy: 0.8912\n"
     ]
    }
   ],
   "source": [
    "# Actual Trainer\n",
    "trainer = Trainer(\n",
    "model=model,\n",
    "args=TrainingArguments(output_dir=\"test_trainer\", \n",
    "                       evaluation_strategy=\"epoch\", \n",
    "                       num_train_epochs=epochs, \n",
    "                       load_best_model_at_end=True,\n",
    "                       logging_strategy=\"epoch\",\n",
    "                       save_strategy=\"epoch\"),\n",
    "train_dataset=tokenized_dataset[\"train\"],\n",
    "eval_dataset=tokenized_dataset[\"test\"],\n",
    "compute_metrics=compute_metrics,\n",
    ")\n",
    "\n",
    "\n",
    "init_eval_eval = trainer.evaluate()\n",
    "init_eval_loss = init_eval_eval['eval_loss']\n",
    "init_eval_accuracy = init_eval_eval['eval_accuracy']\n",
    "print(f\"Initial Evaluation Loss: {init_eval_loss:.4f}    |   Initial Evaluation Accuracy: {init_eval_accuracy:.4f}\")"
   ]
  },
  {
   "cell_type": "code",
   "execution_count": 14,
   "id": "20ef0b4a",
   "metadata": {
    "execution": {
     "iopub.execute_input": "2024-04-12T20:58:22.891646Z",
     "iopub.status.busy": "2024-04-12T20:58:22.891420Z",
     "iopub.status.idle": "2024-04-12T21:06:30.364082Z",
     "shell.execute_reply": "2024-04-12T21:06:30.363365Z"
    },
    "papermill": {
     "duration": 487.480803,
     "end_time": "2024-04-12T21:06:30.365465",
     "exception": false,
     "start_time": "2024-04-12T20:58:22.884662",
     "status": "completed"
    },
    "tags": []
   },
   "outputs": [
    {
     "data": {
      "text/html": [
       "\n",
       "    <div>\n",
       "      \n",
       "      <progress value='1839' max='1839' style='width:300px; height:20px; vertical-align: middle;'></progress>\n",
       "      [1839/1839 08:06, Epoch 3/3]\n",
       "    </div>\n",
       "    <table border=\"1\" class=\"dataframe\">\n",
       "  <thead>\n",
       " <tr style=\"text-align: left;\">\n",
       "      <th>Epoch</th>\n",
       "      <th>Training Loss</th>\n",
       "      <th>Validation Loss</th>\n",
       "      <th>Accuracy</th>\n",
       "    </tr>\n",
       "  </thead>\n",
       "  <tbody>\n",
       "    <tr>\n",
       "      <td>1</td>\n",
       "      <td>0.284000</td>\n",
       "      <td>0.217963</td>\n",
       "      <td>0.939375</td>\n",
       "    </tr>\n",
       "    <tr>\n",
       "      <td>2</td>\n",
       "      <td>0.277500</td>\n",
       "      <td>0.246122</td>\n",
       "      <td>0.939375</td>\n",
       "    </tr>\n",
       "    <tr>\n",
       "      <td>3</td>\n",
       "      <td>0.283400</td>\n",
       "      <td>0.254430</td>\n",
       "      <td>0.939375</td>\n",
       "    </tr>\n",
       "  </tbody>\n",
       "</table><p>"
      ],
      "text/plain": [
       "<IPython.core.display.HTML object>"
      ]
     },
     "metadata": {},
     "output_type": "display_data"
    },
    {
     "data": {
      "text/plain": [
       "TrainOutput(global_step=1839, training_loss=0.28165832818235115, metrics={'train_runtime': 487.2961, 'train_samples_per_second': 30.154, 'train_steps_per_second': 3.774, 'total_flos': 3866153847459840.0, 'train_loss': 0.28165832818235115, 'epoch': 3.0})"
      ]
     },
     "execution_count": 14,
     "metadata": {},
     "output_type": "execute_result"
    }
   ],
   "source": [
    "# Train\n",
    "trainer.train()"
   ]
  },
  {
   "cell_type": "code",
   "execution_count": 15,
   "id": "c7587fdf",
   "metadata": {
    "execution": {
     "iopub.execute_input": "2024-04-12T21:06:30.379437Z",
     "iopub.status.busy": "2024-04-12T21:06:30.378982Z",
     "iopub.status.idle": "2024-04-12T21:06:30.384352Z",
     "shell.execute_reply": "2024-04-12T21:06:30.383719Z"
    },
    "papermill": {
     "duration": 0.013559,
     "end_time": "2024-04-12T21:06:30.385618",
     "exception": false,
     "start_time": "2024-04-12T21:06:30.372059",
     "status": "completed"
    },
    "tags": []
   },
   "outputs": [],
   "source": [
    "steps, train_loss = [0] + [i['step'] for i in trainer.state.log_history if 'loss' in i], [init_train_loss] + [i['loss'] for i in trainer.state.log_history if 'loss' in i]\n",
    "_, eval_loss = [i['step'] for i in trainer.state.log_history if 'eval_loss' in i], [init_eval_loss] + [i['eval_loss'] for i in trainer.state.log_history if 'eval_loss' in i]\n",
    "eval_accuracy = [init_eval_accuracy] + [i['eval_accuracy'] for i in trainer.state.log_history if 'eval_accuracy' in i]\n",
    "lr = [i['learning_rate'] for i in trainer.state.log_history if 'learning_rate' in i]"
   ]
  },
  {
   "cell_type": "code",
   "execution_count": 16,
   "id": "244eb70a",
   "metadata": {
    "execution": {
     "iopub.execute_input": "2024-04-12T21:06:30.398962Z",
     "iopub.status.busy": "2024-04-12T21:06:30.398496Z",
     "iopub.status.idle": "2024-04-12T21:06:30.554845Z",
     "shell.execute_reply": "2024-04-12T21:06:30.554191Z"
    },
    "papermill": {
     "duration": 0.164682,
     "end_time": "2024-04-12T21:06:30.556247",
     "exception": false,
     "start_time": "2024-04-12T21:06:30.391565",
     "status": "completed"
    },
    "tags": []
   },
   "outputs": [
    {
     "data": {
      "text/plain": [
       "[<matplotlib.lines.Line2D at 0x7fb370179ed0>]"
      ]
     },
     "execution_count": 16,
     "metadata": {},
     "output_type": "execute_result"
    },
    {
     "data": {
      "image/png": "[encoded data removed]",
      "text/plain": [
       "<Figure size 640x480 with 1 Axes>"
      ]
     },
     "metadata": {},
     "output_type": "display_data"
    }
   ],
   "source": [
    "plt.plot(lr)"
   ]
  },
  {
   "cell_type": "code",
   "execution_count": 17,
   "id": "8d91eae5",
   "metadata": {
    "execution": {
     "iopub.execute_input": "2024-04-12T21:06:30.571037Z",
     "iopub.status.busy": "2024-04-12T21:06:30.570533Z",
     "iopub.status.idle": "2024-04-12T21:06:30.688106Z",
     "shell.execute_reply": "2024-04-12T21:06:30.687445Z"
    },
    "papermill": {
     "duration": 0.126351,
     "end_time": "2024-04-12T21:06:30.689491",
     "exception": false,
     "start_time": "2024-04-12T21:06:30.563140",
     "status": "completed"
    },
    "tags": []
   },
   "outputs": [
    {
     "data": {
      "image/png": "[encoded data removed]",
      "text/plain": [
       "<Figure size 640x480 with 1 Axes>"
      ]
     },
     "metadata": {},
     "output_type": "display_data"
    }
   ],
   "source": [
    "plt.plot(train_loss)\n",
    "plt.plot(eval_loss)\n",
    "plt.plot(eval_accuracy)\n",
    "plt.show()"
   ]
  },
  {
   "cell_type": "code",
   "execution_count": 18,
   "id": "8eabc474",
   "metadata": {
    "execution": {
     "iopub.execute_input": "2024-04-12T21:06:30.704984Z",
     "iopub.status.busy": "2024-04-12T21:06:30.704482Z",
     "iopub.status.idle": "2024-04-12T21:10:33.470621Z",
     "shell.execute_reply": "2024-04-12T21:10:33.469907Z"
    },
    "papermill": {
     "duration": 242.775358,
     "end_time": "2024-04-12T21:10:33.472006",
     "exception": false,
     "start_time": "2024-04-12T21:06:30.696648",
     "status": "completed"
    },
    "tags": []
   },
   "outputs": [
    {
     "data": {
      "text/html": [],
      "text/plain": [
       "<IPython.core.display.HTML object>"
      ]
     },
     "metadata": {},
     "output_type": "display_data"
    },
    {
     "data": {
      "text/html": [],
      "text/plain": [
       "<IPython.core.display.HTML object>"
      ]
     },
     "metadata": {},
     "output_type": "display_data"
    },
    {
     "data": {
      "text/html": [],
      "text/plain": [
       "<IPython.core.display.HTML object>"
      ]
     },
     "metadata": {},
     "output_type": "display_data"
    }
   ],
   "source": [
    "with torch.no_grad():\n",
    "    original_predictions = trainer.predict(tokenized_original_dataset).predictions\n",
    "    original_predictions = torch.nn.functional.softmax(torch.tensor(original_predictions), dim=1)[:,1].numpy()\n",
    "\n",
    "with torch.no_grad():\n",
    "    treated_predictions = trainer.predict(tokenized_treated_dataset).predictions\n",
    "    treated_predictions = torch.nn.functional.softmax(torch.tensor(treated_predictions), dim=1)[:,1].numpy()\n",
    "\n",
    "with torch.no_grad():\n",
    "    control_predictions = trainer.predict(tokenized_control_dataset).predictions\n",
    "    control_predictions = torch.nn.functional.softmax(torch.tensor(control_predictions), dim=1)[:,1].numpy()"
   ]
  },
  {
   "cell_type": "code",
   "execution_count": 19,
   "id": "1fc7a7d6",
   "metadata": {
    "execution": {
     "iopub.execute_input": "2024-04-12T21:10:33.488001Z",
     "iopub.status.busy": "2024-04-12T21:10:33.487781Z",
     "iopub.status.idle": "2024-04-12T21:10:33.495993Z",
     "shell.execute_reply": "2024-04-12T21:10:33.495349Z"
    },
    "papermill": {
     "duration": 0.017746,
     "end_time": "2024-04-12T21:10:33.497356",
     "exception": false,
     "start_time": "2024-04-12T21:10:33.479610",
     "status": "completed"
    },
    "tags": []
   },
   "outputs": [],
   "source": [
    "results = np.hstack((np.array(tokenized_original_dataset['is_train']).reshape(-1,1), original_predictions.reshape(-1,1), treated_predictions.reshape(-1,1), control_predictions.reshape(-1,1) ))"
   ]
  },
  {
   "attachments": {},
   "cell_type": "markdown",
   "id": "071da1ac",
   "metadata": {
    "papermill": {
     "duration": 0.007198,
     "end_time": "2024-04-12T21:10:33.511886",
     "exception": false,
     "start_time": "2024-04-12T21:10:33.504688",
     "status": "completed"
    },
    "tags": []
   },
   "source": [
    "#### **Save Results**"
   ]
  },
  {
   "cell_type": "code",
   "execution_count": 20,
   "id": "94d3f689",
   "metadata": {
    "execution": {
     "iopub.execute_input": "2024-04-12T21:10:33.527394Z",
     "iopub.status.busy": "2024-04-12T21:10:33.527130Z",
     "iopub.status.idle": "2024-04-12T21:10:33.530869Z",
     "shell.execute_reply": "2024-04-12T21:10:33.530251Z"
    },
    "papermill": {
     "duration": 0.013089,
     "end_time": "2024-04-12T21:10:33.532152",
     "exception": false,
     "start_time": "2024-04-12T21:10:33.519063",
     "status": "completed"
    },
    "tags": []
   },
   "outputs": [],
   "source": [
    "np.save(results_folder + f'legal_aid_{seed}.npy', results)"
   ]
  },
  {
   "attachments": {},
   "cell_type": "markdown",
   "id": "eedf4378",
   "metadata": {
    "papermill": {
     "duration": 0.007203,
     "end_time": "2024-04-12T21:10:33.546642",
     "exception": false,
     "start_time": "2024-04-12T21:10:33.539439",
     "status": "completed"
    },
    "tags": []
   },
   "source": [
    "#### **Clean Up**"
   ]
  },
  {
   "cell_type": "code",
   "execution_count": 21,
   "id": "fd15125d",
   "metadata": {
    "execution": {
     "iopub.execute_input": "2024-04-12T21:10:33.562649Z",
     "iopub.status.busy": "2024-04-12T21:10:33.562415Z",
     "iopub.status.idle": "2024-04-12T21:10:34.571224Z",
     "shell.execute_reply": "2024-04-12T21:10:34.570246Z"
    },
    "papermill": {
     "duration": 1.019286,
     "end_time": "2024-04-12T21:10:34.573241",
     "exception": false,
     "start_time": "2024-04-12T21:10:33.553955",
     "status": "completed"
    },
    "tags": []
   },
   "outputs": [
    {
     "name": "stderr",
     "output_type": "stream",
     "text": [
      "huggingface/tokenizers: The current process just got forked, after parallelism has already been used. Disabling parallelism to avoid deadlocks...\n",
      "To disable this warning, you can either:\n",
      "\t- Avoid using `tokenizers` before the fork if possible\n",
      "\t- Explicitly set the environment variable TOKENIZERS_PARALLELISM=(true | false)\n"
     ]
    }
   ],
   "source": [
    "!rm -rf ./test_trainer"
   ]
  }
 ],
 "metadata": {
  "kernelspec": {
   "display_name": "jmp_env",
   "language": "python",
   "name": "python3"
  },
  "language_info": {
   "codemirror_mode": {
    "name": "ipython",
    "version": 3
   },
   "file_extension": ".py",
   "mimetype": "text/x-python",
   "name": "python",
   "nbconvert_exporter": "python",
   "pygments_lexer": "ipython3",
   "version": "3.10.12"
  },
  "papermill": {
   "default_parameters": {},
   "duration": 823.096968,
   "end_time": "2024-04-12T21:10:36.001730",
   "environment_variables": {},
   "exception": null,
   "input_path": "bert_classifier.ipynb",
   "output_path": "g_p_1.ipynb",
   "parameters": {
    "seed": 1
   },
   "start_time": "2024-04-12T20:56:52.904762",
   "version": "2.5.0"
  },
  "widgets": {
   "application/vnd.jupyter.widget-state+json": {
    "state": {
     "1dc8e2191cf84db3949f947588e0c34d": {
      "model_module": "@jupyter-widgets/controls",
      "model_module_version": "2.0.0",
      "model_name": "FloatProgressModel",
      "state": {
       "_dom_classes": [],
       "_model_module": "@jupyter-widgets/controls",
       "_model_module_version": "2.0.0",
       "_model_name": "FloatProgressModel",
       "_view_count": null,
       "_view_module": "@jupyter-widgets/controls",
       "_view_module_version": "2.0.0",
       "_view_name": "ProgressView",
       "bar_style": "success",
       "description": "",
       "description_allow_html": false,
       "layout": "IPY_MODEL_20f519a45f5f4ef5a817c341564ad672",
       "max": 4899.0,
       "min": 0.0,
       "orientation": "horizontal",
       "style": "IPY_MODEL_b1001982c1a342f092ac077e89467e36",
       "tabbable": null,
       "tooltip": null,
       "value": 4899.0
      }
     },
     "20f519a45f5f4ef5a817c341564ad672": {
      "model_module": "@jupyter-widgets/base",
      "model_module_version": "2.0.0",
      "model_name": "LayoutModel",
      "state": {
       "_model_module": "@jupyter-widgets/base",
       "_model_module_version": "2.0.0",
       "_model_name": "LayoutModel",
       "_view_count": null,
       "_view_module": "@jupyter-widgets/base",
       "_view_module_version": "2.0.0",
       "_view_name": "LayoutView",
       "align_content": null,
       "align_items": null,
       "align_self": null,
       "border_bottom": null,
       "border_left": null,
       "border_right": null,
       "border_top": null,
       "bottom": null,
       "display": null,
       "flex": null,
       "flex_flow": null,
       "grid_area": null,
       "grid_auto_columns": null,
       "grid_auto_flow": null,
       "grid_auto_rows": null,
       "grid_column": null,
       "grid_gap": null,
       "grid_row": null,
       "grid_template_areas": null,
       "grid_template_columns": null,
       "grid_template_rows": null,
       "height": null,
       "justify_content": null,
       "justify_items": null,
       "left": null,
       "margin": null,
       "max_height": null,
       "max_width": null,
       "min_height": null,
       "min_width": null,
       "object_fit": null,
       "object_position": null,
       "order": null,
       "overflow": null,
       "padding": null,
       "right": null,
       "top": null,
       "visibility": null,
       "width": null
      }
     },
     "36725d930961423380f9aceb03b52b86": {
      "model_module": "@jupyter-widgets/controls",
      "model_module_version": "2.0.0",
      "model_name": "HTMLModel",
      "state": {
       "_dom_classes": [],
       "_model_module": "@jupyter-widgets/controls",
       "_model_module_version": "2.0.0",
       "_model_name": "HTMLModel",
       "_view_count": null,
       "_view_module": "@jupyter-widgets/controls",
       "_view_module_version": "2.0.0",
       "_view_name": "HTMLView",
       "description": "",
       "description_allow_html": false,
       "layout": "IPY_MODEL_4f19fdcec45b42bc8be3493583795431",
       "placeholder": "​",
       "style": "IPY_MODEL_aeb55723b6664603926594022252efd2",
       "tabbable": null,
       "tooltip": null,
       "value": " 4899/4899 [00:01&lt;00:00, 3796.27 examples/s]"
      }
     },
     "4f19fdcec45b42bc8be3493583795431": {
      "model_module": "@jupyter-widgets/base",
      "model_module_version": "2.0.0",
      "model_name": "LayoutModel",
      "state": {
       "_model_module": "@jupyter-widgets/base",
       "_model_module_version": "2.0.0",
       "_model_name": "LayoutModel",
       "_view_count": null,
       "_view_module": "@jupyter-widgets/base",
       "_view_module_version": "2.0.0",
       "_view_name": "LayoutView",
       "align_content": null,
       "align_items": null,
       "align_self": null,
       "border_bottom": null,
       "border_left": null,
       "border_right": null,
       "border_top": null,
       "bottom": null,
       "display": null,
       "flex": null,
       "flex_flow": null,
       "grid_area": null,
       "grid_auto_columns": null,
       "grid_auto_flow": null,
       "grid_auto_rows": null,
       "grid_column": null,
       "grid_gap": null,
       "grid_row": null,
       "grid_template_areas": null,
       "grid_template_columns": null,
       "grid_template_rows": null,
       "height": null,
       "justify_content": null,
       "justify_items": null,
       "left": null,
       "margin": null,
       "max_height": null,
       "max_width": null,
       "min_height": null,
       "min_width": null,
       "object_fit": null,
       "object_position": null,
       "order": null,
       "overflow": null,
       "padding": null,
       "right": null,
       "top": null,
       "visibility": null,
       "width": null
      }
     },
     "6c9a30fa44ff49b2b1b06cc88b39baf2": {
      "model_module": "@jupyter-widgets/base",
      "model_module_version": "2.0.0",
      "model_name": "LayoutModel",
      "state": {
       "_model_module": "@jupyter-widgets/base",
       "_model_module_version": "2.0.0",
       "_model_name": "LayoutModel",
       "_view_count": null,
       "_view_module": "@jupyter-widgets/base",
       "_view_module_version": "2.0.0",
       "_view_name": "LayoutView",
       "align_content": null,
       "align_items": null,
       "align_self": null,
       "border_bottom": null,
       "border_left": null,
       "border_right": null,
       "border_top": null,
       "bottom": null,
       "display": null,
       "flex": null,
       "flex_flow": null,
       "grid_area": null,
       "grid_auto_columns": null,
       "grid_auto_flow": null,
       "grid_auto_rows": null,
       "grid_column": null,
       "grid_gap": null,
       "grid_row": null,
       "grid_template_areas": null,
       "grid_template_columns": null,
       "grid_template_rows": null,
       "height": null,
       "justify_content": null,
       "justify_items": null,
       "left": null,
       "margin": null,
       "max_height": null,
       "max_width": null,
       "min_height": null,
       "min_width": null,
       "object_fit": null,
       "object_position": null,
       "order": null,
       "overflow": null,
       "padding": null,
       "right": null,
       "top": null,
       "visibility": null,
       "width": null
      }
     },
     "7cfcc1278fc74cebae901665f32f8a81": {
      "model_module": "@jupyter-widgets/controls",
      "model_module_version": "2.0.0",
      "model_name": "HBoxModel",
      "state": {
       "_dom_classes": [],
       "_model_module": "@jupyter-widgets/controls",
       "_model_module_version": "2.0.0",
       "_model_name": "HBoxModel",
       "_view_count": null,
       "_view_module": "@jupyter-widgets/controls",
       "_view_module_version": "2.0.0",
       "_view_name": "HBoxView",
       "box_style": "",
       "children": [
        "IPY_MODEL_c05203e23f24435eb6dfa6c24e755a04",
        "IPY_MODEL_1dc8e2191cf84db3949f947588e0c34d",
        "IPY_MODEL_36725d930961423380f9aceb03b52b86"
       ],
       "layout": "IPY_MODEL_6c9a30fa44ff49b2b1b06cc88b39baf2",
       "tabbable": null,
       "tooltip": null
      }
     },
     "9adeb46ca69d47d2aded5a2ced120d29": {
      "model_module": "@jupyter-widgets/base",
      "model_module_version": "2.0.0",
      "model_name": "LayoutModel",
      "state": {
       "_model_module": "@jupyter-widgets/base",
       "_model_module_version": "2.0.0",
       "_model_name": "LayoutModel",
       "_view_count": null,
       "_view_module": "@jupyter-widgets/base",
       "_view_module_version": "2.0.0",
       "_view_name": "LayoutView",
       "align_content": null,
       "align_items": null,
       "align_self": null,
       "border_bottom": null,
       "border_left": null,
       "border_right": null,
       "border_top": null,
       "bottom": null,
       "display": null,
       "flex": null,
       "flex_flow": null,
       "grid_area": null,
       "grid_auto_columns": null,
       "grid_auto_flow": null,
       "grid_auto_rows": null,
       "grid_column": null,
       "grid_gap": null,
       "grid_row": null,
       "grid_template_areas": null,
       "grid_template_columns": null,
       "grid_template_rows": null,
       "height": null,
       "justify_content": null,
       "justify_items": null,
       "left": null,
       "margin": null,
       "max_height": null,
       "max_width": null,
       "min_height": null,
       "min_width": null,
       "object_fit": null,
       "object_position": null,
       "order": null,
       "overflow": null,
       "padding": null,
       "right": null,
       "top": null,
       "visibility": null,
       "width": null
      }
     },
     "ac7b45aa5e684f608071d482e582e270": {
      "model_module": "@jupyter-widgets/controls",
      "model_module_version": "2.0.0",
      "model_name": "HTMLStyleModel",
      "state": {
       "_model_module": "@jupyter-widgets/controls",
       "_model_module_version": "2.0.0",
       "_model_name": "HTMLStyleModel",
       "_view_count": null,
       "_view_module": "@jupyter-widgets/base",
       "_view_module_version": "2.0.0",
       "_view_name": "StyleView",
       "background": null,
       "description_width": "",
       "font_size": null,
       "text_color": null
      }
     },
     "aeb55723b6664603926594022252efd2": {
      "model_module": "@jupyter-widgets/controls",
      "model_module_version": "2.0.0",
      "model_name": "HTMLStyleModel",
      "state": {
       "_model_module": "@jupyter-widgets/controls",
       "_model_module_version": "2.0.0",
       "_model_name": "HTMLStyleModel",
       "_view_count": null,
       "_view_module": "@jupyter-widgets/base",
       "_view_module_version": "2.0.0",
       "_view_name": "StyleView",
       "background": null,
       "description_width": "",
       "font_size": null,
       "text_color": null
      }
     },
     "b1001982c1a342f092ac077e89467e36": {
      "model_module": "@jupyter-widgets/controls",
      "model_module_version": "2.0.0",
      "model_name": "ProgressStyleModel",
      "state": {
       "_model_module": "@jupyter-widgets/controls",
       "_model_module_version": "2.0.0",
       "_model_name": "ProgressStyleModel",
       "_view_count": null,
       "_view_module": "@jupyter-widgets/base",
       "_view_module_version": "2.0.0",
       "_view_name": "StyleView",
       "bar_color": null,
       "description_width": ""
      }
     },
     "c05203e23f24435eb6dfa6c24e755a04": {
      "model_module": "@jupyter-widgets/controls",
      "model_module_version": "2.0.0",
      "model_name": "HTMLModel",
      "state": {
       "_dom_classes": [],
       "_model_module": "@jupyter-widgets/controls",
       "_model_module_version": "2.0.0",
       "_model_name": "HTMLModel",
       "_view_count": null,
       "_view_module": "@jupyter-widgets/controls",
       "_view_module_version": "2.0.0",
       "_view_name": "HTMLView",
       "description": "",
       "description_allow_html": false,
       "layout": "IPY_MODEL_9adeb46ca69d47d2aded5a2ced120d29",
       "placeholder": "​",
       "style": "IPY_MODEL_ac7b45aa5e684f608071d482e582e270",
       "tabbable": null,
       "tooltip": null,
       "value": "Map: 100%"
      }
     }
    },
    "version_major": 2,
    "version_minor": 0
   }
  }
 },
 "nbformat": 4,
 "nbformat_minor": 5
}