{
 "cells": [
  {
   "attachments": {},
   "cell_type": "markdown",
   "metadata": {},
   "source": [
    "#### **PyTorch**"
   ]
  },
  {
   "cell_type": "code",
   "execution_count": 1,
   "metadata": {},
   "outputs": [
    {
     "name": "stdout",
     "output_type": "stream",
     "text": [
      "PyTorch Version: 2.2.2+cu121\n",
      "Cude is available: True\n",
      "Device name: NVIDIA A100-SXM4-40GB\n"
     ]
    }
   ],
   "source": [
    "import torch\n",
    "import torch.nn.functional as F\n",
    "print(f\"PyTorch Version: {torch.__version__}\")\n",
    "\n",
    "import torch\n",
    "print(f\"Cude is available: {torch.cuda.is_available()}\")\n",
    "print(f\"Device name: {torch.cuda.get_device_name(0)}\")"
   ]
  },
  {
   "attachments": {},
   "cell_type": "markdown",
   "metadata": {},
   "source": [
    "#### **Import Other Libraries**"
   ]
  },
  {
   "cell_type": "code",
   "execution_count": 2,
   "metadata": {},
   "outputs": [],
   "source": [
    "from datasets import load_dataset \n",
    "from transformers import AutoTokenizer\n",
    "from transformers import AutoModelForCausalLM\n",
    "import numpy as np\n",
    "import evaluate\n",
    "from transformers import TrainingArguments\n",
    "import torch \n",
    "import matplotlib.pyplot as plt \n",
    "from transformers import DataCollatorWithPadding\n",
    "import os \n",
    "from pathlib import Path\n",
    "import random \n",
    "from datasets import Dataset, DatasetDict\n",
    "import warnings\n",
    "from functools import partial\n",
    "from datasets import concatenate_datasets\n",
    "from functools import partial \n",
    "from tqdm import tqdm \n",
    "import textwrap\n",
    "from IPython.display import display\n",
    "from IPython.display import Markdown\n",
    "from trl import SFTTrainer, DataCollatorForCompletionOnlyLM\n",
    "from peft import LoraConfig, get_peft_model \n",
    "from transformers import BitsAndBytesConfig\n",
    "import os \n",
    "os.environ[\"WANDB_DISABLED\"] = \"true\"\n",
    "warnings.filterwarnings('ignore', message='Was asked to gather along dimension 0, but all input tensors were scalars; will instead unsqueeze and return a vector.')"
   ]
  },
  {
   "attachments": {},
   "cell_type": "markdown",
   "metadata": {},
   "source": [
    "#### **Parameters**"
   ]
  },
  {
   "cell_type": "code",
   "execution_count": 3,
   "metadata": {
    "tags": [
     "parameters"
    ]
   },
   "outputs": [],
   "source": [
    "# This cell is tagged with `parameters`\n",
    "model_name = \"google/gemma-1.1-7b-it\" #microsoft/phi-2\" #\"microsoft/phi-2\" #\"#\"meta-llama/Llama-2-7b-chat-hf\" # \"distilbert-base-uncased\" \n",
    "column = 'text_with_prompt'\n",
    "epochs = 1\n",
    "seed = 0\n",
    "verbose = False \n",
    "test_size = 0.5\n",
    "p = 0.0"
   ]
  },
  {
   "attachments": {},
   "cell_type": "markdown",
   "metadata": {},
   "source": [
    "#### **Set Up Path**"
   ]
  },
  {
   "cell_type": "code",
   "execution_count": 4,
   "metadata": {},
   "outputs": [
    {
     "name": "stdout",
     "output_type": "stream",
     "text": [
      "/home/ubuntu/llmft/results/\n"
     ]
    }
   ],
   "source": [
    "results_folder = str(Path(os.getcwd()).parent.parent.absolute())  + '/results/'\n",
    "figures_folder = str(Path(os.getcwd()).parent.parent.absolute())  + '/figures/'\n",
    "print(results_folder)"
   ]
  },
  {
   "cell_type": "code",
   "execution_count": 5,
   "metadata": {},
   "outputs": [
    {
     "name": "stdout",
     "output_type": "stream",
     "text": [
      "Current memory usage:\n",
      "Allocated: 0.0 GB\n",
      "Cached:    0.0 GB\n"
     ]
    }
   ],
   "source": [
    "metric = evaluate.load(\"accuracy\")\n",
    "def compute_metrics(eval_pred):\n",
    "    logits, labels = eval_pred\n",
    "    predictions = np.argmax(logits, axis=-1)\n",
    "    return metric.compute(predictions=predictions, references=labels)\n",
    "\n",
    "### ---         Memory Check\n",
    "def Memory():\n",
    "    print(\"Current memory usage:\")\n",
    "    print('Allocated:', round(torch.cuda.memory_allocated(0)/1024**3,1), 'GB')\n",
    "    print('Cached:   ', round(torch.cuda.memory_reserved(0)/1024**3,1), 'GB')\n",
    "### ---\n",
    "\n",
    "Memory()"
   ]
  },
  {
   "attachments": {},
   "cell_type": "markdown",
   "metadata": {},
   "source": [
    "#### **Qlora**"
   ]
  },
  {
   "cell_type": "code",
   "execution_count": 8,
   "metadata": {},
   "outputs": [
    {
     "name": "stdout",
     "output_type": "stream",
     "text": [
      "torch.float16\n"
     ]
    }
   ],
   "source": [
    "from peft import LoraConfig, get_peft_model \n",
    "from transformers import BitsAndBytesConfig\n",
    "\n",
    "# Activate 4-bit precision base model loading\n",
    "use_4bit = True\n",
    "\n",
    "# Compute dtype for 4-bit base models\n",
    "bnb_4bit_compute_dtype = \"float16\"\n",
    "\n",
    "# Quantization type (fp4 or nf4)\n",
    "bnb_4bit_quant_type = \"nf4\"\n",
    "\n",
    "# Activate nested quantization for 4-bit base models (double quantization)\n",
    "use_nested_quant = True\n",
    "\n",
    "# Load tokenizer and model with QLoRA configuration\n",
    "compute_dtype = getattr(torch, bnb_4bit_compute_dtype)\n",
    "\n",
    "# Enable fp16/bf16 training (set bf16 to True with an A100)\n",
    "fp16 = False\n",
    "bf16 = False\n",
    "\n",
    "# Load tokenizer and model with QLoRA configuration\n",
    "compute_dtype = getattr(torch, bnb_4bit_compute_dtype)\n",
    "print(compute_dtype)\n",
    "\n",
    "bnb_config = BitsAndBytesConfig(\n",
    "    load_in_4bit=use_4bit,\n",
    "    bnb_4bit_quant_type=bnb_4bit_quant_type,\n",
    "    bnb_4bit_compute_dtype=compute_dtype,\n",
    "    bnb_4bit_use_double_quant=use_nested_quant,\n",
    ")\n",
    "\n",
    "# Check GPU compatibility with bfloat16\n",
    "if compute_dtype == torch.float16 and use_4bit:\n",
    "    major, _ = torch.cuda.get_device_capability()\n",
    "    if major >= 8:\n",
    "        print(\"=\" * 80)\n",
    "        print(\"Your GPU supports bfloat16: accelerate training with bf16=True\")\n",
    "        print(\"=\" * 80)\n",
    "\n",
    "peft_config = LoraConfig(\n",
    "    r=32,\n",
    "    lora_alpha=64,\n",
    "    lora_dropout=0.05,\n",
    "    bias=\"none\",\n",
    "    task_type=\"CAUSAL_LM\",\n",
    "    target_modules= [\"Wqkv\", \"out_proj\", \"fc1\", \"fc2\" ] # [\"Wqkv\", \"out_proj\", \"fc1\", \"fc2\" ], - 41M params\n",
    "    # modules_to_save=[\"embed_tokens\",\"lm_head\"] \n",
    ")"
   ]
  },
  {
   "attachments": {},
   "cell_type": "markdown",
   "metadata": {},
   "source": [
    "#### **Instantiate Model**"
   ]
  },
  {
   "cell_type": "code",
   "execution_count": 9,
   "metadata": {},
   "outputs": [
    {
     "data": {
      "application/vnd.jupyter.widget-view+json": {
       "model_id": "fb175217830a4b65b86a2c9bf5f4ab9e",
       "version_major": 2,
       "version_minor": 0
      },
      "text/plain": [
       "Loading checkpoint shards:   0%|          | 0/2 [00:00<?, ?it/s]"
      ]
     },
     "metadata": {},
     "output_type": "display_data"
    },
    {
     "name": "stdout",
     "output_type": "stream",
     "text": [
      "GenerationConfig {\n",
      "  \"bos_token_id\": 50256,\n",
      "  \"eos_token_id\": 50256\n",
      "}\n",
      "\n"
     ]
    }
   ],
   "source": [
    "model = AutoModelForCausalLM.from_pretrained(model_name, \n",
    "                                             device_map=\"auto\", \n",
    "                                             quantization_config=bnb_config, \n",
    "                                             trust_remote_code=True)# So we can do gradient checkpointing\n",
    "print(model.generation_config)\n"
   ]
  },
  {
   "cell_type": "code",
   "execution_count": 10,
   "metadata": {},
   "outputs": [
    {
     "name": "stdout",
     "output_type": "stream",
     "text": [
      "trainable params: 26,214,400 || all params: 2,805,898,240 || trainable%: 0.9342605382581515\n",
      "None\n",
      "Current memory usage:\n",
      "Allocated: 0.3 GB\n",
      "Cached:    0.3 GB\n"
     ]
    }
   ],
   "source": [
    "model.config.use_cache = False\n",
    "model.config.pretraining_tp = 1\n",
    "model.config.gradient_checkpointing = False\n",
    "\n",
    "\n",
    "model = get_peft_model(model, peft_config)\n",
    "print(model.print_trainable_parameters())\n",
    "Memory()"
   ]
  },
  {
   "attachments": {},
   "cell_type": "markdown",
   "metadata": {},
   "source": [
    "#### **Instantiate Tokenizer**"
   ]
  },
  {
   "cell_type": "code",
   "execution_count": 11,
   "metadata": {},
   "outputs": [
    {
     "name": "stderr",
     "output_type": "stream",
     "text": [
      "Special tokens have been added in the vocabulary, make sure the associated word embeddings are fine-tuned or trained.\n"
     ]
    }
   ],
   "source": [
    "tokenizer = AutoTokenizer.from_pretrained(model_name)\n",
    "tokenizer.pad_token_id = tokenizer.eos_token_id \n",
    "tokenizer.padding_side=\"right\"\n",
    "model.config.pad_token_id = tokenizer.eos_token_id # ****I DON'T KNOW WHY WE NEED THIS??***\n",
    "\n",
    "\n",
    "\n",
    "def formatting_prompts_func(example):\n",
    "    # Create a list to store the formatted texts for each item in the example\n",
    "    formatted_texts = []\n",
    "\n",
    "    # Iterate through each example in the batch\n",
    "    for text, raw_label in zip(example[column], example['raw_label']):\n",
    "        # Format each example as a prompt-response pair\n",
    "        formatted_text = f\"{text} {raw_label}\"\n",
    "        formatted_texts.append(formatted_text)\n",
    "\n",
    "    # Return the list of formatted texts\n",
    "    return formatted_texts\n",
    "\n",
    "def single_prompt(example):\n",
    "    return f\"{example[column]} {example['raw_label']}\"\n",
    "\n",
    "\n",
    "def formatting_prompts_func_dict(example):\n",
    "    formatted_texts = []\n",
    "    for text, raw_label in zip(example[column], example['raw_label']):\n",
    "        formatted_text = f\"{text} \"\n",
    "        formatted_texts.append(formatted_text)\n",
    "    return {'formatted_texts': formatted_texts}\n",
    "\n",
    "response_template_with_context = \"\\n\\n    Answer:\"  # We added context here: \"\\n\". This is enough for this tokenizer\n",
    "response_template_ids = tokenizer.encode(response_template_with_context, add_special_tokens=False) # Now we have it like in the dataset texts: `[2277, 29937, 4007, 22137, 29901]`\n",
    "data_collator = DataCollatorForCompletionOnlyLM(response_template_ids, tokenizer=tokenizer)"
   ]
  },
  {
   "attachments": {},
   "cell_type": "markdown",
   "metadata": {},
   "source": [
    "#### **Data set**"
   ]
  },
  {
   "cell_type": "code",
   "execution_count": 12,
   "metadata": {},
   "outputs": [
    {
     "data": {
      "application/vnd.jupyter.widget-view+json": {
       "model_id": "21536a38cde941c3b2cec727728e19f2",
       "version_major": 2,
       "version_minor": 0
      },
      "text/plain": [
       "Downloading readme:   0%|          | 0.00/548 [00:00<?, ?B/s]"
      ]
     },
     "metadata": {},
     "output_type": "display_data"
    },
    {
     "data": {
      "application/vnd.jupyter.widget-view+json": {
       "model_id": "5b118cc3040c49b39542ed88c55aa3a2",
       "version_major": 2,
       "version_minor": 0
      },
      "text/plain": [
       "Downloading data files:   0%|          | 0/1 [00:00<?, ?it/s]"
      ]
     },
     "metadata": {},
     "output_type": "display_data"
    },
    {
     "data": {
      "application/vnd.jupyter.widget-view+json": {
       "model_id": "ebdc1485f5514ea4a87110ca339549f5",
       "version_major": 2,
       "version_minor": 0
      },
      "text/plain": [
       "Downloading data:   0%|          | 0.00/138k [00:00<?, ?B/s]"
      ]
     },
     "metadata": {},
     "output_type": "display_data"
    },
    {
     "data": {
      "application/vnd.jupyter.widget-view+json": {
       "model_id": "5cd42eb15bb441b0aa8a4dc31eb24d90",
       "version_major": 2,
       "version_minor": 0
      },
      "text/plain": [
       "Extracting data files:   0%|          | 0/1 [00:00<?, ?it/s]"
      ]
     },
     "metadata": {},
     "output_type": "display_data"
    },
    {
     "data": {
      "application/vnd.jupyter.widget-view+json": {
       "model_id": "27ae0801cb4540bb9103a6fe9bc72ce4",
       "version_major": 2,
       "version_minor": 0
      },
      "text/plain": [
       "Generating train split:   0%|          | 0/150 [00:00<?, ? examples/s]"
      ]
     },
     "metadata": {},
     "output_type": "display_data"
    }
   ],
   "source": [
    "dataset = load_dataset(f\"ppower1/synthetic_evict_{p}\", split='train', download_mode=\"force_redownload\")\n",
    "\n",
    "\n",
    "# Reshuffle and split the combined dataset with a fixed seed\n",
    "new_splits = dataset.train_test_split(test_size=test_size, seed=seed)  # adjust test_size as needed\n",
    "\n",
    "# Create a new DatasetDict with the shuffled splits\n",
    "reshuffled_dataset = DatasetDict({\n",
    "    'train': new_splits['train'],\n",
    "    'test': new_splits['test']\n",
    "})\n"
   ]
  },
  {
   "attachments": {},
   "cell_type": "markdown",
   "metadata": {},
   "source": [
    "### ****"
   ]
  },
  {
   "cell_type": "code",
   "execution_count": 13,
   "metadata": {},
   "outputs": [],
   "source": [
    "if verbose:\n",
    "    init_results = []\n",
    "    for i in range(150):\n",
    "        input_text = dataset[column][i]\n",
    "        model_inputs = tokenizer(input_text, return_tensors='pt').to('cuda')\n",
    "        greedy_output = model.generate(**model_inputs, max_new_tokens=2)\n",
    "        output_text= tokenizer.decode(greedy_output[0], skip_special_tokens=True)\n",
    "        prediction =  find_first_yes_or_no(output_text[len(input_text):])\n",
    "        target =  dataset['raw_label'][i]\n",
    "        status = prediction == target\n",
    "        if not status:\n",
    "            init_results.append(i)\n",
    "        print(f\" Iter: {i}  | Status: {status}  |   Prediction: {find_first_yes_or_no(output_text[len(input_text):])}   |   Target: {dataset['raw_label'][i]}\")\n",
    "    print(len(init_results)/150)"
   ]
  },
  {
   "cell_type": "code",
   "execution_count": 14,
   "metadata": {},
   "outputs": [],
   "source": [
    "def get_training_args(num_epochs):\n",
    "    return TrainingArguments(\n",
    "    output_dir='./synth_evict',\n",
    "    learning_rate=2e-4,\n",
    "    per_device_train_batch_size=4,\n",
    "    per_device_eval_batch_size=4,\n",
    "    num_train_epochs=num_epochs,\n",
    "    weight_decay=0.01,\n",
    "    load_best_model_at_end=True,\n",
    "    evaluation_strategy=\"epoch\",\n",
    "    logging_strategy=\"epoch\",\n",
    "    save_strategy=\"epoch\",\n",
    "    gradient_checkpointing=False,\n",
    "    gradient_accumulation_steps=4, \n",
    "    lr_scheduler_type='cosine', # NEW \n",
    "    warmup_ratio = 0.1 # NEW \n",
    ")"
   ]
  },
  {
   "cell_type": "code",
   "execution_count": 15,
   "metadata": {},
   "outputs": [
    {
     "name": "stderr",
     "output_type": "stream",
     "text": [
      "Special tokens have been added in the vocabulary, make sure the associated word embeddings are fine-tuned or trained.\n",
      "/home/pharrington19/.pyenv/versions/3.10.0/envs/jmp_env/lib/python3.10/site-packages/trl/trainer/sft_trainer.py:194: UserWarning: You didn't pass a `max_seq_length` argument to the SFTTrainer, this will default to 1024\n",
      "  warnings.warn(\n"
     ]
    },
    {
     "data": {
      "application/vnd.jupyter.widget-view+json": {
       "model_id": "ff6d2f623c61471e850d00c3d4248bf8",
       "version_major": 2,
       "version_minor": 0
      },
      "text/plain": [
       "Map:   0%|          | 0/75 [00:00<?, ? examples/s]"
      ]
     },
     "metadata": {},
     "output_type": "display_data"
    },
    {
     "data": {
      "application/vnd.jupyter.widget-view+json": {
       "model_id": "b165c92dedce47f3a897d48d676afce3",
       "version_major": 2,
       "version_minor": 0
      },
      "text/plain": [
       "Map:   0%|          | 0/75 [00:00<?, ? examples/s]"
      ]
     },
     "metadata": {},
     "output_type": "display_data"
    },
    {
     "name": "stderr",
     "output_type": "stream",
     "text": [
      "You're using a CodeGenTokenizerFast tokenizer. Please note that with a fast tokenizer, using the `__call__` method is faster than using a method to encode the text followed by a call to the `pad` method to get a padded encoding.\n"
     ]
    },
    {
     "data": {
      "text/html": [
       "\n",
       "    <div>\n",
       "      \n",
       "      <progress value='19' max='19' style='width:300px; height:20px; vertical-align: middle;'></progress>\n",
       "      [19/19 00:04]\n",
       "    </div>\n",
       "    "
      ],
      "text/plain": [
       "<IPython.core.display.HTML object>"
      ]
     },
     "metadata": {},
     "output_type": "display_data"
    },
    {
     "name": "stderr",
     "output_type": "stream",
     "text": [
      "Failed to detect the name of this notebook, you can set it manually with the WANDB_NOTEBOOK_NAME environment variable to enable code saving.\n",
      "\u001b[34m\u001b[1mwandb\u001b[0m: Currently logged in as: \u001b[33mppower1\u001b[0m. Use \u001b[1m`wandb login --relogin`\u001b[0m to force relogin\n"
     ]
    },
    {
     "data": {
      "application/vnd.jupyter.widget-view+json": {
       "model_id": "47ed5b6d57e04f0b84d267884776561e",
       "version_major": 2,
       "version_minor": 0
      },
      "text/plain": [
       "VBox(children=(Label(value='Waiting for wandb.init()...\\r'), FloatProgress(value=0.011113289888887974, max=1.0…"
      ]
     },
     "metadata": {},
     "output_type": "display_data"
    },
    {
     "data": {
      "text/html": [
       "wandb version 0.16.3 is available!  To upgrade, please run:\n",
       " $ pip install wandb --upgrade"
      ],
      "text/plain": [
       "<IPython.core.display.HTML object>"
      ]
     },
     "metadata": {},
     "output_type": "display_data"
    },
    {
     "data": {
      "text/html": [
       "Tracking run with wandb version 0.16.0"
      ],
      "text/plain": [
       "<IPython.core.display.HTML object>"
      ]
     },
     "metadata": {},
     "output_type": "display_data"
    },
    {
     "data": {
      "text/html": [
       "Run data is saved locally in <code>/home/pharrington19/Documents/GitHub/gpu/evictions/notebooks/huggingface/experiment1/wandb/run-20240220_104300-9n7mfj31</code>"
      ],
      "text/plain": [
       "<IPython.core.display.HTML object>"
      ]
     },
     "metadata": {},
     "output_type": "display_data"
    },
    {
     "data": {
      "text/html": [
       "Syncing run <strong><a href='https://wandb.ai/ppower1/instrumental_llm/runs/9n7mfj31' target=\"_blank\">luminous-orchid-6</a></strong> to <a href='https://wandb.ai/ppower1/instrumental_llm' target=\"_blank\">Weights & Biases</a> (<a href='https://wandb.me/run' target=\"_blank\">docs</a>)<br/>"
      ],
      "text/plain": [
       "<IPython.core.display.HTML object>"
      ]
     },
     "metadata": {},
     "output_type": "display_data"
    },
    {
     "data": {
      "text/html": [
       " View project at <a href='https://wandb.ai/ppower1/instrumental_llm' target=\"_blank\">https://wandb.ai/ppower1/instrumental_llm</a>"
      ],
      "text/plain": [
       "<IPython.core.display.HTML object>"
      ]
     },
     "metadata": {},
     "output_type": "display_data"
    },
    {
     "data": {
      "text/html": [
       " View run at <a href='https://wandb.ai/ppower1/instrumental_llm/runs/9n7mfj31' target=\"_blank\">https://wandb.ai/ppower1/instrumental_llm/runs/9n7mfj31</a>"
      ],
      "text/plain": [
       "<IPython.core.display.HTML object>"
      ]
     },
     "metadata": {},
     "output_type": "display_data"
    },
    {
     "name": "stdout",
     "output_type": "stream",
     "text": [
      "Initial Training Loss: 0.9375\n"
     ]
    }
   ],
   "source": [
    "# To get the initial training loss\n",
    "trainer = SFTTrainer(\n",
    "    model,   \n",
    "    args=get_training_args(epochs), \n",
    "    train_dataset=reshuffled_dataset['train'],\n",
    "    eval_dataset=reshuffled_dataset['train'],\n",
    "    formatting_func=formatting_prompts_func,\n",
    "    data_collator=data_collator,\n",
    "    )\n",
    "\n",
    "init_train_eval = trainer.evaluate()\n",
    "init_train_loss = init_train_eval['eval_loss']\n",
    "print(f\"Initial Training Loss: {init_train_loss:.4f}\")"
   ]
  },
  {
   "cell_type": "code",
   "execution_count": 16,
   "metadata": {},
   "outputs": [],
   "source": [
    "from transformers import TrainerCallback\n",
    "\n"
   ]
  },
  {
   "cell_type": "code",
   "execution_count": 17,
   "metadata": {},
   "outputs": [],
   "source": [
    "class LLMSampleCB(TrainerCallback):\n",
    "    def __init__(self, trainer, test_dataset, num_samples=10):\n",
    "        super().__init__()\n",
    "        self.sample_dataset = test_dataset.select(range(num_samples))\n",
    "        self.model, self.tokenizer = trainer.model, trainer.tokenizer\n",
    "    \n",
    "    def on_epoch_end(self, args, state, control, **kwargs):\n",
    "        print(\"\\nModel outputs at epoch end:\\n\")\n",
    "        init_results = []\n",
    "        for i in range(len(self.sample_dataset)):\n",
    "            input_text = self.sample_dataset['formatted_texts'][i]\n",
    "            model_inputs = self.tokenizer(input_text, return_tensors='pt').to('cuda')\n",
    "            greedy_output = kwargs['model'].generate(**model_inputs, max_new_tokens=2)\n",
    "            output_text= self.tokenizer.decode(greedy_output[0], skip_special_tokens=True)\n",
    "            prediction =  find_first_yes_or_no(output_text[len(input_text):])\n",
    "            target =  dataset['raw_label'][i]\n",
    "            status = prediction == target\n",
    "            if not status:\n",
    "                init_results.append(i)\n",
    "            print(f\" Iter: {i}  | Status: {status}  |   Prediction: {find_first_yes_or_no(output_text[len(input_text):])}   |   Target: {dataset['raw_label'][i]}\")\n",
    "        print(len(init_results)/150)"
   ]
  },
  {
   "cell_type": "code",
   "execution_count": 18,
   "metadata": {},
   "outputs": [
    {
     "name": "stderr",
     "output_type": "stream",
     "text": [
      "Special tokens have been added in the vocabulary, make sure the associated word embeddings are fine-tuned or trained.\n",
      "/home/pharrington19/.pyenv/versions/3.10.0/envs/jmp_env/lib/python3.10/site-packages/trl/trainer/sft_trainer.py:194: UserWarning: You didn't pass a `max_seq_length` argument to the SFTTrainer, this will default to 1024\n",
      "  warnings.warn(\n"
     ]
    },
    {
     "data": {
      "application/vnd.jupyter.widget-view+json": {
       "model_id": "d8d7b3934b1f41d7991fc265c04a7bcb",
       "version_major": 2,
       "version_minor": 0
      },
      "text/plain": [
       "Map:   0%|          | 0/75 [00:00<?, ? examples/s]"
      ]
     },
     "metadata": {},
     "output_type": "display_data"
    },
    {
     "data": {
      "text/html": [
       "\n",
       "    <div>\n",
       "      \n",
       "      <progress value='20' max='19' style='width:300px; height:20px; vertical-align: middle;'></progress>\n",
       "      [19/19 00:15]\n",
       "    </div>\n",
       "    "
      ],
      "text/plain": [
       "<IPython.core.display.HTML object>"
      ]
     },
     "metadata": {},
     "output_type": "display_data"
    },
    {
     "name": "stdout",
     "output_type": "stream",
     "text": [
      "Initial Evaluation Loss: 1.0259\n"
     ]
    }
   ],
   "source": [
    "# To get the initial training loss\n",
    "trainer = SFTTrainer(\n",
    "    model,   \n",
    "    args=get_training_args(epochs), \n",
    "    train_dataset=reshuffled_dataset['train'],\n",
    "    eval_dataset=reshuffled_dataset['test'],\n",
    "    formatting_func=formatting_prompts_func,\n",
    "    data_collator=data_collator,\n",
    ")\n",
    "\n",
    "init_eval_eval = trainer.evaluate()\n",
    "init_eval_loss = init_eval_eval['eval_loss']\n",
    "print(f\"Initial Evaluation Loss: {init_eval_loss:.4f}\")"
   ]
  },
  {
   "cell_type": "code",
   "execution_count": 19,
   "metadata": {},
   "outputs": [
    {
     "data": {
      "application/vnd.jupyter.widget-view+json": {
       "model_id": "60ead0e8def946c3af448c8ed97544a5",
       "version_major": 2,
       "version_minor": 0
      },
      "text/plain": [
       "Map:   0%|          | 0/75 [00:00<?, ? examples/s]"
      ]
     },
     "metadata": {},
     "output_type": "display_data"
    },
    {
     "data": {
      "application/vnd.jupyter.widget-view+json": {
       "model_id": "4a68f881dde848f28249bbcc24d68e3e",
       "version_major": 2,
       "version_minor": 0
      },
      "text/plain": [
       "Map:   0%|          | 0/75 [00:00<?, ? examples/s]"
      ]
     },
     "metadata": {},
     "output_type": "display_data"
    }
   ],
   "source": [
    "test_dataset = reshuffled_dataset.map(formatting_prompts_func_dict, batched=True)['test']\n",
    "wandb_callback = LLMSampleCB(trainer, test_dataset, num_samples=10)\n",
    "trainer.add_callback(wandb_callback)\n"
   ]
  },
  {
   "cell_type": "code",
   "execution_count": 20,
   "metadata": {},
   "outputs": [
    {
     "data": {
      "text/html": [
       "\n",
       "    <div>\n",
       "      \n",
       "      <progress value='4' max='4' style='width:300px; height:20px; vertical-align: middle;'></progress>\n",
       "      [4/4 00:13, Epoch 0/1]\n",
       "    </div>\n",
       "    <table border=\"1\" class=\"dataframe\">\n",
       "  <thead>\n",
       " <tr style=\"text-align: left;\">\n",
       "      <th>Epoch</th>\n",
       "      <th>Training Loss</th>\n",
       "      <th>Validation Loss</th>\n",
       "    </tr>\n",
       "  </thead>\n",
       "  <tbody>\n",
       "    <tr>\n",
       "      <td>0</td>\n",
       "      <td>0.744400</td>\n",
       "      <td>0.246928</td>\n",
       "    </tr>\n",
       "  </tbody>\n",
       "</table><p>"
      ],
      "text/plain": [
       "<IPython.core.display.HTML object>"
      ]
     },
     "metadata": {},
     "output_type": "display_data"
    },
    {
     "name": "stdout",
     "output_type": "stream",
     "text": [
      "\n",
      "Model outputs at epoch end:\n",
      "\n"
     ]
    },
    {
     "name": "stderr",
     "output_type": "stream",
     "text": [
      "/home/pharrington19/.pyenv/versions/3.10.0/envs/jmp_env/lib/python3.10/site-packages/transformers/generation/utils.py:1518: UserWarning: You have modified the pretrained model configuration to control generation. This is a deprecated strategy to control generation and will be removed soon, in a future version. Please use and modify the model generation configuration (see https://huggingface.co/docs/transformers/generation_strategies#default-text-generation-configuration )\n",
      "  warnings.warn(\n"
     ]
    },
    {
     "name": "stdout",
     "output_type": "stream",
     "text": [
      " Iter: 0  | Status: False  |   Prediction: None   |   Target: No\n",
      " Iter: 1  | Status: False  |   Prediction: None   |   Target: No\n",
      " Iter: 2  | Status: False  |   Prediction: None   |   Target: Yes\n",
      " Iter: 3  | Status: False  |   Prediction: None   |   Target: No\n",
      " Iter: 4  | Status: False  |   Prediction: None   |   Target: No\n",
      " Iter: 5  | Status: False  |   Prediction: None   |   Target: No\n",
      " Iter: 6  | Status: False  |   Prediction: None   |   Target: Yes\n",
      " Iter: 7  | Status: False  |   Prediction: None   |   Target: No\n",
      " Iter: 8  | Status: False  |   Prediction: None   |   Target: No\n",
      " Iter: 9  | Status: False  |   Prediction: None   |   Target: No\n",
      "0.06666666666666667\n"
     ]
    },
    {
     "data": {
      "text/plain": [
       "TrainOutput(global_step=4, training_loss=0.7444037199020386, metrics={'train_runtime': 15.2296, 'train_samples_per_second': 4.925, 'train_steps_per_second': 0.263, 'total_flos': 230142049689600.0, 'train_loss': 0.7444037199020386, 'epoch': 0.84})"
      ]
     },
     "execution_count": 20,
     "metadata": {},
     "output_type": "execute_result"
    }
   ],
   "source": [
    "# Train\n",
    "trainer.train()"
   ]
  },
  {
   "cell_type": "code",
   "execution_count": 62,
   "metadata": {},
   "outputs": [
    {
     "name": "stdout",
     "output_type": "stream",
     "text": [
      "Iter: 0 | Max Prob: 1.0000 | Prob : 0.9989 | Status: True | Prediction: No | Target: No\n",
      "Iter: 1 | Max Prob: 1.0000 | Prob : 1.0000 | Status: True | Prediction: No | Target: No\n",
      "Iter: 2 | Max Prob: 0.5126 | Prob : 0.0018 | Status: True | Prediction: Yes | Target: Yes\n"
     ]
    }
   ],
   "source": [
    "import torch\n",
    "from torch.nn.functional import softmax\n",
    "\n",
    "# Assuming `model` and `tokenizer` are already defined and configured for CUDA as in your setup\n",
    "\n",
    "init_results = []\n",
    "yes_token_id = tokenizer.encode('Yes', add_special_tokens=False)[0]  # Get token ID for 'Yes'\n",
    "\n",
    "for i in range(150):\n",
    "    input_text = dataset[column][i]\n",
    "    model_inputs = tokenizer(input_text, return_tensors='pt').to('cuda')\n",
    "    \n",
    "    # Directly use the model for inference to get logits\n",
    "    with torch.no_grad():\n",
    "        outputs = model(**model_inputs, labels=model_inputs[\"input_ids\"])\n",
    "        logits = outputs.logits  # Assuming you want the logits for the last token for 'Yes'\n",
    "\n",
    "    \n",
    "    # Calculate log probabilities\n",
    "    output_probs = softmax(logits[0, -1, :], dim=0)  # Log probabilities of the last token\n",
    "    \n",
    "    \n",
    "    # Extract log probability of 'Yes'\n",
    "    output_prob = output_probs[yes_token_id].item()  # Log prob of 'Yes'\n",
    "    \n",
    "    # Your existing logic to determine prediction, status, and whether to add to init_results\n",
    "    greedy_output = model.generate(**model_inputs, max_new_tokens=2)\n",
    "    output_text = tokenizer.decode(greedy_output[0], skip_special_tokens=True)\n",
    "    prediction = find_first_yes_or_no(output_text[len(input_text):])\n",
    "    target = dataset['raw_label'][i]\n",
    "    if target == 'No':\n",
    "        output_prob = 1 - output_prob\n",
    "        value =  1.0 - torch.min(output_probs)\n",
    "    else:\n",
    "        value =  torch.max(output_probs)\n",
    "    status = prediction == target\n",
    "\n",
    "    if not status:\n",
    "        init_results.append((i, output_prob))  # Append index and log prob of 'Yes'\n",
    "    print(f\"Iter: {i} | Max Prob: {value:.4f} | Prob : {output_prob:.4f} | Status: {status} | Prediction: {prediction} | Target: {target}\")\n",
    "    if i > 1 :\n",
    "        break   \n",
    "#print(len(init_results)/150)\n"
   ]
  },
  {
   "cell_type": "code",
   "execution_count": 53,
   "metadata": {},
   "outputs": [
    {
     "data": {
      "text/plain": [
       "tensor(0.0011, device='cuda:3')"
      ]
     },
     "execution_count": 53,
     "metadata": {},
     "output_type": "execute_result"
    }
   ],
   "source": [
    "output_probs[yes_token_id]"
   ]
  },
  {
   "cell_type": "code",
   "execution_count": 51,
   "metadata": {},
   "outputs": [
    {
     "data": {
      "text/plain": [
       "tensor(0.6862, device='cuda:3')"
      ]
     },
     "execution_count": 51,
     "metadata": {},
     "output_type": "execute_result"
    }
   ],
   "source": [
    "torch.max(output_probs)"
   ]
  },
  {
   "cell_type": "code",
   "execution_count": 21,
   "metadata": {},
   "outputs": [],
   "source": [
    "steps, train_loss = [0] + [i['step'] for i in trainer.state.log_history if 'loss' in i], [init_train_loss] + [i['loss'] for i in trainer.state.log_history if 'loss' in i]\n",
    "_, eval_loss = [i['step'] for i in trainer.state.log_history if 'eval_loss' in i], [init_eval_loss] + [i['eval_loss'] for i in trainer.state.log_history if 'eval_loss' in i]"
   ]
  },
  {
   "cell_type": "code",
   "execution_count": 22,
   "metadata": {},
   "outputs": [
    {
     "data": {
      "text/plain": [
       "[0.0]"
      ]
     },
     "execution_count": 22,
     "metadata": {},
     "output_type": "execute_result"
    }
   ],
   "source": [
    "[i['learning_rate'] for i in trainer.state.log_history if 'learning_rate' in i]"
   ]
  },
  {
   "cell_type": "code",
   "execution_count": 23,
   "metadata": {},
   "outputs": [
    {
     "data": {
      "text/plain": [
       "[1.0258930921554565, 0.24692779779434204]"
      ]
     },
     "execution_count": 23,
     "metadata": {},
     "output_type": "execute_result"
    }
   ],
   "source": [
    "eval_loss"
   ]
  },
  {
   "cell_type": "code",
   "execution_count": 24,
   "metadata": {},
   "outputs": [
    {
     "data": {
      "image/png": "[encoded data removed]",
      "text/plain": [
       "<Figure size 640x480 with 1 Axes>"
      ]
     },
     "metadata": {},
     "output_type": "display_data"
    }
   ],
   "source": [
    "plt.plot(train_loss, label='Train')\n",
    "plt.plot(eval_loss, label='Test')\n",
    "plt.legend()\n",
    "plt.show()"
   ]
  },
  {
   "cell_type": "code",
   "execution_count": 25,
   "metadata": {},
   "outputs": [],
   "source": [
    "np.save(datafolder + f'synth_evict_steps_causalm.npy', np.array(steps))\n",
    "np.save(datafolder + f'synth_evict_pred_train_loss_causalm_phi2_{column}_{seed}_{p}_{test_size}.npy', np.array(train_loss))\n",
    "np.save(datafolder + f'synth_evict_pred_eval_loss_causalm_phi2_{column}_{seed}_{p}_{test_size}.npy', np.array(eval_loss))"
   ]
  },
  {
   "cell_type": "code",
   "execution_count": null,
   "metadata": {},
   "outputs": [],
   "source": []
  }
 ],
 "metadata": {
  "kernelspec": {
   "display_name": "jmp_env",
   "language": "python",
   "name": "python3"
  },
  "language_info": {
   "codemirror_mode": {
    "name": "ipython",
    "version": 3
   },
   "file_extension": ".py",
   "mimetype": "text/x-python",
   "name": "python",
   "nbconvert_exporter": "python",
   "pygments_lexer": "ipython3",
   "version": "3.10.12"
  },
  "orig_nbformat": 4
 },
 "nbformat": 4,
 "nbformat_minor": 2
}
